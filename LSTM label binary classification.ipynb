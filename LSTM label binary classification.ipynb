{
 "cells": [
  {
   "cell_type": "code",
   "execution_count": 1,
   "id": "41f9e021",
   "metadata": {},
   "outputs": [],
   "source": [
    "import pandas as pd\n",
    "from io import StringIO\n",
    "import io\n",
    "from keras.models import Sequential\n",
    "from keras.layers import LSTM, Dense\n",
    "import numpy as np\n",
    "from sklearn.preprocessing import LabelEncoder"
   ]
  },
  {
   "cell_type": "code",
   "execution_count": 7,
   "id": "570348ab",
   "metadata": {},
   "outputs": [
    {
     "name": "stdout",
     "output_type": "stream",
     "text": [
      "    SubjectID  Feat_1  Feat_2  Feat_X  Label\n",
      "0           0      89      31      43      0\n",
      "1           0      94      32      68      0\n",
      "2           0      38      90      86      0\n",
      "3           0      79      34      78      1\n",
      "4           0      85      24      70      1\n",
      "5           1       7       9      32      0\n",
      "6           1      60      56      72      0\n",
      "7           1      68      72      23      0\n",
      "8           2      26      88       1      0\n",
      "9           3      45      27      22      0\n",
      "10          3      10      80      67      0\n",
      "11          3      71      48      21      0\n",
      "12          3      58       9      60      1\n",
      "\n",
      " [[[ 0. 89. 31. 43.]]\n",
      "\n",
      " [[ 0. 94. 32. 68.]]\n",
      "\n",
      " [[ 0. 38. 90. 86.]]\n",
      "\n",
      " [[ 0. 79. 34. 78.]]\n",
      "\n",
      " [[ 0. 85. 24. 70.]]]\n",
      "Epoch 1/10\n"
     ]
    },
    {
     "name": "stderr",
     "output_type": "stream",
     "text": [
      "C:\\Users\\dnishimoto\\AppData\\Local\\Temp\\ipykernel_14632\\1730081952.py:42: FutureWarning: The frame.append method is deprecated and will be removed from pandas in a future version. Use pandas.concat instead.\n",
      "  df_batch=df_batch.append({'SubjectID':item['SubjectID'],'Feat_1':item['Feat_1'],'Feat_2':item['Feat_2'],'Feat_X':item['Feat_X'],'Label':item['Label']},ignore_index=True)\n",
      "C:\\Users\\dnishimoto\\AppData\\Local\\Temp\\ipykernel_14632\\1730081952.py:42: FutureWarning: The frame.append method is deprecated and will be removed from pandas in a future version. Use pandas.concat instead.\n",
      "  df_batch=df_batch.append({'SubjectID':item['SubjectID'],'Feat_1':item['Feat_1'],'Feat_2':item['Feat_2'],'Feat_X':item['Feat_X'],'Label':item['Label']},ignore_index=True)\n",
      "C:\\Users\\dnishimoto\\AppData\\Local\\Temp\\ipykernel_14632\\1730081952.py:42: FutureWarning: The frame.append method is deprecated and will be removed from pandas in a future version. Use pandas.concat instead.\n",
      "  df_batch=df_batch.append({'SubjectID':item['SubjectID'],'Feat_1':item['Feat_1'],'Feat_2':item['Feat_2'],'Feat_X':item['Feat_X'],'Label':item['Label']},ignore_index=True)\n",
      "C:\\Users\\dnishimoto\\AppData\\Local\\Temp\\ipykernel_14632\\1730081952.py:42: FutureWarning: The frame.append method is deprecated and will be removed from pandas in a future version. Use pandas.concat instead.\n",
      "  df_batch=df_batch.append({'SubjectID':item['SubjectID'],'Feat_1':item['Feat_1'],'Feat_2':item['Feat_2'],'Feat_X':item['Feat_X'],'Label':item['Label']},ignore_index=True)\n",
      "C:\\Users\\dnishimoto\\AppData\\Local\\Temp\\ipykernel_14632\\1730081952.py:42: FutureWarning: The frame.append method is deprecated and will be removed from pandas in a future version. Use pandas.concat instead.\n",
      "  df_batch=df_batch.append({'SubjectID':item['SubjectID'],'Feat_1':item['Feat_1'],'Feat_2':item['Feat_2'],'Feat_X':item['Feat_X'],'Label':item['Label']},ignore_index=True)\n",
      "C:\\Users\\dnishimoto\\AppData\\Local\\Temp\\ipykernel_14632\\1730081952.py:40: FutureWarning: Automatic reindexing on DataFrame vs Series comparisons is deprecated and will raise ValueError in a future version. Do `left, right = left.align(right, axis=1, copy=False)` before e.g. `left == right`\n",
      "  filter=df['SubjectID']==subjectID\n"
     ]
    },
    {
     "name": "stdout",
     "output_type": "stream",
     "text": [
      "1/1 [==============================] - 3s 3s/step - loss: 0.6947 - accuracy: 0.6000\n",
      "Epoch 2/10\n",
      "1/1 [==============================] - 0s 5ms/step - loss: 0.6578 - accuracy: 0.6000\n",
      "Epoch 3/10\n",
      "1/1 [==============================] - 0s 13ms/step - loss: 0.6302 - accuracy: 0.8000\n",
      "Epoch 4/10\n",
      "1/1 [==============================] - 0s 7ms/step - loss: 0.6020 - accuracy: 0.8000\n",
      "Epoch 5/10\n",
      "1/1 [==============================] - 0s 8ms/step - loss: 0.5714 - accuracy: 1.0000\n",
      "Epoch 6/10\n",
      "1/1 [==============================] - 0s 15ms/step - loss: 0.5385 - accuracy: 1.0000\n",
      "Epoch 7/10\n",
      "1/1 [==============================] - 0s 13ms/step - loss: 0.5049 - accuracy: 1.0000\n",
      "Epoch 8/10\n",
      "1/1 [==============================] - 0s 19ms/step - loss: 0.4713 - accuracy: 1.0000\n",
      "Epoch 9/10\n",
      "1/1 [==============================] - 0s 6ms/step - loss: 0.4396 - accuracy: 1.0000\n",
      "Epoch 10/10\n",
      "1/1 [==============================] - 0s 9ms/step - loss: 0.4094 - accuracy: 1.0000\n",
      "\n",
      " [[[ 1.  7.  9. 32.]]\n",
      "\n",
      " [[ 1. 60. 56. 72.]]\n",
      "\n",
      " [[ 1. 68. 72. 23.]]]\n",
      "Epoch 1/10\n"
     ]
    },
    {
     "name": "stderr",
     "output_type": "stream",
     "text": [
      "C:\\Users\\dnishimoto\\AppData\\Local\\Temp\\ipykernel_14632\\1730081952.py:42: FutureWarning: The frame.append method is deprecated and will be removed from pandas in a future version. Use pandas.concat instead.\n",
      "  df_batch=df_batch.append({'SubjectID':item['SubjectID'],'Feat_1':item['Feat_1'],'Feat_2':item['Feat_2'],'Feat_X':item['Feat_X'],'Label':item['Label']},ignore_index=True)\n",
      "C:\\Users\\dnishimoto\\AppData\\Local\\Temp\\ipykernel_14632\\1730081952.py:42: FutureWarning: The frame.append method is deprecated and will be removed from pandas in a future version. Use pandas.concat instead.\n",
      "  df_batch=df_batch.append({'SubjectID':item['SubjectID'],'Feat_1':item['Feat_1'],'Feat_2':item['Feat_2'],'Feat_X':item['Feat_X'],'Label':item['Label']},ignore_index=True)\n",
      "C:\\Users\\dnishimoto\\AppData\\Local\\Temp\\ipykernel_14632\\1730081952.py:42: FutureWarning: The frame.append method is deprecated and will be removed from pandas in a future version. Use pandas.concat instead.\n",
      "  df_batch=df_batch.append({'SubjectID':item['SubjectID'],'Feat_1':item['Feat_1'],'Feat_2':item['Feat_2'],'Feat_X':item['Feat_X'],'Label':item['Label']},ignore_index=True)\n",
      "C:\\Users\\dnishimoto\\AppData\\Local\\Temp\\ipykernel_14632\\1730081952.py:40: FutureWarning: Automatic reindexing on DataFrame vs Series comparisons is deprecated and will raise ValueError in a future version. Do `left, right = left.align(right, axis=1, copy=False)` before e.g. `left == right`\n",
      "  filter=df['SubjectID']==subjectID\n"
     ]
    },
    {
     "name": "stdout",
     "output_type": "stream",
     "text": [
      "1/1 [==============================] - 2s 2s/step - loss: 0.4887 - accuracy: 1.0000\n",
      "Epoch 2/10\n",
      "1/1 [==============================] - 0s 7ms/step - loss: 0.3437 - accuracy: 1.0000\n",
      "Epoch 3/10\n",
      "1/1 [==============================] - 0s 15ms/step - loss: 0.2695 - accuracy: 1.0000\n",
      "Epoch 4/10\n",
      "1/1 [==============================] - 0s 31ms/step - loss: 0.2192 - accuracy: 1.0000\n",
      "Epoch 5/10\n",
      "1/1 [==============================] - 0s 9ms/step - loss: 0.1818 - accuracy: 1.0000\n",
      "Epoch 6/10\n",
      "1/1 [==============================] - 0s 8ms/step - loss: 0.1525 - accuracy: 1.0000\n",
      "Epoch 7/10\n",
      "1/1 [==============================] - 0s 11ms/step - loss: 0.1292 - accuracy: 1.0000\n",
      "Epoch 8/10\n",
      "1/1 [==============================] - 0s 8ms/step - loss: 0.1103 - accuracy: 1.0000\n",
      "Epoch 9/10\n",
      "1/1 [==============================] - 0s 8ms/step - loss: 0.0949 - accuracy: 1.0000\n",
      "Epoch 10/10\n",
      "1/1 [==============================] - 0s 20ms/step - loss: 0.0821 - accuracy: 1.0000\n",
      "\n",
      " [[[ 2. 26. 88.  1.]]]\n",
      "Epoch 1/10\n",
      "1/1 [==============================] - 0s 26ms/step - loss: 0.1253 - accuracy: 1.0000\n",
      "Epoch 2/10\n",
      "1/1 [==============================] - 0s 4ms/step - loss: 0.0840 - accuracy: 1.0000\n",
      "Epoch 3/10\n",
      "1/1 [==============================] - 0s 10ms/step - loss: 0.0652 - accuracy: 1.0000\n",
      "Epoch 4/10\n",
      "1/1 [==============================] - 0s 8ms/step - loss: 0.0537 - accuracy: 1.0000\n",
      "Epoch 5/10\n",
      "1/1 [==============================] - 0s 10ms/step - loss: 0.0456 - accuracy: 1.0000\n",
      "Epoch 6/10\n",
      "1/1 [==============================] - 0s 12ms/step - loss: 0.0395 - accuracy: 1.0000\n",
      "Epoch 7/10\n",
      "1/1 [==============================] - 0s 7ms/step - loss: 0.0348 - accuracy: 1.0000\n",
      "Epoch 8/10\n",
      "1/1 [==============================] - 0s 13ms/step - loss: 0.0309 - accuracy: 1.0000\n",
      "Epoch 9/10\n",
      "1/1 [==============================] - 0s 9ms/step - loss: 0.0277 - accuracy: 1.0000\n",
      "Epoch 10/10\n"
     ]
    },
    {
     "name": "stderr",
     "output_type": "stream",
     "text": [
      "C:\\Users\\dnishimoto\\AppData\\Local\\Temp\\ipykernel_14632\\1730081952.py:42: FutureWarning: The frame.append method is deprecated and will be removed from pandas in a future version. Use pandas.concat instead.\n",
      "  df_batch=df_batch.append({'SubjectID':item['SubjectID'],'Feat_1':item['Feat_1'],'Feat_2':item['Feat_2'],'Feat_X':item['Feat_X'],'Label':item['Label']},ignore_index=True)\n",
      "C:\\Users\\dnishimoto\\AppData\\Local\\Temp\\ipykernel_14632\\1730081952.py:40: FutureWarning: Automatic reindexing on DataFrame vs Series comparisons is deprecated and will raise ValueError in a future version. Do `left, right = left.align(right, axis=1, copy=False)` before e.g. `left == right`\n",
      "  filter=df['SubjectID']==subjectID\n"
     ]
    },
    {
     "name": "stdout",
     "output_type": "stream",
     "text": [
      "1/1 [==============================] - 0s 6ms/step - loss: 0.0250 - accuracy: 1.0000\n",
      "\n",
      " [[[ 3. 45. 27. 22.]]\n",
      "\n",
      " [[ 3. 10. 80. 67.]]\n",
      "\n",
      " [[ 3. 71. 48. 21.]]\n",
      "\n",
      " [[ 3. 58.  9. 60.]]]\n",
      "Epoch 1/10\n",
      "1/1 [==============================] - 0s 14ms/step - loss: 0.2820 - accuracy: 0.7500\n",
      "Epoch 2/10\n",
      "1/1 [==============================] - 0s 14ms/step - loss: 0.1795 - accuracy: 1.0000\n",
      "Epoch 3/10\n",
      "1/1 [==============================] - ETA: 0s - loss: 0.1385 - accuracy: 1.0000"
     ]
    },
    {
     "name": "stderr",
     "output_type": "stream",
     "text": [
      "C:\\Users\\dnishimoto\\AppData\\Local\\Temp\\ipykernel_14632\\1730081952.py:42: FutureWarning: The frame.append method is deprecated and will be removed from pandas in a future version. Use pandas.concat instead.\n",
      "  df_batch=df_batch.append({'SubjectID':item['SubjectID'],'Feat_1':item['Feat_1'],'Feat_2':item['Feat_2'],'Feat_X':item['Feat_X'],'Label':item['Label']},ignore_index=True)\n",
      "C:\\Users\\dnishimoto\\AppData\\Local\\Temp\\ipykernel_14632\\1730081952.py:42: FutureWarning: The frame.append method is deprecated and will be removed from pandas in a future version. Use pandas.concat instead.\n",
      "  df_batch=df_batch.append({'SubjectID':item['SubjectID'],'Feat_1':item['Feat_1'],'Feat_2':item['Feat_2'],'Feat_X':item['Feat_X'],'Label':item['Label']},ignore_index=True)\n",
      "C:\\Users\\dnishimoto\\AppData\\Local\\Temp\\ipykernel_14632\\1730081952.py:42: FutureWarning: The frame.append method is deprecated and will be removed from pandas in a future version. Use pandas.concat instead.\n",
      "  df_batch=df_batch.append({'SubjectID':item['SubjectID'],'Feat_1':item['Feat_1'],'Feat_2':item['Feat_2'],'Feat_X':item['Feat_X'],'Label':item['Label']},ignore_index=True)\n",
      "C:\\Users\\dnishimoto\\AppData\\Local\\Temp\\ipykernel_14632\\1730081952.py:42: FutureWarning: The frame.append method is deprecated and will be removed from pandas in a future version. Use pandas.concat instead.\n",
      "  df_batch=df_batch.append({'SubjectID':item['SubjectID'],'Feat_1':item['Feat_1'],'Feat_2':item['Feat_2'],'Feat_X':item['Feat_X'],'Label':item['Label']},ignore_index=True)\n",
      "C:\\Users\\dnishimoto\\AppData\\Local\\Temp\\ipykernel_14632\\1730081952.py:40: FutureWarning: Automatic reindexing on DataFrame vs Series comparisons is deprecated and will raise ValueError in a future version. Do `left, right = left.align(right, axis=1, copy=False)` before e.g. `left == right`\n",
      "  filter=df['SubjectID']==subjectID\n"
     ]
    },
    {
     "name": "stdout",
     "output_type": "stream",
     "text": [
      "1/1 [==============================] - 0s 20ms/step - loss: 0.1385 - accuracy: 1.0000\n",
      "Epoch 4/10\n",
      "1/1 [==============================] - 0s 11ms/step - loss: 0.1136 - accuracy: 1.0000\n",
      "Epoch 5/10\n",
      "1/1 [==============================] - 0s 5ms/step - loss: 0.0961 - accuracy: 1.0000\n",
      "Epoch 6/10\n",
      "1/1 [==============================] - 0s 12ms/step - loss: 0.0831 - accuracy: 1.0000\n",
      "Epoch 7/10\n",
      "1/1 [==============================] - 0s 18ms/step - loss: 0.0729 - accuracy: 1.0000\n",
      "Epoch 8/10\n",
      "1/1 [==============================] - 0s 7ms/step - loss: 0.0646 - accuracy: 1.0000\n",
      "Epoch 9/10\n",
      "1/1 [==============================] - 0s 25ms/step - loss: 0.0577 - accuracy: 1.0000\n",
      "Epoch 10/10\n",
      "1/1 [==============================] - 0s 13ms/step - loss: 0.0518 - accuracy: 1.0000\n"
     ]
    }
   ],
   "source": [
    "data=\"\"\"SubjectID,Feat_1,Feat_2,Feat_X,Hr_count,Label\n",
    "s0001,89,31,43,1,0\n",
    "s0001,94,32,68,2,0\n",
    "s0001,38,90,86,3,0\n",
    "s0001,79,34,78,4,1\n",
    "s0001,85,24,70,5,1\n",
    "s0002,7 ,9 ,32,1,0\n",
    "s0002,60,56,72,2,0\n",
    "s0002,68,72,23,3,0\n",
    "s0003,26,88,1 ,1,0\n",
    "s0004,45,27,22,1,0\n",
    "s0004,10,80,67,2,0\n",
    "s0004,71,48,21,3,0\n",
    "s0004,58,9 ,60,4,1\n",
    "\"\"\"\n",
    "\n",
    "df=pd.read_csv(io.StringIO(data),sep=\",\")\n",
    "df.drop(columns='Hr_count',inplace=True)\n",
    "encoder=LabelEncoder()\n",
    "df['SubjectID']=encoder.fit_transform(df['SubjectID'])\n",
    "\n",
    "print(df)\n",
    "\n",
    "X_columns=[x for x in df.columns if x!='Label']\n",
    "features=len(X_columns)\n",
    "model = Sequential()\n",
    "model.add(LSTM(100, activation='tanh', return_sequences=True, input_shape=(1, features)))\n",
    "model.add(LSTM(49, activation='tanh'))\n",
    "model.add(Dense(1, activation='sigmoid'))\n",
    "history=model.compile(optimizer=\"rmsprop\", loss='binary_crossentropy', metrics=['accuracy'])\n",
    "\n",
    "\n",
    "grouped=df.groupby('SubjectID')\n",
    "\n",
    "\n",
    "\n",
    "for group in grouped:\n",
    "    df_batch=pd.DataFrame(columns=['SubjectID','Feat_1','Feat_2','Feat_X','Hr_count','Label'])\n",
    "    for subjectID in group:\n",
    "        filter=df['SubjectID']==subjectID \n",
    "        for key,item in df[filter].dropna().iterrows():\n",
    "            df_batch=df_batch.append({'SubjectID':item['SubjectID'],'Feat_1':item['Feat_1'],'Feat_2':item['Feat_2'],'Feat_X':item['Feat_X'],'Label':item['Label']},ignore_index=True)\n",
    "    #print(\"\\n\",df_batch)\n",
    "    X=df_batch[X_columns]\n",
    "    X = np.asarray(X).astype(np.float32)\n",
    "    X = np.resize(X,(X.shape[0],1,X.shape[1]))\n",
    "    y=df_batch['Label']\n",
    "    y = np.asarray(y).astype(np.float32)\n",
    "    print(\"\\n\",X)\n",
    "    model.fit(X,y,batch_size=len(X), \n",
    "          epochs=10)"
   ]
  },
  {
   "cell_type": "code",
   "execution_count": null,
   "id": "f9a2d2e1",
   "metadata": {},
   "outputs": [],
   "source": [
    "c"
   ]
  },
  {
   "cell_type": "code",
   "execution_count": null,
   "id": "fb5fa661",
   "metadata": {},
   "outputs": [],
   "source": []
  }
 ],
 "metadata": {
  "kernelspec": {
   "display_name": "Python 3 (ipykernel)",
   "language": "python",
   "name": "python3"
  },
  "language_info": {
   "codemirror_mode": {
    "name": "ipython",
    "version": 3
   },
   "file_extension": ".py",
   "mimetype": "text/x-python",
   "name": "python",
   "nbconvert_exporter": "python",
   "pygments_lexer": "ipython3",
   "version": "3.8.13"
  }
 },
 "nbformat": 4,
 "nbformat_minor": 5
}
