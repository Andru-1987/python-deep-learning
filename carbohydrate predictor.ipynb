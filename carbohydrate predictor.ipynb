{
 "cells": [
  {
   "cell_type": "code",
   "execution_count": 28,
   "id": "61c3fce6",
   "metadata": {},
   "outputs": [],
   "source": [
    "import pandas as pd\n",
    "import numpy as np\n",
    "from sklearn.preprocessing import LabelEncoder\n",
    "import arviz as az\n",
    "#try:\n",
    "#    np.distutils.__config__.blas_opt_info = np.distutils.__config__.blas_ilp64_opt_info\n",
    "#except Exception:\n",
    "#    pass\n",
    "import matplotlib.pyplot as plt\n",
    "from statsmodels.formula.api import glm\n",
    "import statsmodels.api as sm\n",
    "import seaborn as sns"
   ]
  },
  {
   "cell_type": "code",
   "execution_count": 3,
   "id": "f591797c",
   "metadata": {},
   "outputs": [
    {
     "name": "stdout",
     "output_type": "stream",
     "text": [
      "   Unnamed: 0                Cereal Name    Manufacturer Type  Calories  \\\n",
      "0           0                  100%_Bran         Nabisco    C        70   \n",
      "1           1          100%_Natural_Bran     Quaker Oats    C       120   \n",
      "2           2                   All-Bran        Kelloggs    C        70   \n",
      "3           3  All-Bran_with_Extra_Fiber        Kelloggs    C        50   \n",
      "4           4             Almond_Delight  Ralston Purina    C       110   \n",
      "\n",
      "   Protein (g)  Fat  Sodium  Dietary Fiber  Carbs  Sugars  Display Shelf  \\\n",
      "0            4    1     130           10.0    5.0       6              3   \n",
      "1            3    5      15            2.0    8.0       8              3   \n",
      "2            4    1     260            9.0    7.0       5              3   \n",
      "3            4    0     140           14.0    8.0       0              3   \n",
      "4            2    2     200            1.0   14.0       8              3   \n",
      "\n",
      "   Potassium  Vitamins and Minerals  Serving Size Weight  Cups per Serving  \\\n",
      "0        280                     25                  1.0              0.33   \n",
      "1        135                      0                  1.0             -1.00   \n",
      "2        320                     25                  1.0              0.33   \n",
      "3        330                     25                  1.0              0.50   \n",
      "4         -1                     25                  1.0              0.75   \n",
      "\n",
      "   Cereal_Name  \n",
      "0            0  \n",
      "1            1  \n",
      "2            2  \n",
      "3            3  \n",
      "4            4  \n"
     ]
    }
   ],
   "source": [
    "#df=pd.read_csv(\"https://gist.githubusercontent.com/lisawilliams/a91ffcea96ac3af9500bbf6b92f1408e/raw/728e9b2e4fb0da2baa34e2da2a9d732d74b484ab/cereal.csv\")\n",
    "#df.to_csv(\"cereal.csv\")\n",
    "df=pd.read_csv(\"cereal.csv\")\n",
    "\n",
    "column_name=\"Cereal Name\"\n",
    "#df[column_name] = df[column_name].astype('category')\n",
    "#df[column_name] = df[column_name].cat.categories\n",
    "\n",
    "le = LabelEncoder()\n",
    "df[\"Cereal_Name\"] = le.fit_transform(df[column_name])\n",
    "\n",
    "print(df.head())\n"
   ]
  },
  {
   "cell_type": "code",
   "execution_count": 52,
   "id": "5b11b56f",
   "metadata": {},
   "outputs": [
    {
     "name": "stderr",
     "output_type": "stream",
     "text": [
      "C:\\Users\\dnishimoto\\Anaconda3\\envs\\deeplearning\\lib\\site-packages\\statsmodels\\genmod\\generalized_linear_model.py:1767: RuntimeWarning: invalid value encountered in double_scalars\n",
      "  prsq = 1 - np.exp((self.llnull - self.llf) * (2 / self.nobs))\n",
      "C:\\Users\\dnishimoto\\Anaconda3\\envs\\deeplearning\\lib\\site-packages\\seaborn\\_decorators.py:36: FutureWarning: Pass the following variables as keyword args: x, y. From version 0.12, the only valid positional argument will be `data`, and passing other arguments without an explicit keyword will result in an error or misinterpretation.\n",
      "  warnings.warn(\n",
      "C:\\Users\\dnishimoto\\Anaconda3\\envs\\deeplearning\\lib\\site-packages\\seaborn\\_decorators.py:36: FutureWarning: Pass the following variables as keyword args: x, y. From version 0.12, the only valid positional argument will be `data`, and passing other arguments without an explicit keyword will result in an error or misinterpretation.\n",
      "  warnings.warn(\n",
      "C:\\Users\\dnishimoto\\Anaconda3\\envs\\deeplearning\\lib\\site-packages\\seaborn\\_decorators.py:36: FutureWarning: Pass the following variables as keyword args: x, y. From version 0.12, the only valid positional argument will be `data`, and passing other arguments without an explicit keyword will result in an error or misinterpretation.\n",
      "  warnings.warn(\n"
     ]
    },
    {
     "name": "stdout",
     "output_type": "stream",
     "text": [
      "                 Generalized Linear Model Regression Results                  \n",
      "==============================================================================\n",
      "Dep. Variable:                  Carbs   No. Observations:                   74\n",
      "Model:                            GLM   Df Residuals:                       71\n",
      "Model Family:                 Poisson   Df Model:                            2\n",
      "Link Function:                    Log   Scale:                          1.0000\n",
      "Method:                          IRLS   Log-Likelihood:                   -inf\n",
      "Date:                Wed, 22 Feb 2023   Deviance:                       163.45\n",
      "Time:                        15:19:02   Pearson chi2:                     73.6\n",
      "No. Iterations:                     5   Pseudo R-squ. (CS):                nan\n",
      "Covariance Type:            nonrobust                                         \n",
      "==============================================================================\n",
      "                 coef    std err          z      P>|z|      [0.025      0.975]\n",
      "------------------------------------------------------------------------------\n",
      "Intercept      2.8807      0.056     51.698      0.000       2.771       2.990\n",
      "Fat           -0.0934      0.035     -2.682      0.007      -0.162      -0.025\n",
      "Sugars        -0.0178      0.007     -2.507      0.012      -0.032      -0.004\n",
      "==============================================================================\n",
      "Carbs mean 14.594594594594595\n"
     ]
    },
    {
     "data": {
      "image/png": "[encoded data removed]",
      "text/plain": [
       "<Figure size 432x288 with 1 Axes>"
      ]
     },
     "metadata": {
      "needs_background": "light"
     },
     "output_type": "display_data"
    },
    {
     "name": "stdout",
     "output_type": "stream",
     "text": [
      "Sugars are a strong indicator of the carbohydrate count\n"
     ]
    }
   ],
   "source": [
    "formula=\"Carbs ~ Fat + Sugars\"\n",
    "df[\"Carbs\"]=df[\"Carbs\"].astype(float)\n",
    "df[\"Fat\"]=df[\"Fat\"].astype(int)\n",
    "df[\"Sugars\"]=df[\"Sugars\"].astype(int)\n",
    "\n",
    "\n",
    "columns=[\"Carbs\",\"Fat\",\"Sugars\"]\n",
    "#sm.families.Binomial, sm.families.links.logit\n",
    "model=sm.GLM.from_formula(formula, data=df[columns],family = sm.families.Poisson()).fit()\n",
    "\n",
    "print(model.summary())\n",
    "print(\"Carbs mean\",df[\"Carbs\"].mean())\n",
    "    # create a trace file\n",
    "trace = model.get_influence().summary_frame()\n",
    "\n",
    "intercept_mean=model.params[\"Intercept\"]\n",
    "fat_mean=model.params[\"Fat\"]\n",
    "sugar_mean=model.params[\"Sugars\"]\n",
    "\n",
    "\n",
    "df[\"Fit_Values\"]=model.fittedvalues\n",
    "\n",
    "sns.scatterplot('Sugars','Fit_Values',\n",
    "    data=df,\n",
    "    color='red',\n",
    "    label='Poisson')\n",
    "\n",
    "\n",
    "sns.regplot('Fat','Carbs',\n",
    "data=df,\n",
    "fit_reg=True,\n",
    "#y_jitter=0.3,\n",
    "line_kws={'color':'blue',\n",
    "'label':'LM fit'})\n",
    "\n",
    "sns.regplot('Sugars','Carbs',\n",
    "data=df,\n",
    "fit_reg=True,\n",
    "#y_jitter=0.3,\n",
    "line_kws={'color':'green',\n",
    "'label':'LM fit'})\n",
    "\n",
    "plt.show()\n",
    "\n",
    "print(\"Sugars are a strong indicator of the carbohydrate count\")\n",
    "\n",
    "\n",
    "#varnames=None\n",
    "#if varnames is None:\n",
    "#    varnames = ['X_%i' % i for i in range(trace.shape[1])]\n",
    "#fig, ax = plt.subplots(figsize=(12, len(varnames) * 2.5 + 2.5))\n",
    "\n",
    "#intercept_mean = np.mean(trace.get_values(\"Intercept\")) \n",
    "#fat_mean = np.mean(trace.get_values(\"Fat\")) \n",
    "#sugars_mean = np.mean(trace.get_values(\"Sugars\")) \n",
    "#cereal_name_mean = np.mean(trace.get_values(\"Cereal_Name\")) \n",
    "#sd_mean = np.mean(trace.get_values(\"sd\")) "
   ]
  },
  {
   "cell_type": "code",
   "execution_count": null,
   "id": "f5cabbd1",
   "metadata": {},
   "outputs": [],
   "source": []
  }
 ],
 "metadata": {
  "kernelspec": {
   "display_name": "Python 3 (ipykernel)",
   "language": "python",
   "name": "python3"
  },
  "language_info": {
   "codemirror_mode": {
    "name": "ipython",
    "version": 3
   },
   "file_extension": ".py",
   "mimetype": "text/x-python",
   "name": "python",
   "nbconvert_exporter": "python",
   "pygments_lexer": "ipython3",
   "version": "3.8.13"
  }
 },
 "nbformat": 4,
 "nbformat_minor": 5
}
