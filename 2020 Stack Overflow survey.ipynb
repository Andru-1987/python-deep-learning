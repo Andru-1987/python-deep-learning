{
 "cells": [
  {
   "cell_type": "code",
   "execution_count": 24,
   "metadata": {},
   "outputs": [],
   "source": [
    "import pandas as pd\n",
    "import matplotlib.pyplot as plt\n",
    "import numpy as np"
   ]
  },
  {
   "cell_type": "code",
   "execution_count": 11,
   "metadata": {},
   "outputs": [],
   "source": [
    "df=pd.read_csv(\"stackoverflow_survey_2020.csv\")"
   ]
  },
  {
   "cell_type": "code",
   "execution_count": 12,
   "metadata": {},
   "outputs": [
    {
     "name": "stdout",
     "output_type": "stream",
     "text": [
      "Index(['Respondent', 'MainBranch', 'Hobbyist', 'Age', 'Age1stCode', 'CompFreq',\n",
      "       'CompTotal', 'ConvertedComp', 'Country', 'CurrencyDesc',\n",
      "       'CurrencySymbol', 'DatabaseDesireNextYear', 'DatabaseWorkedWith',\n",
      "       'DevType', 'EdLevel', 'Employment', 'Ethnicity', 'Gender', 'JobFactors',\n",
      "       'JobSat', 'JobSeek', 'LanguageDesireNextYear', 'LanguageWorkedWith',\n",
      "       'MiscTechDesireNextYear', 'MiscTechWorkedWith',\n",
      "       'NEWCollabToolsDesireNextYear', 'NEWCollabToolsWorkedWith', 'NEWDevOps',\n",
      "       'NEWDevOpsImpt', 'NEWEdImpt', 'NEWJobHunt', 'NEWJobHuntResearch',\n",
      "       'NEWLearn', 'NEWOffTopic', 'NEWOnboardGood', 'NEWOtherComms',\n",
      "       'NEWOvertime', 'NEWPurchaseResearch', 'NEWPurpleLink', 'NEWSOSites',\n",
      "       'NEWStuck', 'OpSys', 'OrgSize', 'PlatformDesireNextYear',\n",
      "       'PlatformWorkedWith', 'PurchaseWhat', 'Sexuality', 'SOAccount',\n",
      "       'SOComm', 'SOPartFreq', 'SOVisitFreq', 'SurveyEase', 'SurveyLength',\n",
      "       'Trans', 'UndergradMajor', 'WebframeDesireNextYear',\n",
      "       'WebframeWorkedWith', 'WelcomeChange', 'WorkWeekHrs', 'YearsCode',\n",
      "       'YearsCodePro'],\n",
      "      dtype='object')\n",
      "   Respondent                                         MainBranch Hobbyist  \\\n",
      "0           1                     I am a developer by profession      Yes   \n",
      "1           2                     I am a developer by profession       No   \n",
      "2           3                        I code primarily as a hobby      Yes   \n",
      "3           4                     I am a developer by profession      Yes   \n",
      "4           5  I used to be a developer by profession, but no...      Yes   \n",
      "\n",
      "    Age Age1stCode CompFreq  CompTotal  ConvertedComp             Country  \\\n",
      "0   NaN         13  Monthly        NaN            NaN             Germany   \n",
      "1   NaN         19      NaN        NaN            NaN      United Kingdom   \n",
      "2   NaN         15      NaN        NaN            NaN  Russian Federation   \n",
      "3  25.0         18      NaN        NaN            NaN             Albania   \n",
      "4  31.0         16      NaN        NaN            NaN       United States   \n",
      "\n",
      "     CurrencyDesc  ...                  SurveyEase           SurveyLength  \\\n",
      "0   European Euro  ...  Neither easy nor difficult  Appropriate in length   \n",
      "1  Pound sterling  ...                         NaN                    NaN   \n",
      "2             NaN  ...  Neither easy nor difficult  Appropriate in length   \n",
      "3    Albanian lek  ...                         NaN                    NaN   \n",
      "4             NaN  ...                        Easy              Too short   \n",
      "\n",
      "  Trans                                     UndergradMajor  \\\n",
      "0    No  Computer science, computer engineering, or sof...   \n",
      "1   NaN  Computer science, computer engineering, or sof...   \n",
      "2   NaN                                                NaN   \n",
      "3    No  Computer science, computer engineering, or sof...   \n",
      "4    No  Computer science, computer engineering, or sof...   \n",
      "\n",
      "  WebframeDesireNextYear    WebframeWorkedWith  \\\n",
      "0           ASP.NET Core  ASP.NET;ASP.NET Core   \n",
      "1                    NaN                   NaN   \n",
      "2                    NaN                   NaN   \n",
      "3                    NaN                   NaN   \n",
      "4   Django;Ruby on Rails         Ruby on Rails   \n",
      "\n",
      "                              WelcomeChange WorkWeekHrs YearsCode YearsCodePro  \n",
      "0   Just as welcome now as I felt last year        50.0        36           27  \n",
      "1  Somewhat more welcome now than last year         NaN         7            4  \n",
      "2  Somewhat more welcome now than last year         NaN         4          NaN  \n",
      "3  Somewhat less welcome now than last year        40.0         7            4  \n",
      "4   Just as welcome now as I felt last year         NaN        15            8  \n",
      "\n",
      "[5 rows x 61 columns]\n"
     ]
    }
   ],
   "source": [
    "print(df.columns)\n",
    "print(df.head(5))"
   ]
  },
  {
   "cell_type": "code",
   "execution_count": 29,
   "metadata": {},
   "outputs": [
    {
     "data": {
      "image/png": "[encoded data removed]",
      "text/plain": [
       "<Figure size 432x288 with 1 Axes>"
      ]
     },
     "metadata": {
      "needs_background": "light"
     },
     "output_type": "display_data"
    }
   ],
   "source": [
    "df['YearsCode']=df['YearsCode'].fillna('0')\n",
    "df['YearsCode']=pd.to_numeric(df['YearsCode'],errors='coerce')\n",
    "#print(df['YearsCode'])\n",
    "\n",
    "\n",
    "plt.hist(df['YearsCode'],bins=20)\n",
    "plt.xlabel(\"Years Coding\")\n",
    "plt.show()\n",
    "\n",
    "      "
   ]
  },
  {
   "cell_type": "code",
   "execution_count": 64,
   "metadata": {},
   "outputs": [
    {
     "data": {
      "image/png": "[encoded data removed]",
      "text/plain": [
       "<Figure size 432x288 with 1 Axes>"
      ]
     },
     "metadata": {
      "needs_background": "light"
     },
     "output_type": "display_data"
    }
   ],
   "source": [
    "years_bins = pd.IntervalIndex.from_tuples([(0, 3), (4, 6),(7,10), (11, 20),(21,30), (31,50)])\n",
    "    \n",
    "out=pd.cut(df['YearsCode'],bins=years_bins,labels=['0-3','4-6','7-10','11-20','21-30','31-50'])\n",
    "\n",
    "YearsCodingRange=df.groupby(out)['YearsCode'].count()\n",
    "\n",
    "fig, ax = plt.subplots()\n",
    "ax = out.value_counts(sort=False).plot.barh(rot=0, color=\"b\", figsize=(6,4))\n",
    "#ax.ylabel('Years of Coding Experience')\n",
    "plt.show()"
   ]
  },
  {
   "cell_type": "code",
   "execution_count": null,
   "metadata": {},
   "outputs": [],
   "source": []
  }
 ],
 "metadata": {
  "kernelspec": {
   "display_name": "Python 3",
   "language": "python",
   "name": "python3"
  },
  "language_info": {
   "codemirror_mode": {
    "name": "ipython",
    "version": 3
   },
   "file_extension": ".py",
   "mimetype": "text/x-python",
   "name": "python",
   "nbconvert_exporter": "python",
   "pygments_lexer": "ipython3",
   "version": "3.7.7"
  }
 },
 "nbformat": 4,
 "nbformat_minor": 4
}
