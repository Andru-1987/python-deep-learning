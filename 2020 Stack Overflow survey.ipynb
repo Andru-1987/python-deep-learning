{
 "cells": [
  {
   "cell_type": "code",
   "execution_count": 1,
   "metadata": {},
   "outputs": [],
   "source": [
    "import pandas as pd\n",
    "import matplotlib.pyplot as plt\n",
    "import numpy as np"
   ]
  },
  {
   "cell_type": "code",
   "execution_count": 2,
   "metadata": {},
   "outputs": [],
   "source": [
    "df=pd.read_csv(\"stackoverflow_survey_2020.csv\")"
   ]
  },
  {
   "cell_type": "code",
   "execution_count": 3,
   "metadata": {},
   "outputs": [
    {
     "name": "stdout",
     "output_type": "stream",
     "text": [
      "Index(['Respondent', 'MainBranch', 'Hobbyist', 'Age', 'Age1stCode', 'CompFreq',\n",
      "       'CompTotal', 'ConvertedComp', 'Country', 'CurrencyDesc',\n",
      "       'CurrencySymbol', 'DatabaseDesireNextYear', 'DatabaseWorkedWith',\n",
      "       'DevType', 'EdLevel', 'Employment', 'Ethnicity', 'Gender', 'JobFactors',\n",
      "       'JobSat', 'JobSeek', 'LanguageDesireNextYear', 'LanguageWorkedWith',\n",
      "       'MiscTechDesireNextYear', 'MiscTechWorkedWith',\n",
      "       'NEWCollabToolsDesireNextYear', 'NEWCollabToolsWorkedWith', 'NEWDevOps',\n",
      "       'NEWDevOpsImpt', 'NEWEdImpt', 'NEWJobHunt', 'NEWJobHuntResearch',\n",
      "       'NEWLearn', 'NEWOffTopic', 'NEWOnboardGood', 'NEWOtherComms',\n",
      "       'NEWOvertime', 'NEWPurchaseResearch', 'NEWPurpleLink', 'NEWSOSites',\n",
      "       'NEWStuck', 'OpSys', 'OrgSize', 'PlatformDesireNextYear',\n",
      "       'PlatformWorkedWith', 'PurchaseWhat', 'Sexuality', 'SOAccount',\n",
      "       'SOComm', 'SOPartFreq', 'SOVisitFreq', 'SurveyEase', 'SurveyLength',\n",
      "       'Trans', 'UndergradMajor', 'WebframeDesireNextYear',\n",
      "       'WebframeWorkedWith', 'WelcomeChange', 'WorkWeekHrs', 'YearsCode',\n",
      "       'YearsCodePro'],\n",
      "      dtype='object')\n",
      "   Respondent                                         MainBranch Hobbyist  \\\n",
      "0           1                     I am a developer by profession      Yes   \n",
      "1           2                     I am a developer by profession       No   \n",
      "2           3                        I code primarily as a hobby      Yes   \n",
      "3           4                     I am a developer by profession      Yes   \n",
      "4           5  I used to be a developer by profession, but no...      Yes   \n",
      "\n",
      "    Age Age1stCode CompFreq  CompTotal  ConvertedComp             Country  \\\n",
      "0   NaN         13  Monthly        NaN            NaN             Germany   \n",
      "1   NaN         19      NaN        NaN            NaN      United Kingdom   \n",
      "2   NaN         15      NaN        NaN            NaN  Russian Federation   \n",
      "3  25.0         18      NaN        NaN            NaN             Albania   \n",
      "4  31.0         16      NaN        NaN            NaN       United States   \n",
      "\n",
      "     CurrencyDesc  ...                  SurveyEase           SurveyLength  \\\n",
      "0   European Euro  ...  Neither easy nor difficult  Appropriate in length   \n",
      "1  Pound sterling  ...                         NaN                    NaN   \n",
      "2             NaN  ...  Neither easy nor difficult  Appropriate in length   \n",
      "3    Albanian lek  ...                         NaN                    NaN   \n",
      "4             NaN  ...                        Easy              Too short   \n",
      "\n",
      "  Trans                                     UndergradMajor  \\\n",
      "0    No  Computer science, computer engineering, or sof...   \n",
      "1   NaN  Computer science, computer engineering, or sof...   \n",
      "2   NaN                                                NaN   \n",
      "3    No  Computer science, computer engineering, or sof...   \n",
      "4    No  Computer science, computer engineering, or sof...   \n",
      "\n",
      "  WebframeDesireNextYear    WebframeWorkedWith  \\\n",
      "0           ASP.NET Core  ASP.NET;ASP.NET Core   \n",
      "1                    NaN                   NaN   \n",
      "2                    NaN                   NaN   \n",
      "3                    NaN                   NaN   \n",
      "4   Django;Ruby on Rails         Ruby on Rails   \n",
      "\n",
      "                              WelcomeChange WorkWeekHrs YearsCode YearsCodePro  \n",
      "0   Just as welcome now as I felt last year        50.0        36           27  \n",
      "1  Somewhat more welcome now than last year         NaN         7            4  \n",
      "2  Somewhat more welcome now than last year         NaN         4          NaN  \n",
      "3  Somewhat less welcome now than last year        40.0         7            4  \n",
      "4   Just as welcome now as I felt last year         NaN        15            8  \n",
      "\n",
      "[5 rows x 61 columns]\n"
     ]
    }
   ],
   "source": [
    "print(df.columns)\n",
    "print(df.head(5))"
   ]
  },
  {
   "cell_type": "code",
   "execution_count": 4,
   "metadata": {},
   "outputs": [
    {
     "name": "stderr",
     "output_type": "stream",
     "text": [
      "C:\\Users\\dnishimoto.BOISE\\AppData\\Local\\Continuum\\anaconda3\\envs\\deeplearning\\lib\\site-packages\\numpy\\lib\\histograms.py:754: RuntimeWarning: invalid value encountered in greater_equal\n",
      "  keep = (tmp_a >= first_edge)\n",
      "C:\\Users\\dnishimoto.BOISE\\AppData\\Local\\Continuum\\anaconda3\\envs\\deeplearning\\lib\\site-packages\\numpy\\lib\\histograms.py:755: RuntimeWarning: invalid value encountered in less_equal\n",
      "  keep &= (tmp_a <= last_edge)\n"
     ]
    },
    {
     "data": {
      "image/png": "[encoded data removed]",
      "text/plain": [
       "<Figure size 432x288 with 1 Axes>"
      ]
     },
     "metadata": {
      "needs_background": "light"
     },
     "output_type": "display_data"
    }
   ],
   "source": [
    "df['YearsCode']=df['YearsCode'].fillna('0')\n",
    "df['YearsCode']=pd.to_numeric(df['YearsCode'],errors='coerce')\n",
    "#print(df['YearsCode'])\n",
    "\n",
    "\n",
    "plt.hist(df['YearsCode'],bins=20)\n",
    "plt.xlabel(\"Years Coding\")\n",
    "plt.show()\n",
    "\n",
    "      "
   ]
  },
  {
   "cell_type": "code",
   "execution_count": 5,
   "metadata": {},
   "outputs": [
    {
     "name": "stdout",
     "output_type": "stream",
     "text": [
      "How many years of experience\n"
     ]
    },
    {
     "data": {
      "image/png": "[encoded data removed]",
      "text/plain": [
       "<Figure size 432x288 with 1 Axes>"
      ]
     },
     "metadata": {
      "needs_background": "light"
     },
     "output_type": "display_data"
    }
   ],
   "source": [
    "print(\"How many years of experience\")\n",
    "years_bins = pd.IntervalIndex.from_tuples([(0, 3), (4, 6),(7,10), (11, 20),(21,30), (31,50)])\n",
    "    \n",
    "out=pd.cut(df['YearsCode'],bins=years_bins,labels=['0-3','4-6','7-10','11-20','21-30','31-50'])\n",
    "\n",
    "YearsCodingRange=df.groupby(out)['YearsCode'].count()\n",
    "\n",
    "fig, ax = plt.subplots()\n",
    "ax = out.value_counts(sort=False).plot.barh(rot=0, color=\"b\", figsize=(6,4))\n",
    "#ax.ylabel('Years of Coding Experience')\n",
    "plt.show()"
   ]
  },
  {
   "cell_type": "code",
   "execution_count": 6,
   "metadata": {},
   "outputs": [
    {
     "name": "stdout",
     "output_type": "stream",
     "text": [
      "Languanges worked with and average years\n",
      "[3639, 3719, 1557, 2987, 3328, 2145, 2025, 2698, 163, 1771, 965, 1078, 608, 551, 292, 663, 1048, 506, 417, 312, 825] ['JavaScript', 'HTML/CSS', 'SQL', 'Python', 'Java', 'Bash/Shell/PowerShell', 'C#', 'C', 'TypeScript', 'PHP', 'Go', 'Kotlin', 'Ruby', 'VBA', 'Swift', 'R', 'Assembly', 'Rust', 'Objective-C', 'Scala', 'Dart']\n"
     ]
    },
    {
     "name": "stderr",
     "output_type": "stream",
     "text": [
      "C:\\Users\\dnishimoto.BOISE\\AppData\\Local\\Continuum\\anaconda3\\envs\\deeplearning\\lib\\site-packages\\ipykernel_launcher.py:25: SettingWithCopyWarning: \n",
      "A value is trying to be set on a copy of a slice from a DataFrame\n",
      "\n",
      "See the caveats in the documentation: https://pandas.pydata.org/pandas-docs/stable/user_guide/indexing.html#returning-a-view-versus-a-copy\n"
     ]
    },
    {
     "data": {
      "text/plain": [
       "<BarContainer object of 21 artists>"
      ]
     },
     "execution_count": 6,
     "metadata": {},
     "output_type": "execute_result"
    },
    {
     "data": {
      "image/png": "[encoded data removed]",
      "text/plain": [
       "<Figure size 720x504 with 1 Axes>"
      ]
     },
     "metadata": {
      "needs_background": "light"
     },
     "output_type": "display_data"
    }
   ],
   "source": [
    "print(\"Languanges worked with and average years\")\n",
    "\n",
    "languages=df.groupby('LanguageWorkedWith')['YearsCode'].mean()\n",
    "languages=languages[languages.apply(lambda g: g>1 and g<10)]\n",
    "#print(type(languages))\n",
    "#print(languages.head())\n",
    "\n",
    "languages=pd.DataFrame(languages)\n",
    "count=np.arange(0,len(languages))\n",
    "#for index in count:\n",
    "#    print(\"Language : \",languages.index[index],\" Years of Code: \", languages.iloc[index,0])\n",
    "\n",
    "fields=['JavaScript','HTML/CSS','SQL','Python','Java','Bash/Shell/PowerShell','C#','C','TypeScript','PHP','Go','Kotlin','Ruby','VBA','Swift','R','Assembly','Rust','Objective-C','Scala','Dart']\n",
    "data=[]\n",
    "labels=[]\n",
    "count=np.arange(0,len(fields))\n",
    "for index in count:\n",
    "    fieldName=fields[index]\n",
    "    #print(fieldName)\n",
    "    if fieldName=='VBA':\n",
    "        mask=languages.index.str.contains(fieldName)\n",
    "    else:\n",
    "        mask=languages.index.str.contains(fieldName+';')\n",
    "    languages[fieldName]=0\n",
    "    languages[fieldName][mask]=1\n",
    "    data.append(languages[fieldName].sum())\n",
    "    labels.append(fieldName)\n",
    "    \n",
    "print(data,labels)    \n",
    "    \n",
    "#mask2=languages.index.str.contains('HTML/CSS;')\n",
    "#print(mask1)\n",
    "#languages['Javascript']\n",
    "#languages['HTML/CSS;']=0\n",
    "#languages['Javascript'][mask1]=1\n",
    "\n",
    "#labels=['Javascript']\n",
    "#print(languages['Javascript'].sum())\n",
    "#data=[languages['Javascript'].sum()]\n",
    "\n",
    "fig, ax = plt.subplots(figsize =(10, 7)) \n",
    "width=0.75\n",
    "ax.barh(labels,data,width,color='b') \n",
    "\n"
   ]
  },
  {
   "cell_type": "code",
   "execution_count": 7,
   "metadata": {},
   "outputs": [
    {
     "name": "stdout",
     "output_type": "stream",
     "text": [
      "Number of surveys per country\n"
     ]
    },
    {
     "name": "stderr",
     "output_type": "stream",
     "text": [
      "C:\\Users\\dnishimoto.BOISE\\AppData\\Local\\Continuum\\anaconda3\\envs\\deeplearning\\lib\\site-packages\\ipykernel_launcher.py:9: SettingWithCopyWarning: \n",
      "A value is trying to be set on a copy of a slice from a DataFrame\n",
      "\n",
      "See the caveats in the documentation: https://pandas.pydata.org/pandas-docs/stable/user_guide/indexing.html#returning-a-view-versus-a-copy\n",
      "  if __name__ == '__main__':\n"
     ]
    },
    {
     "data": {
      "image/png": "[encoded data removed]",
      "text/plain": [
       "<Figure size 432x288 with 1 Axes>"
      ]
     },
     "metadata": {
      "needs_background": "light"
     },
     "output_type": "display_data"
    }
   ],
   "source": [
    "print(\"Number of surveys per country\")\n",
    "#print(df.groupby(\"Country\").count())\n",
    "\n",
    "counts=df['Country'].value_counts()\n",
    "#print(counts)\n",
    "\n",
    "mask= df['Country'].isin(counts[counts<1000].index)\n",
    "\n",
    "df['Country'][mask]='Other'\n",
    "country=df['Country'].value_counts()\n",
    "#print(counts)\n",
    "\n",
    "fig, ax = plt.subplots()\n",
    "ax = country.plot.barh(rot=0, color=\"b\", figsize=(6,4))\n",
    "\n"
   ]
  },
  {
   "cell_type": "code",
   "execution_count": 8,
   "metadata": {},
   "outputs": [],
   "source": [
    "#one_hot_encoded = pd.get_dummies(df, columns=['Country'], prefix='OH')\n",
    "\n",
    "# Print the columns names\n",
    "#print(one_hot_encoded.columns)\n"
   ]
  },
  {
   "cell_type": "code",
   "execution_count": 9,
   "metadata": {},
   "outputs": [
    {
     "name": "stderr",
     "output_type": "stream",
     "text": [
      "C:\\Users\\dnishimoto.BOISE\\AppData\\Local\\Continuum\\anaconda3\\envs\\deeplearning\\lib\\site-packages\\ipykernel_launcher.py:14: SettingWithCopyWarning: \n",
      "A value is trying to be set on a copy of a slice from a DataFrame\n",
      "\n",
      "See the caveats in the documentation: https://pandas.pydata.org/pandas-docs/stable/user_guide/indexing.html#returning-a-view-versus-a-copy\n",
      "  \n",
      "C:\\Users\\dnishimoto.BOISE\\AppData\\Local\\Continuum\\anaconda3\\envs\\deeplearning\\lib\\site-packages\\ipykernel_launcher.py:15: SettingWithCopyWarning: \n",
      "A value is trying to be set on a copy of a slice from a DataFrame\n",
      "\n",
      "See the caveats in the documentation: https://pandas.pydata.org/pandas-docs/stable/user_guide/indexing.html#returning-a-view-versus-a-copy\n",
      "  from ipykernel import kernelapp as app\n",
      "C:\\Users\\dnishimoto.BOISE\\AppData\\Local\\Continuum\\anaconda3\\envs\\deeplearning\\lib\\site-packages\\ipykernel_launcher.py:16: SettingWithCopyWarning: \n",
      "A value is trying to be set on a copy of a slice from a DataFrame\n",
      "\n",
      "See the caveats in the documentation: https://pandas.pydata.org/pandas-docs/stable/user_guide/indexing.html#returning-a-view-versus-a-copy\n",
      "  app.launch_new_instance()\n"
     ]
    },
    {
     "data": {
      "image/png": "[encoded data removed]",
      "text/plain": [
       "<Figure size 720x504 with 1 Axes>"
      ]
     },
     "metadata": {},
     "output_type": "display_data"
    }
   ],
   "source": [
    "def func(pct, allvalues): \n",
    "    absolute = int(pct / 100.*np.sum(allvalues)) \n",
    "    return \"{:.1f}%\\n({:d})\".format(pct, absolute) \n",
    "\n",
    "education=pd.DataFrame(df[df['EdLevel'].notnull()]['EdLevel'])\n",
    "#print(education.head(200))\n",
    "mask=education['EdLevel'].str.contains('Master')\n",
    "mask2=education['EdLevel'].str.contains('Bachelor')\n",
    "mask3=education['EdLevel'].str.contains('doctoral')\n",
    "#print(mask)\n",
    "education['Masters']=0\n",
    "education['Bachelors']=0\n",
    "education['Doctoral']=0\n",
    "education['Masters'][mask]=1\n",
    "education['Bachelors'][mask2]=1\n",
    "education['Doctoral'][mask3]=1\n",
    "\n",
    "#https://www.geeksforgeeks.org/plot-a-pie-chart-in-python-using-matplotlib/\n",
    "#print(education[education['Doctoral']==1])\n",
    "labels=['Masters','Bachelors','Doctoral']\n",
    "data=[education['Masters'].sum(),education['Bachelors'].sum(),education['Doctoral'].sum()]\n",
    "\n",
    "colors = ( \"red\", \"blue\", \"green\", \n",
    "          \"grey\", \"indigo\", \"beige\") \n",
    "\n",
    "fig, ax = plt.subplots(figsize =(10, 7)) \n",
    "wedges, texts, autotexts = ax.pie(data,  \n",
    "                                  autopct = lambda pct: func(pct, data), \n",
    "                                  labels = labels, \n",
    "                                  shadow = True, \n",
    "                                  colors = colors, \n",
    "                                  startangle = 90, \n",
    "                                  #wedgeprops = wp, \n",
    "                                  textprops = dict(color =\"white\")) "
   ]
  },
  {
   "cell_type": "code",
   "execution_count": null,
   "metadata": {},
   "outputs": [],
   "source": []
  }
 ],
 "metadata": {
  "kernelspec": {
   "display_name": "Python 3",
   "language": "python",
   "name": "python3"
  },
  "language_info": {
   "codemirror_mode": {
    "name": "ipython",
    "version": 3
   },
   "file_extension": ".py",
   "mimetype": "text/x-python",
   "name": "python",
   "nbconvert_exporter": "python",
   "pygments_lexer": "ipython3",
   "version": "3.7.7"
  }
 },
 "nbformat": 4,
 "nbformat_minor": 4
}
