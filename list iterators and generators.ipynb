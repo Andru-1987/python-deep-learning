{
 "cells": [
  {
   "cell_type": "code",
   "execution_count": 1,
   "metadata": {},
   "outputs": [],
   "source": [
    "import numpy as np\n",
    "import pandas as pd\n",
    "from datetime import date\n",
    "from datetime import datetime\n",
    "import matplotlib.pyplot as plt\n",
    "import seaborn as sns\n",
    "from fuzzywuzzy import fuzz\n",
    "from fuzzywuzzy import process\n",
    "import pickle\n",
    "from scipy import optimize\n",
    "from contextlib import contextmanager\n",
    "from itertools import product\n",
    "#import recordlinkage\n",
    "import json\n",
    "\n",
    "import pickle\n"
   ]
  },
  {
   "cell_type": "code",
   "execution_count": 2,
   "metadata": {},
   "outputs": [
    {
     "name": "stdout",
     "output_type": "stream",
     "text": [
      "hello\n",
      "world\n"
     ]
    }
   ],
   "source": [
    "words=[\"hello\",\"world\"]\n",
    "\n",
    "for word in words:\n",
    "    print(word)"
   ]
  },
  {
   "cell_type": "code",
   "execution_count": 3,
   "metadata": {},
   "outputs": [
    {
     "name": "stdout",
     "output_type": "stream",
     "text": [
      "h\n",
      "e\n",
      "l\n",
      "l\n",
      "o\n",
      " \n",
      "w\n",
      "o\n",
      "r\n",
      "l\n",
      "d\n"
     ]
    }
   ],
   "source": [
    "for letter in \"hello world\":\n",
    "    print(letter)"
   ]
  },
  {
   "cell_type": "code",
   "execution_count": 4,
   "metadata": {
    "scrolled": true
   },
   "outputs": [
    {
     "name": "stdout",
     "output_type": "stream",
     "text": [
      "0\n",
      "1\n",
      "2\n",
      "3\n",
      "4\n",
      "5\n",
      "6\n",
      "7\n",
      "8\n",
      "9\n"
     ]
    }
   ],
   "source": [
    "for i in range(10):\n",
    "    print (i)"
   ]
  },
  {
   "cell_type": "code",
   "execution_count": 5,
   "metadata": {},
   "outputs": [
    {
     "name": "stdout",
     "output_type": "stream",
     "text": [
      "a r o u n d   t h e   w o r l d   i n   8 0   d a y s\n"
     ]
    }
   ],
   "source": [
    "word=\"around the world in 80 days\"\n",
    "it=iter(word)\n",
    "#for i in np.arange(0,len(word)):\n",
    "#    print(next(it))\n",
    "    \n",
    "print(*it)    \n",
    "\n"
   ]
  },
  {
   "cell_type": "code",
   "execution_count": 6,
   "metadata": {},
   "outputs": [
    {
     "name": "stdout",
     "output_type": "stream",
     "text": [
      "firstName david\n",
      "lastName nishimoto\n"
     ]
    }
   ],
   "source": [
    "dict={'firstName':'david','lastName':'nishimoto'}\n",
    "\n",
    "for key,value in dict.items():\n",
    "    print(key,value)"
   ]
  },
  {
   "cell_type": "code",
   "execution_count": 7,
   "metadata": {},
   "outputs": [
    {
     "name": "stdout",
     "output_type": "stream",
     "text": [
      "<class 'enumerate'>\n",
      "0 hawkeye\n",
      "1 iron man\n",
      "2 thor\n",
      "3 quicksilver\n",
      "10 hawkeye\n",
      "11 iron man\n",
      "12 thor\n",
      "13 quicksilver\n"
     ]
    }
   ],
   "source": [
    "avengers =['hawkeye','iron man','thor','quicksilver']\n",
    "\n",
    "e=enumerate(avengers)\n",
    "print(type(e))\n",
    "\n",
    "#e_list=list(e)\n",
    "#print(e_list)\n",
    "\n",
    "for index,value in enumerate(avengers):\n",
    "    print(index,value)\n",
    "    \n",
    "for index,value in enumerate(avengers, start=10):\n",
    "    print(index,value)   "
   ]
  },
  {
   "cell_type": "code",
   "execution_count": 8,
   "metadata": {},
   "outputs": [
    {
     "name": "stdout",
     "output_type": "stream",
     "text": [
      "<class 'zip'>\n",
      "[('hawkeye', 'barton'), ('iron man', 'stark'), ('thor', 'odinson'), ('quicksilver', 'maximoff')]\n",
      "hawkeye barton\n",
      "iron man stark\n",
      "thor odinson\n",
      "quicksilver maximoff\n",
      "\n"
     ]
    }
   ],
   "source": [
    "avengers =['hawkeye','iron man','thor','quicksilver']\n",
    "names=['barton','stark','odinson','maximoff']\n",
    "\n",
    "z=zip(avengers,names)\n",
    "print(type(z))\n",
    "\n",
    "z_list=list(z)\n",
    "\n",
    "print(z_list)\n",
    "\n",
    "for z1,z2 in z_list:\n",
    "    print(z1,z2)\n",
    "\n",
    "print(*z)\n",
    "\n"
   ]
  },
  {
   "cell_type": "code",
   "execution_count": 9,
   "metadata": {},
   "outputs": [
    {
     "name": "stdout",
     "output_type": "stream",
     "text": [
      "['h', 'u', 'm', 'a', 'n']\n"
     ]
    }
   ],
   "source": [
    "h_letters = [ letter for letter in 'human' ]\n",
    "print( h_letters)"
   ]
  },
  {
   "cell_type": "code",
   "execution_count": 10,
   "metadata": {},
   "outputs": [
    {
     "name": "stdout",
     "output_type": "stream",
     "text": [
      "['hello', 'world']\n"
     ]
    }
   ],
   "source": [
    "words=['hello','world']\n",
    "\n",
    "result=[word for word in words]\n",
    "print(result)"
   ]
  },
  {
   "cell_type": "code",
   "execution_count": 11,
   "metadata": {},
   "outputs": [
    {
     "name": "stdout",
     "output_type": "stream",
     "text": [
      "['h', 'u', 'm', 'a', 'n']\n"
     ]
    }
   ],
   "source": [
    "letters = list(map(lambda x: x, 'human'))\n",
    "print(letters)"
   ]
  },
  {
   "cell_type": "code",
   "execution_count": 12,
   "metadata": {},
   "outputs": [
    {
     "name": "stdout",
     "output_type": "stream",
     "text": [
      "0     True\n",
      "1     True\n",
      "2    False\n",
      "3    False\n",
      "4    False\n",
      "dtype: bool\n"
     ]
    },
    {
     "name": "stderr",
     "output_type": "stream",
     "text": [
      "C:\\Users\\dnishimoto.BOISE\\AppData\\Local\\Continuum\\anaconda3\\envs\\deeplearning\\lib\\site-packages\\ipykernel_launcher.py:17: SettingWithCopyWarning: \n",
      "A value is trying to be set on a copy of a slice from a DataFrame\n",
      "\n",
      "See the caveats in the documentation: https://pandas.pydata.org/pandas-docs/stable/user_guide/indexing.html#returning-a-view-versus-a-copy\n"
     ]
    }
   ],
   "source": [
    "df = pd.DataFrame({'Keyword': {0: 'apply', 1: 'apply', 2: 'apply', 3: 'terms', 4: 'terms'},\n",
    " 'X': {0: [1, 2], 1: [1, 2], 2: 'xy', 3: 'xx', 4: 'yy'},\n",
    " 'Y': {0: 'yy', 1: 'yy', 2: 'yx', 3: 'ix', 4: 'xi'}})\n",
    "#print(df)\n",
    "#print(df.info())\n",
    "\n",
    "df2=df.copy()\n",
    "mylist=df2.iloc[0,1]\n",
    "df2.iloc[0,1]=' '.join(map(str,mylist))\n",
    "\n",
    "mylist=df2.iloc[1,1]\n",
    "df2.iloc[1,1]=' '.join(map(str,mylist))\n",
    "\n",
    "duplicates=df2.duplicated(keep=False)\n",
    "#print(df2[duplicates])\n",
    "\n",
    "df2[duplicates].drop_duplicates(inplace=True)\n",
    "#print(df2)\n",
    "#print(df.astype(str))\n",
    "\n",
    "print(df.astype(str).duplicated(keep=False))\n",
    "\n",
    "df=df.iloc[df.astype(str).drop_duplicates().index]\n",
    "#print(df)\n",
    "\n"
   ]
  },
  {
   "cell_type": "code",
   "execution_count": 13,
   "metadata": {},
   "outputs": [
    {
     "name": "stdout",
     "output_type": "stream",
     "text": [
      "   keys values\n",
      "0  name  Monty\n",
      "1   age     42\n",
      "2  food   spam\n",
      "{'name': 'Monty', 'age': 42}\n"
     ]
    }
   ],
   "source": [
    "keys = ['name', 'age', 'food']\n",
    "values = ['Monty', 42, 'spam']\n",
    "index=np.arange(0,len(keys)-1)\n",
    "\n",
    "df=pd.DataFrame(list(zip(keys,values)), columns=['keys','values'])\n",
    "df.set_index('keys')\n",
    "print(df.head())\n",
    "\n",
    "data_dict = df.iloc[index].set_index('keys')['values'].to_dict() \n",
    "print(data_dict)"
   ]
  },
  {
   "cell_type": "code",
   "execution_count": 14,
   "metadata": {},
   "outputs": [],
   "source": [
    "tshirts=[\n",
    "\n",
    "{'brand': 'A',\n",
    "'color': ['blue', 'white', 'black'],\n",
    "'size': ['XS', 'M', 'L']},\n",
    "\n",
    "{'brand': 'B',\n",
    "'color': ['blue', 'red', 'black'],\n",
    "'size': ['S', 'M', 'L']},\n",
    "\n",
    "{'brand': 'C',\n",
    "'color': ['blue', 'white', 'yellow'],\n",
    "'size': ['S', 'M', 'XL']}\n",
    "\n",
    "]"
   ]
  },
  {
   "cell_type": "code",
   "execution_count": 15,
   "metadata": {},
   "outputs": [
    {
     "name": "stdout",
     "output_type": "stream",
     "text": [
      "{'brand': 'A', 'color': ['blue', 'white', 'black'], 'size': ['XS', 'M', 'L']}\n",
      "{'brand': 'B', 'color': ['blue', 'red', 'black'], 'size': ['S', 'M', 'L']}\n",
      "{'brand': 'C', 'color': ['blue', 'white', 'yellow'], 'size': ['S', 'M', 'XL']}\n"
     ]
    }
   ],
   "source": [
    "def search(color):\n",
    "    for item in tshirts:\n",
    "        #print(item['color'])\n",
    "        if color in item['color']:\n",
    "            yield item\n",
    "        \n",
    "for item in search(\"blue\"):\n",
    "    print(item)"
   ]
  },
  {
   "cell_type": "code",
   "execution_count": 16,
   "metadata": {},
   "outputs": [
    {
     "name": "stdout",
     "output_type": "stream",
     "text": [
      "      column1     column2\n",
      "0  2017-01-01  2017-01-01\n",
      "1  2017-01-01  2017-01-11\n",
      "2  2017-01-02  2017-03-09\n",
      "3  2017-01-03  2017-03-16\n",
      "4  2017-01-04  2017-01-10\n",
      "      column1     column2  differences classification\n",
      "0  2017-01-01  2017-01-01            0        level 0\n",
      "1  2017-01-01  2017-01-11           10        level 3\n",
      "2  2017-01-02  2017-03-09           66        level 4\n",
      "3  2017-01-03  2017-03-16           72        level 5\n",
      "4  2017-01-04  2017-01-10            6        level 2\n"
     ]
    },
    {
     "data": {
      "image/png": "[encoded data removed]",
      "text/plain": [
       "<Figure size 432x288 with 1 Axes>"
      ]
     },
     "metadata": {
      "needs_background": "light"
     },
     "output_type": "display_data"
    },
    {
     "data": {
      "image/png": "[encoded data removed]",
      "text/plain": [
       "<Figure size 432x288 with 1 Axes>"
      ]
     },
     "metadata": {
      "needs_background": "light"
     },
     "output_type": "display_data"
    },
    {
     "data": {
      "image/png": "[encoded data removed]",
      "text/plain": [
       "<Figure size 432x288 with 1 Axes>"
      ]
     },
     "metadata": {
      "needs_background": "light"
     },
     "output_type": "display_data"
    }
   ],
   "source": [
    "column1=['2017-01-01','2017-01-01','2017-01-02','2017-01-03','2017-01-04','2017-01-05','2017-01-06','2017-01-07','2017-01-08','2017-01-09','2017-01-10']        \n",
    "column2=['2017-01-01','2017-01-11','2017-03-09','2017-03-16','2017-01-10','2017-01-25','2017-01-25','2017-01-26','2017-01-15','2017-02-16','2017-01-24' ]\n",
    "index=range(0,len(column1))\n",
    "data={'column1':column1,'column2':column2}\n",
    "df=pd.DataFrame(data, columns=['column1','column2'],index=index)\n",
    "print(df.head())\n",
    "\n",
    "differences=df.apply(lambda x: datetime.strptime(x['column2'],'%Y-%m-%d')-datetime.strptime(x['column1'],'%Y-%m-%d'),axis=1)\n",
    "differences=differences.dt.days.astype('int')\n",
    "#print(differences)\n",
    "#years_bins = pd.IntervalIndex.from_tuples([(-1, 0),(0, 2),(2,6),(6, 15),(15,69),(69,np.inf)])\n",
    "years_bins=[-1,0,2,6,15,69,np.inf]\n",
    "output_labels=['level 0','level 1','level 2','level 3','level 4','level 5']    \n",
    "\n",
    "out=pd.cut(differences,bins=years_bins,labels=output_labels)\n",
    "df['differences']=differences\n",
    "df['classification']=out\n",
    "\n",
    "print(df.head())\n",
    "\n",
    "fig, ax = plt.subplots()\n",
    "ax = out.value_counts(sort=False).plot.barh(rot=0, color=\"b\", figsize=(6,4))\n",
    "ax.set_yticklabels(output_labels)\n",
    "#ax.ylabel('Years of Coding Experience')\n",
    "plt.show()\n",
    "\n",
    "plt.hist(df['classification'], bins=6)\n",
    "plt.show()\n",
    "\n",
    "sns.distplot(df['differences'])\n",
    "plt.show()\n"
   ]
  },
  {
   "cell_type": "code",
   "execution_count": 17,
   "metadata": {},
   "outputs": [
    {
     "data": {
      "text/plain": [
       "86"
      ]
     },
     "execution_count": 17,
     "metadata": {},
     "output_type": "execute_result"
    }
   ],
   "source": [
    "fuzz.WRatio('Reeding','Reading')"
   ]
  },
  {
   "cell_type": "code",
   "execution_count": 18,
   "metadata": {},
   "outputs": [
    {
     "data": {
      "text/plain": [
       "[('Rockets vs Lakers', 86, 0), ('Lakers vs Rockets', 86, 1)]"
      ]
     },
     "execution_count": 18,
     "metadata": {},
     "output_type": "execute_result"
    }
   ],
   "source": [
    "string=\"Houston Rockets vs Los Angeles Lakers\"\n",
    "\n",
    "choices=pd.Series(['Rockets vs Lakers', 'Lakers vs Rockets',\n",
    "'Houston vs Los Angeles','Heat vs Bulls'])\n",
    "\n",
    "process.extract(string, choices, limit=2)\n"
   ]
  },
  {
   "cell_type": "code",
   "execution_count": 19,
   "metadata": {},
   "outputs": [
    {
     "name": "stdout",
     "output_type": "stream",
     "text": [
      "  column1       state\n",
      "0       0  California\n",
      "1       1    New York\n",
      "California\n",
      "New York\n"
     ]
    }
   ],
   "source": [
    "categories={\"0\":\"California\",\"1\":\"New York\"}\n",
    "\n",
    "df=pd.DataFrame(list(categories.items()),columns=[\"column1\",\"state\"])\n",
    "print(df.head())\n",
    "\n",
    "for state in df['state']:\n",
    "    print(state)\n",
    "\n"
   ]
  },
  {
   "cell_type": "code",
   "execution_count": 20,
   "metadata": {},
   "outputs": [
    {
     "name": "stdout",
     "output_type": "stream",
     "text": [
      "    state  year  number continent\n",
      "0    Rome  2000     1.5        it\n",
      "1  Venice  2001     1.7        it\n",
      "2      NY  2002     3.6        US\n",
      "3  Boston  2001     2.4        US\n",
      "4  London  2003     2.9        UK\n",
      "continent  year\n",
      "UK         2003    3.05\n",
      "US         2001    2.40\n",
      "           2002    3.60\n",
      "it         2000    1.50\n",
      "           2001    1.70\n",
      "Name: number, dtype: float64\n"
     ]
    }
   ],
   "source": [
    "data = {'state': ['Rome', 'Venice', 'NY', 'Boston', 'London', 'Bristol'],\n",
    "    'year': [2000, 2001, 2002, 2001, 2003, 2003],\n",
    "    'number': [1.5, 1.7, 3.6, 2.4, 2.9, 3.2]}\n",
    "\n",
    "mapping = {\n",
    "    'Rome':'it', \n",
    "    'Venice':'it',\n",
    "    'London':'UK',\n",
    "    'Bristol':'UK',\n",
    "    'NY':'US',\n",
    "    'Boston':'US'\n",
    "}\n",
    "\n",
    "df = pd.DataFrame(data)\n",
    "df['continent']=df['state'].replace(mapping)\n",
    "print(df.head())\n",
    "print(df.groupby(['continent','year'])['number'].mean())"
   ]
  },
  {
   "cell_type": "code",
   "execution_count": 21,
   "metadata": {},
   "outputs": [
    {
     "name": "stdout",
     "output_type": "stream",
     "text": [
      "B 5 \u0000 ^\n"
     ]
    }
   ],
   "source": [
    "result=map(lambda item: chr(item), [66, 53, 0, 94])\n",
    "print(*result)\n"
   ]
  },
  {
   "cell_type": "code",
   "execution_count": 22,
   "metadata": {},
   "outputs": [
    {
     "name": "stdout",
     "output_type": "stream",
     "text": [
      "5 7 11 13 17 19 23\n",
      "1 8 27 64 125 216 343 512 729 1000\n"
     ]
    },
    {
     "data": {
      "text/plain": [
       "55"
      ]
     },
     "execution_count": 22,
     "metadata": {},
     "output_type": "execute_result"
    }
   ],
   "source": [
    "from functools import reduce\n",
    "\n",
    "def f(x):\n",
    "        return x % 2 != 0 and x % 3 != 0\n",
    "    \n",
    "print(*filter(f, range(2, 25)))\n",
    "#[5, 7, 11, 13, 17, 19, 23]\n",
    "\n",
    "def cube(x):\n",
    "        return x**3\n",
    "print(*map(cube, range(1, 11)))\n",
    "#[1, 8, 27, 64, 125, 216, 343, 512, 729, 1000]\n",
    "\n",
    "def add(x,y):\n",
    "        return x+y\n",
    "\n",
    "reduce(add, range(1, 11))\n",
    "#55"
   ]
  },
  {
   "cell_type": "code",
   "execution_count": 23,
   "metadata": {},
   "outputs": [
    {
     "name": "stdout",
     "output_type": "stream",
     "text": [
      "   STK_ID\n",
      "0  600809\n",
      "1  600141\n",
      "2  600329\n",
      "3       1\n",
      "4       2\n",
      "['600809', '600141', '600329']\n"
     ]
    }
   ],
   "source": [
    "list1=['600809','600141','600329','1','2','3']\n",
    "\n",
    "df=pd.DataFrame({'STK_ID':list1})\n",
    "print(df.head())\n",
    "\n",
    "stk_list = ['600809','600141','600329']\n",
    "\n",
    "result=filter(lambda item: item in stk_list,df['STK_ID'])\n",
    "\n",
    "print(list(result))\n",
    "\n"
   ]
  },
  {
   "cell_type": "code",
   "execution_count": 24,
   "metadata": {},
   "outputs": [
    {
     "name": "stdout",
     "output_type": "stream",
     "text": [
      "Friday\n",
      "136\n",
      "239\n",
      "0\n",
      "0\n",
      "Monday\n",
      "305\n",
      "431\n",
      "0\n",
      "0\n",
      "Saturday\n",
      "0\n",
      "3\n",
      "0\n",
      "0\n",
      "OrderedDict([(0, ['Friday', 136, 239, 0, 0]), (1, ['Monday', 305, 431, 0, 0]), (2, ['Saturday', 0, 3, 0, 0])])\n",
      "0\n",
      "1\n",
      "2\n"
     ]
    },
    {
     "name": "stderr",
     "output_type": "stream",
     "text": [
      "C:\\Users\\dnishimoto.BOISE\\AppData\\Roaming\\Python\\Python37\\site-packages\\pandas\\core\\frame.py:1490: FutureWarning: Using short name for 'orient' is deprecated. Only the options: ('dict', list, 'series', 'split', 'records', 'index') will be used in a future version. Use one of the above to silence this warning.\n",
      "  FutureWarning,\n"
     ]
    }
   ],
   "source": [
    "from collections import OrderedDict\n",
    "dayname=['Friday','Monday','Saturday']\n",
    "A=[136,305,0]\n",
    "B=[239,431,3]\n",
    "C=[0,0,0]\n",
    "D=[0,0,0]\n",
    "E=[283,845,11]\n",
    "df=pd.DataFrame({'dayname':dayname,'A':A,'B':B,'C':C,'D':D})\n",
    "df.set_index('dayname')\n",
    "new_df=df.T\n",
    "#print(new_df)\n",
    "#l for list\n",
    "result2=new_df.to_dict('l', into=OrderedDict)\n",
    "#print(result)\n",
    "\n",
    "result=df.set_index('dayname').T.to_dict('l')\n",
    "\n",
    "for key,value in result.items():\n",
    "    print (key)\n",
    "    [print(item) for item in value]\n",
    "\n",
    "\n",
    "print(result2)\n",
    "for item in result2:\n",
    "    print(item)"
   ]
  },
  {
   "cell_type": "code",
   "execution_count": 25,
   "metadata": {},
   "outputs": [
    {
     "name": "stdout",
     "output_type": "stream",
     "text": [
      "[{'c', 'd', 'e', 'a', 'b'}, {'c', 'a', 'd', 'b'}, {'e', 'a', 'g', 'b'}]\n",
      "{'a', 'b'}\n"
     ]
    }
   ],
   "source": [
    "\n",
    "myList = ['abcdde',\n",
    "          'baccd',\n",
    "          'eeabg']\n",
    "\n",
    "#You can divide the list into sets and find the intersection using that:\n",
    "sets_list = [{letter for letter in string} for string in myList]\n",
    "print(sets_list)\n",
    "print(set.intersection(*sets_list))"
   ]
  },
  {
   "cell_type": "code",
   "execution_count": 26,
   "metadata": {},
   "outputs": [
    {
     "name": "stdout",
     "output_type": "stream",
     "text": [
      "(1, 1, 'A') 2\n"
     ]
    }
   ],
   "source": [
    "col1=[1,1,0,1,1,1]     \n",
    "col2=[1,0,1,1,0,0]     \n",
    "col3=['A','A','A','A','B','C']\n",
    "df=pd.DataFrame({'col1':col1,'col2':col2,'col3':col3})\n",
    "results=df[['col1','col2','col3']].value_counts().sort_values(ascending=False)\n",
    "print(results.index[0],results.iloc[0])\n",
    "#print(results)\n",
    "#print(results.unstack(level=2))\n"
   ]
  },
  {
   "cell_type": "code",
   "execution_count": 27,
   "metadata": {},
   "outputs": [
    {
     "name": "stdout",
     "output_type": "stream",
     "text": [
      "3.5\n"
     ]
    }
   ],
   "source": [
    "def median(values):\n",
    "    \"\"\"Get the median of a list of values\n",
    "      Args:\n",
    "        values (iterable of float): A list of numbers\n",
    "      Returns:\n",
    "        float\n",
    "    \"\"\"\n",
    "    # Write the median() function\n",
    "    values.sort()\n",
    "    n = len(values)\n",
    "    \n",
    "    if n%2==0:\n",
    "        median1 = values[n//2] \n",
    "        median2 = values[n//2 - 1] \n",
    "        median = (median1 + median2)/2\n",
    "    else:\n",
    "        median = values[n//2] \n",
    "    return median\n",
    "\n",
    "print(median([1,2,4,3,5,7]))"
   ]
  },
  {
   "cell_type": "code",
   "execution_count": 28,
   "metadata": {},
   "outputs": [
    {
     "name": "stdout",
     "output_type": "stream",
     "text": [
      "hello\n",
      "42\n",
      "goodbye\n"
     ]
    }
   ],
   "source": [
    "@contextmanager\n",
    "def my_context():\n",
    "    print('hello')\n",
    "    yield 42\n",
    "    print('goodbye')\n",
    "    \n",
    "with my_context() as v1:\n",
    "    print(v1)"
   ]
  },
  {
   "cell_type": "code",
   "execution_count": 46,
   "metadata": {},
   "outputs": [
    {
     "name": "stdout",
     "output_type": "stream",
     "text": [
      "140\n"
     ]
    }
   ],
   "source": [
    "def double_args(func):\n",
    "    def wrapper(a,b):\n",
    "        return func(a*2,b*2)\n",
    "    return wrapper\n",
    "\n",
    "@double_args\n",
    "def multiple(a,b):\n",
    "        return a*b\n",
    "\n",
    "new_multiple=multiple(5,7)\n",
    "print(new_multiple)"
   ]
  },
  {
   "cell_type": "code",
   "execution_count": 47,
   "metadata": {},
   "outputs": [
    {
     "name": "stdout",
     "output_type": "stream",
     "text": [
      "Choose From the following Program:\n",
      "\n",
      "1. Band name Generator\n",
      "\n",
      "2. Tip Calculator For  Bill.\n",
      "\n",
      "2\n",
      "Welcome to Band Name Generator.\n",
      "\n",
      "What's is the name of city you grew up?\n",
      "a\n",
      "What's your pet's name?\n",
      "a\n",
      "Your Band Name could be : a a\n",
      "Welcome to tip calculator.\n",
      "\n"
     ]
    }
   ],
   "source": [
    "class Day1:\n",
    "\n",
    "    def day1(self):\n",
    "        print('1. Band name Generator\\n')\n",
    "\n",
    "    def program1(self):\n",
    "        print('Welcome to Band Name Generator.\\n')\n",
    "        cityName=input('What\\'s is the name of city you grew up?\\n')\n",
    "        petName = input('What\\'s your pet\\'s name?\\n')\n",
    "        print('Your Band Name could be : '+cityName+\" \"+petName)\n",
    "\n",
    "class TipCalculator:\n",
    "    def day2(self):\n",
    "        print(\"2. Tip Calculator For  Bill.\\n\")\n",
    "\n",
    "    def program1(self):\n",
    "        print('Welcome to tip calculator.\\n')\n",
    "        \n",
    "def choose():\n",
    "    print(\"Choose From the following Program:\\n\")\n",
    "    day1 = Day1()\n",
    "    day1.day1()\n",
    "\n",
    "    day2 = TipCalculator()\n",
    "    day2.day2()\n",
    "\n",
    "\n",
    "    x = int(input());\n",
    "\n",
    "\n",
    "    chooices={\n",
    "        1: day1.program1(),\n",
    "        2: day2.program1(),\n",
    "\n",
    "    }\n",
    "    chooices.get(x, \"Ther is no program\")    \n",
    "\n",
    "choose()"
   ]
  },
  {
   "cell_type": "code",
   "execution_count": 11,
   "metadata": {},
   "outputs": [
    {
     "name": "stdout",
     "output_type": "stream",
     "text": [
      "Natural entity in the observable universe.\n"
     ]
    }
   ],
   "source": [
    "class AstroBody:\n",
    "    description = 'Natural entity in the observable universe.'    \n",
    "\n",
    "class Star:\n",
    "    description=AstroBody.description\n",
    "    pass\n",
    "\n",
    "sun = Star()\n",
    "\n",
    "\n",
    "print(sun.description)"
   ]
  },
  {
   "cell_type": "code",
   "execution_count": 13,
   "metadata": {},
   "outputs": [
    {
     "name": "stdout",
     "output_type": "stream",
     "text": [
      "Chocolate\n"
     ]
    }
   ],
   "source": [
    "class Candy:\n",
    "    flavor = 'sweet'\n",
    "    \n",
    "    def __init__(self, name):\n",
    "        self.name = name\n",
    "        \n",
    "c = Candy('Chocolate')\n",
    "\n",
    "print(c.name)"
   ]
  },
  {
   "cell_type": "code",
   "execution_count": 16,
   "metadata": {},
   "outputs": [
    {
     "data": {
      "text/plain": [
       "[0, 1, 2, 3, 4]"
      ]
     },
     "execution_count": 16,
     "metadata": {},
     "output_type": "execute_result"
    }
   ],
   "source": [
    "[i  for i in range(5)]"
   ]
  },
  {
   "cell_type": "code",
   "execution_count": 21,
   "metadata": {},
   "outputs": [],
   "source": [
    "class Planet:\n",
    "    def __init__(self, name):\n",
    "        self.name = name\n",
    "        \n",
    "v = ('venus')"
   ]
  },
  {
   "cell_type": "code",
   "execution_count": 33,
   "metadata": {},
   "outputs": [
    {
     "name": "stdout",
     "output_type": "stream",
     "text": [
      "p\n"
     ]
    }
   ],
   "source": [
    "w = 'python'\n",
    "\n",
    "w_iterator = iter(w)\n",
    "\n",
    "print(next(w_iterator))\n",
    "\n",
    "#for l in (w_iterator):\n",
    "    #print(l)\n",
    "    \n"
   ]
  },
  {
   "cell_type": "code",
   "execution_count": 34,
   "metadata": {},
   "outputs": [
    {
     "name": "stdout",
     "output_type": "stream",
     "text": [
      "4\n"
     ]
    }
   ],
   "source": [
    "ints = set([1,1,2,3,3,3,4])\n",
    "print(len(ints))"
   ]
  },
  {
   "cell_type": "code",
   "execution_count": 35,
   "metadata": {},
   "outputs": [
    {
     "name": "stdout",
     "output_type": "stream",
     "text": [
      "29\n"
     ]
    }
   ],
   "source": [
    "from datetime import date\n",
    "\n",
    "d1=date(2017,11,5)\n",
    "d2=date(2017,12,4)\n",
    "\n",
    "delta= d2 - d1\n",
    "\n",
    "print(delta.days)"
   ]
  },
  {
   "cell_type": "code",
   "execution_count": 53,
   "metadata": {},
   "outputs": [
    {
     "name": "stdout",
     "output_type": "stream",
     "text": [
      "2020/11/08\n",
      "16:11 PM\n",
      "False\n"
     ]
    }
   ],
   "source": [
    "import datetime\n",
    "#https://strftime.org/\n",
    "d=datetime.datetime.now()\n",
    "print(d.strftime(\"%Y/%m/%d\"))\n",
    "print(d.strftime(\"%H:%m %p\"))\n",
    "match=d.strftime(\"%H:%m %p\")==\"14:00 PM\"\n",
    "print(match)"
   ]
  },
  {
   "cell_type": "code",
   "execution_count": 73,
   "metadata": {},
   "outputs": [
    {
     "name": "stdout",
     "output_type": "stream",
     "text": [
      "2001-01-01  found\n",
      "2010-11-21  found\n"
     ]
    }
   ],
   "source": [
    "import datetime\n",
    "#https://strftime.org/\n",
    "d=datetime.datetime.now()\n",
    "\n",
    "dateList=['2017-12-31','2001-01-01','2010-11-21']\n",
    "\n",
    "for item in dateList:\n",
    "    diff_days=(d-datetime.datetime.strptime(item,'%Y-%m-%d')).days\n",
    "    if (diff_days/365)>5:\n",
    "        print(item,\" found\")"
   ]
  },
  {
   "cell_type": "code",
   "execution_count": 20,
   "metadata": {},
   "outputs": [
    {
     "name": "stdout",
     "output_type": "stream",
     "text": [
      "Eastern Standard Time Zone\n",
      "2017-12-30 17:09:03-05:00\n",
      "India Standard Time Zone\n",
      "2017-12-31 03:39:03+05:30\n",
      "2017-12-30 15:09:03+00:00\n"
     ]
    }
   ],
   "source": [
    "from datetime import datetime, timedelta, timezone\n",
    "\n",
    "print(\"Eastern Standard Time Zone\")\n",
    "ET=timezone(timedelta(hours=-5))\n",
    "#print(ET)\n",
    "#print(datetime(1970,1,1, tzinfo=timezone.utc))\n",
    "\n",
    "tzinfo=timezone.utc\n",
    "dt=datetime(2017,12,30,15,9,3)\n",
    "#dt=datetime(2017,12,30,15,9,3,tzinfo=ET)\n",
    "#print (dt)\n",
    "print(dt.astimezone(ET))\n",
    "\n",
    "print(\"India Standard Time Zone\")\n",
    "\n",
    "IST= timezone(timedelta(hours=5,minutes=30))\n",
    "dt=datetime(2017,12,30,15,9,3)\n",
    "print(dt.astimezone(IST))\n",
    "print(dt.replace(tzinfo=timezone.utc))"
   ]
  },
  {
   "cell_type": "code",
   "execution_count": 23,
   "metadata": {},
   "outputs": [
    {
     "name": "stdout",
     "output_type": "stream",
     "text": [
      "2017-12-30 15:09:03\n",
      "2017-12-30 15:09:03-04:00\n"
     ]
    }
   ],
   "source": [
    "edt = timezone(timedelta(hours=-4))\n",
    "dt=datetime(2017,12,30,15,9,3)\n",
    "print(dt)\n",
    "dt=dt.replace(tzinfo=edt)\n",
    "\n",
    "print(dt)"
   ]
  },
  {
   "cell_type": "code",
   "execution_count": 32,
   "metadata": {},
   "outputs": [
    {
     "name": "stdout",
     "output_type": "stream",
     "text": [
      "2017-03-12T01:59:59-05:00\n",
      "0.0\n"
     ]
    }
   ],
   "source": [
    "EST = timezone(timedelta(hours=-5))\n",
    "EDT = timezone(timedelta(hours=-4))\n",
    "\n",
    "spring_ahead_159am = datetime(2017,3,12,1,59,59, tzinfo=EST)\n",
    "print(spring_ahead_159am.isoformat())\n",
    "\n",
    "spring_ahead_3am=datetime(2017,3,12,3,0,0,tzinfo=EDT)\n",
    "spring_ahead_3am.isoformat()\n",
    "\n",
    "print(((spring_ahead_3am - spring_ahead_159am).total_seconds()-1)/60)"
   ]
  },
  {
   "cell_type": "code",
   "execution_count": 29,
   "metadata": {},
   "outputs": [
    {
     "data": {
      "text/plain": [
       "<matplotlib.axes._subplots.AxesSubplot at 0x2169a7b0a48>"
      ]
     },
     "execution_count": 29,
     "metadata": {},
     "output_type": "execute_result"
    },
    {
     "data": {
      "image/png": "[encoded data removed]",
      "text/plain": [
       "<Figure size 432x288 with 1 Axes>"
      ]
     },
     "metadata": {
      "needs_background": "light"
     },
     "output_type": "display_data"
    }
   ],
   "source": [
    "def accumulate(values):\n",
    "    \"\"\"The accumulate function takes the offset previous numbers in a series and sums them.\"\"\"\n",
    "    offset=0\n",
    "    accumulate=[]\n",
    "    for i in np.arange(len(values)):\n",
    "        offset+=1\n",
    "        accumulate.append(values[:offset].sum())\n",
    "        \n",
    "    return accumulate\n",
    "\n",
    "A=pd.DataFrame(np.arange(1,101), columns=['value'])\n",
    "\n",
    "#print(A)\n",
    "\n",
    "A.aggregate(accumulate).plot()"
   ]
  },
  {
   "cell_type": "code",
   "execution_count": 1,
   "metadata": {},
   "outputs": [
    {
     "name": "stdout",
     "output_type": "stream",
     "text": [
      "[1, 2, 3, 4, 5, 6, 7, 8, 9]\n"
     ]
    }
   ],
   "source": [
    "l = [[1, 2, 3], [4, 5, 6], [7], [8, 9]]\n",
    "l2=[]\n",
    "[[l2.append(i) for i in sublist] for sublist in l]\n",
    "print(l2)"
   ]
  },
  {
   "cell_type": "code",
   "execution_count": 19,
   "metadata": {},
   "outputs": [
    {
     "name": "stdout",
     "output_type": "stream",
     "text": [
      "[['dbc123', 'adc123', 'abd123', 'abcd23', 'abc1d3', 'abc12d'], ['ebc123', 'aec123', 'abe123', 'abce23', 'abc1e3', 'abc12e'], ['fbc123', 'afc123', 'abf123', 'abcf23', 'abc1f3', 'abc12f'], ['2bc123', 'a2c123', 'ab2123', 'abc223', 'abc123', 'abc122'], ['3bc123', 'a3c123', 'ab3123', 'abc323', 'abc133', 'abc123'], ['4bc123', 'a4c123', 'ab4123', 'abc423', 'abc143', 'abc124'], ['6bc123', 'a6c123', 'ab6123', 'abc623', 'abc163', 'abc126'], ['7bc123', 'a7c123', 'ab7123', 'abc723', 'abc173', 'abc127'], ['8bc123', 'a8c123', 'ab8123', 'abc823', 'abc183', 'abc128'], ['9bc123', 'a9c123', 'ab9123', 'abc923', 'abc193', 'abc129']]\n"
     ]
    }
   ],
   "source": [
    "string = \"abc123\"\n",
    "char = \"def2346789\"\n",
    "\n",
    "def fncCombinations(a):\n",
    "    combination_list=[]\n",
    "    for j in range(len(string)): \n",
    "        combination_list.append(string[:j] + a + string[j+1:])\n",
    "    return combination_list \n",
    "combination_list=[fncCombinations(a) for a in char]\n",
    "print(combination_list)\n",
    "\n",
    "#for i in range(len(char)):\n",
    "#    current=char[i]\n",
    "#    for j in range(len(string)):\n",
    "#        front=string[:j]\n",
    "#        back=string[j+1:]\n",
    "#        print(\"f:{}b:{}c:{}\".format(front,back,current))\n",
    "#        combination_list=[x for x in product(current,back)]\n",
    "#        print(combination_list)\n",
    "        \n",
    "    \n",
    "    \n",
    "    "
   ]
  },
  {
   "cell_type": "code",
   "execution_count": 42,
   "metadata": {},
   "outputs": [
    {
     "name": "stdout",
     "output_type": "stream",
     "text": [
      " bc123\n",
      "a c123\n",
      "ab 123\n",
      "abc 23\n",
      "abc1 3\n",
      "abc12 \n",
      "[['dbc123', 'ebc123', 'fbc123', '2bc123', '3bc123', '4bc123', '6bc123', '7bc123', '8bc123', '9bc123'], ['adc123', 'aec123', 'afc123', 'a2c123', 'a3c123', 'a4c123', 'a6c123', 'a7c123', 'a8c123', 'a9c123'], ['abd123', 'abe123', 'abf123', 'ab2123', 'ab3123', 'ab4123', 'ab6123', 'ab7123', 'ab8123', 'ab9123'], ['abcd23', 'abce23', 'abcf23', 'abc223', 'abc323', 'abc423', 'abc623', 'abc723', 'abc823', 'abc923'], ['abc1d3', 'abc1e3', 'abc1f3', 'abc123', 'abc133', 'abc143', 'abc163', 'abc173', 'abc183', 'abc193'], ['abc12d', 'abc12e', 'abc12f', 'abc122', 'abc123', 'abc124', 'abc126', 'abc127', 'abc128', 'abc129']]\n"
     ]
    }
   ],
   "source": [
    "string=\"abc123\"\n",
    "char = \"def2346789\"\n",
    "queue=[]\n",
    "stack=[]\n",
    "combination_list=[]\n",
    "queue=[x for x in string]\n",
    "#print(queue)\n",
    "for index in range(len(queue)):\n",
    "    stack.append(queue.pop(0))\n",
    "    front=\"\".join(stack[:-1])\n",
    "    back=\"\".join(queue)\n",
    "    print(front,back)\n",
    "    combination_list.append([front+a+back for a in char])\n",
    "\n",
    "print(combination_list)\n"
   ]
  },
  {
   "cell_type": "code",
   "execution_count": 93,
   "metadata": {},
   "outputs": [
    {
     "name": "stdout",
     "output_type": "stream",
     "text": [
      "Index         int32\n",
      "HOME_TEAM    object\n",
      "AWAY_TEAM    object\n",
      "BOOL           bool\n",
      "dtype: object\n",
      "['Manchester United', 'Leicester City', 'Everton', 'Stoke City', 'West Bromwich Albion', 'Manchester United', 'Leicester City', 'West Bromwich Albion', 'Stoke City']\n",
      "   Index             HOME_TEAM     AWAY_TEAM   BOOL                  TEAM\n",
      "0   1153     Manchester United  Swansea City   True     Manchester United\n",
      "1   1163        Leicester City       Everton  False        Leicester City\n",
      "2   1172               Everton     Hull City   True               Everton\n",
      "3   1183            Stoke City       Everton   True            Stoke City\n",
      "4   1193  West Bromwich Albion    Sunderland  False  West Bromwich Albion\n"
     ]
    }
   ],
   "source": [
    "Index=[1153,1163,1172,1183,1193]\n",
    "HOME_TEAM=['Manchester United','Leicester City','Everton','Stoke City','West Bromwich Albion']\n",
    "AWAY_TEAM=['Swansea City','Everton','Hull City','Everton','Sunderland']\n",
    "BOOL=[True,False,True,True,False]\n",
    "\n",
    "types = pd.Series(data=['int', 'str', 'str', 'bool'], index=['Index', 'HOME_TEAM', 'AWAY_TEAM', 'BOOL'])\n",
    "types = types.apply(eval)\n",
    "\n",
    "df=pd.DataFrame({'Index':Index,'HOME_TEAM':HOME_TEAM,'AWAY_TEAM':AWAY_TEAM,'BOOL':BOOL})\n",
    "df.set_index('Index')\n",
    "\n",
    "df = df.astype(dtype=types.to_dict())\n",
    "\n",
    "print(df.dtypes)\n",
    "\n",
    "list1=list(df['HOME_TEAM'].unique())\n",
    "list2=list(df['AWAY_TEAM'].unique())\n",
    "notInList2=set(list1)-set(list2)\n",
    "combined=(list1+list(notInList2))\n",
    "\n",
    "print(combined)\n",
    "\n",
    "df['TEAM']=\"\"\n",
    "for item in combined:\n",
    "    filter=(df['HOME_TEAM']==item) | (df['AWAY_TEAM']==item)\n",
    "    key=df[filter]['Index'].index\n",
    "    df.loc[key,'TEAM']=item\n",
    "    \n",
    "print(df.head())\n",
    "    \n"
   ]
  },
  {
   "cell_type": "code",
   "execution_count": 27,
   "metadata": {},
   "outputs": [
    {
     "name": "stdout",
     "output_type": "stream",
     "text": [
      "   A                          B                            C\n",
      "0  a  <built-in function empty>                             \n",
      "1  b                          a  [<built-in function empty>]\n",
      "2  c                          a  [<built-in function empty>]\n",
      "3  d                          b                          [a]\n",
      "4  e                          d                          [b]\n"
     ]
    }
   ],
   "source": [
    "list1=['a','b','c','d','e']\n",
    "list2=[np.empty,'a','a','b','d']\n",
    "df=pd.DataFrame({'A':list1,'B':list2})\n",
    "\n",
    "df['C']=[df.loc[df['A']==x,'B'].values if x in df['A'].values else '' for x in df['B']]\n",
    "print(df[['A','B','C']].head())"
   ]
  },
  {
   "cell_type": "code",
   "execution_count": 46,
   "metadata": {},
   "outputs": [
    {
     "name": "stdout",
     "output_type": "stream",
     "text": [
      "11.0\n"
     ]
    }
   ],
   "source": [
    "x=round(float(\"10.8\"),0)\n",
    "print(x)"
   ]
  },
  {
   "cell_type": "code",
   "execution_count": 50,
   "metadata": {},
   "outputs": [
    {
     "name": "stdout",
     "output_type": "stream",
     "text": [
      "     X\n",
      "b  1.0\n",
      "b  1.0\n",
      "b  NaN\n",
      "c  1.0\n",
      "c  1.0\n",
      "c  1.0\n"
     ]
    }
   ],
   "source": [
    "df = pd.DataFrame(data    = [1,np.nan,np.nan,1,1,np.nan,1,1,1], \n",
    "                   columns = ['X'], \n",
    "                   index   = ['a', 'a', 'a', \n",
    "                              'b', 'b', 'b',\n",
    "                              'c', 'c', 'c'])\n",
    "\n",
    "out = df.groupby(level=0).filter(lambda x : x.isna().sum()<=1)\n",
    "\n",
    "print(out)"
   ]
  },
  {
   "cell_type": "code",
   "execution_count": 10,
   "metadata": {},
   "outputs": [
    {
     "name": "stdout",
     "output_type": "stream",
     "text": [
      "[{('sw0005', 'sw0076'): 'Gi1/2'}, {('sw0005', 'sw0076'): 'Gi1/5'}]\n"
     ]
    }
   ],
   "source": [
    "list1=['sw0005', 'sw0076', 'Gi1/2', 'sw0005', 'sw0076', 'Gi1/5']\n",
    "\n",
    "queryable=iter(list1)\n",
    "\n",
    "mylist=[]\n",
    "for i in range(int(len(list1)/3)):\n",
    "    mylist.append({(next(queryable),next(queryable)):next(queryable)})\n",
    "    \n",
    "print(mylist)"
   ]
  },
  {
   "cell_type": "code",
   "execution_count": 43,
   "metadata": {},
   "outputs": [
    {
     "name": "stdout",
     "output_type": "stream",
     "text": [
      "0 8\n",
      "['1000', 'ParameterName=Device type', 'ObjectType=0x7', 'DataType=0x7', 'AccessType=ro', 'PDOMapping=0', 'ObjFlags=1', 'ParameterValue=0x00020192']\n",
      "8 16\n",
      "['1001', 'ParameterName=Error register', 'ObjectType=0x7', 'DataType=0x5', 'AccessType=ro', 'PDOMapping=0', 'ObjFlags=1', 'ParameterValue=0x00']\n",
      "16 20\n",
      "['1003', 'SubNumber=6', 'ParameterName=Error history', 'ObjectType=0x8']\n"
     ]
    }
   ],
   "source": [
    "myList = [\n",
    "    '1000', 'ParameterName=Device type', 'ObjectType=0x7', 'DataType=0x7',\n",
    "    'AccessType=ro', 'PDOMapping=0', 'ObjFlags=1', 'ParameterValue=0x00020192',\n",
    "    '1001', 'ParameterName=Error register', 'ObjectType=0x7', 'DataType=0x5',\n",
    "    'AccessType=ro', 'PDOMapping=0', 'ObjFlags=1', 'ParameterValue=0x00',\n",
    "    '1003', 'SubNumber=6', 'ParameterName=Error history', 'ObjectType=0x8'\n",
    "]\n",
    "\n",
    "queryable=iter(myList)\n",
    "\n",
    "index = [i for i, v in enumerate(myList) if v.isnumeric()]\n",
    "\n",
    "#queryable2 = iter(index)\n",
    "for indice1, indice2 in list(zip(index,index[1:]+[-1])):\n",
    "    if (indice2==-1):\n",
    "        indice2=len(myList)\n",
    "    print(indice1,indice2)\n",
    "    print(myList[indice1:indice2])\n",
    "\n",
    "listOfList=[]\n",
    "sublist=[]\n",
    "for a in queryable:\n",
    "    if (a.isnumeric()==True) & (len(sublist)>0):\n",
    "        listOfList.append(sublist)\n",
    "        sublist=[]\n",
    "        sublist.append(a) \n",
    "    else:\n",
    "        sublist.append(a) \n",
    "        \n",
    "if(len(sublist)>0):\n",
    "    listOfList.append(sublist)\n",
    "#print(listOfList)"
   ]
  },
  {
   "cell_type": "code",
   "execution_count": 5,
   "metadata": {},
   "outputs": [
    {
     "name": "stdout",
     "output_type": "stream",
     "text": [
      "{'id': 1, 'name': 'adrian', 'age': 32, 'has_children': False}\n",
      "{\"type\": \"RECORD\", \"stream\": \"DC_employees\", \"record\": {\"id\": 1, \"name\": \"adrian\", \"age\": 32, \"has_children\": false}}\n"
     ]
    }
   ],
   "source": [
    "\n",
    "columns=(\"id\",\"name\",\"age\",\"has_children\")\n",
    "\n",
    "users={\n",
    "(1,\"adrian\",32,False),\n",
    "(2,\"ruanne\",28,True)\n",
    "}\n",
    "record=dict(zip(columns,users.pop()))\n",
    "#print(users.pop())\n",
    "print(record)\n",
    "\n",
    "fixed_dict={\"type\":\"RECORD\",\"stream\":\"DC_employees\"}\n",
    "record_msg={**fixed_dict,\"record\":record}\n",
    "\n",
    "print(json.dumps(record_msg))"
   ]
  },
  {
   "cell_type": "code",
   "execution_count": 7,
   "metadata": {},
   "outputs": [
    {
     "name": "stdout",
     "output_type": "stream",
     "text": [
      "                      0         1         2         3\n",
      "Region             Qtr1      Qtr2      Qtr3      Qtr4\n",
      "Europe         21704714  17987034  19485029  22567894\n",
      "Asia            8774099  12214447  14356879  15763492\n",
      "North America  12094215  10873099  15689543  17456723\n"
     ]
    }
   ],
   "source": [
    "region=['Qtr1','Qtr2','Qtr3','Qtr4']\n",
    "europe=[21704714,17987034,19485029,22567894]\n",
    "asia=[8774099,12214447,14356879,15763492]\n",
    "north_america=[12094215,10873099,15689543,17456723]\n",
    "\n",
    "df=pd.DataFrame({'Region':region,'Europe':europe,'Asia':asia,'North America':north_america})\n",
    "types = pd.Series(data=['str', 'int', 'int', 'int'], index=['Region', 'Europe', 'Asia', 'North America'])\n",
    "types = types.apply(eval)\n",
    "df.reset_index()\n",
    "df = df.astype(dtype=types.to_dict())\n",
    "df=df.T\n",
    "print(df.head())"
   ]
  },
  {
   "cell_type": "code",
   "execution_count": 89,
   "metadata": {},
   "outputs": [
    {
     "name": "stdout",
     "output_type": "stream",
     "text": [
      "                            0           1                2                3   \\\n",
      "action_type  landing_page_view  link_click  page_engagement  post_engagement   \n",
      "value                        1           1                1                1   \n",
      "\n",
      "                            4           5                6                7   \\\n",
      "action_type  landing_page_view  link_click  page_engagement  post_engagement   \n",
      "value                        1           1                1                1   \n",
      "\n",
      "                     8                9                10  \n",
      "action_type  video_view  page_engagement  post_engagement  \n",
      "value                23               23               23  \n"
     ]
    }
   ],
   "source": [
    "df = pd.DataFrame([\n",
    "    [\n",
    "        {'action_type': 'landing_page_view', 'value': '1'},\n",
    "        {'action_type': 'link_click', 'value': '1'},\n",
    "        {'action_type': 'page_engagement', 'value': '1'},\n",
    "        {'action_type': 'post_engagement', 'value': '1'},\n",
    "    ],\n",
    "    [\n",
    "        {'action_type': 'landing_page_view', 'value': '1'},\n",
    "        {'action_type': 'link_click', 'value': '1'},\n",
    "        {'action_type': 'page_engagement', 'value': '1'},\n",
    "        {'action_type': 'post_engagement', 'value': '1'},\n",
    "    ],\n",
    "    [\n",
    "        {'action_type': 'video_view', 'value': '23'},\n",
    "        {'action_type': 'page_engagement', 'value': '23'},\n",
    "        {'action_type': 'post_engagement', 'value': '23'},\n",
    "    ]\n",
    "   ]\n",
    ")\n",
    "\n",
    "df2=pd.DataFrame(columns=['action_type','value'])\n",
    "for key,dictList in df.iterrows():\n",
    "    for key, dictAction in dictList.items():  #returns tuple (index, dict)\n",
    "        #print(dictAction)\n",
    "        if (dictAction is None)==False:\n",
    "            \n",
    "            keys=dictAction.keys()\n",
    "            index=len(df2)\n",
    "            for key in keys:\n",
    "                value=dictAction[key]\n",
    "                df2.loc[index,key]=value\n",
    "                #print(key,value)\n",
    "\n",
    "df2=df2.T\n",
    "print(df2.head())        \n",
    "#df=pd.DataFrame({'action_type':action_type,'value':value})        \n",
    "#df=df.T\n",
    "\n"
   ]
  },
  {
   "cell_type": "code",
   "execution_count": 93,
   "metadata": {},
   "outputs": [
    {
     "name": "stdout",
     "output_type": "stream",
     "text": [
      "                     data\n",
      "2020-01-01 09:00:00     1\n",
      "2020-01-01 09:15:00     1\n",
      "2020-01-01 09:30:00     1\n",
      "2020-01-01 09:45:00     1\n",
      "2020-01-01 10:00:00     1\n"
     ]
    }
   ],
   "source": [
    "dr = pd.date_range('01-01-2020 9:00', '01-03-2020 23:59', freq='15T')\n",
    "df = pd.DataFrame({'data': 1}, index=dr) \n",
    "print(df.head())"
   ]
  },
  {
   "cell_type": "code",
   "execution_count": 117,
   "metadata": {},
   "outputs": [
    {
     "name": "stdout",
     "output_type": "stream",
     "text": [
      "   count_1  count_2  count_3  count_4  count_5  count_6  count_7  count_8  \\\n",
      "1        3        6        8        2        8        5        3        7   \n",
      "2        1        9        2        9        2        5        6        1   \n",
      "3        7        1        8        7        5        8        3        5   \n",
      "4        7        9        6        2        4        1        1        6   \n",
      "5        9        4        7        1        8        9        7        5   \n",
      "\n",
      "   count_9  count_10  count_11  count_12  count_13  count_14  count_15  \\\n",
      "1        2         4         2         9         6         7         9   \n",
      "2        9         3         9         9         3         5         1   \n",
      "3        4         8         5         7         7         3         6   \n",
      "4        2         7         9         2         2         2         2   \n",
      "5        1         1         8         6         7         7         4   \n",
      "\n",
      "   count_16  count_17  count_18  count_19  count_20  \n",
      "1         8         1         2         4         6  \n",
      "2         9         6         3         1         5  \n",
      "3         9         1         9         2         6  \n",
      "4         3         1         3         7         7  \n",
      "5         9         4         7         4         9  \n",
      "92\n",
      "122\n",
      "105\n",
      "104\n",
      "108\n",
      "111\n",
      "87\n",
      "102\n",
      "92\n",
      "99\n",
      "112\n",
      "101\n",
      "101\n",
      "103\n",
      "83\n",
      "116\n",
      "109\n",
      "107\n",
      "85\n",
      "117\n"
     ]
    },
    {
     "data": {
      "image/png": "[encoded data removed]",
      "text/plain": [
       "<Figure size 1152x576 with 1 Axes>"
      ]
     },
     "metadata": {
      "needs_background": "light"
     },
     "output_type": "display_data"
    }
   ],
   "source": [
    "bin = []\n",
    "cols = []\n",
    "for i in range(1,21):\n",
    "    cols.append(\"count_\" + str(i))\n",
    "    bin.append(i)\n",
    "\n",
    "df = pd.DataFrame(np.random.randint(1,10,(20, 20)), index=bin, columns=cols)\n",
    "\n",
    "print(df.head())\n",
    "\n",
    "fig,ax =plt.subplots(figsize=(16,8))\n",
    "for item in df[cols].sum():\n",
    "    print(item)\n",
    "grouped=df[cols].sum().plot(kind='barh')\n",
    "\n"
   ]
  },
  {
   "cell_type": "code",
   "execution_count": 135,
   "metadata": {},
   "outputs": [
    {
     "name": "stdout",
     "output_type": "stream",
     "text": [
      "       sid         hero        city mission_end_date  \\\n",
      "0   212121    Spiderman    New York       2021-07-15   \n",
      "1   364331      Ironman    New York              NaT   \n",
      "2   678523       Batman      Gotham              NaT   \n",
      "3   432432  Dr. Strange    New York              NaT   \n",
      "4   665544         Thor      Asgard       2020-10-10   \n",
      "5   665544         Thor      Asgard       2021-03-03   \n",
      "6   665544         Thor      Asgard       2020-05-12   \n",
      "7   123456     Superman  Metropolis       2021-03-06   \n",
      "8   555555    Nightwing      Gotham              NaT   \n",
      "9   666666         Loki      Asgard       2020-12-10   \n",
      "10  432432    Wolverine    New York              NaT   \n",
      "\n",
      "    mission_end_date_quarter  mission_end_date_year  \n",
      "0                        3.0                 2021.0  \n",
      "1                        NaN                    NaN  \n",
      "2                        NaN                    NaN  \n",
      "3                        NaN                    NaN  \n",
      "4                        4.0                 2020.0  \n",
      "5                        1.0                 2021.0  \n",
      "6                        2.0                 2020.0  \n",
      "7                        1.0                 2021.0  \n",
      "8                        NaN                    NaN  \n",
      "9                        4.0                 2020.0  \n",
      "10                       NaN                    NaN  \n",
      "                         mission_end_date                 \\\n",
      "mission_end_date_quarter              1.0  2.0  3.0  4.0   \n",
      "city       hero                                            \n",
      "Asgard     Loki                       0.0  0.0  0.0  1.0   \n",
      "           Thor                       1.0  1.0  0.0  1.0   \n",
      "Metropolis Superman                   1.0  0.0  0.0  0.0   \n",
      "New York   Spiderman                  0.0  0.0  1.0  0.0   \n",
      "\n",
      "                         mission_end_date_year                 sid            \\\n",
      "mission_end_date_quarter                   1.0  2.0  3.0  4.0  1.0  2.0  3.0   \n",
      "city       hero                                                                \n",
      "Asgard     Loki                            0.0  0.0  0.0  1.0  0.0  0.0  0.0   \n",
      "           Thor                            1.0  1.0  0.0  1.0  1.0  1.0  0.0   \n",
      "Metropolis Superman                        1.0  0.0  0.0  0.0  1.0  0.0  0.0   \n",
      "New York   Spiderman                       0.0  0.0  1.0  0.0  0.0  0.0  1.0   \n",
      "\n",
      "                               \n",
      "mission_end_date_quarter  4.0  \n",
      "city       hero                \n",
      "Asgard     Loki           1.0  \n",
      "           Thor           1.0  \n",
      "Metropolis Superman       0.0  \n",
      "New York   Spiderman      0.0  \n"
     ]
    }
   ],
   "source": [
    "sid=[665544,665544,2121,665544,212121,123456,666666]\n",
    "mission_end_date=[\"10/10/2020\",\"03/03/2021\",\"02/02/2021\",\"05/12/2020\",\"15/07/2021\",\"03/06/2021\",\"12/10/2020\"]\n",
    "\n",
    "superherod_sid=[212121,364331,678523,432432,665544,123456,555555,666666,432432]\n",
    "hero=[\"Spiderman\",\"Ironman\",\"Batman\",\"Dr. Strange\",\"Thor\",\"Superman\",\"Nightwing\",\"Loki\",\"Wolverine\"]\n",
    "city=[\"New York\",\"New York\",\"Gotham\",\"New York\",\"Asgard\",\"Metropolis\",\"Gotham\",\"Asgard\",\"New York\"]\n",
    "\n",
    "df_mission=pd.DataFrame({'sid':sid,'mission_end_date':mission_end_date})\n",
    "df_super=pd.DataFrame({'sid':superherod_sid,'hero':hero, 'city':city})\n",
    "\n",
    "df=df_super.merge(df_mission,on=\"sid\", how=\"left\")\n",
    "df['mission_end_date']=pd.to_datetime(df['mission_end_date'])\n",
    "df['mission_end_date_quarter']=df['mission_end_date'].dt.quarter\n",
    "df['mission_end_date_year']=df['mission_end_date'].dt.year\n",
    "print(df.head(20))\n",
    "\n",
    "pivot = df.pivot_table(index=['city', 'hero'], columns='mission_end_date_quarter', aggfunc='nunique').fillna(0)\n",
    "print(pivot.head())"
   ]
  },
  {
   "cell_type": "code",
   "execution_count": 159,
   "metadata": {},
   "outputs": [
    {
     "name": "stdout",
     "output_type": "stream",
     "text": [
      "0    id1:id2\n",
      "1    id2:id3\n",
      "2    id3:id4\n",
      "3    id4:id5\n",
      "Name: id, dtype: object\n",
      "   time level_0_x level_1_x       id level_0_y level_1_y  length  temp\n",
      "0    60       id1       id2  id1:id2       id1       id2      25     2\n",
      "1   420       id2       id3  id2:id3       id2       id3     750     2\n",
      "2   120       id3       id4  id3:id4       id4       id3      12     7\n",
      "3   336       id4       id5  id4:id5       id4       id5      56     3\n"
     ]
    }
   ],
   "source": [
    "time=[60,420,120,336]\n",
    "level_0=[\"id1\",\"id2\",\"id3\",\"id4\"]\n",
    "level_1=[\"id2\",\"id3\",\"id4\",\"id5\"]\n",
    "\n",
    "number=[0,1,2,3]\n",
    "temp_level_0=[\"id1\",\"id4\",\"id4\",\"id2\"]\n",
    "temp_level_1=[\"id2\",\"id5\",\"id3\",\"id3\"]\n",
    "temp_length=[25,56,12,750]\n",
    "temp_width=[2,3,7,2]\n",
    "\n",
    "df1=pd.DataFrame({'time':time,'level_0':level_0,'level_1':level_1})\n",
    "df2=pd.DataFrame({'level_0':temp_level_0,'level_1':temp_level_1,'length':temp_length,'temp':temp_width})\n",
    "\n",
    "df1.reset_index()\n",
    "df2.reset_index()\n",
    "df1['id']=\"\"\n",
    "df2['id']=\"\"\n",
    "df1['id']=df1.apply(lambda row: row.level_1+\":\"+row.level_0 if row.level_0>row.level_1 else row.level_0+\":\"+row.level_1, axis=1 )\n",
    "df2['id']=df2.apply(lambda row: row.level_1+\":\"+row.level_0 if row.level_0>row.level_1 else row.level_0+\":\"+row.level_1, axis=1 )\n",
    "final=df1.merge(df2,on=['id'])\n",
    "\n",
    "print(df1['id'])\n",
    "print(final.head())"
   ]
  },
  {
   "cell_type": "code",
   "execution_count": 176,
   "metadata": {},
   "outputs": [
    {
     "name": "stdout",
     "output_type": "stream",
     "text": [
      "2017-01-15\n"
     ]
    }
   ],
   "source": [
    "import datetime\n",
    "from datetime import datetime\n",
    "date_str=\"2017-01-15T02:41:38.466Z\"\n",
    "a_date=pd.to_datetime(date_str)\n",
    "print(a_date.strftime('%Y-%m-%d'))"
   ]
  },
  {
   "cell_type": "code",
   "execution_count": 17,
   "metadata": {},
   "outputs": [
    {
     "name": "stdout",
     "output_type": "stream",
     "text": [
      "            Brand  Price Liscence Plate\n",
      "0     Honda Civic  22000        ABC 123\n",
      "1  Toyota Corolla  25000        XYZ 789\n",
      "2      Ford Focus  27000        CBA 321\n",
      "3         Audi A4  35000        ZYX 987\n",
      "4             NaN  29000        DEF 456\n",
      "            Brand  Price Liscence Plate       Match\n",
      "0     Honda Civic  22000        ABC 123       Honda\n",
      "1  Toyota Corolla  25000        XYZ 789         Toy\n",
      "2      Ford Focus  27000        CBA 321  Ford Focus\n",
      "3         Audi A4  35000        ZYX 987         NaN\n",
      "4             NaN  29000        DEF 456         NaN\n"
     ]
    }
   ],
   "source": [
    "Cars = {'Brand': ['Honda Civic','Toyota Corolla','Ford Focus','Audi A4', np.nan],\n",
    "    'Price': [22000,25000,27000,35000, 29000],\n",
    "    'Liscence Plate': ['ABC 123', 'XYZ 789', 'CBA 321', 'ZYX 987', 'DEF 456']}\n",
    "\n",
    "df = pd.DataFrame(Cars,columns= ['Brand', 'Price', 'Liscence Plate'])\n",
    "\n",
    "print(df.head())\n",
    "\n",
    "search = ['Honda', 'Toy', 'Ford Focus', 'Audi A4 2019']\n",
    "pattern = '|'.join(search)\n",
    "\n",
    "#print (pattern)\n",
    "df['Match']=df['Brand'].str.extract(r'(^'+pattern+')')\n",
    "print(df.head())"
   ]
  },
  {
   "cell_type": "code",
   "execution_count": 43,
   "metadata": {},
   "outputs": [
    {
     "name": "stdout",
     "output_type": "stream",
     "text": [
      "   day  product_id  no_of_moves\n",
      "0    2         165          145\n",
      "1    2         177           18\n",
      "2    2         182          108\n",
      "3    1         210            6\n",
      "4    1         211           12\n",
      "day                1      2       3\n",
      "day product_id                     \n",
      "1   210          6.0    NaN     NaN\n",
      "    211         12.0    NaN     NaN\n",
      "    213         54.0    NaN     NaN\n",
      "2   165          NaN  145.0     NaN\n",
      "    177          NaN   18.0     NaN\n",
      "    182          NaN  108.0     NaN\n",
      "3   222          NaN    NaN   100.0\n",
      "    285          NaN    NaN  3613.0\n",
      "    308          NaN    NaN   301.0\n",
      "None\n"
     ]
    }
   ],
   "source": [
    "df=pd.DataFrame({\"day\":[2,2,2,1,1,1,3,3,3],\"product_id\":[165,177,182,210,211,213,222,285,308],\n",
    "                 \"no_of_moves\":[145,18,108,6,12,54,100,3613,301]})\n",
    "\n",
    "\n",
    "print(df.head())\n",
    "\n",
    "moves = df.pivot_table(index='day', values='no_of_moves', columns=['day','product_id'], aggfunc='sum')\n",
    "print(moves.T)\n",
    "\n"
   ]
  },
  {
   "cell_type": "code",
   "execution_count": 78,
   "metadata": {},
   "outputs": [
    {
     "name": "stdout",
     "output_type": "stream",
     "text": [
      "<class 'pandas.core.frame.DataFrame'>\n",
      "RangeIndex: 9 entries, 0 to 8\n",
      "Data columns (total 3 columns):\n",
      " #   Column       Non-Null Count  Dtype\n",
      "---  ------       --------------  -----\n",
      " 0   day          9 non-null      int64\n",
      " 1   product_id   9 non-null      int64\n",
      " 2   no_of_moves  9 non-null      int64\n",
      "dtypes: int64(3)\n",
      "memory usage: 344.0 bytes\n",
      "\n",
      "3\n"
     ]
    }
   ],
   "source": [
    "import io\n",
    "import re\n",
    "\n",
    "buffer = io.StringIO()\n",
    "df.info(buf=buffer)\n",
    "s = buffer.getvalue()\n",
    "pat=re.search(r\"total\\s{1}[0-9]\\s{1}column\",s)\n",
    "print(s)\n",
    "phrase=pat.group(0)\n",
    "value=re.findall(r'[0-9]+',phrase)[0]\n",
    "print(int(value))\n",
    "\n",
    "#https://docs.python.org/3/library/re.html"
   ]
  },
  {
   "cell_type": "code",
   "execution_count": null,
   "metadata": {},
   "outputs": [],
   "source": []
  }
 ],
 "metadata": {
  "kernelspec": {
   "display_name": "Python 3",
   "language": "python",
   "name": "python3"
  },
  "language_info": {
   "codemirror_mode": {
    "name": "ipython",
    "version": 3
   },
   "file_extension": ".py",
   "mimetype": "text/x-python",
   "name": "python",
   "nbconvert_exporter": "python",
   "pygments_lexer": "ipython3",
   "version": "3.7.9"
  }
 },
 "nbformat": 4,
 "nbformat_minor": 4
}
