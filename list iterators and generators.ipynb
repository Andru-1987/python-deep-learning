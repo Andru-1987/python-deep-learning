{
 "cells": [
  {
   "cell_type": "code",
   "execution_count": 1,
   "metadata": {},
   "outputs": [],
   "source": [
    "import numpy as np\n",
    "import pandas as pd\n",
    "from datetime import date\n",
    "from datetime import datetime\n",
    "import matplotlib.pyplot as plt\n",
    "import seaborn as sns\n",
    "from fuzzywuzzy import fuzz\n",
    "from fuzzywuzzy import process\n",
    "import pickle\n",
    "from scipy import optimize\n",
    "from contextlib import contextmanager\n",
    "from itertools import product\n",
    "#import recordlinkage\n",
    "import json\n",
    "\n",
    "import pickle\n",
    "\n",
    "import urllib\n",
    "import re\n"
   ]
  },
  {
   "cell_type": "code",
   "execution_count": 2,
   "metadata": {},
   "outputs": [
    {
     "name": "stdout",
     "output_type": "stream",
     "text": [
      "hello\n",
      "world\n"
     ]
    }
   ],
   "source": [
    "words=[\"hello\",\"world\"]\n",
    "\n",
    "for word in words:\n",
    "    print(word)"
   ]
  },
  {
   "cell_type": "code",
   "execution_count": 3,
   "metadata": {},
   "outputs": [
    {
     "name": "stdout",
     "output_type": "stream",
     "text": [
      "h\n",
      "e\n",
      "l\n",
      "l\n",
      "o\n",
      " \n",
      "w\n",
      "o\n",
      "r\n",
      "l\n",
      "d\n"
     ]
    }
   ],
   "source": [
    "for letter in \"hello world\":\n",
    "    print(letter)"
   ]
  },
  {
   "cell_type": "code",
   "execution_count": 4,
   "metadata": {
    "scrolled": true
   },
   "outputs": [
    {
     "name": "stdout",
     "output_type": "stream",
     "text": [
      "0\n",
      "1\n",
      "2\n",
      "3\n",
      "4\n",
      "5\n",
      "6\n",
      "7\n",
      "8\n",
      "9\n"
     ]
    }
   ],
   "source": [
    "for i in range(10):\n",
    "    print (i)"
   ]
  },
  {
   "cell_type": "code",
   "execution_count": 5,
   "metadata": {},
   "outputs": [
    {
     "name": "stdout",
     "output_type": "stream",
     "text": [
      "a r o u n d   t h e   w o r l d   i n   8 0   d a y s\n"
     ]
    }
   ],
   "source": [
    "word=\"around the world in 80 days\"\n",
    "it=iter(word)\n",
    "#for i in np.arange(0,len(word)):\n",
    "#    print(next(it))\n",
    "    \n",
    "print(*it)    \n",
    "\n"
   ]
  },
  {
   "cell_type": "code",
   "execution_count": 6,
   "metadata": {},
   "outputs": [
    {
     "name": "stdout",
     "output_type": "stream",
     "text": [
      "firstName david\n",
      "lastName nishimoto\n"
     ]
    }
   ],
   "source": [
    "dict={'firstName':'david','lastName':'nishimoto'}\n",
    "\n",
    "for key,value in dict.items():\n",
    "    print(key,value)"
   ]
  },
  {
   "cell_type": "code",
   "execution_count": 7,
   "metadata": {},
   "outputs": [
    {
     "name": "stdout",
     "output_type": "stream",
     "text": [
      "<class 'enumerate'>\n",
      "0 hawkeye\n",
      "1 iron man\n",
      "2 thor\n",
      "3 quicksilver\n",
      "10 hawkeye\n",
      "11 iron man\n",
      "12 thor\n",
      "13 quicksilver\n"
     ]
    }
   ],
   "source": [
    "avengers =['hawkeye','iron man','thor','quicksilver']\n",
    "\n",
    "e=enumerate(avengers)\n",
    "print(type(e))\n",
    "\n",
    "#e_list=list(e)\n",
    "#print(e_list)\n",
    "\n",
    "for index,value in enumerate(avengers):\n",
    "    print(index,value)\n",
    "    \n",
    "for index,value in enumerate(avengers, start=10):\n",
    "    print(index,value)   "
   ]
  },
  {
   "cell_type": "code",
   "execution_count": 8,
   "metadata": {},
   "outputs": [
    {
     "name": "stdout",
     "output_type": "stream",
     "text": [
      "<class 'zip'>\n",
      "[('hawkeye', 'barton'), ('iron man', 'stark'), ('thor', 'odinson'), ('quicksilver', 'maximoff')]\n",
      "hawkeye barton\n",
      "iron man stark\n",
      "thor odinson\n",
      "quicksilver maximoff\n",
      "\n"
     ]
    }
   ],
   "source": [
    "avengers =['hawkeye','iron man','thor','quicksilver']\n",
    "names=['barton','stark','odinson','maximoff']\n",
    "\n",
    "z=zip(avengers,names)\n",
    "print(type(z))\n",
    "\n",
    "z_list=list(z)\n",
    "\n",
    "print(z_list)\n",
    "\n",
    "for z1,z2 in z_list:\n",
    "    print(z1,z2)\n",
    "\n",
    "print(*z)\n",
    "\n"
   ]
  },
  {
   "cell_type": "code",
   "execution_count": 9,
   "metadata": {},
   "outputs": [
    {
     "name": "stdout",
     "output_type": "stream",
     "text": [
      "['h', 'u', 'm', 'a', 'n']\n"
     ]
    }
   ],
   "source": [
    "h_letters = [ letter for letter in 'human' ]\n",
    "print( h_letters)"
   ]
  },
  {
   "cell_type": "code",
   "execution_count": 10,
   "metadata": {},
   "outputs": [
    {
     "name": "stdout",
     "output_type": "stream",
     "text": [
      "['hello', 'world']\n"
     ]
    }
   ],
   "source": [
    "words=['hello','world']\n",
    "\n",
    "result=[word for word in words]\n",
    "print(result)"
   ]
  },
  {
   "cell_type": "code",
   "execution_count": 11,
   "metadata": {},
   "outputs": [
    {
     "name": "stdout",
     "output_type": "stream",
     "text": [
      "['h', 'u', 'm', 'a', 'n']\n"
     ]
    }
   ],
   "source": [
    "letters = list(map(lambda x: x, 'human'))\n",
    "print(letters)"
   ]
  },
  {
   "cell_type": "code",
   "execution_count": 12,
   "metadata": {},
   "outputs": [
    {
     "name": "stdout",
     "output_type": "stream",
     "text": [
      "0     True\n",
      "1     True\n",
      "2    False\n",
      "3    False\n",
      "4    False\n",
      "dtype: bool\n"
     ]
    },
    {
     "name": "stderr",
     "output_type": "stream",
     "text": [
      "C:\\Users\\dnishimoto.BOISE\\AppData\\Local\\Continuum\\anaconda3\\envs\\deeplearning\\lib\\site-packages\\ipykernel_launcher.py:17: SettingWithCopyWarning: \n",
      "A value is trying to be set on a copy of a slice from a DataFrame\n",
      "\n",
      "See the caveats in the documentation: https://pandas.pydata.org/pandas-docs/stable/user_guide/indexing.html#returning-a-view-versus-a-copy\n"
     ]
    }
   ],
   "source": [
    "df = pd.DataFrame({'Keyword': {0: 'apply', 1: 'apply', 2: 'apply', 3: 'terms', 4: 'terms'},\n",
    " 'X': {0: [1, 2], 1: [1, 2], 2: 'xy', 3: 'xx', 4: 'yy'},\n",
    " 'Y': {0: 'yy', 1: 'yy', 2: 'yx', 3: 'ix', 4: 'xi'}})\n",
    "#print(df)\n",
    "#print(df.info())\n",
    "\n",
    "df2=df.copy()\n",
    "mylist=df2.iloc[0,1]\n",
    "df2.iloc[0,1]=' '.join(map(str,mylist))\n",
    "\n",
    "mylist=df2.iloc[1,1]\n",
    "df2.iloc[1,1]=' '.join(map(str,mylist))\n",
    "\n",
    "duplicates=df2.duplicated(keep=False)\n",
    "#print(df2[duplicates])\n",
    "\n",
    "df2[duplicates].drop_duplicates(inplace=True)\n",
    "#print(df2)\n",
    "#print(df.astype(str))\n",
    "\n",
    "print(df.astype(str).duplicated(keep=False))\n",
    "\n",
    "df=df.iloc[df.astype(str).drop_duplicates().index]\n",
    "#print(df)\n",
    "\n"
   ]
  },
  {
   "cell_type": "code",
   "execution_count": 13,
   "metadata": {},
   "outputs": [
    {
     "name": "stdout",
     "output_type": "stream",
     "text": [
      "   keys values\n",
      "0  name  Monty\n",
      "1   age     42\n",
      "2  food   spam\n",
      "{'name': 'Monty', 'age': 42}\n"
     ]
    }
   ],
   "source": [
    "keys = ['name', 'age', 'food']\n",
    "values = ['Monty', 42, 'spam']\n",
    "index=np.arange(0,len(keys)-1)\n",
    "\n",
    "df=pd.DataFrame(list(zip(keys,values)), columns=['keys','values'])\n",
    "df.set_index('keys')\n",
    "print(df.head())\n",
    "\n",
    "data_dict = df.iloc[index].set_index('keys')['values'].to_dict() \n",
    "print(data_dict)"
   ]
  },
  {
   "cell_type": "code",
   "execution_count": 14,
   "metadata": {},
   "outputs": [],
   "source": [
    "tshirts=[\n",
    "\n",
    "{'brand': 'A',\n",
    "'color': ['blue', 'white', 'black'],\n",
    "'size': ['XS', 'M', 'L']},\n",
    "\n",
    "{'brand': 'B',\n",
    "'color': ['blue', 'red', 'black'],\n",
    "'size': ['S', 'M', 'L']},\n",
    "\n",
    "{'brand': 'C',\n",
    "'color': ['blue', 'white', 'yellow'],\n",
    "'size': ['S', 'M', 'XL']}\n",
    "\n",
    "]"
   ]
  },
  {
   "cell_type": "code",
   "execution_count": 15,
   "metadata": {},
   "outputs": [
    {
     "name": "stdout",
     "output_type": "stream",
     "text": [
      "{'brand': 'A', 'color': ['blue', 'white', 'black'], 'size': ['XS', 'M', 'L']}\n",
      "{'brand': 'B', 'color': ['blue', 'red', 'black'], 'size': ['S', 'M', 'L']}\n",
      "{'brand': 'C', 'color': ['blue', 'white', 'yellow'], 'size': ['S', 'M', 'XL']}\n"
     ]
    }
   ],
   "source": [
    "def search(color):\n",
    "    for item in tshirts:\n",
    "        #print(item['color'])\n",
    "        if color in item['color']:\n",
    "            yield item\n",
    "        \n",
    "for item in search(\"blue\"):\n",
    "    print(item)"
   ]
  },
  {
   "cell_type": "code",
   "execution_count": 16,
   "metadata": {},
   "outputs": [
    {
     "name": "stdout",
     "output_type": "stream",
     "text": [
      "      column1     column2\n",
      "0  2017-01-01  2017-01-01\n",
      "1  2017-01-01  2017-01-11\n",
      "2  2017-01-02  2017-03-09\n",
      "3  2017-01-03  2017-03-16\n",
      "4  2017-01-04  2017-01-10\n",
      "      column1     column2  differences classification\n",
      "0  2017-01-01  2017-01-01            0        level 0\n",
      "1  2017-01-01  2017-01-11           10        level 3\n",
      "2  2017-01-02  2017-03-09           66        level 4\n",
      "3  2017-01-03  2017-03-16           72        level 5\n",
      "4  2017-01-04  2017-01-10            6        level 2\n"
     ]
    },
    {
     "data": {
      "image/png": "[encoded data removed]",
      "text/plain": [
       "<Figure size 432x288 with 1 Axes>"
      ]
     },
     "metadata": {
      "needs_background": "light"
     },
     "output_type": "display_data"
    },
    {
     "data": {
      "image/png": "[encoded data removed]",
      "text/plain": [
       "<Figure size 432x288 with 1 Axes>"
      ]
     },
     "metadata": {
      "needs_background": "light"
     },
     "output_type": "display_data"
    },
    {
     "data": {
      "image/png": "[encoded data removed]",
      "text/plain": [
       "<Figure size 432x288 with 1 Axes>"
      ]
     },
     "metadata": {
      "needs_background": "light"
     },
     "output_type": "display_data"
    }
   ],
   "source": [
    "column1=['2017-01-01','2017-01-01','2017-01-02','2017-01-03','2017-01-04','2017-01-05','2017-01-06','2017-01-07','2017-01-08','2017-01-09','2017-01-10']        \n",
    "column2=['2017-01-01','2017-01-11','2017-03-09','2017-03-16','2017-01-10','2017-01-25','2017-01-25','2017-01-26','2017-01-15','2017-02-16','2017-01-24' ]\n",
    "index=range(0,len(column1))\n",
    "data={'column1':column1,'column2':column2}\n",
    "df=pd.DataFrame(data, columns=['column1','column2'],index=index)\n",
    "print(df.head())\n",
    "\n",
    "differences=df.apply(lambda x: datetime.strptime(x['column2'],'%Y-%m-%d')-datetime.strptime(x['column1'],'%Y-%m-%d'),axis=1)\n",
    "differences=differences.dt.days.astype('int')\n",
    "#print(differences)\n",
    "#years_bins = pd.IntervalIndex.from_tuples([(-1, 0),(0, 2),(2,6),(6, 15),(15,69),(69,np.inf)])\n",
    "years_bins=[-1,0,2,6,15,69,np.inf]\n",
    "output_labels=['level 0','level 1','level 2','level 3','level 4','level 5']    \n",
    "\n",
    "out=pd.cut(differences,bins=years_bins,labels=output_labels)\n",
    "df['differences']=differences\n",
    "df['classification']=out\n",
    "\n",
    "print(df.head())\n",
    "\n",
    "fig, ax = plt.subplots()\n",
    "ax = out.value_counts(sort=False).plot.barh(rot=0, color=\"b\", figsize=(6,4))\n",
    "ax.set_yticklabels(output_labels)\n",
    "#ax.ylabel('Years of Coding Experience')\n",
    "plt.show()\n",
    "\n",
    "plt.hist(df['classification'], bins=6)\n",
    "plt.show()\n",
    "\n",
    "sns.distplot(df['differences'])\n",
    "plt.show()\n"
   ]
  },
  {
   "cell_type": "code",
   "execution_count": 17,
   "metadata": {},
   "outputs": [
    {
     "data": {
      "text/plain": [
       "86"
      ]
     },
     "execution_count": 17,
     "metadata": {},
     "output_type": "execute_result"
    }
   ],
   "source": [
    "fuzz.WRatio('Reeding','Reading')"
   ]
  },
  {
   "cell_type": "code",
   "execution_count": 18,
   "metadata": {},
   "outputs": [
    {
     "data": {
      "text/plain": [
       "[('Rockets vs Lakers', 86, 0), ('Lakers vs Rockets', 86, 1)]"
      ]
     },
     "execution_count": 18,
     "metadata": {},
     "output_type": "execute_result"
    }
   ],
   "source": [
    "string=\"Houston Rockets vs Los Angeles Lakers\"\n",
    "\n",
    "choices=pd.Series(['Rockets vs Lakers', 'Lakers vs Rockets',\n",
    "'Houston vs Los Angeles','Heat vs Bulls'])\n",
    "\n",
    "process.extract(string, choices, limit=2)\n"
   ]
  },
  {
   "cell_type": "code",
   "execution_count": 19,
   "metadata": {},
   "outputs": [
    {
     "name": "stdout",
     "output_type": "stream",
     "text": [
      "  column1       state\n",
      "0       0  California\n",
      "1       1    New York\n",
      "California\n",
      "New York\n"
     ]
    }
   ],
   "source": [
    "categories={\"0\":\"California\",\"1\":\"New York\"}\n",
    "\n",
    "df=pd.DataFrame(list(categories.items()),columns=[\"column1\",\"state\"])\n",
    "print(df.head())\n",
    "\n",
    "for state in df['state']:\n",
    "    print(state)\n",
    "\n"
   ]
  },
  {
   "cell_type": "code",
   "execution_count": 20,
   "metadata": {},
   "outputs": [
    {
     "name": "stdout",
     "output_type": "stream",
     "text": [
      "    state  year  number continent\n",
      "0    Rome  2000     1.5        it\n",
      "1  Venice  2001     1.7        it\n",
      "2      NY  2002     3.6        US\n",
      "3  Boston  2001     2.4        US\n",
      "4  London  2003     2.9        UK\n",
      "continent  year\n",
      "UK         2003    3.05\n",
      "US         2001    2.40\n",
      "           2002    3.60\n",
      "it         2000    1.50\n",
      "           2001    1.70\n",
      "Name: number, dtype: float64\n"
     ]
    }
   ],
   "source": [
    "data = {'state': ['Rome', 'Venice', 'NY', 'Boston', 'London', 'Bristol'],\n",
    "    'year': [2000, 2001, 2002, 2001, 2003, 2003],\n",
    "    'number': [1.5, 1.7, 3.6, 2.4, 2.9, 3.2]}\n",
    "\n",
    "mapping = {\n",
    "    'Rome':'it', \n",
    "    'Venice':'it',\n",
    "    'London':'UK',\n",
    "    'Bristol':'UK',\n",
    "    'NY':'US',\n",
    "    'Boston':'US'\n",
    "}\n",
    "\n",
    "df = pd.DataFrame(data)\n",
    "df['continent']=df['state'].replace(mapping)\n",
    "print(df.head())\n",
    "print(df.groupby(['continent','year'])['number'].mean())"
   ]
  },
  {
   "cell_type": "code",
   "execution_count": 21,
   "metadata": {},
   "outputs": [
    {
     "name": "stdout",
     "output_type": "stream",
     "text": [
      "B 5 \u0000 ^\n"
     ]
    }
   ],
   "source": [
    "result=map(lambda item: chr(item), [66, 53, 0, 94])\n",
    "print(*result)\n"
   ]
  },
  {
   "cell_type": "code",
   "execution_count": 22,
   "metadata": {},
   "outputs": [
    {
     "name": "stdout",
     "output_type": "stream",
     "text": [
      "5 7 11 13 17 19 23\n",
      "1 8 27 64 125 216 343 512 729 1000\n"
     ]
    },
    {
     "data": {
      "text/plain": [
       "55"
      ]
     },
     "execution_count": 22,
     "metadata": {},
     "output_type": "execute_result"
    }
   ],
   "source": [
    "from functools import reduce\n",
    "\n",
    "def f(x):\n",
    "        return x % 2 != 0 and x % 3 != 0\n",
    "    \n",
    "print(*filter(f, range(2, 25)))\n",
    "#[5, 7, 11, 13, 17, 19, 23]\n",
    "\n",
    "def cube(x):\n",
    "        return x**3\n",
    "print(*map(cube, range(1, 11)))\n",
    "#[1, 8, 27, 64, 125, 216, 343, 512, 729, 1000]\n",
    "\n",
    "def add(x,y):\n",
    "        return x+y\n",
    "\n",
    "reduce(add, range(1, 11))\n",
    "#55"
   ]
  },
  {
   "cell_type": "code",
   "execution_count": 23,
   "metadata": {},
   "outputs": [
    {
     "name": "stdout",
     "output_type": "stream",
     "text": [
      "   STK_ID\n",
      "0  600809\n",
      "1  600141\n",
      "2  600329\n",
      "3       1\n",
      "4       2\n",
      "['600809', '600141', '600329']\n"
     ]
    }
   ],
   "source": [
    "list1=['600809','600141','600329','1','2','3']\n",
    "\n",
    "df=pd.DataFrame({'STK_ID':list1})\n",
    "print(df.head())\n",
    "\n",
    "stk_list = ['600809','600141','600329']\n",
    "\n",
    "result=filter(lambda item: item in stk_list,df['STK_ID'])\n",
    "\n",
    "print(list(result))\n",
    "\n"
   ]
  },
  {
   "cell_type": "code",
   "execution_count": 24,
   "metadata": {},
   "outputs": [
    {
     "name": "stdout",
     "output_type": "stream",
     "text": [
      "Friday\n",
      "136\n",
      "239\n",
      "0\n",
      "0\n",
      "Monday\n",
      "305\n",
      "431\n",
      "0\n",
      "0\n",
      "Saturday\n",
      "0\n",
      "3\n",
      "0\n",
      "0\n",
      "OrderedDict([(0, ['Friday', 136, 239, 0, 0]), (1, ['Monday', 305, 431, 0, 0]), (2, ['Saturday', 0, 3, 0, 0])])\n",
      "0\n",
      "1\n",
      "2\n"
     ]
    },
    {
     "name": "stderr",
     "output_type": "stream",
     "text": [
      "C:\\Users\\dnishimoto.BOISE\\AppData\\Roaming\\Python\\Python37\\site-packages\\pandas\\core\\frame.py:1490: FutureWarning: Using short name for 'orient' is deprecated. Only the options: ('dict', list, 'series', 'split', 'records', 'index') will be used in a future version. Use one of the above to silence this warning.\n",
      "  FutureWarning,\n"
     ]
    }
   ],
   "source": [
    "from collections import OrderedDict\n",
    "dayname=['Friday','Monday','Saturday']\n",
    "A=[136,305,0]\n",
    "B=[239,431,3]\n",
    "C=[0,0,0]\n",
    "D=[0,0,0]\n",
    "E=[283,845,11]\n",
    "df=pd.DataFrame({'dayname':dayname,'A':A,'B':B,'C':C,'D':D})\n",
    "df.set_index('dayname')\n",
    "new_df=df.T\n",
    "#print(new_df)\n",
    "#l for list\n",
    "result2=new_df.to_dict('l', into=OrderedDict)\n",
    "#print(result)\n",
    "\n",
    "result=df.set_index('dayname').T.to_dict('l')\n",
    "\n",
    "for key,value in result.items():\n",
    "    print (key)\n",
    "    [print(item) for item in value]\n",
    "\n",
    "\n",
    "print(result2)\n",
    "for item in result2:\n",
    "    print(item)"
   ]
  },
  {
   "cell_type": "code",
   "execution_count": 25,
   "metadata": {},
   "outputs": [
    {
     "name": "stdout",
     "output_type": "stream",
     "text": [
      "[{'c', 'd', 'e', 'a', 'b'}, {'c', 'a', 'd', 'b'}, {'e', 'a', 'g', 'b'}]\n",
      "{'a', 'b'}\n"
     ]
    }
   ],
   "source": [
    "\n",
    "myList = ['abcdde',\n",
    "          'baccd',\n",
    "          'eeabg']\n",
    "\n",
    "#You can divide the list into sets and find the intersection using that:\n",
    "sets_list = [{letter for letter in string} for string in myList]\n",
    "print(sets_list)\n",
    "print(set.intersection(*sets_list))"
   ]
  },
  {
   "cell_type": "code",
   "execution_count": 26,
   "metadata": {},
   "outputs": [
    {
     "name": "stdout",
     "output_type": "stream",
     "text": [
      "(1, 1, 'A') 2\n"
     ]
    }
   ],
   "source": [
    "col1=[1,1,0,1,1,1]     \n",
    "col2=[1,0,1,1,0,0]     \n",
    "col3=['A','A','A','A','B','C']\n",
    "df=pd.DataFrame({'col1':col1,'col2':col2,'col3':col3})\n",
    "results=df[['col1','col2','col3']].value_counts().sort_values(ascending=False)\n",
    "print(results.index[0],results.iloc[0])\n",
    "#print(results)\n",
    "#print(results.unstack(level=2))\n"
   ]
  },
  {
   "cell_type": "code",
   "execution_count": 27,
   "metadata": {},
   "outputs": [
    {
     "name": "stdout",
     "output_type": "stream",
     "text": [
      "3.5\n"
     ]
    }
   ],
   "source": [
    "def median(values):\n",
    "    \"\"\"Get the median of a list of values\n",
    "      Args:\n",
    "        values (iterable of float): A list of numbers\n",
    "      Returns:\n",
    "        float\n",
    "    \"\"\"\n",
    "    # Write the median() function\n",
    "    values.sort()\n",
    "    n = len(values)\n",
    "    \n",
    "    if n%2==0:\n",
    "        median1 = values[n//2] \n",
    "        median2 = values[n//2 - 1] \n",
    "        median = (median1 + median2)/2\n",
    "    else:\n",
    "        median = values[n//2] \n",
    "    return median\n",
    "\n",
    "print(median([1,2,4,3,5,7]))"
   ]
  },
  {
   "cell_type": "code",
   "execution_count": 28,
   "metadata": {},
   "outputs": [
    {
     "name": "stdout",
     "output_type": "stream",
     "text": [
      "hello\n",
      "42\n",
      "goodbye\n"
     ]
    }
   ],
   "source": [
    "@contextmanager\n",
    "def my_context():\n",
    "    print('hello')\n",
    "    yield 42\n",
    "    print('goodbye')\n",
    "    \n",
    "with my_context() as v1:\n",
    "    print(v1)"
   ]
  },
  {
   "cell_type": "code",
   "execution_count": 46,
   "metadata": {},
   "outputs": [
    {
     "name": "stdout",
     "output_type": "stream",
     "text": [
      "140\n"
     ]
    }
   ],
   "source": [
    "def double_args(func):\n",
    "    def wrapper(a,b):\n",
    "        return func(a*2,b*2)\n",
    "    return wrapper\n",
    "\n",
    "@double_args\n",
    "def multiple(a,b):\n",
    "        return a*b\n",
    "\n",
    "new_multiple=multiple(5,7)\n",
    "print(new_multiple)"
   ]
  },
  {
   "cell_type": "code",
   "execution_count": 47,
   "metadata": {},
   "outputs": [
    {
     "name": "stdout",
     "output_type": "stream",
     "text": [
      "Choose From the following Program:\n",
      "\n",
      "1. Band name Generator\n",
      "\n",
      "2. Tip Calculator For  Bill.\n",
      "\n",
      "2\n",
      "Welcome to Band Name Generator.\n",
      "\n",
      "What's is the name of city you grew up?\n",
      "a\n",
      "What's your pet's name?\n",
      "a\n",
      "Your Band Name could be : a a\n",
      "Welcome to tip calculator.\n",
      "\n"
     ]
    }
   ],
   "source": [
    "class Day1:\n",
    "\n",
    "    def day1(self):\n",
    "        print('1. Band name Generator\\n')\n",
    "\n",
    "    def program1(self):\n",
    "        print('Welcome to Band Name Generator.\\n')\n",
    "        cityName=input('What\\'s is the name of city you grew up?\\n')\n",
    "        petName = input('What\\'s your pet\\'s name?\\n')\n",
    "        print('Your Band Name could be : '+cityName+\" \"+petName)\n",
    "\n",
    "class TipCalculator:\n",
    "    def day2(self):\n",
    "        print(\"2. Tip Calculator For  Bill.\\n\")\n",
    "\n",
    "    def program1(self):\n",
    "        print('Welcome to tip calculator.\\n')\n",
    "        \n",
    "def choose():\n",
    "    print(\"Choose From the following Program:\\n\")\n",
    "    day1 = Day1()\n",
    "    day1.day1()\n",
    "\n",
    "    day2 = TipCalculator()\n",
    "    day2.day2()\n",
    "\n",
    "\n",
    "    x = int(input());\n",
    "\n",
    "\n",
    "    chooices={\n",
    "        1: day1.program1(),\n",
    "        2: day2.program1(),\n",
    "\n",
    "    }\n",
    "    chooices.get(x, \"Ther is no program\")    \n",
    "\n",
    "choose()"
   ]
  },
  {
   "cell_type": "code",
   "execution_count": 11,
   "metadata": {},
   "outputs": [
    {
     "name": "stdout",
     "output_type": "stream",
     "text": [
      "Natural entity in the observable universe.\n"
     ]
    }
   ],
   "source": [
    "class AstroBody:\n",
    "    description = 'Natural entity in the observable universe.'    \n",
    "\n",
    "class Star:\n",
    "    description=AstroBody.description\n",
    "    pass\n",
    "\n",
    "sun = Star()\n",
    "\n",
    "\n",
    "print(sun.description)"
   ]
  },
  {
   "cell_type": "code",
   "execution_count": 13,
   "metadata": {},
   "outputs": [
    {
     "name": "stdout",
     "output_type": "stream",
     "text": [
      "Chocolate\n"
     ]
    }
   ],
   "source": [
    "class Candy:\n",
    "    flavor = 'sweet'\n",
    "    \n",
    "    def __init__(self, name):\n",
    "        self.name = name\n",
    "        \n",
    "c = Candy('Chocolate')\n",
    "\n",
    "print(c.name)"
   ]
  },
  {
   "cell_type": "code",
   "execution_count": 16,
   "metadata": {},
   "outputs": [
    {
     "data": {
      "text/plain": [
       "[0, 1, 2, 3, 4]"
      ]
     },
     "execution_count": 16,
     "metadata": {},
     "output_type": "execute_result"
    }
   ],
   "source": [
    "[i  for i in range(5)]"
   ]
  },
  {
   "cell_type": "code",
   "execution_count": 21,
   "metadata": {},
   "outputs": [],
   "source": [
    "class Planet:\n",
    "    def __init__(self, name):\n",
    "        self.name = name\n",
    "        \n",
    "v = ('venus')"
   ]
  },
  {
   "cell_type": "code",
   "execution_count": 33,
   "metadata": {},
   "outputs": [
    {
     "name": "stdout",
     "output_type": "stream",
     "text": [
      "p\n"
     ]
    }
   ],
   "source": [
    "w = 'python'\n",
    "\n",
    "w_iterator = iter(w)\n",
    "\n",
    "print(next(w_iterator))\n",
    "\n",
    "#for l in (w_iterator):\n",
    "    #print(l)\n",
    "    \n"
   ]
  },
  {
   "cell_type": "code",
   "execution_count": 34,
   "metadata": {},
   "outputs": [
    {
     "name": "stdout",
     "output_type": "stream",
     "text": [
      "4\n"
     ]
    }
   ],
   "source": [
    "ints = set([1,1,2,3,3,3,4])\n",
    "print(len(ints))"
   ]
  },
  {
   "cell_type": "code",
   "execution_count": 35,
   "metadata": {},
   "outputs": [
    {
     "name": "stdout",
     "output_type": "stream",
     "text": [
      "29\n"
     ]
    }
   ],
   "source": [
    "from datetime import date\n",
    "\n",
    "d1=date(2017,11,5)\n",
    "d2=date(2017,12,4)\n",
    "\n",
    "delta= d2 - d1\n",
    "\n",
    "print(delta.days)"
   ]
  },
  {
   "cell_type": "code",
   "execution_count": 53,
   "metadata": {},
   "outputs": [
    {
     "name": "stdout",
     "output_type": "stream",
     "text": [
      "2020/11/08\n",
      "16:11 PM\n",
      "False\n"
     ]
    }
   ],
   "source": [
    "import datetime\n",
    "#https://strftime.org/\n",
    "d=datetime.datetime.now()\n",
    "print(d.strftime(\"%Y/%m/%d\"))\n",
    "print(d.strftime(\"%H:%m %p\"))\n",
    "match=d.strftime(\"%H:%m %p\")==\"14:00 PM\"\n",
    "print(match)"
   ]
  },
  {
   "cell_type": "code",
   "execution_count": 73,
   "metadata": {},
   "outputs": [
    {
     "name": "stdout",
     "output_type": "stream",
     "text": [
      "2001-01-01  found\n",
      "2010-11-21  found\n"
     ]
    }
   ],
   "source": [
    "import datetime\n",
    "#https://strftime.org/\n",
    "d=datetime.datetime.now()\n",
    "\n",
    "dateList=['2017-12-31','2001-01-01','2010-11-21']\n",
    "\n",
    "for item in dateList:\n",
    "    diff_days=(d-datetime.datetime.strptime(item,'%Y-%m-%d')).days\n",
    "    if (diff_days/365)>5:\n",
    "        print(item,\" found\")"
   ]
  },
  {
   "cell_type": "code",
   "execution_count": 20,
   "metadata": {},
   "outputs": [
    {
     "name": "stdout",
     "output_type": "stream",
     "text": [
      "Eastern Standard Time Zone\n",
      "2017-12-30 17:09:03-05:00\n",
      "India Standard Time Zone\n",
      "2017-12-31 03:39:03+05:30\n",
      "2017-12-30 15:09:03+00:00\n"
     ]
    }
   ],
   "source": [
    "from datetime import datetime, timedelta, timezone\n",
    "\n",
    "print(\"Eastern Standard Time Zone\")\n",
    "ET=timezone(timedelta(hours=-5))\n",
    "#print(ET)\n",
    "#print(datetime(1970,1,1, tzinfo=timezone.utc))\n",
    "\n",
    "tzinfo=timezone.utc\n",
    "dt=datetime(2017,12,30,15,9,3)\n",
    "#dt=datetime(2017,12,30,15,9,3,tzinfo=ET)\n",
    "#print (dt)\n",
    "print(dt.astimezone(ET))\n",
    "\n",
    "print(\"India Standard Time Zone\")\n",
    "\n",
    "IST= timezone(timedelta(hours=5,minutes=30))\n",
    "dt=datetime(2017,12,30,15,9,3)\n",
    "print(dt.astimezone(IST))\n",
    "print(dt.replace(tzinfo=timezone.utc))"
   ]
  },
  {
   "cell_type": "code",
   "execution_count": 23,
   "metadata": {},
   "outputs": [
    {
     "name": "stdout",
     "output_type": "stream",
     "text": [
      "2017-12-30 15:09:03\n",
      "2017-12-30 15:09:03-04:00\n"
     ]
    }
   ],
   "source": [
    "edt = timezone(timedelta(hours=-4))\n",
    "dt=datetime(2017,12,30,15,9,3)\n",
    "print(dt)\n",
    "dt=dt.replace(tzinfo=edt)\n",
    "\n",
    "print(dt)"
   ]
  },
  {
   "cell_type": "code",
   "execution_count": 32,
   "metadata": {},
   "outputs": [
    {
     "name": "stdout",
     "output_type": "stream",
     "text": [
      "2017-03-12T01:59:59-05:00\n",
      "0.0\n"
     ]
    }
   ],
   "source": [
    "EST = timezone(timedelta(hours=-5))\n",
    "EDT = timezone(timedelta(hours=-4))\n",
    "\n",
    "spring_ahead_159am = datetime(2017,3,12,1,59,59, tzinfo=EST)\n",
    "print(spring_ahead_159am.isoformat())\n",
    "\n",
    "spring_ahead_3am=datetime(2017,3,12,3,0,0,tzinfo=EDT)\n",
    "spring_ahead_3am.isoformat()\n",
    "\n",
    "print(((spring_ahead_3am - spring_ahead_159am).total_seconds()-1)/60)"
   ]
  },
  {
   "cell_type": "code",
   "execution_count": 29,
   "metadata": {},
   "outputs": [
    {
     "data": {
      "text/plain": [
       "<matplotlib.axes._subplots.AxesSubplot at 0x2169a7b0a48>"
      ]
     },
     "execution_count": 29,
     "metadata": {},
     "output_type": "execute_result"
    },
    {
     "data": {
      "image/png": "[encoded data removed]",
      "text/plain": [
       "<Figure size 432x288 with 1 Axes>"
      ]
     },
     "metadata": {
      "needs_background": "light"
     },
     "output_type": "display_data"
    }
   ],
   "source": [
    "def accumulate(values):\n",
    "    \"\"\"The accumulate function takes the offset previous numbers in a series and sums them.\"\"\"\n",
    "    offset=0\n",
    "    accumulate=[]\n",
    "    for i in np.arange(len(values)):\n",
    "        offset+=1\n",
    "        accumulate.append(values[:offset].sum())\n",
    "        \n",
    "    return accumulate\n",
    "\n",
    "A=pd.DataFrame(np.arange(1,101), columns=['value'])\n",
    "\n",
    "#print(A)\n",
    "\n",
    "A.aggregate(accumulate).plot()"
   ]
  },
  {
   "cell_type": "code",
   "execution_count": 1,
   "metadata": {},
   "outputs": [
    {
     "name": "stdout",
     "output_type": "stream",
     "text": [
      "[1, 2, 3, 4, 5, 6, 7, 8, 9]\n"
     ]
    }
   ],
   "source": [
    "l = [[1, 2, 3], [4, 5, 6], [7], [8, 9]]\n",
    "l2=[]\n",
    "[[l2.append(i) for i in sublist] for sublist in l]\n",
    "print(l2)"
   ]
  },
  {
   "cell_type": "code",
   "execution_count": 19,
   "metadata": {},
   "outputs": [
    {
     "name": "stdout",
     "output_type": "stream",
     "text": [
      "[['dbc123', 'adc123', 'abd123', 'abcd23', 'abc1d3', 'abc12d'], ['ebc123', 'aec123', 'abe123', 'abce23', 'abc1e3', 'abc12e'], ['fbc123', 'afc123', 'abf123', 'abcf23', 'abc1f3', 'abc12f'], ['2bc123', 'a2c123', 'ab2123', 'abc223', 'abc123', 'abc122'], ['3bc123', 'a3c123', 'ab3123', 'abc323', 'abc133', 'abc123'], ['4bc123', 'a4c123', 'ab4123', 'abc423', 'abc143', 'abc124'], ['6bc123', 'a6c123', 'ab6123', 'abc623', 'abc163', 'abc126'], ['7bc123', 'a7c123', 'ab7123', 'abc723', 'abc173', 'abc127'], ['8bc123', 'a8c123', 'ab8123', 'abc823', 'abc183', 'abc128'], ['9bc123', 'a9c123', 'ab9123', 'abc923', 'abc193', 'abc129']]\n"
     ]
    }
   ],
   "source": [
    "string = \"abc123\"\n",
    "char = \"def2346789\"\n",
    "\n",
    "def fncCombinations(a):\n",
    "    combination_list=[]\n",
    "    for j in range(len(string)): \n",
    "        combination_list.append(string[:j] + a + string[j+1:])\n",
    "    return combination_list \n",
    "combination_list=[fncCombinations(a) for a in char]\n",
    "print(combination_list)\n",
    "\n",
    "#for i in range(len(char)):\n",
    "#    current=char[i]\n",
    "#    for j in range(len(string)):\n",
    "#        front=string[:j]\n",
    "#        back=string[j+1:]\n",
    "#        print(\"f:{}b:{}c:{}\".format(front,back,current))\n",
    "#        combination_list=[x for x in product(current,back)]\n",
    "#        print(combination_list)\n",
    "        \n",
    "    \n",
    "    \n",
    "    "
   ]
  },
  {
   "cell_type": "code",
   "execution_count": 42,
   "metadata": {},
   "outputs": [
    {
     "name": "stdout",
     "output_type": "stream",
     "text": [
      " bc123\n",
      "a c123\n",
      "ab 123\n",
      "abc 23\n",
      "abc1 3\n",
      "abc12 \n",
      "[['dbc123', 'ebc123', 'fbc123', '2bc123', '3bc123', '4bc123', '6bc123', '7bc123', '8bc123', '9bc123'], ['adc123', 'aec123', 'afc123', 'a2c123', 'a3c123', 'a4c123', 'a6c123', 'a7c123', 'a8c123', 'a9c123'], ['abd123', 'abe123', 'abf123', 'ab2123', 'ab3123', 'ab4123', 'ab6123', 'ab7123', 'ab8123', 'ab9123'], ['abcd23', 'abce23', 'abcf23', 'abc223', 'abc323', 'abc423', 'abc623', 'abc723', 'abc823', 'abc923'], ['abc1d3', 'abc1e3', 'abc1f3', 'abc123', 'abc133', 'abc143', 'abc163', 'abc173', 'abc183', 'abc193'], ['abc12d', 'abc12e', 'abc12f', 'abc122', 'abc123', 'abc124', 'abc126', 'abc127', 'abc128', 'abc129']]\n"
     ]
    }
   ],
   "source": [
    "string=\"abc123\"\n",
    "char = \"def2346789\"\n",
    "queue=[]\n",
    "stack=[]\n",
    "combination_list=[]\n",
    "queue=[x for x in string]\n",
    "#print(queue)\n",
    "for index in range(len(queue)):\n",
    "    stack.append(queue.pop(0))\n",
    "    front=\"\".join(stack[:-1])\n",
    "    back=\"\".join(queue)\n",
    "    print(front,back)\n",
    "    combination_list.append([front+a+back for a in char])\n",
    "\n",
    "print(combination_list)\n"
   ]
  },
  {
   "cell_type": "code",
   "execution_count": 93,
   "metadata": {},
   "outputs": [
    {
     "name": "stdout",
     "output_type": "stream",
     "text": [
      "Index         int32\n",
      "HOME_TEAM    object\n",
      "AWAY_TEAM    object\n",
      "BOOL           bool\n",
      "dtype: object\n",
      "['Manchester United', 'Leicester City', 'Everton', 'Stoke City', 'West Bromwich Albion', 'Manchester United', 'Leicester City', 'West Bromwich Albion', 'Stoke City']\n",
      "   Index             HOME_TEAM     AWAY_TEAM   BOOL                  TEAM\n",
      "0   1153     Manchester United  Swansea City   True     Manchester United\n",
      "1   1163        Leicester City       Everton  False        Leicester City\n",
      "2   1172               Everton     Hull City   True               Everton\n",
      "3   1183            Stoke City       Everton   True            Stoke City\n",
      "4   1193  West Bromwich Albion    Sunderland  False  West Bromwich Albion\n"
     ]
    }
   ],
   "source": [
    "Index=[1153,1163,1172,1183,1193]\n",
    "HOME_TEAM=['Manchester United','Leicester City','Everton','Stoke City','West Bromwich Albion']\n",
    "AWAY_TEAM=['Swansea City','Everton','Hull City','Everton','Sunderland']\n",
    "BOOL=[True,False,True,True,False]\n",
    "\n",
    "types = pd.Series(data=['int', 'str', 'str', 'bool'], index=['Index', 'HOME_TEAM', 'AWAY_TEAM', 'BOOL'])\n",
    "types = types.apply(eval)\n",
    "\n",
    "df=pd.DataFrame({'Index':Index,'HOME_TEAM':HOME_TEAM,'AWAY_TEAM':AWAY_TEAM,'BOOL':BOOL})\n",
    "df.set_index('Index')\n",
    "\n",
    "df = df.astype(dtype=types.to_dict())\n",
    "\n",
    "print(df.dtypes)\n",
    "\n",
    "list1=list(df['HOME_TEAM'].unique())\n",
    "list2=list(df['AWAY_TEAM'].unique())\n",
    "notInList2=set(list1)-set(list2)\n",
    "combined=(list1+list(notInList2))\n",
    "\n",
    "print(combined)\n",
    "\n",
    "df['TEAM']=\"\"\n",
    "for item in combined:\n",
    "    filter=(df['HOME_TEAM']==item) | (df['AWAY_TEAM']==item)\n",
    "    key=df[filter]['Index'].index\n",
    "    df.loc[key,'TEAM']=item\n",
    "    \n",
    "print(df.head())\n",
    "    \n"
   ]
  },
  {
   "cell_type": "code",
   "execution_count": 27,
   "metadata": {},
   "outputs": [
    {
     "name": "stdout",
     "output_type": "stream",
     "text": [
      "   A                          B                            C\n",
      "0  a  <built-in function empty>                             \n",
      "1  b                          a  [<built-in function empty>]\n",
      "2  c                          a  [<built-in function empty>]\n",
      "3  d                          b                          [a]\n",
      "4  e                          d                          [b]\n"
     ]
    }
   ],
   "source": [
    "list1=['a','b','c','d','e']\n",
    "list2=[np.empty,'a','a','b','d']\n",
    "df=pd.DataFrame({'A':list1,'B':list2})\n",
    "\n",
    "df['C']=[df.loc[df['A']==x,'B'].values if x in df['A'].values else '' for x in df['B']]\n",
    "print(df[['A','B','C']].head())"
   ]
  },
  {
   "cell_type": "code",
   "execution_count": 46,
   "metadata": {},
   "outputs": [
    {
     "name": "stdout",
     "output_type": "stream",
     "text": [
      "11.0\n"
     ]
    }
   ],
   "source": [
    "x=round(float(\"10.8\"),0)\n",
    "print(x)"
   ]
  },
  {
   "cell_type": "code",
   "execution_count": 50,
   "metadata": {},
   "outputs": [
    {
     "name": "stdout",
     "output_type": "stream",
     "text": [
      "     X\n",
      "b  1.0\n",
      "b  1.0\n",
      "b  NaN\n",
      "c  1.0\n",
      "c  1.0\n",
      "c  1.0\n"
     ]
    }
   ],
   "source": [
    "df = pd.DataFrame(data    = [1,np.nan,np.nan,1,1,np.nan,1,1,1], \n",
    "                   columns = ['X'], \n",
    "                   index   = ['a', 'a', 'a', \n",
    "                              'b', 'b', 'b',\n",
    "                              'c', 'c', 'c'])\n",
    "\n",
    "out = df.groupby(level=0).filter(lambda x : x.isna().sum()<=1)\n",
    "\n",
    "print(out)"
   ]
  },
  {
   "cell_type": "code",
   "execution_count": 10,
   "metadata": {},
   "outputs": [
    {
     "name": "stdout",
     "output_type": "stream",
     "text": [
      "[{('sw0005', 'sw0076'): 'Gi1/2'}, {('sw0005', 'sw0076'): 'Gi1/5'}]\n"
     ]
    }
   ],
   "source": [
    "list1=['sw0005', 'sw0076', 'Gi1/2', 'sw0005', 'sw0076', 'Gi1/5']\n",
    "\n",
    "queryable=iter(list1)\n",
    "\n",
    "mylist=[]\n",
    "for i in range(int(len(list1)/3)):\n",
    "    mylist.append({(next(queryable),next(queryable)):next(queryable)})\n",
    "    \n",
    "print(mylist)"
   ]
  },
  {
   "cell_type": "code",
   "execution_count": 43,
   "metadata": {},
   "outputs": [
    {
     "name": "stdout",
     "output_type": "stream",
     "text": [
      "0 8\n",
      "['1000', 'ParameterName=Device type', 'ObjectType=0x7', 'DataType=0x7', 'AccessType=ro', 'PDOMapping=0', 'ObjFlags=1', 'ParameterValue=0x00020192']\n",
      "8 16\n",
      "['1001', 'ParameterName=Error register', 'ObjectType=0x7', 'DataType=0x5', 'AccessType=ro', 'PDOMapping=0', 'ObjFlags=1', 'ParameterValue=0x00']\n",
      "16 20\n",
      "['1003', 'SubNumber=6', 'ParameterName=Error history', 'ObjectType=0x8']\n"
     ]
    }
   ],
   "source": [
    "myList = [\n",
    "    '1000', 'ParameterName=Device type', 'ObjectType=0x7', 'DataType=0x7',\n",
    "    'AccessType=ro', 'PDOMapping=0', 'ObjFlags=1', 'ParameterValue=0x00020192',\n",
    "    '1001', 'ParameterName=Error register', 'ObjectType=0x7', 'DataType=0x5',\n",
    "    'AccessType=ro', 'PDOMapping=0', 'ObjFlags=1', 'ParameterValue=0x00',\n",
    "    '1003', 'SubNumber=6', 'ParameterName=Error history', 'ObjectType=0x8'\n",
    "]\n",
    "\n",
    "queryable=iter(myList)\n",
    "\n",
    "index = [i for i, v in enumerate(myList) if v.isnumeric()]\n",
    "\n",
    "#queryable2 = iter(index)\n",
    "for indice1, indice2 in list(zip(index,index[1:]+[-1])):\n",
    "    if (indice2==-1):\n",
    "        indice2=len(myList)\n",
    "    print(indice1,indice2)\n",
    "    print(myList[indice1:indice2])\n",
    "\n",
    "listOfList=[]\n",
    "sublist=[]\n",
    "for a in queryable:\n",
    "    if (a.isnumeric()==True) & (len(sublist)>0):\n",
    "        listOfList.append(sublist)\n",
    "        sublist=[]\n",
    "        sublist.append(a) \n",
    "    else:\n",
    "        sublist.append(a) \n",
    "        \n",
    "if(len(sublist)>0):\n",
    "    listOfList.append(sublist)\n",
    "#print(listOfList)"
   ]
  },
  {
   "cell_type": "code",
   "execution_count": 5,
   "metadata": {},
   "outputs": [
    {
     "name": "stdout",
     "output_type": "stream",
     "text": [
      "{'id': 1, 'name': 'adrian', 'age': 32, 'has_children': False}\n",
      "{\"type\": \"RECORD\", \"stream\": \"DC_employees\", \"record\": {\"id\": 1, \"name\": \"adrian\", \"age\": 32, \"has_children\": false}}\n"
     ]
    }
   ],
   "source": [
    "\n",
    "columns=(\"id\",\"name\",\"age\",\"has_children\")\n",
    "\n",
    "users={\n",
    "(1,\"adrian\",32,False),\n",
    "(2,\"ruanne\",28,True)\n",
    "}\n",
    "record=dict(zip(columns,users.pop()))\n",
    "#print(users.pop())\n",
    "print(record)\n",
    "\n",
    "fixed_dict={\"type\":\"RECORD\",\"stream\":\"DC_employees\"}\n",
    "record_msg={**fixed_dict,\"record\":record}\n",
    "\n",
    "print(json.dumps(record_msg))"
   ]
  },
  {
   "cell_type": "code",
   "execution_count": 7,
   "metadata": {},
   "outputs": [
    {
     "name": "stdout",
     "output_type": "stream",
     "text": [
      "                      0         1         2         3\n",
      "Region             Qtr1      Qtr2      Qtr3      Qtr4\n",
      "Europe         21704714  17987034  19485029  22567894\n",
      "Asia            8774099  12214447  14356879  15763492\n",
      "North America  12094215  10873099  15689543  17456723\n"
     ]
    }
   ],
   "source": [
    "region=['Qtr1','Qtr2','Qtr3','Qtr4']\n",
    "europe=[21704714,17987034,19485029,22567894]\n",
    "asia=[8774099,12214447,14356879,15763492]\n",
    "north_america=[12094215,10873099,15689543,17456723]\n",
    "\n",
    "df=pd.DataFrame({'Region':region,'Europe':europe,'Asia':asia,'North America':north_america})\n",
    "types = pd.Series(data=['str', 'int', 'int', 'int'], index=['Region', 'Europe', 'Asia', 'North America'])\n",
    "types = types.apply(eval)\n",
    "df.reset_index()\n",
    "df = df.astype(dtype=types.to_dict())\n",
    "df=df.T\n",
    "print(df.head())"
   ]
  },
  {
   "cell_type": "code",
   "execution_count": 89,
   "metadata": {},
   "outputs": [
    {
     "name": "stdout",
     "output_type": "stream",
     "text": [
      "                            0           1                2                3   \\\n",
      "action_type  landing_page_view  link_click  page_engagement  post_engagement   \n",
      "value                        1           1                1                1   \n",
      "\n",
      "                            4           5                6                7   \\\n",
      "action_type  landing_page_view  link_click  page_engagement  post_engagement   \n",
      "value                        1           1                1                1   \n",
      "\n",
      "                     8                9                10  \n",
      "action_type  video_view  page_engagement  post_engagement  \n",
      "value                23               23               23  \n"
     ]
    }
   ],
   "source": [
    "df = pd.DataFrame([\n",
    "    [\n",
    "        {'action_type': 'landing_page_view', 'value': '1'},\n",
    "        {'action_type': 'link_click', 'value': '1'},\n",
    "        {'action_type': 'page_engagement', 'value': '1'},\n",
    "        {'action_type': 'post_engagement', 'value': '1'},\n",
    "    ],\n",
    "    [\n",
    "        {'action_type': 'landing_page_view', 'value': '1'},\n",
    "        {'action_type': 'link_click', 'value': '1'},\n",
    "        {'action_type': 'page_engagement', 'value': '1'},\n",
    "        {'action_type': 'post_engagement', 'value': '1'},\n",
    "    ],\n",
    "    [\n",
    "        {'action_type': 'video_view', 'value': '23'},\n",
    "        {'action_type': 'page_engagement', 'value': '23'},\n",
    "        {'action_type': 'post_engagement', 'value': '23'},\n",
    "    ]\n",
    "   ]\n",
    ")\n",
    "\n",
    "df2=pd.DataFrame(columns=['action_type','value'])\n",
    "for key,dictList in df.iterrows():\n",
    "    for key, dictAction in dictList.items():  #returns tuple (index, dict)\n",
    "        #print(dictAction)\n",
    "        if (dictAction is None)==False:\n",
    "            \n",
    "            keys=dictAction.keys()\n",
    "            index=len(df2)\n",
    "            for key in keys:\n",
    "                value=dictAction[key]\n",
    "                df2.loc[index,key]=value\n",
    "                #print(key,value)\n",
    "\n",
    "df2=df2.T\n",
    "print(df2.head())        \n",
    "#df=pd.DataFrame({'action_type':action_type,'value':value})        \n",
    "#df=df.T\n",
    "\n"
   ]
  },
  {
   "cell_type": "code",
   "execution_count": 93,
   "metadata": {},
   "outputs": [
    {
     "name": "stdout",
     "output_type": "stream",
     "text": [
      "                     data\n",
      "2020-01-01 09:00:00     1\n",
      "2020-01-01 09:15:00     1\n",
      "2020-01-01 09:30:00     1\n",
      "2020-01-01 09:45:00     1\n",
      "2020-01-01 10:00:00     1\n"
     ]
    }
   ],
   "source": [
    "dr = pd.date_range('01-01-2020 9:00', '01-03-2020 23:59', freq='15T')\n",
    "df = pd.DataFrame({'data': 1}, index=dr) \n",
    "print(df.head())"
   ]
  },
  {
   "cell_type": "code",
   "execution_count": 30,
   "metadata": {},
   "outputs": [
    {
     "name": "stdout",
     "output_type": "stream",
     "text": [
      "90\n",
      "100\n",
      "89\n",
      "95\n",
      "93\n",
      "115\n",
      "96\n",
      "104\n",
      "101\n",
      "86\n",
      "103\n",
      "114\n",
      "115\n",
      "106\n",
      "98\n",
      "121\n",
      "107\n",
      "106\n",
      "107\n",
      "97\n",
      "   count_1  count_2  count_3  count_4  count_5  count_6  count_7  count_8  \\\n",
      "1        1        6        6        3        1        4        7        4   \n",
      "2        6        2        9        7        1        3        3        5   \n",
      "3        5        5        3        7        2        9        3        1   \n",
      "4        8        4        4        1        3        5        6        8   \n",
      "5        5        5        1        2        7        5        5        2   \n",
      "\n",
      "   count_9  count_10  ...  count_12  count_13  count_14  count_15  count_16  \\\n",
      "1        8         1  ...         1         3         5         1         8   \n",
      "2        7         7  ...         4         8         6         3         9   \n",
      "3        4         2  ...         4         3         1         1         9   \n",
      "4        3         5  ...         5         1         1         5         4   \n",
      "5        6         4  ...         4         9         9         4         7   \n",
      "\n",
      "   count_17  count_18  count_19  count_20  sum  \n",
      "1         4         8         7         6   90  \n",
      "2         6         1         6         1  100  \n",
      "3         7         6         7         4   89  \n",
      "4         7         9         9         3   95  \n",
      "5         2         2         9         1   93  \n",
      "\n",
      "[5 rows x 21 columns]\n"
     ]
    },
    {
     "data": {
      "image/png": "[encoded data removed]",
      "text/plain": [
       "<Figure size 1152x576 with 1 Axes>"
      ]
     },
     "metadata": {
      "needs_background": "light"
     },
     "output_type": "display_data"
    }
   ],
   "source": [
    "bin = []\n",
    "cols = []\n",
    "for i in range(1,21):\n",
    "    cols.append(\"count_\" + str(i))\n",
    "    bin.append(i)\n",
    "\n",
    "df = pd.DataFrame(np.random.randint(1,10,(20, 20)), index=bin, columns=cols)\n",
    "for col in cols:\n",
    "    df[col]=df[col].astype(int) \n",
    "\n",
    "#print(df.head())\n",
    "\n",
    "fig,ax =plt.subplots(figsize=(16,8))\n",
    "#for item in df[cols].sum():\n",
    "#    print(item)\n",
    "grouped=df[cols].sum().plot(kind='barh')\n",
    "\n",
    "df['sum']=0\n",
    "for key,item in df.iterrows():\n",
    "    sum=0\n",
    "    for col in cols:\n",
    "        sum+=df.loc[key,col]\n",
    "    print(sum)\n",
    "    df.loc[key,'sum']=sum\n",
    "    \n",
    "print (df.head())\n",
    "\n",
    "\n"
   ]
  },
  {
   "cell_type": "code",
   "execution_count": 12,
   "metadata": {},
   "outputs": [
    {
     "name": "stdout",
     "output_type": "stream",
     "text": [
      "       sid         hero        city mission_end_date  \\\n",
      "0   212121    Spiderman    New York       2021-07-15   \n",
      "1   364331      Ironman    New York              NaT   \n",
      "2   678523       Batman      Gotham              NaT   \n",
      "3   432432  Dr. Strange    New York              NaT   \n",
      "4   665544         Thor      Asgard       2020-10-10   \n",
      "5   665544         Thor      Asgard       2021-03-03   \n",
      "6   665544         Thor      Asgard       2020-05-12   \n",
      "7   123456     Superman  Metropolis       2021-03-06   \n",
      "8   555555    Nightwing      Gotham              NaT   \n",
      "9   666666         Loki      Asgard       2020-12-10   \n",
      "10  432432    Wolverine    New York              NaT   \n",
      "\n",
      "    mission_end_date_quarter  mission_end_date_year  \n",
      "0                        3.0                 2021.0  \n",
      "1                        NaN                    NaN  \n",
      "2                        NaN                    NaN  \n",
      "3                        NaN                    NaN  \n",
      "4                        4.0                 2020.0  \n",
      "5                        1.0                 2021.0  \n",
      "6                        2.0                 2020.0  \n",
      "7                        1.0                 2021.0  \n",
      "8                        NaN                    NaN  \n",
      "9                        4.0                 2020.0  \n",
      "10                       NaN                    NaN  \n",
      "                         mission_end_date                 \\\n",
      "mission_end_date_quarter              1.0  2.0  3.0  4.0   \n",
      "city       hero                                            \n",
      "Asgard     Loki                       0.0  0.0  0.0  1.0   \n",
      "           Thor                       1.0  1.0  0.0  1.0   \n",
      "Metropolis Superman                   1.0  0.0  0.0  0.0   \n",
      "New York   Spiderman                  0.0  0.0  1.0  0.0   \n",
      "\n",
      "                         mission_end_date_year                 sid            \\\n",
      "mission_end_date_quarter                   1.0  2.0  3.0  4.0  1.0  2.0  3.0   \n",
      "city       hero                                                                \n",
      "Asgard     Loki                            0.0  0.0  0.0  1.0  0.0  0.0  0.0   \n",
      "           Thor                            1.0  1.0  0.0  1.0  1.0  1.0  0.0   \n",
      "Metropolis Superman                        1.0  0.0  0.0  0.0  1.0  0.0  0.0   \n",
      "New York   Spiderman                       0.0  0.0  1.0  0.0  0.0  0.0  1.0   \n",
      "\n",
      "                               \n",
      "mission_end_date_quarter  4.0  \n",
      "city       hero                \n",
      "Asgard     Loki           1.0  \n",
      "           Thor           1.0  \n",
      "Metropolis Superman       0.0  \n",
      "New York   Spiderman      0.0  \n"
     ]
    }
   ],
   "source": [
    "sid=[665544,665544,2121,665544,212121,123456,666666]\n",
    "mission_end_date=[\"10/10/2020\",\"03/03/2021\",\"02/02/2021\",\"05/12/2020\",\"15/07/2021\",\"03/06/2021\",\"12/10/2020\"]\n",
    "\n",
    "superherod_sid=[212121,364331,678523,432432,665544,123456,555555,666666,432432]\n",
    "hero=[\"Spiderman\",\"Ironman\",\"Batman\",\"Dr. Strange\",\"Thor\",\"Superman\",\"Nightwing\",\"Loki\",\"Wolverine\"]\n",
    "city=[\"New York\",\"New York\",\"Gotham\",\"New York\",\"Asgard\",\"Metropolis\",\"Gotham\",\"Asgard\",\"New York\"]\n",
    "\n",
    "df_mission=pd.DataFrame({'sid':sid,'mission_end_date':mission_end_date})\n",
    "df_super=pd.DataFrame({'sid':superherod_sid,'hero':hero, 'city':city})\n",
    "\n",
    "df=df_super.merge(df_mission,on=\"sid\", how=\"left\")\n",
    "df['mission_end_date']=pd.to_datetime(df['mission_end_date'])\n",
    "df['mission_end_date_quarter']=df['mission_end_date'].dt.quarter\n",
    "df['mission_end_date_year']=df['mission_end_date'].dt.year\n",
    "print(df.head(20))\n",
    "\n",
    "pivot = df.pivot_table(index=['city', 'hero'], columns='mission_end_date_quarter', aggfunc='nunique').fillna(0)\n",
    "print(pivot.head())"
   ]
  },
  {
   "cell_type": "code",
   "execution_count": 159,
   "metadata": {},
   "outputs": [
    {
     "name": "stdout",
     "output_type": "stream",
     "text": [
      "0    id1:id2\n",
      "1    id2:id3\n",
      "2    id3:id4\n",
      "3    id4:id5\n",
      "Name: id, dtype: object\n",
      "   time level_0_x level_1_x       id level_0_y level_1_y  length  temp\n",
      "0    60       id1       id2  id1:id2       id1       id2      25     2\n",
      "1   420       id2       id3  id2:id3       id2       id3     750     2\n",
      "2   120       id3       id4  id3:id4       id4       id3      12     7\n",
      "3   336       id4       id5  id4:id5       id4       id5      56     3\n"
     ]
    }
   ],
   "source": [
    "time=[60,420,120,336]\n",
    "level_0=[\"id1\",\"id2\",\"id3\",\"id4\"]\n",
    "level_1=[\"id2\",\"id3\",\"id4\",\"id5\"]\n",
    "\n",
    "number=[0,1,2,3]\n",
    "temp_level_0=[\"id1\",\"id4\",\"id4\",\"id2\"]\n",
    "temp_level_1=[\"id2\",\"id5\",\"id3\",\"id3\"]\n",
    "temp_length=[25,56,12,750]\n",
    "temp_width=[2,3,7,2]\n",
    "\n",
    "df1=pd.DataFrame({'time':time,'level_0':level_0,'level_1':level_1})\n",
    "df2=pd.DataFrame({'level_0':temp_level_0,'level_1':temp_level_1,'length':temp_length,'temp':temp_width})\n",
    "\n",
    "df1.reset_index()\n",
    "df2.reset_index()\n",
    "df1['id']=\"\"\n",
    "df2['id']=\"\"\n",
    "df1['id']=df1.apply(lambda row: row.level_1+\":\"+row.level_0 if row.level_0>row.level_1 else row.level_0+\":\"+row.level_1, axis=1 )\n",
    "df2['id']=df2.apply(lambda row: row.level_1+\":\"+row.level_0 if row.level_0>row.level_1 else row.level_0+\":\"+row.level_1, axis=1 )\n",
    "final=df1.merge(df2,on=['id'])\n",
    "\n",
    "print(df1['id'])\n",
    "print(final.head())"
   ]
  },
  {
   "cell_type": "code",
   "execution_count": 176,
   "metadata": {},
   "outputs": [
    {
     "name": "stdout",
     "output_type": "stream",
     "text": [
      "2017-01-15\n"
     ]
    }
   ],
   "source": [
    "import datetime\n",
    "from datetime import datetime\n",
    "date_str=\"2017-01-15T02:41:38.466Z\"\n",
    "a_date=pd.to_datetime(date_str)\n",
    "print(a_date.strftime('%Y-%m-%d'))"
   ]
  },
  {
   "cell_type": "code",
   "execution_count": 17,
   "metadata": {
    "scrolled": true
   },
   "outputs": [
    {
     "name": "stdout",
     "output_type": "stream",
     "text": [
      "            Brand  Price Liscence Plate\n",
      "0     Honda Civic  22000        ABC 123\n",
      "1  Toyota Corolla  25000        XYZ 789\n",
      "2      Ford Focus  27000        CBA 321\n",
      "3         Audi A4  35000        ZYX 987\n",
      "4             NaN  29000        DEF 456\n",
      "            Brand  Price Liscence Plate       Match\n",
      "0     Honda Civic  22000        ABC 123       Honda\n",
      "1  Toyota Corolla  25000        XYZ 789         Toy\n",
      "2      Ford Focus  27000        CBA 321  Ford Focus\n",
      "3         Audi A4  35000        ZYX 987         NaN\n",
      "4             NaN  29000        DEF 456         NaN\n"
     ]
    }
   ],
   "source": [
    "Cars = {'Brand': ['Honda Civic','Toyota Corolla','Ford Focus','Audi A4', np.nan],\n",
    "    'Price': [22000,25000,27000,35000, 29000],\n",
    "    'Liscence Plate': ['ABC 123', 'XYZ 789', 'CBA 321', 'ZYX 987', 'DEF 456']}\n",
    "\n",
    "df = pd.DataFrame(Cars,columns= ['Brand', 'Price', 'Liscence Plate'])\n",
    "\n",
    "print(df.head())\n",
    "\n",
    "search = ['Honda', 'Toy', 'Ford Focus', 'Audi A4 2019']\n",
    "pattern = '|'.join(search)\n",
    "\n",
    "#print (pattern)\n",
    "df['Match']=df['Brand'].str.extract(r'(^'+pattern+')')\n",
    "print(df.head())"
   ]
  },
  {
   "cell_type": "code",
   "execution_count": 43,
   "metadata": {},
   "outputs": [
    {
     "name": "stdout",
     "output_type": "stream",
     "text": [
      "   day  product_id  no_of_moves\n",
      "0    2         165          145\n",
      "1    2         177           18\n",
      "2    2         182          108\n",
      "3    1         210            6\n",
      "4    1         211           12\n",
      "day                1      2       3\n",
      "day product_id                     \n",
      "1   210          6.0    NaN     NaN\n",
      "    211         12.0    NaN     NaN\n",
      "    213         54.0    NaN     NaN\n",
      "2   165          NaN  145.0     NaN\n",
      "    177          NaN   18.0     NaN\n",
      "    182          NaN  108.0     NaN\n",
      "3   222          NaN    NaN   100.0\n",
      "    285          NaN    NaN  3613.0\n",
      "    308          NaN    NaN   301.0\n",
      "None\n"
     ]
    }
   ],
   "source": [
    "df=pd.DataFrame({\"day\":[2,2,2,1,1,1,3,3,3],\"product_id\":[165,177,182,210,211,213,222,285,308],\n",
    "                 \"no_of_moves\":[145,18,108,6,12,54,100,3613,301]})\n",
    "\n",
    "\n",
    "print(df.head())\n",
    "\n",
    "moves = df.pivot_table(index='day', values='no_of_moves', columns=['day','product_id'], aggfunc='sum')\n",
    "print(moves.T)\n",
    "\n"
   ]
  },
  {
   "cell_type": "code",
   "execution_count": 78,
   "metadata": {},
   "outputs": [
    {
     "name": "stdout",
     "output_type": "stream",
     "text": [
      "<class 'pandas.core.frame.DataFrame'>\n",
      "RangeIndex: 9 entries, 0 to 8\n",
      "Data columns (total 3 columns):\n",
      " #   Column       Non-Null Count  Dtype\n",
      "---  ------       --------------  -----\n",
      " 0   day          9 non-null      int64\n",
      " 1   product_id   9 non-null      int64\n",
      " 2   no_of_moves  9 non-null      int64\n",
      "dtypes: int64(3)\n",
      "memory usage: 344.0 bytes\n",
      "\n",
      "3\n"
     ]
    }
   ],
   "source": [
    "import io\n",
    "import re\n",
    "\n",
    "buffer = io.StringIO()\n",
    "df.info(buf=buffer)\n",
    "s = buffer.getvalue()\n",
    "pat=re.search(r\"total\\s{1}[0-9]\\s{1}column\",s)\n",
    "print(s)\n",
    "phrase=pat.group(0)\n",
    "value=re.findall(r'[0-9]+',phrase)[0]\n",
    "print(int(value))\n",
    "\n",
    "#https://docs.python.org/3/library/re.html"
   ]
  },
  {
   "cell_type": "code",
   "execution_count": 22,
   "metadata": {},
   "outputs": [
    {
     "name": "stdout",
     "output_type": "stream",
     "text": [
      "       a\n",
      "1    NaN\n",
      "1  100.0\n",
      "0    NaN\n",
      "     a by\n",
      "0    0  C\n",
      "1  100  B\n",
      "1  200  B\n"
     ]
    }
   ],
   "source": [
    "df2 = pd.DataFrame({\"a\":[0,100,200],  \"by\":[\"C\",\"B\",\"B\"]}, index=[0,1,1])\n",
    "print(df2.sort_values(by='by').groupby(\"by\").diff())\n",
    "\n",
    "print(df2)"
   ]
  },
  {
   "cell_type": "code",
   "execution_count": 31,
   "metadata": {},
   "outputs": [
    {
     "name": "stdout",
     "output_type": "stream",
     "text": [
      "Quartiles:\n",
      "1st    10\n",
      "2nd    10\n",
      "3rd    10\n",
      "4th    10\n",
      "dtype: int64\n"
     ]
    },
    {
     "data": {
      "text/plain": [
       "<AxesSubplot:>"
      ]
     },
     "execution_count": 31,
     "metadata": {},
     "output_type": "execute_result"
    },
    {
     "data": {
      "image/png": "[encoded data removed]",
      "text/plain": [
       "<Figure size 432x288 with 1 Axes>"
      ]
     },
     "metadata": {
      "needs_background": "light"
     },
     "output_type": "display_data"
    }
   ],
   "source": [
    "np.random.seed(4242)\n",
    "\n",
    "y = pd.Series(np.random.randint(low=1, high=10, size=40))\n",
    "quartiles = pd.qcut(y.rank(method = 'first'), 4, labels=['1st', '2nd', '3rd', '4th'])\n",
    "#quartiles = pd.qcut(y, q=4, labels=range(1,5))  \n",
    "\n",
    "  #four groups of equal sizes called quartiles\n",
    "\n",
    "print('Quartiles:')\n",
    "print(quartiles.value_counts(sort=False))\n",
    "\n",
    "y.groupby(quartiles).agg(['count', 'mean']).plot(kind='bar')"
   ]
  },
  {
   "cell_type": "code",
   "execution_count": 4,
   "metadata": {},
   "outputs": [
    {
     "name": "stderr",
     "output_type": "stream",
     "text": [
      "*c* argument looks like a single numeric RGB or RGBA sequence, which should be avoided as value-mapping will have precedence in case its length matches with *x* & *y*.  Please use the *color* keyword-argument or provide a 2-D array with a single row if you intend to specify the same RGB or RGBA value for all points.\n",
      "*c* argument looks like a single numeric RGB or RGBA sequence, which should be avoided as value-mapping will have precedence in case its length matches with *x* & *y*.  Please use the *color* keyword-argument or provide a 2-D array with a single row if you intend to specify the same RGB or RGBA value for all points.\n",
      "*c* argument looks like a single numeric RGB or RGBA sequence, which should be avoided as value-mapping will have precedence in case its length matches with *x* & *y*.  Please use the *color* keyword-argument or provide a 2-D array with a single row if you intend to specify the same RGB or RGBA value for all points.\n",
      "*c* argument looks like a single numeric RGB or RGBA sequence, which should be avoided as value-mapping will have precedence in case its length matches with *x* & *y*.  Please use the *color* keyword-argument or provide a 2-D array with a single row if you intend to specify the same RGB or RGBA value for all points.\n",
      "*c* argument looks like a single numeric RGB or RGBA sequence, which should be avoided as value-mapping will have precedence in case its length matches with *x* & *y*.  Please use the *color* keyword-argument or provide a 2-D array with a single row if you intend to specify the same RGB or RGBA value for all points.\n",
      "*c* argument looks like a single numeric RGB or RGBA sequence, which should be avoided as value-mapping will have precedence in case its length matches with *x* & *y*.  Please use the *color* keyword-argument or provide a 2-D array with a single row if you intend to specify the same RGB or RGBA value for all points.\n",
      "*c* argument looks like a single numeric RGB or RGBA sequence, which should be avoided as value-mapping will have precedence in case its length matches with *x* & *y*.  Please use the *color* keyword-argument or provide a 2-D array with a single row if you intend to specify the same RGB or RGBA value for all points.\n",
      "*c* argument looks like a single numeric RGB or RGBA sequence, which should be avoided as value-mapping will have precedence in case its length matches with *x* & *y*.  Please use the *color* keyword-argument or provide a 2-D array with a single row if you intend to specify the same RGB or RGBA value for all points.\n",
      "*c* argument looks like a single numeric RGB or RGBA sequence, which should be avoided as value-mapping will have precedence in case its length matches with *x* & *y*.  Please use the *color* keyword-argument or provide a 2-D array with a single row if you intend to specify the same RGB or RGBA value for all points.\n"
     ]
    },
    {
     "name": "stdout",
     "output_type": "stream",
     "text": [
      "apple\n",
      "apple\n",
      "apple\n",
      "pear\n",
      "pear\n",
      "pear\n",
      "peach\n",
      "peach\n",
      "peach\n"
     ]
    },
    {
     "data": {
      "image/png": "[encoded data removed]",
      "text/plain": [
       "<Figure size 432x288 with 1 Axes>"
      ]
     },
     "metadata": {
      "needs_background": "light"
     },
     "output_type": "display_data"
    }
   ],
   "source": [
    "from matplotlib.pyplot import cm\n",
    "import matplotlib.pyplot as plt\n",
    "import numpy as np\n",
    "\n",
    "dictMy = {'apple' : [[0, 1], [0, 2], [3, 2]],\n",
    "          'pear' : [[2, 3], [3, 5], [0, 2]],\n",
    "          'peach' : [[2, 5], [3, 8], [0, 0]],\n",
    "         }\n",
    "color=iter(cm.rainbow(np.linspace(0,1,len(dictMy))))\n",
    "\n",
    "for key, c in zip(dictMy, color):\n",
    "    for idx, item in enumerate(dictMy[key]):\n",
    "        print(key)\n",
    "        x = item[0]\n",
    "        y = item[1]\n",
    "        if idx == 0:\n",
    "            plt.scatter(x, y, c=c, label=key)\n",
    "        else:\n",
    "            plt.scatter(x, y, c=c)\n",
    "\n",
    "plt.legend()\n",
    "plt.show()"
   ]
  },
  {
   "cell_type": "code",
   "execution_count": 27,
   "metadata": {},
   "outputs": [
    {
     "name": "stdout",
     "output_type": "stream",
     "text": [
      "   1  2  3  4\n",
      "0  4  7  3  5\n",
      "[5, 8, 4, 6]\n",
      "[6, 9, 5, 7]\n",
      "[7, 10, 6, 8]\n",
      "[8, 11, 7, 9]\n",
      "[9, 12, 8, 10]\n",
      "[10, 13, 9, 11]\n",
      "[11, 14, 10, 12]\n",
      "[12, 15, 11, 13]\n",
      "[13, 16, 12, 14]\n"
     ]
    }
   ],
   "source": [
    "mp = [1,2,3,4]\n",
    "tw = [4,7,3,5]\n",
    "\n",
    "cw = []\n",
    "df = pd.DataFrame((cw),\n",
    "    columns = [\"1\",\"2\",\"3\",\"4\"])\n",
    "df.loc[len(df)] = tw\n",
    "df.reset_index()\n",
    "print(df.head())\n",
    "\n",
    "for key in range(9):\n",
    "    row = df.loc[key].values #convert to array\n",
    "    row = row.tolist() #convert to nested list\n",
    "    row=[x+1 for x in row]\n",
    "    df.loc[key+1]=row\n",
    "    print (row)"
   ]
  },
  {
   "cell_type": "code",
   "execution_count": 78,
   "metadata": {},
   "outputs": [
    {
     "name": "stdout",
     "output_type": "stream",
     "text": [
      "     enddate  favorable  unfavorable  other\n",
      "0 2012-10-25       0.48         0.49   0.03\n",
      "1 2012-10-25       0.51         0.48   0.02\n",
      "2 2012-10-27       0.51         0.47   0.02\n",
      "3 2012-10-26       0.56         0.40   0.04\n",
      "4 2012-10-28       0.48         0.49   0.04\n",
      "Index(['enddate', 'favorable', 'unfavorable', 'other'], dtype='object')\n",
      "<class 'pandas.core.frame.DataFrame'>\n",
      "RangeIndex: 20 entries, 0 to 19\n",
      "Data columns (total 4 columns):\n",
      " #   Column       Non-Null Count  Dtype         \n",
      "---  ------       --------------  -----         \n",
      " 0   enddate      20 non-null     datetime64[ns]\n",
      " 1   favorable    20 non-null     float64       \n",
      " 2   unfavorable  20 non-null     float64       \n",
      " 3   other        20 non-null     float64       \n",
      "dtypes: datetime64[ns](1), float64(3)\n",
      "memory usage: 768.0 bytes\n",
      "None\n"
     ]
    },
    {
     "data": {
      "image/png": "[encoded data removed]",
      "text/plain": [
       "<Figure size 360x720 with 1 Axes>"
      ]
     },
     "metadata": {
      "needs_background": "light"
     },
     "output_type": "display_data"
    }
   ],
   "source": [
    "\n",
    "df=pd.read_csv('poll.csv',parse_dates=['enddate'],dtype={'favorable':np.float,'unfavorable':np.float,'other':np.float})\n",
    "#df['enddate']=pd.to_datetime(df['enddate'])\n",
    "df.set_index('enddate')\n",
    "df=df.fillna(0)\n",
    "print(df.head())\n",
    "print(df.columns)\n",
    "print(df.info())\n",
    "fig, axs = plt.subplots(figsize=(5,10))\n",
    "df.plot(x='enddate', ax=axs)\n",
    "plt.show()\n"
   ]
  },
  {
   "cell_type": "code",
   "execution_count": 101,
   "metadata": {},
   "outputs": [
    {
     "data": {
      "image/png": "[encoded data removed]",
      "text/plain": [
       "<Figure size 432x288 with 1 Axes>"
      ]
     },
     "metadata": {
      "needs_background": "light"
     },
     "output_type": "display_data"
    },
    {
     "name": "stdout",
     "output_type": "stream",
     "text": [
      "The larger the window coefficient the smoother the line will appear\n",
      "The min_periods is the minimum number of observations in the window required to have a value\n"
     ]
    },
    {
     "data": {
      "image/png": "[encoded data removed]",
      "text/plain": [
       "<Figure size 432x288 with 1 Axes>"
      ]
     },
     "metadata": {
      "needs_background": "light"
     },
     "output_type": "display_data"
    }
   ],
   "source": [
    "df.rolling(window=3,min_periods=3).mean().plot()\n",
    "plt.show()\n",
    "print(\"The larger the window coefficient the smoother the line will appear\")\n",
    "print('The min_periods is the minimum number of observations in the window required to have a value')\n",
    "\n",
    "df.rolling(window=6,min_periods=3).mean().plot()\n",
    "plt.show()"
   ]
  },
  {
   "cell_type": "code",
   "execution_count": 95,
   "metadata": {},
   "outputs": [
    {
     "name": "stderr",
     "output_type": "stream",
     "text": [
      "C:\\Users\\dnishimoto.BOISE\\AppData\\Local\\Continuum\\anaconda3\\envs\\deeplearning\\lib\\site-packages\\ipykernel_launcher.py:1: FutureWarning: Indexing with multiple keys (implicitly converted to a tuple of keys) will be deprecated, use a list instead.\n",
      "  \"\"\"Entry point for launching an IPython kernel.\n"
     ]
    },
    {
     "data": {
      "text/plain": [
       "<function matplotlib.pyplot.show(close=None, block=None)>"
      ]
     },
     "execution_count": 95,
     "metadata": {},
     "output_type": "execute_result"
    },
    {
     "data": {
      "image/png": "[encoded data removed]",
      "text/plain": [
       "<Figure size 720x360 with 1 Axes>"
      ]
     },
     "metadata": {
      "needs_background": "light"
     },
     "output_type": "display_data"
    }
   ],
   "source": [
    "grouped=df.groupby('enddate')['favorable','unfavorable','other']\n",
    "rolling=grouped.rolling(window=10,min_periods=3).mean()\n",
    "rolling.plot(figsize=(10,5))\n",
    "plt.xticks(rotation=90)\n",
    "plt.show"
   ]
  },
  {
   "cell_type": "code",
   "execution_count": 126,
   "metadata": {},
   "outputs": [
    {
     "name": "stdout",
     "output_type": "stream",
     "text": [
      "['123', '456']\n",
      "['456']\n",
      "['789', '272']\n",
      "['789']\n"
     ]
    }
   ],
   "source": [
    "sampleDict = {\n",
    "    \"a\" : [\"123\",\"456\"],\n",
    "    \"b\" : [\"789\",\"272\"]\n",
    "}\n",
    "\n",
    "search=['789','456','100']\n",
    "\n",
    "#https://www.techbeamers.com/program-python-list-contains-elements/\n",
    "#https://stackoverflow.com/questions/10274774/python-elegant-and-efficient-ways-to-mask-a-list\n",
    "\n",
    "for key,item in sampleDict.items():\n",
    "    print(item)\n",
    "    mask=[]\n",
    "    [mask.append(x in search) for x in item]\n",
    "    arr=np.array(item)\n",
    "    print(arr[mask])\n",
    "    \n",
    "    #x in search\n",
    "    "
   ]
  },
  {
   "cell_type": "code",
   "execution_count": 3,
   "metadata": {},
   "outputs": [
    {
     "data": {
      "text/plain": [
       "('test.ipynb', <http.client.HTTPMessage at 0x14b866d8708>)"
      ]
     },
     "execution_count": 3,
     "metadata": {},
     "output_type": "execute_result"
    }
   ],
   "source": [
    "urllib.request.urlretrieve (\"https://raw.githubusercontent.com/dnishimoto/python-deep-learning/master/list%20iterators%20and%20generators.ipynb\", \"test.ipynb\")"
   ]
  },
  {
   "cell_type": "code",
   "execution_count": 12,
   "metadata": {},
   "outputs": [
    {
     "name": "stdout",
     "output_type": "stream",
     "text": [
      "['hello', 'world']\n"
     ]
    }
   ],
   "source": [
    "lstr = ['hello', '', ' ', 'world', ' ']\n",
    "r=re.compile('^[A-Za-z0-9]+')\n",
    "results=list(filter(r.match,lstr))\n",
    "print(results)"
   ]
  },
  {
   "cell_type": "code",
   "execution_count": 15,
   "metadata": {},
   "outputs": [
    {
     "name": "stdout",
     "output_type": "stream",
     "text": [
      "['3']\n"
     ]
    }
   ],
   "source": [
    "lstr=[1, 2, 3]\n",
    "lstr=map(str,lstr)\n",
    "r=re.compile('^(3){1}')\n",
    "results=list(filter(r.match,lstr))\n",
    "print(results)"
   ]
  },
  {
   "cell_type": "code",
   "execution_count": 62,
   "metadata": {},
   "outputs": [
    {
     "name": "stdout",
     "output_type": "stream",
     "text": [
      "state\n",
      "A    2\n",
      "B    2\n",
      "C    2\n",
      "Name: class, dtype: int64\n",
      "state\n",
      "A    2\n",
      "B    2\n",
      "C    2\n",
      "Name: class, dtype: int64\n",
      "0 A 2 5\n",
      "1 B 2 2\n",
      "1 C 2 2\n",
      "0 A 2 5\n",
      "1 A 2 2\n",
      "1 B 2 2\n",
      "0 A 2 5\n",
      "1 A 2 2\n",
      "1 C 2 2\n",
      "0 C 2 5\n",
      "<bound method NDFrame.head of   state  class State_0 State_1\n",
      "0     A      0     3/5     2/5\n",
      "1     B      1     0/2     2/2\n",
      "2     C      1     0/2     2/2\n",
      "3     A      0     3/5     2/5\n",
      "4     A      1     0/2     2/2\n",
      "5     B      1     0/2     2/2\n",
      "6     A      0     3/5     2/5\n",
      "7     A      1     0/2     2/2\n",
      "8     C      1     0/2     2/2\n",
      "9     C      0     3/5     2/5>\n"
     ]
    }
   ],
   "source": [
    "state=['A','B','C','A','A','B','A','A','C','C']     \n",
    "myclass=[0,1,1,0,1,1,0,1,1,0]\n",
    "df=pd.DataFrame({'state':state,'class':myclass})\n",
    "groupedCount=df.groupby('state').count().values\n",
    "print(grouped)\n",
    "groupedSum=df.groupby(['state']).sum().values\n",
    "print(grouped)\n",
    "for key,row in df.iterrows():\n",
    "    a_class=row['class']\n",
    "    a_state=row['state']\n",
    "    stateCount=groupedCount[a_class][0]\n",
    "    zeroSum=groupedCount[a_class][0]-groupedSum[a_class][0]\n",
    "    oneSum=groupedSum[a_class][0]\n",
    "    if a_class==0:\n",
    "        df.loc[key,'State_'+str(a_class)]=str(zeroSum)+'/'+str(stateCount)\n",
    "        df.loc[key,'State_1']=str(stateCount-zeroSum)+'/'+str(stateCount)\n",
    "    else:\n",
    "        df.loc[key,'State_'+str(a_class)]=str(oneSum)+'/'+str(stateCount)\n",
    "        df.loc[key,'State_0']=str(stateCount-oneSum)+'/'+str(stateCount)\n",
    "    print(a_class,a_state,groupedSum[a_class][0],groupedCount[a_class][0])\n",
    "\n",
    "print(df.head)    \n",
    "\n",
    "#df1 = df.join(pd.crosstab(df['state'], df['class'], normalize=0).add_prefix('State_'), \n",
    "#              on='state')\n",
    "#print(df1)"
   ]
  },
  {
   "cell_type": "code",
   "execution_count": 104,
   "metadata": {},
   "outputs": [
    {
     "name": "stdout",
     "output_type": "stream",
     "text": [
      "Index(['range', 'number', 'value'], dtype='object')\n",
      "number  min   max \n",
      "1301    3600  3700     5\n",
      "        3700  3800     6\n",
      "        3800  3900     3\n",
      "        3900  4000     5\n",
      "1302    3600  3700    10\n",
      "        3700  3800    12\n",
      "        3800  3900     4\n",
      "        3900  4000     6\n",
      "Name: value, dtype: int32\n",
      "         min   max  value\n",
      "number                   \n",
      "1301    3600  4000     19\n",
      "1302    3600  4000     32\n"
     ]
    }
   ],
   "source": [
    "df=pd.read_csv('ranges.csv',dtype={'range':'string','number':'string','value':np.int32})\n",
    "print(df.columns)\n",
    "#df['min'],df['max'],*rest=df['range'].str.split('-')\n",
    "\n",
    "key=0\n",
    "for x,y in df['range'].str.split('-'):\n",
    "        df.loc[key,'min']=x\n",
    "        df.loc[key,'max']=y\n",
    "        key+=1\n",
    "\n",
    "print(df.groupby(['number','min','max'])['value'].sum())\n",
    "\n",
    "df_final = df.groupby('number').agg({\n",
    "            'min': 'min', \n",
    "            'max': 'max',\n",
    "            'value': 'sum'\n",
    "            })\n",
    "\n",
    "print(df_final)\n",
    "\n"
   ]
  },
  {
   "cell_type": "code",
   "execution_count": 148,
   "metadata": {},
   "outputs": [
    {
     "name": "stdout",
     "output_type": "stream",
     "text": [
      "  Col1 Col2 Col3 combos\n",
      "0    A    A    A      A\n",
      "1    -    B    B      B\n",
      "2    B    B    C    B-C\n",
      "3    B    A    A    A-B\n",
      "4    C    C    C      C\n"
     ]
    }
   ],
   "source": [
    "import pandas as pd\n",
    "import numpy as np\n",
    "\n",
    "def unique(list1): \n",
    "    if '-' in list1:\n",
    "        list1.remove('-')\n",
    "    x = np.array(list1) \n",
    "    return (np.unique(x))\n",
    "\n",
    "df = pd.DataFrame({\"Col1\": ['A', np.nan, 'B', 'B', 'C'],\n",
    "                  \"Col2\": ['A', 'B', 'B', 'A', 'C'],\n",
    "                  \"Col3\": ['A', 'B', 'C', 'A', 'C']}).fillna('-')\n",
    "\n",
    "s=\"-\"\n",
    "for key,row in df.iterrows():\n",
    "    df.loc[key,'combos']=s.join(unique([row.Col1,row.Col2,row.Col3])) \n",
    "\n",
    "print(df.head())"
   ]
  },
  {
   "cell_type": "code",
   "execution_count": 180,
   "metadata": {},
   "outputs": [
    {
     "name": "stdout",
     "output_type": "stream",
     "text": [
      "[99 99 99 99 98]\n",
      "    column1\n",
      "43       99\n",
      "79       99\n",
      "76       99\n",
      "12       99\n",
      "49       98\n",
      "..      ...\n",
      "72        4\n",
      "88        1\n",
      "30        1\n",
      "56        1\n",
      "18        1\n",
      "\n",
      "[100 rows x 1 columns]\n"
     ]
    }
   ],
   "source": [
    "df = pd.DataFrame(np.random.randint(1,100,(100)),columns=[\"column1\"])\n",
    "\n",
    "results=np.array(df.sort_values(by=\"column1\",ascending=False)).flatten()\n",
    "\n",
    "print(results[:5])\n",
    "\n"
   ]
  },
  {
   "cell_type": "code",
   "execution_count": 317,
   "metadata": {},
   "outputs": [
    {
     "name": "stdout",
     "output_type": "stream",
     "text": [
      "       weekly  ARGENT    AUSTRAL   CANADA    CHINA     EUROPEAN  FRANCE    \\\n",
      "39 2018-10-01       0.0       0.0    1479.0     117.0     235.0       0.0   \n",
      "50 2018-12-17       0.0       0.0    1148.0     104.0      81.0       0.0   \n",
      "27 2018-07-09       0.0       0.0    1310.0      48.0     177.0       0.0   \n",
      "29 2018-07-23       0.0       0.0    1168.0     271.0       5.0       0.0   \n",
      "23 2018-06-11       0.0       0.0    1223.0      34.0     259.0       0.0   \n",
      "\n",
      "    GERMANY   HG KONG   INDIA     ...  MEXICO    N ZEAL    RUSSIA    SPAIN     \\\n",
      "39      87.0    2356.0       0.0  ...    2243.0       0.0       0.0       0.0   \n",
      "50      11.0    1962.0       0.0  ...    2083.0       0.0       0.0       0.0   \n",
      "27      14.0    1180.0       0.0  ...    2047.0       0.0       0.0       0.0   \n",
      "29       0.0    1219.0       0.0  ...    1822.0       0.0       0.0       0.0   \n",
      "23      26.0    1237.0       0.0  ...    1922.0       0.0       0.0       0.0   \n",
      "\n",
      "    TAIWAN    THAILND   U KING    year  week    total  \n",
      "39    1552.0       0.0       0.0  2018    40  19801.0  \n",
      "50    1462.0       0.0       0.0  2018    51  19581.0  \n",
      "27    1599.0      11.0       0.0  2018    28  18621.0  \n",
      "29    1440.0      35.0       0.0  2018    30  18102.0  \n",
      "23    1586.0      18.0       0.0  2018    24  17908.0  \n",
      "\n",
      "[5 rows x 23 columns]\n"
     ]
    },
    {
     "data": {
      "image/png": "[encoded data removed]",
      "text/plain": [
       "<Figure size 432x288 with 1 Axes>"
      ]
     },
     "metadata": {
      "needs_background": "light"
     },
     "output_type": "display_data"
    },
    {
     "data": {
      "image/png": "[encoded data removed]",
      "text/plain": [
       "<Figure size 1152x1152 with 3 Axes>"
      ]
     },
     "metadata": {
      "needs_background": "light"
     },
     "output_type": "display_data"
    }
   ],
   "source": [
    "#url = 'https://gist.githubusercontent.com/adamFlyn/a6048e547b5a963c7af356c964d15af6/raw/c57c7915cf14f81edc9d5eadaf14efbd43d3e58a/trade_df.csv'\n",
    "#df = pd.read_csv(url, parse_dates=['weekly'])\n",
    "#df.to_csv('trade_df.csv')\n",
    "df=pd.read_csv('trade_df.csv',parse_dates=['weekly'])\n",
    "df['weekly']=pd.to_datetime(df['weekly'])\n",
    "df['year'] = df['weekly'].dt.year\n",
    "df['week'] = df['weekly'].dt.strftime('%W').astype('int')\n",
    "df['total']=0\n",
    "df=df.drop('Unnamed: 0',axis=1)\n",
    "df.reset_index()\n",
    "for key,row in df.iterrows():\n",
    "    sum=0.0\n",
    "    for row_value in row:\n",
    "        if type(row_value)==float:\n",
    "            sum+=row_value\n",
    "    df.loc[key,'total']=sum\n",
    "\n",
    "filter=df['year'].isin([2018])\n",
    "results_2018=df[filter].sort_values(by=['total'],ascending=False).head(5)\n",
    "\n",
    "filter=df['year'].isin([2019])\n",
    "results_2019=df[filter].sort_values(by=['total'],ascending=False).head(5)\n",
    "\n",
    "filter=df['year'].isin([2020])\n",
    "results_2020=df[filter].sort_values(by=['total'],ascending=False).head(5)\n",
    "\n",
    "grouped=df.groupby('year').sum().T.plot.bar(stacked=True)\n",
    "plt.show()\n",
    "\n",
    "fp=results_2018.pivot_table(index=['week'],aggfunc='sum').fillna(0)\n",
    "fp = fp[(fp.T != 0).any()]\n",
    "\n",
    "fp2=results_2019.pivot_table(index=['week'],aggfunc='sum').fillna(0)\n",
    "fp2 = fp2[(fp2.T != 0).any()]\n",
    "\n",
    "fp3=results_2020.pivot_table(index=['week'],aggfunc='sum').fillna(0)\n",
    "fp3 = fp3[(fp3.T != 0).any()]\n",
    "\n",
    "#print(fp)\n",
    "fig,ax=plt.subplots(3,1,figsize=(16,16))\n",
    "fp.plot.bar(stacked=True,ax=ax[0])\n",
    "fp2.plot.bar(stacked=True,ax=ax[1])\n",
    "fp3.plot.bar(stacked=True,ax=ax[2])\n",
    "plt.show()\n",
    "#print(results.head(5))    \n"
   ]
  },
  {
   "cell_type": "code",
   "execution_count": 26,
   "metadata": {},
   "outputs": [
    {
     "name": "stdout",
     "output_type": "stream",
     "text": [
      "Index(['Smile Canonical', 'Column', 'Mobile phase'], dtype='object')\n",
      "                    Smile Canonical        Column           Mobile phase\n",
      "0      C1=CC=C(C=C1)C2OC(C(O2)CO)CO  CHIRALPAK AD               methanol\n",
      "1  C1=CC=C(C=C1)C(C(C2=CC=CC=C2)O)O  CHIRALPAK AD     n-hexane / ethanol\n",
      "2     CC(C1=CC=C(C=C1)C2=CC=CC=C2)O  CHIRALPAK AD   water / acetonitrile\n",
      "3                               NaN  CHIRALPAK AD  n-hexane / 2-propanol\n",
      "4                               NaN  CHIRALPAK AD     n-hexane / ethanol\n",
      "Each document is converted into a bag of words indicating the frequency of each token\n",
      "                    Smile Canonical        Column           Mobile phase  \\\n",
      "0      C1=CC=C(C=C1)C2OC(C(O2)CO)CO  CHIRALPAK AD               methanol   \n",
      "1  C1=CC=C(C=C1)C(C(C2=CC=CC=C2)O)O  CHIRALPAK AD     n-hexane / ethanol   \n",
      "2     CC(C1=CC=C(C=C1)C2=CC=CC=C2)O  CHIRALPAK AD   water / acetonitrile   \n",
      "3                               NaN  CHIRALPAK AD  n-hexane / 2-propanol   \n",
      "4                               NaN  CHIRALPAK AD     n-hexane / ethanol   \n",
      "\n",
      "                                              corpus  \n",
      "0  [[(0, 3), (1, 3), (2, 3), (3, 3), (4, 2), (5, ...  \n",
      "1  [[(0, 3), (1, 3), (2, 6), (3, 4), (4, 2), (5, ...  \n",
      "2  [[(0, 2), (1, 2), (2, 6), (3, 2), (4, 2), (5, ...  \n",
      "3                                         [[(0, 1)]]  \n",
      "4                                         [[(0, 1)]]  \n"
     ]
    }
   ],
   "source": [
    "from gensim.corpora.dictionary import Dictionary\n",
    "from nltk.tokenize import word_tokenize\n",
    "\n",
    "df=pd.read_csv('smile.csv')\n",
    "\n",
    "print(df.columns)\n",
    "print(df.head())\n",
    "\n",
    "df['corpus']=np.empty\n",
    "df['corpus']=df['corpus'].astype(object)\n",
    "for key,row in df.iterrows():\n",
    "    doc=str(row['Smile Canonical'])\n",
    "    doc=doc.replace('=',' = ')\n",
    "    \n",
    "    tokenized_docs=[word_tokenize(doc.lower())]\n",
    "    #print(dictionary.token2id)\n",
    "    dictionary=Dictionary(tokenized_docs)\n",
    "    corpus = [dictionary.doc2bow(doc) for doc in tokenized_docs]\n",
    "    #print(corpus)\n",
    "    df.loc[key,'corpus']=corpus\n",
    "    \n",
    "print(\"Each document is converted into a bag of words indicating the frequency of each token\")\n",
    "print(df.head())"
   ]
  },
  {
   "cell_type": "code",
   "execution_count": 46,
   "metadata": {},
   "outputs": [
    {
     "name": "stdout",
     "output_type": "stream",
     "text": [
      "[(5, 0.45), (6, 0.56)]\n",
      "5 0.45\n",
      "6 0.56\n",
      "[5, 6] [0.45, 0.56]\n",
      "[(1, 0.23), (2, 0.54), (6, 0.63)]\n",
      "1 0.23\n",
      "2 0.54\n",
      "6 0.63\n",
      "[1, 2, 6] [0.23, 0.54, 0.63]\n",
      "[(3, 0.86), (6, 0.36)]\n",
      "3 0.86\n",
      "6 0.36\n",
      "[3, 6] [0.86, 0.36]\n"
     ]
    }
   ],
   "source": [
    "tuples = [[(5,0.45),(6,0.56)],[(1,0.23),(2,0.54),(6,0.63)],[(3,0.86),(6,0.36)]]\n",
    "\n",
    "for x in tuples:\n",
    "    print(x)\n",
    "    index=[]\n",
    "    values=[]\n",
    "    for tuple in x:\n",
    "        print(tuple[0],tuple[1])\n",
    "        index.append(tuple[0])\n",
    "        values.append(tuple[1])\n",
    "    print(index,values)\n",
    "\n"
   ]
  },
  {
   "cell_type": "code",
   "execution_count": 63,
   "metadata": {},
   "outputs": [
    {
     "name": "stdout",
     "output_type": "stream",
     "text": [
      "             t1         t2         t3\n",
      "set1  [1, 2, 3]  [4, 5, 6]  [7, 8, 9]\n",
      "set2  [1, 2, 3]  [4, 5, 6]  [7, 8, 9]\n",
      "set3  [1, 2, 3]  [4, 5, 6]  [7, 8, 9]\n",
      "set1\n",
      "set2\n",
      "set3\n",
      "    set t1 t2 t3\n",
      "0  set1  1  2  3\n",
      "1  set1  4  5  6\n",
      "2  set1  7  8  9\n",
      "3  set2  1  2  3\n",
      "4  set2  4  5  6\n",
      "5  set2  7  8  9\n",
      "6  set3  1  2  3\n",
      "7  set3  4  5  6\n",
      "8  set3  7  8  9\n"
     ]
    }
   ],
   "source": [
    "demo = {'set1':{'t1':[1,2,3],'t2':[4,5,6],'t3':[7,8,9]}, 'set2':{'t1':[1,2,3],'t2':[4,5,6],'t3':[7,8,9]}, 'set3': {'t1':[1,2,3],'t2':[4,5,6],'t3':[7,8,9]}}\n",
    "df = pd.DataFrame.from_dict(demo, orient='index') \n",
    "\n",
    "print(df.head())\n",
    "my_list=[]\n",
    "df2=pd.DataFrame(columns=['set','t1','t2','t3'])\n",
    "\n",
    "for key,item in df.iterrows():\n",
    "    t1=item.t1\n",
    "    t2=item.t2\n",
    "    t3=item.t3\n",
    "    mat1=np.matrix([t1,t2,t3])\n",
    "    row1=[key,mat1[0,0],mat1[0,1],mat1[0,2]]\n",
    "    df2.loc[len(df2)]=row1\n",
    "    row2=[key,mat1[1,0],mat1[1,1],mat1[1,2]]\n",
    "    df2.loc[len(df2)]=row2\n",
    "    row3=[key,mat1[2,0],mat1[2,1],mat1[2,2]]\n",
    "    df2.loc[len(df2)]=row3\n",
    "    \n",
    "\n",
    "print(df2)    "
   ]
  },
  {
   "cell_type": "code",
   "execution_count": 79,
   "metadata": {},
   "outputs": [
    {
     "name": "stdout",
     "output_type": "stream",
     "text": [
      "10529.924184\n",
      "1998-10-30 22:10:49.497600\n"
     ]
    }
   ],
   "source": [
    "import datetime\n",
    "dob=1052992418400000\n",
    "epoch=pd.to_datetime('1970-1-1')\n",
    "val=dob/1000 00000000\n",
    "print(val)\n",
    "print(epoch+datetime.timedelta(val))"
   ]
  },
  {
   "cell_type": "code",
   "execution_count": 108,
   "metadata": {},
   "outputs": [
    {
     "name": "stdout",
     "output_type": "stream",
     "text": [
      "        C  G  T\n",
      "0   8.000  1  1\n",
      "1   4.840  1  2\n",
      "2   1.416  1  3\n",
      "3   2.560  1  1\n",
      "4   3.104  1  2\n",
      "5   3.090  1  3\n",
      "6   1.184  1  1\n",
      "7   7.500  1  2\n",
      "8  15.000  1  3\n",
      "8.0\\n4.84\\n1.416\n",
      "2.56\\n3.104\\n3.09\n",
      "1.184\\n7.5\\n15.0\n"
     ]
    }
   ],
   "source": [
    "data = [[ {'C': 8, 'G': 1, 'T': 1},\n",
    "          {'C': 4.84, 'G': 1, 'T': 2},\n",
    "          {'C': 1.416, 'G': 1, 'T': 3}],\n",
    "         [{'C': 2.56, 'G': 1, 'T': 1},\n",
    "          {'C': 3.104, 'G': 1, 'T': 2},\n",
    "          {'C': 3.09, 'G': 1, 'T': 3}],\n",
    "         [{'C': 1.184, 'G': 1, 'T': 1},\n",
    "          {'C': 7.5, 'G': 1, 'T': 2},\n",
    "          {'C': 15, 'G': 1, 'T': 3}]]\n",
    "\n",
    "C=[]\n",
    "G=[]\n",
    "T=[]\n",
    "for row in data:\n",
    "    for item in row:\n",
    "        C.append(item['C'])\n",
    "        G.append(item['G'])\n",
    "        T.append(item['T'])\n",
    "\n",
    "df=pd.DataFrame({'C':C,'G':G,'T':T})\n",
    "print(df)\n",
    "\n",
    "mylist=df['C']\n",
    "\n",
    "result=(str(item) for item in mylist)\n",
    "\n",
    "for i in range(0,len(mylist),3):\n",
    "    output=r\"\\n\".join([next(result),next(result),next(result)])\n",
    "    print(output)"
   ]
  },
  {
   "cell_type": "code",
   "execution_count": 115,
   "metadata": {},
   "outputs": [
    {
     "name": "stdout",
     "output_type": "stream",
     "text": [
      "['a', 'b', 'c']\n",
      "a,b,c\n"
     ]
    }
   ],
   "source": [
    "t=('a', 'b', 'c')\n",
    "print(list(t))\n",
    "print(\",\".join(list(t)))"
   ]
  },
  {
   "cell_type": "code",
   "execution_count": 112,
   "metadata": {},
   "outputs": [
    {
     "name": "stdout",
     "output_type": "stream",
     "text": [
      "                 Date Groups Letter\n",
      "0 2015-02-24 00:00:00    MAK      A\n",
      "1 2015-02-24 00:01:00    MAK      B\n",
      "2 2015-02-24 00:02:00    OKA      A\n",
      "3 2015-02-24 00:03:00    OKA      B\n",
      "4 2015-02-24 00:04:00    MAK      C\n"
     ]
    }
   ],
   "source": [
    "rng = pd.date_range('2015-02-24', periods=5, freq='T')\n",
    "names = ['MAK', 'MAK', 'OKA', 'OKA', 'MAK']\n",
    "\n",
    "df = pd.DataFrame({ 'Date': rng, 'Groups': names })\n",
    "\n",
    "import string\n",
    "\n",
    "d = dict(enumerate(string.ascii_uppercase, 1))\n",
    "\n",
    "df['Letter'] = df.groupby('Groups')['Date'].rank('dense').map(d)\n",
    "print (df)"
   ]
  },
  {
   "cell_type": "code",
   "execution_count": 114,
   "metadata": {},
   "outputs": [
    {
     "name": "stdout",
     "output_type": "stream",
     "text": [
      "['banana', 'melon']\n"
     ]
    }
   ],
   "source": [
    "list1 = ['apple', 'orange', 'mango']\n",
    "list2 = ['banana', 'melon']\n",
    "\n",
    "result = []\n",
    "result.append(list1)\n",
    "result.append(list2)\n",
    "print(result[1])\n"
   ]
  },
  {
   "cell_type": "code",
   "execution_count": 116,
   "metadata": {},
   "outputs": [
    {
     "ename": "NameError",
     "evalue": "name 'aa' is not defined",
     "output_type": "error",
     "traceback": [
      "\u001b[1;31m---------------------------------------------------------------------------\u001b[0m",
      "\u001b[1;31mNameError\u001b[0m                                 Traceback (most recent call last)",
      "\u001b[1;32m<ipython-input-116-f574cefff4f1>\u001b[0m in \u001b[0;36m<module>\u001b[1;34m\u001b[0m\n\u001b[1;32m----> 1\u001b[1;33m \u001b[0mst\u001b[0m \u001b[1;33m=\u001b[0m \u001b[1;34m', '\u001b[0m\u001b[1;33m.\u001b[0m\u001b[0mjoin\u001b[0m\u001b[1;33m(\u001b[0m\u001b[0mmap\u001b[0m\u001b[1;33m(\u001b[0m\u001b[0mstr\u001b[0m\u001b[1;33m,\u001b[0m \u001b[0mmap\u001b[0m\u001b[1;33m(\u001b[0m\u001b[1;32mlambda\u001b[0m \u001b[0mx\u001b[0m\u001b[1;33m:\u001b[0m \u001b[1;34mf'\"{x}\"'\u001b[0m \u001b[1;32mif\u001b[0m \u001b[0misinstance\u001b[0m\u001b[1;33m(\u001b[0m\u001b[0mx\u001b[0m\u001b[1;33m,\u001b[0m \u001b[0mstr\u001b[0m\u001b[1;33m)\u001b[0m \u001b[1;32melse\u001b[0m \u001b[0mx\u001b[0m\u001b[1;33m,\u001b[0m \u001b[0maa\u001b[0m\u001b[1;33m)\u001b[0m\u001b[1;33m)\u001b[0m\u001b[1;33m)\u001b[0m\u001b[1;33m\u001b[0m\u001b[1;33m\u001b[0m\u001b[0m\n\u001b[0m\u001b[0;32m      2\u001b[0m \u001b[0mst\u001b[0m \u001b[1;33m=\u001b[0m \u001b[1;34m'['\u001b[0m \u001b[1;33m+\u001b[0m \u001b[0mst\u001b[0m \u001b[1;33m+\u001b[0m \u001b[1;34m']'\u001b[0m\u001b[1;33m\u001b[0m\u001b[1;33m\u001b[0m\u001b[0m\n\u001b[0;32m      3\u001b[0m \u001b[0mst\u001b[0m\u001b[1;33m\u001b[0m\u001b[1;33m\u001b[0m\u001b[0m\n",
      "\u001b[1;31mNameError\u001b[0m: name 'aa' is not defined"
     ]
    }
   ],
   "source": [
    ">>> st = ', '.join(map(str, map(lambda x: f'\"{x}\"' if isinstance(x, str) else x, aa)))\n",
    ">>> st = '[' + st + ']'\n",
    ">>> st"
   ]
  },
  {
   "cell_type": "code",
   "execution_count": 158,
   "metadata": {},
   "outputs": [
    {
     "name": "stdout",
     "output_type": "stream",
     "text": [
      "       col_A\n",
      "0  [1, 2, 3]\n",
      "1     [2, 3]\n",
      "2     [1, 3]\n",
      "       col_A                      col_B\n",
      "0  [1, 2, 3]  [Soccer, Cricket, Hockey]\n",
      "1     [2, 3]          [Cricket, Hockey]\n",
      "2     [1, 3]           [Soccer, Hockey]\n"
     ]
    }
   ],
   "source": [
    "col_A=[[1,2,3],[2,3],[1,3]]\n",
    "\n",
    "df=pd.DataFrame({'col_A':col_A})\n",
    "\n",
    "print(df)\n",
    "\n",
    "dictLkup = {1: \"Soccer\", 2: \"Cricket\", 3: \"Hockey\"}\n",
    "\n",
    "def lookupfunc(mylist):\n",
    "    retlist=[] \n",
    "    [retlist.append(dictLkup[x]) for x in mylist]\n",
    "    return(retlist)\n",
    "\n",
    "#print(dictLkup[1])\n",
    "#print(lookupfunc([1,2,3]))          \n",
    "#df['col_A'].apply(lambda x: print(map(lookupfunc,x)))\n",
    "df['col_B']=df['col_A'].apply(lambda x: lookupfunc(x))\n",
    "\n",
    "print(df.head())"
   ]
  },
  {
   "cell_type": "code",
   "execution_count": 160,
   "metadata": {},
   "outputs": [
    {
     "name": "stdout",
     "output_type": "stream",
     "text": [
      "[[1, 2], [3, 4], [5, 6]]\n",
      "[['a', 'b'], ['c', 'd'], ['e', 'f']]\n"
     ]
    }
   ],
   "source": [
    "a = [[1,2,'a','b'],[3,4,'c','d'],[5,6,'e','f']]\n",
    "x,y = [i[:2] for i in a], [i[2:] for i in a]\n",
    "print(x)\n",
    "print(y)"
   ]
  },
  {
   "cell_type": "code",
   "execution_count": 186,
   "metadata": {},
   "outputs": [
    {
     "name": "stdout",
     "output_type": "stream",
     "text": [
      "Black or African American\n",
      "White\n",
      "Hispanic or Latino\n",
      "Asian\n",
      "Asian/Indian/Pacific Islander\n",
      "Native Hawaiian or Other Pacific Islander\n",
      "American Indian or Alaska Native\n",
      "Other/Mixed\n",
      "Unspecified\n",
      "                     Race\n",
      "0                   Black\n",
      "1                   White\n",
      "2      Non-White Hispanic\n",
      "3  Asian/Pacific Islander\n",
      "4  Asian/Pacific Islander\n",
      "5  Asian/Pacific Islander\n",
      "6       Multiracial/other\n",
      "7       Multiracial/other\n",
      "8                     NaN\n"
     ]
    }
   ],
   "source": [
    "race=[\n",
    "    'Black or African American', \n",
    "    'White', \n",
    "    'Hispanic or Latino', \n",
    "    'Asian', \n",
    "    'Asian/Indian/Pacific Islander',\n",
    "    'Native Hawaiian or Other Pacific Islander',\n",
    "    'American Indian or Alaska Native',\n",
    "    'Other/Mixed',\n",
    "    'Unspecified'\n",
    "]\n",
    "\n",
    "df=pd.DataFrame({'Race':race})\n",
    "\n",
    "def lookup(x):\n",
    "    dictLookup={ \n",
    "    'Black or African American' : 'Black', \n",
    "    'White' : 'White', \n",
    "    'Hispanic or Latino': 'Non-White Hispanic', \n",
    "    'Unspecified' : np.nan,\n",
    "    **{i:'Asian/Pacific Islander' for i in('Asian', 'Asian/Indian/Pacific Islander' , 'Native Hawaiian or Other Pacific Islander')},\n",
    "    **{i:'Multiracial/other' for i in('American Indian or Alaska Native','Alaska Native', 'Other/Mixed')}\n",
    "    }\n",
    "    print(x)\n",
    "    return dictLookup[x]\n",
    "    \n",
    "df['Race']=df['Race'].apply(lambda x: lookup(x))\n",
    "                             \n",
    "    #(, \n",
    "    #('American Indian or Alaska Native' | 'Other/Mixed') : 'Multiracial/other', \n",
    "\n",
    "print(df.head(20))"
   ]
  },
  {
   "cell_type": "code",
   "execution_count": 239,
   "metadata": {
    "scrolled": true
   },
   "outputs": [
    {
     "name": "stdout",
     "output_type": "stream",
     "text": [
      "                                     09:18  \\\n",
      "08/05/2019  [message1, message2, message3]   \n",
      "08/03/2019                             NaN   \n",
      "\n",
      "                                               10:30       14:40  \\\n",
      "08/05/2019  [message4, message5, message6, message7]  [message8]   \n",
      "08/03/2019                                       NaN         NaN   \n",
      "\n",
      "                            06:40                   17:25  \n",
      "08/05/2019                    NaN                     NaN  \n",
      "08/03/2019  [message9, message10]  [message11, message12]  \n",
      "Index(['09:18', '10:30', '14:40', '06:40', '17:25'], dtype='object')\n",
      "[{'date': '08/05/2019', 'event': '09:18', 'messages': ['message1', 'message2', 'message3']}, {'date': '08/05/2019', 'event': '10:30', 'messages': ['message4', 'message5', 'message6', 'message7']}, {'date': '08/05/2019', 'event': '14:40', 'messages': ['message8']}, {'date': '08/05/2019', 'event': '06:40', 'messages': nan}, {'date': '08/05/2019', 'event': '17:25', 'messages': nan}]\n",
      "[{'date': '08/03/2019', 'event': '09:18', 'messages': nan}, {'date': '08/03/2019', 'event': '10:30', 'messages': nan}, {'date': '08/03/2019', 'event': '14:40', 'messages': nan}, {'date': '08/03/2019', 'event': '06:40', 'messages': ['message9', 'message10']}, {'date': '08/03/2019', 'event': '17:25', 'messages': ['message11', 'message12']}]\n"
     ]
    }
   ],
   "source": [
    "from anytree import Node, RenderTree\n",
    "\n",
    "mydict={\n",
    "\n",
    "   '08/05/2019': {\n",
    "      '09:18': [\"message1\",\"message2\",\"message3\"],\n",
    "      '10:30': [\"message4\",\"message5\",\"message6\",\"message7\"],\n",
    "      '14:40': [\"message8\"]\n",
    "   },\n",
    "\n",
    "   '08/03/2019': {\n",
    "      '06:40': [\"message9\",\"message10\"],\n",
    "      '17:25': [\"message11\",\"message12\"]\n",
    "   }\n",
    "\n",
    "}\n",
    "df=pd.DataFrame(mydict)\n",
    "df=df.T\n",
    "df.reset_index()\n",
    "print(df.head())\n",
    "print(df.columns)\n",
    "\n",
    "columns=df.columns\n",
    "\n",
    "for key, item in df.iterrows():\n",
    "    #print(\"Item:\",key,item)\n",
    "    events=[]    \n",
    "    [events.append({'date':key,'event': column, 'messages':item[column]}) for column in columns ]\n",
    "    print(events)"
   ]
  },
  {
   "cell_type": "code",
   "execution_count": 256,
   "metadata": {},
   "outputs": [
    {
     "name": "stdout",
     "output_type": "stream",
     "text": [
      "1643410114 file file.gz\n",
      "1643410115 file file2.gz\n"
     ]
    }
   ],
   "source": [
    "results = [{'TTL': '1643410114', 'customer': '1212', 'date': '2021-01-28', 'file': 'file.gz'},\n",
    "          {'TTL': '1643410115', 'customer': '1312', 'date': '2021-02-27', 'file': 'file2.gz'}\n",
    "          ]\n",
    "\n",
    "#print(results)\n",
    "for obj in results: \n",
    "    for key, value in obj.items():\n",
    "         if (key=='file'):\n",
    "            print(obj['TTL'],key,value)"
   ]
  },
  {
   "cell_type": "code",
   "execution_count": 270,
   "metadata": {},
   "outputs": [
    {
     "name": "stdout",
     "output_type": "stream",
     "text": [
      "a\n",
      "aa\n",
      "a\n",
      "aa\n",
      "a\n",
      "aa\n",
      "b\n",
      "ba\n",
      "baa\n",
      "baaa\n",
      "3\n"
     ]
    }
   ],
   "source": [
    "def find_all(a_str, sub):\n",
    "    start = 0\n",
    "    while True:\n",
    "        start = a_str.find(sub, start)\n",
    "        if start == -1: return\n",
    "        yield start\n",
    "        start += 1\n",
    "\n",
    "def split(word): \n",
    "    return [char for char in word]          \n",
    "        \n",
    "x = \"aaaaaabaaa\"\n",
    "pattern = \"aa\"\n",
    "\n",
    "mylist=split(x)\n",
    "\n",
    "ok=True\n",
    "\n",
    "occurrences=0\n",
    "buffer=\"\"\n",
    "while ok:\n",
    "    char=mylist.pop(0)\n",
    "    buffer+=char\n",
    "    print(buffer)\n",
    "    if buffer==pattern:\n",
    "        occurrences+=1\n",
    "        buffer=\"\"\n",
    "    if len(mylist)==0:\n",
    "        ok=False\n",
    "        \n",
    "print(occurrences)\n",
    "    \n",
    "\n",
    "\n",
    "\n",
    "#y = x + x[0:len(fav)-1]\n",
    "#print(len(list(find_all(y, fav))))"
   ]
  },
  {
   "cell_type": "code",
   "execution_count": 335,
   "metadata": {},
   "outputs": [
    {
     "name": "stdout",
     "output_type": "stream",
     "text": [
      "['agronomy salenrollment services', 'online account manager', 'game day manager', 'leader biologist'] ['3', '1', '15', '16']\n"
     ]
    }
   ],
   "source": [
    "list1=[\n",
    "    'agronomy salenrollment services,3',\n",
    "    'online account manager,1',\n",
    "    'game day manager,15',\n",
    "    'leader biologist,16'\n",
    "]\n",
    "\n",
    "def splitString(paramString):\n",
    "    a,b=paramString.split(\",\") \n",
    "    return a,b\n",
    "\n",
    "result=map(splitString,list1)\n",
    "\n",
    "list1=[]\n",
    "list2=[]\n",
    "\n",
    "[(list1.append(item[0]), list2.append(item[1])) for item in result]\n",
    "#for item in result:\n",
    "#    list1.append(item[0])\n",
    "#    list2.append(item[1])\n",
    "\n",
    "print(list1,list2)\n"
   ]
  },
  {
   "cell_type": "code",
   "execution_count": 379,
   "metadata": {},
   "outputs": [
    {
     "name": "stdout",
     "output_type": "stream",
     "text": [
      "ABA\n",
      "CAA\n",
      "ADA\n",
      "['AB', 'CA', 'AD']\n"
     ]
    }
   ],
   "source": [
    "mylist=[\"ABA\", \"CAA\", \"ADA\"]\n",
    "results=[]\n",
    "for item in mylist:\n",
    "    buffer=[]\n",
    "    print(item)\n",
    "    for char in item:\n",
    "        if char not in buffer:\n",
    "            buffer.append(char)\n",
    "    results.append(\"\".join(buffer))\n",
    "        \n",
    "print(results)"
   ]
  },
  {
   "cell_type": "code",
   "execution_count": 388,
   "metadata": {},
   "outputs": [
    {
     "name": "stdout",
     "output_type": "stream",
     "text": [
      "The line_profiler extension is already loaded. To reload it, use:\n",
      "  %reload_ext line_profiler\n"
     ]
    },
    {
     "data": {
      "text/plain": [
       "{'batman': (74.01559999999999, 209.4389),\n",
       " 'superman': (75.19669999999999, 222.66661999999997),\n",
       " 'wonder woman': (72.0471, 163.14188)}"
      ]
     },
     "execution_count": 388,
     "metadata": {},
     "output_type": "execute_result"
    }
   ],
   "source": [
    "%load_ext line_profiler\n",
    "%lprun -f convert_units convert_units(heros,hts, wts)\n",
    "\n",
    "heros=['batman','superman','wonder woman']\n",
    "hts=np.array([188.0,191.0,183.0])\n",
    "wts=np.array([95.0,101.0,74.0])\n",
    "\n",
    "def convert_units(heros, heights, weights):\n",
    "    new_hts=[ht*0.39370 for ht in heights]\n",
    "    new_wts=[wt*2.20462 for wt in weights]\n",
    "\n",
    "    hero_data={}\n",
    "\n",
    "    for i, hero in enumerate(heros):\n",
    "        hero_data[hero]=(new_hts[i],new_wts[i])\n",
    "\n",
    "    return hero_data\n",
    "\n",
    "convert_units(heros,hts, wts)\n"
   ]
  },
  {
   "cell_type": "code",
   "execution_count": null,
   "metadata": {},
   "outputs": [],
   "source": []
  }
 ],
 "metadata": {
  "kernelspec": {
   "display_name": "Python 3",
   "language": "python",
   "name": "python3"
  },
  "language_info": {
   "codemirror_mode": {
    "name": "ipython",
    "version": 3
   },
   "file_extension": ".py",
   "mimetype": "text/x-python",
   "name": "python",
   "nbconvert_exporter": "python",
   "pygments_lexer": "ipython3",
   "version": "3.7.9"
  }
 },
 "nbformat": 4,
 "nbformat_minor": 4
}
