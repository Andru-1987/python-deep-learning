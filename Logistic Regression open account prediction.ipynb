{
 "cells": [
  {
   "cell_type": "code",
   "execution_count": 17,
   "metadata": {},
   "outputs": [],
   "source": [
    "import pandas as pd\n",
    "import numpy as np\n",
    "import matplotlib.pyplot as plt\n",
    "from sklearn.linear_model import LogisticRegression\n",
    "from sklearn.model_selection import train_test_split\n",
    "from sklearn.metrics import roc_curve\n",
    "from scipy.optimize import minimize\n",
    "from sklearn.metrics import log_loss\n",
    "from sklearn.preprocessing import MinMaxScaler"
   ]
  },
  {
   "cell_type": "code",
   "execution_count": 18,
   "metadata": {},
   "outputs": [
    {
     "name": "stdout",
     "output_type": "stream",
     "text": [
      "Index(['age', 'job', 'marital', 'education', 'default', 'housing', 'loan',\n",
      "       'contact', 'month', 'day_of_week', 'duration', 'campaign', 'pdays',\n",
      "       'previous', 'poutcome', 'emp.var.rate', 'cons.price.idx',\n",
      "       'cons.conf.idx', 'euribor3m', 'nr.employed', 'y'],\n",
      "      dtype='object')\n",
      "4640\n",
      "36548\n",
      "    age  nr.employed  marital  loan  cons.price.idx  default\n",
      "id                                                          \n",
      "1    56       5191.0        1     0          93.994        0\n",
      "2    57       5191.0        1     0          93.994        1\n",
      "3    37       5191.0        1     0          93.994        0\n",
      "4    40       5191.0        1     0          93.994        0\n",
      "5    56       5191.0        1     2          93.994        0\n"
     ]
    }
   ],
   "source": [
    "df=pd.read_csv('bank-additional-full.csv',)\n",
    "#print(df.info)\n",
    "print(df.columns)\n",
    "\n",
    "df.index = [x for x in range(1, len(df.values)+1)]\n",
    "df.index.name = 'id'\n",
    "\n",
    "def ToBinary(value):\n",
    "    if value=='yes':\n",
    "        return 1\n",
    "    elif value=='no':\n",
    "        return 1\n",
    "#print(df['age;'].head())\n",
    "yes=df.y[df.y=='yes'].apply(ToBinary)\n",
    "no=df.y[df.y=='no'].apply(ToBinary)\n",
    "print(len(yes))\n",
    "#print(yes)\n",
    "print(len(no))\n",
    "\n",
    "#“nr. employed”, which is the number of employees in the bank, has positive effect for turning people to subscribe the term deposit. \n",
    "#cons.price.idx consumer price index was the most important feature\n",
    "X=df[['age', 'job','marital', 'education', 'default', 'housing', 'loan','contact', 'month', 'day_of_week', 'duration', 'campaign', 'pdays','previous', 'poutcome', 'emp.var.rate', 'cons.price.idx','cons.conf.idx', 'euribor3m', 'nr.employed']]\n",
    "\n",
    "df['marital']=df['marital'].astype('category').cat.codes\n",
    "df['loan']=df['loan'].astype('category').cat.codes\n",
    "df['default']=df['default'].astype('category').cat.codes\n",
    "#print(df['marital'])\n",
    "X=df[['age','nr.employed','marital','loan','cons.price.idx','default']]\n",
    "\n",
    "print(X.head())\n",
    "\n",
    "y=df['y'].astype('category').cat.codes\n",
    "\n",
    "input_cols=np.array(np.arange(0,20))\n",
    "output_cols=np.array([21])\n",
    "\n",
    "def dataframe_to_arrays(dataframe):\n",
    "    # Make a copy of the original dataframe\n",
    "    dataframe1 = dataframe.copy(deep=True)\n",
    "    # Convert non-numeric categorical columns to numbers\n",
    "    for col in categorical_cols:\n",
    "        dataframe1[col] = dataframe1[col].astype('category').cat.codes\n",
    "    # Extract input & outupts as numpy arrays\n",
    "    inputs_array = dataframe1[input_cols].to_numpy()\n",
    "    targets_array = dataframe1[output_cols].to_numpy()\n",
    "    return inputs_array, targets_array\n"
   ]
  },
  {
   "cell_type": "code",
   "execution_count": 19,
   "metadata": {},
   "outputs": [
    {
     "data": {
      "image/png": "[encoded data removed]",
      "text/plain": [
       "<Figure size 432x288 with 1 Axes>"
      ]
     },
     "metadata": {
      "needs_background": "light"
     },
     "output_type": "display_data"
    }
   ],
   "source": [
    "\n",
    "df['y'].value_counts().plot(kind='bar')\n",
    "\n",
    "plt.show()"
   ]
  },
  {
   "cell_type": "code",
   "execution_count": 20,
   "metadata": {},
   "outputs": [
    {
     "name": "stderr",
     "output_type": "stream",
     "text": [
      "C:\\Users\\dnishimoto.BOISE\\AppData\\Local\\Continuum\\anaconda3\\envs\\deeplearning\\lib\\site-packages\\sklearn\\linear_model\\logistic.py:433: FutureWarning: Default solver will be changed to 'lbfgs' in 0.22. Specify a solver to silence this warning.\n",
      "  FutureWarning)\n"
     ]
    },
    {
     "data": {
      "image/png": "[encoded data removed]",
      "text/plain": [
       "<Figure size 432x288 with 1 Axes>"
      ]
     },
     "metadata": {
      "needs_background": "light"
     },
     "output_type": "display_data"
    }
   ],
   "source": [
    "X_train, X_test,y_train,y_test=train_test_split(X,y,test_size=0.3,random_state=42)\n",
    "\n",
    "lr=LogisticRegression(C=.01)\n",
    "\n",
    "lr.fit(X_train,y_train)\n",
    "\n",
    "y_pred=lr.predict(X_test)\n",
    "\n",
    "buffer=pd.Series(y_pred)\n",
    "buffer.value_counts().plot(kind='bar')\n",
    "plt.show()\n",
    "\n"
   ]
  },
  {
   "cell_type": "code",
   "execution_count": 21,
   "metadata": {},
   "outputs": [
    {
     "data": {
      "image/png": "[encoded data removed]",
      "text/plain": [
       "<Figure size 432x288 with 1 Axes>"
      ]
     },
     "metadata": {
      "needs_background": "light"
     },
     "output_type": "display_data"
    },
    {
     "name": "stdout",
     "output_type": "stream",
     "text": [
      "Log Loss is %s 0.3052485017605\n"
     ]
    }
   ],
   "source": [
    "y_pred_prob=lr.predict_proba(X_test)[:,1]\n",
    "fpr, tpr, threshholds = roc_curve(y_test,y_pred_prob)\n",
    "\n",
    "plt.plot([0, 1], [0, 1], 'k--')\n",
    "plt.plot(fpr, tpr)\n",
    "plt.xlabel('False Positive Rate')\n",
    "plt.ylabel('True Positive Rate')\n",
    "plt.title('ROC Curve')\n",
    "plt.show()\n",
    "\n",
    "#Each predicted probability is compared to the actual class output value (0 or 1) and a score is calculated that penalizes the probability based on the distance from the expected value\n",
    "loss = log_loss(y_test, y_pred_prob)\n",
    "print(\"Log Loss is %s\",loss)"
   ]
  },
  {
   "cell_type": "code",
   "execution_count": 22,
   "metadata": {},
   "outputs": [
    {
     "name": "stdout",
     "output_type": "stream",
     "text": [
      "Accuracy is %s 88.7836853605244\n"
     ]
    }
   ],
   "source": [
    "print(\"Accuracy is %s\",lr.score(X_test,y_test)*100)"
   ]
  },
  {
   "cell_type": "code",
   "execution_count": 23,
   "metadata": {},
   "outputs": [
    {
     "name": "stdout",
     "output_type": "stream",
     "text": [
      "Co efficients %s [[ 0.00564764 -0.01214207  0.08255839  0.00754153  0.64248046 -0.08794113]]\n",
      "Y intercept %s [0.00908801]\n"
     ]
    }
   ],
   "source": [
    "print(\"Co efficients %s\",lr.coef_)\n",
    "print(\"Y intercept %s\",lr.intercept_)"
   ]
  },
  {
   "cell_type": "code",
   "execution_count": 24,
   "metadata": {},
   "outputs": [],
   "source": [
    "def make_meshgrid(x, y, h=.02):\n",
    "\n",
    "    \"\"\"Create a mesh of points to plot in\n",
    "\n",
    "\n",
    "\n",
    "    Parameters\n",
    "\n",
    "    ----------\n",
    "\n",
    "    x: data to base x-axis meshgrid on\n",
    "\n",
    "    y: data to base y-axis meshgrid on\n",
    "\n",
    "    h: stepsize for meshgrid, optional\n",
    "\n",
    "\n",
    "\n",
    "    Returns\n",
    "\n",
    "    -------\n",
    "\n",
    "    xx, yy : ndarray\n",
    "\n",
    "    \"\"\"\n",
    "\n",
    "    x_min, x_max = x.min() - 1, x.max() + 1\n",
    "\n",
    "    y_min, y_max = y.min() - 1, y.max() + 1\n",
    "\n",
    "    xx, yy = np.meshgrid(np.arange(x_min, x_max, h),\n",
    "\n",
    "                         np.arange(y_min, y_max, h))\n",
    "\n",
    "    return xx, yy\n",
    "def plot_contours(ax, clf, xx, yy, proba=False, transformation=None, **params):\n",
    "\n",
    "    \"\"\"Plot the decision boundaries for a classifier.\n",
    "\n",
    "\n",
    "\n",
    "    Parameters\n",
    "\n",
    "    ----------\n",
    "\n",
    "    ax: matplotlib axes object\n",
    "\n",
    "    clf: a classifier\n",
    "\n",
    "    xx: meshgrid ndarray\n",
    "\n",
    "    yy: meshgrid ndarray\n",
    "\n",
    "    params: dictionary of params to pass to contourf, optional\n",
    "\n",
    "    \"\"\"\n",
    "\n",
    "\n",
    "\n",
    "    X = np.c_[xx.ravel(), yy.ravel()]\n",
    "\n",
    "    if transformation is not None:\n",
    "\n",
    "        X = transformation(X)\n",
    "\n",
    "        # xx = np.reshape(X[:,0], xx.shape)\n",
    "\n",
    "        # yy = np.reshape(X[:,1], yy.shape)\n",
    "\n",
    "\n",
    "\n",
    "\n",
    "\n",
    "    if proba:\n",
    "\n",
    "        if hasattr(clf, 'predict_proba'):\n",
    "\n",
    "            Z = clf.predict_proba(X)[:,-1]\n",
    "\n",
    "            Z = Z.reshape(xx.shape)\n",
    "\n",
    "            out = ax.imshow(Z,extent=(np.min(xx), np.max(xx), np.min(yy), np.max(yy)), origin='lower', vmin=0, vmax=1, **params)\n",
    "\n",
    "            ax.contour(xx, yy, Z, levels=[0.5])\n",
    "\n",
    "        else:\n",
    "\n",
    "            Z = clf.decision_function(X)\n",
    "\n",
    "            Z = Z.reshape(xx.shape)\n",
    "\n",
    "            out = ax.contourf(xx, yy, Z, **params)\n",
    "\n",
    "    else:\n",
    "\n",
    "        Z = clf.predict(X)\n",
    "\n",
    "        Z = Z.reshape(xx.shape)\n",
    "\n",
    "        out = ax.contourf(xx, yy, Z, **params)\n",
    "\n",
    "    return out\n",
    "\n",
    "\n",
    "def plot_classifier(X, y, clf, ax=None, ticks=False, proba=False, transformation=None): # assumes classifier \"clf\" is already fit\n",
    "\n",
    "    X0, X1 = X[:, 0], X[:, 1]\n",
    "\n",
    "    xx, yy = make_meshgrid(X0, X1)\n",
    "\n",
    "\n",
    "\n",
    "    if ax is None:\n",
    "\n",
    "        plt.figure()\n",
    "\n",
    "        ax = plt.gca()\n",
    "\n",
    "        show = True\n",
    "\n",
    "    else:\n",
    "\n",
    "        show = False\n",
    "\n",
    "\n",
    "\n",
    "    # can abstract some of this into a higher-level function for learners to call\n",
    "\n",
    "    #plot_contours(ax, clf, xx, yy, proba=proba, transformation=transformation, cmap=plt.cm.coolwarm, alpha=0.8)\n",
    "\n",
    "    #ax.scatter(X0, X1, c=y, cmap=plt.cm.coolwarm, s=30, edgecolors='k', linewidth=1)\n",
    "\n",
    "    labels = np.unique(y)\n",
    "\n",
    "    if len(labels) == 2:\n",
    "\n",
    "        ax.scatter(X0[y==labels[0]], X1[y==labels[0]], cmap=plt.cm.coolwarm, s=60, c='b', marker='o', edgecolors='k')\n",
    "\n",
    "        ax.scatter(X0[y==labels[1]], X1[y==labels[1]], cmap=plt.cm.coolwarm, s=60, c='r', marker='^', edgecolors='k')\n",
    "\n",
    "    else:\n",
    "\n",
    "        ax.scatter(X0, X1, c=y, cmap=plt.cm.coolwarm, s=50, edgecolors='k', linewidth=1)\n",
    "\n",
    "\n",
    "\n",
    "    ax.set_xlim(xx.min(), xx.max())\n",
    "\n",
    "    ax.set_ylim(yy.min(), yy.max())\n",
    "\n",
    "#     ax.set_xlabel(data.feature_names[0])\n",
    "\n",
    "#     ax.set_ylabel(data.feature_names[1])\n",
    "\n",
    "    if ticks:\n",
    "\n",
    "        ax.set_xticks(())\n",
    "\n",
    "        ax.set_yticks(())\n",
    "\n",
    "#     ax.set_title(title)\n",
    "\n",
    "    if show:\n",
    "\n",
    "        plt.show()\n",
    "\n",
    "    else:\n",
    "\n",
    "        return ax"
   ]
  },
  {
   "cell_type": "code",
   "execution_count": 25,
   "metadata": {},
   "outputs": [
    {
     "data": {
      "image/png": "[encoded data removed]",
      "text/plain": [
       "<Figure size 432x288 with 1 Axes>"
      ]
     },
     "metadata": {
      "needs_background": "light"
     },
     "output_type": "display_data"
    }
   ],
   "source": [
    "#print (X.to_numpy())\n",
    "plot_classifier(X.to_numpy(),y.to_numpy(),lr)"
   ]
  },
  {
   "cell_type": "code",
   "execution_count": 26,
   "metadata": {},
   "outputs": [],
   "source": [
    "from keras.utils.np_utils import to_categorical\n",
    "from keras.layers import Dense\n",
    "from keras.models import Sequential\n",
    "from keras.callbacks import EarlyStopping\n",
    "from keras.optimizers import SGD\n",
    "from keras.models import Model\n",
    "from keras.utils import plot_model\n",
    "from sklearn.preprocessing import LabelEncoder\n",
    "from sklearn.model_selection import cross_val_score\n",
    "from keras.wrappers.scikit_learn import KerasClassifier\n",
    "from sklearn.model_selection import StratifiedKFold"
   ]
  },
  {
   "cell_type": "code",
   "execution_count": 27,
   "metadata": {},
   "outputs": [
    {
     "data": {
      "image/png": "[encoded data removed]",
      "text/plain": [
       "<Figure size 432x288 with 1 Axes>"
      ]
     },
     "metadata": {
      "needs_background": "light"
     },
     "output_type": "display_data"
    }
   ],
   "source": [
    "model=Sequential()\n",
    "\n",
    "model.add(Dense(6, input_dim=6, activation='relu'))\n",
    "model.add(Dense(6, activation='relu'))\n",
    "model.add(Dense(1, activation='sigmoid'))\n",
    "\n",
    "early_stopping_monitor=EarlyStopping(patience=3)\n",
    "model.compile(optimizer=\"adam\", loss='binary_crossentropy', metrics=['accuracy'])\n",
    "\n",
    "\n",
    "plot_model(model, to_file='model.png')\n",
    "img=plt.imread('model.png')\n",
    "plt.imshow(img)\n",
    "plt.show()"
   ]
  },
  {
   "cell_type": "code",
   "execution_count": 28,
   "metadata": {},
   "outputs": [
    {
     "name": "stderr",
     "output_type": "stream",
     "text": [
      "C:\\Users\\dnishimoto.BOISE\\AppData\\Local\\Continuum\\anaconda3\\envs\\deeplearning\\lib\\site-packages\\sklearn\\preprocessing\\data.py:323: DataConversionWarning: Data with input dtype int8, int64, float64 were all converted to float64 by MinMaxScaler.\n",
      "  return self.partial_fit(X, y)\n"
     ]
    },
    {
     "name": "stdout",
     "output_type": "stream",
     "text": [
      "Epoch 1/10\n",
      "41188/41188 [==============================] - 1s 23us/step - loss: 0.3267 - accuracy: 0.8870\n",
      "Epoch 2/10\n",
      " 5344/41188 [==>...........................] - ETA: 0s - loss: 0.2915 - accuracy: 0.8894"
     ]
    },
    {
     "name": "stderr",
     "output_type": "stream",
     "text": [
      "C:\\Users\\dnishimoto.BOISE\\AppData\\Local\\Continuum\\anaconda3\\envs\\deeplearning\\lib\\site-packages\\keras\\callbacks\\callbacks.py:846: RuntimeWarning: Early stopping conditioned on metric `val_loss` which is not available. Available metrics are: loss,accuracy\n",
      "  (self.monitor, ','.join(list(logs.keys()))), RuntimeWarning\n"
     ]
    },
    {
     "name": "stdout",
     "output_type": "stream",
     "text": [
      "41188/41188 [==============================] - 1s 20us/step - loss: 0.2967 - accuracy: 0.8865\n",
      "Epoch 3/10\n",
      "41188/41188 [==============================] - 1s 21us/step - loss: 0.2952 - accuracy: 0.8868\n",
      "Epoch 4/10\n",
      "41188/41188 [==============================] - 1s 20us/step - loss: 0.2946 - accuracy: 0.8864\n",
      "Epoch 5/10\n",
      "41188/41188 [==============================] - 1s 20us/step - loss: 0.2943 - accuracy: 0.8866\n",
      "Epoch 6/10\n",
      "41188/41188 [==============================] - 1s 20us/step - loss: 0.2939 - accuracy: 0.8856\n",
      "Epoch 7/10\n",
      "41188/41188 [==============================] - 1s 20us/step - loss: 0.2937 - accuracy: 0.8862\n",
      "Epoch 8/10\n",
      "41188/41188 [==============================] - 1s 20us/step - loss: 0.2934 - accuracy: 0.8855\n",
      "Epoch 9/10\n",
      "41188/41188 [==============================] - 1s 20us/step - loss: 0.2931 - accuracy: 0.8856\n",
      "Epoch 10/10\n",
      "41188/41188 [==============================] - 1s 20us/step - loss: 0.2930 - accuracy: 0.8858\n"
     ]
    },
    {
     "data": {
      "text/plain": [
       "<keras.callbacks.callbacks.History at 0x2ca2ba00308>"
      ]
     },
     "execution_count": 28,
     "metadata": {},
     "output_type": "execute_result"
    }
   ],
   "source": [
    "#https://machinelearningmastery.com/how-to-make-classification-and-regression-predictions-for-deep-learning-models-in-keras/\n",
    "scalar = MinMaxScaler()\n",
    "scalar.fit(X)\n",
    "X_scaled = scalar.transform(X)\n",
    "\n",
    "model.fit(X_scaled, y,callbacks=[early_stopping_monitor],  epochs=10)\n",
    "\n",
    "#encoder = LabelEncoder()\n",
    "#encoder.fit(y)\n",
    "#encoded_Y = encoder.transform(y)\n",
    "\n",
    "#def create_baseline():\n",
    "# create model\n",
    "#    model = Sequential()\n",
    "#    model.add(Dense(6, input_dim=6, activation='relu'))\n",
    "#    model.add(Dense(1, activation='sigmoid'))\n",
    "    # Compile model\n",
    "#    model.compile(loss='binary_crossentropy', optimizer='adam', metrics=['accuracy'])\n",
    "#    return model\n",
    "# evaluate model with standardized dataset\n",
    "#estimator = KerasClassifier(build_fn=create_baseline, epochs=100, batch_size=5, verbose=0)\n",
    "#kfold = StratifiedKFold(n_splits=10, shuffle=True)\n",
    "#results = cross_val_score(estimator, X, encoded_Y, cv=kfold)\n",
    "#print(\"Baseline: %.2f%% (%.2f%%)\" % (results.mean()*100, results.std()*100))"
   ]
  },
  {
   "cell_type": "code",
   "execution_count": 33,
   "metadata": {},
   "outputs": [
    {
     "name": "stdout",
     "output_type": "stream",
     "text": [
      "1875\n",
      "39313\n"
     ]
    },
    {
     "data": {
      "text/plain": [
       "<function matplotlib.pyplot.show(*args, **kw)>"
      ]
     },
     "execution_count": 33,
     "metadata": {},
     "output_type": "execute_result"
    },
    {
     "data": {
      "image/png": "[encoded data removed]",
      "text/plain": [
       "<Figure size 432x288 with 1 Axes>"
      ]
     },
     "metadata": {
      "needs_background": "light"
     },
     "output_type": "display_data"
    }
   ],
   "source": [
    "y_pred=model.predict(X_scaled)\n",
    "buffer=y_pred.flatten()\n",
    "#print(buffer)\n",
    "yes=buffer[buffer>=.5]\n",
    "no=buffer[buffer<.5]\n",
    "print(len(yes))\n",
    "print(len(no))\n",
    "\n",
    "counts=[len(no),len(yes)]\n",
    "plt.bar(range(2),counts)\n",
    "plt.ylabel(\"Counts\")\n",
    "plt.xlabel(\"Rejection/Success\")\n",
    "\n",
    "plt.annotate(str(len(no)), xy=(0,len(no)))\n",
    "plt.annotate(str(len(yes)), xy=(1,len(yes)))\n",
    "\n",
    "plt.show\n"
   ]
  },
  {
   "cell_type": "code",
   "execution_count": null,
   "metadata": {},
   "outputs": [],
   "source": []
  }
 ],
 "metadata": {
  "kernelspec": {
   "display_name": "Python 3",
   "language": "python",
   "name": "python3"
  },
  "language_info": {
   "codemirror_mode": {
    "name": "ipython",
    "version": 3
   },
   "file_extension": ".py",
   "mimetype": "text/x-python",
   "name": "python",
   "nbconvert_exporter": "python",
   "pygments_lexer": "ipython3",
   "version": "3.7.7"
  }
 },
 "nbformat": 4,
 "nbformat_minor": 4
}
