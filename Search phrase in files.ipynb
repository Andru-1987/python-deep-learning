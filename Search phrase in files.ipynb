{
 "cells": [
  {
   "cell_type": "code",
   "execution_count": 3,
   "metadata": {
    "scrolled": false
   },
   "outputs": [],
   "source": [
    "import glob, os\n",
    "import subprocess\n",
    "from colorama import Fore, Back, Style\n",
    "import codecs\n",
    "import json\n",
    "import re\n",
    "\n",
    "\n",
    "#,'apple', 'orange', 'banana'\n",
    "search=['corrcoef']\n",
    "search=list(map(lambda x: x.upper(),search))\n",
    "path=os.path.expanduser('~\\python_files')\n",
    "for filename in os.listdir(path):\n",
    "    if filename.endswith(\".txt\"):\n",
    "        filename=path + \"\\\\\" +filename\n",
    "        #if filename==r\"C:\\Users\\dnishimoto.BOISE\\python\\decision tree machine learning.txt\":\n",
    "        with open(filename) as fin:\n",
    "            text=(fin.read())\n",
    "            text=text.replace('>>',' ')\n",
    "                #print(text)\n",
    "            mywords=text.split(' ')\n",
    "            mywords=map(lambda x: x.upper(),mywords)\n",
    "            mywords=[x.replace('\\n','') for x in mywords if x]\n",
    "            #print(mywords)\n",
    "            if any([x in search  for x in mywords]):\n",
    "                print(Fore.RED+filename)\n",
    "                print(Fore.BLACK)\n",
    "                print(\"{}\\n{}\".format(filename,text))\n"
   ]
  },
  {
   "cell_type": "code",
   "execution_count": 6,
   "metadata": {},
   "outputs": [],
   "source": [
    "\n",
    "#pattern=\"(\\s{1}airlines.csv\\s{1})\"\n",
    "pattern=\"(corrcoef)\"\n",
    "path= 'C:\\\\Users\\\\dnishimoto\\\\python_files'  \n",
    "for filename in [item for item in os.listdir(path) if item.endswith(\".txt\")  ]:\n",
    "    if os.access(path + \"\\\\\" + filename, os.R_OK):\n",
    "        with open(path + \"\\\\\" + filename,\"r\") as f:\n",
    "            lines = f.readlines()\n",
    "            for line in lines:\n",
    "                if re.search(pattern,line):\n",
    "                    print(filename)\n",
    "                    print(\"\\t{}\".format(line))"
   ]
  },
  {
   "cell_type": "code",
   "execution_count": 11,
   "metadata": {},
   "outputs": [
    {
     "name": "stdout",
     "output_type": "stream",
     "text": [
      "Google timeseries.ipynb\n",
      "\n",
      "\ttesla=pd.read_csv('TSLA.csv',parse_dates=['Date'],index_col='Date')\n",
      "\n",
      "\ttesla['Normalized']=tesla['Open'].div(tesla['Open'].iloc[0]).mul(100)\n",
      "\n",
      "\tcompare=compare.merge(tesla['Normalized'],on='Date',how='left').rename(columns={'Normalized':'Tesla'}).fillna(0)\n",
      "\n",
      "\ttesla['Normalized'].plot(ax=ax)\n",
      "\n",
      "Tesla financials.ipynb\n",
      "\n",
      "\t#df.to_csv(\"tesla_balance_sheet.csv\")\n",
      "\n",
      "\t#df.to_csv(\"tesla_income_statement.csv\")\n",
      "\n",
      "\tincome_statement_df=pd.read_csv(\"tesla_income_statement.csv\")\n",
      "\n"
     ]
    }
   ],
   "source": [
    "def readJupyterNotesFnc(path,phrase):\n",
    "    pySource=\"\"\n",
    "    count=0\n",
    "    path=os.path.expanduser(path)\n",
    "    for filename in [item for item in os.listdir(path) if item.endswith(\".ipynb\")  ]:\n",
    "        if os.access(path + \"\\\\\" + filename, os.R_OK):\n",
    "            with open(path + \"\\\\\" + filename,\"r\", encoding=\"utf8\") as f:\n",
    "                source = f.read()\n",
    "                y = json.loads(source)\n",
    "                #print(y)\n",
    "                doc=[]\n",
    "                found=False\n",
    "                for x in y['cells']:\n",
    "                    for line in x['source']:\n",
    "                    #print(line)\n",
    "                        if phrase in line:\n",
    "                            doc.append(line)\n",
    "                            found=True\n",
    "                if found==True:\n",
    "                    print(\"{}\\n\".format(filename))\n",
    "                    for item in doc:\n",
    "                        print(\"\\t{}\".format(item))\n",
    "                count+=1\n",
    "\n",
    "path= 'C:\\\\Users\\\\dnishimoto\\\\python_files\\\\python-deep-learning-master'               \n",
    "readJupyterNotesFnc(path,\"tesla\")                "
   ]
  },
  {
   "cell_type": "code",
   "execution_count": null,
   "metadata": {},
   "outputs": [],
   "source": []
  }
 ],
 "metadata": {
  "kernelspec": {
   "display_name": "Python 3 (ipykernel)",
   "language": "python",
   "name": "python3"
  },
  "language_info": {
   "codemirror_mode": {
    "name": "ipython",
    "version": 3
   },
   "file_extension": ".py",
   "mimetype": "text/x-python",
   "name": "python",
   "nbconvert_exporter": "python",
   "pygments_lexer": "ipython3",
   "version": "3.8.12"
  }
 },
 "nbformat": 4,
 "nbformat_minor": 4
}
