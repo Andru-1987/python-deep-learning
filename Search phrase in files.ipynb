{
 "cells": [
  {
   "cell_type": "code",
   "execution_count": 1,
   "metadata": {
    "scrolled": false
   },
   "outputs": [],
   "source": [
    "import glob, os\n",
    "import subprocess\n",
    "from colorama import Fore, Back, Style\n",
    "import codecs\n",
    "import json\n",
    "import re\n",
    "\n",
    "\n",
    "#,'apple', 'orange', 'banana'\n",
    "search=['corrcoef']\n",
    "search=list(map(lambda x: x.upper(),search))\n",
    "path=os.path.expanduser('~\\python')\n",
    "for filename in os.listdir(path):\n",
    "    if filename.endswith(\".txt\"):\n",
    "        filename=path + \"\\\\\" +filename\n",
    "        #if filename==r\"C:\\Users\\dnishimoto.BOISE\\python\\decision tree machine learning.txt\":\n",
    "        with open(filename) as fin:\n",
    "            text=(fin.read())\n",
    "            text=text.replace('>>',' ')\n",
    "                #print(text)\n",
    "            mywords=text.split(' ')\n",
    "            mywords=map(lambda x: x.upper(),mywords)\n",
    "            mywords=[x.replace('\\n','') for x in mywords if x]\n",
    "            #print(mywords)\n",
    "            if any([x in search  for x in mywords]):\n",
    "                print(Fore.RED+filename)\n",
    "                print(Fore.BLACK)\n",
    "                print(\"{}\\n{}\".format(filename,text))\n"
   ]
  },
  {
   "cell_type": "code",
   "execution_count": 2,
   "metadata": {},
   "outputs": [
    {
     "name": "stdout",
     "output_type": "stream",
     "text": [
      "numpy statistics.txt\n",
      "\tnp.corrcoef\n",
      "\n",
      "pandas time series.txt\n",
      "\t\tmy_corrcoef_matrix=np.corrcoef(y_pred,y.squeeze())\n",
      "\n",
      "pandas time series.txt\n",
      "\t\tmy_corrcoef = my_corrcoef[1,0]\n",
      "\n",
      "pandas time series.txt\n",
      "\t\treturn my_corrcoef\n",
      "\n",
      "pandas time series.txt\n",
      "\tdef my_corrcoef(est,X,y):\n",
      "\n",
      "pandas time series.txt\n",
      "\t\treturn np.corrcoef(y,est,predict(X))[1,0]\n",
      "\n",
      "pandas time series.txt\n",
      "\tcv_scores=cross_val_score(model, X,y,cv=cv, scoring=my_corrcoef)\n",
      "\n",
      "predictive analytics multi-variable analysis.txt\n",
      "\t>>>>>>Sample >>> auc >>> and np.corrcoef\n",
      "\n",
      "predictive analytics multi-variable analysis.txt\n",
      "\tcorrelation = np.corrcoef(basetable[\"min_gift\"], basetable[\"mean_gift\"])[0,1]\n",
      "\n",
      "statistical thinking part 1.txt\n",
      "\t    corr_mat=np.corrcoef(x,y)\n",
      "\n"
     ]
    }
   ],
   "source": [
    "\n",
    "#pattern=\"(\\s{1}airlines.csv\\s{1})\"\n",
    "pattern=\"(corrcoef)\"\n",
    "path= 'C:\\\\Users\\\\dnishimoto.BOISE\\\\python'  \n",
    "for filename in [item for item in os.listdir(path) if item.endswith(\".txt\")  ]:\n",
    "    if os.access(path + \"\\\\\" + filename, os.R_OK):\n",
    "        with open(path + \"\\\\\" + filename,\"r\") as f:\n",
    "            lines = f.readlines()\n",
    "            for line in lines:\n",
    "                if re.search(pattern,line):\n",
    "                    print(filename)\n",
    "                    print(\"\\t{}\".format(line))"
   ]
  },
  {
   "cell_type": "code",
   "execution_count": 5,
   "metadata": {},
   "outputs": [
    {
     "name": "stdout",
     "output_type": "stream",
     "text": [
      "9. Stackoverflow.ipynb\n",
      "\n",
      "\t    plt.bar(x1, y2, color='g', label='lst2', bottom=y1)\n",
      "\n",
      "General Social Survey.ipynb\n",
      "\n",
      "\tsns.despine(left=True, bottom=True)\n",
      "\n",
      "Search phrase in files.ipynb\n",
      "\n",
      "\treadJupyterNotesFnc(path,\"bottom=\")                \n"
     ]
    }
   ],
   "source": [
    "def readJupyterNotesFnc(path,phrase):\n",
    "    pySource=\"\"\n",
    "    count=0\n",
    "    path=os.path.expanduser(path)\n",
    "    for filename in [item for item in os.listdir(path) if item.endswith(\".ipynb\")  ]:\n",
    "        if os.access(path + \"\\\\\" + filename, os.R_OK):\n",
    "            with open(path + \"\\\\\" + filename,\"r\", encoding=\"utf8\") as f:\n",
    "                source = f.read()\n",
    "                y = json.loads(source)\n",
    "                #print(y)\n",
    "                doc=[]\n",
    "                found=False\n",
    "                for x in y['cells']:\n",
    "                    for line in x['source']:\n",
    "                    #print(line)\n",
    "                        if phrase in line:\n",
    "                            doc.append(line)\n",
    "                            found=True\n",
    "                if found==True:\n",
    "                    print(\"{}\\n\".format(filename))\n",
    "                    for item in doc:\n",
    "                        print(\"\\t{}\".format(item))\n",
    "                count+=1\n",
    "\n",
    "path= 'C:\\\\Users\\\\dnishimoto.BOISE'               \n",
    "readJupyterNotesFnc(path,\"bottom=\")                "
   ]
  },
  {
   "cell_type": "code",
   "execution_count": null,
   "metadata": {},
   "outputs": [],
   "source": []
  }
 ],
 "metadata": {
  "kernelspec": {
   "display_name": "Python 3",
   "language": "python",
   "name": "python3"
  },
  "language_info": {
   "codemirror_mode": {
    "name": "ipython",
    "version": 3
   },
   "file_extension": ".py",
   "mimetype": "text/x-python",
   "name": "python",
   "nbconvert_exporter": "python",
   "pygments_lexer": "ipython3",
   "version": "3.8.11"
  }
 },
 "nbformat": 4,
 "nbformat_minor": 4
}
