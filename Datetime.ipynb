{
 "cells": [
  {
   "cell_type": "code",
   "execution_count": 31,
   "metadata": {},
   "outputs": [],
   "source": [
    "from datetime import datetime, timedelta, timezone\n",
    "from dateutil import tz\n",
    "import datetime\n",
    "#from datetime import datetime\n",
    "from datetime import date\n",
    "import pandas as pd\n",
    "import numpy as np\n",
    "import matplotlib.pyplot as plt"
   ]
  },
  {
   "cell_type": "code",
   "execution_count": 32,
   "metadata": {},
   "outputs": [
    {
     "name": "stdout",
     "output_type": "stream",
     "text": [
      "2001-01-01  found\n",
      "2010-11-21  found\n"
     ]
    }
   ],
   "source": [
    "#https://strftime.org/\n",
    "d=datetime.datetime.now()\n",
    "\n",
    "dateList=['2017-12-31','2001-01-01','2010-11-21']\n",
    "\n",
    "for item in dateList:\n",
    "    diff_days=(d-datetime.datetime.strptime(item,'%Y-%m-%d')).days\n",
    "    if (diff_days/365)>5:\n",
    "        print(item,\" found\")"
   ]
  },
  {
   "cell_type": "code",
   "execution_count": 33,
   "metadata": {},
   "outputs": [
    {
     "name": "stdout",
     "output_type": "stream",
     "text": [
      "2020/11/11\n",
      "05:11 AM\n",
      "False\n"
     ]
    }
   ],
   "source": [
    "#https://strftime.org/\n",
    "d=datetime.datetime.now()\n",
    "print(d.strftime(\"%Y/%m/%d\"))\n",
    "print(d.strftime(\"%H:%m %p\"))\n",
    "match=d.strftime(\"%H:%m %p\")==\"14:00 PM\"\n",
    "print(match)"
   ]
  },
  {
   "cell_type": "code",
   "execution_count": 34,
   "metadata": {},
   "outputs": [
    {
     "name": "stdout",
     "output_type": "stream",
     "text": [
      "29\n"
     ]
    }
   ],
   "source": [
    "\n",
    "d1=date(2017,11,5)\n",
    "d2=date(2017,12,4)\n",
    "\n",
    "delta= d2 - d1\n",
    "\n",
    "print(delta.days)"
   ]
  },
  {
   "cell_type": "code",
   "execution_count": 35,
   "metadata": {},
   "outputs": [
    {
     "name": "stdout",
     "output_type": "stream",
     "text": [
      "      column1     column2\n",
      "0  2017-01-01  2017-01-01\n",
      "1  2017-01-01  2017-01-11\n",
      "2  2017-01-02  2017-03-09\n",
      "3  2017-01-03  2017-03-16\n",
      "4  2017-01-04  2017-01-10\n",
      "      column1     column2  differences classification\n",
      "0  2017-01-01  2017-01-01            0        level 0\n",
      "1  2017-01-01  2017-01-11           10        level 3\n",
      "2  2017-01-02  2017-03-09           66        level 4\n",
      "3  2017-01-03  2017-03-16           72        level 5\n",
      "4  2017-01-04  2017-01-10            6        level 2\n"
     ]
    },
    {
     "data": {
      "image/png": "[encoded data removed]",
      "text/plain": [
       "<Figure size 432x288 with 1 Axes>"
      ]
     },
     "metadata": {
      "needs_background": "light"
     },
     "output_type": "display_data"
    },
    {
     "data": {
      "image/png": "[encoded data removed]",
      "text/plain": [
       "<Figure size 432x288 with 1 Axes>"
      ]
     },
     "metadata": {
      "needs_background": "light"
     },
     "output_type": "display_data"
    },
    {
     "ename": "NameError",
     "evalue": "name 'sns' is not defined",
     "output_type": "error",
     "traceback": [
      "\u001b[1;31m---------------------------------------------------------------------------\u001b[0m",
      "\u001b[1;31mNameError\u001b[0m                                 Traceback (most recent call last)",
      "\u001b[1;32m<ipython-input-35-669d02d2151f>\u001b[0m in \u001b[0;36m<module>\u001b[1;34m\u001b[0m\n\u001b[0;32m     30\u001b[0m \u001b[0mplt\u001b[0m\u001b[1;33m.\u001b[0m\u001b[0mshow\u001b[0m\u001b[1;33m(\u001b[0m\u001b[1;33m)\u001b[0m\u001b[1;33m\u001b[0m\u001b[1;33m\u001b[0m\u001b[0m\n\u001b[0;32m     31\u001b[0m \u001b[1;33m\u001b[0m\u001b[0m\n\u001b[1;32m---> 32\u001b[1;33m \u001b[0msns\u001b[0m\u001b[1;33m.\u001b[0m\u001b[0mdistplot\u001b[0m\u001b[1;33m(\u001b[0m\u001b[0mdf\u001b[0m\u001b[1;33m[\u001b[0m\u001b[1;34m'differences'\u001b[0m\u001b[1;33m]\u001b[0m\u001b[1;33m)\u001b[0m\u001b[1;33m\u001b[0m\u001b[1;33m\u001b[0m\u001b[0m\n\u001b[0m\u001b[0;32m     33\u001b[0m \u001b[0mplt\u001b[0m\u001b[1;33m.\u001b[0m\u001b[0mshow\u001b[0m\u001b[1;33m(\u001b[0m\u001b[1;33m)\u001b[0m\u001b[1;33m\u001b[0m\u001b[1;33m\u001b[0m\u001b[0m\n",
      "\u001b[1;31mNameError\u001b[0m: name 'sns' is not defined"
     ]
    }
   ],
   "source": [
    "from datetime import datetime\n",
    "\n",
    "column1=['2017-01-01','2017-01-01','2017-01-02','2017-01-03','2017-01-04','2017-01-05','2017-01-06','2017-01-07','2017-01-08','2017-01-09','2017-01-10']        \n",
    "column2=['2017-01-01','2017-01-11','2017-03-09','2017-03-16','2017-01-10','2017-01-25','2017-01-25','2017-01-26','2017-01-15','2017-02-16','2017-01-24' ]\n",
    "index=range(0,len(column1))\n",
    "data={'column1':column1,'column2':column2}\n",
    "df=pd.DataFrame(data, columns=['column1','column2'],index=index)\n",
    "print(df.head())\n",
    "\n",
    "differences=df.apply(lambda x: datetime.strptime(x['column2'],'%Y-%m-%d')-datetime.strptime(x['column1'],'%Y-%m-%d'),axis=1)\n",
    "differences=differences.dt.days.astype('int')\n",
    "#print(differences)\n",
    "#years_bins = pd.IntervalIndex.from_tuples([(-1, 0),(0, 2),(2,6),(6, 15),(15,69),(69,np.inf)])\n",
    "years_bins=[-1,0,2,6,15,69,np.inf]\n",
    "output_labels=['level 0','level 1','level 2','level 3','level 4','level 5']    \n",
    "\n",
    "out=pd.cut(differences,bins=years_bins,labels=output_labels)\n",
    "df['differences']=differences\n",
    "df['classification']=out\n",
    "\n",
    "print(df.head())\n",
    "\n",
    "fig, ax = plt.subplots()\n",
    "ax = out.value_counts(sort=False).plot.barh(rot=0, color=\"b\", figsize=(6,4))\n",
    "ax.set_yticklabels(output_labels)\n",
    "#ax.ylabel('Years of Coding Experience')\n",
    "plt.show()\n",
    "\n",
    "plt.hist(df['classification'], bins=6)\n",
    "plt.show()\n",
    "\n",
    "sns.distplot(df['differences'])\n",
    "plt.show()\n"
   ]
  },
  {
   "cell_type": "code",
   "execution_count": 36,
   "metadata": {},
   "outputs": [
    {
     "name": "stdout",
     "output_type": "stream",
     "text": [
      "Eastern Standard Time Zone\n",
      "2017-12-30 17:09:03-05:00\n",
      "India Standard Time Zone\n",
      "2017-12-31 03:39:03+05:30\n",
      "2017-12-30 15:09:03+00:00\n"
     ]
    }
   ],
   "source": [
    "print(\"Eastern Standard Time Zone\")\n",
    "ET=timezone(timedelta(hours=-5))\n",
    "#print(ET)\n",
    "#print(datetime(1970,1,1, tzinfo=timezone.utc))\n",
    "\n",
    "tzinfo=timezone.utc\n",
    "dt=datetime(2017,12,30,15,9,3)\n",
    "#dt=datetime(2017,12,30,15,9,3,tzinfo=ET)\n",
    "#print (dt)\n",
    "print(dt.astimezone(ET))\n",
    "\n",
    "print(\"India Standard Time Zone\")\n",
    "\n",
    "IST= timezone(timedelta(hours=5,minutes=30))\n",
    "dt=datetime(2017,12,30,15,9,3)\n",
    "print(dt.astimezone(IST))\n",
    "print(dt.replace(tzinfo=timezone.utc))"
   ]
  },
  {
   "cell_type": "code",
   "execution_count": 37,
   "metadata": {},
   "outputs": [
    {
     "name": "stdout",
     "output_type": "stream",
     "text": [
      "2017-12-30 15:09:03\n",
      "2017-12-30 15:09:03-04:00\n"
     ]
    }
   ],
   "source": [
    "edt = timezone(timedelta(hours=-4))\n",
    "dt=datetime(2017,12,30,15,9,3)\n",
    "print(dt)\n",
    "dt=dt.replace(tzinfo=edt)\n",
    "\n",
    "print(dt)"
   ]
  },
  {
   "cell_type": "code",
   "execution_count": 4,
   "metadata": {},
   "outputs": [
    {
     "name": "stdout",
     "output_type": "stream",
     "text": [
      "2017-03-12T01:59:59-05:00\n",
      "Elapsed seconds:  1.0\n"
     ]
    }
   ],
   "source": [
    "EST = timezone(timedelta(hours=-5))\n",
    "EDT = timezone(timedelta(hours=-4))\n",
    "\n",
    "spring_ahead_159am = datetime(2017,3,12,1,59,59, tzinfo=EST)\n",
    "print(spring_ahead_159am.isoformat())\n",
    "\n",
    "spring_ahead_3am=datetime(2017,3,12,3,0,0,tzinfo=EDT)\n",
    "spring_ahead_3am.isoformat()\n",
    "\n",
    "print(\"Elapsed seconds: \",(spring_ahead_3am - spring_ahead_159am).total_seconds())"
   ]
  },
  {
   "cell_type": "code",
   "execution_count": 5,
   "metadata": {},
   "outputs": [
    {
     "name": "stdout",
     "output_type": "stream",
     "text": [
      "3601.0\n"
     ]
    }
   ],
   "source": [
    "eastern = tz.gettz('America/New_York')\n",
    "spring_ahead_159am = datetime(2017,3,12,1,59,59, tzinfo=eastern)\n",
    "spring_ahead_3am=datetime(2017,3,12,3,0,0,tzinfo=eastern)\n",
    "print(((spring_ahead_3am - spring_ahead_159am).total_seconds()))\n",
    "\n",
    "\n"
   ]
  },
  {
   "cell_type": "code",
   "execution_count": 6,
   "metadata": {},
   "outputs": [
    {
     "name": "stdout",
     "output_type": "stream",
     "text": [
      "True\n",
      "1am can happen twice in the eastern time zone as daylight saving falls back\n",
      "0.0\n",
      "python does not take in difference the two times.\n",
      "enfold is a placeholder\n"
     ]
    }
   ],
   "source": [
    "eastern = tz.gettz('US/Eastern')\n",
    "first_1am = datetime(2017,11,5,1,0,0,tzinfo=eastern)\n",
    "\n",
    "print(tz.datetime_ambiguous(first_1am))\n",
    "\n",
    "print(\"1am can happen twice in the eastern time zone as daylight saving falls back\")\n",
    "\n",
    "second_1am = datetime(2017,11,5,1,0,0,tzinfo=eastern)\n",
    "\n",
    "second_1am = tz.enfold(second_1am)\n",
    "\n",
    "print((second_1am-first_1am).total_seconds())\n",
    "\n",
    "print(\"python does not take in difference the two times.\")\n",
    "print(\"enfold is a placeholder\")\n"
   ]
  },
  {
   "cell_type": "code",
   "execution_count": null,
   "metadata": {},
   "outputs": [],
   "source": []
  }
 ],
 "metadata": {
  "kernelspec": {
   "display_name": "Python 3",
   "language": "python",
   "name": "python3"
  },
  "language_info": {
   "codemirror_mode": {
    "name": "ipython",
    "version": 3
   },
   "file_extension": ".py",
   "mimetype": "text/x-python",
   "name": "python",
   "nbconvert_exporter": "python",
   "pygments_lexer": "ipython3",
   "version": "3.7.7"
  }
 },
 "nbformat": 4,
 "nbformat_minor": 4
}
