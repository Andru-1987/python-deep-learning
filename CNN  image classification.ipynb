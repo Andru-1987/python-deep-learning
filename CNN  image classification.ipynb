{
 "cells": [
  {
   "cell_type": "code",
   "execution_count": 36,
   "metadata": {},
   "outputs": [],
   "source": [
    "import numpy as np\n",
    "from keras.models import Sequential\n",
    "from keras.layers import Dense\n",
    "from tensorflow.keras.datasets import mnist\n",
    "from keras.utils import plot_model\n",
    "import matplotlib.pyplot as plt\n",
    "from keras.utils.np_utils import to_categorical\n",
    "from keras.callbacks import EarlyStopping"
   ]
  },
  {
   "cell_type": "code",
   "execution_count": 31,
   "metadata": {},
   "outputs": [
    {
     "name": "stdout",
     "output_type": "stream",
     "text": [
      "[[0. 0. 1.]\n",
      " [0. 1. 0.]\n",
      " [0. 0. 1.]\n",
      " [1. 0. 0.]\n",
      " [0. 0. 1.]\n",
      " [1. 0. 0.]\n",
      " [0. 0. 1.]\n",
      " [0. 1. 0.]]\n"
     ]
    }
   ],
   "source": [
    "\n",
    "\n",
    "labels=['shoe','dress','shoe','t-shirt','shoe','t-shirt','shoe','dress']\n",
    "\n",
    "categories = np.array(['t-shirt','dress','shoe'])\n",
    "\n",
    "n_categories=3\n",
    "\n",
    "ohe_labels=np.zeros((len(labels),n_categories))\n",
    "\n",
    "for ii in range(len(labels)):\n",
    "    jj=np.where(categories==labels[ii])\n",
    "    ohe_labels[ii,jj]=1\n",
    "    \n",
    "print(ohe_labels)"
   ]
  },
  {
   "cell_type": "code",
   "execution_count": 32,
   "metadata": {},
   "outputs": [],
   "source": [
    "(X_train, Y_train), (X_test, Y_test) = mnist.load_data()"
   ]
  },
  {
   "cell_type": "code",
   "execution_count": 41,
   "metadata": {},
   "outputs": [
    {
     "name": "stdout",
     "output_type": "stream",
     "text": [
      "(60000, 28, 28)\n",
      "Model: \"sequential_8\"\n",
      "_________________________________________________________________\n",
      "Layer (type)                 Output Shape              Param #   \n",
      "=================================================================\n",
      "dense_16 (Dense)             (None, 50)                39250     \n",
      "_________________________________________________________________\n",
      "dense_17 (Dense)             (None, 50)                2550      \n",
      "_________________________________________________________________\n",
      "dense_18 (Dense)             (None, 10)                510       \n",
      "=================================================================\n",
      "Total params: 42,310\n",
      "Trainable params: 42,310\n",
      "Non-trainable params: 0\n",
      "_________________________________________________________________\n"
     ]
    },
    {
     "data": {
      "image/png": "[encoded data removed]",
      "text/plain": [
       "<Figure size 432x288 with 1 Axes>"
      ]
     },
     "metadata": {
      "needs_background": "light"
     },
     "output_type": "display_data"
    }
   ],
   "source": [
    "model=Sequential()\n",
    "\n",
    "print(X_train.shape)\n",
    "\n",
    "#28x28 pixels=784 pixels\n",
    "model.add(Dense(50, activation='relu', input_shape=(784,)))\n",
    "\n",
    "model.add(Dense(50,activation='relu'))\n",
    "\n",
    "model.add(Dense(10,activation='softmax'))\n",
    "\n",
    "model.compile(optimizer='adam', loss='categorical_crossentropy', metrics=['accuracy'])\n",
    "\n",
    "model.summary()\n",
    "\n",
    "plot_model(model, to_file='model.png')\n",
    "img=plt.imread('model.png')\n",
    "plt.imshow(img)\n",
    "plt.show()"
   ]
  },
  {
   "cell_type": "code",
   "execution_count": 47,
   "metadata": {},
   "outputs": [
    {
     "name": "stdout",
     "output_type": "stream",
     "text": [
      "(60000, 784)\n",
      "Train on 48000 samples, validate on 12000 samples\n",
      "Epoch 1/3\n",
      "48000/48000 [==============================] - 2s 52us/step - loss: 0.1592 - accuracy: 0.9555 - val_loss: 0.2120 - val_accuracy: 0.9479\n",
      "Epoch 2/3\n",
      "48000/48000 [==============================] - 2s 52us/step - loss: 0.1537 - accuracy: 0.9564 - val_loss: 0.2036 - val_accuracy: 0.9473\n",
      "Epoch 3/3\n",
      "48000/48000 [==============================] - 2s 45us/step - loss: 0.1510 - accuracy: 0.9561 - val_loss: 0.2187 - val_accuracy: 0.9496\n"
     ]
    },
    {
     "data": {
      "text/plain": [
       "<keras.callbacks.callbacks.History at 0x1d90689ec48>"
      ]
     },
     "execution_count": 47,
     "metadata": {},
     "output_type": "execute_result"
    }
   ],
   "source": [
    "#X_train = X_train.reshape((X_train.shape[0], 784))\n",
    "#X_test = X_test.reshape((X_test.shape[0], 784, 1))\n",
    "\n",
    "#y_train=to_categorical(Y_train)\n",
    "#y_test=to_categorical(Y_test)\n",
    "\n",
    "#print(Y_train)\n",
    "\n",
    "#model.fit(X_train,y_train, epochs=3)\n",
    "\n",
    "trainX = X_train.reshape((X_train.shape[0], 784))\n",
    "testX = X_test.reshape((X_test.shape[0], 784))\n",
    "\n",
    "trainY=to_categorical(Y_train)\n",
    "testY=to_categorical(Y_test)\n",
    "\n",
    "early_stopping_monitor=EarlyStopping(patience=2)\n",
    "\n",
    "print(trainX.shape)\n",
    "model.fit(trainX, trainY, validation_split=0.2,callbacks=[early_stopping_monitor],epochs=3)"
   ]
  },
  {
   "cell_type": "code",
   "execution_count": 49,
   "metadata": {},
   "outputs": [
    {
     "name": "stdout",
     "output_type": "stream",
     "text": [
      "10000/10000 [==============================] - 0s 25us/step\n"
     ]
    },
    {
     "data": {
      "text/plain": [
       "[0.2237051248544827, 0.9491999745368958]"
      ]
     },
     "execution_count": 49,
     "metadata": {},
     "output_type": "execute_result"
    }
   ],
   "source": [
    "model.evaluate(testX,testY)\n",
    "\n",
    "#evaluate - outputs the loss and the accurancy"
   ]
  },
  {
   "cell_type": "code",
   "execution_count": null,
   "metadata": {},
   "outputs": [],
   "source": []
  }
 ],
 "metadata": {
  "kernelspec": {
   "display_name": "Python 3",
   "language": "python",
   "name": "python3"
  },
  "language_info": {
   "codemirror_mode": {
    "name": "ipython",
    "version": 3
   },
   "file_extension": ".py",
   "mimetype": "text/x-python",
   "name": "python",
   "nbconvert_exporter": "python",
   "pygments_lexer": "ipython3",
   "version": "3.7.7"
  }
 },
 "nbformat": 4,
 "nbformat_minor": 4
}
