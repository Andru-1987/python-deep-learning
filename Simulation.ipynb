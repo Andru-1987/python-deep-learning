{
 "cells": [
  {
   "cell_type": "code",
   "execution_count": 1,
   "id": "5104883a",
   "metadata": {},
   "outputs": [],
   "source": [
    "import numpy as np\n",
    "import pandas as pd\n",
    "from scipy.stats import bernoulli\n",
    "from scipy.stats import binom\n",
    "import matplotlib.pyplot as plt"
   ]
  },
  {
   "cell_type": "code",
   "execution_count": 2,
   "id": "919ac9f2",
   "metadata": {},
   "outputs": [
    {
     "name": "stdout",
     "output_type": "stream",
     "text": [
      "50066\n"
     ]
    }
   ],
   "source": [
    "#generate random variables\n",
    "#p is the probability of success\n",
    "#size is the number of tries\n",
    "results=bernoulli.rvs(p=0.5,size=100000, random_state=42)\n",
    "\n",
    "print(sum(results))"
   ]
  },
  {
   "cell_type": "code",
   "execution_count": 3,
   "id": "e551e7ff",
   "metadata": {},
   "outputs": [
    {
     "name": "stdout",
     "output_type": "stream",
     "text": [
      "[4 8 6 5 3 3 3 7 5 6]\n"
     ]
    }
   ],
   "source": [
    "np.random.seed(42)\n",
    "results=binom.rvs(n=10,p=0.5,size=10)\n",
    "\n",
    "print(results)"
   ]
  },
  {
   "cell_type": "code",
   "execution_count": 4,
   "id": "cde7b358",
   "metadata": {},
   "outputs": [
    {
     "name": "stdout",
     "output_type": "stream",
     "text": [
      "probability of tossing heads with a coin\n",
      "[  0   1   2   3   4   5   6   7   8   9  10  11  12  13  14  15  16  17\n",
      "  18  19  20  21  22  23  24  25  26  27  28  29  30  31  32  33  34  35\n",
      "  36  37  38  39  40  41  42  43  44  45  46  47  48  49  50  51  52  53\n",
      "  54  55  56  57  58  59  60  61  62  63  64  65  66  67  68  69  70  71\n",
      "  72  73  74  75  76  77  78  79  80  81  82  83  84  85  86  87  88  89\n",
      "  90  91  92  93  94  95  96  97  98  99 100]\n",
      "[0.   0.01 0.02 0.03 0.04 0.05 0.06 0.07 0.08 0.09 0.1  0.11 0.12 0.13\n",
      " 0.14 0.15 0.16 0.17 0.18 0.19 0.2  0.21 0.22 0.23 0.24 0.25 0.26 0.27\n",
      " 0.28 0.29 0.3  0.31 0.32 0.33 0.34 0.35 0.36 0.37 0.38 0.39 0.4  0.41\n",
      " 0.42 0.43 0.44 0.45 0.46 0.47 0.48 0.49 0.5  0.51 0.52 0.53 0.54 0.55\n",
      " 0.56 0.57 0.58 0.59 0.6  0.61 0.62 0.63 0.64 0.65 0.66 0.67 0.68 0.69\n",
      " 0.7  0.71 0.72 0.73 0.74 0.75 0.76 0.77 0.78 0.79 0.8  0.81 0.82 0.83\n",
      " 0.84 0.85 0.86 0.87 0.88 0.89 0.9  0.91 0.92 0.93 0.94 0.95 0.96 0.97\n",
      " 0.98 0.99 1.  ]\n"
     ]
    }
   ],
   "source": [
    "print(\"probability of tossing heads with a coin\")\n",
    "num_heads=np.arange(0,101,1)\n",
    "head_prob=np.arange(0,1.01,0.01)\n",
    "print(num_heads)\n",
    "print(head_prob)\n",
    "\n",
    "coin = pd.DataFrame([(x,y) for x in num_heads for y in head_prob])\n",
    "coin.columns=[\"num_heads\",\"head_prob\"]"
   ]
  },
  {
   "cell_type": "code",
   "execution_count": 5,
   "id": "f847fb9f",
   "metadata": {},
   "outputs": [
    {
     "data": {
      "image/png": "[encoded data removed]",
      "text/plain": [
       "<Figure size 500x300 with 1 Axes>"
      ]
     },
     "metadata": {},
     "output_type": "display_data"
    }
   ],
   "source": [
    "       \n",
    "plt.figure(figsize=(5,3))\n",
    "plt.rcParams['font.size'] = 14\n",
    "p=0.5\n",
    "k=5\n",
    "for x in np.arange(1,10):\n",
    "    y=binom.pmf(k=k,n=x,p=p)\n",
    "    plt.text(x,y,\"{:10.3f}\".format(y))\n",
    "    plt.bar(x,y,color='green')\n",
    "plt.ylabel('Probability')\n",
    "plt.xlabel('Number of Successes')\n",
    "plt.show()\n"
   ]
  },
  {
   "cell_type": "code",
   "execution_count": 6,
   "id": "6801a00c",
   "metadata": {},
   "outputs": [
    {
     "name": "stdout",
     "output_type": "stream",
     "text": [
      "9 burgeries with a 20 percent success rate of capture\n",
      "Use sf to solve for more than, pmf to solve equal, and cdf to solve for fewer than\n",
      "What is the probability of solving more than 3 burglaries?\n",
      "0.08564172800000006\n",
      "What is the probability of solving 2 or 3 burglaries?\n",
      "0.4781506560000002\n",
      "What is the [probability of solving 1 or fewer] or [more than 7 burglaries]?\n",
      "0.4362265599999997\n"
     ]
    }
   ],
   "source": [
    "print(\"9 burgeries with a 20 percent success rate of capture\")\n",
    "print(\"Use sf to solve for more than, pmf to solve equal, and cdf to solve for fewer than\")\n",
    "print(\"What is the probability of solving more than 3 burglaries?\")\n",
    "more_than_three_solved = binom.sf(k=3, n=9, p=0.20)\n",
    "print(more_than_three_solved)\n",
    "\n",
    "print(\"What is the probability of solving 2 or 3 burglaries?\")\n",
    "two_or_three_solved = binom.pmf(k=2, n=9, p=0.20) + binom.pmf(k=3, n=9, p=0.20)\n",
    "print(two_or_three_solved)\n",
    "\n",
    "print(\"What is the [probability of solving 1 or fewer] or [more than 7 burglaries]?\")\n",
    "tail_probabilities = binom.cdf(k=1, n=9, p=0.2) + binom.sf(k=7, n=9, p=0.2)\n",
    "print(tail_probabilities)"
   ]
  },
  {
   "cell_type": "code",
   "execution_count": null,
   "id": "c353697d",
   "metadata": {},
   "outputs": [],
   "source": []
  }
 ],
 "metadata": {
  "kernelspec": {
   "display_name": "Python 3 (ipykernel)",
   "language": "python",
   "name": "python3"
  },
  "language_info": {
   "codemirror_mode": {
    "name": "ipython",
    "version": 3
   },
   "file_extension": ".py",
   "mimetype": "text/x-python",
   "name": "python",
   "nbconvert_exporter": "python",
   "pygments_lexer": "ipython3",
   "version": "3.8.16"
  }
 },
 "nbformat": 4,
 "nbformat_minor": 5
}
