{
 "cells": [
  {
   "cell_type": "code",
   "execution_count": 388,
   "metadata": {},
   "outputs": [],
   "source": [
    "import pandas as pd\n",
    "import matplotlib.pyplot as plt\n",
    "import seaborn as sns\n",
    "import numpy as np\n",
    "import json\n",
    "import dc_stat_think as dcst\n",
    "import datetime\n",
    "from datetime import datetime as datetime2\n",
    "from scipy.stats import uniform\n",
    "from sklearn.linear_model import LogisticRegression\n",
    "from sklearn.model_selection import train_test_split\n",
    "from sklearn.model_selection import RandomizedSearchCV\n",
    "from sklearn.preprocessing import LabelEncoder\n",
    "from sklearn.metrics import accuracy_score\n",
    "import random\n",
    "from scipy.stats import binom,norm\n",
    "import math\n",
    "from sklearn.preprocessing import LabelEncoder\n",
    "from pandas_datareader import data as pdr"
   ]
  },
  {
   "cell_type": "code",
   "execution_count": 271,
   "metadata": {},
   "outputs": [
    {
     "name": "stdout",
     "output_type": "stream",
     "text": [
      "    week_date  week_number baseline_date  baseline_week_number\n",
      "0  2020-04-04           14    2020-01-04                     1\n",
      "1  2020-04-11           15    2020-01-11                     2\n",
      "2  2020-04-18           16    2020-01-18                     3\n",
      "3  2020-04-25           17    2020-01-25                     4\n",
      "4  2020-05-02           18    2020-02-01                     5\n",
      "5  2020-05-09           19    2020-02-08                     6\n",
      "6  2020-05-16           20    2020-02-15                     7\n",
      "7  2020-05-23           21    2020-02-22                     8\n",
      "8  2020-05-30           22    2020-02-29                     9\n",
      "9  2020-06-06           23    2020-03-07                    10\n",
      "10 2020-06-13           24    2020-03-14                    11\n",
      "11 2020-06-20           25    2020-03-21                    12\n",
      "12 2020-06-27           26    2020-03-28                    13\n",
      "13 2020-07-04           27    2020-04-04                    14\n",
      "14 2020-07-11           28    2020-04-11                    15\n",
      "15 2020-07-18           29    2020-04-18                    16\n",
      "16 2020-07-25           30    2020-04-25                    17\n",
      "17 2020-08-01           31    2020-05-02                    18\n",
      "18 2020-08-08           32    2020-05-09                    19\n",
      "19 2020-08-15           33    2020-05-16                    20\n",
      "20 2020-08-22           34    2020-05-23                    21\n",
      "21 2020-08-29           35    2020-05-30                    22\n",
      "22 2020-09-05           36    2020-06-06                    23\n",
      "23 2020-09-12           37    2020-06-13                    24\n",
      "24 2020-09-19           38    2020-06-20                    25\n",
      "25 2020-09-26           39    2020-06-27                    26\n",
      "26 2020-10-03           40    2020-07-04                    27\n",
      "27 2020-10-10           41    2020-07-11                    28\n",
      "28 2020-10-17           42    2020-07-18                    29\n",
      "29 2020-10-24           43    2020-07-25                    30\n",
      "30 2020-10-31           44    2020-08-01                    31\n",
      "31 2020-11-07           45    2020-08-08                    32\n",
      "32 2020-11-14           46    2020-08-15                    33\n",
      "33 2020-11-21           47    2020-08-22                    34\n",
      "34 2020-11-28           48    2020-08-29                    35\n",
      "35 2020-12-05           49    2020-09-05                    36\n",
      "36 2020-12-12           50    2020-09-12                    37\n",
      "37 2020-12-19           51    2020-09-19                    38\n",
      "38 2020-12-26           52    2020-09-26                    39\n",
      "39 2021-01-02           53    2020-10-03                    40\n",
      "40 2021-01-09            1    2020-10-10                    41\n",
      "41 2021-01-16            2    2020-10-17                    42\n",
      "42 2021-01-23            3    2020-10-24                    43\n",
      "43 2021-01-30            4    2020-10-31                    44\n",
      "44 2021-02-06            5    2020-11-07                    45\n",
      "45 2021-02-13            6    2020-11-14                    46\n",
      "46 2021-02-20            7    2020-11-21                    47\n",
      "47 2021-02-27            8    2020-11-28                    48\n",
      "48 2021-03-06            9    2020-12-05                    49\n",
      "49 2021-03-13           10    2020-12-12                    50\n",
      "50 2021-03-20           11    2020-12-19                    51\n",
      "51 2021-03-27           12    2020-12-26                    52\n",
      "52 2021-04-03           13    2021-01-02                    53\n",
      "53 2021-04-10           14    2021-01-09                     1\n"
     ]
    }
   ],
   "source": [
    "year_start = '2020-03-29'\n",
    "year_end = '2021-04-10'\n",
    "\n",
    "df = pd.DataFrame(pd.date_range(year_start, year_end, freq=f'W-SAT'), columns=['week_date'])\n",
    "df['week_number']=df['week_date'].apply(lambda row: datetime.date(row.year, row.month, row.day).isocalendar()[1])\n",
    "#print(df)\n",
    "\n",
    "first_day_of_year = df.iloc[0, 0].replace(day=1, month=1)\n",
    "baseline = pd.Series(pd.date_range(first_day_of_year, periods=len(df), freq=f'W-SAT'))\n",
    "#print(baseline)\n",
    "\n",
    "df['baseline_date']=baseline\n",
    "df['baseline_week_number']=df['baseline_date'].apply(lambda row: datetime.date(row.year, row.month, row.day).isocalendar()[1])\n",
    "print(df)\n"
   ]
  },
  {
   "cell_type": "code",
   "execution_count": 272,
   "metadata": {},
   "outputs": [
    {
     "name": "stdout",
     "output_type": "stream",
     "text": [
      "    fc             prob\n",
      "0    0  [3, 5, 2, 6, 3]\n",
      "1    1  [3, 9, 5, 1, 4]\n",
      "2    2  [4, 8, 8, 8, 1]\n",
      "3    3  [9, 5, 4, 3, 7]\n",
      "4    4  [3, 7, 9, 7, 2]\n",
      "5    5  [7, 6, 8, 8, 7]\n",
      "6    6  [6, 4, 9, 8, 1]\n",
      "7    7  [2, 5, 1, 7, 6]\n",
      "8    8  [7, 6, 4, 3, 8]\n",
      "9    9  [3, 7, 7, 4, 8]\n",
      "10  10  [8, 2, 8, 1, 3]\n",
      "11  11  [6, 3, 7, 8, 8]\n",
      "12  12  [5, 8, 5, 4, 1]\n",
      "13  13  [6, 5, 4, 5, 7]\n",
      "14  14  [6, 8, 8, 1, 1]\n",
      "[ 0  0  0  0  1  1  1  1  2  2 -1 -1 -1 -1 -1]\n",
      "-1    128\n",
      " 0     98\n",
      " 1    113\n",
      " 2     57\n",
      "Name: prob, dtype: int64\n"
     ]
    }
   ],
   "source": [
    "data = {'start': [0,4,8],'stop': [3,7,9]}\n",
    "df = pd.DataFrame(data)\n",
    "\n",
    "# setup sample df_a with Framecount as fc, and probability as prob\n",
    "np.random.seed(365)\n",
    "rows=15\n",
    "df_a = pd.DataFrame({'fc': range(rows), 'prob': np.random.randint(1, 10, (rows, 5)).tolist()})\n",
    "print(df_a)\n",
    "idx = pd.IntervalIndex.from_arrays(df.start, df.stop, closed='both')\n",
    "print(idx.get_indexer(df_a.fc))\n",
    "grouped=df_a.groupby(idx.get_indexer(df_a.fc)).agg({'prob': list}).prob.map(np.sum)\n",
    "print(grouped)\n"
   ]
  },
  {
   "cell_type": "code",
   "execution_count": 273,
   "metadata": {},
   "outputs": [
    {
     "name": "stdout",
     "output_type": "stream",
     "text": [
      "4\n",
      "5\n",
      "8\n",
      "4\n",
      "7\n",
      "64\n",
      "57\n",
      "45\n",
      "7\n",
      "43\n",
      "5\n",
      "7\n",
      "3\n",
      "3\n",
      "3\n",
      "4\n",
      "3\n",
      "0\n",
      "-65\n",
      "-343\n"
     ]
    },
    {
     "data": {
      "text/plain": [
       "[None,\n",
       " None,\n",
       " None,\n",
       " None,\n",
       " None,\n",
       " None,\n",
       " None,\n",
       " None,\n",
       " None,\n",
       " None,\n",
       " None,\n",
       " None,\n",
       " None,\n",
       " None,\n",
       " None,\n",
       " None,\n",
       " None,\n",
       " None,\n",
       " None,\n",
       " None]"
      ]
     },
     "execution_count": 273,
     "metadata": {},
     "output_type": "execute_result"
    }
   ],
   "source": [
    "import re\n",
    "\n",
    "original_array = np.array( [4, 5, 2, 8, 4, 7, 2, 64, 2, 57, 2, 45, 7, 43, 2, 5, 7, 3, 3, 6523, 3, 4, 3, 0, -65, -343])\n",
    "digit_re = re.compile('[2]{1}')\n",
    "[print (x) for x in original_array if not digit_re.search(str(x))]"
   ]
  },
  {
   "cell_type": "code",
   "execution_count": 274,
   "metadata": {},
   "outputs": [
    {
     "name": "stdout",
     "output_type": "stream",
     "text": [
      "Index(['Anastasia', 'Dima', 'Katherine', 'James', 'Emily', 'Michael',\n",
      "       'Matthew', 'Laura', 'Kevin', 'Jonas'],\n",
      "      dtype='object', name='name')\n"
     ]
    }
   ],
   "source": [
    "exam_scores = {'name': ['Anastasia', 'Dima', 'Katherine', 'James', 'Emily', 'Michael', 'Matthew', 'Laura', 'Kevin', 'Jonas'],\n",
    "'score': [12.5, 9, 16.5, np.nan, 9, 20, 14.5, np.nan, 8, 19]}\n",
    "df = pd.DataFrame(exam_scores)\n",
    "df.set_index('name',inplace=True)\n",
    "print(df.index)\n"
   ]
  },
  {
   "cell_type": "code",
   "execution_count": 275,
   "metadata": {},
   "outputs": [
    {
     "name": "stdout",
     "output_type": "stream",
     "text": [
      "[-13.90521118 -13.5506428  -13.08478734 -12.51112497 -11.83374521\n",
      " -11.05721556 -10.1864488   -9.22657614  -8.18283203  -7.06045399\n",
      "  -5.86459943  -4.60027958  -3.27230967  -1.88527376  -0.4435021\n",
      "   1.048941     2.58826105   4.17093084   5.79368304   7.45349962\n",
      "   9.14759892  10.87342147  12.62861518  14.41102042  16.21865534\n",
      "  18.04970177  19.9024918   21.77549509  23.66730716  25.57663843\n",
      "  27.50230417  29.44321527  31.3983698   33.36684531  35.3477918\n",
      "  37.34042535  39.3440223   41.35791402  43.38148215  45.41415422\n",
      "  47.45539976]\n",
      "[-16.16748796 -14.91712669 -13.52636453 -12.0174973  -10.40970064\n",
      "  -8.71911226  -6.9591357   -5.14082445  -3.27326735  -1.36393757\n",
      "   0.5810082    2.55648137   4.55825887   6.58281972   8.62721398\n",
      "  10.68895764  12.76594853  14.85639872  16.95878018  19.07178081\n",
      "  21.19426878  23.3252635   25.46391182  27.60946848  29.76127996\n",
      "  31.91877107  34.08143379  36.24881791  38.4205232   40.59619271\n",
      "  42.77550724  44.95818048  47.14395498  49.33259863  51.52390166\n",
      "  53.71767402  55.9137432   58.1119522   60.3121579   62.51422954\n",
      "  64.71804745]\n",
      "[-13.89134048 -14.19641228 -14.28767334 -14.16261306 -13.82466211\n",
      " -13.28273886 -12.55014155 -11.64308461 -10.57920985  -9.37632082\n",
      "  -8.05145917  -6.62033042  -5.09702056  -3.49392246  -1.82179568\n",
      "  -0.08990019   1.69383758   3.52265232   5.39077562   7.29328743\n",
      "   9.22598561  11.1852738   13.16806627  15.17170765  17.19390583\n",
      "  19.23267582  21.28629287  23.35325337  25.43224216  27.52210512\n",
      "  29.62182625  31.73050831  33.84735657  35.97166498  38.10280453\n",
      "  40.24021328  42.38338788  44.53187629  46.68527159  48.84320656\n",
      "  51.00534906]\n",
      "[  2.20877657   0.06807694  -2.05527796  -4.15661461  -6.22949718\n",
      "  -8.26486575 -10.24966361 -12.16462013 -13.9806708  -15.6533719\n",
      " -17.11518609 -18.26858449 -18.99156802 -19.17520867 -18.78648036\n",
      " -17.89252775 -16.61382838 -15.06576175 -13.3345525  -11.47837392\n",
      "  -9.53528692  -7.53026964  -5.48000553  -3.39589591  -1.28592074\n",
      "   0.84420467   2.9902985    5.14924069   7.31866173   9.4967331\n",
      "  11.68202322  13.87339649  16.06994131  18.27091801  20.4757204\n",
      "  22.68384726  24.89488065  27.10846946  29.32431663  31.54216916\n",
      "  33.76181032]\n",
      "[-11.91883583 -10.47400039  -8.97010052  -7.41232166  -5.80541493\n",
      "  -4.15371405  -2.46115861  -0.73132093   1.03256544   2.82757699\n",
      "   4.65107219   6.50066492   8.37419947  10.26972759  12.18548741\n",
      "  14.11988437  16.07147393  18.03894612  20.02111158  22.01688921\n",
      "  24.02529499  26.04543216  28.07648235  30.11769774  32.16839406\n",
      "  34.22794431  36.29577324  38.37135231  40.45419534  42.54385445\n",
      "  44.63991655  46.74200015  48.84975251  50.96284705  53.0809811\n",
      "  55.20387374  57.33126402  59.46290923  61.59858335  63.73807574\n",
      "  65.88118984]\n",
      "[ 3.93297582  1.87897477 -0.13072957 -2.07980469 -3.94377439 -5.68527216\n",
      " -7.24698581 -8.54343441 -9.45899708 -9.8707074  -9.707011   -8.99778747\n",
      " -7.85210044 -6.39384643 -4.72234809 -2.90629178 -0.99075453  0.9948708\n",
      "  3.03114804  5.10493899  7.20714536  9.33131501 11.47276933 13.62804577\n",
      " 15.79453387 17.97023233 20.15358349 22.3433583  24.5385749  26.73844006\n",
      " 28.94230631 31.14964021 33.35999845 35.57300974 37.78836085 40.00578568\n",
      " 42.22505686 44.44597891 46.66838289 48.89212205 51.11706834]\n",
      "[ -5.71009233  -7.52366388  -9.25307819 -10.87545489 -12.36118358\n",
      " -13.67284879 -14.76533563 -15.5886072  -16.09466007 -16.24835225\n",
      " -16.03801756 -15.47949926 -14.61073414 -13.480687   -12.13896532\n",
      " -10.62957313  -8.98866581  -7.24471416  -5.41966787  -3.53031471\n",
      "  -1.58949494   0.39292372   2.40930148   4.45367139   6.52132908\n",
      "   8.60853035  10.71226725  12.83010155  14.96003979  17.10043889\n",
      "  19.24993416  21.40738393  23.57182664  25.74244725  27.91855083\n",
      "  30.09954149  32.2849056   34.47419824  36.66703221  38.86306906\n",
      "  41.06201172]\n",
      "[-19.39649039 -17.18745675 -14.9724582  -12.75295049 -10.5299531\n",
      "  -8.30420074  -6.07623599  -3.84646808  -1.61521141   0.61728854\n",
      "   2.85083736   5.0852791    7.32048722   9.55635797  11.79280551\n",
      "  14.02975818  16.26715572  18.50494706  20.74308868  22.98154321\n",
      "  25.22027844  27.45926639  29.69848272  31.93790609  34.17751774\n",
      "  36.41730111  38.65724154  40.89732596  43.13754275  45.37788147\n",
      "  47.61833278  49.85888824  52.09954026  54.34028196  56.58110709\n",
      "  58.82200997  61.06298543  63.30402875  65.54513561  67.78630203\n",
      "  70.02752439]\n",
      "[-7.50730608 -8.8643462  -9.56762267 -9.35606684 -8.31906412 -6.77147299\n",
      " -4.95184059 -2.98551727 -0.93490797  1.16748628  3.303603    5.46276405\n",
      "  7.63830909  9.82589092 12.02256135 14.22625486 16.43548361 18.64914988\n",
      " 20.86642671 23.0866797  25.30941424 27.53423919 29.76084123 31.98896648\n",
      " 34.21840711 36.44899136 38.68057604 40.91304088 43.1462841  45.38021899\n",
      " 47.61477126 49.84987686 52.08548028 54.32153321 56.55799337 58.79482362\n",
      " 61.0319912  63.26946709 65.50722552 67.74524351 69.98350048]\n",
      "[-12.94109957 -10.94769214  -8.9277488   -6.88511404  -4.82295613\n",
      "  -2.74390257  -0.65014601   1.45647264   3.5743987    5.70231182\n",
      "   7.83908458   9.98374937  12.13547167  14.29352839  16.45729023\n",
      "  18.62620721  20.79979676  22.97763386  25.15934284  27.34459048\n",
      "  29.5330803   31.72454764  33.91875561  36.11549153  38.31456395\n",
      "  40.51580012  42.71904376  44.92415317  47.13099954  49.33946561\n",
      "  51.54944434  53.76083786  55.97355651  58.187518    60.40264667\n",
      "  62.61887286  64.8361323   67.05436562  69.27351789  71.49353822\n",
      "  73.71437937]\n",
      "[-17.44564417 -15.35683782 -13.25197487 -11.13338089  -9.00296439\n",
      "  -6.86230387  -4.7127146   -2.55530016  -0.39099257   1.77941614\n",
      "   3.95524904   6.13592443   8.32093987  10.50985928  12.70230248\n",
      "  14.89793661  17.09646904  19.29764154  21.50122541  23.70701743\n",
      "  25.9148364   28.12452029  30.33592376  32.54891611  34.76337947\n",
      "  36.97920728  39.19630297  41.41457883  43.63395502  45.85435869\n",
      "  48.07572329  50.29798782  52.52109636  54.74499749  56.96964386\n",
      "  59.19499182  61.42100104  63.64763422  65.8748568   68.10263672\n",
      "  70.33094419]\n",
      "[-15.49567858 -13.93795904 -12.3105137  -10.6220597   -8.88017252\n",
      "  -7.09140949  -5.2614347   -3.39513713  -1.49673817   0.43011313\n",
      "   2.38225715   4.35695228   6.35181388   8.36476241  10.39397942\n",
      "  12.43787035  14.49503295  16.56423063  18.64436979  20.73448062\n",
      "  22.83370075  24.9412613   27.05647498  29.17872587  31.30746069\n",
      "  33.44218122  35.58243781  37.72782376  39.8779704   42.03254286\n",
      "  44.19123635  46.35377295  48.51989874  50.6893813   52.86200756\n",
      "  55.03758183  57.2159241   59.39686852  61.58026204  63.76596326\n",
      "  65.95384129]\n",
      "[-17.04105635 -15.20139679 -13.32439906 -11.41463604  -9.47602547\n",
      "  -7.51193088  -5.52524741  -3.5184741   -1.49377469   0.54697148\n",
      "   2.60212684   4.67025992   6.75011537   8.84058883  10.94070578\n",
      "  13.04960369  15.16651688  17.29076376  19.42173587  21.55888866\n",
      "  23.70173343  25.84983062  28.00278383  30.16023483  32.32185912\n",
      "  34.48736214  36.65647596  38.82895637  41.00458039  43.183144\n",
      "  45.36446023  47.54835743  49.73467774  51.92327578  54.11401742\n",
      "  56.30677876  58.50144514  60.69791037  62.89607588  65.09585015\n",
      "  67.29714802]\n"
     ]
    },
    {
     "data": {
      "text/plain": [
       "[<matplotlib.lines.Line2D at 0x1e6086e1248>]"
      ]
     },
     "execution_count": 275,
     "metadata": {},
     "output_type": "execute_result"
    },
    {
     "data": {
      "image/png": "[encoded data removed]",
      "text/plain": [
       "<Figure size 432x288 with 1 Axes>"
      ]
     },
     "metadata": {
      "needs_background": "light"
     },
     "output_type": "display_data"
    }
   ],
   "source": [
    "#x1=33.19\n",
    "#x2=73.8\n",
    "x1=np.linspace(73,75,num=41)\n",
    "y1=np.linspace(33,35,num=41)\n",
    "#print(x1)\n",
    "\n",
    "v=3.5\n",
    "t_error=[]\n",
    "\n",
    "for i, j, k in [[71.91500,33.82850, 57.2], [72.32200,33.16267, 38.28], [72.57900, 33.61317, 37.48], [73.44883, 33.83300, 27.8], [71.52967,33.15267, 58.8],\n",
    "             [73.27017,33.65167, 18.44], [73.14017, 33.75200, 29.97], [72.46550,32.63183, 39.98], [73.22900, 32.99867, 14.77], [72.67167, 31.92100, 48.71], \n",
    "             [71.91817, 32.53983, 54.73],[71.92333,33.04400, 49.67],[71.74417,32.79617, 57.39]]:\n",
    "    u=((np.sqrt((y1-j)**2 + (x1-i)**2)/v)*111 - k)\n",
    "    print(u)\n",
    "    c=np.sum(u)\n",
    "    t_error.append(c)\n",
    "    #print(c)\n",
    "    #c.append(t_error)\n",
    "plt.plot(t_error)"
   ]
  },
  {
   "cell_type": "code",
   "execution_count": 276,
   "metadata": {},
   "outputs": [
    {
     "name": "stdout",
     "output_type": "stream",
     "text": [
      "1000.0\n"
     ]
    }
   ],
   "source": [
    "time=np.linspace(0,1000,100)\n",
    "print(time[-1])"
   ]
  },
  {
   "cell_type": "code",
   "execution_count": null,
   "metadata": {},
   "outputs": [],
   "source": []
  },
  {
   "cell_type": "code",
   "execution_count": 277,
   "metadata": {},
   "outputs": [
    {
     "name": "stdout",
     "output_type": "stream",
     "text": [
      "x=0.050, y=10.000\n",
      "x=0.050, y=5.000\n"
     ]
    },
    {
     "data": {
      "image/png": "[encoded data removed]",
      "text/plain": [
       "<Figure size 432x288 with 1 Axes>"
      ]
     },
     "metadata": {
      "needs_background": "light"
     },
     "output_type": "display_data"
    }
   ],
   "source": [
    "def h(X):\n",
    "        return (10*(np.cos(((120*(np.pi))*x)+((np.pi/6)))))\n",
    "\n",
    "def g(x):\n",
    "        return (5*(np.cos(((120*(np.pi))*x)-((np.pi/6)))))\n",
    "\n",
    "x = np.linspace(0, 0.05, 1000)\n",
    "\n",
    "plt.ylabel(\"Voltaje (V)\")\n",
    "plt.xlabel(\"Tiempo (s)\")\n",
    "plt.grid(True)\n",
    "\n",
    "def annot_max(x,y, ax=None):\n",
    "    xmax = x.max()\n",
    "    ymax = y.max()\n",
    "    text= \"x={:.3f}, y={:.3f}\".format(xmax, ymax)\n",
    "    print(text)\n",
    "    if not ax:\n",
    "        ax=plt.gca()\n",
    "    bbox_props = dict(boxstyle=\"square,pad=0.3\", fc=\"w\", ec=\"k\", lw=0.72)\n",
    "    arrowprops=dict(arrowstyle=\"->\",connectionstyle=\"angle,angleA=0,angleB=60\")\n",
    "    kw = dict(xycoords='data',textcoords=\"data\",\n",
    "              arrowprops=arrowprops, bbox=bbox_props, ha=\"left\", va=\"top\")\n",
    "    ax.annotate(text,xy=(xmax,ymax),**kw)\n",
    "\n",
    "plt.plot(x,h(x), label=\"grafica 1\")  \n",
    "plt.plot(x,g(x), label=\"grafica 2\")\n",
    "plt.legend(loc=0)\n",
    "annot_max(x,h(x))\n",
    "annot_max(x,g(x))\n",
    "plt.show() "
   ]
  },
  {
   "cell_type": "code",
   "execution_count": 278,
   "metadata": {},
   "outputs": [
    {
     "name": "stdout",
     "output_type": "stream",
     "text": [
      "   price category  price_r\n",
      "5     44     tops       44\n",
      "3     15     tops       44\n",
      "2     24   shirts       24\n",
      "0      2   shirts       24\n",
      "1     13    pants       13\n",
      "4     11      hat       11\n"
     ]
    }
   ],
   "source": [
    "df = pd.DataFrame({\n",
    "    'price': [2, 13, 24, 15, 11, 44], \n",
    "    'category': [\"shirts\", \"pants\", \"shirts\", \"tops\", \"hat\", \"tops\"],\n",
    "})\n",
    "grouped=df.groupby('category')\n",
    "\n",
    "shirts=grouped.get_group('shirts')\n",
    "#print(shirts.price.max())\n",
    "df['price_r']=df['category'].apply(lambda row: grouped.get_group(row).price.max())\n",
    "\n",
    "df=df.sort_values(['category','price','price_r'], ascending=False)\n",
    "print(df)\n"
   ]
  },
  {
   "cell_type": "code",
   "execution_count": 279,
   "metadata": {},
   "outputs": [
    {
     "name": "stdout",
     "output_type": "stream",
     "text": [
      "0.5833333333333334\n",
      "3.178289336173405\n"
     ]
    }
   ],
   "source": [
    "print(uniform.cdf(7,0,12))\n",
    "\n",
    "C =uniform.rvs(loc=0,scale=4)\n",
    "print(C)"
   ]
  },
  {
   "cell_type": "code",
   "execution_count": 280,
   "metadata": {},
   "outputs": [
    {
     "name": "stdout",
     "output_type": "stream",
     "text": [
      "Index(['Unnamed: 0', 'Male', 'Age', 'Debt', 'Married', 'BankCustomer',\n",
      "       'EducationLevel', 'Ethnicity', 'YearsEmployed', 'PriorDefault',\n",
      "       'Employed', 'CreditScore', 'DriversLicense', 'Citizen', 'ZipCode',\n",
      "       'Income', 'Approved'],\n",
      "      dtype='object')\n",
      "Model accuracy 83.33333333333334%\n",
      "                                params\n",
      "0                  {'tol': 10, 'C': 4}\n",
      "1                   {'tol': 1, 'C': 4}\n",
      "2                {'tol': 0.2, 'C': 10}\n",
      "3  {'tol': 1, 'C': 2.1555536467206022}\n",
      "4                 {'tol': 0.3, 'C': 3}\n",
      "5                 {'tol': 100, 'C': 3}\n",
      "6                  {'tol': 1, 'C': 10}\n",
      "7                 {'tol': 0.5, 'C': 3}\n",
      "8                 {'tol': 0.3, 'C': 4}\n",
      "9                  {'tol': 5, 'C': 10}\n",
      "   mean_fit_time  std_fit_time  mean_score_time  std_score_time param_tol  \\\n",
      "2       0.585019      0.111771         0.001196        0.000401       0.2   \n",
      "\n",
      "  param_C                 params  split0_test_score  split1_test_score  \\\n",
      "2      10  {'tol': 0.2, 'C': 10}           0.879518            0.86747   \n",
      "\n",
      "   split2_test_score  ...  mean_test_score  std_test_score  rank_test_score  \\\n",
      "2           0.927711  ...         0.871937        0.032161                1   \n",
      "\n",
      "   split0_train_score  split1_train_score  split2_train_score  \\\n",
      "2            0.885196            0.900302            0.879154   \n",
      "\n",
      "   split3_train_score  split4_train_score  mean_train_score  std_train_score  \n",
      "2            0.912387            0.906627          0.896733         0.012631  \n",
      "\n",
      "[1 rows x 22 columns]\n",
      "{'tol': 0.2, 'C': 10}\n",
      "0.8719365265941816\n"
     ]
    }
   ],
   "source": [
    "\n",
    "df=pd.read_csv('CC_data')\n",
    "print(df.columns)\n",
    "df['Approved']=[1 if x==\"+\" else 0 for x in df['Approved']]\n",
    "encoder = LabelEncoder()\n",
    "df['Male']=encoder.fit_transform(df['Male'])\n",
    "df['Married']=encoder.fit_transform(df['Married'])\n",
    "df['Employed']=encoder.fit_transform(df['Employed'])\n",
    "df['PriorDefault']=encoder.fit_transform(df['PriorDefault'])\n",
    "df['Citizen']=encoder.fit_transform(df['Citizen'])\n",
    "df['DriversLicense']=encoder.fit_transform(df['DriversLicense'])\n",
    "df['BankCustomer']=encoder.fit_transform(df['BankCustomer'])\n",
    "df['EducationLevel']=encoder.fit_transform(df['EducationLevel'])\n",
    "df['ZipCode']=pd.to_numeric(df['ZipCode'],errors='coerce').fillna(0)\n",
    "df['Age']=pd.to_numeric(df['Age'],errors='coerce').fillna(0)\n",
    "ohe=pd.get_dummies(df['Ethnicity'],prefix=\"ethnicity_\")\n",
    "df=pd.concat([df,ohe],axis=1)\n",
    "df=df.drop('Ethnicity',axis=1)\n",
    "NUMERIC=[ column for column in df.columns if np.issubdtype(df[column],np.number) ]\n",
    "TEXT=[ column for column in df.columns if np.issubdtype(df[column],np.number)==False ]\n",
    "\n",
    "X=df[[x for x in NUMERIC if x!='Approved']]\n",
    "y=df['Approved']\n",
    "\n",
    "#print(len(NUMERIC))\n",
    "X_train,X_test,y_train,y_test=train_test_split(X,y,test_size=0.4,random_state=42)\n",
    "\n",
    "logreg=LogisticRegression(C=5,max_iter=10000)\n",
    "#https://scikit-learn.org/stable/modules/generated/sklearn.linear_model.LogisticRegression.html\n",
    "parameter_grid={'C':[uniform.rvs(loc=0,scale=4),3,4,10,100],'tol':[0.1,0.2,0.3,0.5,1,5,10,100]}  \n",
    "\n",
    "clf = RandomizedSearchCV(logreg, parameter_grid,\n",
    "                         n_iter = 10,\n",
    "                         scoring='accuracy',\n",
    "                         cv=5,\n",
    "                         refit=True, \n",
    "                         return_train_score = True,\n",
    "                         random_state=0)\n",
    "\n",
    "search = clf.fit(X_train,y_train)\n",
    "predictions=clf.predict(X_test)\n",
    "\n",
    "print(\"Model accuracy {}%\".format(accuracy_score(y_test,predictions)*100))\n",
    "\n",
    "cv_results_df = pd.DataFrame(clf.cv_results_)\n",
    "\n",
    "column = cv_results_df.loc[:, ['params']]\n",
    "print(column)\n",
    "\n",
    "# Extract and print the row that had the best mean test score\n",
    "best_row = cv_results_df[cv_results_df['rank_test_score'] == 1 ]\n",
    "print(best_row)\n",
    "\n",
    "#print(clf.cv_results_)\n",
    "#print(clf.best_index_)\n",
    "print(clf.best_params_)\n",
    "print(clf.best_score_)\n",
    "\n",
    "#print(clf.cv_results_df.loc[:,\"params\"])\n"
   ]
  },
  {
   "cell_type": "code",
   "execution_count": 281,
   "metadata": {},
   "outputs": [
    {
     "data": {
      "image/png": "[encoded data removed]",
      "text/plain": [
       "<Figure size 432x288 with 1 Axes>"
      ]
     },
     "metadata": {
      "needs_background": "light"
     },
     "output_type": "display_data"
    },
    {
     "name": "stdout",
     "output_type": "stream",
     "text": [
      "0.05347327241649602\n"
     ]
    }
   ],
   "source": [
    "min_number=0\n",
    "max_number=1\n",
    "size=1000\n",
    "\n",
    "number_pool= uniform.rvs(min_number,max_number,size=size)\n",
    "#print(number_pool)\n",
    "\n",
    "plt.hist(number_pool)\n",
    "plt.show()\n",
    "\n",
    "def getValue(number_pool):\n",
    "    val=random.choice(number_pool)\n",
    "    if val>.5: \n",
    "        val+=5\n",
    "    return val\n",
    "print(getValue(number_pool))\n",
    "#random_index = random.randrange(len(number_pool))"
   ]
  },
  {
   "cell_type": "code",
   "execution_count": 282,
   "metadata": {},
   "outputs": [
    {
     "name": "stdout",
     "output_type": "stream",
     "text": [
      "[509]\n"
     ]
    },
    {
     "data": {
      "image/png": "[encoded data removed]",
      "text/plain": [
       "<Figure size 432x288 with 1 Axes>"
      ]
     },
     "metadata": {},
     "output_type": "display_data"
    }
   ],
   "source": [
    "flips=binom.rvs(1000,0.5,size=1)\n",
    "print(flips)\n",
    "plt.pie([flips,1000])\n",
    "plt.legend(['heads','tails'])\n",
    "plt.show()"
   ]
  },
  {
   "cell_type": "code",
   "execution_count": 283,
   "metadata": {},
   "outputs": [
    {
     "name": "stdout",
     "output_type": "stream",
     "text": [
      "probability of getting heads for 7 of 10 flips 0.11718750000000014\n"
     ]
    }
   ],
   "source": [
    "heads=binom.pmf(7,10,0.5)\n",
    "print(\"probability of getting heads for 7 of 10 flips\", heads)"
   ]
  },
  {
   "cell_type": "code",
   "execution_count": 284,
   "metadata": {},
   "outputs": [
    {
     "data": {
      "image/png": "[encoded data removed]",
      "text/plain": [
       "<Figure size 432x288 with 1 Axes>"
      ]
     },
     "metadata": {
      "needs_background": "light"
     },
     "output_type": "display_data"
    }
   ],
   "source": [
    "mean=172.7815\n",
    "std=4.1532\n",
    "N = 50\n",
    "\n",
    "results=norm.rvs(mean,std, size=N)\n",
    "#print(results)\n",
    "pct_5 = norm.ppf(.95,mean,std)\n",
    "#print(pct_5)\n",
    "plt.hist(results,bins=10)\n",
    "plt.axvline(pct_5)\n",
    "plt.annotate(pct_5,xy=(pct_5,6))\n",
    "plt.show()\n",
    "\n",
    "\n"
   ]
  },
  {
   "cell_type": "code",
   "execution_count": 285,
   "metadata": {},
   "outputs": [
    {
     "data": {
      "image/png": "[encoded data removed]",
      "text/plain": [
       "<Figure size 720x576 with 2 Axes>"
      ]
     },
     "metadata": {
      "needs_background": "light"
     },
     "output_type": "display_data"
    }
   ],
   "source": [
    "tds = [28.965, 12.172, 17.042, 36.98, 20.323, 3.481, 18.43, 5.638,20.763, 48.104, 8.015, 21.2, 48.122, 32.51, 16.87, \n",
    "        10.402, 7.896, 3.827, 0.078, 18.63, 42.428, 0.975, 11.392, 15.937, 4.531, 44.635, 10.457, 53.821, 43.046, 39.572,\n",
    "        6.31, 52.039, 36.726, 19.67, 43.719, 9.421, 2.798, 20.013, 32.888, 43.622, 13.093, 38.688, 57.199, 13.627, 42.571,\n",
    "        34.076, 18.812, 49.251, 57.412, 35.089, 8.093, 15.141, 58.05, 17.936, 4.673, 5.475, 11.731, 46.649, 12.403, 6.442,\n",
    "        22.542, 44.069, 7.893, 26.484, 4.199, 6.575, 3.209, 32.125, 40.202, 37.918, 27.567, 22.634, 43.355, 44.481, 17.854,\n",
    "        29.538, 2.39, 16.52, 34.321, 8.003, 28.034, 20.963, 16.509, 26.279, 13.541, 22.654, 32.074, 9.474, 1.054, 11.612,\n",
    "        2.108, 19.015, 0.864, 7.577, 9.927, 7.295, 6.689, 13.908, 2.063, 31.57]\n",
    "\n",
    "mean=np.mean(tds)\n",
    "std=np.std(tds)\n",
    "N=10000\n",
    "\n",
    "fig,ax=plt.subplots(figsize=(10,8))\n",
    "results=norm.rvs(mean,std, size=N)\n",
    "ax.hist(results,bins=100)\n",
    "twin_ax=ax.twinx()\n",
    "x = np.linspace(norm(mean, std).ppf(0.01),\n",
    "                norm(mean, std).ppf(0.99), N)\n",
    "twin_ax.plot(x, norm(mean, std).pdf(x),   'r-', lw=5, alpha=0.6, label='norm pdf')\n",
    "plt.legend()\n",
    "plt.show()"
   ]
  },
  {
   "cell_type": "code",
   "execution_count": 370,
   "metadata": {},
   "outputs": [
    {
     "name": "stdout",
     "output_type": "stream",
     "text": [
      "                 date  acct1  acct2  acct3  dow  hour  acct1_mean  acct2_mean  \\\n",
      "0 2019-02-07 01:00:00   15.0   12.0   10.0    3     1        15.0        12.0   \n",
      "1 2019-02-07 02:00:00   10.0   11.0    9.0    3     2        10.0        11.0   \n",
      "2 2019-02-07 03:00:00   10.0   11.0    3.0    3     3        10.0        11.0   \n",
      "3 2019-01-31 22:00:00   11.0    NaN    4.0    3    22        11.0         NaN   \n",
      "4 2019-01-31 02:00:00   10.0   12.0    4.0    3     2        10.0        11.0   \n",
      "5 2019-01-24 02:00:00   10.0   10.0    6.5    3     2        10.0        11.0   \n",
      "\n",
      "   acct3_mean  \n",
      "0        10.0  \n",
      "1         6.5  \n",
      "2         3.0  \n",
      "3         4.0  \n",
      "4         6.5  \n",
      "5         6.5  \n"
     ]
    }
   ],
   "source": [
    "data=[\n",
    "('2019-02-07 01:00:00',  15,    12,    10),\n",
    "('2019-02-07 02:00:00',    np.nan,   11,    9),\n",
    "('2019-02-07 03:00:00',    10,    11,    3),\n",
    "('2019-01-31 22:00:00',   11,    np.nan,   4),\n",
    "('2019-01-31 02:00:00',   np.nan,    12,    4),\n",
    "('2019-01-24 02:00:00',   10,    10,    float('nan'))]\n",
    "\n",
    "df=pd.DataFrame(data,columns=['date','acct1','acct2','acct3'])\n",
    "df['date']=df['date'].apply(lambda row: datetime2.strptime(str(row),\"%Y-%m-%d %H:%M:%S\"))\n",
    "df['dow']=df['date'].apply(lambda row: row.dayofweek)\n",
    "df['hour']=df['date'].apply(lambda row: row.hour)\n",
    "df.set_index('date')\n",
    "\n",
    "grouped_acct1=df.groupby(['dow','hour'])['acct1'].mean()\n",
    "grouped_acct2=df.groupby(['dow','hour'])['acct2'].mean()\n",
    "grouped_acct3=df.groupby(['dow','hour'])['acct3'].mean()\n",
    "\n",
    "for key,item in df.iterrows():\n",
    "    #print(item.dow,item.hour)\n",
    "    df.loc[key,'acct1_mean']=grouped_acct1[(grouped_acct1.index.get_level_values(0)==item.dow) & (grouped_acct1.index.get_level_values(1)==item.hour)].values\n",
    "    df.loc[key,'acct2_mean']=grouped_acct2[(grouped_acct2.index.get_level_values(0)==item.dow) & (grouped_acct2.index.get_level_values(1)==item.hour)].values\n",
    "    df.loc[key,'acct3_mean']=grouped_acct3[(grouped_acct3.index.get_level_values(0)==item.dow) & (grouped_acct3.index.get_level_values(1)==item.hour)].values\n",
    "    #print(key,item)\n",
    "\n",
    "\n",
    "for key,item in df.iterrows():\n",
    "    if math.isnan(item['acct1']):\n",
    "        df.loc[key,'acct1']=item['acct1_mean'] \n",
    "    else: \n",
    "        df.loc[key,'acct1']=item['acct1']   \n",
    "\n",
    "    if math.isnan(item['acct2']):\n",
    "        df.loc[key,'acct2']=item['acct2_mean'] \n",
    "    else: \n",
    "        df.loc[key,'acct2']=item['acct2']   \n",
    "\n",
    "    if math.isnan(item['acct3']):\n",
    "        df.loc[key,'acct3']=item['acct3_mean'] \n",
    "    else: \n",
    "        df.loc[key,'acct3']=item['acct3']   \n",
    "\n",
    "print(df)"
   ]
  },
  {
   "cell_type": "code",
   "execution_count": 383,
   "metadata": {},
   "outputs": [
    {
     "data": {
      "image/png": "[encoded data removed]",
      "text/plain": [
       "<Figure size 432x288 with 1 Axes>"
      ]
     },
     "metadata": {
      "needs_background": "light"
     },
     "output_type": "display_data"
    },
    {
     "name": "stdout",
     "output_type": "stream",
     "text": [
      "correlation  0.9998202098949396\n"
     ]
    }
   ],
   "source": [
    "Light_Sensor_Reading=[231,231,231,231,231,231,231,231,231,232,950,988,987,986,986,986,986,986,986,986,986,986,986,985,985]\n",
    "Light_Sensor_Status=['Dim','Dim','Dim','Dim','Dim','Dim','Dim','Dim','Dim','Dim','Very_bright','Very_bright','Very_bright',\\\n",
    "'Very_bright','Very_bright','Very_bright','Very_bright','Very_bright','Very_bright','Very_bright','Very_bright',\\\n",
    "'Very_bright','Very_bright','Very_bright','Very_bright']\n",
    "df=pd.DataFrame({'light_sensor_reading':Light_Sensor_Reading,'light_sensor_status':Light_Sensor_Status})\n",
    "#print(df)\n",
    "x=range(len(df))\n",
    "sns.scatterplot(x=x, y='light_sensor_reading',data=df,hue='light_sensor_status')\n",
    "plt.show()\n",
    "encoder=LabelEncoder()\n",
    "encoder.fit(df['light_sensor_status'])\n",
    "df['light_sensor_status_enc']=encoder.transform(df['light_sensor_status'])\n",
    "corr=df['light_sensor_reading'].corr(df['light_sensor_status_enc'])\n",
    "\n",
    "print(\"correlation \",corr)"
   ]
  },
  {
   "cell_type": "code",
   "execution_count": 399,
   "metadata": {},
   "outputs": [
    {
     "name": "stdout",
     "output_type": "stream",
     "text": [
      "2021-04-14 14:02:54.858872\n",
      "         Date        High         Low        Open       Close      Volume  \\\n",
      "0  2021-01-04  223.000000  214.809998  222.529999  217.690002  37130100.0   \n",
      "1  2021-01-05  218.520004  215.699997  217.259995  217.899994  23823000.0   \n",
      "2  2021-01-06  216.490005  211.940002  212.169998  212.250000  35930700.0   \n",
      "3  2021-01-07  219.339996  213.710007  214.039993  218.289993  27694500.0   \n",
      "4  2021-01-08  220.580002  217.029999  218.679993  219.619995  22956200.0   \n",
      "..        ...         ...         ...         ...         ...         ...   \n",
      "65 2021-04-08  254.139999  252.000000  252.770004  253.250000  23625200.0   \n",
      "66 2021-04-09  255.990005  252.440002  252.869995  255.850006  24315700.0   \n",
      "67 2021-04-12  257.670013  254.619995  254.710007  255.910004  27148700.0   \n",
      "68 2021-04-13  259.190002  256.829987  257.260010  258.489990  23820600.0   \n",
      "69 2021-04-14  258.829987  255.160004  257.475006  255.589996  21771277.0   \n",
      "\n",
      "     Adj Close  \n",
      "0   217.189774  \n",
      "1   217.399292  \n",
      "2   211.762268  \n",
      "3   217.788391  \n",
      "4   219.115341  \n",
      "..         ...  \n",
      "65  253.250000  \n",
      "66  255.850006  \n",
      "67  255.910004  \n",
      "68  258.489990  \n",
      "69  255.589996  \n",
      "\n",
      "[70 rows x 7 columns]\n"
     ]
    }
   ],
   "source": [
    "current_date=datetime.datetime.now()\n",
    "print(current_date)\n",
    "start_date=datetime.datetime(current_date.year,1,1)\n",
    "a1 = pdr.get_data_yahoo(\"NIO\",start_date,current_date).reset_index()\n",
    "print(a1)"
   ]
  },
  {
   "cell_type": "code",
   "execution_count": null,
   "metadata": {},
   "outputs": [],
   "source": []
  }
 ],
 "metadata": {
  "kernelspec": {
   "display_name": "Python 3",
   "language": "python",
   "name": "python3"
  },
  "language_info": {
   "codemirror_mode": {
    "name": "ipython",
    "version": 3
   },
   "file_extension": ".py",
   "mimetype": "text/x-python",
   "name": "python",
   "nbconvert_exporter": "python",
   "pygments_lexer": "ipython3",
   "version": "3.7.9"
  }
 },
 "nbformat": 4,
 "nbformat_minor": 4
}
