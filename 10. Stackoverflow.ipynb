{
 "cells": [
  {
   "cell_type": "code",
   "execution_count": 61,
   "id": "263da272",
   "metadata": {},
   "outputs": [],
   "source": [
    "import re\n",
    "import pandas as pd\n",
    "from collections import defaultdict"
   ]
  },
  {
   "cell_type": "code",
   "execution_count": 2,
   "id": "6ac7bddd",
   "metadata": {},
   "outputs": [
    {
     "name": "stdout",
     "output_type": "stream",
     "text": [
      "<option value=''>Choose an Option...</option>\n",
      "<option value='340' class='white'>White </option>\n",
      "<option value='341' class='white'>White </option>\n",
      "<option value='342' class='pms801'>Blue PMS 801 </option>\n",
      "<option value='343' class='pms801'>Blue PMS 801 </option>\n"
     ]
    }
   ],
   "source": [
    "data=\"\"\"<select id=\"attribute969\">     \n",
    "<option value=\"\">Choose an Option...</option>\n",
    "<option value=\"340\">White [[white]]</option>\n",
    "<option value=\"341\">White [[white]]</option>\n",
    "<option value=\"342\">Blue PMS 801 [[pms801]]</option>\n",
    "<option value=\"343\">Blue PMS 801 [[pms801]]</option>\n",
    "</select>\"\"\"\n",
    "\n",
    "#?<=\n",
    "options = re.findall(r'<option value=\"(\\w*)\">(.*?(\\[\\[.*?\\]\\])*)</option>',data)\n",
    "                     \n",
    "for option in options:\n",
    "    opt_value=option[0]\n",
    "    opt_content=re.sub(r'(\\[\\[.*?\\]\\])*','',option[1])\n",
    "    opt_class=option[2].replace('[','').replace(']','')\n",
    "    if len(opt_class)>0:                                                    \n",
    "        print(\"<option value='{opt_value}' class='{opt_class}'>{opt_content}</option>\".format(opt_value=opt_value,\\\n",
    "                                                            opt_class=opt_class,opt_content=opt_content))\n",
    "    else:\n",
    "        print(\"<option value='{opt_value}'>{opt_content}</option>\".format(opt_value=opt_value,\\\n",
    "                                                            opt_content=opt_content))\n"
   ]
  },
  {
   "cell_type": "code",
   "execution_count": 122,
   "id": "49c06201",
   "metadata": {},
   "outputs": [
    {
     "name": "stdout",
     "output_type": "stream",
     "text": [
      "  amenity     sport leisure building entrance\n",
      "0       1      None   multi      yes     None\n",
      "1       2    hockey    some     None      yes\n",
      "2       3  football   field     None     None\n",
      "3       4      None    wake     None     None\n",
      "  amenity     sport leisure building entrance  \\\n",
      "0       1      None   multi      yes     None   \n",
      "1       2    hockey    some     None      yes   \n",
      "2       3  football   field     None     None   \n",
      "3       4      None    wake     None     None   \n",
      "\n",
      "                                                tags  \n",
      "0            {'leisure': 'multi', 'building': 'yes'}  \n",
      "1  {'sport': 'hockey', 'leisure': 'some', 'entran...  \n",
      "2          {'sport': 'football', 'leisure': 'field'}  \n",
      "3                                {'leisure': 'wake'}  \n"
     ]
    }
   ],
   "source": [
    "df = pd.DataFrame({\"amenity\": [\"1\",\"2\",\"3\",\"4\"], \"tags\": [{\"building\":\"yes\"},{\"entrance\": \"yes\"},{},{}], \"sport\": [None, \"hockey\", \"football\", None], \"leisure\":[\"multi\", \"some\", \"field\", \"wake\"]})\n",
    "\n",
    "def EmptyList(x):\n",
    "    if len(x)>0:\n",
    "        return x[0]\n",
    "    else:\n",
    "        return None\n",
    "    \n",
    "df['building']=df['tags'].apply(lambda x: [v for k,v in x.items() if k=='building']).apply(EmptyList)\n",
    "df['entrance']=df['tags'].apply(lambda x: [v for k,v in x.items() if k=='entrance']).apply(EmptyList)\n",
    "df.drop(['tags'],inplace=True,axis=1)\n",
    "print(df)\n",
    "\n",
    "tags_dict={}\n",
    "columns=[column for column in df.columns if column!='amenity']\n",
    "for key,value in df.iterrows():\n",
    "    for column in columns:\n",
    "        if value[column]!=None:\n",
    "            #print(value[column])\n",
    "            tags_dict[column]=value[column]\n",
    "    #print(tags_dict)\n",
    "    df.loc[key,'tags']=str(tags_dict)\n",
    "    tags_dict.clear()\n",
    "    \n",
    "print(df)\n"
   ]
  },
  {
   "cell_type": "code",
   "execution_count": 116,
   "id": "91ec409c",
   "metadata": {},
   "outputs": [
    {
     "name": "stdout",
     "output_type": "stream",
     "text": [
      "['its', \"3o'clock\", 'in', 'the', 'morning']\n"
     ]
    },
    {
     "data": {
      "text/plain": [
       "0"
      ]
     },
     "execution_count": 116,
     "metadata": {},
     "output_type": "execute_result"
    }
   ],
   "source": [
    "def count_occurrences(search_word,text):\n",
    "    alist=re.split(r'\\s+',text)\n",
    "    matches=[word for word in alist if word==search_word]\n",
    "    return len(matches)\n",
    "\n",
    "count_occurrences(\"clock\", \"its 3o'clock in the morning\")"
   ]
  },
  {
   "cell_type": "code",
   "execution_count": 120,
   "id": "56181d42",
   "metadata": {},
   "outputs": [
    {
     "name": "stdout",
     "output_type": "stream",
     "text": [
      "[('a', 9), ('b', 2), ('c', 3), ('d', 4), ('e', 5)]\n",
      "[('b', 2), ('c', 3), ('d', 4), ('e', 5), ('a', 9)]\n"
     ]
    }
   ],
   "source": [
    "def convert_to_list(dictionary):\n",
    "    list_of_tuples = []\n",
    "    for key, value in dictionary.items():\n",
    "        list_of_tuples.append((key, value))\n",
    "    return list_of_tuples\n",
    "\n",
    "def sort_list(list_of_tuples, field):\n",
    "    return sorted(list_of_tuples, key=lambda x: x[field])\n",
    "\n",
    "def main():\n",
    "    dictionary = {'a': 9, 'b': 2, 'c': 3, 'd': 4, 'e': 5}\n",
    "    list_of_tuples = convert_to_list(dictionary)\n",
    "    print(list_of_tuples)\n",
    "    print(sort_list(list_of_tuples, 1))\n",
    "    \n",
    "main()"
   ]
  },
  {
   "cell_type": "code",
   "execution_count": null,
   "id": "a3ab14eb",
   "metadata": {},
   "outputs": [],
   "source": []
  }
 ],
 "metadata": {
  "kernelspec": {
   "display_name": "Python 3",
   "language": "python",
   "name": "python3"
  },
  "language_info": {
   "codemirror_mode": {
    "name": "ipython",
    "version": 3
   },
   "file_extension": ".py",
   "mimetype": "text/x-python",
   "name": "python",
   "nbconvert_exporter": "python",
   "pygments_lexer": "ipython3",
   "version": "3.8.11"
  }
 },
 "nbformat": 4,
 "nbformat_minor": 5
}
