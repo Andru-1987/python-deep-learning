{
 "cells": [
  {
   "cell_type": "code",
   "execution_count": 98,
   "metadata": {},
   "outputs": [],
   "source": [
    "import pandas as pd\n",
    "from sklearn.model_selection import train_test_split\n",
    "from sklearn.ensemble import RandomForestClassifier\n",
    "from sklearn.tree import DecisionTreeClassifier\n",
    "\n",
    "from sklearn.metrics import confusion_matrix\n",
    "from sklearn.pipeline import Pipeline\n",
    "from sklearn.preprocessing import StandardScaler\n",
    "from sklearn import preprocessing\n",
    "import numpy as np\n",
    "import matplotlib.pyplot as plt\n",
    "import seaborn as sns\n",
    "from sklearn import tree\n",
    "from sklearn.tree import DecisionTreeClassifier\n",
    "import graphviz\n",
    "from sklearn.model_selection import RandomizedSearchCV\n",
    "from sklearn.metrics import accuracy_score\n",
    "from sklearn.decomposition import PCA"
   ]
  },
  {
   "cell_type": "code",
   "execution_count": 99,
   "metadata": {},
   "outputs": [
    {
     "name": "stdout",
     "output_type": "stream",
     "text": [
      "    overcast  rainy  sunny  temp_enc  windy_enc  humidity_enc\n",
      "0          0      0      1         1          0             0\n",
      "1          0      0      1         1          1             0\n",
      "2          1      0      0         1          0             0\n",
      "3          0      1      0         2          0             0\n",
      "4          0      1      0         0          0             1\n",
      "5          0      1      0         0          1             1\n",
      "6          1      0      0         0          1             1\n",
      "7          0      0      1         2          0             0\n",
      "8          0      0      1         0          0             1\n",
      "9          0      1      0         2          0             1\n",
      "10         0      0      1         2          1             1\n",
      "11         1      0      0         2          1             0\n",
      "12         1      0      0         1          0             1\n",
      "13         0      1      0         2          1             0\n"
     ]
    }
   ],
   "source": [
    "df=pd.read_csv('https://raw.githubusercontent.com/sjwhitworth/golearn/master/examples/datasets/tennis.csv')\n",
    "#print(df.head())\n",
    "df.reset_index()\n",
    "encoder = preprocessing.LabelEncoder()\n",
    "#df['outlook']=encoder.fit_transform(df['outlook'])\n",
    "X=pd.get_dummies(df['outlook'])\n",
    "df['temp_enc']=encoder.fit_transform(df['temp'])\n",
    "df['target']=encoder.fit_transform(df['play'])\n",
    "df['windy_enc']=encoder.fit_transform(df['windy'])\n",
    "df['humidity_enc']=encoder.fit_transform(df['humidity'])\n",
    "X=pd.concat([X,df['temp_enc']],axis=1)\n",
    "X=pd.concat([X,df['windy_enc']],axis=1)\n",
    "X=pd.concat([X,df['humidity_enc']],axis=1)\n",
    "print(X)\n",
    "y=np.array(df['target'])\n",
    "\n",
    "#print(df)\n",
    "X_train,X_test,y_train, y_test=train_test_split(X,y,test_size=0.2,random_state=42)"
   ]
  },
  {
   "cell_type": "code",
   "execution_count": 100,
   "metadata": {},
   "outputs": [
    {
     "data": {
      "text/plain": [
       "Text(0.5, 257.44, 'Predicted label')"
      ]
     },
     "execution_count": 100,
     "metadata": {},
     "output_type": "execute_result"
    },
    {
     "data": {
      "image/png": "[encoded data removed]",
      "text/plain": [
       "<Figure size 432x288 with 2 Axes>"
      ]
     },
     "metadata": {
      "needs_background": "light"
     },
     "output_type": "display_data"
    }
   ],
   "source": [
    "#https://www.analyticsvidhya.com/blog/2015/06/tuning-random-forest-model/\n",
    "pipeline= Pipeline([\n",
    "   ('scaler',StandardScaler()),\n",
    "    ('pca', PCA()),\n",
    "   ('clf',RandomForestClassifier(max_depth=1,min_samples_leaf=3, max_features=6, random_state=42))\n",
    "])\n",
    "pipeline.fit(X_train,y_train)\n",
    "\n",
    "#Predicting y for X_val\n",
    "y_pred = pipeline.predict(X)\n",
    "cm = confusion_matrix(y,y_pred)\n",
    "\n",
    "class_names=[1,2]\n",
    "fig, ax = plt.subplots()\n",
    "tick_marks = np.arange(len(class_names))\n",
    "plt.xticks(tick_marks, class_names)\n",
    "plt.yticks(tick_marks, class_names)\n",
    "sns.heatmap(pd.DataFrame(cm), annot=True, cmap=\"coolwarm\" ,fmt='g')\n",
    "ax.xaxis.set_label_position(\"top\")\n",
    "plt.tight_layout()\n",
    "plt.title('Confusion matrix', y=1.1)\n",
    "plt.ylabel('Actual label')\n",
    "plt.xlabel('Predicted label')\n"
   ]
  },
  {
   "cell_type": "code",
   "execution_count": 93,
   "metadata": {},
   "outputs": [
    {
     "data": {
      "text/plain": [
       "[<matplotlib.lines.Line2D at 0x20ef20d4c48>]"
      ]
     },
     "execution_count": 93,
     "metadata": {},
     "output_type": "execute_result"
    },
    {
     "data": {
      "image/png": "[encoded data removed]",
      "text/plain": [
       "<Figure size 432x288 with 1 Axes>"
      ]
     },
     "metadata": {
      "needs_background": "light"
     },
     "output_type": "display_data"
    }
   ],
   "source": [
    "plt.plot(y_pred)"
   ]
  },
  {
   "cell_type": "code",
   "execution_count": 94,
   "metadata": {},
   "outputs": [
    {
     "data": {
      "image/svg+xml": [
       "<?xml version=\"1.0\" encoding=\"UTF-8\" standalone=\"no\"?>\r\n",
       "<!DOCTYPE svg PUBLIC \"-//W3C//DTD SVG 1.1//EN\"\r\n",
       " \"http://www.w3.org/Graphics/SVG/1.1/DTD/svg11.dtd\">\r\n",
       "<!-- Generated by graphviz version 2.38.0 (20140413.2041)\r\n",
       " -->\r\n",
       "<!-- Title: Tree Pages: 1 -->\r\n",
       "<svg width=\"226pt\" height=\"195pt\"\r\n",
       " viewBox=\"0.00 0.00 225.50 195.00\" xmlns=\"http://www.w3.org/2000/svg\" xmlns:xlink=\"http://www.w3.org/1999/xlink\">\r\n",
       "<g id=\"graph0\" class=\"graph\" transform=\"scale(1 1) rotate(0) translate(4 191)\">\r\n",
       "<title>Tree</title>\r\n",
       "<polygon fill=\"white\" stroke=\"none\" points=\"-4,4 -4,-191 221.5,-191 221.5,4 -4,4\"/>\r\n",
       "<!-- 0 -->\r\n",
       "<g id=\"node1\" class=\"node\"><title>0</title>\r\n",
       "<polygon fill=\"#aad5f4\" stroke=\"black\" points=\"165.5,-187 60.5,-187 60.5,-104 165.5,-104 165.5,-187\"/>\r\n",
       "<text text-anchor=\"middle\" x=\"113\" y=\"-171.8\" font-family=\"Times New Roman,serif\" font-size=\"14.00\">overcast &lt;= 0.5</text>\r\n",
       "<text text-anchor=\"middle\" x=\"113\" y=\"-156.8\" font-family=\"Times New Roman,serif\" font-size=\"14.00\">gini = 0.5</text>\r\n",
       "<text text-anchor=\"middle\" x=\"113\" y=\"-141.8\" font-family=\"Times New Roman,serif\" font-size=\"14.00\">samples = 11</text>\r\n",
       "<text text-anchor=\"middle\" x=\"113\" y=\"-126.8\" font-family=\"Times New Roman,serif\" font-size=\"14.00\">value = [4, 7]</text>\r\n",
       "<text text-anchor=\"middle\" x=\"113\" y=\"-111.8\" font-family=\"Times New Roman,serif\" font-size=\"14.00\">class = play</text>\r\n",
       "</g>\r\n",
       "<!-- 1 -->\r\n",
       "<g id=\"node2\" class=\"node\"><title>1</title>\r\n",
       "<polygon fill=\"#ffffff\" stroke=\"black\" points=\"108,-68 0,-68 0,-0 108,-0 108,-68\"/>\r\n",
       "<text text-anchor=\"middle\" x=\"54\" y=\"-52.8\" font-family=\"Times New Roman,serif\" font-size=\"14.00\">gini = 0.5</text>\r\n",
       "<text text-anchor=\"middle\" x=\"54\" y=\"-37.8\" font-family=\"Times New Roman,serif\" font-size=\"14.00\">samples = 8</text>\r\n",
       "<text text-anchor=\"middle\" x=\"54\" y=\"-22.8\" font-family=\"Times New Roman,serif\" font-size=\"14.00\">value = [4, 4]</text>\r\n",
       "<text text-anchor=\"middle\" x=\"54\" y=\"-7.8\" font-family=\"Times New Roman,serif\" font-size=\"14.00\">class = Not play</text>\r\n",
       "</g>\r\n",
       "<!-- 0&#45;&gt;1 -->\r\n",
       "<g id=\"edge1\" class=\"edge\"><title>0&#45;&gt;1</title>\r\n",
       "<path fill=\"none\" stroke=\"black\" d=\"M91.0306,-103.726C86.3619,-95.0615 81.4235,-85.8962 76.7272,-77.1802\"/>\r\n",
       "<polygon fill=\"black\" stroke=\"black\" points=\"79.7669,-75.4428 71.9422,-68.2996 73.6045,-78.7632 79.7669,-75.4428\"/>\r\n",
       "<text text-anchor=\"middle\" x=\"64.7651\" y=\"-88.5472\" font-family=\"Times New Roman,serif\" font-size=\"14.00\">True</text>\r\n",
       "</g>\r\n",
       "<!-- 2 -->\r\n",
       "<g id=\"node3\" class=\"node\"><title>2</title>\r\n",
       "<polygon fill=\"#399de5\" stroke=\"black\" points=\"217.5,-68 126.5,-68 126.5,-0 217.5,-0 217.5,-68\"/>\r\n",
       "<text text-anchor=\"middle\" x=\"172\" y=\"-52.8\" font-family=\"Times New Roman,serif\" font-size=\"14.00\">gini = 0.0</text>\r\n",
       "<text text-anchor=\"middle\" x=\"172\" y=\"-37.8\" font-family=\"Times New Roman,serif\" font-size=\"14.00\">samples = 3</text>\r\n",
       "<text text-anchor=\"middle\" x=\"172\" y=\"-22.8\" font-family=\"Times New Roman,serif\" font-size=\"14.00\">value = [0, 3]</text>\r\n",
       "<text text-anchor=\"middle\" x=\"172\" y=\"-7.8\" font-family=\"Times New Roman,serif\" font-size=\"14.00\">class = play</text>\r\n",
       "</g>\r\n",
       "<!-- 0&#45;&gt;2 -->\r\n",
       "<g id=\"edge2\" class=\"edge\"><title>0&#45;&gt;2</title>\r\n",
       "<path fill=\"none\" stroke=\"black\" d=\"M134.969,-103.726C139.638,-95.0615 144.576,-85.8962 149.273,-77.1802\"/>\r\n",
       "<polygon fill=\"black\" stroke=\"black\" points=\"152.396,-78.7632 154.058,-68.2996 146.233,-75.4428 152.396,-78.7632\"/>\r\n",
       "<text text-anchor=\"middle\" x=\"161.235\" y=\"-88.5472\" font-family=\"Times New Roman,serif\" font-size=\"14.00\">False</text>\r\n",
       "</g>\r\n",
       "</g>\r\n",
       "</svg>\r\n"
      ],
      "text/plain": [
       "<graphviz.files.Source at 0x20ef1e34e88>"
      ]
     },
     "metadata": {},
     "output_type": "display_data"
    }
   ],
   "source": [
    "dt= DecisionTreeClassifier(max_depth=1,min_samples_leaf=3, max_features=6, random_state=42)\n",
    "dt.fit(X_train, y_train)\n",
    "\n",
    "\n",
    "chosen_tree=pipeline['clf'].estimators_[7]\n",
    "\n",
    "cols=X_train.columns\n",
    "\n",
    "exported=tree.export_graphviz(\n",
    "    decision_tree=dt,\n",
    "    out_file=None,\n",
    "    feature_names=cols,\n",
    "    precision=1,\n",
    "    class_names=['Not play','play'],\n",
    "    filled=True)\n",
    "\n",
    "graph=graphviz.Source(exported)\n",
    "display(graph)"
   ]
  },
  {
   "cell_type": "code",
   "execution_count": 96,
   "metadata": {},
   "outputs": [
    {
     "name": "stdout",
     "output_type": "stream",
     "text": [
      "Look for the best parameters in the random forest classifier\n",
      "Accuracy Score 0.8571428571428571\n",
      "Best params {'min_samples_leaf': 2, 'max_features': 4, 'max_depth': 4}\n",
      "Best score 0.625\n"
     ]
    }
   ],
   "source": [
    "print (\"Look for the best parameters in the random forest classifier\")\n",
    "\n",
    "parameter_grid={'max_depth':[2,4,6,8,10],'min_samples_leaf':[1,2,4],'max_features':[1,2,3,4,5,6,7,8]}\n",
    "\n",
    "\n",
    "number_models=4\n",
    "random_RandomForest_class=RandomizedSearchCV(\n",
    "    estimator=pipeline['clf'],\n",
    "    param_distributions=parameter_grid,\n",
    "    n_iter=number_models,\n",
    "    scoring='accuracy',\n",
    "    n_jobs=2,\n",
    "    cv=4,\n",
    "    refit=True,\n",
    "    return_train_score=True)\n",
    "\n",
    "random_RandomForest_class.fit(X_train,y_train)\n",
    "predictions=random_RandomForest_class.predict(X)\n",
    "\n",
    "print(\"Accuracy Score\",accuracy_score(y,predictions));\n",
    "print(\"Best params\",random_RandomForest_class.best_params_)\n",
    "print(\"Best score\",random_RandomForest_class.best_score_)"
   ]
  },
  {
   "cell_type": "code",
   "execution_count": 101,
   "metadata": {},
   "outputs": [
    {
     "data": {
      "image/png": "[encoded data removed]",
      "text/plain": [
       "<Figure size 1152x576 with 1 Axes>"
      ]
     },
     "metadata": {
      "needs_background": "light"
     },
     "output_type": "display_data"
    },
    {
     "data": {
      "image/png": "[encoded data removed]",
      "text/plain": [
       "<Figure size 1152x576 with 1 Axes>"
      ]
     },
     "metadata": {
      "needs_background": "light"
     },
     "output_type": "display_data"
    }
   ],
   "source": [
    "pca=pipeline['pca']\n",
    "pca_features=pca.components_\n",
    "xs = pca_features[:,0]\n",
    "\n",
    "fig,ax = plt.subplots(figsize=(16,8))\n",
    "# Assign 1st column of pca_features: ys\n",
    "ys = pca_features[:,1]\n",
    "# Scatter plot xs vs ys\n",
    "sns.scatterplot(x=xs, y=ys)\n",
    "\n",
    "mean = pca.mean_\n",
    "first_pc = pca.components_[0,:]\n",
    "# Plot first_pc as an arrow, starting at mean\n",
    "plt.arrow(mean[0],mean[1], first_pc[0], first_pc[1], color='red', width=0.01)\n",
    "\n",
    "plt.axis('equal')\n",
    "plt.show()\n",
    "\n",
    "fig,ax = plt.subplots(figsize=(16,8))\n",
    "features = range(pca.n_components_)\n",
    "ax.bar(features, pca.explained_variance_)\n",
    "plt.xticks(features)\n",
    "plt.ylabel('variance')\n",
    "plt.xlabel('pca features')\n",
    "plt.show()"
   ]
  },
  {
   "cell_type": "code",
   "execution_count": null,
   "metadata": {},
   "outputs": [],
   "source": []
  }
 ],
 "metadata": {
  "kernelspec": {
   "display_name": "Python 3",
   "language": "python",
   "name": "python3"
  },
  "language_info": {
   "codemirror_mode": {
    "name": "ipython",
    "version": 3
   },
   "file_extension": ".py",
   "mimetype": "text/x-python",
   "name": "python",
   "nbconvert_exporter": "python",
   "pygments_lexer": "ipython3",
   "version": "3.7.9"
  }
 },
 "nbformat": 4,
 "nbformat_minor": 4
}
