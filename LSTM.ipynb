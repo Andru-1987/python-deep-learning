{
 "cells": [
  {
   "cell_type": "code",
   "execution_count": 1,
   "metadata": {},
   "outputs": [
    {
     "name": "stderr",
     "output_type": "stream",
     "text": [
      "Using TensorFlow backend.\n"
     ]
    }
   ],
   "source": [
    "from keras.models import Sequential\n",
    "from keras.layers import LSTM, Dense\n",
    "import numpy as np\n",
    "import pandas as pd\n",
    "import seaborn as sns\n",
    "import matplotlib.pyplot as plt\n",
    "import numpy as np\n",
    "from keras.utils import plot_model\n",
    "from sklearn.model_selection import train_test_split\n",
    "from sklearn.preprocessing import MinMaxScaler\n",
    "from keras.layers.merge import Concatenate\n",
    "import matplotlib.gridspec as gridspec"
   ]
  },
  {
   "cell_type": "code",
   "execution_count": 12,
   "metadata": {},
   "outputs": [
    {
     "name": "stdout",
     "output_type": "stream",
     "text": [
      "0    56772\n",
      "1      102\n",
      "Name: fraud, dtype: int64\n"
     ]
    }
   ],
   "source": [
    "#https://machinelearningmastery.com/reshape-input-data-long-short-term-memory-networks-keras/\n",
    "\n",
    "url = \"https://raw.githubusercontent.com/dnishimoto/python-deep-learning/master/creditcard.csv\"\n",
    "\n",
    "creditcard = pd.read_csv(url)\n",
    "\n",
    "creditcard.columns = [x.lower() for x in creditcard.columns]\n",
    "creditcard.rename(columns = {'class': 'fraud'}, inplace = True)\n",
    "print(creditcard.fraud.value_counts(dropna = False))\n",
    "\n",
    "X = creditcard.drop(\"fraud\", axis = 1)\n",
    "y = creditcard[\"fraud\"]\n",
    "\n",
    "X_train, X_test, y_train, y_test = train_test_split(X, y, test_size = .33, stratify = y, random_state = 42)\n",
    "timeSteps=20\n",
    "X_train = np.resize(X_train,(X_train.shape[0],timeSteps,X_train.shape[1]))\n",
    "\n",
    "\n",
    "samples=X_train.shape[0]\n",
    "\n",
    "features=len(X.columns)\n",
    "\n",
    "#X_train=np.array(X_train).reshape(1,timeSteps,1)\n",
    "#y_train=np.array(y_train).reshape(1,timeSteps,1)\n"
   ]
  },
  {
   "cell_type": "code",
   "execution_count": 19,
   "metadata": {},
   "outputs": [
    {
     "data": {
      "image/png": "[encoded data removed]",
      "text/plain": [
       "<Figure size 432x288 with 1 Axes>"
      ]
     },
     "metadata": {
      "needs_background": "light"
     },
     "output_type": "display_data"
    }
   ],
   "source": [
    "#1. The LSTM input layer must be 3D.\n",
    "#2. The meaning of the 3 input dimensions are: samples, time steps, and features.\n",
    "#3. The LSTM input layer is defined by the input_shape argument on the first hidden layer.\n",
    "#4. The input_shape argument takes a tuple of two values that define the number of time steps and features.\n",
    "#5. The number of samples is assumed to be 1 or more.\n",
    "\n",
    "#Samples. One sequence is one sample. A batch is comprised of one or more samples.\n",
    "#Time Steps. One time step is one point of observation in the sample.\n",
    "#Features. One feature is one observation at a time step.\n",
    "\n",
    "\n",
    "\n",
    "#input layer expects a 3D array of data when fitting the model and when making predictions, \n",
    "#even if specific dimensions of the array contain a single value, e.g. one sample or one feature.\n",
    "\n",
    "#The input shape is supposed in the format (no_of_samples,no_of_timesteps,features)\n",
    "\n",
    "#The input to every LSTM layer must be three-dimensional.\n",
    "# expected input data shape: (batch_size, timesteps, data_dim)\n",
    "model = Sequential()\n",
    "model.add(LSTM(100, activation='sigmoid', return_sequences=True,\n",
    "               input_shape=(timeSteps, features)))  # returns a sequence of vectors of dimension \n",
    "\n",
    "model.add(LSTM(features, activation='sigmoid', return_sequences=True))  # returns a sequence of vectors of dimension \n",
    "model.add(LSTM(20, activation='sigmoid'))  # return a single vector of dimension \n",
    "model.add(Dense(1, activation='sigmoid'))\n",
    "model.compile(optimizer=\"rmsprop\", loss='binary_crossentropy', metrics=['accuracy'])\n",
    "\n",
    "#model.compile(loss='categorical_crossentropy',\n",
    "#validation_data              optimizer='rmsprop',\n",
    "#metrics=['accuracy'])\n",
    "\n",
    "\n",
    "\n",
    "\n",
    "\n",
    "plot_model(model, to_file='model.png')\n",
    "img=plt.imread('model.png')\n",
    "plt.imshow(img)\n",
    "plt.show()\n",
    "\n"
   ]
  },
  {
   "cell_type": "code",
   "execution_count": 20,
   "metadata": {},
   "outputs": [
    {
     "name": "stdout",
     "output_type": "stream",
     "text": [
      "Epoch 1/5\n",
      "38105/38105 [==============================] - 19s 496us/step - loss: 0.0513 - accuracy: 0.9932\n",
      "Epoch 2/5\n",
      "38105/38105 [==============================] - 19s 506us/step - loss: 0.0132 - accuracy: 0.9982\n",
      "Epoch 3/5\n",
      "38105/38105 [==============================] - 19s 492us/step - loss: 0.0132 - accuracy: 0.9982\n",
      "Epoch 4/5\n",
      "38105/38105 [==============================] - 21s 546us/step - loss: 0.0134 - accuracy: 0.9982\n",
      "Epoch 5/5\n",
      "38105/38105 [==============================] - 21s 553us/step - loss: 0.0132 - accuracy: 0.9982\n"
     ]
    },
    {
     "data": {
      "text/plain": [
       "<keras.callbacks.callbacks.History at 0x20495798208>"
      ]
     },
     "execution_count": 20,
     "metadata": {},
     "output_type": "execute_result"
    }
   ],
   "source": [
    "# Generate dummy training data\n",
    "#x_train = np.random.random((1000, timesteps, data_dim))\n",
    "#y_train = np.random.random((1000, num_classes))\n",
    "\n",
    "# Generate dummy validation data\n",
    "#x_val = np.random.random((100, timesteps, data_dim))\n",
    "#y_val = np.random.random((100, num_classes))\n",
    "\n",
    "model.fit(X_train, y_train,\n",
    "          batch_size=64, \n",
    "          epochs=5,\n",
    "          #validation_data=(x_val, y_val)\n",
    "         )"
   ]
  },
  {
   "cell_type": "code",
   "execution_count": 22,
   "metadata": {},
   "outputs": [
    {
     "name": "stderr",
     "output_type": "stream",
     "text": [
      "C:\\Users\\dnishimoto.BOISE\\AppData\\Local\\Continuum\\anaconda3\\envs\\deeplearning\\lib\\site-packages\\sklearn\\preprocessing\\data.py:323: DataConversionWarning: Data with input dtype int64, float64 were all converted to float64 by MinMaxScaler.\n",
      "  return self.partial_fit(X, y)\n"
     ]
    },
    {
     "name": "stdout",
     "output_type": "stream",
     "text": [
      "0\n",
      "56874\n"
     ]
    },
    {
     "data": {
      "text/plain": [
       "<function matplotlib.pyplot.show(*args, **kw)>"
      ]
     },
     "execution_count": 22,
     "metadata": {},
     "output_type": "execute_result"
    },
    {
     "data": {
      "image/png": "[encoded data removed]",
      "text/plain": [
       "<Figure size 432x288 with 1 Axes>"
      ]
     },
     "metadata": {
      "needs_background": "light"
     },
     "output_type": "display_data"
    }
   ],
   "source": [
    "scalar = MinMaxScaler()\n",
    "scalar.fit(X)\n",
    "X_scaled = scalar.transform(X)\n",
    "\n",
    "X_scaled = np.resize(X_scaled,(X_scaled.shape[0],timeSteps,X_scaled.shape[1])) \n",
    "\n",
    "y_pred=model.predict(X_scaled)\n",
    "buffer=y_pred.flatten()\n",
    "#print(buffer)\n",
    "yes=buffer[buffer>=.9]\n",
    "no=buffer[buffer<.9]\n",
    "print(len(yes))\n",
    "print(len(no))\n",
    "\n",
    "counts=[len(no),len(yes)]\n",
    "plt.bar(range(2),counts)\n",
    "plt.ylabel(\"Counts\")\n",
    "plt.xlabel(\"Rejection/Success\")\n",
    "\n",
    "plt.annotate(str(len(no)), xy=(0,len(no)))\n",
    "plt.annotate(str(len(yes)), xy=(1,len(yes)))\n",
    "\n",
    "plt.show"
   ]
  },
  {
   "cell_type": "code",
   "execution_count": 22,
   "metadata": {},
   "outputs": [],
   "source": [
    "#anomalous_features = creditcard.iloc[:,1:29].columns\n",
    "\n",
    "#plt.figure(figsize=(12,28*4))\n",
    "#gs = gridspec.GridSpec(28, 1)\n",
    "#for i, cn in enumerate(creditcard[anomalous_features]):\n",
    "#    ax = plt.subplot(gs[i])\n",
    "#    sns.distplot(creditcard[cn][creditcard.fraud == 1], bins=50)\n",
    "#    sns.distplot(creditcard[cn][creditcard.fraud == 0], bins=50)\n",
    "#    ax.set_xlabel('')\n",
    "#    ax.set_title('histogram of feature: ' + str(cn))\n",
    "#plt.show()"
   ]
  },
  {
   "cell_type": "code",
   "execution_count": null,
   "metadata": {},
   "outputs": [],
   "source": []
  }
 ],
 "metadata": {
  "kernelspec": {
   "display_name": "Python 3",
   "language": "python",
   "name": "python3"
  },
  "language_info": {
   "codemirror_mode": {
    "name": "ipython",
    "version": 3
   },
   "file_extension": ".py",
   "mimetype": "text/x-python",
   "name": "python",
   "nbconvert_exporter": "python",
   "pygments_lexer": "ipython3",
   "version": "3.7.7"
  }
 },
 "nbformat": 4,
 "nbformat_minor": 4
}
