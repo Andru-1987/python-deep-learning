{
 "cells": [
  {
   "cell_type": "code",
   "execution_count": 66,
   "metadata": {},
   "outputs": [],
   "source": [
    "import pandas as pd\n",
    "from datetime import datetime\n",
    "import dateutil.parser\n",
    "import random"
   ]
  },
  {
   "cell_type": "code",
   "execution_count": 52,
   "metadata": {},
   "outputs": [
    {
     "name": "stdout",
     "output_type": "stream",
     "text": [
      "0   2021-02-01 00:00:29.159000+00:00\n",
      "1   2021-02-01 00:00:35.159000+00:00\n",
      "Name: timestamp, dtype: datetime64[ns, UTC]\n",
      "(Timestamp('2021-02-01 00:00:29.100000+0000', tz='UTC', freq='300L'), Empty DataFrame\n",
      "Columns: []\n",
      "Index: [2021-02-01 00:00:29.159000+00:00]) (Timestamp('2021-02-01 00:00:29.400000+0000', tz='UTC', freq='300L'), Empty DataFrame\n",
      "Columns: []\n",
      "Index: []) (Timestamp('2021-02-01 00:00:29.700000+0000', tz='UTC', freq='300L'), Empty DataFrame\n",
      "Columns: []\n",
      "Index: []) (Timestamp('2021-02-01 00:00:30+0000', tz='UTC', freq='300L'), Empty DataFrame\n",
      "Columns: []\n",
      "Index: []) (Timestamp('2021-02-01 00:00:30.300000+0000', tz='UTC', freq='300L'), Empty DataFrame\n",
      "Columns: []\n",
      "Index: []) (Timestamp('2021-02-01 00:00:30.600000+0000', tz='UTC', freq='300L'), Empty DataFrame\n",
      "Columns: []\n",
      "Index: []) (Timestamp('2021-02-01 00:00:30.900000+0000', tz='UTC', freq='300L'), Empty DataFrame\n",
      "Columns: []\n",
      "Index: []) (Timestamp('2021-02-01 00:00:31.200000+0000', tz='UTC', freq='300L'), Empty DataFrame\n",
      "Columns: []\n",
      "Index: []) (Timestamp('2021-02-01 00:00:31.500000+0000', tz='UTC', freq='300L'), Empty DataFrame\n",
      "Columns: []\n",
      "Index: []) (Timestamp('2021-02-01 00:00:31.800000+0000', tz='UTC', freq='300L'), Empty DataFrame\n",
      "Columns: []\n",
      "Index: []) (Timestamp('2021-02-01 00:00:32.100000+0000', tz='UTC', freq='300L'), Empty DataFrame\n",
      "Columns: []\n",
      "Index: []) (Timestamp('2021-02-01 00:00:32.400000+0000', tz='UTC', freq='300L'), Empty DataFrame\n",
      "Columns: []\n",
      "Index: []) (Timestamp('2021-02-01 00:00:32.700000+0000', tz='UTC', freq='300L'), Empty DataFrame\n",
      "Columns: []\n",
      "Index: []) (Timestamp('2021-02-01 00:00:33+0000', tz='UTC', freq='300L'), Empty DataFrame\n",
      "Columns: []\n",
      "Index: []) (Timestamp('2021-02-01 00:00:33.300000+0000', tz='UTC', freq='300L'), Empty DataFrame\n",
      "Columns: []\n",
      "Index: []) (Timestamp('2021-02-01 00:00:33.600000+0000', tz='UTC', freq='300L'), Empty DataFrame\n",
      "Columns: []\n",
      "Index: []) (Timestamp('2021-02-01 00:00:33.900000+0000', tz='UTC', freq='300L'), Empty DataFrame\n",
      "Columns: []\n",
      "Index: []) (Timestamp('2021-02-01 00:00:34.200000+0000', tz='UTC', freq='300L'), Empty DataFrame\n",
      "Columns: []\n",
      "Index: []) (Timestamp('2021-02-01 00:00:34.500000+0000', tz='UTC', freq='300L'), Empty DataFrame\n",
      "Columns: []\n",
      "Index: []) (Timestamp('2021-02-01 00:00:34.800000+0000', tz='UTC', freq='300L'), Empty DataFrame\n",
      "Columns: []\n",
      "Index: []) (Timestamp('2021-02-01 00:00:35.100000+0000', tz='UTC', freq='300L'), Empty DataFrame\n",
      "Columns: []\n",
      "Index: [2021-02-01 00:00:35.159000+00:00])\n"
     ]
    }
   ],
   "source": [
    "df=pd.DataFrame({'timestamp':['2021-02-01T00:00:29.159 UTC','2021-02-01T00:0:35.159 UTC']})\n",
    "df['timestamp']=df['timestamp'].apply(lambda row: row.replace(' UTC','Z').replace(' ','T'))\n",
    "df['timestamp']=df['timestamp'].apply(lambda timestamp: datetime.strptime(timestamp, '%Y-%m-%dT%H:%M:%S.%f%z'))\n",
    "print(df['timestamp'])\n",
    "df=df.set_index('timestamp')\n",
    "df = df.resample('300ms')\n",
    "print(*df)"
   ]
  },
  {
   "cell_type": "code",
   "execution_count": 79,
   "metadata": {
    "scrolled": true
   },
   "outputs": [
    {
     "name": "stdout",
     "output_type": "stream",
     "text": [
      "0          2019-01-01 00:00:00+00:00\n",
      "1   2019-12-31 23:59:59.300000+00:00\n",
      "Name: timestamp, dtype: datetime64[ns, UTC]\n",
      "[Timestamp('2019-11-13 20:30:00+0000', tz='UTC', freq='30T'), Timestamp('2019-11-07 17:30:00+0000', tz='UTC', freq='30T'), Timestamp('2019-12-13 06:30:00+0000', tz='UTC', freq='30T')]\n"
     ]
    }
   ],
   "source": [
    "df=pd.DataFrame({'timestamp':['2019-01-01T00:00:00.000Z','2019-12-31T23:59:59.300Z']})\n",
    "df['timestamp']=df['timestamp'].apply(lambda timestamp: datetime.strptime(timestamp, '%Y-%m-%dT%H:%M:%S.%f%z'))\n",
    "print(df['timestamp'])\n",
    "df=df.set_index('timestamp')\n",
    "dates = df.resample('30Min').max().dropna()\n",
    "#print(dates)\n",
    "random_dates = random.choices(dates.index, k=3)\n",
    "print(random_dates)"
   ]
  },
  {
   "cell_type": "code",
   "execution_count": 91,
   "metadata": {},
   "outputs": [
    {
     "name": "stdout",
     "output_type": "stream",
     "text": [
      "   custID  accountID  tenure_mo account_type account_type2\n",
      "0       1          1          2     BusiNESS      business\n",
      "1       1          2          3     CONSUMER      consumer\n",
      "2       2          1          4     consumer      consumer\n",
      "3       2          2          4     BUSINESS      business\n",
      "4       2          3          5     BuSIness      business\n",
      "5       3          1          6     CONSUmer      consumer\n",
      "6       3          2          6     consumer      consumer\n",
      "7       4          1          6     CONSUMER      consumer\n",
      "8       4          2          7     BUSINESS      business\n",
      "custID\n",
      "1    2\n",
      "2    2\n",
      "3    1\n",
      "4    2\n",
      "dtype: int64\n"
     ]
    }
   ],
   "source": [
    "import pandas as pd\n",
    "df1=pd.DataFrame({'custID':[1,1,2,2,2,3,3,4,4],\n",
    "              'accountID':[1,2,1,2,3,1,2,1,2],\n",
    "              'tenure_mo':[2,3,4,4,5,6,6,6,7],\n",
    "             'account_type':['BusiNESS','CONSUMER','consumer','BUSINESS','BuSIness','CONSUmer',\n",
    "                            'consumer', 'CONSUMER','BUSINESS']},columns=['custID','accountID','tenure_mo','account_type'])\n",
    "\n",
    "df1['account_type2']=df1['account_type'].apply(lambda row: row.lower())\n",
    "print(df1)\n",
    "\n",
    "\n",
    "grouped=df1.groupby('custID').apply(lambda row: len(set(row.account_type2)))\n",
    "print(grouped)\n",
    "\n",
    "#df2=pd.DataFrame({'custID':[1,2,3,4],\n",
    "#            'cust_age':[20,35,50,85]},columns=['custID','cust_age'])"
   ]
  },
  {
   "cell_type": "code",
   "execution_count": 122,
   "metadata": {},
   "outputs": [
    {
     "name": "stdout",
     "output_type": "stream",
     "text": [
      "   fname       email\n",
      "0    Bob   Bob@email\n",
      "1   Dirk  jack@email\n",
      "2  Sarah  Sara@email\n",
      "3    max   Bob@email\n",
      "4    leo  Sara@email\n",
      "('Bob@email', 0    Bob\n",
      "3    max\n",
      "Name: fname, dtype: object) ('Sara@email', 2    Sarah\n",
      "4      leo\n",
      "Name: fname, dtype: object) ('jack@email', 1    Dirk\n",
      "Name: fname, dtype: object)\n"
     ]
    }
   ],
   "source": [
    "fname=['Bob','Dirk','Sarah','max','leo']\n",
    "email=['Bob@email','jack@email','Sara@email','Bob@email','Sara@email']\n",
    "\n",
    "df=pd.DataFrame({'fname':fname,'email':email})\n",
    "print(df)\n",
    "results=df.groupby('email')['fname']\n",
    "print(*results)\n",
    "#for items in results:\n",
    "#    print(items[0][0:3],items[1][0:3])\n",
    "    #.transform(lambda x: x.count().sum()).gt(1)"
   ]
  },
  {
   "cell_type": "code",
   "execution_count": null,
   "metadata": {},
   "outputs": [],
   "source": []
  }
 ],
 "metadata": {
  "kernelspec": {
   "display_name": "Python 3",
   "language": "python",
   "name": "python3"
  },
  "language_info": {
   "codemirror_mode": {
    "name": "ipython",
    "version": 3
   },
   "file_extension": ".py",
   "mimetype": "text/x-python",
   "name": "python",
   "nbconvert_exporter": "python",
   "pygments_lexer": "ipython3",
   "version": "3.7.9"
  }
 },
 "nbformat": 4,
 "nbformat_minor": 4
}
