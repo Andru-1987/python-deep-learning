{
 "cells": [
  {
   "cell_type": "code",
   "execution_count": 2,
   "metadata": {},
   "outputs": [],
   "source": [
    "import pandas as pd\n",
    "from datetime import datetime\n",
    "import numpy as np\n",
    "import random\n",
    "from random import sample"
   ]
  },
  {
   "cell_type": "code",
   "execution_count": 2,
   "metadata": {},
   "outputs": [
    {
     "name": "stdout",
     "output_type": "stream",
     "text": [
      "   id      time    city  transport\n",
      "0   1  10:20:00  London        car\n",
      "1  20  08:50:20  Berlin  air plane\n",
      "2  44  21:10:00   Paris      train\n",
      "3  32  10:24:00    Rome        car\n",
      "4  56  08:53:10  Berlin  air plane\n",
      "5  90   21:8:00   Paris      train\n"
     ]
    }
   ],
   "source": [
    "\n",
    "ID=[1,20,44,32,56,90]\n",
    "time=['10:20:00','08:50:20','21:10:00','10:24:00','08:53:10','21:8:00']  \n",
    "city=['London','Berlin','Paris','Rome','Berlin','Paris']  \n",
    "transport=['car','air plane','train','car','air plane','train']   \n",
    "df=pd.DataFrame({'id':ID,'time':time,'city':city,'transport':transport})\n",
    "print(df)"
   ]
  },
  {
   "cell_type": "code",
   "execution_count": 3,
   "metadata": {},
   "outputs": [
    {
     "name": "stdout",
     "output_type": "stream",
     "text": [
      "   id                time    city  transport\n",
      "1  20 1900-01-01 08:50:20  Berlin  air plane\n",
      "4  56 1900-01-01 08:53:10  Berlin  air plane\n",
      "0   1 1900-01-01 10:20:00  London        car\n",
      "3  32 1900-01-01 10:24:00    Rome        car\n",
      "5  90 1900-01-01 21:08:00   Paris      train\n",
      "2  44 1900-01-01 21:10:00   Paris      train\n",
      "   id                time    city  transport\n",
      "1  20 1900-01-01 08:50:20  Berlin  air plane\n",
      "4  20 1900-01-01 08:53:10  Berlin  air plane\n",
      "0   1 1900-01-01 10:20:00  London        car\n",
      "3  32 1900-01-01 10:24:00    Rome        car\n",
      "5  90 1900-01-01 21:08:00   Paris      train\n",
      "2  90 1900-01-01 21:10:00   Paris      train\n"
     ]
    }
   ],
   "source": [
    "def convert(seconds): \n",
    "    seconds = seconds % (24 * 3600) \n",
    "    hour = seconds // 3600\n",
    "    seconds %= 3600\n",
    "    minutes = seconds // 60\n",
    "    seconds %= 60\n",
    "    return hour,minutes,seconds\n",
    "\n",
    "def get_sec(h,m,s):\n",
    "    \"\"\"Get Seconds from time.\"\"\"\n",
    "    if h==np.empty:\n",
    "        h=0\n",
    "    if m==np.empty:\n",
    "        m=0\n",
    "    if s==np.empty:\n",
    "        s=0\n",
    "    #print(h,m,s)\n",
    "    return int(h) * 3600 + int(m) * 60 + int(s)    \n",
    "\n",
    "df['time']=df['time'].apply(lambda x: datetime.strptime(x,'%H:%M:%S') if isinstance(x,str) else x )\n",
    "\n",
    "df=df.sort_values(by=[\"time\"])\n",
    "print(df)\n",
    "\n",
    "prev_hour=np.empty\n",
    "prev_minute=np.empty\n",
    "prev_second=np.empty\n",
    "for key,item in df.iterrows():\n",
    "    #print(item)\n",
    "    curr_hour=item.time.hour\n",
    "    curr_minute=item.time.minute\n",
    "    curr_second=item.time.second\n",
    "    curr_id=item.id\n",
    "    curr_seconds=get_sec(curr_hour,curr_minute,curr_second)\n",
    "    prev_seconds=get_sec(prev_hour,prev_minute,prev_second)\n",
    "    diff_seconds=curr_seconds-prev_seconds\n",
    "    hour,minute,second=convert(diff_seconds)\n",
    "    if (hour==0) & (minute <=3):\n",
    "        df.loc[key,'id']=prev_id\n",
    "    prev_hour=item.time.hour\n",
    "    prev_minute=item.time.minute\n",
    "    prev_second=item.time.second\n",
    "    prev_id=item.id\n",
    "    \n",
    "print(df)"
   ]
  },
  {
   "cell_type": "code",
   "execution_count": 8,
   "metadata": {},
   "outputs": [
    {
     "name": "stdout",
     "output_type": "stream",
     "text": [
      "      day1 day2 day3 day4 day5\n",
      "larry    1    4    7    3    5\n",
      "niko     2   -1    3  nan    4\n",
      "tin    nan    5    5    6    7\n"
     ]
    }
   ],
   "source": [
    "data = np.array([['','day1','day2','day3','day4','day5'],\n",
    "                ['larry',1,4,7,3,5],\n",
    "                ['niko',2,-1,3,np.nan,4],\n",
    "                ['tin',np.nan,5,5, 6,7]])\n",
    "                \n",
    "df = pd.DataFrame(data=data[1:,1:],\n",
    "                  index=data[1:,0],\n",
    "                  columns=data[0,1:])\n",
    "\n",
    "#print(data[1:,1:])\n",
    "#print(data[0,1:])\n",
    "#print(data[1:,0])\n",
    "print(df.head())"
   ]
  },
  {
   "cell_type": "code",
   "execution_count": 9,
   "metadata": {},
   "outputs": [
    {
     "name": "stdout",
     "output_type": "stream",
     "text": [
      "      day1 day2 day3 day4 day5\n",
      "larry    1    4    7    3    5\n",
      "niko     2   -1    3    0    4\n",
      "tin      0    5    5    6    7\n",
      "      day1 day2 day3 day4 day5  all_attendance\n",
      "larry    1    4    7    3    5               1\n",
      "niko     2   -1    3    0    4               0\n",
      "tin      0    5    5    6    7               0\n"
     ]
    }
   ],
   "source": [
    "\n",
    "\n",
    "columns=df.columns\n",
    "#0 if x[column]==np.nan else x[column] for column in columns\n",
    "for key,item in df.iterrows():\n",
    "    for column in columns:\n",
    "        if item[column]=='nan':\n",
    "            df.loc[key,column]=0\n",
    "\n",
    "[df[column].astype(int) for column in columns if column!='']\n",
    "print(df)\n",
    "df['all_attendance']=0\n",
    "for key,row in df.iterrows():\n",
    "    found=0\n",
    "    for value in row[columns]:\n",
    "        if value==0:\n",
    "            found=1\n",
    "            break\n",
    "\n",
    "    if found==1:\n",
    "        df.loc[key,'all_attendance']=0\n",
    "    else:\n",
    "        df.loc[key,'all_attendance']=1\n",
    "            \n",
    "print(df)"
   ]
  },
  {
   "cell_type": "code",
   "execution_count": 10,
   "metadata": {},
   "outputs": [
    {
     "name": "stdout",
     "output_type": "stream",
     "text": [
      "  columnA              columnB\n",
      "0    Rick          3-1,4-5,9-8\n",
      "1     Tim  6-3,1-2,1.3,5.8,7-9\n",
      "  columnA              columnB columnB_new\n",
      "0    Rick          3-1,4-5,9-8       1,2,3\n",
      "1     Tim  6-3,1-2,1.3,5.8,7-9   4,5,6,7,8\n"
     ]
    }
   ],
   "source": [
    "ColumnA=['Rick','Tim']  \n",
    "ColumnB=['3-1,4-5,9-8','6-3,1-2,1.3,5.8,7-9']\n",
    "\n",
    "df=pd.DataFrame({'columnA':ColumnA,'columnB':ColumnB})\n",
    "\n",
    "print(df.head())\n",
    "\n",
    "Mapping_dict= {'3-1':'1','4-5':2,'9-8':3,\n",
    "'6-3':4,'1-2':5,'1.3':6,'5.8':'7','7-9':'8'}\n",
    "\n",
    "def lookup(columnString):\n",
    "    elements=columnString.split(\",\")\n",
    "    mylist=[str(Mapping_dict[element]) for element in elements]\n",
    "    #print(mylist)\n",
    "    retVal=\",\".join(mylist)\n",
    "    return retVal\n",
    "\n",
    "df['columnB_new']=df['columnB'].apply(lambda x: lookup(x))\n",
    "print(df)"
   ]
  },
  {
   "cell_type": "code",
   "execution_count": 6,
   "metadata": {},
   "outputs": [
    {
     "name": "stdout",
     "output_type": "stream",
     "text": [
      "11\n",
      "True\n"
     ]
    }
   ],
   "source": [
    "def sum_fractions(fractionList):\n",
    "    sum=0\n",
    "    for numerator,denominator in fractionList:\n",
    "        sum+=numerator/denominator\n",
    "    return int(sum)\n",
    "print(sum_fractions([[11, 2], [3, 4], [5, 4], [21, 11], [12, 6]]))\n",
    "print(sum_fractions([[11, 2], [3, 4], [5, 4], [21, 11], [12, 6]])==11)"
   ]
  },
  {
   "cell_type": "code",
   "execution_count": 7,
   "metadata": {},
   "outputs": [
    {
     "name": "stdout",
     "output_type": "stream",
     "text": [
      "   id  time   x   y  x2  y2\n",
      "0   1     0  14  12  52  14\n",
      "1   1     1  32  23   0   0\n",
      "2   1     2  52  14   0   0\n",
      "3   2     2  12  34   0   0\n",
      "4   3     0  62  17  22  25\n",
      "5   3     1  82  35   0   0\n",
      "6   3     2  22  25   0   0\n",
      "\n",
      "\n",
      "   id  time   x   y    x2    y2\n",
      "0   1     2  14  12  52.0  14.0\n",
      "1   1     3  32  23   0.0   0.0\n",
      "2   1     4  52  14   0.0   0.0\n",
      "3   2     4  12  34   0.0   0.0\n",
      "4   3     2  62  17  22.0  25.0\n",
      "5   3     3  82  35   0.0   0.0\n",
      "6   3     4  22  25   0.0   0.0\n"
     ]
    }
   ],
   "source": [
    "id=[1,1,1,2,3,3,3]\n",
    "time=[0,1,2,2,0,1,2]\n",
    "x=[14,32,52,12,62,82,22]\n",
    "y=[12,23,14,34,17,35,25]\n",
    "\n",
    "df=pd.DataFrame({'id':id,'time':time,'x':x,'y':y})\n",
    "df.reset_index()\n",
    "df2=df.copy()\n",
    "df['x2']=0\n",
    "df['y2']=0\n",
    "\n",
    "\n",
    "for key,item in df.iterrows():\n",
    "\n",
    "    lookup=(item['time']+2) \n",
    "    filter=(df['time']==lookup) & (df['id']==item['id'])\n",
    "    results=df[filter]\n",
    "    if len(results)>0:\n",
    "        row=results.iloc[0]\n",
    "        x2=row.x\n",
    "        y2=row.y\n",
    "        df.loc[key,['x2','y2']]=(x2,y2)\n",
    "    \n",
    "print(df) \n",
    "print(\"\\n\")\n",
    "df3=df2.copy()\n",
    "df3['time'] = df3.apply(lambda x: x['time']+2, axis=1)\n",
    "results=df3[['id','time','x','y']].merge(df2[['id','time','x','y']],on=['id','time'],how=\"left\",suffixes=('', '2')).fillna(0)\n",
    "print(results)\n",
    "\n",
    "\n",
    "#df2[['x2','y2']]=df2[df2['time_lkup']==df2['time']][['x','y']]\n",
    "#print(df2)\n"
   ]
  },
  {
   "cell_type": "code",
   "execution_count": 8,
   "metadata": {},
   "outputs": [
    {
     "name": "stdout",
     "output_type": "stream",
     "text": [
      "                contig   coverage\n",
      "0  ERR1726751_contig_1  28.827160\n",
      "1  ERR1726751_contig_2  12.265934\n",
      "2  ERR1726751_contig_3  17.733767\n",
      "                contig   coverage\n",
      "0  ERR1726751_contig_1  28.827160\n",
      "1  ERR1726751_contig_2  12.265934\n",
      "2  ERR1726751_contig_3  17.733767\n",
      "Empty DataFrame\n",
      "Columns: [clusterID, kegg_contig, contig, coverage]\n",
      "Index: []\n"
     ]
    }
   ],
   "source": [
    "df1=pd.read_csv('merge_a.csv')\n",
    "df2=pd.read_csv('merge_b.csv')\n",
    "print(df2.head())\n",
    "\n",
    "initDF = pd.read_csv(\"merge_a.csv\", sep=\",\", header=0) \n",
    "file2 = \"merge_b.csv\" \n",
    "for chunks in pd.read_csv(file2, sep=\",\", chunksize=50, header=0): \n",
    "    print(chunks)\n",
    "    initDF = initDF.merge(chunks, how='inner', on=['contig'])\n",
    "\n",
    "print(initDF)"
   ]
  },
  {
   "cell_type": "code",
   "execution_count": 9,
   "metadata": {},
   "outputs": [
    {
     "name": "stdout",
     "output_type": "stream",
     "text": [
      "           str       \n",
      "partner      x      y\n",
      "company              \n",
      "a         True  False\n",
      "b         True   True\n",
      "c        False   True\n",
      "  company partner     str\n",
      "0       a       x    just\n",
      "1       b       x    some\n",
      "2       c       y  random\n",
      "3       b       y   words\n",
      "Index(['company', 'partner', 'str'], dtype='object')\n",
      "[('a', 'x', 'just'), ('b', 'x', 'some'), ('c', 'y', 'random'), ('b', 'y', 'words')]\n",
      "  company partner     str\n",
      "0       a       x    just\n",
      "1       b       x    some\n",
      "2       c       y  random\n",
      "3       b       y   words\n"
     ]
    }
   ],
   "source": [
    "df = pd.DataFrame({'company':['a','b','c','b'], 'partner':['x','x','y','y'], 'str':['just','some','random','words']})\n",
    "fp=df.pivot_table(index=['company'],columns=['partner'],aggfunc=any).fillna(False)\n",
    "print(fp.head())\n",
    "print(df)\n",
    "columns=df.columns\n",
    "print(columns)\n",
    "records=list(df.to_records(index=False))\n",
    "print(records)\n",
    "df=pd.DataFrame.from_records(records,columns=[columns])\n",
    "print(df)\n",
    "#fp=results_df.pivot(columns='variable',values='value')\n",
    "#print(fp)"
   ]
  },
  {
   "cell_type": "code",
   "execution_count": 10,
   "metadata": {},
   "outputs": [
    {
     "name": "stdout",
     "output_type": "stream",
     "text": [
      "  key1 key2 keyn type  val1  val2  valn\n",
      "0   k1   k2   kn   p1     1     2     7\n",
      "1   k1   k2   kn   p2     6     1     5\n",
      "2   k1   k2   kn   p3     8     4     1\n",
      "3   k3   k2   kn   p1     4     6     9\n",
      "4   k3   k2   kn   p2     6     1     0\n",
      "5   k3   k2   kn   p3     1     2     8\n",
      "   key1 key2 keyn type variable  value\n",
      "0    k1   k2   kn   p1     val1      1\n",
      "6    k1   k2   kn   p1     val2      2\n",
      "12   k1   k2   kn   p1     valn      7\n",
      "1    k1   k2   kn   p2     val1      6\n",
      "7    k1   k2   kn   p2     val2      1\n",
      "13   k1   k2   kn   p2     valn      5\n",
      "2    k1   k2   kn   p3     val1      8\n",
      "8    k1   k2   kn   p3     val2      4\n",
      "14   k1   k2   kn   p3     valn      1\n",
      "3    k3   k2   kn   p1     val1      4\n",
      "9    k3   k2   kn   p1     val2      6\n",
      "15   k3   k2   kn   p1     valn      9\n",
      "4    k3   k2   kn   p2     val1      6\n",
      "10   k3   k2   kn   p2     val2      1\n",
      "16   k3   k2   kn   p2     valn      0\n",
      "5    k3   k2   kn   p3     val1      1\n",
      "11   k3   k2   kn   p3     val2      2\n",
      "17   k3   k2   kn   p3     valn      8\n",
      "                    value          \n",
      "variable             val1 val2 valn\n",
      "key1 key2 keyn type                \n",
      "k1   k2   kn   p1       1    2    7\n",
      "               p2       6    1    5\n",
      "               p3       8    4    1\n",
      "k3   k2   kn   p1       4    6    9\n",
      "               p2       6    1    0\n",
      "               p3       1    2    8\n"
     ]
    }
   ],
   "source": [
    "data = [{'key1': 'k1', 'key2': 'k2', 'keyn': 'kn', 'type': 'p1', 'val1': 1, 'val2': 2, 'valn': 7}, {'key1': 'k1', 'key2': 'k2', 'keyn': 'kn', 'type': 'p2', 'val1': 6, 'val2': 1, 'valn': 5}, {'key1': 'k1', 'key2': 'k2', 'keyn': 'kn', 'type': 'p3', 'val1': 8, 'val2': 4, 'valn': 1}, {'key1': 'k3', 'key2': 'k2', 'keyn': 'kn', 'type': 'p1', 'val1': 4, 'val2': 6, 'valn': 9}, {'key1': 'k3', 'key2': 'k2', 'keyn': 'kn', 'type': 'p2', 'val1': 6, 'val2': 1, 'valn': 0}, {'key1': 'k3', 'key2': 'k2', 'keyn': 'kn', 'type': 'p3', 'val1': 1, 'val2': 2, 'valn': 8}]\n",
    "df = pd.DataFrame(data)\n",
    "print(df)\n",
    "results=pd.melt(df,value_vars=['val1','val2','valn'],id_vars=['key1','key2','keyn','type'])\n",
    "results=results.sort_values(by=['key1','key2','keyn','type'])\n",
    "print(results)\n",
    "fp=results.pivot(index=['key1','key2','keyn','type'],columns=['variable'],values=['value'])\n",
    "#fp = fp[(fp.T != 0).any()]\n",
    "print(fp)"
   ]
  },
  {
   "cell_type": "code",
   "execution_count": 11,
   "metadata": {},
   "outputs": [
    {
     "name": "stdout",
     "output_type": "stream",
     "text": [
      "[('ID1', 'key1a', 'value1a'), ('ID1', 'key1b', 'value1b'), ('ID1', 'key1c', 'value1c'), ('ID2', 'key2a', 'value2a'), ('ID2', 'key2b', 'value2b'), ('ID2', 'key2c', 'value2c')]\n",
      "    ID    Key    Value\n",
      "0  ID1  key1a  value1a\n",
      "1  ID1  key1b  value1b\n",
      "2  ID1  key1c  value1c\n",
      "3  ID2  key2a  value2a\n",
      "4  ID2  key2b  value2b\n",
      "5  ID2  key2c  value2c\n"
     ]
    }
   ],
   "source": [
    "L1 = [['ID1', ('key1a','key1b','key1c'), ('value1a','value1b','value1c')],\n",
    "      ['ID2', ('key2a','key2b','key2c'), ('value2a','value2b','value2c')]]\n",
    "df1 = pd.DataFrame(L1,columns=['ID','Key','Value'])\n",
    "tuples=[]\n",
    "for key,item in df1.iterrows():\n",
    "    id=item['ID']\n",
    "    for i in range(len(item['Key'])):\n",
    "        key=item[\"Key\"][i]\n",
    "        value=item['Value'][i]\n",
    "        tuples.append((id,key,value))\n",
    "        \n",
    "print(tuples)        \n",
    "df=pd.DataFrame.from_records(tuples,columns=['ID','Key','Value'])    \n",
    "print(df)\n",
    "#df=pd.DataFrame({'ID':id,'Key':key,'Value':value})\n",
    "#print(df)\n",
    "#print(df1.head())"
   ]
  },
  {
   "cell_type": "code",
   "execution_count": 12,
   "metadata": {
    "scrolled": true
   },
   "outputs": [
    {
     "name": "stdout",
     "output_type": "stream",
     "text": [
      "Leaf 1.0\n",
      "Leaf 2.0\n",
      "Leaf 3.0\n",
      "replace value 0 0 6.0\n",
      "Sum List 6.0\n",
      "Leaf 7.0\n",
      "Leaf 8.0\n",
      "Leaf 9.0\n",
      "replace value 0 1 24.0\n",
      "Sum List 24.0\n",
      "0 1 Sum List 0\n",
      "Leaf 4.0\n",
      "Leaf 5.0\n",
      "Leaf 6.0\n",
      "replace value 1 0 15.0\n",
      "Sum List 15.0\n",
      "Leaf 10.0\n",
      "Leaf 11.0\n",
      "Leaf 12.0\n",
      "replace value 1 1 33.0\n",
      "Sum List 33.0\n",
      "1 1 Sum List 0\n",
      "{0: [6.0, 24.0], 1: [15.0, 33.0]}\n"
     ]
    }
   ],
   "source": [
    "defaultDict={0: [[1.0, 2.0, 3.0], [7.0, 8.0, 9.0]], 1: [[4.0, 5.0, 6.0], [10.0, 11.0, 12.0]]}\n",
    "#print(type(defaultDict))\n",
    "#print(defaultDict)\n",
    "\n",
    "\n",
    "paths=[]\n",
    "def walk_the_tree(inputDict,parent_index=None):\n",
    "    if isinstance(inputDict,dict):\n",
    "        for key, value in inputDict.items():\n",
    "            #print(key,value)\n",
    "            if isinstance(value,list):\n",
    "                ret_index,type,result=walk_the_tree(value,key)\n",
    "                print(key, ret_index, type, result)\n",
    "    elif isinstance(inputDict,list):\n",
    "        #print(\"List\",inputDict)\n",
    "        sum=0\n",
    "        for index,alist in enumerate(inputDict):\n",
    "            #print(index,alist)\n",
    "            ret_index,type,value=walk_the_tree(alist,index)\n",
    "            if type==\"Sum List\":\n",
    "                print (\"replace value\",parent_index, index, value)\n",
    "                defaultDict[parent_index][index]=value\n",
    "            print(type,value)\n",
    "            if type==\"Leaf\":\n",
    "                sum+=value\n",
    "        return index,\"Sum List\",sum\n",
    "        #walk_the_tree(inputDict)\n",
    "    else:\n",
    "        return 0,\"Leaf\", inputDict\n",
    "    return\n",
    "\n",
    "walk_the_tree(defaultDict)\n",
    "\n",
    "print(defaultDict)\n",
    "#json_specs = {}\n",
    "#for path in paths:\n",
    "#    parts=path.split(':')\n",
    "#    value=(parts[-1])\n",
    "#    d=json_specs\n",
    "#    for p in parts[:-1]:\n",
    "#        #print(p)\n",
    "#        if p==parts[-2]:\n",
    "#            d = d.setdefault(p,value)\n",
    "#            #print(value)\n",
    "#        else:\n",
    "#            d = d.setdefault(p,{})\n",
    "#print(json_specs)        \n"
   ]
  },
  {
   "cell_type": "code",
   "execution_count": 41,
   "metadata": {},
   "outputs": [
    {
     "name": "stdout",
     "output_type": "stream",
     "text": [
      "   index                       date  source destination     issue\n",
      "0      0 2021-02-06 18:48:18.097962  London    New York    UP_LOW\n",
      "1      1 2021-02-06 18:48:18.097962  Berlin       Tokyo   DN_HIGH\n",
      "2      2 2021-02-06 18:47:08.209495   Paris     Toronto  DROP_LOW\n"
     ]
    }
   ],
   "source": [
    "data = [(datetime(2021, 2, 6, 18, 48, 18, 97962), u'London', u'New York', u'UPLOAD_LOW'), (datetime(2021, 2, 6, 18, 48, 18, 97962), u'Berlin', u'Tokyo', u'DOWNLOAD_HIGH'), (datetime(2021, 2, 6, 18, 47, 8, 209495), u'Paris', u'Toronto', u'DROP_LOW')]\n",
    "df=pd.DataFrame(data,columns=['date','source','destination','issue']).reset_index().fillna(0)\n",
    "#print(df)\n",
    "issue_short_form_map = {\n",
    "        \"UPLOAD\": \"UP\",\n",
    "        \"MEMORY\": \"MEM\",\n",
    "        \"DOWNLOAD\": \"DN\"\n",
    "}\n",
    "mylist=df['issue'].apply(lambda row: row.split(\"_\"))\n",
    "mylist=[issue_short_form_map.get(x[0],x[0])+\"_\"+str(x[1]) for x in mylist]    \n",
    "df['issue']=mylist\n",
    "print(df)\n"
   ]
  },
  {
   "cell_type": "code",
   "execution_count": 74,
   "metadata": {},
   "outputs": [
    {
     "name": "stdout",
     "output_type": "stream",
     "text": [
      "   id        name    position    group\n",
      "0   1    jane doe  position_1  group_7\n",
      "1   2    john doe  position_2  group_2\n",
      "2   3  john smith  position_3  group_1\n"
     ]
    }
   ],
   "source": [
    "id=[1,2,3]\n",
    "name=['jane doe','john doe','john smith']\n",
    "position=['position_1','position_2','position_3']\n",
    "df=pd.DataFrame({'id':id,'name':name,'position':position,})\n",
    "group_1 = ['position_3', 'position_18', 'position_45']\n",
    "group_2 = ['position_2', 'position_9']\n",
    "group_7 = ['position_1']\n",
    "dct = {'group_1': group_1, 'group_2': group_2, 'group_7': group_7}\n",
    "def lookup(itemParam):\n",
    "    keys=[]\n",
    "    for key,item in dct.items():\n",
    "        if itemParam in item:\n",
    "            keys.append(key)\n",
    "    return keys\n",
    "mylist=[*map(lookup,df['position'])]\n",
    "mylist=[x[0] for x in mylist]\n",
    "df['group']=mylist\n",
    "print(df.head())\n",
    "#print(dct)\n",
    "\n",
    "\n"
   ]
  },
  {
   "cell_type": "code",
   "execution_count": 149,
   "metadata": {},
   "outputs": [
    {
     "name": "stdout",
     "output_type": "stream",
     "text": [
      "   index                a^                b^\n",
      "0      0  {'a': 1, 'b': 2}  {'a': 3, 'b': 4}\n",
      "1      1  {'a': 4, 'b': 5}  {'a': 4, 'b': 1}\n",
      "2      2  {'a': 3, 'b': 6}  {'a': 5, 'b': 4}\n",
      "   index   a^   b^\n",
      "0      0  1,3  2,4\n",
      "1      1  4,4  5,1\n",
      "2      2  3,5  6,4\n",
      "        a       b\n",
      "0  [1, 3]  [2, 4]\n",
      "1  [4, 4]  [5, 1]\n",
      "2  [3, 5]  [6, 4]\n"
     ]
    }
   ],
   "source": [
    "dct2={0:[{'a':1,'b':2},{'a':3,'b':4}] ,\n",
    "     1:[{'a':4,'b':5},{'a':4,'b':1}] ,\n",
    "     2:[{'a':3,'b':6},{'a':5,'b':4}] \n",
    "     }\n",
    "df=pd.DataFrame(dct2)\n",
    "df=df.T\n",
    "df=df.rename(columns={0:'a^',1:'b^'})\n",
    "df=df.reset_index()\n",
    "print(df)\n",
    "\n",
    "for key,row in df.iterrows():\n",
    "    df.loc[key,'a^']=str(row['a^']['a'])+\",\"+str(row['b^']['a'])\n",
    "    df.loc[key,'b^']=str(row['a^']['b'])+\",\"+str(row['b^']['b'])\n",
    "print(df)\n",
    "\n",
    "dct={0:{'a':[1,3],'b':[2,4]},\n",
    "     1:{'a':[4,4],'b':[5,1]},\n",
    "     2:{'a':[3,5],'b':[6,4]}\n",
    "    }\n",
    "df=pd.DataFrame(dct)\n",
    "df=df.T\n",
    "print(df)"
   ]
  },
  {
   "cell_type": "code",
   "execution_count": 195,
   "metadata": {},
   "outputs": [
    {
     "name": "stdout",
     "output_type": "stream",
     "text": [
      "   proposal1_amount  proposal2_amount  proposal3_amount  accepted_proposal  \\\n",
      "0              1000              2000              3000                  3   \n",
      "1              5000              5200              4000                  2   \n",
      "2              1450              2400              1120                  1   \n",
      "\n",
      "   accepted_amount  \n",
      "0             3000  \n",
      "1             5200  \n",
      "2             1450  \n"
     ]
    }
   ],
   "source": [
    "proposal1_amount=[1000,5000,1450]\n",
    "proposal2_amount=[2000,5200,2400]\n",
    "proposal3_amount=[3000,4000,1120]\n",
    "accepted_proposal=[3,2,1]\n",
    "df=pd.DataFrame({'proposal1_amount':proposal1_amount,'proposal2_amount':proposal2_amount,'proposal3_amount':proposal3_amount,'accepted_proposal':accepted_proposal})\n",
    "df['accepted_proposal']=df['accepted_proposal'].astype(int)\n",
    "df=df.assign(accepted_amount=df.apply(lambda row: row.iloc[row['accepted_proposal']-1],axis=1))    \n",
    "print(df)"
   ]
  },
  {
   "cell_type": "code",
   "execution_count": 226,
   "metadata": {},
   "outputs": [
    {
     "name": "stdout",
     "output_type": "stream",
     "text": [
      "  message_id     to idt\n",
      "0          1    one   1\n",
      "1          1    two   2\n",
      "2          1  three   3\n",
      "3          1   four   4\n",
      "4          2   five   5\n",
      "5          2    six   6\n",
      "6          2   five   5\n",
      "                                 to           idt\n",
      "message_id                                       \n",
      "1           [one, two, three, four]  [1, 2, 3, 4]\n",
      "2                       [five, six]        [5, 6]\n"
     ]
    }
   ],
   "source": [
    "data = {'message_id':  ['1', '1', '1', '1', '2', '2', '2'],\n",
    "        'to': ['one', 'two', 'three', 'four', 'five', 'six', 'five'],\n",
    "        'idt': ['1','2','3','4','5','6','5']\n",
    "        }\n",
    "\n",
    "df = pd.DataFrame(data, columns = ['message_id','to','idt'])\n",
    "print(df)\n",
    "agg_func_text = {'to': set, 'idt': set}\n",
    "df.sort_values(by=['message_id', 'to'])\n",
    "\n",
    "grouped=df.groupby(['message_id']).agg(agg_func_text)\n",
    "\n",
    "grouped['idt']=grouped['idt'].apply(lambda x: sorted(x))\n",
    "dct={'one':1,'two':2,'three':3,'four':4,'five':5,'six':6,'seven':7,'eight':8,'nine':9}\n",
    "dct2={1:'one',2:'two',3:'three',4:'four',5:'five',6:'six',7:'seven',8:'eight',9:'nine'}\n",
    "grouped['to']=grouped['to'].apply(lambda x: sorted([dct[item] for item in x]))\n",
    "grouped['to']=grouped['to'].apply(lambda x: [dct2[item] for item in x])\n",
    "print(grouped)"
   ]
  },
  {
   "cell_type": "code",
   "execution_count": 245,
   "metadata": {},
   "outputs": [
    {
     "name": "stdout",
     "output_type": "stream",
     "text": [
      "                   A         B         C         D\n",
      "2000-01-01 -0.518791  0.165454 -1.673153 -1.999063\n",
      "2000-01-02  0.493392  1.098605  1.934966 -2.845145\n",
      "2000-01-03 -1.162298  0.285475 -0.804538  1.630997\n",
      "2000-01-04 -0.439574  0.799949  0.354324  0.077876\n",
      "2000-01-05  1.262300 -0.667952  0.469612  3.074817\n",
      "2000-01-06  0.050587  1.281090 -1.585623 -0.738352\n",
      "2000-01-07  1.153033  1.085618  0.918302 -0.053667\n",
      "2000-01-08  0.185695  0.614663  0.267337 -1.332615\n",
      "2000-01-01   -1.999063\n",
      "2000-01-02   -2.845145\n",
      "2000-01-03    1.630997\n",
      "2000-01-04    0.077876\n",
      "2000-01-05    3.074817\n",
      "2000-01-06   -0.738352\n",
      "2000-01-07   -0.053667\n",
      "2000-01-08   -1.332615\n",
      "Freq: D, Name: D, dtype: float64\n"
     ]
    }
   ],
   "source": [
    "dates = pd.date_range('1/1/2000', periods=8)\n",
    "\n",
    "df = pd.DataFrame(np.random.randn(8, 4),\n",
    "   index=dates, columns=['A', 'B', 'C', 'D'])\n",
    "print(df)\n",
    "dct={'A':0,'B':1,'C':2,'D':3}\n",
    "columns=df.columns\n",
    "\n",
    "print(df.iloc[:,dct['D']])"
   ]
  },
  {
   "cell_type": "code",
   "execution_count": 249,
   "metadata": {},
   "outputs": [],
   "source": [
    "a = np.arange(6).reshape((3, 2))\n",
    "alst=np.array([[0, 1],\n",
    "       [2, 3],\n",
    "       [4, 5]])"
   ]
  },
  {
   "cell_type": "code",
   "execution_count": 315,
   "metadata": {},
   "outputs": [
    {
     "name": "stdout",
     "output_type": "stream",
     "text": [
      "[(53277, 37596), (83910, 66808), (94929, 21142), (48724, 53643), (20861, 54098), (19057, 75513), (58720, 16323), (48621, 39682), (12685, 74273), (72401, 14840), (20614, 71668), (14009, 53662), (40657, 75341), (84924, 64774), (54306, 18174), (29903, 16137), (18311, 6026), (28039, 14432), (6575, 62976), (15572, 42071)]\n",
      "[(66021, 35303), (1793, 63922), (94072, 29813), (40243, 70182), (2692, 12451), (48626, 23827), (26562, 47413), (51015, 49881), (52728, 38858), (96332, 24338), (30985, 69576), (44960, 78934), (12790, 18887), (84010, 63608), (46834, 27146), (74023, 63978), (83790, 22732), (72239, 5876), (17718, 79839), (42445, 73421), (19299, 63887), (38592, 39855), (34893, 77858), (26714, 78114), (11871, 69227), (18017, 52327), (52647, 76783), (49501, 1189), (41606, 64481), (76758, 58258)]\n",
      "list1 test for uniqueness True\n",
      "list2 test for uniqueness True\n"
     ]
    }
   ],
   "source": [
    "import random\n",
    "from random import sample\n",
    "\n",
    "list1 = list(zip(sample(range(1, 100000), 20), sample(range(1, 80000), 20)))\n",
    "list2 = list(zip(sample(range(1, 100000), 30), sample(range(1, 80000), 30)))\n",
    "\n",
    "for item in list2:\n",
    "    for index,item2 in enumerate(list1):\n",
    "        if item!=item2:\n",
    "            replace_tuple=random.choice(range(1, 100000)),random.choice(range(1, 100000))\n",
    "            while replace_tuple in list1:\n",
    "                replace_tuple=random.choice(range(1, 100000)),random.choice(range(1, 100000))\n",
    "            list2[index]=replace_tuple\n",
    "            #print(replace_tuple)\n",
    "\n",
    "print(\"list1 test for uniqueness\",len(list1)==len(set(list1)))            \n",
    "print(\"list2 test for uniqueness\",len(list2)==len(set(list2)))\n",
    "\n",
    "import itertools\n",
    "results=[*itertools.product(list1,list2)]\n",
    "#print(results)\n",
    "\n",
    "from collections import Counter\n",
    "cntr=Counter(results)\n",
    "if max(cntr.values())>1:\n",
    "    print('failed')\n",
    "else\n",
    "    print('no duplicates')"
   ]
  },
  {
   "cell_type": "code",
   "execution_count": 24,
   "metadata": {},
   "outputs": [
    {
     "name": "stdout",
     "output_type": "stream",
     "text": [
      "[[(72939, 51554) 68419]\n",
      " [(6074, 85492) 58792]\n",
      " [(13642, 15269) 47180]\n",
      " [(88896, 18572) 34796]\n",
      " [(48337, 62892) 6548]\n",
      " [(90263, 53512) 19790]\n",
      " [(30469, 12878) 64017]\n",
      " [(25355, 32477) 20383]\n",
      " [(23977, 6099) 50187]\n",
      " [(26744, 673) 58489]\n",
      " [(27756, 65889) 16479]\n",
      " [(23560, 59209) 75338]\n",
      " [(92235, 65186) 12410]\n",
      " [(96509, 97539) 55117]\n",
      " [(1351, 44663) 41890]\n",
      " [(10611, 39957) 75474]\n",
      " [(59237, 57633) 50472]\n",
      " [(40666, 28233) 469]\n",
      " [(27106, 27028) 91264]\n",
      " [(17341, 89503) 93675]]\n",
      "1074135076\n",
      "1407891437\n",
      "6689111021\n",
      "17647222782\n",
      "33019503007\n",
      "33446751907\n",
      "34849179508\n",
      "35253631829\n",
      "36219101013\n",
      "42173692569\n",
      "42228912330\n",
      "63257102451\n",
      "82558925212\n",
      "82575932588\n",
      "83196241424\n",
      "87604935828\n",
      "92287600728\n",
      "93666237628\n",
      "93839660189\n"
     ]
    },
    {
     "name": "stderr",
     "output_type": "stream",
     "text": [
      "C:\\Users\\dnishimoto.BOISE\\AppData\\Local\\Continuum\\anaconda3\\envs\\deeplearning\\lib\\site-packages\\numpy\\core\\_asarray.py:83: VisibleDeprecationWarning: Creating an ndarray from ragged nested sequences (which is a list-or-tuple of lists-or-tuples-or ndarrays with different lengths or shapes) is deprecated. If you meant to do this, you must specify 'dtype=object' when creating the ndarray\n",
      "  return array(a, dtype, copy=False, order=order)\n"
     ]
    }
   ],
   "source": [
    "\n",
    "rows=20\n",
    "a,b = 0.5,1 \n",
    "pop=list(zip(sample(range(1, 100000), rows),sample(range(1, 100000), rows)))\n",
    "profit = sample(range(1, 100000), rows)\n",
    "#print(pop,profit)\n",
    "mycombined=list(zip(pop,profit))\n",
    "\n",
    "#combine_list = [[ (i, j)  for j in b] for i in a]\n",
    "combined_array = np.asarray(mycombined)\n",
    "\n",
    "print(combined_array)\n",
    "\n",
    "m = len (combined_array) \n",
    "it = 1500 \n",
    "alpha = 0.01 \n",
    "pop = [np.ones(m),pop] \n",
    "J=0\n",
    "for i in range(1,m,1): \n",
    "    bpop=combined_array[i][0][0]\n",
    "    apop=combined_array[i][0][1]\n",
    "    aprofit=combined_array[i][1]\n",
    "    temp=(bpop+apop-aprofit)**2\n",
    "    J=J+temp\n",
    "   "
   ]
  },
  {
   "cell_type": "code",
   "execution_count": 37,
   "metadata": {},
   "outputs": [
    {
     "name": "stdout",
     "output_type": "stream",
     "text": [
      "[array([ 2,  3,  4,  5,  6,  7,  8,  9, 10, 11, 12]), array([48, 49, 50, 51, 52, 53, 54, 55, 56, 57, 58]), array([120, 121, 122, 123, 124, 125, 126, 127, 128, 129, 130])]\n"
     ]
    }
   ],
   "source": [
    "alist = [(2, 13), (48, 59), (120, 131)]\n",
    "#print(alist)\n",
    "results=[np.arange(x[0],x[1]) for x in alist]\n",
    "print(results)"
   ]
  },
  {
   "cell_type": "code",
   "execution_count": null,
   "metadata": {},
   "outputs": [],
   "source": []
  }
 ],
 "metadata": {
  "kernelspec": {
   "display_name": "Python 3",
   "language": "python",
   "name": "python3"
  },
  "language_info": {
   "codemirror_mode": {
    "name": "ipython",
    "version": 3
   },
   "file_extension": ".py",
   "mimetype": "text/x-python",
   "name": "python",
   "nbconvert_exporter": "python",
   "pygments_lexer": "ipython3",
   "version": "3.7.9"
  }
 },
 "nbformat": 4,
 "nbformat_minor": 4
}
