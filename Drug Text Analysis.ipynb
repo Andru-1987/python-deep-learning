{
 "cells": [
  {
   "cell_type": "code",
   "execution_count": 10,
   "metadata": {},
   "outputs": [],
   "source": [
    "import pandas as pd\n",
    "from IPython.display import clear_output"
   ]
  },
  {
   "cell_type": "code",
   "execution_count": 4,
   "metadata": {},
   "outputs": [],
   "source": [
    "df=pd.read_csv('drugLibTrain_raw.tsv', sep='\\t', lineterminator='\\r')"
   ]
  },
  {
   "cell_type": "code",
   "execution_count": 16,
   "metadata": {},
   "outputs": [
    {
     "name": "stdout",
     "output_type": "stream",
     "text": [
      "I felt extremely drugged and dopey.  Could not drive at all while on this med.  Also had extreme ankle and feet swelling and couldn't even wear shoes.\n",
      "\n",
      "\n",
      "see above\n",
      "\n",
      "\n",
      "I was extremely tired both 1 month times I tried this! I already was tired from FMS and this more than doubled. I had no relief of aches or pain! Nothing! But, I wanted to try it the second time just to be sure.\r",
      "\r\n",
      "\r",
      "\r\n",
      "Well, I am going to try it again. Gluton for punishment? NO! I want to find something to HELP Me! I want a better life without pain or less pain. But I don't want to be so tired I go from the couch to the bed all day long. \r",
      "\r\n",
      "\r",
      "\r\n",
      "This Fibromyalgia was a blow to My active life and I want it back!!  So I'll write another review after this 3rd try of Lyrica!!\n",
      "\n",
      "\n",
      "trouble breathin- confusion- sleepiness- fatigue- depression\n",
      "\n",
      "\n",
      "drowiness, lightheadedness.\n",
      "\n",
      "\n",
      "I feel sleepy and have days where in have trouble concentrating.\n",
      "\n",
      "\n",
      "Extreme swelling of face, hands and feet, as well as, raised welts on skin\n",
      "\n",
      "\n",
      "Irrational thinking, disrupted thought process, Slow reactions while operating a vehicle\n",
      "\n",
      "\n",
      "sleepiness- fatigu memory loss- confusion-depression- trouble breathigng\n",
      "\n",
      "\n",
      "I suffer from chronic migraines and as I increased my dosage of Lyrica, it increased the frequency of my migraines.  It also had sexual side effects, suppressing sexual drive.\n",
      "\n",
      "\n",
      "swelling, weight gain, fatigue\n",
      "\n",
      "\n",
      "It took my body 3-4 weeks to get used to Lyrica.  It did make me feel a little different \"high\" would probably be the best way to describe it.  I have since adjusted and have had no further side effects.\n",
      "\n",
      "\n",
      "A severe rash and I also had some swelling of my eye area.\n",
      "\n",
      "\n",
      "I was told by my doctor that this drug had \"no side effects\". I had swelling of my hands and face, lethargy, drugged feeling but when I ran out of it over a weekend and had to go 3 days without it I experienced severe withdrawal symptoms, itching, skin crawling, insomnia, etc so I quit taking it\n",
      "\n",
      "\n",
      "fatigue\r",
      "\r\n",
      "patient felt tired.  this helped patient to sleep but prevented an increase in dose.\n",
      "\n",
      "\n",
      "Some dizziness, balance, and memory issues.  Some days are fine, others are disconcerting but livable.\n",
      "\n",
      "\n",
      "The treatment side effects are somewhat severe.  The first dose I took almost immediately knocked me out!  I was so out of it, loopy, sleepy, etc. that all I could do is sit around and then go to sleep! It didn't get better after a couple of doses and I originally stopped taking it.  My doctor helped me build up a tolerance by stepping up the dosage over a week or so.  That limited the side effects but I still find that if I miss a dose by even a couple of hours, I start going through withdrawal and start feeling AWFUL!  I don't feel better until I get the dose!  That is somewhat scary to me and keeps me from trying a higher dose but the benefits of having a \"normal\" life outweigh the side effects and I dont' know of any safer options to do that.\n",
      "\n",
      "\n",
      "Constipation mainly.  I didn't gain or lose weight.  A little dry eyes and mouth.  I did have several colds the second year so it may have lowered my immunity.  These side affects was worth the benefits for me\n",
      "\n",
      "\n",
      "When I first started on the maximum dose of 300 mg twice a day I did experience dizziness,mild muscle twitching, short term memory problems and constipation.  The dizziness and muscle twitching did ease off after about 6 weeks but I still have constipation and seem to have difficulty remembering certain things.\n",
      "\n",
      "\n",
      "confusion, short term memory loss. It was like living in a fog.\n",
      "\n",
      "\n",
      "After taking Lyrica I developed tinnitus. I started hearing Morse code, music, and running water. I was also checked for ear problems and schizophrenia and the tests were negative. It did cause some drowsiness and made it hard to get up in the morning for the fist two or three weeks, but overall it has been a blessing. No weight gain either, although my doctor did warn me it could happen.\n",
      "\n",
      "\n"
     ]
    }
   ],
   "source": [
    "#print(df['urlDrugName'].unique())\n",
    "filter=df['urlDrugName']=='lyrica'\n",
    "clear_output(wait=True)\n",
    "for  item in df[filter]['sideEffectsReview']:\n",
    "    print(\"{}\\n\\n\".format(item))"
   ]
  },
  {
   "cell_type": "code",
   "execution_count": null,
   "metadata": {},
   "outputs": [],
   "source": []
  }
 ],
 "metadata": {
  "kernelspec": {
   "display_name": "Python 3",
   "language": "python",
   "name": "python3"
  },
  "language_info": {
   "codemirror_mode": {
    "name": "ipython",
    "version": 3
   },
   "file_extension": ".py",
   "mimetype": "text/x-python",
   "name": "python",
   "nbconvert_exporter": "python",
   "pygments_lexer": "ipython3",
   "version": "3.7.9"
  }
 },
 "nbformat": 4,
 "nbformat_minor": 4
}
