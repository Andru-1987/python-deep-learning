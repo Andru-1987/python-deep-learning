{
 "cells": [
  {
   "cell_type": "code",
   "execution_count": 2,
   "id": "323f0a66",
   "metadata": {},
   "outputs": [],
   "source": [
    "import os\n",
    "import openai\n",
    "\n"
   ]
  },
  {
   "cell_type": "code",
   "execution_count": 3,
   "id": "e0cc1414",
   "metadata": {},
   "outputs": [
    {
     "name": "stdout",
     "output_type": "stream",
     "text": [
      "?\n",
      "\n",
      "There are a few reasons why the dollar should be backed by gold or silver. One reason is that it can help to stabilize the economy. When the dollar is backed by a precious metal, it can be easier for the government to control the money supply and prevent hyperinflation. Another reason is that it can give people confidence in the currency. Having a backing can make people more likely to use the currency and less likely to hoard gold and silver.\n"
     ]
    }
   ],
   "source": [
    "f = open(\"OPENAI_API_KEY.env\", 'r')\n",
    "key = f.readline()\n",
    "f.close()\n",
    "#openai.api_key = os.getenv(\"OPENAI_API_KEY\")\n",
    "openai.api_key=key\n",
    "\n",
    "def gpt_chat(sText):\n",
    "    response = openai.Completion.create(\n",
    "      engine=\"text-davinci-001\",\n",
    "      prompt=sText,\n",
    "      temperature=0.7,\n",
    "      max_tokens=600,\n",
    "      top_p=1,\n",
    "      frequency_penalty=0.0,\n",
    "      presence_penalty=0.6,\n",
    "      stop=[\" Human:\", \" AI:\"]\n",
    "    )\n",
    "    content=response.choices[0].text.split('.')\n",
    "    #print(content)\n",
    "    return response.choices[0].text\n",
    "\n",
    "#sText=\"Human: Hi Louise, how are you?\\n You are very smart.\"\n",
    "#sText=\"Human: Louise why do people fear something going wrong while they are talking to another person\"\n",
    "#sText=\"Human: why should we let other tell us about their model of the world when communicating?\"\n",
    "sText=\"Human: Why should the dollar be backed by gold or silver\"\n",
    "print(gpt_chat(sText))\n"
   ]
  },
  {
   "cell_type": "code",
   "execution_count": null,
   "id": "4b718287",
   "metadata": {},
   "outputs": [],
   "source": []
  }
 ],
 "metadata": {
  "kernelspec": {
   "display_name": "Python 3 (ipykernel)",
   "language": "python",
   "name": "python3"
  },
  "language_info": {
   "codemirror_mode": {
    "name": "ipython",
    "version": 3
   },
   "file_extension": ".py",
   "mimetype": "text/x-python",
   "name": "python",
   "nbconvert_exporter": "python",
   "pygments_lexer": "ipython3",
   "version": "3.8.12"
  }
 },
 "nbformat": 4,
 "nbformat_minor": 5
}
