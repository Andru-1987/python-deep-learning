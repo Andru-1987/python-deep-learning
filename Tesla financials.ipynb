{
 "cells": [
  {
   "cell_type": "code",
   "execution_count": 1,
   "metadata": {},
   "outputs": [],
   "source": [
    "import pandas as pd"
   ]
  },
  {
   "cell_type": "code",
   "execution_count": 16,
   "metadata": {},
   "outputs": [
    {
     "name": "stdout",
     "output_type": "stream",
     "text": [
      "Index(['Unnamed: 0', 'metric', '2012-12', '2013-12', '2014-12', '2015-12',\n",
      "       '2016-12', 'TTM'],\n",
      "      dtype='object')\n",
      "    Unnamed: 0                                       metric  2012-12  2013-12  \\\n",
      "0            0                                      Revenue   413.00  2013.00   \n",
      "1            1                              Cost of revenue   383.00  1557.00   \n",
      "2            2                                 Gross profit    30.00   456.00   \n",
      "3            3                           Operating expenses      NaN      NaN   \n",
      "4            4                     Research and development   274.00   232.00   \n",
      "5            5            Sales, General and administrative   150.00   286.00   \n",
      "6            6                     Total operating expenses   424.00   518.00   \n",
      "7            7                             Operating income  -394.00   -61.00   \n",
      "8            8                             Interest Expense     0.00    33.00   \n",
      "9            9                       Other income (expense)    -2.00    23.00   \n",
      "10          10                          Income before taxes  -396.00   -71.00   \n",
      "11          11                   Provision for income taxes     0.00     3.00   \n",
      "12          12        Net income from continuing operations  -396.00   -74.00   \n",
      "13          13                                        Other      NaN      NaN   \n",
      "14          14                                   Net income  -396.00   -74.00   \n",
      "15          15  Net income available to common shareholders  -396.00   -74.00   \n",
      "16          16                           Earnings per share      NaN      NaN   \n",
      "17          17                                        Basic    -3.69    -0.62   \n",
      "18          18                                      Diluted    -3.69    -0.62   \n",
      "19          19          Weighted average shares outstanding      NaN      NaN   \n",
      "\n",
      "    2014-12  2015-12  2016-12       TTM  \n",
      "0   3198.00  4046.00  7000.00  10755.00  \n",
      "1   2317.00  3123.00  5401.00   8536.00  \n",
      "2    882.00   924.00  1599.00   2219.00  \n",
      "3       NaN      NaN      NaN       NaN  \n",
      "4    465.00   718.00   834.00   1269.00  \n",
      "5    604.00   922.00  1432.00   2250.00  \n",
      "6   1068.00  1640.00  2267.00   3520.00  \n",
      "7   -187.00  -717.00  -667.00  -1301.00  \n",
      "8    101.00   119.00   199.00    390.00  \n",
      "9      3.00   -40.00   120.00     53.00  \n",
      "10  -285.00  -876.00  -746.00  -1638.00  \n",
      "11     9.00    13.00    27.00     52.00  \n",
      "12  -294.00  -889.00  -773.00  -1689.00  \n",
      "13      NaN      NaN    98.00    282.00  \n",
      "14  -294.00  -889.00  -675.00  -1407.00  \n",
      "15  -294.00  -889.00  -675.00  -1407.00  \n",
      "16      NaN      NaN      NaN       NaN  \n",
      "17    -2.36    -6.93    -4.68     -8.54  \n",
      "18    -2.36    -6.93    -4.68     -8.54  \n",
      "19      NaN      NaN      NaN       NaN  \n"
     ]
    }
   ],
   "source": [
    "#df=pd.read_csv('https://raw.githubusercontent.com/gmineo/Financial-Forecasting-in-Python/main/F-Balance-Sheet.csv')\n",
    "#df.to_csv(\"tesla_balance_sheet.csv\")\n",
    "\n",
    "#pd.read_csv(\"https://raw.githubusercontent.com/gmineo/Financial-Forecasting-in-Python/main/TSLA-Income-Statement.csv\")\n",
    "#df.to_csv(\"tesla_income_statement.csv\")\n",
    "\n",
    "   \n",
    "income_statement_df=pd.read_csv(\"tesla_income_statement.csv\")\n",
    "print(income_statement_df.columns)\n",
    "print(income_statement_df.head(20))"
   ]
  },
  {
   "cell_type": "code",
   "execution_count": 18,
   "metadata": {},
   "outputs": [
    {
     "name": "stdout",
     "output_type": "stream",
     "text": [
      "    Unnamed: 0        metric  2012-12  2013-12  2014-12  2015-12  2016-12  \\\n",
      "2            2  Gross profit     30.0    456.0    882.0    924.0   1599.0   \n",
      "14          14    Net income   -396.0    -74.0   -294.0   -889.0   -675.0   \n",
      "\n",
      "       TTM  \n",
      "2   2219.0  \n",
      "14 -1407.0  \n"
     ]
    }
   ],
   "source": [
    "interesting_metrics=['Gross profit','Net income']\n",
    "\n",
    "filter =income_statement_df.metric.isin(interesting_metrics)\n",
    "\n",
    "filtered_income_statement=income_statement_df[filter]\n",
    "\n",
    "print(filtered_income_statement.head())"
   ]
  },
  {
   "cell_type": "code",
   "execution_count": null,
   "metadata": {},
   "outputs": [],
   "source": []
  }
 ],
 "metadata": {
  "kernelspec": {
   "display_name": "Python 3",
   "language": "python",
   "name": "python3"
  },
  "language_info": {
   "codemirror_mode": {
    "name": "ipython",
    "version": 3
   },
   "file_extension": ".py",
   "mimetype": "text/x-python",
   "name": "python",
   "nbconvert_exporter": "python",
   "pygments_lexer": "ipython3",
   "version": "3.7.9"
  }
 },
 "nbformat": 4,
 "nbformat_minor": 4
}
