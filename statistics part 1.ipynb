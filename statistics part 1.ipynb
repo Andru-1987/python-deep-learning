{
 "cells": [
  {
   "cell_type": "code",
   "execution_count": 37,
   "metadata": {},
   "outputs": [],
   "source": [
    "import numpy as np\n",
    "import matplotlib.pyplot as plt"
   ]
  },
  {
   "cell_type": "code",
   "execution_count": 24,
   "metadata": {},
   "outputs": [
    {
     "name": "stdout",
     "output_type": "stream",
     "text": [
      "heads\n",
      "tails\n",
      "tails\n",
      "tails\n",
      "heads\n",
      "heads\n",
      "heads\n",
      "tails\n",
      "tails\n",
      "tails\n",
      "6\n",
      "4\n"
     ]
    }
   ],
   "source": [
    "\n",
    "np.random.seed(42)\n",
    "tails=0\n",
    "heads=0\n",
    "\n",
    "for i in np.arange(0,10,1):\n",
    "    flip=np.random.random()\n",
    "    if flip>=0.5:\n",
    "        print('tails')\n",
    "        tails=tails+1\n",
    "    else:\n",
    "        print('heads')\n",
    "        heads=heads+1\n",
    "        \n",
    "print(tails)\n",
    "print(heads)"
   ]
  },
  {
   "cell_type": "code",
   "execution_count": 29,
   "metadata": {},
   "outputs": [
    {
     "data": {
      "text/plain": [
       "0.0625"
      ]
     },
     "execution_count": 29,
     "metadata": {},
     "output_type": "execute_result"
    }
   ],
   "source": [
    "n_all_heads=0\n",
    "\n",
    "for _ in np.arange(1,10000):\n",
    "    heads=np.random.random(size=4) <0.5\n",
    "    n_heads=np.sum(heads)\n",
    "    if n_heads==4:\n",
    "        n_all_heads+=1\n",
    "\n",
    "n_all_heads/10000"
   ]
  },
  {
   "cell_type": "code",
   "execution_count": 44,
   "metadata": {},
   "outputs": [
    {
     "name": "stderr",
     "output_type": "stream",
     "text": [
      "C:\\Users\\dnishimoto.BOISE\\AppData\\Local\\Continuum\\anaconda3\\envs\\deeplearning\\lib\\site-packages\\ipykernel_launcher.py:44: MatplotlibDeprecationWarning: \n",
      "The 'normed' kwarg was deprecated in Matplotlib 2.1 and will be removed in 3.1. Use 'density' instead.\n"
     ]
    },
    {
     "data": {
      "image/png": "[encoded data removed]",
      "text/plain": [
       "<Figure size 432x288 with 1 Axes>"
      ]
     },
     "metadata": {
      "needs_background": "light"
     },
     "output_type": "display_data"
    },
    {
     "data": {
      "image/png": "[encoded data removed]",
      "text/plain": [
       "<Figure size 432x288 with 1 Axes>"
      ]
     },
     "metadata": {
      "needs_background": "light"
     },
     "output_type": "display_data"
    },
    {
     "name": "stdout",
     "output_type": "stream",
     "text": [
      "Probability of losing money = 0.782\n"
     ]
    }
   ],
   "source": [
    "def ecdf(data):\n",
    "    #Compute ECDF for a one-dimensional array of measurements.\n",
    "    # Number of data points: n\n",
    "    n =len(data)\n",
    "\n",
    "    # x-data for the ECDF: x\n",
    "    x = np.sort(data)\n",
    "\n",
    "    # y-data for the ECDF: y\n",
    "    y = np.arange(1,n+1) / n\n",
    "\n",
    "    return x, y\n",
    "\n",
    "def perform_bernoulli_trials(n, p):\n",
    "    #Perform n Bernoulli trials with success probability p   and return number of successes.\n",
    "    # Initialize number of successes: n_success\n",
    "    n_success = 0\n",
    "\n",
    "    # Perform trials\n",
    "    for i in np.arange(n):\n",
    "        # Choose random number between zero and one: random_number\n",
    "        random_number = np.random.random()\n",
    "\n",
    "        # If less than p, it's a success  so add one to n_success\n",
    "        if random_number < p:\n",
    "            n_success += 1\n",
    "\n",
    "    return n_success\n",
    "\n",
    "# Seed random number generator\n",
    "np.random.seed(42)\n",
    "\n",
    "# Initialize the number of defaults: n_defaults\n",
    "\n",
    "n_defaults=np.empty(1000)\n",
    "# Compute the number of defaults\n",
    "for i in np.arange(1000):\n",
    "    n_defaults[i] = perform_bernoulli_trials(100,0.12)\n",
    "\n",
    "\n",
    "# Plot the histogram with default number of bins; label your axes\n",
    "plt.clf()\n",
    "_ = plt.hist(n_defaults, normed=True)\n",
    "_ = plt.xlabel('number of defaults out of 100 loans')\n",
    "_ = plt.ylabel('probability')\n",
    "\n",
    "# Show the plot\n",
    "plt.show()\n",
    "\n",
    "x,y=ecdf(n_defaults)\n",
    "# Plot the ECDF with labeled axes\n",
    "\n",
    "plt.clf()\n",
    "_=plt.plot(x,y,marker='.', linestyle='none')\n",
    "_=plt.xlabel('Bank Defaults')\n",
    "_=plt.ylabel('ECDF')\n",
    "\n",
    "\n",
    "# Show the plot\n",
    "\n",
    "plt.show()\n",
    "\n",
    "# Compute the number of 100-loan simulations with 10 or more defaults: n_lose_money\n",
    "\n",
    "n_lose_money = np.sum(n_defaults >= 10)\n",
    "\n",
    "# Compute and print probability of losing money\n",
    "print('Probability of losing money =', n_lose_money / len(n_defaults))\n",
    "\n",
    "\n"
   ]
  },
  {
   "cell_type": "code",
   "execution_count": null,
   "metadata": {},
   "outputs": [],
   "source": []
  }
 ],
 "metadata": {
  "kernelspec": {
   "display_name": "Python 3",
   "language": "python",
   "name": "python3"
  },
  "language_info": {
   "codemirror_mode": {
    "name": "ipython",
    "version": 3
   },
   "file_extension": ".py",
   "mimetype": "text/x-python",
   "name": "python",
   "nbconvert_exporter": "python",
   "pygments_lexer": "ipython3",
   "version": "3.7.7"
  }
 },
 "nbformat": 4,
 "nbformat_minor": 4
}
