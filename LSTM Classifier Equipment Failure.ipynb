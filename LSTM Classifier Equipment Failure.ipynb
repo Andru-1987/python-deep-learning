{
 "cells": [
  {
   "cell_type": "code",
   "execution_count": 51,
   "id": "6b6aefee",
   "metadata": {},
   "outputs": [],
   "source": [
    "import pandas as pd\n",
    "from keras.models import Sequential\n",
    "from tensorflow.keras import layers\n",
    "from tensorflow.keras.layers import Dropout\n",
    "from keras.layers import LSTM, Dense,Flatten\n",
    "import numpy as np\n",
    "from sklearn.preprocessing import LabelEncoder\n",
    "from sklearn.model_selection import train_test_split"
   ]
  },
  {
   "cell_type": "code",
   "execution_count": 3,
   "id": "9e8f3697",
   "metadata": {},
   "outputs": [],
   "source": [
    "#df_failures=pd.read_csv(\"https://raw.githubusercontent.com/ashishpatel26/Predictive_Maintenance_using_Machine-Learning_Microsoft_Casestudy/master/data/PdM_failures.csv\")\n",
    "#df_machines=pd.read_csv(\"https://raw.githubusercontent.com/ashishpatel26/Predictive_Maintenance_using_Machine-Learning_Microsoft_Casestudy/master/data/PdM_machines.csv\")\n",
    "#df_telemetry=pd.read_csv(\"https://raw.githubusercontent.com/ashishpatel26/Predictive_Maintenance_using_Machine-Learning_Microsoft_Casestudy/master/data/PdM_telemetry.csv\")\n",
    "\n",
    "#df_failures.to_csv('equipment_failures.csv')\n",
    "#df_machines.to_csv('equipment_machines.csv')\n",
    "#df_telemetry.to_csv('equipment_telemetry.csv')"
   ]
  },
  {
   "cell_type": "code",
   "execution_count": 4,
   "id": "1f482b28",
   "metadata": {},
   "outputs": [],
   "source": [
    "df_failures=pd.read_csv('equipment_failures.csv')\n",
    "df_machines=pd.read_csv('equipment_machines.csv')\n",
    "df_telemetry=pd.read_csv('equipment_telemetry.csv')"
   ]
  },
  {
   "cell_type": "code",
   "execution_count": 29,
   "id": "de0cf28d",
   "metadata": {},
   "outputs": [
    {
     "name": "stdout",
     "output_type": "stream",
     "text": [
      "         0  1  2  3\n",
      "0        0  0  0  1\n",
      "1        0  0  0  1\n",
      "2        0  0  0  1\n",
      "3        0  0  0  1\n",
      "4        0  0  0  1\n",
      "...     .. .. .. ..\n",
      "6667116  0  1  0  0\n",
      "6667117  0  1  0  0\n",
      "6667118  0  1  0  0\n",
      "6667119  0  1  0  0\n",
      "6667120  0  1  0  0\n",
      "\n",
      "[6667121 rows x 4 columns]\n",
      "Index(['index', 'machineID', 'label', 'model', 'age', 'volt', 'rotate',\n",
      "       'pressure', 'vibration'],\n",
      "      dtype='object')\n",
      "   index  machineID  label  model  age        volt      rotate    pressure  \\\n",
      "0      0          1      3      2   18  176.217853  418.504078  113.077935   \n",
      "\n",
      "   vibration  \n",
      "0  45.087686  \n"
     ]
    }
   ],
   "source": [
    "#print(df_failures.head(1))\n",
    "#print(df_machines.head(1))\n",
    "#print(df_telemetry.head(1))\n",
    "df=pd.merge(df_failures,df_machines, on=\"machineID\")\n",
    "df=pd.merge(df,df_telemetry,on=\"machineID\")\n",
    "\n",
    "df.drop([\"Unnamed: 0\",\"Unnamed: 0_x\",\"Unnamed: 0_y\",\"datetime_y\",\"datetime_x\"],axis=1,inplace=True)\n",
    "df.reset_index(inplace=True)\n",
    "df.rename(columns={\"failure\":\"label\"},inplace=True)\n",
    "\n",
    "failure_types=set(df['label'])\n",
    "#print(failure_types)\n",
    "\n",
    "encoder=LabelEncoder()\n",
    "df['label']=encoder.fit_transform(df['label'])\n",
    "df['model']=encoder.fit_transform(df['model'])\n",
    "\n",
    "X_columns=[x for x in df.columns if x!='label']\n",
    "\n",
    "X=df[X_columns]\n",
    "#X = np.asarray(X).astype(np.float32)\n",
    "y=df['label']\n",
    "#y = np.asarray(y).astype(np.float32)\n",
    "y = pd.get_dummies(y)\n",
    "print(y)\n",
    "\n",
    "print(df.columns)\n",
    "print(df.head(1))"
   ]
  },
  {
   "cell_type": "code",
   "execution_count": 66,
   "id": "d11d1b81",
   "metadata": {},
   "outputs": [],
   "source": [
    "X_train, X_test, y_train, y_test = train_test_split( X, y, test_size=0.33, random_state=42)\n",
    "#X_train = np.asarray(X_train).astype(np.float32)\n",
    "#y_train = np.asarray(y_train).astype(np.float32)"
   ]
  },
  {
   "cell_type": "code",
   "execution_count": 67,
   "id": "60d08c4b",
   "metadata": {},
   "outputs": [],
   "source": [
    "model = Sequential()\n",
    "#model.add(LSTM(200, activation='tanh', return_sequences=True,input_shape=(1, features)))\n",
    "model.add(LSTM(200, return_sequences=True,input_shape = (X_train.shape[0],X_train.shape[1])))\n",
    "model.add(Dropout(0.2))\n",
    "model.add(LSTM(units = 50, return_sequences = True))\n",
    "model.add(Dropout(0.2))\n",
    "model.add(LSTM(units = 50))\n",
    "#model.add(Flatten())\n",
    "model.add(Dense(len(y.columns),activation='softmax'))\n",
    "history=model.compile(optimizer=\"rmsprop\", loss='categorical_crossentropy', metrics=['accuracy'])"
   ]
  },
  {
   "cell_type": "code",
   "execution_count": 68,
   "id": "968aa1b8",
   "metadata": {},
   "outputs": [
    {
     "name": "stdout",
     "output_type": "stream",
     "text": [
      "Epoch 1/10\n"
     ]
    },
    {
     "ename": "ValueError",
     "evalue": "in user code:\n\n    File \"C:\\Users\\dnishimoto\\Anaconda3\\envs\\deeplearning\\lib\\site-packages\\keras\\engine\\training.py\", line 1051, in train_function  *\n        return step_function(self, iterator)\n    File \"C:\\Users\\dnishimoto\\Anaconda3\\envs\\deeplearning\\lib\\site-packages\\keras\\engine\\training.py\", line 1040, in step_function  **\n        outputs = model.distribute_strategy.run(run_step, args=(data,))\n    File \"C:\\Users\\dnishimoto\\Anaconda3\\envs\\deeplearning\\lib\\site-packages\\keras\\engine\\training.py\", line 1030, in run_step  **\n        outputs = model.train_step(data)\n    File \"C:\\Users\\dnishimoto\\Anaconda3\\envs\\deeplearning\\lib\\site-packages\\keras\\engine\\training.py\", line 889, in train_step\n        y_pred = self(x, training=True)\n    File \"C:\\Users\\dnishimoto\\Anaconda3\\envs\\deeplearning\\lib\\site-packages\\keras\\utils\\traceback_utils.py\", line 67, in error_handler\n        raise e.with_traceback(filtered_tb) from None\n    File \"C:\\Users\\dnishimoto\\Anaconda3\\envs\\deeplearning\\lib\\site-packages\\keras\\engine\\input_spec.py\", line 264, in assert_input_compatibility\n        raise ValueError(f'Input {input_index} of layer \"{layer_name}\" is '\n\n    ValueError: Input 0 of layer \"sequential_21\" is incompatible with the layer: expected shape=(None, 4466971, 8), found shape=(None, 8)\n",
     "output_type": "error",
     "traceback": [
      "\u001b[1;31m---------------------------------------------------------------------------\u001b[0m",
      "\u001b[1;31mValueError\u001b[0m                                Traceback (most recent call last)",
      "Input \u001b[1;32mIn [68]\u001b[0m, in \u001b[0;36m<cell line: 2>\u001b[1;34m()\u001b[0m\n\u001b[0;32m      1\u001b[0m \u001b[38;5;66;03m#X_train = np.resize(X_train,(X_train.shape[0],1,X_train.shape[1]))\u001b[39;00m\n\u001b[1;32m----> 2\u001b[0m \u001b[43mmodel\u001b[49m\u001b[38;5;241;43m.\u001b[39;49m\u001b[43mfit\u001b[49m\u001b[43m(\u001b[49m\u001b[43mX_train\u001b[49m\u001b[43m,\u001b[49m\u001b[43my_train\u001b[49m\u001b[43m,\u001b[49m\u001b[43mepochs\u001b[49m\u001b[38;5;241;43m=\u001b[39;49m\u001b[38;5;241;43m10\u001b[39;49m\u001b[43m)\u001b[49m\n",
      "File \u001b[1;32m~\\Anaconda3\\envs\\deeplearning\\lib\\site-packages\\keras\\utils\\traceback_utils.py:67\u001b[0m, in \u001b[0;36mfilter_traceback.<locals>.error_handler\u001b[1;34m(*args, **kwargs)\u001b[0m\n\u001b[0;32m     65\u001b[0m \u001b[38;5;28;01mexcept\u001b[39;00m \u001b[38;5;167;01mException\u001b[39;00m \u001b[38;5;28;01mas\u001b[39;00m e:  \u001b[38;5;66;03m# pylint: disable=broad-except\u001b[39;00m\n\u001b[0;32m     66\u001b[0m   filtered_tb \u001b[38;5;241m=\u001b[39m _process_traceback_frames(e\u001b[38;5;241m.\u001b[39m__traceback__)\n\u001b[1;32m---> 67\u001b[0m   \u001b[38;5;28;01mraise\u001b[39;00m e\u001b[38;5;241m.\u001b[39mwith_traceback(filtered_tb) \u001b[38;5;28;01mfrom\u001b[39;00m \u001b[38;5;28mNone\u001b[39m\n\u001b[0;32m     68\u001b[0m \u001b[38;5;28;01mfinally\u001b[39;00m:\n\u001b[0;32m     69\u001b[0m   \u001b[38;5;28;01mdel\u001b[39;00m filtered_tb\n",
      "File \u001b[1;32mC:\\Users\\DNISHI~1\\AppData\\Local\\Temp\\__autograph_generated_file8xwz9k6y.py:15\u001b[0m, in \u001b[0;36mouter_factory.<locals>.inner_factory.<locals>.tf__train_function\u001b[1;34m(iterator)\u001b[0m\n\u001b[0;32m     13\u001b[0m \u001b[38;5;28;01mtry\u001b[39;00m:\n\u001b[0;32m     14\u001b[0m     do_return \u001b[38;5;241m=\u001b[39m \u001b[38;5;28;01mTrue\u001b[39;00m\n\u001b[1;32m---> 15\u001b[0m     retval_ \u001b[38;5;241m=\u001b[39m ag__\u001b[38;5;241m.\u001b[39mconverted_call(ag__\u001b[38;5;241m.\u001b[39mld(step_function), (ag__\u001b[38;5;241m.\u001b[39mld(\u001b[38;5;28mself\u001b[39m), ag__\u001b[38;5;241m.\u001b[39mld(iterator)), \u001b[38;5;28;01mNone\u001b[39;00m, fscope)\n\u001b[0;32m     16\u001b[0m \u001b[38;5;28;01mexcept\u001b[39;00m:\n\u001b[0;32m     17\u001b[0m     do_return \u001b[38;5;241m=\u001b[39m \u001b[38;5;28;01mFalse\u001b[39;00m\n",
      "\u001b[1;31mValueError\u001b[0m: in user code:\n\n    File \"C:\\Users\\dnishimoto\\Anaconda3\\envs\\deeplearning\\lib\\site-packages\\keras\\engine\\training.py\", line 1051, in train_function  *\n        return step_function(self, iterator)\n    File \"C:\\Users\\dnishimoto\\Anaconda3\\envs\\deeplearning\\lib\\site-packages\\keras\\engine\\training.py\", line 1040, in step_function  **\n        outputs = model.distribute_strategy.run(run_step, args=(data,))\n    File \"C:\\Users\\dnishimoto\\Anaconda3\\envs\\deeplearning\\lib\\site-packages\\keras\\engine\\training.py\", line 1030, in run_step  **\n        outputs = model.train_step(data)\n    File \"C:\\Users\\dnishimoto\\Anaconda3\\envs\\deeplearning\\lib\\site-packages\\keras\\engine\\training.py\", line 889, in train_step\n        y_pred = self(x, training=True)\n    File \"C:\\Users\\dnishimoto\\Anaconda3\\envs\\deeplearning\\lib\\site-packages\\keras\\utils\\traceback_utils.py\", line 67, in error_handler\n        raise e.with_traceback(filtered_tb) from None\n    File \"C:\\Users\\dnishimoto\\Anaconda3\\envs\\deeplearning\\lib\\site-packages\\keras\\engine\\input_spec.py\", line 264, in assert_input_compatibility\n        raise ValueError(f'Input {input_index} of layer \"{layer_name}\" is '\n\n    ValueError: Input 0 of layer \"sequential_21\" is incompatible with the layer: expected shape=(None, 4466971, 8), found shape=(None, 8)\n"
     ]
    }
   ],
   "source": [
    "#X_train = np.resize(X_train,(X_train.shape[0],1,X_train.shape[1]))\n",
    "model.fit(X_train,y_train,epochs=10)"
   ]
  },
  {
   "cell_type": "code",
   "execution_count": 14,
   "id": "ec9e6549",
   "metadata": {
    "scrolled": true
   },
   "outputs": [
    {
     "name": "stdout",
     "output_type": "stream",
     "text": [
      "0\n",
      "1682112 1 1\n",
      "X:\n",
      " [[[  1.         2.        18.       ... 418.5041   113.077934  45.087685]]\n",
      "\n",
      " [[  1.         2.        18.       ... 402.7475    95.460526  43.41397 ]]\n",
      "\n",
      " [[  1.         2.        18.       ... 527.34985   75.23791   34.17885 ]]\n",
      "\n",
      " ...\n",
      "\n",
      " [[100.         3.         5.       ... 447.81653   94.132835  48.31456 ]]\n",
      "\n",
      " [[100.         3.         5.       ... 413.77167  104.08107   44.83526 ]]\n",
      "\n",
      " [[100.         3.         5.       ... 496.09686   79.095535  37.845245]]]\n",
      "Epoch 1/10\n"
     ]
    },
    {
     "ename": "ValueError",
     "evalue": "in user code:\n\n    File \"C:\\Users\\dnishimoto\\Anaconda3\\envs\\deeplearning\\lib\\site-packages\\keras\\engine\\training.py\", line 1051, in train_function  *\n        return step_function(self, iterator)\n    File \"C:\\Users\\dnishimoto\\Anaconda3\\envs\\deeplearning\\lib\\site-packages\\keras\\engine\\training.py\", line 1040, in step_function  **\n        outputs = model.distribute_strategy.run(run_step, args=(data,))\n    File \"C:\\Users\\dnishimoto\\Anaconda3\\envs\\deeplearning\\lib\\site-packages\\keras\\engine\\training.py\", line 1030, in run_step  **\n        outputs = model.train_step(data)\n    File \"C:\\Users\\dnishimoto\\Anaconda3\\envs\\deeplearning\\lib\\site-packages\\keras\\engine\\training.py\", line 890, in train_step\n        loss = self.compute_loss(x, y, y_pred, sample_weight)\n    File \"C:\\Users\\dnishimoto\\Anaconda3\\envs\\deeplearning\\lib\\site-packages\\keras\\engine\\training.py\", line 948, in compute_loss\n        return self.compiled_loss(\n    File \"C:\\Users\\dnishimoto\\Anaconda3\\envs\\deeplearning\\lib\\site-packages\\keras\\engine\\compile_utils.py\", line 201, in __call__\n        loss_value = loss_obj(y_t, y_p, sample_weight=sw)\n    File \"C:\\Users\\dnishimoto\\Anaconda3\\envs\\deeplearning\\lib\\site-packages\\keras\\losses.py\", line 139, in __call__\n        losses = call_fn(y_true, y_pred)\n    File \"C:\\Users\\dnishimoto\\Anaconda3\\envs\\deeplearning\\lib\\site-packages\\keras\\losses.py\", line 243, in call  **\n        return ag_fn(y_true, y_pred, **self._fn_kwargs)\n    File \"C:\\Users\\dnishimoto\\Anaconda3\\envs\\deeplearning\\lib\\site-packages\\keras\\losses.py\", line 1787, in categorical_crossentropy\n        return backend.categorical_crossentropy(\n    File \"C:\\Users\\dnishimoto\\Anaconda3\\envs\\deeplearning\\lib\\site-packages\\keras\\backend.py\", line 5119, in categorical_crossentropy\n        target.shape.assert_is_compatible_with(output.shape)\n\n    ValueError: Shapes (1682112, 1) and (1682112, 4) are incompatible\n",
     "output_type": "error",
     "traceback": [
      "\u001b[1;31m---------------------------------------------------------------------------\u001b[0m",
      "\u001b[1;31mValueError\u001b[0m                                Traceback (most recent call last)",
      "Input \u001b[1;32mIn [14]\u001b[0m, in \u001b[0;36m<cell line: 7>\u001b[1;34m()\u001b[0m\n\u001b[0;32m     22\u001b[0m y \u001b[38;5;241m=\u001b[39m np\u001b[38;5;241m.\u001b[39masarray(y)\u001b[38;5;241m.\u001b[39mastype(np\u001b[38;5;241m.\u001b[39mfloat32)\n\u001b[0;32m     23\u001b[0m \u001b[38;5;66;03m#y=df_batch['label'].apply(lambda x: 1 if x==1 else 0)\u001b[39;00m\n\u001b[1;32m---> 25\u001b[0m \u001b[43mmodel\u001b[49m\u001b[38;5;241;43m.\u001b[39;49m\u001b[43mfit\u001b[49m\u001b[43m(\u001b[49m\u001b[43mX\u001b[49m\u001b[43m,\u001b[49m\u001b[43my\u001b[49m\u001b[43m,\u001b[49m\u001b[43mbatch_size\u001b[49m\u001b[38;5;241;43m=\u001b[39;49m\u001b[38;5;28;43mlen\u001b[39;49m\u001b[43m(\u001b[49m\u001b[43mX\u001b[49m\u001b[43m)\u001b[49m\u001b[43m,\u001b[49m\u001b[43mepochs\u001b[49m\u001b[38;5;241;43m=\u001b[39;49m\u001b[38;5;241;43m10\u001b[39;49m\u001b[43m)\u001b[49m\n",
      "File \u001b[1;32m~\\Anaconda3\\envs\\deeplearning\\lib\\site-packages\\keras\\utils\\traceback_utils.py:67\u001b[0m, in \u001b[0;36mfilter_traceback.<locals>.error_handler\u001b[1;34m(*args, **kwargs)\u001b[0m\n\u001b[0;32m     65\u001b[0m \u001b[38;5;28;01mexcept\u001b[39;00m \u001b[38;5;167;01mException\u001b[39;00m \u001b[38;5;28;01mas\u001b[39;00m e:  \u001b[38;5;66;03m# pylint: disable=broad-except\u001b[39;00m\n\u001b[0;32m     66\u001b[0m   filtered_tb \u001b[38;5;241m=\u001b[39m _process_traceback_frames(e\u001b[38;5;241m.\u001b[39m__traceback__)\n\u001b[1;32m---> 67\u001b[0m   \u001b[38;5;28;01mraise\u001b[39;00m e\u001b[38;5;241m.\u001b[39mwith_traceback(filtered_tb) \u001b[38;5;28;01mfrom\u001b[39;00m \u001b[38;5;28mNone\u001b[39m\n\u001b[0;32m     68\u001b[0m \u001b[38;5;28;01mfinally\u001b[39;00m:\n\u001b[0;32m     69\u001b[0m   \u001b[38;5;28;01mdel\u001b[39;00m filtered_tb\n",
      "File \u001b[1;32mC:\\Users\\DNISHI~1\\AppData\\Local\\Temp\\__autograph_generated_file8xwz9k6y.py:15\u001b[0m, in \u001b[0;36mouter_factory.<locals>.inner_factory.<locals>.tf__train_function\u001b[1;34m(iterator)\u001b[0m\n\u001b[0;32m     13\u001b[0m \u001b[38;5;28;01mtry\u001b[39;00m:\n\u001b[0;32m     14\u001b[0m     do_return \u001b[38;5;241m=\u001b[39m \u001b[38;5;28;01mTrue\u001b[39;00m\n\u001b[1;32m---> 15\u001b[0m     retval_ \u001b[38;5;241m=\u001b[39m ag__\u001b[38;5;241m.\u001b[39mconverted_call(ag__\u001b[38;5;241m.\u001b[39mld(step_function), (ag__\u001b[38;5;241m.\u001b[39mld(\u001b[38;5;28mself\u001b[39m), ag__\u001b[38;5;241m.\u001b[39mld(iterator)), \u001b[38;5;28;01mNone\u001b[39;00m, fscope)\n\u001b[0;32m     16\u001b[0m \u001b[38;5;28;01mexcept\u001b[39;00m:\n\u001b[0;32m     17\u001b[0m     do_return \u001b[38;5;241m=\u001b[39m \u001b[38;5;28;01mFalse\u001b[39;00m\n",
      "\u001b[1;31mValueError\u001b[0m: in user code:\n\n    File \"C:\\Users\\dnishimoto\\Anaconda3\\envs\\deeplearning\\lib\\site-packages\\keras\\engine\\training.py\", line 1051, in train_function  *\n        return step_function(self, iterator)\n    File \"C:\\Users\\dnishimoto\\Anaconda3\\envs\\deeplearning\\lib\\site-packages\\keras\\engine\\training.py\", line 1040, in step_function  **\n        outputs = model.distribute_strategy.run(run_step, args=(data,))\n    File \"C:\\Users\\dnishimoto\\Anaconda3\\envs\\deeplearning\\lib\\site-packages\\keras\\engine\\training.py\", line 1030, in run_step  **\n        outputs = model.train_step(data)\n    File \"C:\\Users\\dnishimoto\\Anaconda3\\envs\\deeplearning\\lib\\site-packages\\keras\\engine\\training.py\", line 890, in train_step\n        loss = self.compute_loss(x, y, y_pred, sample_weight)\n    File \"C:\\Users\\dnishimoto\\Anaconda3\\envs\\deeplearning\\lib\\site-packages\\keras\\engine\\training.py\", line 948, in compute_loss\n        return self.compiled_loss(\n    File \"C:\\Users\\dnishimoto\\Anaconda3\\envs\\deeplearning\\lib\\site-packages\\keras\\engine\\compile_utils.py\", line 201, in __call__\n        loss_value = loss_obj(y_t, y_p, sample_weight=sw)\n    File \"C:\\Users\\dnishimoto\\Anaconda3\\envs\\deeplearning\\lib\\site-packages\\keras\\losses.py\", line 139, in __call__\n        losses = call_fn(y_true, y_pred)\n    File \"C:\\Users\\dnishimoto\\Anaconda3\\envs\\deeplearning\\lib\\site-packages\\keras\\losses.py\", line 243, in call  **\n        return ag_fn(y_true, y_pred, **self._fn_kwargs)\n    File \"C:\\Users\\dnishimoto\\Anaconda3\\envs\\deeplearning\\lib\\site-packages\\keras\\losses.py\", line 1787, in categorical_crossentropy\n        return backend.categorical_crossentropy(\n    File \"C:\\Users\\dnishimoto\\Anaconda3\\envs\\deeplearning\\lib\\site-packages\\keras\\backend.py\", line 5119, in categorical_crossentropy\n        target.shape.assert_is_compatible_with(output.shape)\n\n    ValueError: Shapes (1682112, 1) and (1682112, 4) are incompatible\n"
     ]
    }
   ],
   "source": [
    "#grouped=df.groupby(\"label\")\n",
    "#batch_all_columns=['machineID',  'model', 'age', 'volt','rotate', 'pressure', 'vibration','label']\n",
    "#batch_x_columns=['machineID',  'model', 'age', 'volt','rotate', 'pressure', 'vibration']\n",
    "\n",
    "\n",
    "\n",
    "#print(X_columns)\n",
    "#print(df[X_columns].head(10))\n",
    "#print(pd.get_dummies(df['label']).head(10))\n",
    "#for machineID in grouped:\n",
    "#    label=machineID[0]\n",
    "#    print(label)\n",
    "#    df_batch=pd.DataFrame(columns=[batch_all_columns])\n",
    "#    filter=df['label']==label\n",
    "#    df_batch=pd.concat([df[filter][batch_all_columns],df_batch],ignore_index=True)\n",
    "    #print(df_batch.columns)\n",
    "    #df_batch.reset_index(inplace=True)\n",
    "#    X=df_batch[batch_x_columns]\n",
    "#    X = np.asarray(X).astype(np.float32)\n",
    "#    X = np.resize(X,(X.shape[0],1,X.shape[1]))\n",
    "#    y=df_batch['label']\n",
    "#    print(X.shape[0],1,X.shape[1])\n",
    "#    print(\"X:\\n\",X)\n",
    "#    y=pd.get_dummies(df_batch['label'])\n",
    "#   y = np.asarray(y).astype(np.float32)\n",
    "    #y=df_batch['label'].apply(lambda x: 1 if x==1 else 0)\n",
    "    \n",
    "#    model.fit(X,y,batch_size=len(X),epochs=10)    \n",
    "    #model.fit(X,y,epochs=10)    "
   ]
  },
  {
   "cell_type": "code",
   "execution_count": null,
   "id": "479730c1",
   "metadata": {},
   "outputs": [],
   "source": [
    "X=df[X_columns]\n",
    "X = np.resize(X,(X.shape[0],1,X.shape[1]))\n",
    "y_pred=model.predict(X)\n",
    "print(y_pred)\n",
    "print(history)"
   ]
  },
  {
   "cell_type": "code",
   "execution_count": null,
   "id": "c6ba13b7",
   "metadata": {},
   "outputs": [],
   "source": []
  }
 ],
 "metadata": {
  "kernelspec": {
   "display_name": "Python 3 (ipykernel)",
   "language": "python",
   "name": "python3"
  },
  "language_info": {
   "codemirror_mode": {
    "name": "ipython",
    "version": 3
   },
   "file_extension": ".py",
   "mimetype": "text/x-python",
   "name": "python",
   "nbconvert_exporter": "python",
   "pygments_lexer": "ipython3",
   "version": "3.8.13"
  }
 },
 "nbformat": 4,
 "nbformat_minor": 5
}
