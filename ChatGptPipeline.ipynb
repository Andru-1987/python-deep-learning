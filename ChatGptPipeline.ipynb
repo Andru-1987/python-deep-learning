{
 "cells": [
  {
   "cell_type": "code",
   "execution_count": 120,
   "id": "b55e8b53",
   "metadata": {},
   "outputs": [],
   "source": [
    "import openai\n",
    "import pandas as pd\n",
    "from PyPDF2 import PdfReader \n",
    "#import pdftotext\n",
    "import re\n",
    "from bs4 import BeautifulSoup\n",
    "import csv\n"
   ]
  },
  {
   "cell_type": "code",
   "execution_count": 121,
   "id": "4d811671",
   "metadata": {},
   "outputs": [],
   "source": [
    "def extract_paragraphs(html_content):\n",
    "    # Create a BeautifulSoup object with the HTML content\n",
    "    soup = BeautifulSoup(html_content, 'html.parser')\n",
    "    \n",
    "    # Find all paragraph tags in the HTML document\n",
    "    paragraphs = soup.find_all('p')\n",
    "    \n",
    "    # Extract the text from each paragraph and store it in a list\n",
    "    extracted_paragraphs = [paragraph.get_text() for paragraph in paragraphs]\n",
    "    \n",
    "    return extracted_paragraphs\n",
    "\n",
    "\n",
    "\n"
   ]
  },
  {
   "cell_type": "code",
   "execution_count": 139,
   "id": "fed6cb29",
   "metadata": {},
   "outputs": [
    {
     "ename": "IndentationError",
     "evalue": "unindent does not match any outer indentation level (<tokenize>, line 54)",
     "output_type": "error",
     "traceback": [
      "\u001b[1;36m  File \u001b[1;32m\"<tokenize>\"\u001b[1;36m, line \u001b[1;32m54\u001b[0m\n\u001b[1;33m    line = f\"{{\\\"messages\\\": [{{\\\"role\\\":\\\"system\\\",\\\"content\\\":\\\"Your are Lousie, the super smart ai expert\\\"}},{{\\\"role\\\":\\\"user\\\",\\\"content\\\":\\\"{str(key)}\\\"}},{{\\\"role\\\":\\\"assistant\\\", \\\"content\\\": \\\"{str(value)}\\\"}}]}}\\n\"\u001b[0m\n\u001b[1;37m    ^\u001b[0m\n\u001b[1;31mIndentationError\u001b[0m\u001b[1;31m:\u001b[0m unindent does not match any outer indentation level\n"
     ]
    }
   ],
   "source": [
    "header=\"\"\n",
    "buffer=[]\n",
    "content={}\n",
    "\n",
    "paragraphs=[]\n",
    "file_path=r'machine-learning-for-business-STANDARD.html'\n",
    "with open(file_path, 'r',encoding=\"utf8\") as file:\n",
    "        # Read the contents of the file\n",
    "        html_content = file.read()\n",
    "        paragraphs=extract_paragraphs(html_content)\n",
    "        \n",
    "        \n",
    "        \n",
    "for paragraph in paragraphs:\n",
    "    if len(paragraph.strip())>0:\n",
    "        word_count=len(paragraph.split(\" \"))\n",
    "        if word_count<6:\n",
    "            if len(buffer)>0:\n",
    "                content[header]= \" \".join(buffer)\n",
    "                buffer.clear()\n",
    "            header=paragraph\n",
    "        else:\n",
    "            if(len(paragraph.split(\" \")))>20:\n",
    "                buffer.append(paragraph)\n",
    "        #print(f\"{paragraph}\\n\")\n",
    "        #print (word_count)\n",
    "        \n",
    "if len(buffer)>0:\n",
    "    content[header]= \" \".join(buffer)\n",
    "    buffer.clear()\n",
    "    \n",
    "#for key,value in content.items():\n",
    "#    print(f\"\\nKEY {key} VALUE {value}\")\n",
    "    \n",
    "    \n",
    "filename = 'machine-learning.jsonl'\n",
    "\n",
    "print(content.keys())\n",
    "\n",
    "with open(filename, 'w', newline='\\n', encoding=\"utf8\") as file:\n",
    "    #writer=csv.writer(csvfile)\n",
    "    \n",
    "   # writer.writerow([\"Custom_Input\",\"Completion_Input\"])\n",
    "   \n",
    "    for key,value in content.items():\n",
    "\n",
    "        #{\"messages\": [{\"role\": \"system\", \"content\":\n",
    "         #}, {\"role\": \"user\", \"content\": \"}]}\n",
    "          #  {\"role\": \"assistant\", \"content\": \"Paris, as if everyone doesn't know that already.\"}\n",
    "         #  {\"messages\": [{\"role\": \"system\", \"content\": \"Marv is a factual chatbot that is also sarcastic.\"}, \n",
    "          #                {\"role\": \"user\", \"content\": \"What's the capital of France?\"}, {\"role\": \"assistant\", \"content\": \"Paris, as if everyone doesn't know that already.\"}]}\n",
    "            \n",
    "        \n",
    "        line = f\"{{\\\"messages\\\": [{{\\\"role\\\":\\\"system\\\",\\\"content\\\":\\\"Your are Lousie, the super smart ai expert\\\"}},{{\\\"role\\\":\\\"user\\\",\\\"content\\\":\\\"{str(key)}\\\"}},{{\\\"role\\\":\\\"assistant\\\", \\\"content\\\": \\\"{str(value)}\\\"}}]}}\\n\"\n",
    "\n",
    "        file.write(line)"
   ]
  },
  {
   "cell_type": "code",
   "execution_count": 54,
   "id": "93bca566",
   "metadata": {},
   "outputs": [],
   "source": [
    "#with open(\"machine-learning-for-business-STANDARD.pdf\") as f:\n",
    "#    pdf = pdftotext.PDF(f)\n",
    "    \n",
    "# Iterate over all the pages\n",
    "#for page in pdf:\n",
    "#    print(page)"
   ]
  },
  {
   "cell_type": "code",
   "execution_count": 131,
   "id": "e01218e6",
   "metadata": {},
   "outputs": [],
   "source": [
    "#def find_paragraphs(text):\n",
    "#    # Split the text into paragraphs using regular expression pattern\n",
    "#    paragraphs = re.split(r'\\n', text)\n",
    "#    #for paragraph in paragraphs:\n",
    "#    #    print (f\"{paragraph}\\n\\n\")\n",
    "#    return paragraphs\n",
    "\n",
    "# creating a pdf reader object \n",
    "#reader = PdfReader('machine-learning-for-business-STANDARD.pdf') \n",
    "  \n",
    "# printing number of pages in pdf file \n",
    "#print(len(reader.pages)) \n",
    "  \n",
    "# getting a specific page from the pdf file \n",
    "\n",
    "#for i in range(len(reader.pages)):\n",
    "#    # extracting text from page \n",
    "#    page = reader.pages[i] \n",
    "#    text = page.extract_text() \n",
    "#    lines = text.splitlines()\n",
    "#    print(lines)\n",
    "    #result = find_paragraphs(text)\n",
    "   # print(result)\n"
   ]
  },
  {
   "cell_type": "code",
   "execution_count": null,
   "id": "5d73685b",
   "metadata": {},
   "outputs": [],
   "source": []
  }
 ],
 "metadata": {
  "kernelspec": {
   "display_name": "Python 3 (ipykernel)",
   "language": "python",
   "name": "python3"
  },
  "language_info": {
   "codemirror_mode": {
    "name": "ipython",
    "version": 3
   },
   "file_extension": ".py",
   "mimetype": "text/x-python",
   "name": "python",
   "nbconvert_exporter": "python",
   "pygments_lexer": "ipython3",
   "version": "3.8.12"
  }
 },
 "nbformat": 4,
 "nbformat_minor": 5
}
