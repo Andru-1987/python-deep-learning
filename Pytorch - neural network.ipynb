{
 "cells": [
  {
   "cell_type": "code",
   "execution_count": 7,
   "metadata": {},
   "outputs": [
    {
     "name": "stdout",
     "output_type": "stream",
     "text": [
      "tensor([240.5046, 267.4117, 257.5000, 260.7034])\n"
     ]
    }
   ],
   "source": [
    "import torch\n",
    "import torch.nn as nn\n",
    "\n",
    "#http://yann.lecun.com/exdb/mnist/\n",
    "\n",
    "input_layer = torch.rand(10)\n",
    "w1=torch.rand(10,20)\n",
    "w2=torch.rand(20,20)\n",
    "w3=torch.rand(20,4)\n",
    "\n",
    "h1=torch.matmul(input_layer, w1)\n",
    "h2=torch.matmul(h1,w2)\n",
    "output_layer=torch.matmul(h2,w3)\n",
    "print(output_layer)\n"
   ]
  },
  {
   "cell_type": "code",
   "execution_count": 5,
   "metadata": {},
   "outputs": [
    {
     "name": "stdout",
     "output_type": "stream",
     "text": [
      "tensor([ 0.2117,  0.2828, -0.0384, -0.1271], grad_fn=<AddBackward0>)\n"
     ]
    }
   ],
   "source": [
    "class Net(nn.Module):\n",
    "    def __init__(self):\n",
    "        super(Net,self).__init__()\n",
    "        self.fc1=nn.Linear(10,20)\n",
    "        self.fc2=nn.Linear(20,20)\n",
    "        self.output=nn.Linear(20,4)\n",
    "    \n",
    "    def forward(self,x):\n",
    "        x=self.fc1(x)\n",
    "        x=self.fc2(x)\n",
    "        x=self.output(x)\n",
    "        return x\n",
    "\n",
    "input_layer=torch.rand(10)\n",
    "net=Net()\n",
    "result=net(input_layer)\n",
    "print(result)"
   ]
  },
  {
   "cell_type": "code",
   "execution_count": 11,
   "metadata": {},
   "outputs": [
    {
     "name": "stdout",
     "output_type": "stream",
     "text": [
      "tensor([[20704.0742, 19473.7363, 18989.6855,  ..., 19715.6836, 19278.0742,\n",
      "         20966.0625],\n",
      "        [20217.0859, 18997.7188, 18544.8848,  ..., 19248.5371, 18799.7539,\n",
      "         20445.1426],\n",
      "        [20468.4805, 19254.8887, 18759.5098,  ..., 19484.4668, 19070.3828,\n",
      "         20723.8984],\n",
      "        ...,\n",
      "        [20464.5234, 19261.2070, 18746.8301,  ..., 19485.3398, 19059.1094,\n",
      "         20717.1582],\n",
      "        [20641.3555, 19414.8867, 18931.8125,  ..., 19679.8379, 19263.7305,\n",
      "         20916.8164],\n",
      "        [20769.0449, 19543.3555, 19053.4102,  ..., 19780.2617, 19362.2695,\n",
      "         21016.3594]])\n"
     ]
    }
   ],
   "source": [
    "# Initialize the weights of the neural network\n",
    "input_layer= torch.rand(784,784)\n",
    "weight_1 = torch.rand(784, 200)\n",
    "weight_2 = torch.rand(200, 10)\n",
    "\n",
    "# Multiply input_layer with weight_1\n",
    "hidden_1 = torch.matmul(input_layer, weight_1)\n",
    "\n",
    "# Multiply hidden_1 with weight_2\n",
    "output_layer = torch.matmul(hidden_1, weight_2)\n",
    "print(output_layer)"
   ]
  },
  {
   "cell_type": "code",
   "execution_count": null,
   "metadata": {},
   "outputs": [],
   "source": []
  }
 ],
 "metadata": {
  "kernelspec": {
   "display_name": "Python 3",
   "language": "python",
   "name": "python3"
  }
 },
 "nbformat": 4,
 "nbformat_minor": 4
}
