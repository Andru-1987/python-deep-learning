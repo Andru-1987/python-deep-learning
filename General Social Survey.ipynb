{
 "cells": [
  {
   "cell_type": "code",
   "execution_count": 173,
   "metadata": {},
   "outputs": [],
   "source": [
    "import pandas as pd\n",
    "import matplotlib.pyplot as plt\n",
    "import numpy as np\n",
    "from collections import Counter\n",
    "from scipy.stats import norm\n",
    "import seaborn as sns\n",
    "#import globalfunctions\n",
    "from scipy.stats import linregress"
   ]
  },
  {
   "cell_type": "code",
   "execution_count": 129,
   "metadata": {},
   "outputs": [],
   "source": [
    "def cdf(data,label):\n",
    "    # sort the data:\n",
    "    data_sorted = np.sort(data)\n",
    "\n",
    "    # calculate the proportional values of samples\n",
    "    p = 1. * np.arange(len(data)) / (len(data) - 1)\n",
    "\n",
    "    # plot the sorted data:\n",
    "    fig = plt.figure()\n",
    "    #ax1 = fig.add_subplot(121)\n",
    "    #ax1.plot(p, data_sorted)\n",
    "    #ax1.set_xlabel('$p$')\n",
    "    #ax1.set_ylabel('$x$')\n",
    "\n",
    "    #ax2 = fig.add_subplot(122)\n",
    "    #ax2.plot(data_sorted, p)\n",
    "    #ax2.set_xlabel('${}$'.format(label))\n",
    "    #ax2.set_ylabel('$p$')\n",
    "    return (pd.DataFrame({label:data_sorted,\"probability\":p}))"
   ]
  },
  {
   "cell_type": "code",
   "execution_count": 130,
   "metadata": {},
   "outputs": [
    {
     "name": "stdout",
     "output_type": "stream",
     "text": [
      "ABANY\n",
      "ABDEFECT\n",
      "ABFELEGL\n",
      "ABHELP1\n",
      "ABHELP2\n",
      "ABHELP3\n",
      "ABHELP4\n",
      "ABHLTH\n",
      "ABINSPAY\n",
      "ABMEDGOV1\n",
      "ABMEDGOV2\n",
      "ABMELEGL\n",
      "ABMORAL\n",
      "ABNOMORE\n",
      "ABPOOR\n",
      "ABPOORW\n",
      "ABRAPE\n",
      "ABSINGLE\n",
      "ABSTATE1\n",
      "ABSTATE2\n",
      "ACQNTSEX\n",
      "ACTSSOC\n",
      "ADULTS\n",
      "ADVFRONT\n",
      "AFFRMACT\n",
      "AFRAIDOF\n",
      "AFTERLIF\n",
      "AGE\n",
      "AGED\n",
      "AGEKDBRN\n",
      "ANCESTRS\n",
      "ARTHRTIS\n",
      "ASTROLGY\n",
      "ASTROSCI\n",
      "ATHEISTS\n",
      "ATTEND\n",
      "ATTEND12\n",
      "ATTENDMA\n",
      "ATTENDPA\n",
      "AWAY1\n",
      "AWAY11\n",
      "AWAY2\n",
      "AWAY3\n",
      "AWAY4\n",
      "AWAY5\n",
      "AWAY6\n",
      "AWAY7\n",
      "BABIES\n",
      "BACKPAIN\n",
      "BALLOT\n",
      "BALNEG\n",
      "BALPOS\n",
      "BEFAIR\n",
      "BETRLANG\n",
      "BIBLE\n",
      "BIGBANG\n",
      "BIGBANG1\n",
      "BIGBANG2\n",
      "BIRD\n",
      "BIRDB4\n",
      "BORN\n",
      "BOYORGRL\n",
      "BREAKDWN\n",
      "BUDDHSTS\n",
      "BUYESOP\n",
      "BUYVALUE\n",
      "CANTRUST\n",
      "CAPPUN\n",
      "CAT\n",
      "CATB4\n",
      "CHARACTR\n",
      "CHEMGEN\n",
      "CHILDS\n",
      "CHLDIDEL\n",
      "CHRISTNS\n",
      "CHURHPOW\n",
      "CLASS\n",
      "CLERGVTE\n",
      "CLOSETO1\n",
      "CLOSETO2\n",
      "CLOSETO3\n",
      "CLOSETO4\n",
      "CLOSETO5\n",
      "CNTCTFAM\n",
      "CNTCTFRD\n",
      "CNTCTKID\n",
      "CNTCTPAR\n",
      "CNTCTSIB\n",
      "CODEG\n",
      "CODEN\n",
      "COEDUC\n",
      "COEVWORK\n",
      "COFUND\n",
      "COHORT\n",
      "COHRS1\n",
      "COHRS2\n",
      "COIND10\n",
      "COISCO08\n",
      "COJew\n",
      "COLATH\n",
      "COLCOM\n",
      "COLDEG1\n",
      "COLHOMO\n",
      "COLMIL\n",
      "COLMSLM\n",
      "COLRAC\n",
      "COLSCI\n",
      "COLSCINM\n",
      "COMFORT\n",
      "COMPANY\n",
      "COMPPERF\n",
      "COMPREND\n",
      "COMPUSE\n",
      "COMPWAGE\n",
      "CONARMY\n",
      "CONBIZ\n",
      "CONBUS\n",
      "CONCHURH\n",
      "CONCLERG\n",
      "CONCONG\n",
      "CONCOURT\n",
      "CONDEMND\n",
      "CONDOM\n",
      "CONDRIFT\n",
      "CONEDUC\n",
      "CONF2F\n",
      "CONFED\n",
      "CONFINAN\n",
      "CONINC\n",
      "CONJUDGE\n",
      "CONLABOR\n",
      "CONLEGIS\n",
      "CONMEDIC\n",
      "CONPRESS\n",
      "CONRINC\n",
      "CONSCHLS\n",
      "CONSCI\n",
      "CONSENT\n",
      "CONTV\n",
      "CONWKDAY\n",
      "COOCC10\n",
      "COOP\n",
      "COOTHER\n",
      "COPRES10\n",
      "COPRES105PLUS\n",
      "COREL\n",
      "COSEI10\n",
      "COSEI10EDUC\n",
      "COSEI10INC\n",
      "COURTS\n",
      "COWRKHLP\n",
      "COWRKINT\n",
      "COWRKSLF\n",
      "COWRKSTA\n",
      "CRACK30\n",
      "DANGOTH1\n",
      "DANGOTH2\n",
      "DANGOTH3\n",
      "DANGOTH4\n",
      "DANGOTH5\n",
      "DANGROTH\n",
      "DANGRSLF\n",
      "DANGSLF1\n",
      "DANGSLF2\n",
      "DANGSLF3\n",
      "DANGSLF4\n",
      "DANGSLF5\n",
      "DATEINTV\n",
      "DECMONEY\n",
      "DECTREAT\n",
      "DEFPENSN\n",
      "DEGREE\n",
      "DEMANDS\n",
      "DENKID\n",
      "DENOM\n",
      "DENOM16\n",
      "DEPRESS\n",
      "DEPTPERF\n",
      "DIABETES\n",
      "DIAGNOSD\n",
      "DIFREL\n",
      "DINEFRDS\n",
      "DIPGED\n",
      "DISCAFF\n",
      "DISCAFFM\n",
      "DISCAFFW\n",
      "DISRSPCT\n",
      "DIVLAW\n",
      "DIVORCE\n",
      "DOFIRST\n",
      "DOG\n",
      "DOGB4\n",
      "DWELLING\n",
      "DWELLPRE\n",
      "DWELOWN\n",
      "DWELOWN16\n",
      "EARNRS\n",
      "EARTHSUN\n",
      "EDUC\n",
      "EGOMEANS\n",
      "ELECTRON\n",
      "EMAILHR\n",
      "EMAILMIN\n",
      "EMOPROBS\n",
      "EMPINPUT\n",
      "EMPTRAIN\n",
      "ENDSMEET\n",
      "EQWLTH\n",
      "ESOP\n",
      "ESOPNOT\n",
      "ETH1\n",
      "ETH2\n",
      "ETH3\n",
      "ETHNIC\n",
      "ETHNUM\n",
      "EVCRACK\n",
      "EVIDU\n",
      "EVOLVED\n",
      "EVOLVED2\n",
      "EVPAIDSX\n",
      "EVSTRAY\n",
      "EVWORK\n",
      "EXPDESGN\n",
      "EXPTEXT\n",
      "EXTR2017\n",
      "EXTRAPAY\n",
      "EXTRAVAL\n",
      "EXTRAYR\n",
      "FAIR\n",
      "FAIREARN\n",
      "FAMDIF16\n",
      "FAMGEN\n",
      "FAMILY16\n",
      "FAMMHNEG\n",
      "FAMPRESS\n",
      "FAMVSWK\n",
      "FAMWKOFF\n",
      "FATALISM\n",
      "FATIGUE\n",
      "FEAR\n",
      "FECHLD\n",
      "FEELEVEL\n",
      "FEELREL\n",
      "FEEUSED\n",
      "FEFAM\n",
      "FEHIRE\n",
      "FEJOBAFF\n",
      "FEPOL\n",
      "FEPRESCH\n",
      "FINALTER\n",
      "FINRELA\n",
      "FIRSTYOU\n",
      "FISH\n",
      "FISHB4\n",
      "FORM\n",
      "FORMWT\n",
      "FRINGEOK\n",
      "FRNDSEX\n",
      "FUCITZN\n",
      "FUND\n",
      "FUND16\n",
      "GENDER1\n",
      "GENDER10\n",
      "GENDER11\n",
      "GENDER12\n",
      "GENDER2\n",
      "GENDER3\n",
      "GENDER4\n",
      "GENDER5\n",
      "GENDER6\n",
      "GENDER7\n",
      "GENDER8\n",
      "GENDER9\n",
      "GENEABRT2\n",
      "GENEGEN\n",
      "GENEGOO2\n",
      "GENESELF2\n",
      "GENETICS\n",
      "GENETST1\n",
      "GETAHEAD\n",
      "GOAT\n",
      "GOATB4\n",
      "GOD\n",
      "GODCHNGE\n",
      "GODMEANS\n",
      "GODSWILL\n",
      "GOODLIFE\n",
      "GOVEQINC\n",
      "GOVLAZY\n",
      "GOVVSREL\n",
      "GRANBORN\n",
      "GRASS\n",
      "GUNLAW\n",
      "HANDMOVE\n",
      "HAPCOHAB\n",
      "HAPMAR\n",
      "HAPPY\n",
      "HAPUNHAP\n",
      "HAVEINFO\n",
      "HEALTH\n",
      "HEALTH1\n",
      "HEALTHISSP\n",
      "HEAVEN\n",
      "HEFINFO\n",
      "HEIGHT\n",
      "HELL\n",
      "HELPBLK\n",
      "HELPFRDS\n",
      "HELPFUL\n",
      "HELPNOT\n",
      "HELPOTH\n",
      "HELPPOOR\n",
      "HELPSICK\n",
      "HHRACE\n",
      "HHTYPE\n",
      "HHTYPE1\n",
      "HINDUS\n",
      "HISPANIC\n",
      "HIVTEST\n",
      "HIVTEST1\n",
      "HIVTEST2\n",
      "HLPADVCE\n",
      "HLPDOWN\n",
      "HLPEQUIP\n",
      "HLPHOME\n",
      "HLPJOB\n",
      "HLPLOAN\n",
      "HLPPAPER\n",
      "HLPRESDE\n",
      "HLPSICK\n",
      "HLPSICKR\n",
      "HLPSOCOC\n",
      "HLTHDAYS\n",
      "HLTHMNTL\n",
      "HLTHPHYS\n",
      "HLTHSTRT\n",
      "HOMOSEX\n",
      "HOMOSEX1\n",
      "HOMPOP\n",
      "HORSE\n",
      "HORSEB4\n",
      "HOTCORE\n",
      "HRS1\n",
      "HRS2\n",
      "HRSRELAX\n",
      "HSBIO\n",
      "HSCHEM\n",
      "HSMATH\n",
      "HSPHYS\n",
      "HUADD\n",
      "HUADDWHY\n",
      "HUBBYWRK\n",
      "HUCLEAN\n",
      "HUNT\n",
      "HUNT1\n",
      "HURTATWK\n",
      "HURTOTH\n",
      "HURTSELF\n",
      "HVYLIFT\n",
      "HYPERTEN\n",
      "ID\n",
      "IDU30\n",
      "IF12WHO\n",
      "IF16WHO\n",
      "IMBALNCE\n",
      "IMPRVOWN\n",
      "IMPRVTRT\n",
      "INCGAP\n",
      "INCOM16\n",
      "INCOME\n",
      "INCOME16\n",
      "INCUSPOP\n",
      "INDPERF\n",
      "INDUS10\n",
      "INDUSGEN\n",
      "INTAGE\n",
      "INTCNTCT\n",
      "INTECON\n",
      "INTEDUC\n",
      "INTENVIR\n",
      "INTETHN\n",
      "INTFARM\n",
      "INTHISP\n",
      "INTID\n",
      "INTINTL\n",
      "INTLBLKS\n",
      "INTLHSPS\n",
      "INTLWHTS\n",
      "INTMED\n",
      "INTMIL\n",
      "INTRACE1\n",
      "INTRACE2\n",
      "INTRACE3\n",
      "INTSCI\n",
      "INTSEX\n",
      "INTSPACE\n",
      "INTTECH\n",
      "INTYRS\n",
      "ISCO08\n",
      "ISCO88\n",
      "ISSP\n",
      "Jew\n",
      "Jew16\n",
      "JEWS\n",
      "JOBFIND\n",
      "JOBFIND1\n",
      "JOBLOSE\n",
      "JOBSECOK\n",
      "KIDPARS\n",
      "KIDSINHH\n",
      "KIDSSOL\n",
      "KNOWSCHD\n",
      "KNOWWHAT\n",
      "KNWBUS\n",
      "KNWCLENR\n",
      "KNWCOP\n",
      "KNWCUTTR\n",
      "KNWEXEC\n",
      "KNWHRMAN\n",
      "KNWLAWYR\n",
      "KNWMCHNC\n",
      "KNWMW1\n",
      "KNWMW2\n",
      "KNWMW3\n",
      "KNWMW4\n",
      "KNWMW5\n",
      "KNWNURSE\n",
      "KNWTCHER\n",
      "LAIDOFF\n",
      "LASERS\n",
      "LEARNNEW\n",
      "LETDIE1\n",
      "LETIN1A\n",
      "LIBATH\n",
      "LIBCOM\n",
      "LIBHOMO\n",
      "LIBMIL\n",
      "LIBMSLM\n",
      "LIBRAC\n",
      "LIFE\n",
      "LIFEIN5\n",
      "LIFENOW\n",
      "LIVEBLKS\n",
      "LNGTHINV\n",
      "LOCALNUM\n",
      "LONELY1\n",
      "LONELY2\n",
      "LONELY3\n",
      "MADEG\n",
      "MADENKID\n",
      "MAEDUC\n",
      "MAIND10\n",
      "MAISCO08\n",
      "MAISCO88\n",
      "MAJOR1\n",
      "MAJOR2\n",
      "MAJORCOL\n",
      "MAKEFRND\n",
      "MALEORNT\n",
      "MANVSEMP\n",
      "MAOCC10\n",
      "MAPRES10\n",
      "MAPRES105PLUS\n",
      "MAR1\n",
      "MAR11\n",
      "MAR12\n",
      "MAR2\n",
      "MAR3\n",
      "MAR4\n",
      "MAR5\n",
      "MAR6\n",
      "MAR7\n",
      "MAR8\n",
      "MAR9\n",
      "MARAsian\n",
      "MARBLK\n",
      "MARCOHAB\n",
      "MARELKID\n",
      "MARHISP\n",
      "MARHOMO\n",
      "MARITAL\n",
      "MARTYPE\n",
      "MARWHT\n",
      "MASEI10\n",
      "MASEI10EDUC\n",
      "MASEI10INC\n",
      "MATESEX\n",
      "MAWRKGRW\n",
      "MAWRKSLF\n",
      "MCSDS1\n",
      "MCSDS2\n",
      "MCSDS3\n",
      "MCSDS4\n",
      "MCSDS5\n",
      "MCSDS6\n",
      "MCSDS7\n",
      "MEDDOC\n",
      "MENTLDOC\n",
      "MENTLHOS\n",
      "MENTLILL\n",
      "MENTLOTH\n",
      "MEOVRWRK\n",
      "mhdiagno\n",
      "MHP1R1\n",
      "MHP1R2\n",
      "MHP2R1\n",
      "MHP2R2\n",
      "MHP3R1\n",
      "MHP3R2\n",
      "MHP4R1\n",
      "MHP4R2\n",
      "MHP5R1\n",
      "MHP5R2\n",
      "MHTREAT1\n",
      "MHTREAT2\n",
      "MHTREAT3\n",
      "MHTREAT4\n",
      "MHTREAT5\n",
      "MHTREATD\n",
      "MHUNSURE\n",
      "MIRACLES\n",
      "MISSWORK\n",
      "MNTHSUSA\n",
      "MNTLHLTH\n",
      "MOBILE16\n",
      "MODE\n",
      "MOREDAYS\n",
      "MUSLIMS\n",
      "MUSTDOC\n",
      "MUSTHOSP\n",
      "MUSTMED\n",
      "MUSTWORK\n",
      "MYGOALS\n",
      "MYPROBS1\n",
      "MYPROBS2\n",
      "MYPROBS3\n",
      "MYPROBS4\n",
      "MYPROBS5\n",
      "MYSKILLS\n",
      "MYWAYGOD\n",
      "NANOBEN\n",
      "NANOHARM\n",
      "NANOWILL\n",
      "NATACCESS\n",
      "NATACTIVE\n",
      "NATAID\n",
      "NATAIDY\n",
      "NATARMS\n",
      "NATARMSY\n",
      "NATCHLD\n",
      "NATCITY\n",
      "NATCITYY\n",
      "NATCRIME\n",
      "NATCRIMY\n",
      "NATDRUG\n",
      "NATDRUGY\n",
      "NATEDUC\n",
      "NATEDUCY\n",
      "NATENRGY\n",
      "NATENVIR\n",
      "NATENVIY\n",
      "NATFARE\n",
      "NATFAREY\n",
      "NATHEAL\n",
      "NATHEALY\n",
      "NATLACK\n",
      "NATMASS\n",
      "NATMEET\n",
      "NATNOTICE\n",
      "NATPARK\n",
      "NATRACE\n",
      "NATRACEY\n",
      "NATRELAX\n",
      "NATROAD\n",
      "NATSAT\n",
      "NATSCI\n",
      "NATSOC\n",
      "NATSPAC\n",
      "NATSPACY\n",
      "NATTIME\n",
      "NATTIMEOK\n",
      "NATVIEWS\n",
      "NEISAFE\n",
      "NEWFRDS\n",
      "NEWS\n",
      "NEWSFROM\n",
      "NEXTGEN\n",
      "NIHILISM\n",
      "NOTSMART\n",
      "NTWKHARD\n",
      "NUKEGEN\n",
      "NUMCONG\n",
      "NUMEMPS\n",
      "NUMLANGS\n",
      "NUMMEN\n",
      "NUMORG\n",
      "NUMPETS\n",
      "NUMWOMEN\n",
      "OBEY\n",
      "OCC10\n",
      "ODDS1\n",
      "ODDS2\n",
      "OLD1\n",
      "OLD10\n",
      "OLD11\n",
      "OLD12\n",
      "OLD2\n",
      "OLD3\n",
      "OLD4\n",
      "OLD5\n",
      "OLD6\n",
      "OLD7\n",
      "OLD8\n",
      "OLD9\n",
      "OPDEVEL\n",
      "OTCMED\n",
      "OTH16\n",
      "OTHER\n",
      "OTHERSEX\n",
      "OTHLANG\n",
      "OTHLANG1\n",
      "OTHLANG2\n",
      "OTHMHNEG\n",
      "OTHPET\n",
      "OTHPETB4\n",
      "OVERSAMP\n",
      "OVERWORK\n",
      "OWNGUN\n",
      "OWNSTOCK\n",
      "PADEG\n",
      "PADENKID\n",
      "PAEDUC\n",
      "PAIDSEX\n",
      "PAINARMS\n",
      "PAIND10\n",
      "PAISCO08\n",
      "PAISCO88\n",
      "PAOCC10\n",
      "PAPRES10\n",
      "PAPRES105PLUS\n",
      "PARBORN\n",
      "PARELKID\n",
      "PARSOL\n",
      "PARTFULL\n",
      "PARTLSC\n",
      "PARTNERS\n",
      "PARTNRS5\n",
      "PARTPART\n",
      "PARTTEAM\n",
      "PARTVOL\n",
      "PARTYID\n",
      "PASEI10\n",
      "PASEI10EDUC\n",
      "PASEI10INC\n",
      "PAWRKSLF\n",
      "PETB4\n",
      "PETB4CMFRT\n",
      "PETB4FAM\n",
      "PETB4PLY\n",
      "PETCMFRT\n",
      "PETFAM\n",
      "PETPLAY\n",
      "PHASE\n",
      "PHONE\n",
      "PHYEFFRT\n",
      "PHYSACTS\n",
      "PHYSHLTH\n",
      "PHYSILL\n",
      "PIG\n",
      "PIGB4\n",
      "PIKUPSEX\n",
      "PILINGUP\n",
      "PILLOK\n",
      "PISTOL\n",
      "POLABUSE\n",
      "POLATTAK\n",
      "POLEFF11\n",
      "POLESCAP\n",
      "POLHITOK\n",
      "POLMURDR\n",
      "POLVIEWS\n",
      "POORSERV\n",
      "POPESPKS\n",
      "POPULAR\n",
      "PORNLAW\n",
      "POSSLQ\n",
      "POSSLQY\n",
      "POSTLIFE\n",
      "PRAY\n",
      "PRAYER\n",
      "PRAYFREQ\n",
      "PREMARSX\n",
      "PRES12\n",
      "PRES16\n",
      "PRESTG10\n",
      "PRESTG105PLUS\n",
      "PRETEEN\n",
      "PRODCTIV\n",
      "PROMTEFR\n",
      "PROMTEOK\n",
      "PROUDEMP\n",
      "PRVDHLTH\n",
      "PRVDOLD\n",
      "QUALLIFE\n",
      "RACDIF1\n",
      "RACDIF2\n",
      "RACDIF3\n",
      "RACDIF4\n",
      "RACE\n",
      "RACECEN1\n",
      "RACECEN2\n",
      "RACECEN3\n",
      "RACLIVE\n",
      "RACOPEN\n",
      "RACWORK\n",
      "RADIOACT\n",
      "RANDOM\n",
      "RANK\n",
      "RATEPAIN\n",
      "RATETONE\n",
      "REALINC\n",
      "REALRINC\n",
      "REBORN\n",
      "REG16\n",
      "REGION\n",
      "RELACTIV\n",
      "RELATE1\n",
      "RELATE10\n",
      "RELATE11\n",
      "RELATE12\n",
      "RELATE2\n",
      "RELATE3\n",
      "RELATE4\n",
      "RELATE5\n",
      "RELATE6\n",
      "RELATE7\n",
      "RELATE8\n",
      "RELATE9\n",
      "RELATSEX\n",
      "RELEXT1\n",
      "RELEXT3\n",
      "RELGENBAR\n",
      "RELGENEQ\n",
      "RELHH1\n",
      "RELHH10\n",
      "RELHH11\n",
      "RELHH12\n",
      "RELHH2\n",
      "RELHH3\n",
      "RELHH4\n",
      "RELHH5\n",
      "RELHH6\n",
      "RELHH7\n",
      "RELHH8\n",
      "RELHH9\n",
      "RELHHD1\n",
      "RELHHD10\n",
      "RELHHD11\n",
      "RELHHD12\n",
      "RELHHD2\n",
      "RELHHD3\n",
      "RELHHD4\n",
      "RELHHD5\n",
      "RELHHD6\n",
      "RELHHD7\n",
      "RELHHD8\n",
      "RELHHD9\n",
      "RELIG\n",
      "RELIG16\n",
      "RELIGCON\n",
      "RELIGINT\n",
      "RELIGKID\n",
      "RELITEN\n",
      "RELMARRY\n",
      "RELOBJCT\n",
      "RELPAST\n",
      "RELPERSN\n",
      "RELRLVNT\n",
      "RELSCRPT\n",
      "RELSP1\n",
      "RELSP10\n",
      "RELSP11\n",
      "RELSP12\n",
      "RELSP2\n",
      "RELSP3\n",
      "RELSP4\n",
      "RELSP5\n",
      "RELSP6\n",
      "RELSP7\n",
      "RELSP8\n",
      "RELSP9\n",
      "RELSPRT\n",
      "REPTILE\n",
      "REPTILEB4\n",
      "RES16\n",
      "RESPECT\n",
      "RESPNUM\n",
      "RESPOND\n",
      "RFAMLOOK\n",
      "RGROOMED\n",
      "RHLTHEND\n",
      "RICHWORK\n",
      "RIFLE\n",
      "RINCBLLS\n",
      "RINCOM16\n",
      "RINCOME\n",
      "RLOOKS\n",
      "ROWNGUN\n",
      "RPLACE\n",
      "RVISITOR\n",
      "RWEIGHT\n",
      "RXMED\n",
      "SAFEFRST\n",
      "SAFEHLTH\n",
      "SAFETYWK\n",
      "SAMPCODE\n",
      "SAMPLE\n",
      "SATFAM7\n",
      "SATFIN\n",
      "SATJOB\n",
      "SATJOB1\n",
      "SATLIFE\n",
      "SATSOC\n",
      "SAVESOUL\n",
      "SCIBNFTS\n",
      "SCIENTBE\n",
      "SCIENTGO\n",
      "SCIENTHE\n",
      "SCIENTOD\n",
      "SCIFROM\n",
      "SCINEWS1\n",
      "SCINEWS2\n",
      "SCINEWS3\n",
      "SCISTUDY\n",
      "SCITEXT\n",
      "SECONDWK\n",
      "SEEKSCI\n",
      "SEETALK1\n",
      "SEETALK2\n",
      "SEETALK3\n",
      "SEETALK4\n",
      "SEETALK5\n",
      "SEI10\n",
      "SEI10EDUC\n",
      "SEI10INC\n",
      "SELFHELP\n",
      "SERIOUSP\n",
      "SEVERE1\n",
      "SEVERE2\n",
      "SEVERE3\n",
      "SEVERE4\n",
      "SEVERE5\n",
      "SEX\n",
      "SEXBIRTH\n",
      "SEXEDUC\n",
      "SEXFREQ\n",
      "SEXNOW\n",
      "SEXORNT\n",
      "SEXSEX\n",
      "SEXSEX5\n",
      "SHOTGUN\n",
      "SIBS\n",
      "SIZE\n",
      "SLFMANGD\n",
      "SLPPRBLM\n",
      "SMALLGAP\n",
      "SMAMMAL\n",
      "SMAMMALB4\n",
      "SOCBAR\n",
      "SOCFREND\n",
      "SOCOMMUN\n",
      "SOCREL\n",
      "SOLARREV\n",
      "SPANENG\n",
      "SPANINT\n",
      "SPANKING\n",
      "SPANSELF\n",
      "SPDEG\n",
      "SPDEN\n",
      "SPEDUC\n",
      "SPEVWORK\n",
      "SPFALOOK\n",
      "SPFUND\n",
      "SPHEALER\n",
      "SPHRS1\n",
      "SPHRS2\n",
      "SPIND10\n",
      "SPISCO08\n",
      "SPISCO88\n",
      "SPJew\n",
      "SPKATH\n",
      "SPKCOM\n",
      "SPKHOMO\n",
      "SPKLANG\n",
      "SPKMIL\n",
      "SPKMSLM\n",
      "SPKRAC\n",
      "SPLIVE\n",
      "SPOCC10\n",
      "SPOTHER\n",
      "SPPRES10\n",
      "SPPRES105PLUS\n",
      "SPREL\n",
      "SPRTPRSN\n",
      "SPSEI10\n",
      "SPSEI10EDUC\n",
      "SPSEI10INC\n",
      "SPVTRFAIR\n",
      "SPWKSUP\n",
      "SPWRKSLF\n",
      "SPWRKSTA\n",
      "SRCBELT\n",
      "STOCKOPS\n",
      "STOCKVAL\n",
      "STRESS\n",
      "STRESS12\n",
      "STRESSES\n",
      "STRREDPG\n",
      "SUICIDE1\n",
      "SUICIDE2\n",
      "SUICIDE3\n",
      "SUICIDE4\n",
      "SUPCARES\n",
      "SUPERVIS\n",
      "SUPHELP\n",
      "TAX\n",
      "TEAMSAFE\n",
      "TEENS\n",
      "TEENSEX\n",
      "TEMPGEN\n",
      "THEISM\n",
      "THNKSELF\n",
      "THREATEN\n",
      "TLKCLRGY\n",
      "TLKFAM\n",
      "TOOFAST\n",
      "TOOFEWWK\n",
      "TRBIGBUS\n",
      "TRCOURTS\n",
      "TRDUNION\n",
      "TRUST\n",
      "TRUSTMAN\n",
      "TRUSTSCI\n",
      "TRYNEWJB\n",
      "TVHOURS\n",
      "UNEMP\n",
      "UNHAPPY\n",
      "UNION\n",
      "UNION1\n",
      "UNRELAT\n",
      "UPSDOWNS\n",
      "UPSET\n",
      "USCITZN\n",
      "USEDUP\n",
      "USETECH\n",
      "USEWWW\n",
      "USWARY\n",
      "VERSION\n",
      "VETYEARS\n",
      "VIGFRND\n",
      "VIGGRP\n",
      "VIGLABEL\n",
      "VIGMAR\n",
      "VIGNEI\n",
      "VIGSOC\n",
      "VIGVERSN\n",
      "VIGWORK\n",
      "VIRUSES\n",
      "VISITORS\n",
      "VISNHIST\n",
      "VISSCI\n",
      "VISTHOLY\n",
      "VISZOO\n",
      "VOTE12\n",
      "VOTE16\n",
      "VPSU\n",
      "VSTRAT\n",
      "WATERGEN\n",
      "WAYPAID\n",
      "WAYRAISE\n",
      "WEALTH\n",
      "WEBMOB\n",
      "WEEKSWRK\n",
      "WEIGHT\n",
      "WHERE1\n",
      "WHERE11\n",
      "WHERE2\n",
      "WHERE3\n",
      "WHERE4\n",
      "WHERE5\n",
      "WHERE6\n",
      "WHERE7\n",
      "WHOELSE1\n",
      "WHOELSE2\n",
      "WHOELSE3\n",
      "WHOELSE4\n",
      "WHOELSE5\n",
      "WHOELSE6\n",
      "WHYNOPET\n",
      "WHYWKHME\n",
      "WIDOWED\n",
      "WKAGEISM\n",
      "WKDECIDE\n",
      "WKFREEDM\n",
      "WKHAROTH\n",
      "WKHARSEX\n",
      "WKPRAISE\n",
      "WKRACISM\n",
      "WKSEXISM\n",
      "WKSMOOTH\n",
      "WKSUB\n",
      "WKSUB1\n",
      "WKSUBS\n",
      "WKSUBS1\n",
      "WKSUP\n",
      "WKSUP1\n",
      "WKSUPS\n",
      "WKSUPS1\n",
      "WKVSFAM\n",
      "WLTHBLKS\n",
      "WLTHHSPS\n",
      "WLTHWHTS\n",
      "WORDA\n",
      "WORDB\n",
      "WORDC\n",
      "WORDD\n",
      "WORDE\n",
      "WORDF\n",
      "WORDG\n",
      "WORDH\n",
      "WORDI\n",
      "WORDJ\n",
      "WORDSUM\n",
      "WORKBLKS\n",
      "WORKDIFF\n",
      "WORKFAST\n",
      "WORKFOR1\n",
      "WORKHARD\n",
      "WORKHSPS\n",
      "WORKWHTS\n",
      "WRKGOVT\n",
      "WRKHOME\n",
      "WRKSCHED\n",
      "WRKSLF\n",
      "WRKSLFFAM\n",
      "WRKSTAT\n",
      "WRKTIME\n",
      "WRKTYPE\n",
      "WRKWAYUP\n",
      "WTSS\n",
      "WTSSALL\n",
      "WTSSNR\n",
      "WWWHR\n",
      "WWWMIN\n",
      "XMARSEX\n",
      "XMARSEX1\n",
      "XMOVIE\n",
      "XNORCSIZ\n",
      "YEAR\n",
      "YEARSJOB\n",
      "YEARSUSA\n",
      "YEARVAL\n",
      "YOUSUP\n",
      "ZODIAC\n"
     ]
    }
   ],
   "source": [
    "#https://github.com/psychhack2019/General-Social-Survey-Dataset/blob/master/GSS2018.zip\n",
    "df=pd.read_csv(\"https://raw.githubusercontent.com/dnishimoto/python-deep-learning/master/GSS2018.csv\")\n",
    "for item in df.columns:\n",
    "    print(item)\n",
    "    \n",
    "df['INCOME']=df['INCOME'].replace([98,99],np.nan)\n",
    "df['HEIGHT']=df['HEIGHT'].replace([98,99],np.nan)\n",
    "df['WEIGHT']=df['WEIGHT'].replace([98,99],np.nan)\n",
    "df['AGE']=df['AGE'].replace([0,1,2,3,4,5,6,7,98,99],np.nan)\n",
    "df['EDUC']=df['EDUC'].replace([98,99],np.nan)\n",
    "\n",
    "df = df.dropna(subset=['INCOME', 'HEIGHT','WEIGHT','AGE','EDUC'])\n",
    "\n",
    "#print(df[df[\"INCOME\"]==98])"
   ]
  },
  {
   "cell_type": "code",
   "execution_count": 131,
   "metadata": {},
   "outputs": [
    {
     "data": {
      "text/plain": [
       "(array([  3.,  12.,   6.,  26.,  78., 150., 786., 418., 498., 228.]),\n",
       " array([ 0.,  2.,  4.,  6.,  8., 10., 12., 14., 16., 18., 20.]),\n",
       " <a list of 10 Patch objects>)"
      ]
     },
     "execution_count": 131,
     "metadata": {},
     "output_type": "execute_result"
    },
    {
     "data": {
      "image/png": "[encoded data removed]",
      "text/plain": [
       "<Figure size 432x288 with 1 Axes>"
      ]
     },
     "metadata": {
      "needs_background": "light"
     },
     "output_type": "display_data"
    }
   ],
   "source": [
    "education=df[\"EDUC\"].astype(float)\n",
    "#education=education.replace([98,99],np.nan)\n",
    "plt.hist(education.dropna(),label='education',bins=10)\n",
    "#print(education.value_counts().sort_index())\n",
    "\n"
   ]
  },
  {
   "cell_type": "code",
   "execution_count": 132,
   "metadata": {},
   "outputs": [
    {
     "data": {
      "image/png": "[encoded data removed]",
      "text/plain": [
       "<Figure size 432x288 with 1 Axes>"
      ]
     },
     "metadata": {
      "needs_background": "light"
     },
     "output_type": "display_data"
    },
    {
     "data": {
      "image/png": "[encoded data removed]",
      "text/plain": [
       "<Figure size 432x288 with 1 Axes>"
      ]
     },
     "metadata": {
      "needs_background": "light"
     },
     "output_type": "display_data"
    }
   ],
   "source": [
    "age=df[\"AGE\"]\n",
    "age=age.replace([0,1,2,3,4,5,6,7,98,99],np.nan)\n",
    "\n",
    "def ecdf(data):\n",
    "    #Compute ECDF for a one-dimensional array of measurements.\n",
    "    # Number of data points: n\n",
    "    n =len(data)\n",
    "\n",
    "    # x-data for the ECDF: x\n",
    "    x = np.sort(data)\n",
    "\n",
    "    # y-data for the ECDF: y\n",
    "    y = np.arange(1,n+1) / n\n",
    "\n",
    "    return x, y\n",
    "\n",
    "x_age=ecdf(age)\n",
    "y_educ=ecdf(education)\n",
    "\n",
    "age.hist()\n",
    "plt.show()\n",
    "\n",
    "plt.plot(x_age, y_educ, marker='.', linestyle='none')\n",
    "plt.xlabel(\"Age\")\n",
    "plt.ylabel(\"Educatation\")\n",
    "plt.show()"
   ]
  },
  {
   "cell_type": "code",
   "execution_count": 133,
   "metadata": {},
   "outputs": [
    {
     "name": "stdout",
     "output_type": "stream",
     "text": [
      "age            50.00000\n",
      "probability     0.52382\n",
      "dtype: float64\n"
     ]
    },
    {
     "data": {
      "text/plain": [
       "<Figure size 432x288 with 0 Axes>"
      ]
     },
     "metadata": {},
     "output_type": "display_data"
    }
   ],
   "source": [
    "\n",
    "    \n",
    "probabilities=cdf(age,\"age\")    \n",
    "#probabilities.reset_index()\n",
    "\n",
    "#for key,value in probabilities.iterrows():\n",
    "#    print(key,value)\n",
    "print(probabilities[probabilities[\"age\"]==50].mean())"
   ]
  },
  {
   "cell_type": "code",
   "execution_count": 134,
   "metadata": {
    "scrolled": true
   },
   "outputs": [
    {
     "data": {
      "text/plain": [
       "Text(0, 0.5, '$p$')"
      ]
     },
     "execution_count": 134,
     "metadata": {},
     "output_type": "execute_result"
    },
    {
     "data": {
      "text/plain": [
       "<Figure size 432x288 with 0 Axes>"
      ]
     },
     "metadata": {},
     "output_type": "display_data"
    },
    {
     "data": {
      "image/png": "[encoded data removed]",
      "text/plain": [
       "<Figure size 432x288 with 1 Axes>"
      ]
     },
     "metadata": {
      "needs_background": "light"
     },
     "output_type": "display_data"
    }
   ],
   "source": [
    "income=df[\"REALINC\"]\n",
    "income=income.replace([0,1,2,3,4,5,6,7,98,99],np.nan)\n",
    "accum_df=cdf(income,\"REALINC\")\n",
    "\n",
    "fig = plt.figure()\n",
    "ax2 = fig.add_subplot(122)\n",
    "ax2.plot(accum_df[\"REALINC\"], accum_df[\"probability\"])\n",
    "ax2.set_xlabel('$REALINC$')\n",
    "ax2.set_ylabel('$p$')"
   ]
  },
  {
   "cell_type": "code",
   "execution_count": 135,
   "metadata": {
    "scrolled": true
   },
   "outputs": [
    {
     "data": {
      "image/png": "[encoded data removed]",
      "text/plain": [
       "<Figure size 432x288 with 1 Axes>"
      ]
     },
     "metadata": {
      "needs_background": "light"
     },
     "output_type": "display_data"
    }
   ],
   "source": [
    "def Pmf(data,label):\n",
    "    total_count=data.count()\n",
    "    return_df=data.value_counts().rename_axis(label).reset_index(name='Counts')\n",
    "    return_df[\"probability\"]=return_df[\"Counts\"]/total_count\n",
    "    return_df=return_df.sort_values(by=label)\n",
    "    return return_df\n",
    "    \n",
    "\n",
    "#print(df[\"GENDER1\"])\n",
    "male=df[\"GENDER1\"]==1\n",
    "\n",
    "male_age=age[male]\n",
    "female_age=age[~male]\n",
    "\n",
    "male_age_proba=Pmf(male_age,\"AGE\")\n",
    "female_age_proba=Pmf(female_age,\"AGE\")\n",
    "\n",
    "plt.plot(male_age_proba[\"AGE\"],male_age_proba[\"probability\"])\n",
    "plt.plot(female_age_proba[\"AGE\"],female_age_proba[\"probability\"])\n",
    "plt.legend([\"Male\",\"Female\"])\n",
    "plt.xlabel(\"AGE\")\n",
    "plt.ylabel(\"PMF\")\n",
    "plt.show()\n"
   ]
  },
  {
   "cell_type": "code",
   "execution_count": 136,
   "metadata": {},
   "outputs": [
    {
     "data": {
      "text/plain": [
       "Text(0, 0.5, '$p$')"
      ]
     },
     "execution_count": 136,
     "metadata": {},
     "output_type": "execute_result"
    },
    {
     "data": {
      "text/plain": [
       "<Figure size 432x288 with 0 Axes>"
      ]
     },
     "metadata": {},
     "output_type": "display_data"
    },
    {
     "data": {
      "text/plain": [
       "<Figure size 432x288 with 0 Axes>"
      ]
     },
     "metadata": {},
     "output_type": "display_data"
    },
    {
     "data": {
      "image/png": "[encoded data removed]",
      "text/plain": [
       "<Figure size 432x288 with 1 Axes>"
      ]
     },
     "metadata": {
      "needs_background": "light"
     },
     "output_type": "display_data"
    }
   ],
   "source": [
    "male_age_df=cdf(male_age,\"AGE\")\n",
    "female_age_df=cdf(female_age,\"AGE\")\n",
    "fig = plt.figure()\n",
    "ax2 = fig.add_subplot(122)\n",
    "ax2.plot(male_age_df[\"AGE\"], male_age_df[\"probability\"])\n",
    "ax2.plot(female_age_df[\"AGE\"], female_age_df[\"probability\"])\n",
    "ax2.set_xlabel('$AGE$')\n",
    "ax2.set_ylabel('$p$')\n"
   ]
  },
  {
   "cell_type": "code",
   "execution_count": 137,
   "metadata": {},
   "outputs": [
    {
     "name": "stdout",
     "output_type": "stream",
     "text": [
      "[2018]\n"
     ]
    },
    {
     "data": {
      "text/plain": [
       "Text(0, 0.5, '$p$')"
      ]
     },
     "execution_count": 137,
     "metadata": {},
     "output_type": "execute_result"
    },
    {
     "data": {
      "image/png": "[encoded data removed]",
      "text/plain": [
       "<Figure size 432x288 with 1 Axes>"
      ]
     },
     "metadata": {
      "needs_background": "light"
     },
     "output_type": "display_data"
    }
   ],
   "source": [
    "real_income=df[\"REALINC\"]\n",
    "filter=df[\"YEAR\"]==2018\n",
    "print(df[\"YEAR\"].unique())\n",
    "\n",
    "avg_income=real_income.mean()\n",
    "real_income=real_income.replace(np.nan,avg_income)\n",
    "real_income=real_income.replace(0,avg_income)\n",
    "\n",
    "\n",
    "real_income_df=Pmf(real_income[filter],\"REALINC\")\n",
    "\n",
    "fig = plt.figure()\n",
    "ax2 = fig.add_subplot(122)\n",
    "ax2.plot(real_income_df[\"REALINC\"], real_income_df[\"probability\"])\n",
    "ax2.set_xlabel('$Income$')\n",
    "ax2.set_ylabel('$p$')"
   ]
  },
  {
   "cell_type": "code",
   "execution_count": 138,
   "metadata": {
    "scrolled": false
   },
   "outputs": [
    {
     "data": {
      "image/png": "[encoded data removed]",
      "text/plain": [
       "<Figure size 432x288 with 1 Axes>"
      ]
     },
     "metadata": {
      "needs_background": "light"
     },
     "output_type": "display_data"
    },
    {
     "name": "stdout",
     "output_type": "stream",
     "text": [
      "High School or less education 0.4036281179138322\n",
      "Batchelor Count= 726\n",
      "Associate Count= 418\n",
      "High school or less= 890\n",
      "Total Count 2205\n",
      "High school or less percentage 0.4036281179138322\n"
     ]
    },
    {
     "data": {
      "text/plain": [
       "Text(0, 0.5, '$p$')"
      ]
     },
     "execution_count": 138,
     "metadata": {},
     "output_type": "execute_result"
    },
    {
     "data": {
      "text/plain": [
       "<Figure size 432x288 with 0 Axes>"
      ]
     },
     "metadata": {},
     "output_type": "display_data"
    },
    {
     "data": {
      "text/plain": [
       "<Figure size 432x288 with 0 Axes>"
      ]
     },
     "metadata": {},
     "output_type": "display_data"
    },
    {
     "data": {
      "text/plain": [
       "<Figure size 432x288 with 0 Axes>"
      ]
     },
     "metadata": {},
     "output_type": "display_data"
    },
    {
     "data": {
      "image/png": "[encoded data removed]",
      "text/plain": [
       "<Figure size 432x288 with 1 Axes>"
      ]
     },
     "metadata": {
      "needs_background": "light"
     },
     "output_type": "display_data"
    }
   ],
   "source": [
    "plt.scatter(education,real_income)\n",
    "plt.xlabel(\"Education\")\n",
    "plt.ylabel(\"Income\")\n",
    "plt.show()\n",
    "\n",
    "print(\"High School or less education\", df[df[\"EDUC\"]<=12][\"EDUC\"].count()/df[\"EDUC\"].count())\n",
    "\n",
    "\n",
    "bachelor= (education>=16)\n",
    "associate=(education>=14) & (education<16)\n",
    "highschool=(education<=12)\n",
    "\n",
    "print(\"Batchelor Count=\", education[bachelor].count())\n",
    "print(\"Associate Count=\", education[associate].count())\n",
    "print(\"High school or less=\", education[highschool].count())\n",
    "print(\"Total Count\",education.count())\n",
    "print(\"High school or less percentage\",education[highschool].count()/education.count())\n",
    "\n",
    "\n",
    "\n",
    "bachelor_income_df=cdf(real_income[bachelor],\"REALINC\")\n",
    "associate_income_df=cdf(real_income[associate],\"REALINC\")\n",
    "highschool_income_df=cdf(real_income[highschool],\"REALINC\")\n",
    "#female_age_df=cdf(female_age,\"AGE\")\n",
    "fig = plt.figure()\n",
    "ax2 = fig.add_subplot(122)\n",
    "ax2.plot(bachelor_income_df[\"REALINC\"], bachelor_income_df[\"probability\"],label=\"Bachelor\")\n",
    "ax2.plot(associate_income_df[\"REALINC\"], associate_income_df[\"probability\"],label=\"Associate\")\n",
    "ax2.plot(highschool_income_df[\"REALINC\"], highschool_income_df[\"probability\"],label=\"Associate\")\n",
    "\n",
    "ax2.set_xlabel('$Income$')\n",
    "ax2.set_ylabel('$p$')\n"
   ]
  },
  {
   "cell_type": "code",
   "execution_count": 139,
   "metadata": {},
   "outputs": [
    {
     "name": "stdout",
     "output_type": "stream",
     "text": [
      "kernel density closely approximates the guassian distribution\n",
      "the kde matches closely the pdf\n"
     ]
    },
    {
     "data": {
      "image/png": "[encoded data removed]",
      "text/plain": [
       "<Figure size 432x288 with 1 Axes>"
      ]
     },
     "metadata": {
      "needs_background": "light"
     },
     "output_type": "display_data"
    },
    {
     "name": "stdout",
     "output_type": "stream",
     "text": [
      "kde distribution for education, income, and age\n"
     ]
    },
    {
     "data": {
      "image/png": "[encoded data removed]",
      "text/plain": [
       "<Figure size 432x288 with 1 Axes>"
      ]
     },
     "metadata": {
      "needs_background": "light"
     },
     "output_type": "display_data"
    },
    {
     "data": {
      "image/png": "[encoded data removed]",
      "text/plain": [
       "<Figure size 432x288 with 1 Axes>"
      ]
     },
     "metadata": {
      "needs_background": "light"
     },
     "output_type": "display_data"
    },
    {
     "data": {
      "image/png": "[encoded data removed]",
      "text/plain": [
       "<Figure size 432x288 with 1 Axes>"
      ]
     },
     "metadata": {
      "needs_background": "light"
     },
     "output_type": "display_data"
    }
   ],
   "source": [
    "print(\"kernel density closely approximates the guassian distribution\")\n",
    "sample= np.random.normal(size=1000)\n",
    "\n",
    "xs=np.linspace(-3,3)\n",
    "ys=norm(0,1).pdf(xs)\n",
    "\n",
    "print(\"the kde matches closely the pdf\")\n",
    "plt.plot(xs, ys, color='gray')\n",
    "sns.kdeplot(sample)\n",
    "plt.show()\n",
    "\n",
    "print(\"kde distribution for education, income, and age\")\n",
    "sns.kdeplot(education)\n",
    "plt.xlabel(\"education\")\n",
    "plt.show()\n",
    "sns.kdeplot(real_income)\n",
    "plt.xlabel(\"income\")\n",
    "plt.show()\n",
    "sns.kdeplot(age)\n",
    "plt.xlabel(\"age\")\n",
    "plt.show()"
   ]
  },
  {
   "cell_type": "code",
   "execution_count": 141,
   "metadata": {},
   "outputs": [
    {
     "data": {
      "text/plain": [
       "<matplotlib.axes._subplots.AxesSubplot at 0x2171ccff088>"
      ]
     },
     "execution_count": 141,
     "metadata": {},
     "output_type": "execute_result"
    },
    {
     "data": {
      "image/png": "[encoded data removed]",
      "text/plain": [
       "<Figure size 432x288 with 1 Axes>"
      ]
     },
     "metadata": {
      "needs_background": "light"
     },
     "output_type": "display_data"
    }
   ],
   "source": [
    "avg_education=education.mean()\n",
    "education=education.replace(np.nan,avg_income)\n",
    "education=education.replace(0,avg_income)\n",
    "log_education=np.log10(education)\n",
    "\n",
    "mean=log_education.mean()\n",
    "std=log_education.std()\n",
    "\n",
    "xs = np.linspace(2, 5.5)\n",
    "ys = norm(mean,std).pdf(xs)\n",
    "\n",
    "log_education_df=Pmf(log_education,\"EDUC\")\n",
    "\n",
    "fig = plt.figure()\n",
    "ax2 = fig.add_subplot(122)\n",
    "ax2.plot(xs, ys)\n",
    "ax2.plot(log_education_df[\"EDUC\"], log_education_df[\"probability\"])\n",
    "education=df[\"EDUC\"].astype(float)\n",
    "sns.kdeplot(log_education)"
   ]
  },
  {
   "cell_type": "code",
   "execution_count": 171,
   "metadata": {},
   "outputs": [
    {
     "data": {
      "image/png": "[encoded data removed]",
      "text/plain": [
       "<Figure size 432x288 with 1 Axes>"
      ]
     },
     "metadata": {
      "needs_background": "light"
     },
     "output_type": "display_data"
    }
   ],
   "source": [
    "height=df[\"HEIGHT\"].astype(float)\n",
    "height=height.replace([98,99],np.nan)\n",
    "\n",
    "weight=df[\"WEIGHT\"].astype(float)\n",
    "weight=weight.replace([98,99],np.nan)\n",
    "\n",
    "weight_filter=(df[\"WEIGHT\"]<400) &(df[\"WEIGHT\"]>200)\n",
    "weight= df[weight_filter][\"WEIGHT\"]\n",
    "\n",
    "sns.boxplot(x=height, y=weight, data=df, whis=10)\n",
    "plt.yscale(\"log\")\n",
    "plt.show()"
   ]
  },
  {
   "cell_type": "code",
   "execution_count": 143,
   "metadata": {},
   "outputs": [
    {
     "name": "stdout",
     "output_type": "stream",
     "text": [
      "probability distribution of the income categories\n"
     ]
    },
    {
     "data": {
      "image/png": "[encoded data removed]",
      "text/plain": [
       "<Figure size 432x288 with 1 Axes>"
      ]
     },
     "metadata": {
      "needs_background": "light"
     },
     "output_type": "display_data"
    }
   ],
   "source": [
    "print(\"probability distribution of the income categories\")\n",
    "income_category=df[\"INCOME\"]\n",
    "income_category=income_category.replace([98,99],np.nan)\n",
    "\n",
    "income_category_df=Pmf(income_category,\"INCOME\")\n",
    "\n",
    "\n",
    "fig = plt.figure()\n",
    "ax2 = fig.add_subplot(122)\n",
    "ax2.plot(xs, ys)\n",
    "ax2.bar(income_category_df[\"INCOME\"], income_category_df[\"probability\"])\n",
    "ax2.plot(income_category_df[\"INCOME\"], income_category_df[\"probability\"])\n",
    "\n",
    "plt.show()\n",
    "\n",
    "\n",
    "\n"
   ]
  },
  {
   "cell_type": "code",
   "execution_count": 144,
   "metadata": {},
   "outputs": [
    {
     "data": {
      "image/png": "[encoded data removed]",
      "text/plain": [
       "<Figure size 432x288 with 1 Axes>"
      ]
     },
     "metadata": {
      "needs_background": "light"
     },
     "output_type": "display_data"
    }
   ],
   "source": [
    "# Make a violin plot\n",
    "\n",
    "sns.violinplot(x=\"INCOME\",y=\"HEIGHT\",data=df,inner=None)\n",
    "# Remove unneeded lines and label axes\n",
    "sns.despine(left=True, bottom=True)\n",
    "plt.xlabel('Income category')\n",
    "plt.ylabel('Height')\n",
    "plt.show()\n",
    "\n",
    "\n"
   ]
  },
  {
   "cell_type": "code",
   "execution_count": 145,
   "metadata": {},
   "outputs": [],
   "source": [
    "def pearson_r(x,y):\n",
    "    \"\"\"Compute Pearson correlation coefficient between two arrays.\"\"\"\n",
    "    # Compute correlation matrix: corr_mat\n",
    "    corr_mat=np.corrcoef(x,y)\n",
    "#covariance/(std of x)*(std of y)\n",
    "    # Return entry [0,1]\n",
    "    return corr_mat[0,1]"
   ]
  },
  {
   "cell_type": "code",
   "execution_count": 140,
   "metadata": {},
   "outputs": [
    {
     "name": "stdout",
     "output_type": "stream",
     "text": [
      "compare distribution of log 10 of income with the cdf of income\n"
     ]
    },
    {
     "data": {
      "text/plain": [
       "<Figure size 432x288 with 0 Axes>"
      ]
     },
     "metadata": {},
     "output_type": "display_data"
    },
    {
     "data": {
      "image/png": "[encoded data removed]",
      "text/plain": [
       "<Figure size 432x288 with 1 Axes>"
      ]
     },
     "metadata": {
      "needs_background": "light"
     },
     "output_type": "display_data"
    }
   ],
   "source": [
    "print (\"compare distribution of log 10 of income with the cdf of income\")\n",
    "log_income=np.log10(real_income)\n",
    "\n",
    "mean=log_income.mean()\n",
    "std=log_income.std()\n",
    "\n",
    "xs = np.linspace(2, 5.5)\n",
    "ys = norm(mean,std).cdf(xs)\n",
    "\n",
    "# Plot the model CDF\n",
    "#plt.clf()\n",
    "#plt.plot(xs, ys, color='gray')\n",
    "\n",
    "#log_income.plot()\n",
    "log_income_df=cdf(log_income,\"REALINC\")\n",
    "\n",
    "fig = plt.figure()\n",
    "ax2 = fig.add_subplot(222)\n",
    "ax2.plot(xs, ys)\n",
    "ax2.plot(log_income_df[\"REALINC\"], log_income_df[\"probability\"])\n",
    "\n",
    "# Label the axes\n",
    "plt.xlabel('log10 of realinc')\n",
    "plt.ylabel('CDF')\n",
    "plt.show()"
   ]
  },
  {
   "cell_type": "code",
   "execution_count": 149,
   "metadata": {},
   "outputs": [
    {
     "name": "stdout",
     "output_type": "stream",
     "text": [
      "pearon_r weight to height 0.7139494070530987\n",
      "pearon_r age to weight -0.24236585523370957\n",
      "person_r education to age 0.03922719859983616\n",
      "person_r education to income 0.36956340491635115\n",
      "              AGE    HEIGHT    WEIGHT   REALINC      EDUC\n",
      "AGE      1.000000 -0.365089 -0.242366  0.028980 -0.012980\n",
      "HEIGHT  -0.365089  1.000000  0.713949  0.206440  0.135248\n",
      "WEIGHT  -0.242366  0.713949  1.000000  0.131929  0.130260\n",
      "REALINC  0.028980  0.206440  0.131929  1.000000  0.367088\n",
      "EDUC    -0.012980  0.135248  0.130260  0.367088  1.000000\n"
     ]
    }
   ],
   "source": [
    "\n",
    "print(\"pearon_r weight to height\",pearson_r(height,weight))\n",
    "print(\"pearon_r age to weight\",pearson_r(age,weight))\n",
    "print(\"person_r education to age\",pearson_r(real_income,age))\n",
    "print(\"person_r education to income\",pearson_r(real_income,education))\n",
    "\n",
    "columns=['AGE','HEIGHT','WEIGHT','REALINC','EDUC']\n",
    "\n",
    "subset=df[columns]\n",
    "print(subset.corr())\n"
   ]
  },
  {
   "cell_type": "code",
   "execution_count": 177,
   "metadata": {},
   "outputs": [
    {
     "data": {
      "image/png": "[encoded data removed]",
      "text/plain": [
       "<Figure size 432x288 with 1 Axes>"
      ]
     },
     "metadata": {
      "needs_background": "light"
     },
     "output_type": "display_data"
    },
    {
     "name": "stdout",
     "output_type": "stream",
     "text": [
      "[[1.         0.02472595]\n",
      " [0.02472595 1.        ]]\n",
      "the correlation is close to zero even though there is a non linear correlation\n",
      "rvalue correlation variable 0.024725946663178722\n",
      "rvalue of the linear regresor shows correlation\n"
     ]
    }
   ],
   "source": [
    "xs=np.linspace(-1,1)\n",
    "ys=xs**2\n",
    "\n",
    "ys += np.random.normal(0,0.05, len(xs))\n",
    "\n",
    "plt.scatter(xs,ys)\n",
    "plt.show()\n",
    "\n",
    "print(np.corrcoef(xs,ys))\n",
    "\n",
    "print(\"the correlation is close to zero even though there is a non linear correlation\")\n",
    "\n",
    "res=linregress(xs,ys)\n",
    "print(\"rvalue correlation variable\", res.rvalue)\n",
    "print(\"rvalue of the linear regresor shows correlation\")"
   ]
  },
  {
   "cell_type": "code",
   "execution_count": 188,
   "metadata": {
    "scrolled": true
   },
   "outputs": [
    {
     "name": "stdout",
     "output_type": "stream",
     "text": [
      "rvalue correlation variable 0.16842139165080022\n"
     ]
    },
    {
     "data": {
      "image/png": "[encoded data removed]",
      "text/plain": [
       "<Figure size 432x288 with 1 Axes>"
      ]
     },
     "metadata": {
      "needs_background": "light"
     },
     "output_type": "display_data"
    }
   ],
   "source": [
    "res=linregress(height[weight_filter],weight)\n",
    "print(\"rvalue correlation variable\", res.rvalue)\n",
    "\n",
    "fx=np.array([height[weight_filter].min(),height[weight_filter].max()])\n",
    "fy=res.intercept + res.slope * fx\n",
    "\n",
    "plt.clf()\n",
    "\n",
    "height_jitter = height[weight_filter] + np.random.normal(0,2,size=len(height[weight_filter]))\n",
    "\n",
    "plt.plot(height_jitter,weight,'o', alpha=0.2,markersize=3)\n",
    "plt.plot(fx,fy,'-',color='red')\n",
    "plt.show()\n",
    "\n",
    "\n"
   ]
  },
  {
   "cell_type": "code",
   "execution_count": null,
   "metadata": {},
   "outputs": [],
   "source": []
  }
 ],
 "metadata": {
  "kernelspec": {
   "display_name": "Python 3",
   "language": "python",
   "name": "python3"
  },
  "language_info": {
   "codemirror_mode": {
    "name": "ipython",
    "version": 3
   },
   "file_extension": ".py",
   "mimetype": "text/x-python",
   "name": "python",
   "nbconvert_exporter": "python",
   "pygments_lexer": "ipython3",
   "version": "3.7.7"
  }
 },
 "nbformat": 4,
 "nbformat_minor": 4
}
