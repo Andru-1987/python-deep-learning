{
 "cells": [
  {
   "cell_type": "code",
   "execution_count": null,
   "metadata": {},
   "outputs": [],
   "source": [
    "#https://anaconda.org/anaconda/sas7bdat\n",
    "from sas7bdat import SAS7BDAT\n",
    "import matplotlib.pyplot as plt\n",
    "import pandas as pd\n",
    "import seaborn as sns\n",
    "import numpy as np\n"
   ]
  },
  {
   "cell_type": "code",
   "execution_count": null,
   "metadata": {},
   "outputs": [],
   "source": [
    "with SAS7BDAT('crime.sas7bdat') as file:\n",
    "    df_sas=file.to_data_frame()"
   ]
  },
  {
   "cell_type": "code",
   "execution_count": null,
   "metadata": {},
   "outputs": [],
   "source": [
    "#print(df_sas['Location'])\n",
    "print(df_sas[['Description','IUCR']])\n",
    "print(df_sas.columns)"
   ]
  },
  {
   "cell_type": "code",
   "execution_count": null,
   "metadata": {},
   "outputs": [],
   "source": [
    "pd.DataFrame.hist(df_sas[['Year']])\n",
    "plt.ylabel('count')\n",
    "plt.show()\n",
    "\n",
    "df_sas['ArrestInt']=df_sas['Arrest'].apply(lambda x: 0 if x=='true' else 1)\n",
    "\n",
    "#print(df_sas['ArrestInt'])\n",
    "plt.figure(figsize=(22,6))\n",
    "iucr=df_sas.groupby(['IUCR'])['ArrestInt'].sum().nlargest(40).sort_values(ascending=False)\n",
    "iucr.plot.bar()\n",
    "plt.show()\n",
    "\n",
    "#print(iucr.index)\n",
    "\n",
    "_ = sns.swarmplot(y=iucr.values)\n",
    "_ = plt.xlabel('IUCR')\n",
    "_ = plt.ylabel('Arrest by IUCR code')\n",
    "\n",
    "# Show the plot\n",
    "plt.show()\n",
    "\n",
    "#print(df_sas.groupby(['District'])['Arrest'].count())"
   ]
  },
  {
   "cell_type": "code",
   "execution_count": null,
   "metadata": {},
   "outputs": [],
   "source": [
    "arrest_descriptions=df_sas[df_sas['IUCR'].isin(iucr.index)]['Description'].unique()\n",
    "\n",
    "arrest_descriptions=np.sort(arrest_descriptions)\n",
    "\n",
    "result= df_sas[df_sas['Description'].isin(arrest_descriptions)]\n",
    "\n",
    "#result=result[result['Year']==2016].groupby('Description')['ArrestInt'].apply(lambda x: x.sum()).reset_index()\n",
    "result=result.groupby('Description')['ArrestInt'].apply(lambda x: x.sum()).reset_index()\n",
    "\n",
    "#print(result.head())\n",
    "\n",
    "print (df_sas['Year'].unique())\n",
    "\n",
    "for key,item in result.iterrows():\n",
    "    print(item['Description'],\" [Occurrences: \"+ str(item['ArrestInt'])+']')\n",
    "    #print(item.Description,item.ArrestInt)"
   ]
  },
  {
   "cell_type": "code",
   "execution_count": null,
   "metadata": {},
   "outputs": [],
   "source": [
    "#print(df_sas['Domestic'])\n",
    "\n",
    "df_sas['DomesticInt']=df_sas['Domestic'].astype(bool).astype(int)\n",
    "#result=result.groupby('Description')['Domestic'].apply(lambda x: x.sum()).reset_index()\n",
    "\n",
    "plt.figure(figsize=(22,6))\n",
    "iucr=df_sas.groupby(['IUCR'])['DomesticInt'].sum().nlargest(40).sort_values(ascending=False)\n",
    "iucr.plot.bar()\n",
    "plt.show()\n"
   ]
  },
  {
   "cell_type": "code",
   "execution_count": null,
   "metadata": {},
   "outputs": [],
   "source": [
    "#features = ['IUCR','fbi_code','arrest_code','primary_type']\n",
    "\n",
    "#sns.pairplot(\n",
    "#    data=df_sas,\n",
    "#    vars=features,\n",
    "#    size=1,\n",
    "#    plot_kws={'s': 5}\n",
    "#)\n",
    "#plt.show()\n",
    "#print(\"arrest_code\")\n",
    "#print(df_sas['arrest_code'].value_counts())\n",
    "#print(\"fbi_code\")\n",
    "\n",
    "df_sas['Domestic']=df_sas['Domestic'].astype(bool)\n",
    "\n",
    "filter=df_sas['Domestic']==True\n",
    "print(\"Domestic:\")\n",
    "#print(df_sas[filter]['fbi_code'].value_counts())\n",
    "df_sas[filter]['fbi_code'].value_counts().plot.bar()\n",
    "plt.show()\n",
    "\n",
    "filter=df_sas['Domestic'].isnull()==True\n",
    "\n",
    "print(\"no Non-Domestic:\")\n",
    "#print(df_sas[filter]['fbi_code'].value_counts())\n",
    "#result=df_sas[filter]['fbi_code'].value_counts()\n",
    "#print(len(result))\n",
    "#plt.show()\n",
    "\n",
    "plt.figure(figsize=(22,6))\n",
    "print(\"IUCR\")\n",
    "#print(df_sas['IUCR'].value_counts())\n",
    "df_sas['IUCR'].value_counts().nlargest(100).plot.bar()\n",
    "plt.show()"
   ]
  },
  {
   "cell_type": "code",
   "execution_count": null,
   "metadata": {},
   "outputs": [],
   "source": [
    "districts=df_sas['District'].unique()\n",
    "print(districts)\n",
    "\n",
    "print(df_sas[df_sas['District'].isin(districts)]['ArrestInt'].mean())\n",
    "\n",
    "print(df_sas.groupby('District')['ArrestInt'].mean())\n",
    "\n",
    "print(df_sas.groupby(['District','Ward'])['ArrestInt'].mean())"
   ]
  },
  {
   "cell_type": "code",
   "execution_count": null,
   "metadata": {},
   "outputs": [],
   "source": [
    "def left(s, amount):\n",
    "    return s[:amount]\n",
    "\n",
    "def right(s, amount):\n",
    "    return s[-amount:]\n",
    "\n",
    "def mid(s, offset, amount):\n",
    "    return s[offset:offset+amount]\n",
    "\n",
    "df_sas['Year']=pd.DatetimeIndex(df_sas['date']).year\n",
    "df_sas['Hour']=pd.DatetimeIndex(df_sas['date']).hour\n",
    "df_sas['Month']=pd.DatetimeIndex(df_sas['date']).month\n",
    "\n",
    "arrest_year=df_sas.groupby(['Year'])['ArrestInt'].sum()\n",
    "\n",
    "plt.figure(figsize=(22,6))\n",
    "arrest_year.plot()\n",
    "plt.xlabel('Year')\n",
    "plt.ylabel('Arrests')\n",
    "plt.show()"
   ]
  },
  {
   "cell_type": "code",
   "execution_count": null,
   "metadata": {},
   "outputs": [],
   "source": [
    "fbi_codes=df_sas['fbi_code'].unique()\n",
    "\n",
    "for code in fbi_codes:\n",
    "    #print(code)\n",
    "    filter=df_sas['fbi_code']==code\n",
    "    data=df_sas[filter].groupby(['Year','Month'])['ArrestInt'].sum()\n",
    "    plt.figure(figsize=(12,2))             \n",
    "    plt.title(code)\n",
    "    data.plot()\n",
    "    plt.show()\n",
    "\n",
    "\n"
   ]
  },
  {
   "cell_type": "code",
   "execution_count": null,
   "metadata": {},
   "outputs": [],
   "source": [
    "result=df_sas.groupby(['Year','Month','fbi_code'])['ArrestInt'].sum().reset_index()\n",
    "#print(top20.columns)\n",
    "mask=result['ArrestInt']>30\n",
    "fbi_codes=result[mask]['fbi_code'].unique()\n",
    "\n",
    "filter=df_sas['fbi_code'].isin(fbi_codes) \n",
    "fbi_codes=df_sas['fbi_code'].unique()\n",
    "\n",
    "arrest_breakdown=df_sas[filter].groupby(['Year','Month','fbi_code'])['ArrestInt'].sum().reset_index()\n",
    "keys=arrest_breakdown.keys()\n",
    "#print(arrest_breakdown)\n",
    "\n",
    "g = sns.factorplot(data=arrest_breakdown, x='Year', y='ArrestInt', \n",
    "                  hue='fbi_code',  kind='point',size=8,aspect=2)\n",
    "\n",
    "plt.show()\n",
    "\n"
   ]
  },
  {
   "cell_type": "code",
   "execution_count": null,
   "metadata": {},
   "outputs": [
    {
     "name": "stdout",
     "output_type": "stream",
     "text": [
      "[-117.046587, 41.998903, -111.080857, 48.735223999999995]\n",
      "227\n"
     ]
    }
   ],
   "source": [
    "def check(polygon, lon, lat):\n",
    "    # build a shapely point from your geopoint\n",
    "    point = Point(lon, lat)\n",
    "\n",
    "    # the contains function does exactly what you want\n",
    "    return polygon.contains(point)\n",
    "\n",
    "import shapefile\n",
    "from shapely.geometry import shape, Point,Polygon\n",
    "\n",
    "myshp = open('idaho_shapely.shp', 'rb')\n",
    "mydbf = open('idaho_shapely.dbf', 'rb')\n",
    "\n",
    "reader = shapefile.Reader(shp=myshp, dbf=mydbf)\n",
    "\n",
    "print(reader.bbox)\n",
    "print(reader.numRecords)\n",
    "#print(type(shape))\n",
    "\n",
    "#shapes = reader.shapes()\n",
    "#polygon = shape(shapes[0])  \n",
    "\n",
    "#print(polygon)\n",
    "\n",
    "#first feature of the shapefile\n",
    "#feature = shape.shapeRecords()[0]\n",
    "#first = feature.shape.__geo_interface__  \n",
    "#print (first)\n",
    "\n",
    "#'X_Coordinate', 'Y_Coordinate'\n",
    "df_idaho=df_sas.copy(deep=False)\n",
    "for index,item in df_sas.iterrows():\n",
    "    #print(item)\n",
    "    #gps=  list(eval(item['Location']))\n",
    "    #print(gps)\n",
    "    latitude=item['Latitude']\n",
    "    longitude=item['Longitude']\n",
    "    for i in np.arange(len(shapes)):\n",
    "        polygon=shape(shapes[i])\n",
    "        if check(polygon, latitude,longitude)==True:\n",
    "            df_idaho.append(item)\n",
    "            print(item)\n",
    "    #print(latitude,longitude)\n",
    "    "
   ]
  },
  {
   "cell_type": "code",
   "execution_count": null,
   "metadata": {},
   "outputs": [],
   "source": [
    "print(df_idaho.head())"
   ]
  },
  {
   "cell_type": "code",
   "execution_count": null,
   "metadata": {},
   "outputs": [],
   "source": []
  }
 ],
 "metadata": {
  "kernelspec": {
   "display_name": "Python 3",
   "language": "python",
   "name": "python3"
  }
 },
 "nbformat": 4,
 "nbformat_minor": 4
}
