{
 "cells": [
  {
   "cell_type": "code",
   "execution_count": 95,
   "metadata": {},
   "outputs": [],
   "source": [
    "import pandas as pd\n",
    "import numpy as np\n",
    "import matplotlib.pyplot as plt "
   ]
  },
  {
   "cell_type": "code",
   "execution_count": 96,
   "metadata": {},
   "outputs": [],
   "source": [
    "def permutation_replicate(data_1, data_2, func, size=1):\n",
    "    \"\"\"Generate multiple permutation replicates.\"\"\"\n",
    "    # Initialize array of replicates: perm_replicates\n",
    "    perm_replicates = np.empty(size)\n",
    "\n",
    "    for i in range(size):\n",
    "        # Generate permutation sample\n",
    "        perm_sample_1, perm_sample_2 = permutation_sample(data_1, data_2)\n",
    "        # Compute the test statistic\n",
    "        perm_replicates[i] = func(perm_sample_1, perm_sample_2)\n",
    "    return perm_replicates\n",
    "\n",
    "def permutation_sample(data1, data2):\n",
    "    \"\"\"Generate a permutation sample from two data sets.\"\"\"\n",
    "\n",
    "    # Concatenate the data sets: data\n",
    "    data = np.concatenate((data1,data2))\n",
    "\n",
    "    # Permute the concatenated array: permuted_data\n",
    "    permuted_data = np.random.permutation(data)\n",
    "\n",
    "    # Split the permuted array into two: perm_sample_1, perm_sample_2\n",
    "    perm_sample_1 = permuted_data[:len(data1)]\n",
    "    perm_sample_2 = permuted_data[len(data1):]\n",
    "\n",
    "    return perm_sample_1, perm_sample_2\n",
    "\n",
    "def diff_frac(data_A, data_B):\n",
    "    frac_A=np.sum(data_A) / len(data_A)\n",
    "    frac_B=np.sum(data_B) / len(data_B)\n",
    "    return frac_B-frac_A\n",
    "\n",
    "def ecdf(data):\n",
    "    #Compute ECDF for a one-dimensional array of measurements.\n",
    "    # Number of data points: n\n",
    "    n =len(data)\n",
    "\n",
    "    # x-data for the ECDF: x\n",
    "    x = np.sort(data)\n",
    "\n",
    "    # y-data for the ECDF: y\n",
    "    y = np.arange(1,n+1) / n\n",
    "\n",
    "    return x, y"
   ]
  },
  {
   "cell_type": "code",
   "execution_count": 97,
   "metadata": {},
   "outputs": [
    {
     "name": "stdout",
     "output_type": "stream",
     "text": [
      "0.5061\n",
      "The website change did not affect clickthroughs\n"
     ]
    }
   ],
   "source": [
    "perm_replicates=np.empty(10000)\n",
    "clickthrough_A=[45]\n",
    "clickthrough_B=[67]\n",
    "\n",
    "for i in range(10000):\n",
    "    perm_replicates[i]=permutation_replicate(\n",
    "    clickthrough_A, clickthrough_B, diff_frac)\n",
    "\n",
    "diff_frac_obs=diff_frac(clickthrough_A,clickthrough_B)\n",
    "\n",
    "p_value=np.sum(perm_replicates>=diff_frac_obs)/10000\n",
    "\n",
    "print(p_value)\n",
    "\n",
    "print(\"The website change did not affect clickthroughs\")"
   ]
  },
  {
   "cell_type": "code",
   "execution_count": 98,
   "metadata": {},
   "outputs": [
    {
     "name": "stdout",
     "output_type": "stream",
     "text": [
      "p-value= 0.0002\n",
      "party affliation did affect vote\n"
     ]
    }
   ],
   "source": [
    "#civil rights act of 1964\n",
    "#153 house democrats\n",
    "#136 republicans\n",
    "#91 democrats voted\n",
    "#35 republicans voted\n",
    "def draw_perm_reps(data_1, data_2, func, size=1):\n",
    "    \"\"\"Generate multiple permutation replicates.\"\"\"\n",
    "    # Initialize array of replicates: perm_replicates\n",
    "    perm_replicates = np.empty(size)\n",
    "    for i in range(size):\n",
    "        # Generate permutation sample\n",
    "        perm_sample_1, perm_sample_2 = permutation_sample(data_1, data_2)\n",
    "        # Compute the test statistic\n",
    "        perm_replicates[i] = func(perm_sample_1, perm_sample_2)\n",
    "    return perm_replicates\n",
    "\n",
    "def frac_yea_dems(dems, reps):\n",
    "    \"\"\"Compute fraction of Democrat yea votes.\"\"\"\n",
    "    frac = np.sum(dems) / len(dems)\n",
    "    return frac\n",
    "\n",
    "\n",
    "dems = np.array([True] * 153 + [False] * 91)\n",
    "reps = np.array([True] * 136 + [False] * 35)\n",
    "\n",
    "\n",
    "#perm_replicates=np.empty(10000)\n",
    "# Computefor i in range(10000):\n",
    "    # perm_replicates[i]=permutation_replicate(\n",
    "    #dems,reps, diff_frac)\n",
    "\n",
    "perm_replicates = draw_perm_reps(dems, reps, frac_yea_dems, 10000)\n",
    "# print(perm_replicates)\n",
    "# print(perm_replicates.shape)\n",
    "p_value = np.sum(perm_replicates <= 153/244) / len(perm_replicates)\n",
    "\n",
    "print(\"p-value=\",p_value)\n",
    "\n",
    "print(\"party affliation did affect vote\")\n"
   ]
  },
  {
   "cell_type": "code",
   "execution_count": 99,
   "metadata": {},
   "outputs": [
    {
     "name": "stdout",
     "output_type": "stream",
     "text": [
      "-345.0011367942402\n",
      "p-val = 0.0\n",
      "the rule changes resulted in a slower rate of no-hitters\n"
     ]
    }
   ],
   "source": [
    "#the pitcher was no longer allowed to spit on or scuff the ball, \n",
    "#an activity that greatly favors pitchers.\n",
    "\n",
    "#did the rule changes result in a slower rate of no-hitters \n",
    "#(longer average time between no-hitters)\n",
    "\n",
    "#nht = no hitter time\n",
    "\n",
    "def diff_of_means(data_1, data_2):\n",
    "    \"\"\"Difference in means of two arrays.\"\"\"\n",
    "    # The difference of means of data_1, data_2: diff\n",
    "    diff = np.mean(data_1) - np.mean(data_2)\n",
    "    return diff\n",
    "\n",
    "nht_dead=[-1,894,10,130,1,934,29,6,485,254,372,81,191,355,180,286,47,269,361,173,246,492,462,1319,58,297,31,2970,640,237,434,570,77,271,563,3365,89,0,379,221,479,367,628,843,1613,1101,215,684,814,278,324,161,219,545,715,966,624, 29,450,107,20,91,1325,124,1468,104,1309,429,62,1878,1104,123,251,93,188,983,166,96,702,23,524,26,299,59,39,12,2,308,1114,813,887]\n",
    "nht_live=[645,2088,42,2090,11,886,1665,1084,2900,2432,750,4021,1070,1765,1322,26,548,1525,77,2181,2752,127,2147,211,41,1575,151,479\n",
    ",697,557,2267,542,392,73,603,233,255,528,397,1529,1023,1194,462,583,37,943,996,480,1497,717,224,219,1531,498,44,288\n",
    ",267,600,52,269,1086,386,176,2199,216,54,675,1243,463,650,171,327,110,774,509,8,197,136,12,1124,64,380,811,232\n",
    ",192,731,715,226,605,539,1491,323,240,179,702,156,82,1397,354,778,603,1001,385,986,203,149,576,445,180,1403,252,675\n",
    ",1351,2983,1568,45,899,3260,1025,31,100,2055,4043,79,238,3931,2351,595,110,215,0,563,206,660,242,577,179,157,192,192\n",
    ",1848,792,1693,55,388,225,1134,1172,1555,31,1582,1044,378,1687,2915,280,765,2819,511,1521,745,2491,580,2072,6450,578,745,1075\n",
    ",1103,1549,1520,138,1202,296,277,351,391,950,459,62,1056,1128,139,420,87,71,814,603,1349,162,1027,783,326,101,876,381\n",
    ",905,156,419,239,119,129,467]\n",
    "\n",
    "\n",
    "nht_diff_obs = diff_of_means(nht_dead, nht_live)\n",
    "\n",
    "print(nht_diff_obs)\n",
    "\n",
    "# Acquire 10,000 permutation replicates of difference in mean no-hitter time: perm_replicates\n",
    "perm_replicates = draw_perm_reps(nht_dead, nht_live,\n",
    "                                 diff_of_means, size=10000)\n",
    "\n",
    "# Compute and print the p-value: p\n",
    "p = np.sum(perm_replicates <= nht_diff_obs) / len(perm_replicates)\n",
    "print('p-val =', p)\n",
    "\n",
    "print(\"the rule changes resulted in a slower rate of no-hitters\")\n"
   ]
  },
  {
   "cell_type": "code",
   "execution_count": 100,
   "metadata": {},
   "outputs": [
    {
     "data": {
      "image/png": "[encoded data removed]",
      "text/plain": [
       "<Figure size 432x288 with 1 Axes>"
      ]
     },
     "metadata": {
      "needs_background": "light"
     },
     "output_type": "display_data"
    },
    {
     "name": "stderr",
     "output_type": "stream",
     "text": [
      "C:\\Users\\dnishimoto.BOISE\\AppData\\Local\\Continuum\\anaconda3\\envs\\deeplearning\\lib\\site-packages\\ipykernel_launcher.py:28: MatplotlibDeprecationWarning: \n",
      "The 'normed' kwarg was deprecated in Matplotlib 2.1 and will be removed in 3.1. Use 'density' instead.\n"
     ]
    },
    {
     "data": {
      "image/png": "[encoded data removed]",
      "text/plain": [
       "<Figure size 432x288 with 1 Axes>"
      ]
     },
     "metadata": {
      "needs_background": "light"
     },
     "output_type": "display_data"
    }
   ],
   "source": [
    "nht=[843,1613,1101,215,684,814,278,324,161,219,545,715,966,624\n",
    ",29,450,107,20,91,1325,124,1468,104,1309,429,62,1878,1104\n",
    ",123,251,93,188,983,166,96,702,23,524,26,299,59,39\n",
    ",12,2,308,1114,813,887,645,2088,42,2090,11,886,1665,1084\n",
    ",2900,2432,750,4021,1070,1765,1322,26,548,1525,77,2181,2752,127\n",
    ",2147,211,41,1575,151,479,697,557,2267,542,392,73,603,233\n",
    ",255,528,397,1529,1023,1194,462,583,37,943,996,480,1497,717\n",
    ",224,219,1531,498,44,288,267,600,52,269,1086,386,176,2199\n",
    ",216,54,675,1243,463,650,171,327,110,774,509,8,197,136\n",
    ",12,1124,64,380,811,232,192,731,715,226,605,539,1491,323\n",
    ",240,179,702,156,82,1397,354,778,603,1001,385,986,203,149\n",
    ",576,445,180,1403,252,675,1351,2983,1568,45,899,3260,1025,31\n",
    ",100,2055,4043,79,238,3931,2351,595,110,215,0,563,206,660\n",
    ",242,577,179,157,192,192,1848,792,1693,55,388,225,1134,1172\n",
    ",1555,31,1582,1044,378,1687,2915,280,765,2819,511,1521,745,2491\n",
    ",580,2072,6450,578,745,1075,1103,1549,1520,138,1202,296,277,351\n",
    ",391,950,459,62,1056,1128,139,420,87,71,814,603,1349,162\n",
    ",1027,783,326,101,876,381,905,156,419,239,119,129,467]\n",
    "\n",
    "plt.plot(nht)\n",
    "plt.xlabel('days between no hitters')\n",
    "plt.show()\n",
    "tau = np.mean(nht)\n",
    "inter_nohitter_time = np.random.exponential(tau, 100000)\n",
    "\n",
    "# Plot the PDF and label axes\n",
    "_ = plt.hist(inter_nohitter_time,\n",
    "             bins=50, normed=True, histtype='step')\n",
    "_ = plt.xlabel('Games between no-hitters')\n",
    "_ = plt.ylabel('PDF')\n",
    "\n",
    "# Show the plot\n",
    "plt.show()\n",
    "\n"
   ]
  },
  {
   "cell_type": "code",
   "execution_count": null,
   "metadata": {},
   "outputs": [],
   "source": []
  }
 ],
 "metadata": {
  "kernelspec": {
   "display_name": "Python 3",
   "language": "python",
   "name": "python3"
  },
  "language_info": {
   "codemirror_mode": {
    "name": "ipython",
    "version": 3
   },
   "file_extension": ".py",
   "mimetype": "text/x-python",
   "name": "python",
   "nbconvert_exporter": "python",
   "pygments_lexer": "ipython3",
   "version": "3.7.7"
  }
 },
 "nbformat": 4,
 "nbformat_minor": 4
}
