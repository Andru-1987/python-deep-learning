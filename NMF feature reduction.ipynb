{
 "cells": [
  {
   "cell_type": "code",
   "execution_count": 34,
   "metadata": {},
   "outputs": [],
   "source": [
    "from sklearn.decomposition import NMF\n",
    "from sklearn.feature_extraction.text import TfidfVectorizer\n",
    "import pandas as pd\n",
    "import nltk\n",
    "\n",
    "#nltk.download()"
   ]
  },
  {
   "cell_type": "code",
   "execution_count": 35,
   "metadata": {},
   "outputs": [
    {
     "name": "stdout",
     "output_type": "stream",
     "text": [
      "['Herbert', 'Simon', 'research', 'and', 'concepts', 'increased', 'computer', 'scientist', 'understanding', 'of', 'reasoning', 'and', 'increased', 'the', 'computer', \"'s\", 'ability', 'too', 'solve', 'problems', 'and', 'proof', 'theorems', 'Herbert', 'Simon', ',', 'Al', 'Newell', ',', 'Clifford', 'Shaw', 'proposals', 'were', 'radical', 'and', 'affect', 'computer', 'scientist', 'today', 'In', 'Simon', '’', 's', 'book', ',', '“', 'Models', 'of', 'my', 'life', '”', ',', 'Simon', 'demonstrated', 'the', 'Logical', 'Theorem', 'algorithm', 'could', 'prove', 'certain', 'mathematical', 'theorems', 'Simon', 'said', ',', '“', 'This', 'was', 'the', 'task', 'to', 'get', 'a', 'system', 'to', 'discover', 'proof', 'for', 'a', 'theorem', ',', 'not', 'simply', 'to', 'test', 'the', 'proof', 'We', 'picked', 'logic', 'just', 'because', 'I', 'happened', 'to', 'have', 'Principia', 'Mathematica', 'sitting', 'on', 'my', 'shelf', 'and', 'I', 'was', 'using', 'it', 'to', 'see', 'what', 'was', 'involved', 'in', 'finding', 'a', 'proof', 'of', 'anything', '”', 'Alfred', 'North', 'Whitehead', 'and', 'Bertrand', 'Russell', 'book', 'Principia', 'Mathematica', 'contained', 'theorems', 'considered', 'to', 'form', 'the', 'foundation', 'of', 'mathematical', 'logic', 'Simeon', 'evolved', 'Logic', 'theorem', 'into', 'General', 'problem', 'solver', 'GPS', 'is', 'currently', 'used', 'in', 'robotics', 'and', 'gives', 'the', 'robot', 'amazing', 'problem', 'solving', 'capabilities', 'Many', 'mathematicians', 'considered', 'some', 'of', 'LTs', 'proofs', 'superior', 'to', 'those', 'previously']\n"
     ]
    }
   ],
   "source": [
    "paragraph=\"Herbert Simon research and concepts increased computer scientist understanding of reasoning and increased the computer's ability too solve problems and proof theorems . Herbert Simon , Al Newell , Clifford Shaw proposals were radical and affect computer scientist today . In Simon’s book , “Models of my life” , Simon demonstrated the Logical Theorem algorithm could prove certain mathematical theorems . Simon said , “This was the task to get a system to discover proof for a theorem , not simply to test the proof . We picked logic just because I happened to have Principia Mathematica sitting on my shelf and I was using it to see what was involved in finding a proof of anything . ” Alfred North Whitehead and Bertrand Russell book Principia Mathematica contained theorems considered to form the foundation of mathematical logic . Simeon evolved Logic theorem into General problem solver . GPS is currently used in robotics and gives the robot amazing problem solving capabilities . Many mathematicians considered some of LTs proofs superior to those previously published\"\n",
    "\n",
    "sentences = nltk.sent_tokenize(paragraph)\n",
    "\n",
    "words=[]\n",
    "for sentence in sentences:\n",
    "    word_list=nltk.word_tokenize(sentence)\n",
    "    \n",
    "    #print(word_list)\n",
    "    for i in range(0, len(word_list)-1):\n",
    "        words.append(word_list[i])\n",
    "    \n",
    "print(words)\n"
   ]
  },
  {
   "cell_type": "code",
   "execution_count": 41,
   "metadata": {},
   "outputs": [
    {
     "name": "stdout",
     "output_type": "stream",
     "text": [
      "['ability', 'affect', 'al', 'alfred', 'algorithm', 'amazing', 'and', 'anything', 'because', 'bertrand', 'book', 'capabilities', 'certain', 'clifford', 'computer', 'concepts', 'considered', 'contained', 'could', 'currently', 'demonstrated', 'discover', 'evolved', 'finding', 'for', 'form', 'foundation', 'general', 'get', 'gives', 'gps', 'happened', 'have', 'herbert', 'in', 'increased', 'into', 'involved', 'is', 'it', 'just', 'life', 'logic', 'logical', 'lts', 'many', 'mathematica', 'mathematical', 'mathematicians', 'models', 'my', 'newell', 'north', 'not', 'of', 'on', 'picked', 'previously', 'principia', 'problem', 'problems', 'proof', 'proofs', 'proposals', 'prove', 'published', 'radical', 'reasoning', 'research', 'robot', 'robotics', 'russell', 'said', 'scientist', 'see', 'shaw', 'shelf', 'simeon', 'simon', 'simply', 'sitting', 'solve', 'solver', 'solving', 'some', 'superior', 'system', 'task', 'test', 'the', 'theorem', 'theorems', 'this', 'those', 'to', 'today', 'too', 'understanding', 'used', 'using', 'was', 'we', 'were', 'what', 'whitehead']\n"
     ]
    }
   ],
   "source": [
    "# Create a TfidfVectorizer: tfidf\n",
    "vectorizer = TfidfVectorizer() \n",
    "\n",
    "# Apply fit_transform to document: csr_mat\n",
    "csr_mat = vectorizer.fit_transform(sentences)\n",
    "\n",
    "print(vectorizer.get_feature_names())"
   ]
  },
  {
   "cell_type": "code",
   "execution_count": 42,
   "metadata": {},
   "outputs": [
    {
     "name": "stdout",
     "output_type": "stream",
     "text": [
      "[[3.58078565e-02 7.74074996e-01 2.79793728e-02 5.78558901e-02\n",
      "  2.15760511e-03 0.00000000e+00]\n",
      " [0.00000000e+00 8.33283108e-01 0.00000000e+00 0.00000000e+00\n",
      "  0.00000000e+00 0.00000000e+00]\n",
      " [0.00000000e+00 0.00000000e+00 4.05614993e-03 7.87419562e-01\n",
      "  0.00000000e+00 0.00000000e+00]\n",
      " [5.70230880e-01 1.68250107e-03 0.00000000e+00 0.00000000e+00\n",
      "  4.41667094e-03 4.76388713e-03]\n",
      " [5.76416695e-01 0.00000000e+00 1.92741132e-03 0.00000000e+00\n",
      "  0.00000000e+00 0.00000000e+00]\n",
      " [4.55618664e-02 0.00000000e+00 0.00000000e+00 6.94876544e-01\n",
      "  6.33346553e-02 2.54989327e-03]\n",
      " [0.00000000e+00 0.00000000e+00 0.00000000e+00 0.00000000e+00\n",
      "  0.00000000e+00 1.03643466e+00]\n",
      " [0.00000000e+00 0.00000000e+00 8.50578269e-01 0.00000000e+00\n",
      "  0.00000000e+00 9.96960628e-05]\n",
      " [0.00000000e+00 0.00000000e+00 0.00000000e+00 0.00000000e+00\n",
      "  8.61475248e-01 0.00000000e+00]]\n"
     ]
    }
   ],
   "source": [
    "model = NMF(n_components=6)\n",
    "\n",
    "# Fit the model to articles\n",
    "model.fit(csr_mat)\n",
    "\n",
    "# Transform the articles: nmf_features\n",
    "nmf_features = model.transform(csr_mat)\n",
    "\n",
    "\n",
    "# Print the NMF features\n",
    "print(nmf_features)"
   ]
  },
  {
   "cell_type": "code",
   "execution_count": null,
   "metadata": {},
   "outputs": [],
   "source": []
  }
 ],
 "metadata": {
  "kernelspec": {
   "display_name": "Python 3",
   "language": "python",
   "name": "python3"
  },
  "language_info": {
   "codemirror_mode": {
    "name": "ipython",
    "version": 3
   },
   "file_extension": ".py",
   "mimetype": "text/x-python",
   "name": "python",
   "nbconvert_exporter": "python",
   "pygments_lexer": "ipython3",
   "version": "3.7.7"
  }
 },
 "nbformat": 4,
 "nbformat_minor": 4
}
