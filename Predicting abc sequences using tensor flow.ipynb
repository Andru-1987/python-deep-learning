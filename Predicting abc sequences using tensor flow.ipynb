{
 "cells": [
  {
   "cell_type": "code",
   "execution_count": 7,
   "id": "38f867b9",
   "metadata": {},
   "outputs": [],
   "source": [
    "import tensorflow as tf\n",
    "from tensorflow import keras\n",
    "import numpy as np\n",
    "from tensorflow.keras.models import Sequential\n",
    "from tensorflow.keras.layers import Embedding,Dense,LSTM\n",
    "from tensorflow.keras.preprocessing.text import Tokenizer \n",
    "from tensorflow.keras.preprocessing.sequence import pad_sequences\n",
    "from tensorflow.keras.losses import sparse_categorical_crossentropy\n",
    "from tensorflow.keras.optimizers import Adam\n",
    "import matplotlib.pyplot as plt"
   ]
  },
  {
   "cell_type": "code",
   "execution_count": 8,
   "id": "e23cdc74",
   "metadata": {},
   "outputs": [],
   "source": [
    "def tokenize(x):\n",
    "    x_tk = Tokenizer(char_level = False)\n",
    "    x_tk.fit_on_texts(x)\n",
    "    return x_tk.texts_to_sequences(x), x_tk\n",
    "\n",
    "def pad(x, length=None):\n",
    "    if length is None:\n",
    "        length = max([len(sentence) for sentence in x])\n",
    "    return pad_sequences(x, maxlen = length, padding = 'post')\n",
    "\n",
    "def preprocess_embedding(x, y):\n",
    "    preprocess_x, x_tk = tokenize(x)\n",
    "    preprocess_y, y_tk = tokenize(y)\n",
    "    preprocess_x = pad(preprocess_x)\n",
    "    preprocess_y = pad(preprocess_y)\n",
    "    # Keras's sparse_categorical_crossentropy function requires the labels to be in 3 dimensions\n",
    "    preprocess_y = preprocess_y.reshape(*preprocess_y.shape, 1)\n",
    "    return preprocess_x, preprocess_y, x_tk, y_tk\n",
    "def plotHistory(history):\n",
    "        plt.plot(history.history['accuracy'])\n",
    "        plt.title('accuracy')\n",
    "        plt.ylabel('accuracy')\n",
    "        plt.xlabel('epoch')\n",
    "        plt.legend(['train', 'test'], loc='upper left')\n",
    "        plt.show()"
   ]
  },
  {
   "cell_type": "code",
   "execution_count": 24,
   "id": "0ec0f5d6",
   "metadata": {},
   "outputs": [
    {
     "name": "stdout",
     "output_type": "stream",
     "text": [
      "['A', 'B', 'C']\n",
      "[['A', 'B', 'C', 'A', 'B', 'C', 'A', 'B', 'C', 'A', 'B', 'C', 'A', 'B', 'C'], ['D', 'B', 'C', 'A', 'B', 'D', 'A', 'D', 'C', 'A', 'B', 'C', 'A', 'B', 'D'], ['C', 'B', 'C', 'A', 'B', 'D', 'A', 'C', 'C', 'A', 'B', 'C', 'A', 'B', 'C']]\n",
      "Data Preprocessed\n",
      "Max data length: 15\n",
      "Max target length: 1\n",
      "Data vocabulary size: 5\n",
      "Target vocabulary size: 4\n"
     ]
    }
   ],
   "source": [
    "data = [[\"A\", \"B\", \"C\", \"A\", \"B\", \"C\", \"A\", \"B\", \"C\", \"A\", \"B\", \"C\", \"A\", \"B\", \"C\"]\n",
    "       ,[\"D\", \"B\", \"C\", \"A\", \"B\", \"D\", \"A\", \"D\", \"C\", \"A\", \"B\", \"C\", \"A\", \"B\", \"D\"]\n",
    "       ,[\"C\", \"B\", \"C\", \"A\", \"B\", \"D\", \"A\", \"C\", \"C\", \"A\", \"B\", \"C\", \"A\", \"B\", \"C\"]]\n",
    "       \n",
    "target = [\"A\", \"B\", \"C\"]\n",
    "\n",
    "print(target)\n",
    "print(data)\n",
    "\n",
    "pad_data, pad_target, data_tokenizer, target_tokenizer =  preprocess_embedding(data, target)\n",
    "\n",
    "max_pad_data_sequence_length = pad_data.shape[1]\n",
    "max_pad_target_sequence_length = pad_target.shape[1]\n",
    "data_size = len(data_tokenizer.word_index)+1\n",
    "target_size = len(target_tokenizer.word_index)+1\n",
    "\n",
    "#print(pad_data_length,pad_target)\n",
    "#print(data_size,target_size)\n",
    "\n",
    "\n",
    "print('Data Preprocessed')\n",
    "print(\"Max data length:\", max_pad_data_sequence_length)\n",
    "print(\"Max target length:\", max_pad_target_sequence_length)\n",
    "print(\"Data vocabulary size:\", data_size)\n",
    "print(\"Target vocabulary size:\", target_size)\n",
    "\n"
   ]
  },
  {
   "cell_type": "code",
   "execution_count": 25,
   "id": "3b677a31",
   "metadata": {},
   "outputs": [
    {
     "name": "stdout",
     "output_type": "stream",
     "text": [
      "pad_data shape 15\n",
      "data size 5\n"
     ]
    }
   ],
   "source": [
    "print(\"pad_data shape\",pad_data.shape[1])\n",
    "print(\"data size\",data_size)\n"
   ]
  },
  {
   "cell_type": "code",
   "execution_count": 26,
   "id": "5c39c1aa",
   "metadata": {},
   "outputs": [
    {
     "name": "stdout",
     "output_type": "stream",
     "text": [
      "Shape of X is  (1, 3, 15)\n",
      "Shape of y is (1, 3)\n",
      "[[[2 3 1 2 3 1 2 3 1 2 3 1 2 3 1]\n",
      "  [4 3 1 2 3 4 2 4 1 2 3 1 2 3 4]\n",
      "  [1 3 1 2 3 4 2 1 1 2 3 1 2 3 1]]]\n",
      "1/1 [==============================] - 0s 473ms/step\n",
      "[[1.4084450e-04 6.5457565e-03 9.9331337e-01]]\n",
      "predicted target  b\n"
     ]
    }
   ],
   "source": [
    "# see https://stackoverflow.com/questions/62253289/valueerror-data-cardinality-is-ambiguous\n",
    "padded=pad_sequences(pad_data)\n",
    "X = np.expand_dims(pad_data, axis = 0)\n",
    "#print(X)\n",
    "print('Shape of X is ', X.shape)\n",
    "y = np.array(pad_target)\n",
    "y = y.reshape(1,-1)\n",
    "\n",
    "print('Shape of y is', y.shape)\n",
    "\n",
    "model = Sequential()\n",
    "#model.add(Embedding(input_dim=data_size,output_dim=128,input_length=X.shape[2] ))\n",
    "model.add(LSTM(data_size, return_sequences=True, input_shape=(None, X.shape[2])))\n",
    "#model.add(Dense(data_size, activation='relu', input_shape=(X.shape[1], X.shape[2])))\n",
    "#model.add(Dense(data_size, activation='relu'))\n",
    "model.add(LSTM(50, activation='relu')),\n",
    "#model.add(Dense(target_size,activation='softmax'))\n",
    "#model.add(Dense(1, activation='sigmoid'))\n",
    "model.add(Dense(3, activation='softmax'))\n",
    "\n",
    "model.compile (\n",
    "    loss='mean_squared_error',\n",
    "    optimizer=tf.keras.optimizers.Adam(0.001),\n",
    "    metrics=['accuracy']\n",
    ")\n",
    "   \n",
    "\n",
    "history=model.fit(x=X, y=y, epochs=100,verbose=False)\n",
    "#plotHistory(history)\n",
    "print(X)\n",
    "predchance = model.predict(X)\n",
    "print(predchance)\n",
    "max_n = np.argmax(predchance)\n",
    "print(\"predicted target \", target_tokenizer.index_word[max_n])\n",
    "#pred = layer.get_vocabulary()[max_n+1]"
   ]
  },
  {
   "cell_type": "code",
   "execution_count": 27,
   "id": "d4aeba4e",
   "metadata": {},
   "outputs": [
    {
     "name": "stdout",
     "output_type": "stream",
     "text": [
      "done\n"
     ]
    }
   ],
   "source": [
    "print(\"done\")"
   ]
  },
  {
   "cell_type": "code",
   "execution_count": null,
   "id": "9aa00143",
   "metadata": {},
   "outputs": [],
   "source": []
  }
 ],
 "metadata": {
  "kernelspec": {
   "display_name": "Python 3 (ipykernel)",
   "language": "python",
   "name": "python3"
  },
  "language_info": {
   "codemirror_mode": {
    "name": "ipython",
    "version": 3
   },
   "file_extension": ".py",
   "mimetype": "text/x-python",
   "name": "python",
   "nbconvert_exporter": "python",
   "pygments_lexer": "ipython3",
   "version": "3.8.16"
  }
 },
 "nbformat": 4,
 "nbformat_minor": 5
}
