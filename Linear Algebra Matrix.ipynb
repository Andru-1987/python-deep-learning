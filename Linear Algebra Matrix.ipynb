{
 "cells": [
  {
   "cell_type": "code",
   "execution_count": 2,
   "metadata": {},
   "outputs": [],
   "source": [
    "import numpy as np"
   ]
  },
  {
   "cell_type": "code",
   "execution_count": 4,
   "metadata": {},
   "outputs": [
    {
     "name": "stdout",
     "output_type": "stream",
     "text": [
      "(25,)\n",
      "[[ 0  1  2  3  4]\n",
      " [ 5  6  7  8  9]\n",
      " [10 11 12 13 14]\n",
      " [15 16 17 18 19]\n",
      " [20 21 22 23 24]]\n",
      "[100 200 300 400]\n",
      "[[100 200]\n",
      " [300 400]]\n",
      "0 3 [15] 18\n",
      "[[100   1   2 200   4]\n",
      " [  5   6   7   8   9]\n",
      " [ 10  11  12  13  14]\n",
      " [300  16  17 400  19]\n",
      " [ 20  21  22  23  24]]\n"
     ]
    }
   ],
   "source": [
    "list1=np.array(range(0,24+1))\n",
    "print(list1.shape)\n",
    "mat1=list1.reshape(5,5)\n",
    "print(mat1)\n",
    "\n",
    "list2=np.array(range(100,400+100,100))\n",
    "print(list2)\n",
    "mat2=list2.reshape(2,2)\n",
    "print(mat2)\n",
    "\n",
    "p = np.array([0, 3])\n",
    "\n",
    "print(mat1[0,p[0]],mat1[0,p[1]],mat1[p[1],[0]],mat1[p[1],p[1]])\n",
    "\n",
    "mat1[0,p[0]]=mat2[0][0]\n",
    "mat1[0,p[1]]=mat2[0][1]\n",
    "mat1[p[1]][0]=mat2[1][0]\n",
    "mat1[p[1]][p[1]]=mat2[1][1]\n",
    "\n",
    "print(mat1)"
   ]
  },
  {
   "cell_type": "code",
   "execution_count": 6,
   "metadata": {},
   "outputs": [
    {
     "name": "stdout",
     "output_type": "stream",
     "text": [
      "[[100   1   2 200   4]\n",
      " [  5   6   7   8   9]\n",
      " [ 10  11  12  13  14]\n",
      " [300  16  17 400  19]\n",
      " [ 20  21  22  23  24]]\n"
     ]
    }
   ],
   "source": [
    "mat1[p[...,None], p] = mat2\n",
    "print(mat1)"
   ]
  },
  {
   "cell_type": "code",
   "execution_count": null,
   "metadata": {},
   "outputs": [],
   "source": []
  }
 ],
 "metadata": {
  "kernelspec": {
   "display_name": "Python 3",
   "language": "python",
   "name": "python3"
  },
  "language_info": {
   "codemirror_mode": {
    "name": "ipython",
    "version": 3
   },
   "file_extension": ".py",
   "mimetype": "text/x-python",
   "name": "python",
   "nbconvert_exporter": "python",
   "pygments_lexer": "ipython3",
   "version": "3.7.9"
  }
 },
 "nbformat": 4,
 "nbformat_minor": 4
}
