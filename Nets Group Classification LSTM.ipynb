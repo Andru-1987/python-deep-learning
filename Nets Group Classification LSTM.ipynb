{
 "cells": [
  {
   "cell_type": "code",
   "execution_count": 64,
   "id": "ca059240",
   "metadata": {},
   "outputs": [],
   "source": [
    "from tensorflow.keras.models import Sequential\n",
    "from tensorflow.keras.layers import Activation,Dropout,Dense,Embedding,LSTM,Bidirectional\n",
    "from sklearn.metrics import classification_report,confusion_matrix\n",
    "from tensorflow.keras.optimizers import Adam\n",
    "from tensorflow.keras.models import Model\n",
    "from sklearn.preprocessing import StandardScaler\n",
    "from sklearn.model_selection import train_test_split\n",
    "from sklearn.datasets import fetch_20newsgroups\n",
    "from keras.preprocessing.text import Tokenizer \n",
    "from keras.preprocessing.sequence import pad_sequences\n",
    "from keras.utils.np_utils import to_categorical\n",
    "from tensorflow import keras\n",
    "import seaborn as sns\n",
    "import matplotlib.pyplot as plt\n",
    "import numpy as np\n",
    "from sklearn.metrics import classification_report"
   ]
  },
  {
   "cell_type": "code",
   "execution_count": 2,
   "id": "a407167e",
   "metadata": {},
   "outputs": [],
   "source": [
    "news_train=fetch_20newsgroups(subset='train')\n",
    "news_test=fetch_20newsgroups(subset='test')"
   ]
  },
  {
   "cell_type": "code",
   "execution_count": 29,
   "id": "d4ac72a0",
   "metadata": {},
   "outputs": [
    {
     "name": "stdout",
     "output_type": "stream",
     "text": [
      "11314\n",
      "['alt.atheism', 'comp.graphics', 'comp.os.ms-windows.misc', 'comp.sys.ibm.pc.hardware', 'comp.sys.mac.hardware', 'comp.windows.x', 'misc.forsale', 'rec.autos', 'rec.motorcycles', 'rec.sport.baseball', 'rec.sport.hockey', 'sci.crypt', 'sci.electronics', 'sci.med', 'sci.space', 'soc.religion.christian', 'talk.politics.guns', 'talk.politics.mideast', 'talk.politics.misc', 'talk.religion.misc']\n"
     ]
    }
   ],
   "source": [
    "len(news_train)\n",
    "\n",
    "print(len(news_train.data))\n",
    "\n",
    "print(news_train.target_names)\n",
    "label_names=news_train.target_names"
   ]
  },
  {
   "cell_type": "code",
   "execution_count": 47,
   "id": "b6245c69",
   "metadata": {},
   "outputs": [
    {
     "name": "stdout",
     "output_type": "stream",
     "text": [
      "[0. 0. 0. 0. 0. 0. 0. 1. 0. 0. 0. 0. 0. 0. 0. 0. 0. 0. 0. 0.]\n"
     ]
    }
   ],
   "source": [
    "train_tokenizer=Tokenizer()\n",
    "train_tokenizer.fit_on_texts(news_train.data)\n",
    "\n",
    "X_train=train_tokenizer.texts_to_sequences(news_train.data)\n",
    "X_train=pad_sequences(X_train,maxlen=400)\n",
    "Y_train=to_categorical(news_train.target)\n",
    "print(Y_train[0])"
   ]
  },
  {
   "cell_type": "code",
   "execution_count": 48,
   "id": "580e79f6",
   "metadata": {},
   "outputs": [
    {
     "name": "stdout",
     "output_type": "stream",
     "text": [
      "[0. 0. 0. 0. 0. 0. 0. 1. 0. 0. 0. 0. 0. 0. 0. 0. 0. 0. 0. 0.]\n"
     ]
    }
   ],
   "source": [
    "test_tokenizer=Tokenizer()\n",
    "test_tokenizer.fit_on_texts(news_test.data)\n",
    "\n",
    "X_test=test_tokenizer.texts_to_sequences(news_test.data)\n",
    "X_test=pad_sequences(X_test,maxlen=400)\n",
    "Y_test=to_categorical(news_test.target)\n",
    "print(Y_test[0])"
   ]
  },
  {
   "cell_type": "code",
   "execution_count": 65,
   "id": "f93542e7",
   "metadata": {},
   "outputs": [
    {
     "name": "stdout",
     "output_type": "stream",
     "text": [
      "Model: \"sequential_6\"\n",
      "_________________________________________________________________\n",
      " Layer (type)                Output Shape              Param #   \n",
      "=================================================================\n",
      " embedding_6 (Embedding)     (None, None, 128)         17170304  \n",
      "                                                                 \n",
      " bidirectional (Bidirectiona  (None, 256)              263168    \n",
      " l)                                                              \n",
      "                                                                 \n",
      " dense_5 (Dense)             (None, 20)                5140      \n",
      "                                                                 \n",
      "=================================================================\n",
      "Total params: 17,438,612\n",
      "Trainable params: 17,438,612\n",
      "Non-trainable params: 0\n",
      "_________________________________________________________________\n",
      "None\n"
     ]
    }
   ],
   "source": [
    "voc_size  =   len(train_tokenizer.word_index) +1\n",
    "\n",
    "model=Sequential()\n",
    "model.add(Embedding(voc_size,128))\n",
    "model.add(Bidirectional(LSTM(128,dropout=0.2)))\n",
    "model.add(Dense(len(news_train.target_names),activation='softmax'))\n",
    "\n",
    "model.compile(loss='categorical_crossentropy',optimizer='adam',metrics=['accuracy'])\n",
    "\n",
    "#model=keras.models.load_model(\"sentiment_model\")\n",
    "\n",
    "print(model.summary())"
   ]
  },
  {
   "cell_type": "code",
   "execution_count": 56,
   "id": "f0755542",
   "metadata": {
    "scrolled": true
   },
   "outputs": [
    {
     "name": "stdout",
     "output_type": "stream",
     "text": [
      "Epoch 1/6\n",
      "177/177 [==============================] - 207s 1s/step - loss: 2.7576 - accuracy: 0.1665\n",
      "Epoch 2/6\n",
      "177/177 [==============================] - 212s 1s/step - loss: 1.7994 - accuracy: 0.4413\n",
      "Epoch 3/6\n",
      "177/177 [==============================] - 191s 1s/step - loss: 0.9938 - accuracy: 0.6963\n",
      "Epoch 4/6\n",
      "177/177 [==============================] - 197s 1s/step - loss: 0.4827 - accuracy: 0.8598\n",
      "Epoch 5/6\n",
      "177/177 [==============================] - 196s 1s/step - loss: 0.2631 - accuracy: 0.9275\n",
      "Epoch 6/6\n",
      "177/177 [==============================] - 166s 940ms/step - loss: 0.1917 - accuracy: 0.9496\n"
     ]
    },
    {
     "data": {
      "text/plain": [
       "<keras.callbacks.History at 0x25ba329cf40>"
      ]
     },
     "execution_count": 56,
     "metadata": {},
     "output_type": "execute_result"
    }
   ],
   "source": [
    "model.fit(X_train,Y_train,batch_size=64,epochs=6)\n",
    "\n"
   ]
  },
  {
   "cell_type": "code",
   "execution_count": 57,
   "id": "9f8fe385",
   "metadata": {},
   "outputs": [
    {
     "name": "stderr",
     "output_type": "stream",
     "text": [
      "WARNING:absl:Found untraced functions such as lstm_cell_6_layer_call_fn, lstm_cell_6_layer_call_and_return_conditional_losses, lstm_cell_6_layer_call_fn, lstm_cell_6_layer_call_and_return_conditional_losses, lstm_cell_6_layer_call_and_return_conditional_losses while saving (showing 5 of 5). These functions will not be directly callable after loading.\n"
     ]
    },
    {
     "name": "stdout",
     "output_type": "stream",
     "text": [
      "INFO:tensorflow:Assets written to: sentiment_model\\assets\n"
     ]
    },
    {
     "name": "stderr",
     "output_type": "stream",
     "text": [
      "INFO:tensorflow:Assets written to: sentiment_model\\assets\n",
      "WARNING:absl:<keras.layers.recurrent.LSTMCell object at 0x0000025BA45998E0> has the same name 'LSTMCell' as a built-in Keras object. Consider renaming <class 'keras.layers.recurrent.LSTMCell'> to avoid naming conflicts when loading with `tf.keras.models.load_model`. If renaming is not possible, pass the object in the `custom_objects` parameter of the load function.\n"
     ]
    }
   ],
   "source": [
    "#model.evaluate(X_test,Y_test)\n",
    "model.save('sentiment_model')"
   ]
  },
  {
   "cell_type": "code",
   "execution_count": 60,
   "id": "807143b8",
   "metadata": {},
   "outputs": [],
   "source": [
    "Y_pred=model.predict(X_train)\n",
    "#Y_pred=model.predict(X_test)\n"
   ]
  },
  {
   "cell_type": "code",
   "execution_count": 61,
   "id": "75a3a5b7",
   "metadata": {},
   "outputs": [
    {
     "data": {
      "image/png": "[encoded data removed]",
      "text/plain": [
       "<Figure size 432x288 with 2 Axes>"
      ]
     },
     "metadata": {
      "needs_background": "light"
     },
     "output_type": "display_data"
    },
    {
     "name": "stdout",
     "output_type": "stream",
     "text": [
      "                          precision    recall  f1-score   support\n",
      "\n",
      "             alt.atheism       0.87      0.99      0.93       480\n",
      "           comp.graphics       0.95      0.99      0.97       584\n",
      " comp.os.ms-windows.misc       0.99      0.97      0.98       591\n",
      "comp.sys.ibm.pc.hardware       0.98      0.96      0.97       590\n",
      "   comp.sys.mac.hardware       0.99      0.97      0.98       578\n",
      "          comp.windows.x       0.99      0.99      0.99       593\n",
      "            misc.forsale       0.99      0.96      0.98       585\n",
      "               rec.autos       1.00      0.99      0.99       594\n",
      "         rec.motorcycles       0.99      1.00      0.99       598\n",
      "      rec.sport.baseball       1.00      0.99      1.00       597\n",
      "        rec.sport.hockey       1.00      1.00      1.00       600\n",
      "               sci.crypt       0.99      0.99      0.99       595\n",
      "         sci.electronics       0.98      0.98      0.98       591\n",
      "                 sci.med       0.98      0.99      0.99       594\n",
      "               sci.space       0.99      0.99      0.99       593\n",
      "  soc.religion.christian       1.00      0.97      0.98       599\n",
      "      talk.politics.guns       0.98      0.96      0.97       546\n",
      "   talk.politics.mideast       1.00      0.99      0.99       564\n",
      "      talk.politics.misc       0.98      0.95      0.97       465\n",
      "      talk.religion.misc       0.98      0.96      0.97       377\n",
      "\n",
      "                accuracy                           0.98     11314\n",
      "               macro avg       0.98      0.98      0.98     11314\n",
      "            weighted avg       0.98      0.98      0.98     11314\n",
      "\n"
     ]
    }
   ],
   "source": [
    "DEFAULT_CLASS=0\n",
    "Y_pred2 = [np.argmax(x) if np.max(x) >= 0.5 else DEFAULT_CLASS for x in Y_pred]\n",
    "\n",
    "#Y_pred2=np.argmax(Y_pred, axis=1)\n",
    "#Y_test2=np.argmax(Y_test, axis=1)\n",
    "Y_train2=np.argmax(Y_train,axis=1)\n",
    "cm = confusion_matrix(Y_train2, Y_pred2)\n",
    "#cm = confusion_matrix(Y_test2, Y_pred2)\n",
    "\n",
    "sns.heatmap(cm)\n",
    "plt.show()\n",
    "\n",
    "print(classification_report(Y_train2,Y_pred2,target_names=label_names))\n",
    "#print(classification_report(Y_test2,Y_pred2,target_names=label_names))"
   ]
  },
  {
   "cell_type": "code",
   "execution_count": null,
   "id": "0046b22c",
   "metadata": {},
   "outputs": [],
   "source": []
  }
 ],
 "metadata": {
  "kernelspec": {
   "display_name": "Python 3 (ipykernel)",
   "language": "python",
   "name": "python3"
  },
  "language_info": {
   "codemirror_mode": {
    "name": "ipython",
    "version": 3
   },
   "file_extension": ".py",
   "mimetype": "text/x-python",
   "name": "python",
   "nbconvert_exporter": "python",
   "pygments_lexer": "ipython3",
   "version": "3.8.12"
  }
 },
 "nbformat": 4,
 "nbformat_minor": 5
}
