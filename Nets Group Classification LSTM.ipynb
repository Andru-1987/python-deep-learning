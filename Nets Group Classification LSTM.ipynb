{
 "cells": [
  {
   "cell_type": "code",
   "execution_count": 13,
   "id": "e0b3064e",
   "metadata": {},
   "outputs": [],
   "source": [
    "from tensorflow.keras.models import Sequential\n",
    "from tensorflow.keras.layers import Activation,Dropout,Dense,Embedding,LSTM,Bidirectional\n",
    "from sklearn.metrics import classification_report,confusion_matrix\n",
    "from tensorflow.keras.optimizers import Adam\n",
    "from tensorflow.keras.models import Model\n",
    "from sklearn.preprocessing import StandardScaler\n",
    "from sklearn.model_selection import train_test_split\n",
    "from sklearn.datasets import fetch_20newsgroups\n",
    "from keras.preprocessing.text import Tokenizer \n",
    "from keras.preprocessing.sequence import pad_sequences\n",
    "from keras.utils.np_utils import to_categorical\n",
    "from tensorflow import keras\n",
    "import seaborn as sns\n",
    "import matplotlib.pyplot as plt\n",
    "import numpy as np\n",
    "from sklearn.metrics import classification_report"
   ]
  },
  {
   "cell_type": "code",
   "execution_count": 14,
   "id": "caa96223",
   "metadata": {},
   "outputs": [],
   "source": [
    "news_train=fetch_20newsgroups(subset='train')\n",
    "news_test=fetch_20newsgroups(subset='test')"
   ]
  },
  {
   "cell_type": "code",
   "execution_count": 15,
   "id": "5820ca1d",
   "metadata": {},
   "outputs": [
    {
     "name": "stdout",
     "output_type": "stream",
     "text": [
      "11314\n",
      "['alt.atheism', 'comp.graphics', 'comp.os.ms-windows.misc', 'comp.sys.ibm.pc.hardware', 'comp.sys.mac.hardware', 'comp.windows.x', 'misc.forsale', 'rec.autos', 'rec.motorcycles', 'rec.sport.baseball', 'rec.sport.hockey', 'sci.crypt', 'sci.electronics', 'sci.med', 'sci.space', 'soc.religion.christian', 'talk.politics.guns', 'talk.politics.mideast', 'talk.politics.misc', 'talk.religion.misc']\n"
     ]
    }
   ],
   "source": [
    "len(news_train)\n",
    "\n",
    "print(len(news_train.data))\n",
    "\n",
    "print(news_train.target_names)\n",
    "label_names=news_train.target_names"
   ]
  },
  {
   "cell_type": "code",
   "execution_count": 16,
   "id": "6aa25e57",
   "metadata": {},
   "outputs": [
    {
     "name": "stdout",
     "output_type": "stream",
     "text": [
      "[0. 0. 0. 0. 0. 0. 0. 1. 0. 0. 0. 0. 0. 0. 0. 0. 0. 0. 0. 0.]\n"
     ]
    }
   ],
   "source": [
    "tokenizer=Tokenizer()\n",
    "tokenizer.fit_on_texts(news_train.data)\n",
    "tokenizer.fit_on_texts(news_test.data)\n",
    "\n",
    "X_train=tokenizer.texts_to_sequences(news_train.data)\n",
    "X_train=pad_sequences(X_train,maxlen=400)\n",
    "Y_train=to_categorical(news_train.target)\n",
    "print(Y_train[0])"
   ]
  },
  {
   "cell_type": "code",
   "execution_count": 17,
   "id": "c0165824",
   "metadata": {},
   "outputs": [
    {
     "name": "stdout",
     "output_type": "stream",
     "text": [
      "[0. 0. 0. 0. 0. 0. 0. 1. 0. 0. 0. 0. 0. 0. 0. 0. 0. 0. 0. 0.]\n"
     ]
    }
   ],
   "source": [
    "X_test=tokenizer.texts_to_sequences(news_test.data)\n",
    "X_test=pad_sequences(X_test,maxlen=400)\n",
    "Y_test=to_categorical(news_test.target)\n",
    "print(Y_test[0])"
   ]
  },
  {
   "cell_type": "code",
   "execution_count": 28,
   "id": "04200b06",
   "metadata": {},
   "outputs": [
    {
     "name": "stdout",
     "output_type": "stream",
     "text": [
      "Model: \"sequential_7\"\n",
      "_________________________________________________________________\n",
      " Layer (type)                Output Shape              Param #   \n",
      "=================================================================\n",
      " embedding_7 (Embedding)     (None, None, 128)         22938880  \n",
      "                                                                 \n",
      " bidirectional_12 (Bidirecti  (None, None, 256)        263168    \n",
      " onal)                                                           \n",
      "                                                                 \n",
      " bidirectional_13 (Bidirecti  (None, 128)              164352    \n",
      " onal)                                                           \n",
      "                                                                 \n",
      " dense_7 (Dense)             (None, 20)                2580      \n",
      "                                                                 \n",
      "=================================================================\n",
      "Total params: 23,368,980\n",
      "Trainable params: 23,368,980\n",
      "Non-trainable params: 0\n",
      "_________________________________________________________________\n",
      "None\n"
     ]
    }
   ],
   "source": [
    "voc_size  =   len(tokenizer.word_index) +1\n",
    "\n",
    "model=Sequential()\n",
    "model.add(Embedding(voc_size,128))\n",
    "model.add(Bidirectional(LSTM(128,dropout=0.2,recurrent_dropout=0.15,return_sequences=True)))\n",
    "model.add(Bidirectional(LSTM(64,dropout=0.2,recurrent_dropout=0.15,return_sequences=False)))\n",
    "model.add(Dense(len(news_train.target_names),activation='softmax'))\n",
    "\n",
    "model.compile(loss='categorical_crossentropy',optimizer='adam',metrics=['accuracy'])\n",
    "\n",
    "#model=keras.models.load_model(\"sentiment_model\")\n",
    "\n",
    "print(model.summary())"
   ]
  },
  {
   "cell_type": "code",
   "execution_count": 29,
   "id": "693cfe9a",
   "metadata": {
    "scrolled": true
   },
   "outputs": [
    {
     "name": "stdout",
     "output_type": "stream",
     "text": [
      "Epoch 1/6\n",
      "177/177 [==============================] - 2462s 14s/step - loss: 2.5221 - accuracy: 0.1760\n",
      "Epoch 2/6\n",
      "177/177 [==============================] - 2859s 16s/step - loss: 1.9053 - accuracy: 0.3466\n",
      "Epoch 3/6\n",
      "177/177 [==============================] - 2841s 16s/step - loss: 1.3480 - accuracy: 0.5467\n",
      "Epoch 4/6\n",
      "177/177 [==============================] - 2763s 16s/step - loss: 1.0181 - accuracy: 0.6631\n",
      "Epoch 5/6\n",
      "177/177 [==============================] - 2753s 16s/step - loss: 0.6624 - accuracy: 0.7921\n",
      "Epoch 6/6\n",
      "177/177 [==============================] - 2315s 13s/step - loss: 0.5426 - accuracy: 0.8282\n"
     ]
    },
    {
     "data": {
      "text/plain": [
       "<keras.callbacks.History at 0x27479c2b6a0>"
      ]
     },
     "execution_count": 29,
     "metadata": {},
     "output_type": "execute_result"
    }
   ],
   "source": [
    "model.fit(X_train,Y_train,batch_size=64,epochs=6)\n",
    "\n"
   ]
  },
  {
   "cell_type": "code",
   "execution_count": 30,
   "id": "1d748dee",
   "metadata": {},
   "outputs": [
    {
     "name": "stdout",
     "output_type": "stream",
     "text": [
      "INFO:tensorflow:Assets written to: sentiment_model\\assets\n"
     ]
    },
    {
     "name": "stderr",
     "output_type": "stream",
     "text": [
      "INFO:tensorflow:Assets written to: sentiment_model\\assets\n",
      "WARNING:absl:<keras.layers.recurrent.LSTMCell object at 0x00000274E40D5340> has the same name 'LSTMCell' as a built-in Keras object. Consider renaming <class 'keras.layers.recurrent.LSTMCell'> to avoid naming conflicts when loading with `tf.keras.models.load_model`. If renaming is not possible, pass the object in the `custom_objects` parameter of the load function.\n",
      "WARNING:absl:<keras.layers.recurrent.LSTMCell object at 0x0000027475C82E80> has the same name 'LSTMCell' as a built-in Keras object. Consider renaming <class 'keras.layers.recurrent.LSTMCell'> to avoid naming conflicts when loading with `tf.keras.models.load_model`. If renaming is not possible, pass the object in the `custom_objects` parameter of the load function.\n",
      "WARNING:absl:<keras.layers.recurrent.LSTMCell object at 0x0000027426E9D310> has the same name 'LSTMCell' as a built-in Keras object. Consider renaming <class 'keras.layers.recurrent.LSTMCell'> to avoid naming conflicts when loading with `tf.keras.models.load_model`. If renaming is not possible, pass the object in the `custom_objects` parameter of the load function.\n",
      "WARNING:absl:<keras.layers.recurrent.LSTMCell object at 0x0000027474B312B0> has the same name 'LSTMCell' as a built-in Keras object. Consider renaming <class 'keras.layers.recurrent.LSTMCell'> to avoid naming conflicts when loading with `tf.keras.models.load_model`. If renaming is not possible, pass the object in the `custom_objects` parameter of the load function.\n"
     ]
    }
   ],
   "source": [
    "#model.evaluate(X_test,Y_test)\n",
    "model.save('sentiment_model')"
   ]
  },
  {
   "cell_type": "code",
   "execution_count": 31,
   "id": "863922ab",
   "metadata": {},
   "outputs": [],
   "source": [
    "Y_pred=model.predict(X_train)\n",
    "#Y_pred=model.predict(X_test)\n"
   ]
  },
  {
   "cell_type": "code",
   "execution_count": 32,
   "id": "efff9b6c",
   "metadata": {},
   "outputs": [
    {
     "data": {
      "image/png": "[encoded data removed]",
      "text/plain": [
       "<Figure size 432x288 with 2 Axes>"
      ]
     },
     "metadata": {
      "needs_background": "light"
     },
     "output_type": "display_data"
    },
    {
     "name": "stdout",
     "output_type": "stream",
     "text": [
      "                          precision    recall  f1-score   support\n",
      "\n",
      "             alt.atheism       0.29      0.96      0.45       480\n",
      "           comp.graphics       0.91      0.24      0.39       584\n",
      " comp.os.ms-windows.misc       0.84      0.83      0.83       591\n",
      "comp.sys.ibm.pc.hardware       0.85      0.54      0.66       590\n",
      "   comp.sys.mac.hardware       0.90      0.73      0.80       578\n",
      "          comp.windows.x       0.64      0.74      0.69       593\n",
      "            misc.forsale       0.95      0.91      0.93       585\n",
      "               rec.autos       0.96      0.87      0.91       594\n",
      "         rec.motorcycles       0.95      0.94      0.95       598\n",
      "      rec.sport.baseball       0.99      0.90      0.94       597\n",
      "        rec.sport.hockey       0.97      0.97      0.97       600\n",
      "               sci.crypt       0.92      0.94      0.93       595\n",
      "         sci.electronics       0.95      0.75      0.84       591\n",
      "                 sci.med       0.97      0.97      0.97       594\n",
      "               sci.space       0.97      0.93      0.95       593\n",
      "  soc.religion.christian       0.96      0.94      0.95       599\n",
      "      talk.politics.guns       0.93      0.89      0.91       546\n",
      "   talk.politics.mideast       0.95      0.99      0.97       564\n",
      "      talk.politics.misc       0.95      0.89      0.92       465\n",
      "      talk.religion.misc       0.96      0.68      0.80       377\n",
      "\n",
      "                accuracy                           0.83     11314\n",
      "               macro avg       0.89      0.83      0.84     11314\n",
      "            weighted avg       0.89      0.83      0.84     11314\n",
      "\n"
     ]
    }
   ],
   "source": [
    "DEFAULT_CLASS=0\n",
    "Y_pred2 = [np.argmax(x) if np.max(x) >= 0.5 else DEFAULT_CLASS for x in Y_pred]\n",
    "\n",
    "#Y_pred2=np.argmax(Y_pred, axis=1)\n",
    "#Y_test2=np.argmax(Y_test, axis=1)\n",
    "Y_train2=np.argmax(Y_train,axis=1)\n",
    "cm = confusion_matrix(Y_train2, Y_pred2)\n",
    "#cm = confusion_matrix(Y_test2, Y_pred2)\n",
    "\n",
    "sns.heatmap(cm)\n",
    "plt.show()\n",
    "\n",
    "print(classification_report(Y_train2,Y_pred2,target_names=label_names))\n",
    "#print(classification_report(Y_test2,Y_pred2,target_names=label_names))"
   ]
  },
  {
   "cell_type": "code",
   "execution_count": 34,
   "id": "349abb71",
   "metadata": {},
   "outputs": [
    {
     "data": {
      "image/png": "[encoded data removed]",
      "text/plain": [
       "<Figure size 432x288 with 2 Axes>"
      ]
     },
     "metadata": {
      "needs_background": "light"
     },
     "output_type": "display_data"
    },
    {
     "name": "stdout",
     "output_type": "stream",
     "text": [
      "                          precision    recall  f1-score   support\n",
      "\n",
      "             alt.atheism       0.09      0.70      0.16       319\n",
      "           comp.graphics       0.33      0.03      0.06       389\n",
      " comp.os.ms-windows.misc       0.33      0.26      0.29       394\n",
      "comp.sys.ibm.pc.hardware       0.42      0.22      0.29       392\n",
      "   comp.sys.mac.hardware       0.32      0.23      0.27       385\n",
      "          comp.windows.x       0.44      0.24      0.31       395\n",
      "            misc.forsale       0.65      0.50      0.57       390\n",
      "               rec.autos       0.48      0.43      0.45       396\n",
      "         rec.motorcycles       0.77      0.67      0.72       398\n",
      "      rec.sport.baseball       0.79      0.39      0.53       397\n",
      "        rec.sport.hockey       0.78      0.69      0.73       399\n",
      "               sci.crypt       0.67      0.59      0.63       396\n",
      "         sci.electronics       0.40      0.23      0.29       393\n",
      "                 sci.med       0.63      0.45      0.53       396\n",
      "               sci.space       0.69      0.50      0.58       394\n",
      "  soc.religion.christian       0.82      0.49      0.62       398\n",
      "      talk.politics.guns       0.58      0.48      0.53       364\n",
      "   talk.politics.mideast       0.62      0.57      0.59       376\n",
      "      talk.politics.misc       0.43      0.39      0.41       310\n",
      "      talk.religion.misc       0.39      0.22      0.28       251\n",
      "\n",
      "                accuracy                           0.42      7532\n",
      "               macro avg       0.53      0.41      0.44      7532\n",
      "            weighted avg       0.54      0.42      0.45      7532\n",
      "\n"
     ]
    }
   ],
   "source": [
    "Y_pred=model.predict(X_test)\n",
    "\n",
    "DEFAULT_CLASS=0\n",
    "Y_pred2 = [np.argmax(x) if np.max(x) >= 0.5 else DEFAULT_CLASS for x in Y_pred]\n",
    "\n",
    "Y_test2=np.argmax(Y_test, axis=1)\n",
    "cm = confusion_matrix(Y_test2, Y_pred2)\n",
    "\n",
    "sns.heatmap(cm)\n",
    "plt.show()\n",
    "\n",
    "print(classification_report(Y_test2,Y_pred2,target_names=label_names))\n",
    "#print(classification_report(Y_test2,Y_pred2,target_names=label_names))"
   ]
  },
  {
   "cell_type": "code",
   "execution_count": null,
   "id": "2bb179c0",
   "metadata": {},
   "outputs": [],
   "source": []
  }
 ],
 "metadata": {
  "kernelspec": {
   "display_name": "Python 3 (ipykernel)",
   "language": "python",
   "name": "python3"
  },
  "language_info": {
   "codemirror_mode": {
    "name": "ipython",
    "version": 3
   },
   "file_extension": ".py",
   "mimetype": "text/x-python",
   "name": "python",
   "nbconvert_exporter": "python",
   "pygments_lexer": "ipython3",
   "version": "3.8.16"
  }
 },
 "nbformat": 4,
 "nbformat_minor": 5
}
