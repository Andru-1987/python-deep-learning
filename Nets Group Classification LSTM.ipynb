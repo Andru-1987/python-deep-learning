{
 "cells": [
  {
   "cell_type": "code",
   "execution_count": 13,
   "id": "e0b3064e",
   "metadata": {},
   "outputs": [],
   "source": [
    "from tensorflow.keras.models import Sequential\n",
    "from tensorflow.keras.layers import Activation,Dropout,Dense,Embedding,LSTM,Bidirectional\n",
    "from sklearn.metrics import classification_report,confusion_matrix\n",
    "from tensorflow.keras.optimizers import Adam\n",
    "from tensorflow.keras.models import Model\n",
    "from sklearn.preprocessing import StandardScaler\n",
    "from sklearn.model_selection import train_test_split\n",
    "from sklearn.datasets import fetch_20newsgroups\n",
    "from keras.preprocessing.text import Tokenizer \n",
    "from keras.preprocessing.sequence import pad_sequences\n",
    "from keras.utils.np_utils import to_categorical\n",
    "from tensorflow import keras\n",
    "import seaborn as sns\n",
    "import matplotlib.pyplot as plt\n",
    "import numpy as np\n",
    "from sklearn.metrics import classification_report"
   ]
  },
  {
   "cell_type": "code",
   "execution_count": 14,
   "id": "caa96223",
   "metadata": {},
   "outputs": [],
   "source": [
    "news_train=fetch_20newsgroups(subset='train')\n",
    "news_test=fetch_20newsgroups(subset='test')"
   ]
  },
  {
   "cell_type": "code",
   "execution_count": 15,
   "id": "5820ca1d",
   "metadata": {},
   "outputs": [
    {
     "name": "stdout",
     "output_type": "stream",
     "text": [
      "11314\n",
      "['alt.atheism', 'comp.graphics', 'comp.os.ms-windows.misc', 'comp.sys.ibm.pc.hardware', 'comp.sys.mac.hardware', 'comp.windows.x', 'misc.forsale', 'rec.autos', 'rec.motorcycles', 'rec.sport.baseball', 'rec.sport.hockey', 'sci.crypt', 'sci.electronics', 'sci.med', 'sci.space', 'soc.religion.christian', 'talk.politics.guns', 'talk.politics.mideast', 'talk.politics.misc', 'talk.religion.misc']\n"
     ]
    }
   ],
   "source": [
    "len(news_train)\n",
    "\n",
    "print(len(news_train.data))\n",
    "\n",
    "print(news_train.target_names)\n",
    "label_names=news_train.target_names"
   ]
  },
  {
   "cell_type": "code",
   "execution_count": 16,
   "id": "6aa25e57",
   "metadata": {},
   "outputs": [
    {
     "name": "stdout",
     "output_type": "stream",
     "text": [
      "[0. 0. 0. 0. 0. 0. 0. 1. 0. 0. 0. 0. 0. 0. 0. 0. 0. 0. 0. 0.]\n"
     ]
    }
   ],
   "source": [
    "tokenizer=Tokenizer()\n",
    "tokenizer.fit_on_texts(news_train.data)\n",
    "tokenizer.fit_on_texts(news_test.data)\n",
    "\n",
    "X_train=tokenizer.texts_to_sequences(news_train.data)\n",
    "X_train=pad_sequences(X_train,maxlen=400)\n",
    "Y_train=to_categorical(news_train.target)\n",
    "print(Y_train[0])"
   ]
  },
  {
   "cell_type": "code",
   "execution_count": 17,
   "id": "c0165824",
   "metadata": {},
   "outputs": [
    {
     "name": "stdout",
     "output_type": "stream",
     "text": [
      "[0. 0. 0. 0. 0. 0. 0. 1. 0. 0. 0. 0. 0. 0. 0. 0. 0. 0. 0. 0.]\n"
     ]
    }
   ],
   "source": [
    "X_test=tokenizer.texts_to_sequences(news_test.data)\n",
    "X_test=pad_sequences(X_test,maxlen=400)\n",
    "Y_test=to_categorical(news_test.target)\n",
    "print(Y_test[0])"
   ]
  },
  {
   "cell_type": "code",
   "execution_count": 28,
   "id": "04200b06",
   "metadata": {},
   "outputs": [
    {
     "name": "stdout",
     "output_type": "stream",
     "text": [
      "Model: \"sequential_7\"\n",
      "_________________________________________________________________\n",
      " Layer (type)                Output Shape              Param #   \n",
      "=================================================================\n",
      " embedding_7 (Embedding)     (None, None, 128)         22938880  \n",
      "                                                                 \n",
      " bidirectional_12 (Bidirecti  (None, None, 256)        263168    \n",
      " onal)                                                           \n",
      "                                                                 \n",
      " bidirectional_13 (Bidirecti  (None, 128)              164352    \n",
      " onal)                                                           \n",
      "                                                                 \n",
      " dense_7 (Dense)             (None, 20)                2580      \n",
      "                                                                 \n",
      "=================================================================\n",
      "Total params: 23,368,980\n",
      "Trainable params: 23,368,980\n",
      "Non-trainable params: 0\n",
      "_________________________________________________________________\n",
      "None\n"
     ]
    }
   ],
   "source": [
    "voc_size  =   len(tokenizer.word_index) +1\n",
    "\n",
    "model=Sequential()\n",
    "model.add(Embedding(voc_size,128))\n",
    "model.add(Bidirectional(LSTM(128,dropout=0.2,recurrent_dropout=0.15,return_sequences=True)))\n",
    "model.add(Bidirectional(LSTM(64,dropout=0.2,recurrent_dropout=0.15,return_sequences=False)))\n",
    "model.add(Dense(len(news_train.target_names),activation='softmax'))\n",
    "\n",
    "model.compile(loss='categorical_crossentropy',optimizer='adam',metrics=['accuracy'])\n",
    "\n",
    "#model=keras.models.load_model(\"sentiment_model\")\n",
    "\n",
    "print(model.summary())"
   ]
  },
  {
   "cell_type": "code",
   "execution_count": null,
   "id": "693cfe9a",
   "metadata": {
    "scrolled": true
   },
   "outputs": [
    {
     "name": "stdout",
     "output_type": "stream",
     "text": [
      "Epoch 1/6\n"
     ]
    }
   ],
   "source": [
    "model.fit(X_train,Y_train,batch_size=64,epochs=6)\n",
    "\n"
   ]
  },
  {
   "cell_type": "code",
   "execution_count": null,
   "id": "1d748dee",
   "metadata": {},
   "outputs": [],
   "source": [
    "#model.evaluate(X_test,Y_test)\n",
    "model.save('sentiment_model')"
   ]
  },
  {
   "cell_type": "code",
   "execution_count": null,
   "id": "863922ab",
   "metadata": {},
   "outputs": [],
   "source": [
    "Y_pred=model.predict(X_train)\n",
    "#Y_pred=model.predict(X_test)\n"
   ]
  },
  {
   "cell_type": "code",
   "execution_count": null,
   "id": "efff9b6c",
   "metadata": {},
   "outputs": [],
   "source": [
    "DEFAULT_CLASS=0\n",
    "Y_pred2 = [np.argmax(x) if np.max(x) >= 0.5 else DEFAULT_CLASS for x in Y_pred]\n",
    "\n",
    "#Y_pred2=np.argmax(Y_pred, axis=1)\n",
    "#Y_test2=np.argmax(Y_test, axis=1)\n",
    "Y_train2=np.argmax(Y_train,axis=1)\n",
    "cm = confusion_matrix(Y_train2, Y_pred2)\n",
    "#cm = confusion_matrix(Y_test2, Y_pred2)\n",
    "\n",
    "sns.heatmap(cm)\n",
    "plt.show()\n",
    "\n",
    "print(classification_report(Y_train2,Y_pred2,target_names=label_names))\n",
    "#print(classification_report(Y_test2,Y_pred2,target_names=label_names))"
   ]
  },
  {
   "cell_type": "code",
   "execution_count": null,
   "id": "349abb71",
   "metadata": {},
   "outputs": [],
   "source": [
    "Y_pred=model.predict(X_test)\n",
    "\n",
    "DEFAULT_CLASS=0\n",
    "Y_pred2 = [np.argmax(x) if np.max(x) >= 0.5 else DEFAULT_CLASS for x in Y_pred]\n",
    "\n",
    "Y_test2=np.argmax(Y_test, axis=1)\n",
    "cm = confusion_matrix(Y_test2, Y_pred2)\n",
    "\n",
    "sns.heatmap(cm)\n",
    "plt.show()\n",
    "\n",
    "print(classification_report(Y_test2,Y_pred2,target_names=label_names))\n",
    "#print(classification_report(Y_test2,Y_pred2,target_names=label_names))"
   ]
  }
 ],
 "metadata": {
  "kernelspec": {
   "display_name": "Python 3 (ipykernel)",
   "language": "python",
   "name": "python3"
  },
  "language_info": {
   "codemirror_mode": {
    "name": "ipython",
    "version": 3
   },
   "file_extension": ".py",
   "mimetype": "text/x-python",
   "name": "python",
   "nbconvert_exporter": "python",
   "pygments_lexer": "ipython3",
   "version": "3.8.12"
  }
 },
 "nbformat": 4,
 "nbformat_minor": 5
}
