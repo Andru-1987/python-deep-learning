{
 "cells": [
  {
   "cell_type": "code",
   "execution_count": 49,
   "metadata": {},
   "outputs": [],
   "source": [
    "import xgboost as xgb\n",
    "import pandas as pd\n",
    "import numpy as np\n",
    "from sklearn.model_selection import train_test_split\n",
    "from sklearn.datasets import load_iris\n",
    "import matplotlib.pyplot as plt\n",
    "from sklearn.preprocessing import StandardScaler\n",
    "from sklearn.metrics import roc_curve"
   ]
  },
  {
   "cell_type": "code",
   "execution_count": 50,
   "metadata": {},
   "outputs": [
    {
     "name": "stdout",
     "output_type": "stream",
     "text": [
      "Index(['time', 'v1', 'v2', 'v3', 'v4', 'v5', 'v6', 'v7', 'v8', 'v9', 'v10',\n",
      "       'v11', 'v12', 'v13', 'v14', 'v15', 'v16', 'v17', 'v18', 'v19', 'v20',\n",
      "       'v21', 'v22', 'v23', 'v24', 'v25', 'v26', 'v27', 'v28', 'amount',\n",
      "       'fraud'],\n",
      "      dtype='object')\n",
      "0    56772\n",
      "1      102\n",
      "Name: fraud, dtype: int64\n"
     ]
    }
   ],
   "source": [
    "url = \"https://raw.githubusercontent.com/dnishimoto/python-deep-learning/master/creditcard.csv\"\n",
    "\n",
    "creditcard = pd.read_csv(url)\n",
    "\n",
    "creditcard.columns = [x.lower() for x in creditcard.columns]\n",
    "creditcard.rename(columns = {'class': 'fraud'}, inplace = True)\n",
    "\n",
    "print(creditcard.columns)\n",
    "print(creditcard.fraud.value_counts(dropna = False))\n",
    "\n",
    "X = creditcard.drop(\"fraud\", axis = 1)\n",
    "y = creditcard[\"fraud\"]\n",
    "\n",
    "\n",
    "X_train, X_test,y_train,y_test=train_test_split(X,y,test_size=0.3,random_state=42)"
   ]
  },
  {
   "cell_type": "code",
   "execution_count": 51,
   "metadata": {},
   "outputs": [
    {
     "data": {
      "text/plain": [
       "XGBClassifier(base_score=0.5, booster='gbtree', colsample_bylevel=1,\n",
       "       colsample_bynode=1, colsample_bytree=1, gamma=0, learning_rate=0.1,\n",
       "       max_delta_step=0, max_depth=3, min_child_weight=1, missing=None,\n",
       "       n_estimators=10, n_jobs=1, nthread=None,\n",
       "       objective='binary:logistic', random_state=0, reg_alpha=0,\n",
       "       reg_lambda=1, scale_pos_weight=1, seed=123, silent=None,\n",
       "       subsample=1, verbosity=1)"
      ]
     },
     "execution_count": 51,
     "metadata": {},
     "output_type": "execute_result"
    }
   ],
   "source": [
    "xg_cl= xgb.XGBClassifier(objective='binary:logistic',n_estimators=10,seed=123)\n",
    "\n",
    "xg_cl.fit(X_train,y_train)\n"
   ]
  },
  {
   "cell_type": "code",
   "execution_count": 52,
   "metadata": {},
   "outputs": [
    {
     "name": "stdout",
     "output_type": "stream",
     "text": [
      "Predicted fraud count  28\n"
     ]
    },
    {
     "data": {
      "image/png": "[encoded data removed]",
      "text/plain": [
       "<Figure size 432x288 with 1 Axes>"
      ]
     },
     "metadata": {},
     "output_type": "display_data"
    }
   ],
   "source": [
    "y_pred=xg_cl.predict(X_test)\n",
    "\n",
    "print(\"Predicted fraud count \",len(y_pred[y_pred==1]))\n",
    "buffer=pd.Series(y_pred)\n",
    "buffer.value_counts().plot(kind='pie')\n",
    "plt.show()\n",
    "\n"
   ]
  },
  {
   "cell_type": "code",
   "execution_count": 53,
   "metadata": {},
   "outputs": [
    {
     "data": {
      "image/png": "[encoded data removed]",
      "text/plain": [
       "<Figure size 432x288 with 1 Axes>"
      ]
     },
     "metadata": {
      "needs_background": "light"
     },
     "output_type": "display_data"
    }
   ],
   "source": [
    "fpr, tpr, thresholds = roc_curve(y_test, y_pred)   # precision_recall_curve\n",
    "roc = pd.DataFrame({'FPR':fpr,'TPR':tpr,'Thresholds':thresholds})\n",
    "\n",
    "_ = plt.figure()\n",
    "plt.plot(roc.FPR, roc.TPR)\n",
    "plt.axvline(0.1, color = '#00C851', linestyle = '--')\n",
    "plt.xlabel(\"FPR\")\n",
    "plt.ylabel(\"TPR\")\n",
    "\n",
    "plt.show()"
   ]
  },
  {
   "cell_type": "code",
   "execution_count": 54,
   "metadata": {},
   "outputs": [
    {
     "name": "stdout",
     "output_type": "stream",
     "text": [
      "accuracy: 0.999531\n"
     ]
    }
   ],
   "source": [
    "accuracy = float(np.sum(y_pred==y_test))/y_test.shape[0]\n",
    "print(\"accuracy: %f\" % (accuracy))"
   ]
  },
  {
   "cell_type": "code",
   "execution_count": 55,
   "metadata": {},
   "outputs": [
    {
     "name": "stdout",
     "output_type": "stream",
     "text": [
      "Accuracy: 0.999420\n"
     ]
    }
   ],
   "source": [
    "#cross validation\n",
    "\n",
    "dmatrix=xgb.DMatrix(data=creditcard.iloc[:,:-1],\n",
    "    label=creditcard.fraud)\n",
    "params={\"objective\":\"binary:logistic\",\"max_depth\":4}\n",
    "\n",
    "cv_results=xgb.cv(dtrain=dmatrix, params=params, nfold=4,\n",
    "    num_boost_round=10, metrics='error', as_pandas=True)\n",
    "\n",
    "print(\"Accuracy: %f\" %((1-cv_results[\"test-error-mean\"]).iloc[-1]))"
   ]
  },
  {
   "cell_type": "code",
   "execution_count": 56,
   "metadata": {},
   "outputs": [
    {
     "name": "stdout",
     "output_type": "stream",
     "text": [
      "   train-auc-mean  train-auc-std  test-auc-mean  test-auc-std\n",
      "0        0.941189       0.004627       0.909967      0.034740\n",
      "1        0.943558       0.006600       0.915366      0.036943\n",
      "2        0.945969       0.003573       0.915361      0.036955\n",
      "3        0.945969       0.003578       0.915358      0.036955\n",
      "4        0.948365       0.002271       0.945640      0.007842\n",
      "0.9456403333333333\n"
     ]
    }
   ],
   "source": [
    "# cross validation area under curve\n",
    "cv_results = xgb.cv(dtrain=dmatrix, params=params, \n",
    "                  nfold=3, num_boost_round=5, \n",
    "                  metrics=\"auc\", as_pandas=True, seed=123)\n",
    "\n",
    "# Print cv_results\n",
    "print(cv_results)\n",
    "\n",
    "# Print the AUC\n",
    "print((cv_results[\"test-auc-mean\"]).iloc[-1])"
   ]
  },
  {
   "cell_type": "code",
   "execution_count": 57,
   "metadata": {},
   "outputs": [
    {
     "name": "stdout",
     "output_type": "stream",
     "text": [
      "0.9061912835417768\n"
     ]
    }
   ],
   "source": [
    "from sklearn.metrics import roc_auc_score\n",
    "\n",
    "auc= roc_auc_score(y_test, y_pred)\n",
    "\n",
    "print(auc)"
   ]
  },
  {
   "cell_type": "code",
   "execution_count": null,
   "metadata": {},
   "outputs": [],
   "source": []
  }
 ],
 "metadata": {
  "kernelspec": {
   "display_name": "Python 3",
   "language": "python",
   "name": "python3"
  },
  "language_info": {
   "codemirror_mode": {
    "name": "ipython",
    "version": 3
   },
   "file_extension": ".py",
   "mimetype": "text/x-python",
   "name": "python",
   "nbconvert_exporter": "python",
   "pygments_lexer": "ipython3",
   "version": "3.7.9"
  }
 },
 "nbformat": 4,
 "nbformat_minor": 4
}
