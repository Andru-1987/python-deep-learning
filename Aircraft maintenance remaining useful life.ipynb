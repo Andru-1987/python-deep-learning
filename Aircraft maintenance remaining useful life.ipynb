{
 "cells": [
  {
   "cell_type": "code",
   "execution_count": 86,
   "id": "63c71b05",
   "metadata": {},
   "outputs": [],
   "source": [
    "import pandas as pd\n",
    "import numpy as np\n",
    "from tensorflow.keras.models import Sequential\n",
    "from tensorflow.keras.layers import Dense, LSTM, Activation, Masking, Dropout,BatchNormalization\n",
    "from tensorflow.keras.callbacks import EarlyStopping\n",
    "import matplotlib.pyplot as plt\n",
    "from sklearn.preprocessing import MinMaxScaler #to normalize data"
   ]
  },
  {
   "cell_type": "code",
   "execution_count": 33,
   "id": "2989e9cb",
   "metadata": {},
   "outputs": [],
   "source": [
    "#dependent_var = ['RUL']\n",
    "index_columns_names =  [\"UnitNumber\",\"Cycle\"]\n",
    "operational_settings_columns_names = [\"OpSet\"+str(i) for i in range(1,4)]\n",
    "sensor_measure_columns_names =[\"SensorMeasure\"+str(i) for i in range(1,22)]\n",
    "input_file_column_names = index_columns_names + operational_settings_columns_names + sensor_measure_columns_names\n",
    "\n",
    "cols_to_drop = ['OpSet3', 'SensorMeasure1', 'SensorMeasure5', 'SensorMeasure6', 'SensorMeasure10', 'SensorMeasure14',\n",
    "     'SensorMeasure16', 'SensorMeasure18', 'SensorMeasure19']\n",
    "    \n",
    "df_train = pd.read_csv('RUL_train_FD001.txt',delim_whitespace=True,names=input_file_column_names)\n",
    "\n",
    "df_train = df_train.drop(cols_to_drop, axis = 1)"
   ]
  },
  {
   "cell_type": "code",
   "execution_count": 34,
   "id": "411f7db2",
   "metadata": {},
   "outputs": [
    {
     "name": "stdout",
     "output_type": "stream",
     "text": [
      "Predictive Maintenance techniques are used to determine the condition of an equipment to plan the maintenance/failure ahead of its time\n",
      "\n",
      "Classification: Predicting the failure of machine in upcoming n days\n",
      "\n",
      "The lengths of the run varied with a minimum run length of 128 cycles and the maximum length of 356 cycles\n",
      "\n",
      "RUL - remaining useful life\n",
      "\n",
      "\n",
      "   UnitNumber  Cycle  OpSet1  OpSet2  SensorMeasure2  SensorMeasure3  \\\n",
      "0           1      1 -0.0007 -0.0004          641.82          1589.7   \n",
      "\n",
      "   SensorMeasure4  SensorMeasure7  SensorMeasure8  SensorMeasure9  \\\n",
      "0          1400.6          554.36         2388.06         9046.19   \n",
      "\n",
      "   SensorMeasure11  SensorMeasure12  SensorMeasure13  SensorMeasure15  \\\n",
      "0            47.47           521.66          2388.02           8.4195   \n",
      "\n",
      "   SensorMeasure17  SensorMeasure20  SensorMeasure21  \n",
      "0              392            39.06           23.419  \n"
     ]
    }
   ],
   "source": [
    "print(\"Predictive Maintenance techniques are used to determine the condition of an equipment to plan the maintenance/failure ahead of its time\\n\")\n",
    "print(\"Classification: Predicting the failure of machine in upcoming n days\\n\")\n",
    "print(\"The lengths of the run varied with a minimum run length of 128 cycles and the maximum length of 356 cycles\\n\")\n",
    "print(\"RUL - remaining useful life\\n\\n\")\n",
    "print(df_train.head(1))"
   ]
  },
  {
   "cell_type": "code",
   "execution_count": 35,
   "id": "e28f36c2",
   "metadata": {},
   "outputs": [
    {
     "name": "stdout",
     "output_type": "stream",
     "text": [
      "Find the max cycle count for each unit\n",
      "\n",
      "   UnitNumber  max\n",
      "0           1  192\n",
      "1           2  287\n",
      "2           3  179\n",
      "   UnitNumber  Cycle  OpSet1  OpSet2  SensorMeasure2  SensorMeasure3  \\\n",
      "0           1      1 -0.0007 -0.0004          641.82         1589.70   \n",
      "1           1      2  0.0019 -0.0003          642.15         1591.82   \n",
      "2           1      3 -0.0043  0.0003          642.35         1587.99   \n",
      "\n",
      "   SensorMeasure4  SensorMeasure7  SensorMeasure8  SensorMeasure9  \\\n",
      "0         1400.60          554.36         2388.06         9046.19   \n",
      "1         1403.14          553.75         2388.04         9044.07   \n",
      "2         1404.20          554.26         2388.08         9052.94   \n",
      "\n",
      "   SensorMeasure11  SensorMeasure12  SensorMeasure13  SensorMeasure15  \\\n",
      "0            47.47           521.66          2388.02           8.4195   \n",
      "1            47.49           522.28          2388.07           8.4318   \n",
      "2            47.27           522.42          2388.03           8.4178   \n",
      "\n",
      "   SensorMeasure17  SensorMeasure20  SensorMeasure21  RUL  \n",
      "0              392            39.06          23.4190  191  \n",
      "1              392            39.00          23.4236  190  \n",
      "2              390            38.95          23.3442  189  \n"
     ]
    }
   ],
   "source": [
    "print(\"Find the max cycle count for each unit\\n\"\n",
    "     )\n",
    "rul = pd.DataFrame(df_train.groupby('UnitNumber')['Cycle'].max()).reset_index()\n",
    "rul.columns = ['UnitNumber', 'max']\n",
    "print(rul.head(3))\n",
    "\n",
    "df_train = df_train.merge(rul, on=['UnitNumber'], how='left')\n",
    "df_train['RUL'] = df_train['max'] - df_train['Cycle']\n",
    "df_train.drop('max', axis=1, inplace=True)\n",
    "print(df_train.head(3))"
   ]
  },
  {
   "cell_type": "code",
   "execution_count": 36,
   "id": "64607de1",
   "metadata": {},
   "outputs": [
    {
     "name": "stdout",
     "output_type": "stream",
     "text": [
      "    RUL  UnitNumber\n",
      "0   112           0\n",
      "1    98           1\n",
      "2    69           2\n",
      "3    82           3\n",
      "4    91           4\n",
      "..  ...         ...\n",
      "95  137          95\n",
      "96   82          96\n",
      "97   59          97\n",
      "98  117          98\n",
      "99   20          99\n",
      "\n",
      "[100 rows x 2 columns]\n"
     ]
    }
   ],
   "source": [
    "y_true = pd.read_csv('RUL_FD001.txt', delim_whitespace=True,names=[\"RUL\"])\n",
    "y_true[\"UnitNumber\"] = y_true.index\n",
    "\n",
    "print(y_true)"
   ]
  },
  {
   "cell_type": "code",
   "execution_count": 76,
   "id": "50c4cfac",
   "metadata": {},
   "outputs": [
    {
     "name": "stdout",
     "output_type": "stream",
     "text": [
      "X_train (15731, 50, 17)\n",
      "y_train (15731,)\n"
     ]
    }
   ],
   "source": [
    "def gen_train(id_df, seq_length, seq_cols):\n",
    "    \"\"\"\n",
    "        function to prepare train data into (samples, time steps, features)\n",
    "        id_df = train dataframe\n",
    "        seq_length = look back period\n",
    "        seq_cols = feature columns\n",
    "    \"\"\"\n",
    "        \n",
    "    data_array = id_df[seq_cols].values\n",
    "    num_elements = data_array.shape[0]\n",
    "    lstm_array=[]\n",
    "    \n",
    "    for start, stop in zip(range(0, num_elements-seq_length+1), range(seq_length, num_elements+1)):\n",
    "        lstm_array.append(data_array[start:stop, :])\n",
    "    \n",
    "    return np.array(lstm_array)\n",
    "\n",
    "def gen_target(id_df, seq_length, label):\n",
    "    data_array = id_df[label].values\n",
    "    num_elements = data_array.shape[0]\n",
    "    return data_array[seq_length-1:num_elements+1]\n",
    "\n",
    "X_Columns = [column for column in df_train.columns if column !=\"RUL\"]\n",
    "\n",
    "min_max_scaler = MinMaxScaler(feature_range=(-1,1))\n",
    "\n",
    "df_train[X_Columns] = min_max_scaler.fit_transform(df_train[X_Columns])\n",
    "\n",
    "sequence_length=50\n",
    "\n",
    "X_train=np.concatenate(list(list(gen_train(df_train[df_train['UnitNumber']==unit], sequence_length, X_Columns)) for unit in df_train['UnitNumber'].unique()))\n",
    "print(\"X_train\",X_train.shape)\n",
    "y_train = np.concatenate(list(list(gen_target(df_train[df_train['UnitNumber']==unit], sequence_length, \"RUL\")) for unit in df_train['UnitNumber'].unique()))\n",
    "print(\"y_train\",y_train.shape)"
   ]
  },
  {
   "cell_type": "code",
   "execution_count": 89,
   "id": "4c581690",
   "metadata": {},
   "outputs": [
    {
     "name": "stdout",
     "output_type": "stream",
     "text": [
      "Model: \"sequential_4\"\n",
      "_________________________________________________________________\n",
      " Layer (type)                Output Shape              Param #   \n",
      "=================================================================\n",
      " lstm_8 (LSTM)               (None, 50, 256)           280576    \n",
      "                                                                 \n",
      " batch_normalization_1 (Batc  (None, 50, 256)          1024      \n",
      " hNormalization)                                                 \n",
      "                                                                 \n",
      " dropout_8 (Dropout)         (None, 50, 256)           0         \n",
      "                                                                 \n",
      " lstm_9 (LSTM)               (None, 128)               197120    \n",
      "                                                                 \n",
      " dropout_9 (Dropout)         (None, 128)               0         \n",
      "                                                                 \n",
      " dense_4 (Dense)             (None, 1)                 129       \n",
      "                                                                 \n",
      " activation_4 (Activation)   (None, 1)                 0         \n",
      "                                                                 \n",
      "=================================================================\n",
      "Total params: 478,849\n",
      "Trainable params: 478,337\n",
      "Non-trainable params: 512\n",
      "_________________________________________________________________\n"
     ]
    }
   ],
   "source": [
    "nb_features = X_train.shape[2]\n",
    "nb_out = 1\n",
    "\n",
    "\n",
    "\n",
    "model = Sequential()\n",
    "model.add(LSTM(\n",
    "         units=256,\n",
    "         return_sequences=True,\n",
    "         input_shape=(sequence_length, nb_features)))\n",
    "model.add(BatchNormalization())\n",
    "model.add(Dropout(0.2))\n",
    "model.add(LSTM(\n",
    "          units=128,\n",
    "          return_sequences=False))\n",
    "model.add(Dropout(0.2))\n",
    "model.add(Dense(units=1, activation='relu'))\n",
    "model.add(Activation(\"relu\"))\n",
    "model.compile(loss=\"mse\", optimizer=\"rmsprop\", metrics=['mse'])\n",
    "\n",
    "model.summary()"
   ]
  },
  {
   "cell_type": "code",
   "execution_count": 90,
   "id": "d2d6bf97",
   "metadata": {},
   "outputs": [
    {
     "name": "stdout",
     "output_type": "stream",
     "text": [
      "Epoch 1/3\n",
      "443/443 [==============================] - 80s 174ms/step - loss: 5042.7188 - mse: 5042.7188 - val_loss: 4689.8779 - val_mse: 4689.8779\n",
      "Epoch 2/3\n",
      "443/443 [==============================] - 72s 163ms/step - loss: 1780.6611 - mse: 1780.6611 - val_loss: 3058.3394 - val_mse: 3058.3394\n",
      "Epoch 3/3\n",
      "443/443 [==============================] - 78s 177ms/step - loss: 911.7191 - mse: 911.7191 - val_loss: 1341.8555 - val_mse: 1341.8555\n"
     ]
    }
   ],
   "source": [
    "history=model.fit(X_train, y_train, epochs=3, batch_size=32, validation_split=0.1, verbose=1,\n",
    "          callbacks = [EarlyStopping(monitor='val_loss', min_delta=0, patience=10, verbose=0, mode='auto')])\n"
   ]
  },
  {
   "cell_type": "code",
   "execution_count": 91,
   "id": "abcd15ca",
   "metadata": {},
   "outputs": [
    {
     "data": {
      "image/png": "[encoded data removed]",
      "text/plain": [
       "<Figure size 432x288 with 1 Axes>"
      ]
     },
     "metadata": {
      "needs_background": "light"
     },
     "output_type": "display_data"
    }
   ],
   "source": [
    "plt.plot(history.history['mse'])\n",
    "#plt.plot(history.history['val_mean_squared_error'])\n",
    "plt.title('MSE')\n",
    "plt.ylabel('Mean Squared Error')\n",
    "plt.xlabel('# Epoch')\n",
    "plt.legend(['train'], loc='upper left')\n",
    "plt.show()"
   ]
  },
  {
   "cell_type": "code",
   "execution_count": 92,
   "id": "4af63ecf",
   "metadata": {},
   "outputs": [
    {
     "name": "stdout",
     "output_type": "stream",
     "text": [
      "79/79 [==============================] - 15s 191ms/step - loss: 765.9735 - mse: 765.9734\n",
      "MSE: 765.9734497070312\n"
     ]
    }
   ],
   "source": [
    "scores = model.evaluate(X_train, y_train, verbose=1, batch_size=200)\n",
    "print('MSE: {}'.format(scores[1]))"
   ]
  },
  {
   "cell_type": "code",
   "execution_count": 93,
   "id": "d133a9f6",
   "metadata": {},
   "outputs": [
    {
     "data": {
      "image/png": "[encoded data removed]",
      "text/plain": [
       "<Figure size 1440x360 with 1 Axes>"
      ]
     },
     "metadata": {
      "needs_background": "light"
     },
     "output_type": "display_data"
    }
   ],
   "source": [
    "y_pred_test = model.predict(X_train[0:600], verbose=0)\n",
    "\n",
    "plt.figure(figsize=(20,5))\n",
    "plt.plot(y_pred_test, color='red', label='Prediction')\n",
    "plt.plot(y_train[0:600], color='blue', label='Ground Truth')\n",
    "plt.ylabel(\"RUL\")\n",
    "plt.xlabel(\"Unit Number\")\n",
    "plt.legend(loc='upper left')\n",
    "plt.show()"
   ]
  },
  {
   "cell_type": "code",
   "execution_count": null,
   "id": "fa33b117",
   "metadata": {},
   "outputs": [],
   "source": []
  }
 ],
 "metadata": {
  "kernelspec": {
   "display_name": "Python 3 (ipykernel)",
   "language": "python",
   "name": "python3"
  },
  "language_info": {
   "codemirror_mode": {
    "name": "ipython",
    "version": 3
   },
   "file_extension": ".py",
   "mimetype": "text/x-python",
   "name": "python",
   "nbconvert_exporter": "python",
   "pygments_lexer": "ipython3",
   "version": "3.8.13"
  }
 },
 "nbformat": 4,
 "nbformat_minor": 5
}
