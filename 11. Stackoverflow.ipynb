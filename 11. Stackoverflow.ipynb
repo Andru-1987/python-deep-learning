{
 "cells": [
  {
   "cell_type": "code",
   "execution_count": 1,
   "id": "9a76508b",
   "metadata": {},
   "outputs": [],
   "source": [
    "import pandas as pd\n",
    "import matplotlib.pyplot as plt\n",
    "import numpy as np\n",
    "import re\n",
    "from io import StringIO\n",
    "import io\n",
    "from collections import namedtuple\n",
    "from datetime import datetime,timedelta\n",
    "import sys\n",
    "import json\n",
    "import ast\n",
    "from sklearn.decomposition import PCA\n",
    "from sklearn.preprocessing import StandardScaler\n",
    "from sklearn.pipeline import Pipeline\n",
    "from sklearn.model_selection import train_test_split\n",
    "from sklearn.impute import SimpleImputer\n",
    "from sklearn.linear_model import LinearRegression\n",
    "from scipy.stats import pearsonr\n",
    "import seaborn as sns"
   ]
  },
  {
   "cell_type": "code",
   "execution_count": 2,
   "id": "8db06643",
   "metadata": {},
   "outputs": [
    {
     "name": "stdout",
     "output_type": "stream",
     "text": [
      "   weekstart    weekend       Spend     Daily\n",
      "0  01-Jan-18  07-Jan-18  34235.9220  4890.846\n",
      "1  08-Jan-18  14-Jan-18  37359.6048  5337.086\n",
      "2  15-Jan-18  21-Jan-18  38916.1164  5559.445\n",
      "3  22-Jan-18  28-Jan-18  36903.8628  5271.980\n",
      "Empty DataFrame\n",
      "Columns: [Date, Amount]\n",
      "Index: []\n",
      "         Date    Amount\n",
      "1  2018-01-01  4890.846\n",
      "2  2018-01-02  4890.846\n",
      "3  2018-01-03  4890.846\n",
      "4  2018-01-04  4890.846\n",
      "5  2018-01-05  4890.846\n",
      "6  2018-01-06  4890.846\n",
      "7  2018-01-07  4890.846\n",
      "8  2018-01-08  5337.086\n",
      "9  2018-01-09  5337.086\n",
      "10 2018-01-10  5337.086\n",
      "11 2018-01-11  5337.086\n",
      "12 2018-01-12  5337.086\n",
      "13 2018-01-13  5337.086\n",
      "14 2018-01-14  5337.086\n",
      "15 2018-01-15  5559.445\n",
      "16 2018-01-16  5559.445\n",
      "17 2018-01-17  5559.445\n",
      "18 2018-01-18  5559.445\n",
      "19 2018-01-19  5559.445\n",
      "20 2018-01-20  5559.445\n",
      "21 2018-01-21  5559.445\n",
      "22 2018-01-22  5271.980\n",
      "23 2018-01-23  5271.980\n",
      "24 2018-01-24  5271.980\n",
      "25 2018-01-25  5271.980\n",
      "26 2018-01-26  5271.980\n",
      "27 2018-01-27  5271.980\n",
      "28 2018-01-28  5271.980\n"
     ]
    },
    {
     "name": "stderr",
     "output_type": "stream",
     "text": [
      "C:\\Users\\DNISHI~1\\AppData\\Local\\Temp/ipykernel_7436/3259226528.py:23: FutureWarning: In a future version of pandas all arguments of DataFrame.set_index except for the argument 'keys' will be keyword-only\n",
      "  df2.set_index(pd.Index(index),'index',inplace=True)\n"
     ]
    },
    {
     "data": {
      "image/png": "[encoded data removed]",
      "text/plain": [
       "<Figure size 432x288 with 1 Axes>"
      ]
     },
     "metadata": {
      "needs_background": "light"
     },
     "output_type": "display_data"
    }
   ],
   "source": [
    "df = pd.DataFrame({\n",
    "    'weekstart':['01-Jan-18','08-Jan-18','15-Jan-18','22-Jan-18'],\n",
    "    'weekend':['07-Jan-18','14-Jan-18','21-Jan-18','28-Jan-18'],\n",
    "    'Spend':[34235.922,37359.6048,38916.1164,36903.8628],\n",
    "    'Daily':[4890.846,5337.086,5559.445,5271.98],\n",
    "})\n",
    "print(df)\n",
    "\n",
    "df2=pd.DataFrame(columns=['Date','Amount'])\n",
    "df2['Date']=pd.to_datetime(df2['Date'])\n",
    "#df2.reset_index(level=0,inplace=True)\n",
    "print(df2)\n",
    "\n",
    "for key,value in df.iterrows():\n",
    "    #print(key,value)\n",
    "    amount=value['Daily']\n",
    "    for date in pd.date_range(value['weekstart'], value['weekend']):\n",
    "        #print(date)\n",
    "        df2=df2.append({\"Date\":date,\"Amount\":amount},ignore_index=True)\n",
    "\n",
    "index=range(1,len(df2)+1) \n",
    "\n",
    "df2.set_index(pd.Index(index),'index',inplace=True)\n",
    "print(df2)\n",
    "\n",
    "plt.plot(df2['Date'],df2['Amount'])\n",
    "plt.xticks(rotation=90)\n",
    "plt.show()"
   ]
  },
  {
   "cell_type": "code",
   "execution_count": 3,
   "id": "3d6231f4",
   "metadata": {},
   "outputs": [
    {
     "name": "stdout",
     "output_type": "stream",
     "text": [
      "  Category    Name  Year  Vals\n",
      "0      Car   Camry  2007   0.1\n",
      "1      Car   Camry  2007   0.5\n",
      "5    Truck  Tundra  2010   0.4\n"
     ]
    }
   ],
   "source": [
    "category = ['Car','Car','Car','Car','Truck','Truck','Truck']\n",
    "name = ['Camry','Camry','Camry','Camry','Tacoma','Tundra','Tundra']\n",
    "year = ['2007','2007','2008','2009','2010','2010','2011']\n",
    "vals = [0.1,0.5,0.2,0.9,0.8,0.4,0.9]\n",
    "df = pd.DataFrame({'Category': category,\n",
    "                   'Name': name,\n",
    "                   'Year': year,\n",
    "                   'Vals': vals})\n",
    "\n",
    "print(df.query(\"(Category=='Car' and Name=='Camry' and Year=='2007') or (Category=='Truck' and Name=='Tundra' and Year=='2010')\"))"
   ]
  },
  {
   "cell_type": "code",
   "execution_count": 4,
   "id": "faa5666a",
   "metadata": {},
   "outputs": [
    {
     "name": "stdout",
     "output_type": "stream",
     "text": [
      "2015\n"
     ]
    }
   ],
   "source": [
    "txt=\"firstname lastname (1937-2015)\"\n",
    "pattern=r'(\\d{4}\\-\\d{4})+'\n",
    "\n",
    "matches=re.findall(pattern,txt)\n",
    "print(matches[0].split('-')[1])"
   ]
  },
  {
   "cell_type": "code",
   "execution_count": 5,
   "id": "cc2129e1",
   "metadata": {},
   "outputs": [
    {
     "name": "stdout",
     "output_type": "stream",
     "text": [
      "        name abbrevation  value   Category\n",
      "0      FRUIT         FRU    100      FRUIT\n",
      "1    A.GRAPE       A.GRA     50      FRUIT\n",
      "2    A.APPLE       A.APP     50      FRUIT\n",
      "3  VEGETABLE         VEG     75  VEGETABLE\n",
      "4   A.TOMATO       A.TOM     25  VEGETABLE\n",
      "5  A.CABBAGE       A.CAB     25  VEGETABLE\n",
      "6   A.CARROT       A.CAR     25  VEGETABLE\n"
     ]
    }
   ],
   "source": [
    "data = [['FRUIT', 'FRU', 100],['A.GRAPE','A.GRA', 50],['A.APPLE','A.APP', 50],\n",
    "        ['VEGETABLE', 'VEG', 75],['A.TOMATO','A.TOM', 25],['A.CABBAGE','A.CAB', 25],['A.CARROT','A.CAR', 25]]\n",
    "df = pd.DataFrame(data, columns = ['name', 'abbrevation', 'value'])\n",
    "\n",
    "df['Category']=df['name'].apply(lambda x: x if x.isalpha() else None)\n",
    "df.ffill(inplace=True)\n",
    "print(df)"
   ]
  },
  {
   "cell_type": "code",
   "execution_count": 6,
   "id": "f636e48c",
   "metadata": {},
   "outputs": [
    {
     "name": "stdout",
     "output_type": "stream",
     "text": [
      "find the floating point number\n",
      "['200.20356']\n"
     ]
    }
   ],
   "source": [
    "print(\"find the floating point number\")\n",
    "txt=\"200.20356AVAX\"\n",
    "pattern=r\"\\d+\\.*\\d*\"\n",
    "print(re.findall(pattern,txt))"
   ]
  },
  {
   "cell_type": "code",
   "execution_count": 7,
   "id": "04f90f39",
   "metadata": {},
   "outputs": [
    {
     "name": "stdout",
     "output_type": "stream",
     "text": [
      "create a list of words and special characters\n",
      "['var', 'a', '=', '\"', 'hello', '\"', 'world', '(', 'print', '\"', '\"', 'hello', ',', '\"', '\"', 'a', ')']\n"
     ]
    }
   ],
   "source": [
    "print(\"create a list of words and special characters\")\n",
    "\n",
    "txt=\"\"\"var a = \"hello world\" \n",
    "print(\"hello\", \"a\")\"\"\"\n",
    "\n",
    "\n",
    "txt=re.sub('\\n','',txt)        \n",
    "results=[]\n",
    "buffer=[]\n",
    "for char in txt:\n",
    "    if char.isalpha()==False:\n",
    "        if char!=' ':\n",
    "            results.append(char)\n",
    "        if len(buffer)>0:\n",
    "            results.append(\"\".join(buffer))\n",
    "        buffer.clear()\n",
    "    else:\n",
    "        buffer.append(char)\n",
    "        \n",
    "print(results)\n"
   ]
  },
  {
   "cell_type": "code",
   "execution_count": 8,
   "id": "485f4b6f",
   "metadata": {},
   "outputs": [
    {
     "name": "stdout",
     "output_type": "stream",
     "text": [
      "convert to the year and quarter\n",
      "     yrmo DIST_PERIOD\n",
      "0  202101      202101\n",
      "1  202102      202101\n",
      "2  202103      202101\n",
      "3  202104      202102\n",
      "4  202105      202102\n",
      "5  202106      202102\n",
      "6  202109      202103\n",
      "7  202111      202104\n"
     ]
    }
   ],
   "source": [
    "print(\"convert to the year and quarter\")\n",
    "data='''yrmo\n",
    "202101\n",
    "202102\n",
    "202103\n",
    "202104\n",
    "202105\n",
    "202106\n",
    "202109\n",
    "202111'''\n",
    "df = pd.read_csv(io.StringIO(data), sep=' \\s+', engine='python')\n",
    "month_year=pd.to_datetime(df['yrmo'],format=\"%Y%m\")\n",
    "df['DIST_PERIOD'] = month_year.dt.to_period(\"Q\").dt.strftime('%Y0%q')\n",
    "print(df)"
   ]
  },
  {
   "cell_type": "code",
   "execution_count": 9,
   "id": "96846d78",
   "metadata": {},
   "outputs": [
    {
     "name": "stdout",
     "output_type": "stream",
     "text": [
      "find words with no space following or a single space between words\n",
      "['apple', 'orange ca', 'pear', 'banana']\n"
     ]
    }
   ],
   "source": [
    "print(\"find words with no space following or a single space between words\")\n",
    "list_of_strings = [\"apple\", \"orange ca\", \"pear  sa\", \"banana    sth\"]\n",
    "\n",
    "my_list=[]\n",
    "def find_phrase(list_of_strings):\n",
    "    for string in list_of_strings:\n",
    "        matches=re.findall(r\"(\\w+)( \\w+)*\", string)\n",
    "        if len(matches)>0:\n",
    "            my_list.append(\"\".join([matches[0][0],matches[0][1]]))\n",
    "    return my_list\n",
    "            \n",
    "print(find_phrase(list_of_strings))"
   ]
  },
  {
   "cell_type": "code",
   "execution_count": 10,
   "id": "44273597",
   "metadata": {},
   "outputs": [
    {
     "name": "stdout",
     "output_type": "stream",
     "text": [
      "('', 'private', '')\n",
      "('', '', 'protected')\n",
      "('public', '', '')\n"
     ]
    }
   ],
   "source": [
    "txt=\"a b c private d e f g protected h i j k public l m n o p\"\n",
    "\n",
    "pattern=r\"(public)|(private)|(protected)\"\n",
    "\n",
    "matches=re.findall(pattern,txt)\n",
    "for match in matches:\n",
    "    print(match)"
   ]
  },
  {
   "cell_type": "code",
   "execution_count": 11,
   "id": "bb4e106d",
   "metadata": {},
   "outputs": [
    {
     "name": "stdout",
     "output_type": "stream",
     "text": [
      "Look behind for the phrase MFG:\n",
      "look behind is not including in the grouping output\n",
      " acme\n",
      " initech\n"
     ]
    }
   ],
   "source": [
    "print(\"Look behind for the phrase MFG:\")\n",
    "print(\"look behind is not including in the grouping output\")\n",
    "txt=\"MFG: acme, something else, MFG: initech\"\n",
    "pattern=r\"(?<=MFG\\:)\\s+\\w+\"\n",
    "matches=re.findall(pattern,txt)\n",
    "for match in matches:\n",
    "    print(match)"
   ]
  },
  {
   "cell_type": "code",
   "execution_count": 12,
   "id": "266dcd4b",
   "metadata": {},
   "outputs": [
    {
     "name": "stdout",
     "output_type": "stream",
     "text": [
      "words without the character e\n",
      "america <re.Match object; span=(0, 2), match='am'>\n",
      "e None\n",
      "E None\n",
      "world <re.Match object; span=(0, 5), match='world'>\n",
      "hello <re.Match object; span=(0, 1), match='h'>\n",
      "welcome <re.Match object; span=(0, 1), match='w'>\n",
      "board <re.Match object; span=(0, 5), match='board'>\n",
      "know <re.Match object; span=(0, 4), match='know'>\n"
     ]
    }
   ],
   "source": [
    "print(\"words without the character e\")\n",
    "strs = ['america','e', 'E', 'world','hello','welcome','board','know']\n",
    "pattern=\"(?:(?!e)[a-z])+\"\n",
    "for item in strs:\n",
    "    print(item,re.search(pattern,item))\n"
   ]
  },
  {
   "cell_type": "code",
   "execution_count": 13,
   "id": "534ea855",
   "metadata": {},
   "outputs": [
    {
     "name": "stdout",
     "output_type": "stream",
     "text": [
      "convert a dataframe  to  a json structure\n",
      "    user_id  cat_id  prod_id     score  pref_prod\n",
      "0     29762       9     3115  1.000000      335.0\n",
      "1     29762      58     1335  1.000000      335.0\n",
      "2    234894      58     1335  1.000000      335.0\n",
      "3    413276      43     1388  1.000000      335.0\n",
      "4    413276      58      335  1.000000      335.0\n",
      "5    413276      73       26  1.000000      335.0\n",
      "6   9280593       9      137  1.000000      335.0\n",
      "7   9280593      58     1335  1.000000      335.0\n",
      "8   9280593      74      160  1.000000      335.0\n",
      "9   4554542      66     1612  0.166667      197.0\n",
      "10  4554542      66     1406  0.166767      197.0\n",
      "11  4554542      66     2021  1.000000      197.0\n",
      "records:[{'user_id': 29762,'cat_id': 9,'prod_id': 3115,'score': 1.0,'pref_prod': 335.0,},{'user_id': 29762,'cat_id': 58,'prod_id': 1335,'score': 1.0,'pref_prod': 335.0,},{'user_id': 234894,'cat_id': 58,'prod_id': 1335,'score': 1.0,'pref_prod': 335.0,},{'user_id': 413276,'cat_id': 43,'prod_id': 1388,'score': 1.0,'pref_prod': 335.0,},{'user_id': 413276,'cat_id': 58,'prod_id': 335,'score': 1.0,'pref_prod': 335.0,},{'user_id': 413276,'cat_id': 73,'prod_id': 26,'score': 1.0,'pref_prod': 335.0,},{'user_id': 9280593,'cat_id': 9,'prod_id': 137,'score': 1.0,'pref_prod': 335.0,},{'user_id': 9280593,'cat_id': 58,'prod_id': 1335,'score': 1.0,'pref_prod': 335.0,},{'user_id': 9280593,'cat_id': 74,'prod_id': 160,'score': 1.0,'pref_prod': 335.0,},{'user_id': 4554542,'cat_id': 66,'prod_id': 1612,'score': 0.166667,'pref_prod': 197.0,},{'user_id': 4554542,'cat_id': 66,'prod_id': 1406,'score': 0.166767,'pref_prod': 197.0,},{'user_id': 4554542,'cat_id': 66,'prod_id': 2021,'score': 1.0,'pref_prod': 197.0,},]\n"
     ]
    }
   ],
   "source": [
    "print(\"convert a dataframe  to  a json structure\")\n",
    "data=\"\"\"user_id,cat_id,prod_id,score,pref_prod\n",
    "    29762,9,3115,1.000000,335.0\n",
    "    29762,58,1335,1.000000,335.0\n",
    "    234894,58,1335,1.000000,335.0\n",
    "    413276,43,1388,1.000000,335.0\n",
    "    413276,58,335,1.000000,335.0\n",
    "    413276,73,26,1.000000,335.0\n",
    "    9280593,9,137,1.000000,335.0\n",
    "    9280593,58,1335,1.000000,335.0\n",
    "    9280593,74,160,1.000000,335.0\n",
    "    4554542,66,1612,0.166667,197.0\n",
    "    4554542,66,1406,0.166767,197.0\n",
    "    4554542,66,2021,1.000000,197.0\"\"\"\n",
    "\n",
    "df = pd.read_csv(io.StringIO(data), sep=',')\n",
    "print(df)\n",
    "\n",
    "\n",
    "Record=namedtuple('Generic',['user_id','cat_id','prod_id','score','pref_prod'])\n",
    "\n",
    "def map_to_record(row):\n",
    "    return Record(row.user_id, row.cat_id, row.prod_id,row.score,row.pref_prod)\n",
    "\n",
    "my_list = list(map(map_to_record, df.itertuples()))\n",
    "\n",
    "def named_tuple_to_json(named_tuple):\n",
    "    \"\"\"\n",
    "    convert a named tuple to a json tree structure\n",
    "    \"\"\"\n",
    "    json_string=\"records:[\"\n",
    "    for record in named_tuple:\n",
    "        json_string+=\"{\"\n",
    "        json_string+=\"'user_id': {},'cat_id': {},'prod_id': {},'score': {},'pref_prod': {},\".format(\n",
    "        record.user_id,record.cat_id,record.prod_id,record.score,record.pref_prod)\n",
    "        json_string+=\"},\"\n",
    "    json_string+=\"]\"\n",
    "    return json_string\n",
    "\n",
    "# convert the list of named tuples to a json tree structure\n",
    "json_tree = named_tuple_to_json(my_list)\n",
    "print(json_tree)"
   ]
  },
  {
   "cell_type": "code",
   "execution_count": 14,
   "id": "d7a222bc",
   "metadata": {},
   "outputs": [
    {
     "name": "stdout",
     "output_type": "stream",
     "text": [
      "an count occurrence occurs when the minutes of one day overlay another for a person\n",
      "   Record ID    Record Name        Record Start          Record End  \\\n",
      "0          1    SMITH, JOHN 2020-10-20 08:00:00 2020-10-20 09:30:00   \n",
      "1          2    SMITH, JOHN 2020-10-20 09:20:00 2020-10-20 10:30:00   \n",
      "2          3    SMITH, JOHN 2020-10-20 10:20:00 2020-10-20 11:00:00   \n",
      "3          4  COOPER, ALLEN 2020-10-20 13:00:00 2020-10-20 14:15:00   \n",
      "4          5    PEREZ, HILL 2020-10-20 15:15:00 2020-10-20 16:00:00   \n",
      "5          6    SMITH, JOHN 2021-10-04 08:00:00 2021-10-20 09:30:00   \n",
      "6          7    SMITH, JOHN 2021-10-04 09:20:00 2021-10-20 10:30:00   \n",
      "7          8    SMITH, JOHN 2021-10-04 11:20:00 2021-10-20 12:00:00   \n",
      "8          9   SMITH, JOHN  2021-10-04 13:00:00 2021-10-20 14:15:00   \n",
      "9         10    SMITH, JOHN 2021-10-04 15:15:00 2021-10-20 16:00:00   \n",
      "\n",
      "                                             minutes  Count  \n",
      "0  [2020-10-20 08:00:00, 2020-10-20 08:01:00, 202...    1.0  \n",
      "1  [2020-10-20 09:20:00, 2020-10-20 09:21:00, 202...    2.0  \n",
      "2  [2020-10-20 10:20:00, 2020-10-20 10:21:00, 202...    3.0  \n",
      "3  [2020-10-20 13:00:00, 2020-10-20 13:01:00, 202...    1.0  \n",
      "4  [2020-10-20 15:15:00, 2020-10-20 15:16:00, 202...    1.0  \n",
      "5  [2021-10-04 08:00:00, 2021-10-04 08:01:00, 202...    1.0  \n",
      "6  [2021-10-04 09:20:00, 2021-10-04 09:21:00, 202...    2.0  \n",
      "7  [2021-10-04 11:20:00, 2021-10-04 11:21:00, 202...    3.0  \n",
      "8  [2021-10-04 13:00:00, 2021-10-04 13:01:00, 202...    1.0  \n",
      "9  [2021-10-04 15:15:00, 2021-10-04 15:16:00, 202...    1.0  \n"
     ]
    }
   ],
   "source": [
    "print(\"an count occurrence occurs when the minutes of one day overlay another for a person\")\n",
    "#1;SMITH, JOHN;10/20/20 8:00 AM;10/20/20 9:30 AM\n",
    "#2;SMITH, JOHN;10/20/20 9:20 AM;10/20/20 10:30 AM\n",
    "#3;SMITH, JOHN;10/20/20 10:20 AM;10/20/20 11:00 AM\n",
    "#4;COOPER, ALLEN;10/20/20 1:00 PM;10/20/20 2:15 PM\n",
    "#5;PEREZ, HILL;10/20/20 3:15 PM;10/20/20 4:00 PM\n",
    "#6;SMITH, JOHN;10/4/21 8:00 AM;10/20/21 9:30 AM\n",
    "#7;SMITH, JOHN;10/4/21 9:20 AM;10/20/21 10:30 AM\n",
    "#8;SMITH, JOHN;10/4/21 11:20 AM;10/20/21 12:00 PM\n",
    "#9;SMITH, JOHN ;10/4/21 1:00 PM;10/20/21 2:15 PM\n",
    "#10;SMITH, JOHN;10/4/21 3:15 PM;10/20/21 4:00 PM\n",
    "\n",
    "df = pd.read_csv(io.StringIO(\"\"\"\n",
    "Record ID;Record Name;Record Start;Record End\n",
    "1;SMITH, JOHN;10/20/20 8:00 AM;10/20/20 9:30 AM\n",
    "2;SMITH, JOHN;10/20/20 9:20 AM;10/20/20 10:30 AM\n",
    "3;SMITH, JOHN;10/20/20 10:20 AM;10/20/20 11:00 AM\n",
    "4;COOPER, ALLEN;10/20/20 1:00 PM;10/20/20 2:15 PM\n",
    "5;PEREZ, HILL;10/20/20 3:15 PM;10/20/20 4:00 PM\n",
    "6;SMITH, JOHN;10/4/21 8:00 AM;10/20/21 9:30 AM\n",
    "7;SMITH, JOHN;10/4/21 9:20 AM;10/20/21 10:30 AM\n",
    "8;SMITH, JOHN;10/4/21 11:20 AM;10/20/21 12:00 PM\n",
    "9;SMITH, JOHN ;10/4/21 1:00 PM;10/20/21 2:15 PM\n",
    "10;SMITH, JOHN;10/4/21 3:15 PM;10/20/21 4:00 PM\n",
    "\"\"\"),sep=';')\n",
    "\n",
    "df['Record Start']=pd.to_datetime(df['Record Start'])\n",
    "df['Record End']=pd.to_datetime(df['Record End'])\n",
    "\n",
    "def create_datetime(date,hour,minute,second):\n",
    "    month=date.month\n",
    "    day=date.day\n",
    "    year=date.year\n",
    "    #month = int(txt.split(\"/\")[0])\n",
    "    #day = int(txt.split(\"/\")[1])\n",
    "    #year = int(\"20\"+txt.split(\"/\")[2].split(\" \")[0])\n",
    "    # datetime(year, month, day, hour, minute, second, microsecond)\n",
    "    return datetime(year=year,month=month,day=day,hour=hour,minute=minute,second=second,microsecond=0)\n",
    "\n",
    "def get_minutes(row):\n",
    "    #start = datetime.strptime(row['Record Start'], '%m/%d/%y %H:%M %p')\n",
    "    start=row['Record Start']\n",
    "    start_end_of_day=create_datetime(row['Record Start'],23,59,59)\n",
    "   \n",
    "    #end = datetime.strptime(row['Record End'], '%m/%d/%y %H:%M %p')\n",
    "    end = row['Record End']\n",
    "    end_beginning_of_day=create_datetime(row['Record End'], 0,0,0)\n",
    "    \n",
    "    results=[start + timedelta(minutes=x) for x in range(0, round((end-start).total_seconds()//60)+1)]\n",
    "      \n",
    "    #for item in results:\n",
    "    #    print(item)\n",
    "    #sys.exit()\n",
    "    return results\n",
    "\n",
    "df['minutes'] = df.apply(get_minutes, axis=1)\n",
    "\n",
    "def intersection(lst1, lst2):\n",
    "    return list(set(lst1) & set(lst2))\n",
    "\n",
    "prev_row=None\n",
    "for index,row in df.iterrows():\n",
    "    if index==0:\n",
    "        df.loc[index,'Count']=1\n",
    "    else:\n",
    "        prev_row=df.iloc[index-1]\n",
    "        \n",
    "    if not prev_row is None:\n",
    "        if prev_row['Record Name']==row['Record Name']:\n",
    "            count=prev_row['Count']\n",
    "            lst1=row['minutes']\n",
    "            lst2=prev_row['minutes']\n",
    "            if len(intersection(lst1,lst2))>0:\n",
    "                df.loc[index,'Count']=count+1\n",
    "            else:\n",
    "                df.loc[index,'Count']=1\n",
    "        else:\n",
    "            df.loc[index,'Count']=1\n",
    "        \n",
    "#print(df[df['Count']>=3])   \n",
    "print(df[['Record ID','Record Name', 'Record Start','Record End','minutes','Count']])\n",
    "        \n"
   ]
  },
  {
   "cell_type": "code",
   "execution_count": 15,
   "id": "83de4b83",
   "metadata": {},
   "outputs": [
    {
     "name": "stdout",
     "output_type": "stream",
     "text": [
      "10 4 21\n"
     ]
    }
   ],
   "source": [
    "pattern=r'(\\d{1,2})\\/(\\d{1,2})\\/(\\d{4}).*?'\n",
    "\n",
    "txt=\"10/4/21 8:00 AM\"\n",
    "month = txt.split(\"/\")[0]\n",
    "day = txt.split(\"/\")[1]\n",
    "year = txt.split(\"/\")[2].split(\" \")[0]\n",
    "print(month,day,year)\n"
   ]
  },
  {
   "cell_type": "code",
   "execution_count": 16,
   "id": "6defd2ae",
   "metadata": {},
   "outputs": [
    {
     "name": "stdout",
     "output_type": "stream",
     "text": [
      "create dictionaries from key and value pairs\n",
      "   id                 value\n",
      "0  a1  0:0,1:10,2:0,3:0,4:7\n",
      "1  b4   0:5,1:0,2:0,3:0,4:1\n",
      "2  c5   0:0,1:3,2:2,3:0,4:0\n",
      "3  k2   0:0,1:2,2:0,3:4,4:0\n",
      "[{1, 10}, {4, 7}]\n",
      "[{1, 4}]\n",
      "[{1, 3}, {2}]\n",
      "[{1, 2}, {3, 4}]\n",
      "   id              value\n",
      "0  a1  [{1, 10}, {4, 7}]\n",
      "1  b4           [{1, 4}]\n",
      "2  c5      [{1, 3}, {2}]\n",
      "3  k2   [{1, 2}, {3, 4}]\n"
     ]
    }
   ],
   "source": [
    "print(\"create dictionaries from key and value pairs\")\n",
    "\n",
    "\n",
    "df = pd.DataFrame({\"id\":[\"a1\", \"b4\", \"c5\", \"k2\"], \n",
    "                   \"value\":[\"0:0,1:10,2:0,3:0,4:7\",\"0:5,1:0,2:0,3:0,4:1\",\"0:0,1:3,2:2,3:0,4:0\",\"0:0,1:2,2:0,3:4,4:0\"]})\n",
    "\n",
    "print(df)\n",
    "\n",
    "\n",
    "for key,row in df.iterrows():\n",
    "    results=[]\n",
    "    {results.append({int(k),int(v)}) if int(k)!=0 and int(v)!=0 else None for k,v in (x.split(':') for x in row['value'].split(','))}\n",
    "    print(results)\n",
    "    df.loc[key,'value']=results\n",
    "    \n",
    "print(df)"
   ]
  },
  {
   "cell_type": "code",
   "execution_count": 17,
   "id": "1b43c1ba",
   "metadata": {},
   "outputs": [
    {
     "name": "stdout",
     "output_type": "stream",
     "text": [
      "calculate the accumulative change for 1000 dollars\n",
      "   VIXCLS  Percent_Change   Cumulative                                 2item\n",
      "0   17.24        0.000000  1000.000000  AxesSubplot(0.125,0.125;0.775x0.755)\n",
      "1   18.19        0.055104  1055.104408  AxesSubplot(0.125,0.125;0.775x0.755)\n",
      "2   19.22        0.056625  1114.849188  AxesSubplot(0.125,0.125;0.775x0.755)\n",
      "3   20.11        0.046306  1166.473318  AxesSubplot(0.125,0.125;0.775x0.755)\n",
      "4   20.26        0.007459  1175.174014  AxesSubplot(0.125,0.125;0.775x0.755)\n",
      "5   22.20        0.095755  1287.703016  AxesSubplot(0.125,0.125;0.775x0.755)\n",
      "6   22.44        0.010811  1301.624130  AxesSubplot(0.125,0.125;0.775x0.755)\n",
      "7   20.05       -0.106506  1162.993039  AxesSubplot(0.125,0.125;0.775x0.755)\n"
     ]
    },
    {
     "data": {
      "image/png": "[encoded data removed]",
      "text/plain": [
       "<Figure size 432x288 with 1 Axes>"
      ]
     },
     "metadata": {
      "needs_background": "light"
     },
     "output_type": "display_data"
    }
   ],
   "source": [
    "print(\"calculate the accumulative change for 1000 dollars\")\n",
    "\n",
    "data=[17.24,18.19,19.22,20.11,20.26,22.2,22.44,20.05]\n",
    "df=pd.DataFrame({'VIXCLS':data})\n",
    "df['Percent_Change']=df['VIXCLS'].pct_change().fillna(0)\n",
    "\n",
    "amount=1000\n",
    "\n",
    "returns_plus_one=df['Percent_Change']+1\n",
    "cumulative_return = returns_plus_one.cumprod()\n",
    "\n",
    "df['Cumulative']=cumulative_return.mul(amount)\n",
    "\n",
    "df['2item']=df['Cumulative'].rolling(window=2).mean().plot()\n",
    "\n",
    "print(df)"
   ]
  },
  {
   "cell_type": "code",
   "execution_count": 18,
   "id": "b02a3b46",
   "metadata": {},
   "outputs": [
    {
     "name": "stdout",
     "output_type": "stream",
     "text": [
      "Index(['1-01', '1-02', '1-03', '1-04', '1-05', '1-06', '1-07', '1-08', '1-09',\n",
      "       '1-10', '1-11', '1-12', '2-01', '2-02', '2-03', '2-04', '2-05', '2-06',\n",
      "       '2-07', '2-08', '2-09', '2-10', '2-11', '2-12', '3-01', '3-02', '3-03',\n",
      "       '3-04', '3-05', '3-06', '3-07', '3-08', '3-09', '3-10', '3-11', '3-12'],\n",
      "      dtype='object', name='Month')\n"
     ]
    },
    {
     "data": {
      "image/png": "[encoded data removed]",
      "text/plain": [
       "<Figure size 432x288 with 1 Axes>"
      ]
     },
     "metadata": {
      "needs_background": "light"
     },
     "output_type": "display_data"
    }
   ],
   "source": [
    "df=pd.read_csv('shampoo.csv',parse_dates=['Month'])\n",
    "#print(df.columns)\n",
    "pivot=df.pivot_table(index=['Month'],values=['Sales'],aggfunc=np.sum)\n",
    "print(pivot.index)\n",
    "plt.plot(pivot.index,pivot.values)\n",
    "plt.xticks(rotation=90)\n",
    "plt.show()"
   ]
  },
  {
   "cell_type": "code",
   "execution_count": 19,
   "id": "7c682ec8",
   "metadata": {},
   "outputs": [
    {
     "name": "stdout",
     "output_type": "stream",
     "text": [
      "   id                time       time_diff\n",
      "0   2 2021-12-01 22:17:46 0 days 00:13:02\n",
      "1   2 2021-12-01 22:19:02 0 days 00:13:02\n",
      "2   2 2021-12-01 22:06:00 0 days 00:13:02\n",
      "3   4 2021-12-01 22:18:06 0 days 00:00:00\n",
      "4   4 2021-12-01 22:18:06 0 days 00:00:00\n"
     ]
    }
   ],
   "source": [
    "print(\"find the time difference by grouping by id\")\n",
    "data = {'id': [2, 2, 2, 4, 4], 'time': ['22:17:46', '22:19:02', '22:06:00', '22:18:06', '22:18:06']}\n",
    "df=pd.DataFrame.from_dict(data)\n",
    "\n",
    "df['time'] = pd.to_datetime(df['time'])\n",
    "df['time_diff'] = df.groupby('id')['time'].transform(lambda x: x.max() - x.min())\n",
    "\n",
    "#grouped=df.groupby('id')['time'].agg(['min', 'max'])\n",
    "#for item in grouped.items():\n",
    "#    print(item['min'],item['max'])\n",
    "\n",
    "print(df)"
   ]
  },
  {
   "cell_type": "code",
   "execution_count": 20,
   "id": "52680c13",
   "metadata": {},
   "outputs": [
    {
     "name": "stdout",
     "output_type": "stream",
     "text": [
      "include only rows landing on wednesday \n",
      "2020-02-05   -2.109636\n",
      "2020-02-12    0.798849\n",
      "2020-02-19   -1.301143\n",
      "2020-02-26   -0.888312\n",
      "2020-03-04    0.026897\n",
      "2020-03-11   -0.699381\n",
      "2020-03-18   -0.807758\n",
      "2020-03-25   -2.109907\n",
      "2020-04-01    1.338883\n",
      "2020-04-08    1.518726\n",
      "2020-04-15    0.069521\n",
      "2020-04-22   -1.653354\n",
      "2020-04-29   -1.472092\n",
      "2020-05-06   -0.699929\n",
      "2020-05-13    0.719593\n",
      "2020-05-20    0.661622\n",
      "2020-05-27    0.926848\n",
      "2020-06-03   -0.174931\n",
      "2020-06-10    1.193409\n",
      "2020-06-17    0.431758\n",
      "2020-06-24   -0.433327\n",
      "2020-07-01    0.427574\n",
      "2020-07-08   -0.877793\n",
      "2020-07-15   -0.787651\n",
      "2020-07-22    0.664611\n",
      "2020-07-29   -1.866715\n",
      "2020-08-05   -0.992249\n",
      "2020-08-12   -0.119305\n",
      "2020-08-19   -0.419115\n",
      "2020-08-26   -1.239457\n",
      "2020-09-02    0.683827\n",
      "2020-09-09   -0.963961\n",
      "2020-09-16   -0.070694\n",
      "2020-09-23   -0.576280\n",
      "2020-09-30    0.490050\n",
      "2020-10-07   -0.101506\n",
      "2020-10-14    0.246155\n",
      "2020-10-21    1.172024\n",
      "2020-10-28   -0.593341\n",
      "2020-11-04    0.821322\n",
      "2020-11-11   -0.668893\n",
      "2020-11-18    0.004365\n",
      "2020-11-25   -1.791339\n",
      "dtype: float64\n"
     ]
    }
   ],
   "source": [
    "print('include only rows landing on wednesday ')\n",
    "\n",
    "days = ['Monday', 'Tuesday', 'Wednesday', 'Thursday', 'Friday', 'Saturday', 'Sunday']\n",
    "\n",
    "indices = pd.date_range(start='feb 01 2020', end='nov 30 2020', freq='D')\n",
    "sr=pd.Series(index=indices, data=np.random.randn(indices.shape[0]))\n",
    "print(sr[sr.index.dayofweek == 2])"
   ]
  },
  {
   "cell_type": "code",
   "execution_count": 21,
   "id": "6572887f",
   "metadata": {},
   "outputs": [
    {
     "name": "stdout",
     "output_type": "stream",
     "text": [
      "[(Timestamp('2021-11-01 00:00:00'), 0), (Timestamp('2021-11-02 00:00:00'), 0), (Timestamp('2021-11-03 00:00:00'), 0), (Timestamp('2021-11-04 00:00:00'), 0), (Timestamp('2021-11-05 00:00:00'), 0)]\n"
     ]
    }
   ],
   "source": [
    "txt=\"\"\"scanned_date,total       \n",
    "2021-11-01,0\n",
    "2021-11-02,0\n",
    "2021-11-03,0\n",
    "2021-11-04,0\n",
    "2021-11-05,0\n",
    "\"\"\"\n",
    "\n",
    "#https://www.py4u.net/discuss/17020\n",
    "\n",
    "df = pd.read_csv(io.StringIO(txt),sep=',',parse_dates=['scanned_date'])\n",
    "print(list(map(lambda tuple_obj: \n",
    "               (\n",
    "                   pd.to_datetime(tuple_obj[1],'%M/%d/%Y')\n",
    "                  #str(tuple_obj[1].astype(\"datetime64[M]\").astype(int)% 12 + 1)\n",
    "                  # + \"\\\\\" + str(tuple_obj[1].astype(object).day)\n",
    "                  # + \"\\\\\" + str(tuple_obj[1].astype(\"datetime64[Y]\"))\n",
    "                 ,\n",
    "                tuple_obj[2]),\n",
    "               df.to_records())))"
   ]
  },
  {
   "cell_type": "code",
   "execution_count": 2,
   "id": "6d7b680d",
   "metadata": {},
   "outputs": [
    {
     "name": "stdout",
     "output_type": "stream",
     "text": [
      "    ColA       ColB  ColC    ColD  ColD_2  ColD_3  ColD_2_check  ColD_3_check  \\\n",
      "0      B 2021-10-24     2     NaN     NaN     NaN             0             0   \n",
      "1      B 2021-10-25     4     2.0     NaN     NaN             0             0   \n",
      "2      B 2021-10-26   500   496.0     NaN     NaN             0             0   \n",
      "3      B 2021-10-27   100  -400.0     2.0     NaN             0             0   \n",
      "4      B 2021-10-28    55   -45.0   496.0     2.0             1             0   \n",
      "5      B 2021-10-29   600   545.0  -400.0   496.0             0             1   \n",
      "6      B 2021-10-30     8  -592.0   -45.0  -400.0             0             0   \n",
      "7      B 2021-10-31  4300  4292.0   545.0   -45.0             1             0   \n",
      "8      B 2021-11-01   200 -4100.0  -592.0   545.0             0             1   \n",
      "9      H 2021-10-24   600     NaN  4292.0  -592.0             1             0   \n",
      "10     H 2021-10-25     0  9400.0 -4100.0  4292.0             0             1   \n",
      "11     H 2021-10-26   100 -9900.0     NaN -4100.0             0             0   \n",
      "12     H 2021-10-27   300   200.0  9400.0     NaN             1             0   \n",
      "13     H 2021-10-28     2  -292.0 -9900.0  9400.0             0             1   \n",
      "14     H 2021-10-29     8     6.0   200.0 -9900.0             0             0   \n",
      "15     H 2021-10-30   600   592.0  -292.0   200.0             0             0   \n",
      "16     H 2021-10-31   600     0.0     6.0  -292.0             0             0   \n",
      "17     H 2021-11-01   650    50.0   592.0     6.0             1             0   \n",
      "\n",
      "    newCol  \n",
      "0        0  \n",
      "1        0  \n",
      "2        0  \n",
      "3        0  \n",
      "4        1  \n",
      "5        1  \n",
      "6        0  \n",
      "7        1  \n",
      "8        1  \n",
      "9        1  \n",
      "10       1  \n",
      "11       0  \n",
      "12       1  \n",
      "13       1  \n",
      "14       0  \n",
      "15       0  \n",
      "16       0  \n",
      "17       1  \n"
     ]
    }
   ],
   "source": [
    "txt=\"\"\" ColA,ColB,ColC,ColD\n",
    "B,2021-10-24,2,NA\n",
    "B,2021-10-25,4,2\n",
    "B,2021-10-26,500,496\n",
    "B,2021-10-27,100,-400\n",
    "B,2021-10-28,55,-45\n",
    "B,2021-10-29,600,545\n",
    "B,2021-10-30,8,-592 \n",
    "B,2021-10-31,4300,4292 \n",
    "B,2021-11-01,200,-4100\n",
    "H,2021-10-24,600,NA\n",
    "H,2021-10-25,0000,9400 \n",
    "H,2021-10-26,100,-9900 \n",
    "H,2021-10-27,300,200\n",
    "H,2021-10-28,2,-292\n",
    "H,2021-10-29,8,6\n",
    "H,2021-10-30,600,592\n",
    "H,2021-10-31,600,0\n",
    "H,2021-11-01,650,50\"\"\"\n",
    "\n",
    "df = pd.read_csv(io.StringIO(txt),sep=',',parse_dates=['ColB'])\n",
    "df['ColD_2']=df['ColD'].shift(2)\n",
    "df['ColD_3']=df['ColD'].shift(3)\n",
    "df['ColD_2_check']=np.where(df['ColD_2']>200,1,0)\n",
    "df['ColD_3_check']=np.where(df['ColD_3']>200,1,0)\n",
    "df['newCol']=df['ColD_2_check']|df['ColD_3_check']\n",
    "df.drop(['ColD_2','ColD_3','ColD_2_check','ColD_3_check'],inplace=True,axis=1)\n",
    "print(df)"
   ]
  },
  {
   "cell_type": "code",
   "execution_count": 23,
   "id": "4dfca03c",
   "metadata": {},
   "outputs": [
    {
     "name": "stdout",
     "output_type": "stream",
     "text": [
      "annualized return rate\n",
      "1.03\n",
      "1.07\n",
      "1.05\n",
      "1.12\n",
      "1.01\n",
      "0.05533402290765199\n",
      "1.00133335\n",
      "1.00148724\n",
      "0.001410292043902306\n",
      "1.00079676\n",
      "1.0012311\n",
      "0.0010139064424810051\n"
     ]
    }
   ],
   "source": [
    "print(\"annualized return rate\")\n",
    "data=[ 3, 7, 5, 12, 1]\n",
    "\n",
    "def annualize_rate(data):\n",
    "    retVal=0\n",
    "    accum=1\n",
    "    for item in data:\n",
    "        print(1+(item/100))\n",
    "        accum*=1+(item/100)\n",
    "        retVal=pow(accum,1/len(data))-1\n",
    "    return retVal\n",
    "    \n",
    "print(annualize_rate(data))\n",
    "\n",
    "data=[0.133335,0.148724]\n",
    "\n",
    "print(annualize_rate(data))\n",
    "\n",
    "\n",
    "data=[0.079676,0.123110]\n",
    "print(annualize_rate(data))"
   ]
  },
  {
   "cell_type": "code",
   "execution_count": 24,
   "id": "b84a6e78",
   "metadata": {},
   "outputs": [
    {
     "name": "stdout",
     "output_type": "stream",
     "text": [
      "   Annualized  Percent_Change  Cumulative  \\\n",
      "0    0.035719        0.000000    1.000000   \n",
      "1    0.031417       -0.120440    0.879560   \n",
      "2    0.030872       -0.017347    0.864302   \n",
      "3    0.029147       -0.055876    0.816008   \n",
      "\n",
      "                                  2item  \n",
      "0  AxesSubplot(0.125,0.125;0.775x0.755)  \n",
      "1  AxesSubplot(0.125,0.125;0.775x0.755)  \n",
      "2  AxesSubplot(0.125,0.125;0.775x0.755)  \n",
      "3  AxesSubplot(0.125,0.125;0.775x0.755)  \n"
     ]
    },
    {
     "data": {
      "image/png": "[encoded data removed]",
      "text/plain": [
       "<Figure size 432x288 with 1 Axes>"
      ]
     },
     "metadata": {
      "needs_background": "light"
     },
     "output_type": "display_data"
    }
   ],
   "source": [
    "data=[0.035719,0.031417,0.030872,0.029147]\n",
    "df=pd.DataFrame({'Annualized':data})\n",
    "df['Percent_Change']=df['Annualized'].pct_change().fillna(0)\n",
    "\n",
    "amount=1\n",
    "\n",
    "returns_plus_one=df['Percent_Change']+1\n",
    "cumulative_return = returns_plus_one.cumprod()\n",
    "\n",
    "df['Cumulative']=cumulative_return.mul(amount)\n",
    "\n",
    "df['2item']=df['Cumulative'].rolling(window=2).mean().plot()\n",
    "\n",
    "print(df)"
   ]
  },
  {
   "cell_type": "code",
   "execution_count": 25,
   "id": "6b126249",
   "metadata": {},
   "outputs": [
    {
     "data": {
      "text/plain": [
       "0.03178875"
      ]
     },
     "execution_count": 25,
     "metadata": {},
     "output_type": "execute_result"
    }
   ],
   "source": [
    "(0.035719+0.031417+0.030872+0.029147)/4"
   ]
  },
  {
   "cell_type": "code",
   "execution_count": 26,
   "id": "04b80364",
   "metadata": {},
   "outputs": [
    {
     "name": "stdout",
     "output_type": "stream",
     "text": [
      "            Player Position  Score\n",
      "6    Aaron Rodgers       QB  10.48\n",
      "0  Darrel Williams       RB  24.90\n",
      "1      Mark Ingram       RB  18.80\n",
      "5    Davante Adams       WR  11.30\n",
      "8      Corey Davis       WR   8.80\n",
      "9   T.J. Hockenson       TE   0.00\n",
      "7       Tyler Bass        K   9.00\n",
      "4    Buffalo Bills      DEF  12.00\n"
     ]
    }
   ],
   "source": [
    "print(\"FLEX is the special case in the problem\")\n",
    "txt=\"\"\"Player,Position,Score\n",
    "Darrel Williams,RB,24.9\n",
    "Mark Ingram,RB,18.8\n",
    "Michael Carter,RB,16.2\n",
    "Najee Harris,RB,15.3\n",
    "Buffalo Bills,DEF,12\n",
    "Davante Adams,WR,11.3\n",
    "Aaron Rodgers,QB,10.48\n",
    "Tyler Bass,K,9\n",
    "Corey Davis,WR,8.8\n",
    "T.J. Hockenson,TE,0\"\"\"\n",
    "\n",
    "df = pd.read_csv(io.StringIO(txt),sep=',')\n",
    "requirements_dictionary = {'QB': 1, 'RB': 2, 'WR': 2, 'TE': 1, 'K': 1, 'DEF': 1, 'FLEX': 2}\n",
    "#print(df)\n",
    "df_top_rows = pd.DataFrame()\n",
    "for position in requirements_dictionary.keys():\n",
    "    df_top_rows = df_top_rows.append(df[df['Position'] == position].sort_values(by='Score', ascending=False)\n",
    "                                     .head(requirements_dictionary[position]))\n",
    "#print(df_top_rows)\n",
    "\n",
    "\n",
    "position='FLEX'\n",
    "df_flex_rows = df_top_rows.append(df[df['Position'].isin(['RB','WR','TE'])].sort_values(by='Score', ascending=False).head(requirements_dictionary[position]))\n",
    "\n",
    "#print(df_flex_rows)\n",
    "df_result=pd.concat([df_top_rows,df_flex_rows],axis=0)\n",
    "df_result.drop_duplicates(inplace=True)\n",
    "print(df_result)"
   ]
  },
  {
   "cell_type": "code",
   "execution_count": 27,
   "id": "c09601c1",
   "metadata": {},
   "outputs": [
    {
     "name": "stdout",
     "output_type": "stream",
     "text": [
      "  column_1 column_2 column_3 column_4\n",
      "0    1,2,3        1        2        3\n",
      "1    2,3,4        2        3        4\n"
     ]
    }
   ],
   "source": [
    "txt=\"\"\"\n",
    "column_1\n",
    "1,2,3\n",
    "2,3,4\n",
    "\"\"\"\n",
    "df=pd.read_csv(io.StringIO(txt),sep='\\n')\n",
    "df[['column_2','column_3','column_4']]=df['column_1'].str.split(',',expand=True)\n",
    "print(df)"
   ]
  },
  {
   "cell_type": "code",
   "execution_count": 28,
   "id": "f39ea75c",
   "metadata": {},
   "outputs": [
    {
     "name": "stderr",
     "output_type": "stream",
     "text": [
      "C:\\Users\\DNISHI~1\\AppData\\Local\\Temp/ipykernel_7436/1480007244.py:40: MatplotlibDeprecationWarning: The 's' parameter of annotate() has been renamed 'text' since Matplotlib 3.3; support for the old name will be dropped two minor releases later.\n",
      "  ax.annotate(xy=[x2,y2],s=value)\n"
     ]
    },
    {
     "data": {
      "image/png": "[encoded data removed]",
      "text/plain": [
       "<Figure size 2000x1200 with 1 Axes>"
      ]
     },
     "metadata": {
      "needs_background": "light"
     },
     "output_type": "display_data"
    },
    {
     "name": "stdout",
     "output_type": "stream",
     "text": [
      "24\n"
     ]
    }
   ],
   "source": [
    "data=\"\"\"Date,Ta\n",
    "2020-01-01 00:00:00,6.242405\n",
    "2020-01-01 01:00:00,4.923052\n",
    "2020-01-01 02:00:00,5.112286\n",
    "2020-01-01 03:00:00,4.689673\n",
    "2020-01-01 04:00:00,4.493104\n",
    "2020-01-01 05:00:00,3.719512\n",
    "2020-01-01 06:00:00,5.473153\n",
    "2020-01-01 07:00:00,3.442055\n",
    "2020-01-01 08:00:00,4.045178\n",
    "2020-01-01 09:00:00,2.585951\n",
    "2020-01-01 10:00:00,4.028845\n",
    "2020-01-01 11:00:00,5.411510\n",
    "2020-01-01 12:00:00,3.383155\n",
    "2020-01-01 13:00:00,5.997180\n",
    "2020-01-01 14:00:00,6.485442\n",
    "2020-01-01 15:00:00,4.240901\n",
    "2020-01-01 16:00:00,3.637405\n",
    "2020-01-01 17:00:00,2.766216\n",
    "2020-01-01 18:00:00,6.024569\n",
    "2020-01-01 19:00:00,5.503587\n",
    "2020-01-01 20:00:00,5.532941\n",
    "2020-01-01 21:00:00,4.251602\n",
    "2020-01-01 22:00:00,4.444596\n",
    "2020-01-01 23:00:00,2.935362\n",
    "\"\"\"\n",
    "#df['Ta'].plot(figsize=(20,12),legend=True,subplots=True,ylim=(0,12),\n",
    "#              xticks=list(df.index.values),fontsize=10,grid=True,\n",
    "#              rot=0, xlim=(pd.Timestamp('2020-01-01 00:00:00'),pd.Timestamp('2020-01-01 23:00:00')))\n",
    "\n",
    "def plot_df(df, x, y, title=\"\", xlabel='Date', ylabel='Value', dpi=100):\n",
    "    fig,ax=plt.subplots(figsize=(20,12), dpi=dpi)\n",
    "    ax.plot(x, y, color='tab:red')\n",
    "    #plt.xticks(rotation=90)\n",
    "    items=range(0,len(df))\n",
    "    for index in items:\n",
    "        y2=y[index]\n",
    "        x2=x[index]\n",
    "        value=\"{:.2f}\".format(y2)\n",
    "        ax.annotate(xy=[x2,y2],s=value)\n",
    "        #\n",
    "        #if index%2==0:\n",
    "        #    y2=1\n",
    "        #else:\n",
    "        #    y2=2\n",
    "        #ax.annotate(xy=[x2,y2],s=value)\n",
    "        #ax.annotate(xy=[x2,y2],s=str(y2))\n",
    "    plt.xlim([pd.Timestamp('2020-01-01 00:00:00'),pd.Timestamp('2020-01-01 23:00:00')])        \n",
    "    plt.ylim(0,12)\n",
    "    plt.gca().set(title=title, xlabel=xlabel, ylabel=ylabel)\n",
    "    plt.show()\n",
    "\n",
    "df = pd.read_csv(StringIO(data), sep=',', index_col=0,parse_dates=['Date'])\n",
    "plot_df(df, x=df.index, y=df.Ta, title='Temparature')\n",
    "\n",
    "print(len(df))\n",
    "\n"
   ]
  },
  {
   "cell_type": "code",
   "execution_count": 29,
   "id": "c6d698ff",
   "metadata": {},
   "outputs": [
    {
     "name": "stdout",
     "output_type": "stream",
     "text": [
      "        a  b_x  c_x   b_y   c_y\n",
      "0     red    1    1  44.0  55.0\n",
      "1   green    5    7   NaN   NaN\n",
      "2  yellow    6    8   NaN   NaN\n",
      "3    blue    7    9   NaN   NaN\n",
      "44.0\n",
      "x\n",
      "x\n",
      "x\n",
      "        a     b     c\n",
      "0     red  44.0  55.0\n",
      "1   green   5.0   7.0\n",
      "2  yellow   6.0   8.0\n",
      "3    blue   7.0   9.0\n"
     ]
    }
   ],
   "source": [
    "df4 = pd.DataFrame({'a':['red','green','yellow','blue'],'b':[1,5,6,7],'c':[1,7,8,9]})\n",
    "df5 = pd.DataFrame({'a':'red','b':44, 'c':55}, index=[0])\n",
    "\n",
    "df3 = pd.merge(df4, df5, how='left', on='a')\n",
    "print(df3)\n",
    "\n",
    "for key, row in df3.iterrows():\n",
    "    \n",
    "    if pd.isna(row['b_y'])==False:\n",
    "        print(row['b_y'])\n",
    "        df3.loc[key,'b']=row['b_y']\n",
    "        df3.loc[key,'c']=row['c_y']\n",
    "    else:\n",
    "        print('x')\n",
    "        df3.loc[key,'b']=row['b_x']\n",
    "        df3.loc[key,'c']=row['c_x']\n",
    "\n",
    "df3 = df3.drop(['b_x', 'c_x', 'b_y', 'c_y'], axis=1)\n",
    "print(df3)"
   ]
  },
  {
   "cell_type": "code",
   "execution_count": 30,
   "id": "2f9cb10c",
   "metadata": {},
   "outputs": [
    {
     "name": "stdout",
     "output_type": "stream",
     "text": [
      "multiple df1 by df2 for every row of df1\n",
      "         Date  ABC  DEF  XYZ\n",
      "0  2020-01-31  1.5  1.6  0.6\n",
      "1  2020-02-31  0.5  1.2  1.5\n",
      "2  2020-03-31  2.0  0.8  1.8\n",
      "3  2020-04-31  1.0  0.8  2.1\n"
     ]
    }
   ],
   "source": [
    "print(\"multiple df1 by df2 for every row of df1\")\n",
    "\n",
    "df1=\"\"\"\n",
    "Date\tABC\tDEF\tXYZ\n",
    "2020-01-31\t3\t4\t2\n",
    "2020-02-31\t1\t3\t5\n",
    "2020-03-31\t4\t2\t6\n",
    "2020-04-31\t2\t2\t7\n",
    "\"\"\"\n",
    "df2=\"\"\"\n",
    "Year\tABC\tDEF\tXYZ\n",
    "2020\t.5\t.4\t.3\n",
    "\"\"\"\n",
    "\n",
    "def create_df(df):\n",
    "    df=df.strip().split('\\n')\n",
    "    df=list(map(lambda x: x.strip().split('\\t'),df))\n",
    "    df=pd.DataFrame(df[1:],columns=df[0])\n",
    "    return df\n",
    "\n",
    "df1=create_df(df1)\n",
    "df1['ABC']=df1['ABC'].astype(float)\n",
    "df1['DEF']=df1['DEF'].astype(float)\n",
    "df1['XYZ']=df1['XYZ'].astype(float)\n",
    "df2=create_df(df2)\n",
    "df2['ABC']=df2['ABC'].astype(float)\n",
    "df2['DEF']=df2['DEF'].astype(float)\n",
    "df2['XYZ']=df2['XYZ'].astype(float)\n",
    "\n",
    "cols = ['ABC', 'DEF', 'XYZ']\n",
    "df3 = df1.copy()\n",
    "df3[cols]=df1[cols].mul(df2[cols].values)\n",
    "print(df3)"
   ]
  },
  {
   "cell_type": "code",
   "execution_count": 31,
   "id": "6c6be226",
   "metadata": {},
   "outputs": [
    {
     "name": "stdout",
     "output_type": "stream",
     "text": [
      "find all the slot values\n",
      "                         id                        grp            output\n",
      "0  Alpha-old-1_MOD (Slot01)                          -          [Slot01]\n",
      "1       Alpha-old-1_PR GRP1  MOD (Slot07);MOD (Slot08)  [Slot07, Slot08]\n",
      "2        Beta-new-1_PR GRP2  MOD (Slot13);MOD (Slot14)  [Slot13, Slot14]\n",
      "3   Beta-old-1_MOD (Slot03)                          -          [Slot03]\n"
     ]
    }
   ],
   "source": [
    "print(\"find all the slot values\")\n",
    "data=\"\"\"id\\tgrp\n",
    "Alpha-old-1_MOD (Slot01)\\t-\n",
    "Alpha-old-1_PR GRP1\\tMOD (Slot07);MOD (Slot08)\n",
    "Beta-new-1_PR GRP2\\tMOD (Slot13);MOD (Slot14)\n",
    "Beta-old-1_MOD (Slot03)\\t-\n",
    "\"\"\"\n",
    "\n",
    "\n",
    "import re\n",
    "df=pd.read_csv(io.StringIO(data),sep='\\t')\n",
    "\n",
    "columns=df.columns\n",
    "for column in columns:\n",
    "    df[column]=df[column].astype(str)\n",
    "\n",
    "#pattern=r\"[\\s\\w\\(]+(?<=Slot){1}(\\d{2})+[\\s\\w\\)]+\"\n",
    "pattern=r\"[\\s\\w\\(]+(Slot{1}\\d{2})+[\\s\\w\\)]+\"\n",
    "\n",
    "df['output']=''\n",
    "for key,row in df.iterrows():\n",
    "    if re.search(\"PR GRP\",str(row['id'])):\n",
    "        matches=re.findall(pattern,str(row['grp']))\n",
    "    else:\n",
    "        matches=re.findall(pattern,str(row['id']))\n",
    "    if len(matches)>0:\n",
    "        df.loc[key,'output']=matches\n",
    "\n",
    "print(df[['id','grp','output']])"
   ]
  },
  {
   "cell_type": "code",
   "execution_count": 32,
   "id": "fe4826cd",
   "metadata": {},
   "outputs": [
    {
     "data": {
      "text/html": [
       "<div>\n",
       "<style scoped>\n",
       "    .dataframe tbody tr th:only-of-type {\n",
       "        vertical-align: middle;\n",
       "    }\n",
       "\n",
       "    .dataframe tbody tr th {\n",
       "        vertical-align: top;\n",
       "    }\n",
       "\n",
       "    .dataframe thead th {\n",
       "        text-align: right;\n",
       "    }\n",
       "</style>\n",
       "<table border=\"1\" class=\"dataframe\">\n",
       "  <thead>\n",
       "    <tr style=\"text-align: right;\">\n",
       "      <th></th>\n",
       "      <th>0</th>\n",
       "    </tr>\n",
       "  </thead>\n",
       "  <tbody>\n",
       "    <tr>\n",
       "      <th>0</th>\n",
       "      <td>2021-01-01 05:00:00</td>\n",
       "    </tr>\n",
       "    <tr>\n",
       "      <th>1</th>\n",
       "      <td>2021-01-01 06:00:00</td>\n",
       "    </tr>\n",
       "  </tbody>\n",
       "</table>\n",
       "</div>"
      ],
      "text/plain": [
       "                     0\n",
       "0  2021-01-01 05:00:00\n",
       "1  2021-01-01 06:00:00"
      ]
     },
     "execution_count": 32,
     "metadata": {},
     "output_type": "execute_result"
    }
   ],
   "source": [
    "df = pd.DataFrame({\"A\": [\"2021-01-01 05:00:00Acme Industries\",\n",
    "                         \"2021-01-01 06:00:00Acme LLC\"]})\n",
    "\n",
    "df.A.str.extract(\"(\\d{4}-\\d{2}-\\d{2}\\s\\d{2}:\\d{2}:\\d{2})?.*\")"
   ]
  },
  {
   "cell_type": "code",
   "execution_count": 33,
   "id": "d3407c44",
   "metadata": {},
   "outputs": [
    {
     "name": "stdout",
     "output_type": "stream",
     "text": [
      "  col_1    sort\n",
      "0    27  27.000\n",
      "1   >27  27.001\n",
      "2  27.2  27.200\n",
      "3    28  28.000\n"
     ]
    }
   ],
   "source": [
    "col_1=['27','>27','27.2','28']\n",
    "df=pd.DataFrame({'col_1':col_1})\n",
    "\n",
    "df['sort']=df['col_1'].apply(lambda x: float(re.sub('>','',x))+0.001 if '>' in x else float(x))\n",
    "\n",
    "print(df)"
   ]
  },
  {
   "cell_type": "code",
   "execution_count": 2,
   "id": "c937c3f2",
   "metadata": {},
   "outputs": [
    {
     "name": "stdout",
     "output_type": "stream",
     "text": [
      "find the repeating numbers after a decimal\n",
      "0.14285714285714285\n",
      "['714285']\n",
      "['3']\n",
      "0.5\n",
      "[]\n"
     ]
    }
   ],
   "source": [
    "print(\"find the repeating numbers after a decimal\")\n",
    "def repeat(result):    \n",
    "    pattern=r\"\\d+\\.\\d+(\\d+)\\1\"\n",
    "    matches=re.findall(pattern,result)\n",
    "    return matches\n",
    "\n",
    "result=str(1/7)\n",
    "print(result)\n",
    "print(repeat(result))\n",
    "#(\\b\\d\\b)\\1\n",
    "result=str(1/3)\n",
    "print(repeat(result))\n",
    "result=str(1/2)\n",
    "print(result)\n",
    "print(repeat(result))\n"
   ]
  },
  {
   "cell_type": "code",
   "execution_count": 35,
   "id": "50ba6657",
   "metadata": {},
   "outputs": [
    {
     "name": "stdout",
     "output_type": "stream",
     "text": [
      "[['step1'], ['step1', 'step2'], ['step1', 'step2', 'step3']]\n",
      "['step1']\n",
      "['step1', 'step2']\n",
      "['step1', 'step2', 'step3']\n",
      "['step1']\n",
      "['step1', 'step2']\n",
      "['step1', 'step2', 'step3']\n",
      "  id  sid              steps page_step1 page_step2 page_step3\n",
      "0  A    1              step1      step1       None       None\n",
      "1  A    1        step1-step2      step1      step2       None\n",
      "2  A    1  step1-step2-step3      step1      step2      step3\n"
     ]
    }
   ],
   "source": [
    "txt=\"\"\"id\\tsid\\tsteps\n",
    "A\\t1\\tstep1\n",
    "A\\t1\\tstep1-step2\n",
    "A\\t1\\tstep1-step2-step3\"\"\"\n",
    "\n",
    "df=pd.read_csv(io.StringIO(txt),sep='\\t')\n",
    "#print(df)\n",
    "results=df['steps'].apply(lambda x: x.split('-'))\n",
    "print(results.tolist())\n",
    "\n",
    "def Slice2(x):\n",
    "    print(x)\n",
    "    if len(x)>=2:\n",
    "        return x[1]\n",
    "    return None\n",
    "\n",
    "def Slice3(x):\n",
    "    print(x)\n",
    "    if len(x)>=3:\n",
    "        return x[2]\n",
    "    return None\n",
    "\n",
    "\n",
    "df['page_step1']=results.map(lambda x: x[0])\n",
    "df['page_step2']=results.map(Slice2)\n",
    "df['page_step3']=results.map(Slice3)\n",
    "\n",
    "print(df)\n"
   ]
  },
  {
   "cell_type": "code",
   "execution_count": 9,
   "id": "77029d8a",
   "metadata": {},
   "outputs": [
    {
     "name": "stdout",
     "output_type": "stream",
     "text": [
      "melt moves column data and stacks it vertically\n",
      "   key      a      b          c\n",
      "0    1   True  False  Batchelor\n",
      "1    2   True  False    Masters\n",
      "2    3  False   True  Doctorate\n",
      "   key letter    Boolean\n",
      "0    1      a       True\n",
      "1    2      a       True\n",
      "2    3      a      False\n",
      "3    1      b      False\n",
      "4    2      b      False\n",
      "5    3      b       True\n",
      "6    1      c  Batchelor\n",
      "7    2      c    Masters\n",
      "8    3      c  Doctorate\n",
      "   key letter    Boolean\n",
      "0    1      a       True\n",
      "1    2      a       True\n",
      "5    3      b       True\n",
      "6    1      c  Batchelor\n",
      "7    2      c    Masters\n",
      "8    3      c  Doctorate\n"
     ]
    }
   ],
   "source": [
    "print(\"melt moves column data and stacks it vertically\")\n",
    "d = {'key': [1,2,3], 'a': [True,True, False], 'b': [False,False,True],'c':['Batchelor','Masters','Doctorate']}\n",
    "df = pd.DataFrame(d)\n",
    "\n",
    "print(df)\n",
    "\n",
    "df2 = df.melt(id_vars=['key'], var_name = 'letter', value_name = 'Boolean')\n",
    "\n",
    "print(df2)\n",
    "\n",
    "df2=df2.drop(df2.index[df2['Boolean'] == False])\n",
    "\n",
    "#df2 = df2.query('Bool == True')\n",
    "print(df2)"
   ]
  },
  {
   "cell_type": "code",
   "execution_count": 37,
   "id": "7333cf22",
   "metadata": {},
   "outputs": [
    {
     "name": "stdout",
     "output_type": "stream",
     "text": [
      "evaluate a filter criteria and replace the yes or no values for the test column with a value\n",
      "   spid  value target   test\n",
      "0  AB01     15    fan  Save1\n",
      "1  AB02     21    fan   Nope\n",
      "2  AB03   1758    set   Nope\n",
      "3  AB04     12    lan    Yes\n"
     ]
    }
   ],
   "source": [
    "print(\"evaluate a filter criteria and replace the yes or no values for the test column with a value\")\n",
    "df = pd.DataFrame({\n",
    "            'spid': ['AB01', 'AB02', 'AB03', 'AB04'],\n",
    "            'value': [15,21,1758,12],\n",
    "            'target': ['fan','fan','set','lan'],\n",
    "            'test': ['Yes', 'No', 'No', 'Yes']\n",
    "    })\n",
    "\n",
    "mapper = pd.DataFrame({\n",
    "        'check': [\"row['target'] == 'fan'\",\"row['target'] == 'set'\"],\n",
    "        'message' : ['fan err message for [spid]','set err message for [spid]'],\n",
    "        'to_change' : [('test','Nope'),('test','Save1')]\n",
    "    })\n",
    "\n",
    "checks=mapper['check']\n",
    "to_change_no=mapper['to_change'][0]\n",
    "to_change_yes=mapper['to_change'][1]\n",
    "\n",
    "filter=\"\"\n",
    "for check in checks:\n",
    "    if filter==\"\":\n",
    "        filter=\"(\"+check+\")\"\n",
    "    else:\n",
    "        filter+=\" | \" + \"(\"+check+\")\"\n",
    "\n",
    "for key,row in df.iterrows():\n",
    "    result=eval(filter)\n",
    "    if (result==True):\n",
    "        if row['test']=='Yes':\n",
    "            df.loc[key,'test']=to_change_yes[1]\n",
    "        elif  row['test']=='No':\n",
    "            df.loc[key,'test']=to_change_no[1]\n",
    "        #print(row['test'])\n",
    "        \n",
    "print(df)\n",
    "\n",
    "#print(to_change)\n",
    "#for key, row in df.iterrows():\n",
    "#    print(row)"
   ]
  },
  {
   "cell_type": "code",
   "execution_count": 38,
   "id": "17629d92",
   "metadata": {},
   "outputs": [
    {
     "name": "stderr",
     "output_type": "stream",
     "text": [
      "C:\\Users\\DNISHI~1\\AppData\\Local\\Temp/ipykernel_7436/1652050870.py:1: DeprecationWarning: This function is deprecated. Please call randint(1, 100 + 1) instead\n",
      "  expeditions1=np.random.random_integers(1, 100, size=500)\n",
      "C:\\Users\\DNISHI~1\\AppData\\Local\\Temp/ipykernel_7436/1652050870.py:2: DeprecationWarning: This function is deprecated. Please call randint(1, 1000 + 1) instead\n",
      "  expeditions2=np.random.random_integers(1, 1000, size=500)\n",
      "C:\\Users\\DNISHI~1\\AppData\\Local\\Temp/ipykernel_7436/1652050870.py:11: UserWarning: Legend does not support 'members' instances.\n",
      "A proxy artist may be used instead.\n",
      "See: https://matplotlib.org/users/legend_guide.html#creating-artists-specifically-for-adding-to-the-legend-aka-proxy-artists\n",
      "  plt.legend([\"members\", \"hired_staff\"],['rouge', 'bleu'])\n",
      "C:\\Users\\DNISHI~1\\AppData\\Local\\Temp/ipykernel_7436/1652050870.py:11: UserWarning: Legend does not support 'hired_staff' instances.\n",
      "A proxy artist may be used instead.\n",
      "See: https://matplotlib.org/users/legend_guide.html#creating-artists-specifically-for-adding-to-the-legend-aka-proxy-artists\n",
      "  plt.legend([\"members\", \"hired_staff\"],['rouge', 'bleu'])\n"
     ]
    },
    {
     "data": {
      "text/plain": [
       "<matplotlib.legend.Legend at 0x20c1861f760>"
      ]
     },
     "execution_count": 38,
     "metadata": {},
     "output_type": "execute_result"
    },
    {
     "data": {
      "image/png": "[encoded data removed]",
      "text/plain": [
       "<Figure size 720x720 with 2 Axes>"
      ]
     },
     "metadata": {},
     "output_type": "display_data"
    }
   ],
   "source": [
    "expeditions1=np.random.random_integers(1, 100, size=500)\n",
    "expeditions2=np.random.random_integers(1, 1000, size=500)\n",
    "sns.set_theme(style=\"whitegrid\")\n",
    "fig,ax=plt.subplots(2,figsize=(10,10))\n",
    "boxenplot_graph = sns.boxenplot(y=expeditions1, color = \"r\",ax=ax[0])\n",
    "ax[0].set_title(\"One boxenplot\")\n",
    "boxenplot_graph2 = sns.boxenplot(y=expeditions2,color = \"b\",ax=ax[1])\n",
    "plt.xlabel(\"hired staff\")\n",
    "ax[1].set_title(\"Two boxenplot\")\n",
    "#plt.gca().legend(('membres', 'morts'))\n",
    "plt.legend([\"members\", \"hired_staff\"],['rouge', 'bleu'])"
   ]
  },
  {
   "cell_type": "code",
   "execution_count": 129,
   "id": "e728fb0d",
   "metadata": {},
   "outputs": [
    {
     "name": "stdout",
     "output_type": "stream",
     "text": [
      ".+? is the ungreedy character match\n",
      "(?<=\\[\\d{2}\\]) is the lookbehind character match\n",
      "(?=\\[\\d{2}\\]) is the lookforward character match\n",
      "output [01] Final Step - Protonica \n",
      "output [02] Liquid Frequencies (Liquid Soul Mix) - Liquid Soul \n",
      "output [03] Global Illumination - Liquid Soul \n",
      "output [04] Devotion - Liquid Soul \n",
      "output [05] Black Rock City - Quantize \n",
      "output [06] Plazza Del Trripy - Andromeda \n",
      "output [07] Private Guide - Suntree \n",
      "output [08] Stereo Gun - Vibrasphere \n",
      "output [09] The Cycle - Ritree \n",
      "output [10] Atmonizer - Andromed\n"
     ]
    }
   ],
   "source": [
    "print(\".+? is the ungreedy character match\")\n",
    "print(\"(?<=\\[\\d{2}\\]) is the lookbehind character match\")\n",
    "print(\"(?=\\[\\d{2}\\]) is the lookforward character match\")\n",
    "\n",
    "txt=\"[01] Final Step - Protonica [02] Liquid Frequencies (Liquid Soul Mix) - Liquid Soul [03] Global Illumination - Liquid Soul [04] Devotion - Liquid Soul [05] Black Rock City - Quantize [06] Plazza Del Trripy - Andromeda [07] Private Guide - Suntree [08] Stereo Gun - Vibrasphere [09] The Cycle - Ritree [10] Atmonizer - Andromed\"\n",
    "#pattern=r\"(?<=\\[\\d{2}\\])\\[.\\d{2}\\]+?\"\n",
    "#pattern=r\"(?<=\\[\\d{2}\\]).+?\"\n",
    "pattern=\"\\[\\d{2}\\].+?(?=\\[\\d{2}\\]|$)\"\n",
    "matches=re.findall(pattern,txt)\n",
    "#matches=re.split(r'(?!^)(?=\\[\\d{2}])', txt)\n",
    "for match in matches:\n",
    "    print(\"output\",match)"
   ]
  },
  {
   "cell_type": "code",
   "execution_count": 5,
   "id": "a9f20a95",
   "metadata": {},
   "outputs": [
    {
     "data": {
      "image/png": "[encoded data removed]",
      "text/plain": [
       "<Figure size 432x288 with 1 Axes>"
      ]
     },
     "metadata": {
      "needs_background": "light"
     },
     "output_type": "display_data"
    },
    {
     "name": "stdout",
     "output_type": "stream",
     "text": [
      "the pca correlation  6.938893903907228e-18\n"
     ]
    },
    {
     "data": {
      "image/png": "[encoded data removed]",
      "text/plain": [
       "<Figure size 576x432 with 1 Axes>"
      ]
     },
     "metadata": {
      "needs_background": "light"
     },
     "output_type": "display_data"
    }
   ],
   "source": [
    "#https://nowosad.github.io/spData/reference/boston.html\n",
    "df=pd.read_csv('https://raw.githubusercontent.com/eric-bunch/boston_housing/master/boston.csv')\n",
    "\n",
    "\n",
    "y = df['MDEV'].astype(float)*1000\n",
    "\n",
    "X = df.drop([\"MDEV\"], axis = 1)\n",
    "X_dummies = pd.get_dummies(X)\n",
    "\n",
    "X_train, X_test, y_train, y_test = train_test_split(X_dummies, y, test_size=0.30, random_state=0)\n",
    "n_components = 13\n",
    "pipeline = Pipeline([(\"imputer\", SimpleImputer(strategy='most_frequent')), ('scaling', StandardScaler()),('pca', PCA(n_components=n_components,whiten=True)), ('regr',LinearRegression())])\n",
    "pipeline.fit(X_train, y_train)\n",
    "\n",
    "pca = pipeline.named_steps['pca']\n",
    "\n",
    "pca.fit(X)\n",
    "pca_features=pca.transform(X)\n",
    "\n",
    "xs = pca_features[:,0]\n",
    "\n",
    "# Assign 1st column of pca_features: ys\n",
    "ys = pca_features[:,1]\n",
    "\n",
    "# Scatter plot xs vs ys\n",
    "plt.scatter(xs, ys)\n",
    "plt.axis('equal')\n",
    "plt.show()\n",
    "\n",
    "correlation, pvalue = pearsonr(xs,ys)\n",
    "\n",
    "print(\"the pca correlation \",correlation)\n",
    "\n",
    "\n",
    "fig, ax = plt.subplots(1,1, figsize=(8,6))\n",
    "ax.bar(range(pca.n_components), pca.explained_variance_ratio_, linewidth=2, color='blue')\n",
    "ax.set_ylabel(\"Explained Variance Ratio\", fontsize=16)\n",
    "ax.set_xlabel(\"Principal Components\", fontsize=16)\n",
    "ax.set_title(\"PCA\", fontsize=18)\n",
    "\n",
    "#print(pca.components_)\n",
    "\n",
    "reduced = pca.fit_transform(df[X.columns])        \n",
    "\n",
    "\n",
    "\n"
   ]
  },
  {
   "cell_type": "code",
   "execution_count": 6,
   "id": "97d1d7bf",
   "metadata": {},
   "outputs": [
    {
     "data": {
      "image/png": "[encoded data removed]",
      "text/plain": [
       "<Figure size 576x432 with 1 Axes>"
      ]
     },
     "metadata": {
      "needs_background": "light"
     },
     "output_type": "display_data"
    },
    {
     "name": "stderr",
     "output_type": "stream",
     "text": [
      "C:\\Users\\dnishimoto\\Anaconda3\\envs\\deeplearning\\lib\\site-packages\\seaborn\\_decorators.py:36: FutureWarning: Pass the following variables as keyword args: x, y. From version 0.12, the only valid positional argument will be `data`, and passing other arguments without an explicit keyword will result in an error or misinterpretation.\n",
      "  warnings.warn(\n",
      "C:\\Users\\dnishimoto\\Anaconda3\\envs\\deeplearning\\lib\\site-packages\\seaborn\\regression.py:580: UserWarning: The `size` parameter has been renamed to `height`; please update your code.\n",
      "  warnings.warn(msg, UserWarning)\n"
     ]
    },
    {
     "data": {
      "image/png": "[encoded data removed]",
      "text/plain": [
       "<Figure size 504x504 with 1 Axes>"
      ]
     },
     "metadata": {
      "needs_background": "light"
     },
     "output_type": "display_data"
    }
   ],
   "source": [
    "for i in range(0, n_components):\n",
    "    df['PC' + str(i + 1)] = reduced[:, i]\n",
    "\n",
    "# Do a scree plot\n",
    "ind = np.arange(0, n_components)\n",
    "(fig, ax) = plt.subplots(figsize=(8, 6))\n",
    "sns.pointplot(x=ind, y=pca.explained_variance_ratio_)\n",
    "ax.set_title('Scree plot')\n",
    "ax.set_xticks(ind)\n",
    "ax.set_xticklabels(ind)\n",
    "ax.set_xlabel('Component Number')\n",
    "ax.set_ylabel('Explained Variance')\n",
    "plt.show()\n",
    "\n",
    "        \n",
    "    \n",
    "# Show the points in terms of the first two PCs\n",
    "g = sns.lmplot('PC1','PC2',\n",
    "               data=df,\n",
    "               fit_reg=False,\n",
    "               scatter=True,\n",
    "               size=7)\n",
    "\n",
    "plt.show()\n",
    "\n",
    "\n",
    "    \n",
    "# Generate a correlation circle\n"
   ]
  },
  {
   "cell_type": "code",
   "execution_count": 7,
   "id": "5fd9d158",
   "metadata": {},
   "outputs": [],
   "source": [
    "def circleOfCorrelations(pc_infos, series):\n",
    "\tplt.Circle((0,0),radius=10, color='g', fill=False)\n",
    "\tcircle1=plt.Circle((0,0),radius=1, color='g', fill=False)\n",
    "\tfig = plt.gcf()\n",
    "\tfig.gca().add_artist(circle1)\n",
    "\tfor idx in range(len(pc_infos[\"PC-0\"])):\n",
    "\t\tx = pc_infos[\"PC-0\"][idx]\n",
    "\t\ty = pc_infos[\"PC-1\"][idx]\n",
    "\t\tplt.plot([0.0,x],[0.0,y],'k-')\n",
    "\t\tplt.plot(x, y, 'rx')\n",
    "\t\tplt.annotate(pc_infos.index[idx], xy=(x,y))\n",
    "\tplt.xlabel(\"PC-0 (%s%%)\" % str(series[0])[:4].lstrip(\"0.\"))\n",
    "\tplt.ylabel(\"PC-1 (%s%%)\" % str(series[1])[:4].lstrip(\"0.\"))\n",
    "\tplt.xlim((-1,1))\n",
    "\tplt.ylim((-1,1))\n",
    "\tplt.title(\"Circle of Correlations\")\n",
    " \n",
    "def myScatter(df):\n",
    "\t# http://stackoverflow.com/a/23010837/1565438\n",
    "\taxs = pd.tools.plotting.scatter_matrix(df, diagonal='kde')\n",
    "\tfor ax in axs[:,0]: # the left boundary\n",
    "\t\tax.grid('off', axis='both')\n",
    "\t\tax.set_ylabel(ax.get_ylabel(), rotation=0, labelpad=len(ax.get_ylabel())+40)\n",
    "\t\tax.set_yticks([])\n",
    " \n",
    "\tfor ax in axs[-1,:]: # the lower boundary\n",
    "\t\tax.grid('off', axis='both')\n",
    "\t\tax.set_xlabel(ax.get_xlabel(), rotation=90)\n",
    "\t\tax.set_xticks([])\n",
    "\tplt.show()\n",
    " \n",
    "def myPCA(df, title, clusters=None):\n",
    "    # Normalize data\n",
    "    df_norm = (df - df.mean()) / df.std()\n",
    "    #print(df_norm.columns)\n",
    "    # PCA\n",
    "    pca = PCA(n_components='mle')\n",
    "    pca_res = pca.fit_transform(df_norm.values)\n",
    "    series = pd.Series(pca.explained_variance_ratio_)\n",
    "    series.plot(kind='bar', title=title)\n",
    "    plt.show()\n",
    "    # Circle of correlations\n",
    "    # http://stackoverflow.com/a/22996786/1565438\n",
    "    coef = np.transpose(pca.components_)\n",
    "    cols = ['PC-'+str(x) for x in range(len(series))]\n",
    "    pc_infos = pd.DataFrame(coef, columns=cols, index=df_norm.columns)\n",
    "    circleOfCorrelations(pc_infos, series)\n",
    "    plt.show()\n",
    "    # Plot PCA\n",
    "    dat = pd.DataFrame(pca_res, columns=cols)\n",
    "    if isinstance(clusters, np.ndarray):\n",
    "        for clust in set(clusters):\n",
    "            colors = list(\"bgrcmyk\")\n",
    "            plt.scatter(dat[\"PC-0\"][clusters==clust],dat[\"PC-1\"][clusters==clust],c=colors[clust])\n",
    "    else:\n",
    "        plt.scatter(dat[\"PC-0\"],dat[\"PC-1\"])\n",
    "    plt.xlabel(\"PC-0 (%s%%)\" % str(series[0])[:4].lstrip(\"0.\"))\n",
    "    plt.ylabel(\"PC-1 (%s%%)\" % str(series[1])[:4].lstrip(\"0.\"))\n",
    "    plt.title(\"PCA\")\n",
    "    plt.show()\n",
    "    return pc_infos, series"
   ]
  },
  {
   "cell_type": "code",
   "execution_count": 8,
   "id": "27ab2ebb",
   "metadata": {},
   "outputs": [
    {
     "name": "stdout",
     "output_type": "stream",
     "text": [
      "Index(['CRIM', 'ZN', 'INDUS', 'CHAS', 'NOX', 'RM', 'AGE', 'DIS', 'RAD', 'TAX',\n",
      "       'PTRATIO', 'B', 'LSTAT', 'MDEV', 'PC1', 'PC2', 'PC3', 'PC4', 'PC5',\n",
      "       'PC6', 'PC7', 'PC8', 'PC9', 'PC10', 'PC11', 'PC12', 'PC13'],\n",
      "      dtype='object')\n"
     ]
    },
    {
     "data": {
      "image/png": "[encoded data removed]",
      "text/plain": [
       "<Figure size 432x288 with 1 Axes>"
      ]
     },
     "metadata": {
      "needs_background": "light"
     },
     "output_type": "display_data"
    },
    {
     "data": {
      "image/png": "[encoded data removed]",
      "text/plain": [
       "<Figure size 432x288 with 1 Axes>"
      ]
     },
     "metadata": {
      "needs_background": "light"
     },
     "output_type": "display_data"
    },
    {
     "data": {
      "image/png": "[encoded data removed]",
      "text/plain": [
       "<Figure size 432x288 with 1 Axes>"
      ]
     },
     "metadata": {
      "needs_background": "light"
     },
     "output_type": "display_data"
    }
   ],
   "source": [
    "pc_infos, series=myPCA(df,\"Boston Housing Prices\")\n",
    "#print(df.columns[0])\n"
   ]
  },
  {
   "cell_type": "code",
   "execution_count": 44,
   "id": "c18a828b",
   "metadata": {},
   "outputs": [
    {
     "name": "stdout",
     "output_type": "stream",
     "text": [
      "select * from table where field in('Bob','Jim','Don')\n"
     ]
    }
   ],
   "source": [
    "previous_df=pd.DataFrame({'StaffName':['Bob','Jim','Don']})\n",
    "test_list = previous_df[\"StaffName\"].tolist()\n",
    "\n",
    "sql_string = \"(\"\n",
    "for i in test_list:\n",
    "    sql_string = sql_string + \"'\" + i + \"',\"\n",
    "sql_string = sql_string[:-1] + \")\"\n",
    "\n",
    "sql=\"select * from table where field in{test_list}\".format(test_list=sql_string)\n",
    "print(sql)"
   ]
  },
  {
   "cell_type": "code",
   "execution_count": 52,
   "id": "163969a7",
   "metadata": {},
   "outputs": [
    {
     "name": "stdout",
     "output_type": "stream",
     "text": [
      "  AttributeName  Lineage Step From Country   From Town   FromStreet ToCountry  \\\n",
      "0          John             1        Spain      Madrid   Spanish St  Scotland   \n",
      "1          John             2     Scotland   Edinburgh      Main St   England   \n",
      "2          John             3      England      London     Lower St   England   \n",
      "3          John             4      England      London    Middle St   England   \n",
      "4         Sally             1     Scotland   Edinburgh    London St   England   \n",
      "5         Sally             2      England  Manchester  Scotland St   England   \n",
      "\n",
      "      ToTown   ToStreet  \n",
      "0  Edinburgh   Lower St  \n",
      "1     London  Middle St  \n",
      "2     London   Upper St  \n",
      "3     London   Upper St  \n",
      "4  Liverpool     new St  \n",
      "5     London     Old St  \n",
      "  From Country ToCountry\n",
      "0        Spain  Scotland\n",
      "1     Scotland   England\n",
      "2      England   England\n",
      "3      England   England\n",
      "4     Scotland   England\n",
      "5      England   England\n",
      "['Spain' 'Scotland']\n"
     ]
    }
   ],
   "source": [
    "dict = {'AttributeName': {0: 'John', 1: 'John', 2: 'John', 3: 'John', 4: 'Sally', 5: 'Sally'}, 'Lineage Step': {0: 1, 1: 2, 2: 3, 3: 4, 4:1, 5:2}, 'From Country': {0: 'Spain', 1: 'Scotland', 2: 'England', 3: 'England', 4: 'Scotland', 5:'England'}, 'From Town': {0: 'Madrid', 1: 'Edinburgh', 2: 'London', 3: 'London', 4: 'Edinburgh', 5: 'Manchester'}, 'FromStreet': {0: 'Spanish St', 1: 'Main St', 2: 'Lower St', 3: 'Middle St', 4: 'London St', 5: 'Scotland St'}, 'ToCountry': {0: 'Scotland', 1: 'England', 2: 'England', 3: 'England', 4: 'England', 5: 'England'}, 'ToTown': {0: 'Edinburgh', 1: 'London', 2: 'London', 3: 'London', 4: 'Liverpool', 5: 'London'}, 'ToStreet': {0: 'Lower St', 1: 'Middle St', 2: 'Upper St', 3: 'Upper St', 4: 'new St', 5: 'Old St'}}\n",
    "df = pd.DataFrame.from_dict(dict)\n",
    "print(df)\n",
    "print(df[['From Country','ToCountry']])\n",
    "\n",
    "results=df.query('`From Country` != `ToCountry`')\n",
    "#print(results)\n",
    "print(results['From Country'].unique())"
   ]
  },
  {
   "cell_type": "code",
   "execution_count": 2,
   "id": "c68edde3",
   "metadata": {},
   "outputs": [
    {
     "name": "stdout",
     "output_type": "stream",
     "text": [
      "(\"1004, 128, 1209, 128, 1209, 200, 1004, 200,  'EC~L',  0.18826377391815186, 177, 179, 349, 179, 349, 241, 177, 241, 'OKI', 0.9966741294455473, 180, 236, 422, 236, 422, 268, 180, 268,  'Oki Eleclric Industry Co',  0.8091106257361781, 435, 243, 469, 243, 469, 263, 435, 263, 'Ltd', 0.9978489622393302, 180, 265, 668, 265, 668, 293, 180, 293,  '4-11-22 , Shibaura, Minalo-ku, Tokyo 108-855| Japan',  0.6109240973537998, 180, 291, 380, 291, 380, 318, 180, 318,  'Tel +81-3-5440-4884',  0.9406430290171053\", 87)\n",
      "output 1004, 128, 1209, 128, 1209, 200, 1004, 200,  \n",
      "output 'EC~L\n",
      "output ',  0.18826377391815186, 177, 179, 349, 179, 349, 241, 177, 241, \n",
      "output 'OKI\n",
      "output ', 0.9966741294455473, 180, 236, 422, 236, 422, 268, 180, 268,  \n",
      "output 'Oki Eleclric Industry Co\n",
      "output ',  0.8091106257361781, 435, 243, 469, 243, 469, 263, 435, 263, \n",
      "output 'Ltd\n",
      "output ', 0.9978489622393302, 180, 265, 668, 265, 668, 293, 180, 293,  \n",
      "output '4-11-22 , Shibaura, Minalo-ku, Tokyo 108-855| Japan\n",
      "output ',  0.6109240973537998, 180, 291, 380, 291, 380, 318, 180, 318,  \n",
      "output 'Tel +81-3-5440-4884',  0.9406430290171053\n"
     ]
    }
   ],
   "source": [
    "txt=\"\"\"[([[1004, 128], [1209, 128], [1209, 200], [1004, 200]],\n",
    "  'EC~L',\n",
    "  0.18826377391815186),\n",
    " ([[177, 179], [349, 179], [349, 241], [177, 241]], 'OKI', 0.9966741294455473),\n",
    " ([[180, 236], [422, 236], [422, 268], [180, 268]],\n",
    "  'Oki Eleclric Industry Co',\n",
    "  0.8091106257361781),\n",
    " ([[435, 243], [469, 243], [469, 263], [435, 263]], 'Ltd', 0.9978489622393302),\n",
    " ([[180, 265], [668, 265], [668, 293], [180, 293]],\n",
    "  '4-11-22 , Shibaura, Minalo-ku, Tokyo 108-855| Japan',\n",
    "  0.6109240973537998),\n",
    " ([[180, 291], [380, 291], [380, 318], [180, 318]],\n",
    "  'Tel +81-3-5440-4884',\n",
    "  0.9406430290171053)]\"\"\"\n",
    "\n",
    "#print(txt)\n",
    "result=re.subn('[\\n\\[\\]\\(\\)]','',txt)\n",
    "print(result)\n",
    "\n",
    "#pattern=\".+?(?=\\'.+?\\'|$)\"\n",
    "pattern=\".+?(?=\\'.*\\'|$)\"\n",
    "\n",
    "matches=re.findall(pattern,result[0])\n",
    "#matches=re.split(r'(?!^)(?=\\[\\d{2}])', txt)\n",
    "for match in matches:\n",
    "    print(\"output\",match)"
   ]
  },
  {
   "cell_type": "code",
   "execution_count": 13,
   "id": "81bd0774",
   "metadata": {},
   "outputs": [
    {
     "name": "stdout",
     "output_type": "stream",
     "text": [
      "           Date  Week\n",
      "0    2019-01-01     1\n",
      "1    2019-01-02     1\n",
      "2    2019-01-03     1\n",
      "3    2019-01-04     1\n",
      "4    2019-01-05     1\n",
      "...         ...   ...\n",
      "1062 2021-11-28    47\n",
      "1063 2021-11-29    48\n",
      "1064 2021-11-30    48\n",
      "1065 2021-12-01    48\n",
      "1066 2021-12-02    48\n",
      "\n",
      "[1067 rows x 2 columns]\n"
     ]
    }
   ],
   "source": [
    "from datetime import date\n",
    "dates=pd.date_range(start='1/1/2019', end=date.today())\n",
    "df=pd.DataFrame({'Date':dates})\n",
    "df['Date']=pd.to_datetime(df['Date'])\n",
    "df['Week']=df['Date'].apply(lambda x: x.isocalendar()[1])\n",
    "print(df)"
   ]
  },
  {
   "cell_type": "code",
   "execution_count": 22,
   "id": "d2456a4e",
   "metadata": {},
   "outputs": [
    {
     "name": "stdout",
     "output_type": "stream",
     "text": [
      "   Index  K1   A   B   C   D\n",
      "0      0  K0  A0  B0  C0  D0\n",
      "1      1  K0  A1  B1  C1  D1\n",
      "3      3  K2  A3  B3  C3  D3\n"
     ]
    }
   ],
   "source": [
    "data1=\"\"\"Index  K   A   B\n",
    "0  K0  A0  B0\n",
    "1  K0  A1  B1\n",
    "2  K1  A2  B2\n",
    "3  K2  A3  B3\"\"\"\n",
    "\n",
    "data2=\"\"\"K   C   D\n",
    "0  K0  C0  D0\n",
    "1  K0  C1  D1\n",
    "2  K0  C2  D2\n",
    "3  K2  C3  D3\"\"\"\n",
    "\n",
    "data1 = pd.read_table(StringIO(data1), sep='\\s+')\n",
    "data1 = data1.rename(columns={'K':'K1'})\n",
    "\n",
    "data2 = pd.read_table(StringIO(data2), sep='\\s+')\n",
    "data2 = data2.rename(columns={'K':'K2'})\n",
    "data  = pd.concat([data1, data2], axis=1)\n",
    "\n",
    "\n",
    "#print(data1,data2)\n",
    "data = data.drop(data[data.K1 != data.K2].index, axis=0)\n",
    "data.drop('K2',axis=1,inplace=True)\n",
    "print(data)"
   ]
  },
  {
   "cell_type": "code",
   "execution_count": 11,
   "id": "8d0e36e1",
   "metadata": {},
   "outputs": [
    {
     "name": "stdout",
     "output_type": "stream",
     "text": [
      "            max_speed  shield\n",
      "viper               4       5\n",
      "sidewinder          7       8\n"
     ]
    }
   ],
   "source": [
    "df = pd.DataFrame([[1, 2], [4, 5], [7, 8]],\n",
    "     index=['cobra', 'viper', 'sidewinder'],\n",
    "     columns=['max_speed', 'shield'])\n",
    "print(df.loc[df.index > 'cobra'])"
   ]
  },
  {
   "cell_type": "code",
   "execution_count": 5,
   "id": "d29719fd",
   "metadata": {},
   "outputs": [
    {
     "name": "stdout",
     "output_type": "stream",
     "text": [
      "  HostName                Date       Previous Date  Previous Count  Con\n",
      "0        A 2021-01-01 12:30:00                 NaT             NaN    0\n",
      "3        A 2021-02-01 12:40:00 2021-01-01 12:30:00            31.0    1\n",
      "4        A 2021-02-25 12:40:00 2021-02-01 12:40:00            24.0    1\n",
      "5        A 2021-03-01 12:41:00 2021-02-25 12:40:00             4.0    1\n",
      "6        A 2021-03-01 12:42:00 2021-03-01 12:41:00             0.0    0\n",
      "1        B 2021-01-01 12:42:00                 NaT             NaN    0\n",
      "2        B 2021-02-01 12:30:00 2021-01-01 12:42:00            30.0    1\n"
     ]
    }
   ],
   "source": [
    "data1=\"\"\"HostName\tDate\n",
    "A\t2021-01-01 12:30\n",
    "B\t2021-01-01 12:42\n",
    "B\t2021-02-01 12:30\n",
    "A\t2021-02-01 12:40\n",
    "A\t2021-02-25 12:40\n",
    "A\t2021-03-01 12:41\n",
    "A\t2021-03-01 12:42\"\"\"\n",
    "    \n",
    "df = pd.read_table(StringIO(data1), sep='\\t')    \n",
    "df['Date']=pd.to_datetime(df['Date'])\n",
    "\n",
    "grouped=df.groupby('HostName')['Date']\n",
    "\n",
    "def previous_date(group):\n",
    "    return group.sort_values().shift(1)\n",
    "\n",
    "df['Previous Date']=grouped.apply(previous_date)\n",
    "\n",
    "df['Previous Count']=df.apply(lambda x: (x['Date']-x['Previous Date']).days,axis=1)\n",
    "\n",
    "#(df['Month Before'] <= df['prev_value']) |\n",
    "df['Con'] = np.where( (df['Previous Date'].notnull() & df['Previous Count']>0) , 1, 0)\n",
    "\n",
    "print(df.sort_values(by=[\"HostName\",\"Date\"]))\n",
    "\n",
    "\n"
   ]
  },
  {
   "cell_type": "code",
   "execution_count": 6,
   "id": "c57d4cc9",
   "metadata": {},
   "outputs": [
    {
     "name": "stdout",
     "output_type": "stream",
     "text": [
      "Donald.Duck\n",
      "Mickey.Mouse\n",
      "Daffy.Duck\n",
      "D.Duck and the desired result is DDuck String other strings are M.Mouse and D.Duck\n"
     ]
    }
   ],
   "source": [
    "txt=\"Donald.Duck and the desired result is DDuck String other strings are Mickey.Mouse and Daffy.Duck\"\n",
    "\n",
    "pattern = re.compile(r'([a-zA-Z]+\\.[a-zA-Z]+)')\n",
    "result=re.findall(pattern,txt)\n",
    "for item in result:\n",
    "    print(item)\n",
    "    front,back=item.split('.')\n",
    "    txt=re.sub(item, front[0]+'.'+back,txt)\n",
    "    #print(txt)\n",
    "#result = pattern.sub(r'\\1', txt)\n",
    "print(txt)"
   ]
  },
  {
   "cell_type": "code",
   "execution_count": 4,
   "id": "d8c279ea",
   "metadata": {},
   "outputs": [
    {
     "name": "stdout",
     "output_type": "stream",
     "text": [
      "        Date            Home Home Result  Outcome  Date_Total\n",
      "1 2018-01-01        Brighton         Tie        0           0\n",
      "2 2018-01-01         Burnley      Defeat       -1          -1\n",
      "3 2018-01-01  Leicester City     Victory        1           1\n",
      "4 2017-08-19       Liverpool     Victory        1           1\n",
      "5 2017-08-27       Liverpool     Victory        1           2\n",
      "6 2017-09-16       Liverpool         Tie        0           2\n",
      "7 2017-10-14       Liverpool      Defeat       -1           1\n",
      "0 2018-01-01      Stoke City      Defeat       -1          -1\n",
      "Max              Home  Outcome\n",
      "0        Brighton        0\n",
      "1         Burnley       -1\n",
      "2  Leicester City        1\n",
      "3       Liverpool        1\n",
      "4      Stoke City       -1\n"
     ]
    }
   ],
   "source": [
    "txt=\"\"\"Date,Home,Home Result\n",
    "1/1/2018,Stoke City,Defeat\n",
    "1/1/2018,Brighton,Tie\n",
    "1/1/2018,Burnley,Defeat\n",
    "1/1/2018,Leicester City,Victory\n",
    "2017-08-19,Liverpool,Victory\n",
    "2017-08-27,Liverpool,Victory\n",
    "2017-09-16,Liverpool,Tie\n",
    "2017-10-14,Liverpool,Defeat\"\"\"\n",
    "\n",
    "df = pd.read_table(StringIO(txt), sep=',')    \n",
    "df['Date']=pd.to_datetime(df['Date'])\n",
    "df['Outcome']=df['Home Result'].apply(lambda x: -1 if x=='Defeat' else 0 if x=='Tie' else 1 if x=='Victory' else 0)\n",
    "df=df.sort_values(by=['Home','Date'],ascending=True)\n",
    "\n",
    "df['Date_Total'] = df.groupby(['Home'])['Outcome'].cumsum()\n",
    "print(df)\n",
    "\n",
    "print(\"Max\",df.groupby(['Home'])['Outcome'].max().reset_index())\n",
    "\n"
   ]
  },
  {
   "cell_type": "code",
   "execution_count": 79,
   "id": "ebc26bd0",
   "metadata": {},
   "outputs": [
    {
     "data": {
      "image/png": "[encoded data removed]",
      "text/plain": [
       "<Figure size 432x288 with 1 Axes>"
      ]
     },
     "metadata": {
      "needs_background": "light"
     },
     "output_type": "display_data"
    }
   ],
   "source": [
    "xdata = ['2020-02-01 00:00', '2020-02-01 01:00', '2020-02-01 02:00', '2020-02-01 03:00', '2020-02-01 05:00', '2020-02-01 06:00', '2020-02-01 07:00', '2020-02-01 08:00', '2020-02-01 09:00', '2020-02-01 10:00', '2020-02-01 11:00', '2020-02-01 12:00', '2020-02-01 13:00', '2020-02-01 14:00', '2020-02-01 15:00', '2020-02-01 16:00', '2020-02-01 17:00', '2020-02-01 18:00', '2020-02-01 19:00', '2020-02-01 20:00', '2020-02-01 21:00', '2020-02-01 22:00', '2020-02-01 23:00', '2020-02-02 00:00', '2020-02-02 01:00', '2020-02-02 02:00', '2020-02-02 03:00', '2020-02-02 04:00', '2020-02-02 05:00', '2020-02-02 06:00', '2020-02-02 07:00', '2020-02-02 08:00', '2020-02-02 09:00', '2020-02-02 10:00', '2020-02-02 11:00', '2020-02-02 12:00', '2020-02-02 13:00', '2020-02-02 14:00', '2020-02-02 15:00', '2020-02-02 16:00', '2020-02-02 17:00', '2020-02-02 18:00', '2020-02-02 19:00', '2020-02-02 20:00', '2020-02-02 21:00', '2020-02-02 22:00', '2020-02-02 23:00', '2020-02-03 00:00', '2020-02-03 01:00', '2020-02-03 02:00', '2020-02-03 04:00', '2020-02-03 05:00', '2020-02-03 06:00', '2020-02-03 07:00', '2020-02-03 08:00', '2020-02-03 09:00', '2020-02-03 10:00', '2020-02-03 11:00', '2020-02-03 12:00', '2020-02-03 13:00', '2020-02-03 14:00', '2020-02-03 15:00', '2020-02-03 16:00', '2020-02-03 17:00', '2020-02-03 18:00', '2020-02-03 19:00', '2020-02-03 20:00', '2020-02-03 21:00', '2020-02-03 22:00', '2020-02-03 23:00', '2020-02-04 00:00', '2020-02-04 01:00', '2020-02-04 03:00', '2020-02-04 05:00', '2020-02-04 06:00', '2020-02-04 07:00', '2020-02-04 08:00', '2020-02-04 09:00', '2020-02-04 10:00', '2020-02-04 11:00', '2020-02-04 12:00', '2020-02-04 13:00', '2020-02-04 14:00', '2020-02-04 15:00', '2020-02-04 16:00', '2020-02-04 17:00', '2020-02-04 18:00', '2020-02-04 19:00', '2020-02-04 20:00', '2020-02-04 21:00', '2020-02-04 22:00', '2020-02-04 23:00', '2020-02-05 00:00', '2020-02-05 01:00', '2020-02-05 02:00', '2020-02-05 03:00', '2020-02-05 04:00', '2020-02-05 05:00', '2020-02-05 06:00', '2020-02-05 07:00']\n",
    "ydata = [-0.05384615384615384, -0.11458333333333334, 0.2333333333333333, 0.43333333333333335, 0.0, -0.027976190476190488, -0.09283216783216784, 0.10741758241758241, 0.034378599924818405, -0.05627705627705627, -0.04098800505050504, -0.029667207792207793, 0.002295008912655976, -0.013920454545454528, 0.050894938394938416, 0.05308441558441558, 0.054337121212121205, 0.036538461538461534, 0.029629629629629624, -0.023611111111111114, -0.0835978835978836, -0.05612874779541446, 0.010963804713804712, -0.04666666666666667, -0.31499999999999995, -0.009375000000000001, 0.25, 0.0, 0.0, 0.0, 0.09292929292929292, 0.09819444444444443, -0.009590322871572871, 0.1078968253968254, 0.036809269162210334, 0.017669513457556935, 0.0014980158730158676, -0.0010416065416065398, 0.076002886002886, -0.03283955627705629, 0.04109848484848485, -0.0011904761904761908, -0.04500231910946199, -0.02335843169176503, 0.0008887577069395247, 0.044137806637806636, 0.042956349206349206, 0.08068181818181819, 0.4666666666666666, 0.17500000000000002, 0.04375, 0.14285714285714285, -0.02023809523809522, 0.061805555555555565, 0.09047619047619049, 0.0870439084724799, -0.0167194264069264, 0.0011111111111111126, 0.01898989898989899, -0.08500309214594928, 0.05, 0.06493783993783996, 0.009729437229437234, 0.07349834689120403, 0.07711834733893556, -0.03058080808080808, 0.05114128295946478, -0.023092642007115693, -0.010771103896103886, -0.05156249999999997, 0.10714285714285714, 0.014000000000000012, 0.13636363636363635, 0.0, 0.05879629629629629, 0.03732123531230674, 0.020092592592592592, -0.04015151515151515, -0.029629629629629624, 0.042157544836116265, -0.045000000000000005, -0.010294117647058827, -0.04, 0.010238095238095235, 0.04522727272727273, -0.10012626262626262, -0.19333333333333333, 0.0494949494949495, -0.03166666666666668, -0.06487603305785124, 0.11452020202020202, -0.18636363636363634, 0.0, 0.057499999999999996, 0.05000000000000001, 0.0, 0.0, 0.0, 0.0, 0.11620879120879121]\n",
    "\n",
    "xdata=[datetime.strptime(x,'%Y-%m-%d %H:%M') for x in xdata]\n",
    "fig = plt.figure()\n",
    "ax = fig.add_subplot(1, 1, 1)\n",
    "# different formats:\n",
    "#ax.set_title('ConciseFormatter', loc='left', y=0.85, x=0.02, fontsize='medium')\n",
    "plt.plot(xdata, ydata)\n",
    "plt.xticks(rotation=90)\n",
    "plt.show()\n"
   ]
  },
  {
   "cell_type": "code",
   "execution_count": 4,
   "id": "2efe7436",
   "metadata": {},
   "outputs": [
    {
     "name": "stdout",
     "output_type": "stream",
     "text": [
      "     0                         grade_range\n",
      "0  1.1  average 4th-grade student or lower\n",
      "1  5.6    average 5th or 6th-grade student\n",
      "2  7.9   average 9th or 10th-grade student\n",
      "3  6.2    average 7th or 8th-grade student\n"
     ]
    }
   ],
   "source": [
    "import pandas as pd\n",
    "d = [1.1, 5.6, 7.9, 6.2]\n",
    "df = pd.DataFrame(data=d)\n",
    "\n",
    "grade_dict = {\n",
    "            (0, 4.9) :'average 4th-grade student or lower',\n",
    "            (5.0, 5.9) :'average 5th or 6th-grade student',\n",
    "            (6.0, 6.9) :'average 7th or 8th-grade student',\n",
    "            (7.0, 7.9) :'average 9th or 10th-grade student',\n",
    "            (8.0, 8.9) :'average 11th or 12th-grade student',\n",
    "            (9.0, 9.9) :'average 13th to 15th-grade (college) student'}\n",
    "def grade_range(x):\n",
    "    for key in grade_dict:\n",
    "        if x >= key[0] and x <= key[1]:\n",
    "            return grade_dict[key]\n",
    "\n",
    "df['grade_range'] = df[0].apply(grade_range)\n",
    "\n",
    "print(df)"
   ]
  },
  {
   "cell_type": "code",
   "execution_count": 21,
   "id": "c9528dd4",
   "metadata": {},
   "outputs": [
    {
     "name": "stdout",
     "output_type": "stream",
     "text": [
      "   a       b\n",
      "0  1     red\n",
      "1  1    blue\n",
      "2  1   green\n",
      "3  2  yellow\n",
      "4  2     red\n",
      "5  3    blue\n",
      "6  3   green\n",
      "7  3  yellow\n",
      "       a_x                   a_y                 \n",
      "b_y   blue green red yellow blue green red yellow\n",
      "b_x                                              \n",
      "blue     1     1   1      2    1     1   1      2\n",
      "green    1     1   1      2    1     1   1      2\n",
      "red      1     1   1      2    1     1   1      2\n"
     ]
    }
   ],
   "source": [
    "df = pd.DataFrame( {'a': [1,1,1,2,2,3,3,3],\n",
    "                    'b':['red', 'blue', 'green', 'yellow', 'red', 'blue', 'green', 'yellow']})\n",
    "\n",
    "print(df)\n",
    "\n",
    "df2=(df[df['a']==1].merge(df[df['a']==2], how='cross'))\n",
    "\n",
    "df3=(df[df['a']==1].merge(df[df['a']==3], how='cross'))\n",
    "\n",
    "df4=pd.concat([df2,df3],axis=0)\n",
    "\n",
    "print(df4.pivot_table(index=df4['b_x'],columns=df4['b_y'],aggfunc=np.size))"
   ]
  },
  {
   "cell_type": "code",
   "execution_count": 19,
   "id": "77e57d38",
   "metadata": {},
   "outputs": [
    {
     "name": "stdout",
     "output_type": "stream",
     "text": [
      "   ID Sub-category  Sales  flag\n",
      "0   1            A    100     1\n",
      "1   1            B    101     1\n",
      "2   1            C    102     1\n",
      "3   2            B    100     1\n",
      "4   2            C    101     1\n",
      "5   3            A    102     0\n",
      "6   3            B    100     0\n"
     ]
    }
   ],
   "source": [
    "print(\"flag as 1 if product id has c for the sub-category\")\n",
    "txt=\"\"\"ID,Sub-category,Sales\n",
    "1,A,100\n",
    "1,B,101\n",
    "1,C,102\n",
    "2,B,100\n",
    "2,C,101\n",
    "3,A,102\n",
    "3,B,100\"\"\"\n",
    "df = pd.read_table(StringIO(txt), sep=',') \n",
    "#print(df)\n",
    "\n",
    "list_id=list(df[df['Sub-category'].str.contains('C')]['ID'])\n",
    "df['flag']=df['ID'].transform(lambda x: 1 if x in list_id else 0 )\n",
    "print(df)"
   ]
  },
  {
   "cell_type": "code",
   "execution_count": 27,
   "id": "55e9c491",
   "metadata": {},
   "outputs": [
    {
     "name": "stdout",
     "output_type": "stream",
     "text": [
      "       col1  col2\n",
      "df0 0     1     2\n",
      "    1     3     4\n",
      "df1 0     5     7\n",
      "    1     9    11\n",
      "   col1  col2\n",
      "0     1     2\n",
      "1     3     4\n"
     ]
    }
   ],
   "source": [
    "df0 = pd.DataFrame([[1, 2], [3, 4]], columns=[\"col1\", \"col2\"])\n",
    "df1 = pd.DataFrame([[5, 7], [9, 11]], columns=[\"col1\", \"col2\"])\n",
    "dfcomb = pd.concat([df0, df1], keys=[\"df0\", \"df1\"])\n",
    "print(dfcomb)\n",
    "\n",
    "label=\"df0\"\n",
    "print(dfcomb.loc[label])"
   ]
  },
  {
   "cell_type": "code",
   "execution_count": 8,
   "id": "c6a84a5e",
   "metadata": {},
   "outputs": [
    {
     "name": "stdout",
     "output_type": "stream",
     "text": [
      "row=0, col=1\n",
      "row=0, col=2\n",
      "row=1, col=6\n",
      "row=2, col=2\n",
      "row=3, col=5\n",
      "row=4, col=4\n",
      "None\n"
     ]
    }
   ],
   "source": [
    "arr = np.array([[5,7,7,8,8,9,5],\n",
    "               [5,5,8,9,8,5,7],\n",
    "               [5,5,7,9,9,5,5],\n",
    "               [5,5,5,9,8,7,5],\n",
    "               [5,9,9,8,7,5,5]])\n",
    "\n",
    "def find_7(arr):\n",
    "    for i in range(len(arr)):\n",
    "        for j in range(len(arr[i])):\n",
    "            if arr[i][j] == 7:\n",
    "                print(\"row={row}, col={col}\".format(row=i,col=j))\n",
    "\n",
    "print(find_7(arr))"
   ]
  },
  {
   "cell_type": "code",
   "execution_count": 13,
   "id": "8b5fa629",
   "metadata": {},
   "outputs": [
    {
     "name": "stdout",
     "output_type": "stream",
     "text": [
      "Add a space after a period if it does not exist\n",
      "world .this\n",
      "idaho.a\n",
      "hello world. this is boise idaho. a this is twin falls.\n"
     ]
    }
   ],
   "source": [
    "print(\"Add a space after a period if it does not exist\")\n",
    "txt=\"hello world .this is boise idaho.a this is twin falls.\"\n",
    "pattern=r\"(\\w+\\s*\\.\\w+)+\"\n",
    "matches=re.findall(pattern,txt)\n",
    "for item in matches:\n",
    "    print(item)\n",
    "    front,back=item.split('.')\n",
    "    replace=front.rstrip()+'. '+back\n",
    "    txt=re.sub(item,replace,txt)\n",
    "    \n",
    "print(txt)\n"
   ]
  },
  {
   "cell_type": "code",
   "execution_count": 12,
   "id": "db71bb43",
   "metadata": {},
   "outputs": [
    {
     "name": "stdout",
     "output_type": "stream",
     "text": [
      "5f9ecf8ca9bec5549493ba7d\n"
     ]
    }
   ],
   "source": [
    "txt=\"\"\"\n",
    "[Document[_id=5f9ecf8ca9bec5549493ba7d,·policy_name=xxx,·is_mobile=false, Document[_id=6090fead53bc363849fce989,·policy_name=yyy,·is_mobile=true, Document[_id=619cf036761c281e3ad12327,·policy_name=zzz,·is_mobile=false, Document[_id=619cf729ea016d1e3336e903,·policy_name=xyz,·is_mobile=false]\n",
    "\"\"\"\n",
    "\n",
    "print([i.split('=')[1].strip(' ') for i in txt.split(',') if '_id' in i ][0])"
   ]
  },
  {
   "cell_type": "code",
   "execution_count": 6,
   "id": "42acaff0",
   "metadata": {},
   "outputs": [
    {
     "name": "stdout",
     "output_type": "stream",
     "text": [
      "90956\n",
      "50021\n",
      "12345\n"
     ]
    }
   ],
   "source": [
    "txt=\"043-90956 045-50021 064-12345\"\n",
    "\n",
    "pattern=r'(?:\\d{3}-)(\\d{5}){1}'\n",
    "matches=re.findall(pattern,txt)\n",
    "for match in matches:\n",
    "    print(match)"
   ]
  },
  {
   "cell_type": "code",
   "execution_count": 24,
   "id": "6ce1a137",
   "metadata": {},
   "outputs": [
    {
     "name": "stdout",
     "output_type": "stream",
     "text": [
      "('/1234x', '/2')\n",
      "('/1234x', '')\n",
      "('/1234', '')\n"
     ]
    }
   ],
   "source": [
    "txt=\"\"\"post/1234x/2\n",
    "post/1234x\n",
    "post/1234\"\"\"\n",
    "\n",
    "pattern=r'(?:post)(\\/\\d+?\\w*)(\\/\\d*)*'\n",
    "\n",
    "matches=re.findall(pattern,txt)\n",
    "for match in matches:\n",
    "    print(match)"
   ]
  },
  {
   "cell_type": "code",
   "execution_count": 33,
   "id": "c915f262",
   "metadata": {},
   "outputs": [
    {
     "data": {
      "text/plain": [
       "<AxesSubplot:xlabel='Zeit'>"
      ]
     },
     "execution_count": 33,
     "metadata": {},
     "output_type": "execute_result"
    },
    {
     "data": {
      "image/png": "[encoded data removed]",
      "text/plain": [
       "<Figure size 432x288 with 1 Axes>"
      ]
     },
     "metadata": {
      "needs_background": "light"
     },
     "output_type": "display_data"
    }
   ],
   "source": [
    "df_pv=pd.DataFrame()\n",
    "df_pv[\"Zeit\"] = pd.date_range(pd.Timestamp('2020-01-01 01:00:00'), pd.Timestamp('2020-12-31 00:00:00'))\n",
    "\n",
    "df_pv.set_index(\"Zeit\", inplace=True)\n",
    "df_pv['y']=np.random.randn(len(df_pv))\n",
    "df_pv.plot()"
   ]
  },
  {
   "cell_type": "code",
   "execution_count": 6,
   "id": "e55ae507",
   "metadata": {},
   "outputs": [
    {
     "name": "stdout",
     "output_type": "stream",
     "text": [
      "[[8, 7, 2, 3], [1, 5, 3, 6], [9, 4, 3, 7], [5, 2, 6, 1]]\n"
     ]
    }
   ],
   "source": [
    "result = [[5, 2, 6, 1], [9, 4, 3, 7], [1, 5, 3, 6], [8, 7, 2, 3]]\n",
    "#for i in range(len(result)):\n",
    "result.reverse()\n",
    "print(result)        "
   ]
  },
  {
   "cell_type": "code",
   "execution_count": 73,
   "id": "e9cd4fed",
   "metadata": {},
   "outputs": [
    {
     "name": "stdout",
     "output_type": "stream",
     "text": [
      "    Name  Age  Times\n",
      "0    Tom   31     20\n",
      "1   nick   46     21\n",
      "2  krish   21     19\n",
      "3   jack   37     18\n",
      "4    Tom   31     19\n",
      "5   nick   46     20\n",
      "6  krish   21     20\n",
      "7   jack   37     19\n",
      "Index(['level_0', 'Times', 'Tom', 'jack', 'krish', 'nick', 'Others', 'All'], dtype='object', name=('Name', ''))\n",
      "('Name', '') level_0 Times   Tom  jack krish  nick  Others   All\n",
      "0                Age    18   NaN  True   NaN   NaN    True  True\n",
      "1                Age    19  True  True  True   NaN    True  True\n",
      "2                Age    20  True   NaN  True  True    True  True\n",
      "3                Age    21   NaN   NaN   NaN  True    True  True\n"
     ]
    },
    {
     "data": {
      "image/png": "[encoded data removed]",
      "text/plain": [
       "<Figure size 432x288 with 1 Axes>"
      ]
     },
     "metadata": {
      "needs_background": "light"
     },
     "output_type": "display_data"
    },
    {
     "data": {
      "image/png": "[encoded data removed]",
      "text/plain": [
       "<Figure size 432x288 with 1 Axes>"
      ]
     },
     "metadata": {
      "needs_background": "light"
     },
     "output_type": "display_data"
    },
    {
     "data": {
      "image/png": "[encoded data removed]",
      "text/plain": [
       "<Figure size 432x288 with 1 Axes>"
      ]
     },
     "metadata": {
      "needs_background": "light"
     },
     "output_type": "display_data"
    },
    {
     "data": {
      "image/png": "[encoded data removed]",
      "text/plain": [
       "<Figure size 432x288 with 1 Axes>"
      ]
     },
     "metadata": {
      "needs_background": "light"
     },
     "output_type": "display_data"
    }
   ],
   "source": [
    "data = {'Name':['Tom', 'nick', 'krish', 'jack', 'Tom', 'nick', 'krish', 'jack'],\n",
    "        'Age':[31, 46, 21, 37, 31, 46, 21, 37],\n",
    "        'Times':[20, 21, 19, 18, 19, 20, 20, 19]}\n",
    "\n",
    "df = pd.DataFrame(data)\n",
    "\n",
    "print(df)\n",
    "df.boxplot(column='Times', by='Age')\n",
    "\n",
    "\n",
    "grouped=df.groupby(['Name','Times']).any().unstack().reset_index().transpose()\n",
    "df2=pd.DataFrame(grouped)\n",
    "new_header = df2.iloc[0]\n",
    "df2 = df2[1:]\n",
    "df2.columns = new_header\n",
    "df2.reset_index(inplace=True)\n",
    "others=[x for x in df2.columns if x not in(['Tom','Times'])]\n",
    "all=[x for x in df2.columns if x not in(['Times'])]\n",
    "df2['Others']=df2[others].any(axis=1)\n",
    "df2['All']=df2[all].any(axis=1)\n",
    "print(df2.columns)\n",
    "print(df2)\n",
    "df2.boxplot(column='Times',by=['Others'])\n",
    "df2.boxplot(column='Times',by=['Tom'])\n",
    "df2.boxplot(column='Times',by=['All'])\n",
    "plt.show()\n"
   ]
  },
  {
   "cell_type": "code",
   "execution_count": 102,
   "id": "079301b7",
   "metadata": {},
   "outputs": [
    {
     "name": "stdout",
     "output_type": "stream",
     "text": [
      "         date  score  month  elapsed_days  accum_elapsed_days  rolling_mean\n",
      "0  2018-06-22     -2      6           NaN                 NaN           NaN\n",
      "1  2018-06-23      1      6           1.0                 1.0           NaN\n",
      "4  2018-07-22     -8      7          29.0                30.0         -3.00\n",
      "5  2018-07-23      3      7           1.0                31.0         -1.50\n",
      "2  2018-07-24      2      7           1.0                32.0         -0.50\n",
      "6  2018-07-24      2      7           0.0                32.0         -0.25\n",
      "3  2018-07-25      3      7           1.0                33.0          2.50\n",
      "7  2018-07-25     -3      7           0.0                33.0          1.00\n",
      "8  2018-08-22     -2      8          28.0                61.0          0.00\n",
      "9  2018-08-23      1      8           1.0                62.0         -0.25\n",
      "10 2018-08-24      2      8           1.0                63.0         -0.50\n",
      "11 2018-08-25      3      8           1.0                64.0          1.00\n"
     ]
    },
    {
     "data": {
      "text/plain": [
       "<AxesSubplot:xlabel='date'>"
      ]
     },
     "execution_count": 102,
     "metadata": {},
     "output_type": "execute_result"
    },
    {
     "data": {
      "image/png": "[encoded data removed]",
      "text/plain": [
       "<Figure size 432x288 with 1 Axes>"
      ]
     },
     "metadata": {
      "needs_background": "light"
     },
     "output_type": "display_data"
    }
   ],
   "source": [
    "df = pd.DataFrame({'player_id': [1098, 1098, 1098, 1098, 1116, 1116, 1116, 1116, 1116, 1116, 1116, 1116],\n",
    "              'date': ['2018-06-22', '2018-06-23', '2018-07-24', '2018-07-25', \n",
    "                      '2018-07-22', '2018-07-23', '2018-07-24', '2018-07-25',\n",
    "                      '2018-08-22', '2018-08-23', '2018-08-24', '2018-08-25'],\n",
    "              'score': [-2,1,2,3,-8,3,2,-3,-2,1,2,3]})\n",
    "\n",
    "window=4\n",
    "min_periods=3\n",
    "cap=10\n",
    "\n",
    "def get_month(date):\n",
    "    return date.month\n",
    "\n",
    "df=df.sort_values(by='date')\n",
    "df['date']=pd.to_datetime(df['date'])\n",
    "df['month']=df['date'].apply(get_month)\n",
    "df['elapsed_days'] = (df['date']-df['date'].shift(1)).dt.days\n",
    "df['accum_elapsed_days'] = df['elapsed_days'].cumsum()\n",
    "\n",
    "df['rolling_mean'] = df['score'].rolling(window, min_periods).mean().round(2)\n",
    "print(df[['date','score','month','elapsed_days','accum_elapsed_days','rolling_mean']])\n",
    "df.set_index('date',inplace=True)\n",
    "\n",
    "df[['score','rolling_mean']].plot()"
   ]
  },
  {
   "cell_type": "code",
   "execution_count": null,
   "id": "9e227e5c",
   "metadata": {},
   "outputs": [],
   "source": []
  }
 ],
 "metadata": {
  "kernelspec": {
   "display_name": "Python 3 (ipykernel)",
   "language": "python",
   "name": "python3"
  },
  "language_info": {
   "codemirror_mode": {
    "name": "ipython",
    "version": 3
   },
   "file_extension": ".py",
   "mimetype": "text/x-python",
   "name": "python",
   "nbconvert_exporter": "python",
   "pygments_lexer": "ipython3",
   "version": "3.8.12"
  }
 },
 "nbformat": 4,
 "nbformat_minor": 5
}
