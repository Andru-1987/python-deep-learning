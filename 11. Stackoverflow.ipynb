{
 "cells": [
  {
   "cell_type": "code",
   "execution_count": 1,
   "id": "9a76508b",
   "metadata": {},
   "outputs": [],
   "source": [
    "import pandas as pd\n",
    "import matplotlib.pyplot as plt\n",
    "import numpy as np\n",
    "import re\n",
    "from io import StringIO\n",
    "import io\n",
    "from collections import namedtuple\n",
    "from datetime import datetime,timedelta\n",
    "import sys"
   ]
  },
  {
   "cell_type": "code",
   "execution_count": 2,
   "id": "8db06643",
   "metadata": {},
   "outputs": [
    {
     "name": "stdout",
     "output_type": "stream",
     "text": [
      "   weekstart    weekend       Spend     Daily\n",
      "0  01-Jan-18  07-Jan-18  34235.9220  4890.846\n",
      "1  08-Jan-18  14-Jan-18  37359.6048  5337.086\n",
      "2  15-Jan-18  21-Jan-18  38916.1164  5559.445\n",
      "3  22-Jan-18  28-Jan-18  36903.8628  5271.980\n",
      "Empty DataFrame\n",
      "Columns: [Date, Amount]\n",
      "Index: []\n",
      "         Date    Amount\n",
      "1  2018-01-01  4890.846\n",
      "2  2018-01-02  4890.846\n",
      "3  2018-01-03  4890.846\n",
      "4  2018-01-04  4890.846\n",
      "5  2018-01-05  4890.846\n",
      "6  2018-01-06  4890.846\n",
      "7  2018-01-07  4890.846\n",
      "8  2018-01-08  5337.086\n",
      "9  2018-01-09  5337.086\n",
      "10 2018-01-10  5337.086\n",
      "11 2018-01-11  5337.086\n",
      "12 2018-01-12  5337.086\n",
      "13 2018-01-13  5337.086\n",
      "14 2018-01-14  5337.086\n",
      "15 2018-01-15  5559.445\n",
      "16 2018-01-16  5559.445\n",
      "17 2018-01-17  5559.445\n",
      "18 2018-01-18  5559.445\n",
      "19 2018-01-19  5559.445\n",
      "20 2018-01-20  5559.445\n",
      "21 2018-01-21  5559.445\n",
      "22 2018-01-22  5271.980\n",
      "23 2018-01-23  5271.980\n",
      "24 2018-01-24  5271.980\n",
      "25 2018-01-25  5271.980\n",
      "26 2018-01-26  5271.980\n",
      "27 2018-01-27  5271.980\n",
      "28 2018-01-28  5271.980\n"
     ]
    },
    {
     "name": "stderr",
     "output_type": "stream",
     "text": [
      "C:\\Users\\DNISHI~1\\AppData\\Local\\Temp/ipykernel_16236/3259226528.py:23: FutureWarning: In a future version of pandas all arguments of DataFrame.set_index except for the argument 'keys' will be keyword-only\n",
      "  df2.set_index(pd.Index(index),'index',inplace=True)\n"
     ]
    },
    {
     "data": {
      "image/png": "[encoded data removed]",
      "text/plain": [
       "<Figure size 432x288 with 1 Axes>"
      ]
     },
     "metadata": {
      "needs_background": "light"
     },
     "output_type": "display_data"
    }
   ],
   "source": [
    "df = pd.DataFrame({\n",
    "    'weekstart':['01-Jan-18','08-Jan-18','15-Jan-18','22-Jan-18'],\n",
    "    'weekend':['07-Jan-18','14-Jan-18','21-Jan-18','28-Jan-18'],\n",
    "    'Spend':[34235.922,37359.6048,38916.1164,36903.8628],\n",
    "    'Daily':[4890.846,5337.086,5559.445,5271.98],\n",
    "})\n",
    "print(df)\n",
    "\n",
    "df2=pd.DataFrame(columns=['Date','Amount'])\n",
    "df2['Date']=pd.to_datetime(df2['Date'])\n",
    "#df2.reset_index(level=0,inplace=True)\n",
    "print(df2)\n",
    "\n",
    "for key,value in df.iterrows():\n",
    "    #print(key,value)\n",
    "    amount=value['Daily']\n",
    "    for date in pd.date_range(value['weekstart'], value['weekend']):\n",
    "        #print(date)\n",
    "        df2=df2.append({\"Date\":date,\"Amount\":amount},ignore_index=True)\n",
    "\n",
    "index=range(1,len(df2)+1) \n",
    "\n",
    "df2.set_index(pd.Index(index),'index',inplace=True)\n",
    "print(df2)\n",
    "\n",
    "plt.plot(df2['Date'],df2['Amount'])\n",
    "plt.xticks(rotation=90)\n",
    "plt.show()"
   ]
  },
  {
   "cell_type": "code",
   "execution_count": 3,
   "id": "3d6231f4",
   "metadata": {},
   "outputs": [
    {
     "name": "stdout",
     "output_type": "stream",
     "text": [
      "  Category    Name  Year  Vals\n",
      "0      Car   Camry  2007   0.1\n",
      "1      Car   Camry  2007   0.5\n",
      "5    Truck  Tundra  2010   0.4\n"
     ]
    }
   ],
   "source": [
    "category = ['Car','Car','Car','Car','Truck','Truck','Truck']\n",
    "name = ['Camry','Camry','Camry','Camry','Tacoma','Tundra','Tundra']\n",
    "year = ['2007','2007','2008','2009','2010','2010','2011']\n",
    "vals = [0.1,0.5,0.2,0.9,0.8,0.4,0.9]\n",
    "df = pd.DataFrame({'Category': category,\n",
    "                   'Name': name,\n",
    "                   'Year': year,\n",
    "                   'Vals': vals})\n",
    "\n",
    "print(df.query(\"(Category=='Car' and Name=='Camry' and Year=='2007') or (Category=='Truck' and Name=='Tundra' and Year=='2010')\"))"
   ]
  },
  {
   "cell_type": "code",
   "execution_count": 4,
   "id": "faa5666a",
   "metadata": {},
   "outputs": [
    {
     "name": "stdout",
     "output_type": "stream",
     "text": [
      "2015\n"
     ]
    }
   ],
   "source": [
    "txt=\"firstname lastname (1937-2015)\"\n",
    "pattern=r'(\\d{4}\\-\\d{4})+'\n",
    "\n",
    "matches=re.findall(pattern,txt)\n",
    "print(matches[0].split('-')[1])"
   ]
  },
  {
   "cell_type": "code",
   "execution_count": 5,
   "id": "cc2129e1",
   "metadata": {},
   "outputs": [
    {
     "name": "stdout",
     "output_type": "stream",
     "text": [
      "        name abbrevation  value   Category\n",
      "0      FRUIT         FRU    100      FRUIT\n",
      "1    A.GRAPE       A.GRA     50      FRUIT\n",
      "2    A.APPLE       A.APP     50      FRUIT\n",
      "3  VEGETABLE         VEG     75  VEGETABLE\n",
      "4   A.TOMATO       A.TOM     25  VEGETABLE\n",
      "5  A.CABBAGE       A.CAB     25  VEGETABLE\n",
      "6   A.CARROT       A.CAR     25  VEGETABLE\n"
     ]
    }
   ],
   "source": [
    "data = [['FRUIT', 'FRU', 100],['A.GRAPE','A.GRA', 50],['A.APPLE','A.APP', 50],\n",
    "        ['VEGETABLE', 'VEG', 75],['A.TOMATO','A.TOM', 25],['A.CABBAGE','A.CAB', 25],['A.CARROT','A.CAR', 25]]\n",
    "df = pd.DataFrame(data, columns = ['name', 'abbrevation', 'value'])\n",
    "\n",
    "df['Category']=df['name'].apply(lambda x: x if x.isalpha() else None)\n",
    "df.ffill(inplace=True)\n",
    "print(df)"
   ]
  },
  {
   "cell_type": "code",
   "execution_count": 6,
   "id": "f636e48c",
   "metadata": {},
   "outputs": [
    {
     "name": "stdout",
     "output_type": "stream",
     "text": [
      "find the floating point number\n",
      "['200.20356']\n"
     ]
    }
   ],
   "source": [
    "print(\"find the floating point number\")\n",
    "txt=\"200.20356AVAX\"\n",
    "pattern=r\"\\d+\\.*\\d*\"\n",
    "print(re.findall(pattern,txt))"
   ]
  },
  {
   "cell_type": "code",
   "execution_count": 7,
   "id": "04f90f39",
   "metadata": {},
   "outputs": [
    {
     "name": "stdout",
     "output_type": "stream",
     "text": [
      "create a list of words and special characters\n",
      "['var', 'a', '=', '\"', 'hello', '\"', 'world', '(', 'print', '\"', '\"', 'hello', ',', '\"', '\"', 'a', ')']\n"
     ]
    }
   ],
   "source": [
    "print(\"create a list of words and special characters\")\n",
    "\n",
    "txt=\"\"\"var a = \"hello world\" \n",
    "print(\"hello\", \"a\")\"\"\"\n",
    "\n",
    "\n",
    "txt=re.sub('\\n','',txt)        \n",
    "results=[]\n",
    "buffer=[]\n",
    "for char in txt:\n",
    "    if char.isalpha()==False:\n",
    "        if char!=' ':\n",
    "            results.append(char)\n",
    "        if len(buffer)>0:\n",
    "            results.append(\"\".join(buffer))\n",
    "        buffer.clear()\n",
    "    else:\n",
    "        buffer.append(char)\n",
    "        \n",
    "print(results)\n"
   ]
  },
  {
   "cell_type": "code",
   "execution_count": 8,
   "id": "485f4b6f",
   "metadata": {},
   "outputs": [
    {
     "name": "stdout",
     "output_type": "stream",
     "text": [
      "convert to the year and quarter\n",
      "     yrmo DIST_PERIOD\n",
      "0  202101      202101\n",
      "1  202102      202101\n",
      "2  202103      202101\n",
      "3  202104      202102\n",
      "4  202105      202102\n",
      "5  202106      202102\n",
      "6  202109      202103\n",
      "7  202111      202104\n"
     ]
    }
   ],
   "source": [
    "print(\"convert to the year and quarter\")\n",
    "data='''yrmo\n",
    "202101\n",
    "202102\n",
    "202103\n",
    "202104\n",
    "202105\n",
    "202106\n",
    "202109\n",
    "202111'''\n",
    "df = pd.read_csv(io.StringIO(data), sep=' \\s+', engine='python')\n",
    "month_year=pd.to_datetime(df['yrmo'],format=\"%Y%m\")\n",
    "df['DIST_PERIOD'] = month_year.dt.to_period(\"Q\").dt.strftime('%Y0%q')\n",
    "print(df)"
   ]
  },
  {
   "cell_type": "code",
   "execution_count": 9,
   "id": "96846d78",
   "metadata": {},
   "outputs": [
    {
     "name": "stdout",
     "output_type": "stream",
     "text": [
      "find words with no space following or a single space between words\n",
      "['apple', 'orange ca', 'pear', 'banana']\n"
     ]
    }
   ],
   "source": [
    "print(\"find words with no space following or a single space between words\")\n",
    "list_of_strings = [\"apple\", \"orange ca\", \"pear  sa\", \"banana    sth\"]\n",
    "\n",
    "my_list=[]\n",
    "def find_phrase(list_of_strings):\n",
    "    for string in list_of_strings:\n",
    "        matches=re.findall(r\"(\\w+)( \\w+)*\", string)\n",
    "        if len(matches)>0:\n",
    "            my_list.append(\"\".join([matches[0][0],matches[0][1]]))\n",
    "    return my_list\n",
    "            \n",
    "print(find_phrase(list_of_strings))"
   ]
  },
  {
   "cell_type": "code",
   "execution_count": 10,
   "id": "44273597",
   "metadata": {},
   "outputs": [
    {
     "name": "stdout",
     "output_type": "stream",
     "text": [
      "('', 'private', '')\n",
      "('', '', 'protected')\n",
      "('public', '', '')\n"
     ]
    }
   ],
   "source": [
    "txt=\"a b c private d e f g protected h i j k public l m n o p\"\n",
    "\n",
    "pattern=r\"(public)|(private)|(protected)\"\n",
    "\n",
    "matches=re.findall(pattern,txt)\n",
    "for match in matches:\n",
    "    print(match)"
   ]
  },
  {
   "cell_type": "code",
   "execution_count": 11,
   "id": "bb4e106d",
   "metadata": {},
   "outputs": [
    {
     "name": "stdout",
     "output_type": "stream",
     "text": [
      "Look behind for the phrase MFG:\n",
      "look behind is not including in the grouping output\n",
      " acme\n",
      " initech\n"
     ]
    }
   ],
   "source": [
    "print(\"Look behind for the phrase MFG:\")\n",
    "print(\"look behind is not including in the grouping output\")\n",
    "txt=\"MFG: acme, something else, MFG: initech\"\n",
    "pattern=r\"(?<=MFG\\:)\\s+\\w+\"\n",
    "matches=re.findall(pattern,txt)\n",
    "for match in matches:\n",
    "    print(match)"
   ]
  },
  {
   "cell_type": "code",
   "execution_count": 12,
   "id": "266dcd4b",
   "metadata": {},
   "outputs": [
    {
     "name": "stdout",
     "output_type": "stream",
     "text": [
      "words without the character e\n",
      "america <re.Match object; span=(0, 2), match='am'>\n",
      "e None\n",
      "E None\n",
      "world <re.Match object; span=(0, 5), match='world'>\n",
      "hello <re.Match object; span=(0, 1), match='h'>\n",
      "welcome <re.Match object; span=(0, 1), match='w'>\n",
      "board <re.Match object; span=(0, 5), match='board'>\n",
      "know <re.Match object; span=(0, 4), match='know'>\n"
     ]
    }
   ],
   "source": [
    "print(\"words without the character e\")\n",
    "strs = ['america','e', 'E', 'world','hello','welcome','board','know']\n",
    "pattern=\"(?:(?!e)[a-z])+\"\n",
    "for item in strs:\n",
    "    print(item,re.search(pattern,item))\n"
   ]
  },
  {
   "cell_type": "code",
   "execution_count": 13,
   "id": "534ea855",
   "metadata": {},
   "outputs": [
    {
     "name": "stdout",
     "output_type": "stream",
     "text": [
      "    user_id  cat_id  prod_id     score  pref_prod\n",
      "0     29762       9     3115  1.000000      335.0\n",
      "1     29762      58     1335  1.000000      335.0\n",
      "2    234894      58     1335  1.000000      335.0\n",
      "3    413276      43     1388  1.000000      335.0\n",
      "4    413276      58      335  1.000000      335.0\n",
      "5    413276      73       26  1.000000      335.0\n",
      "6   9280593       9      137  1.000000      335.0\n",
      "7   9280593      58     1335  1.000000      335.0\n",
      "8   9280593      74      160  1.000000      335.0\n",
      "9   4554542      66     1612  0.166667      197.0\n",
      "10  4554542      66     1406  0.166767      197.0\n",
      "11  4554542      66     2021  1.000000      197.0\n",
      "records:[{'user_id': 29762,'cat_id': 9,'prod_id': 3115,'score': 1.0,'pref_prod': 335.0,},{'user_id': 29762,'cat_id': 58,'prod_id': 1335,'score': 1.0,'pref_prod': 335.0,},{'user_id': 234894,'cat_id': 58,'prod_id': 1335,'score': 1.0,'pref_prod': 335.0,},{'user_id': 413276,'cat_id': 43,'prod_id': 1388,'score': 1.0,'pref_prod': 335.0,},{'user_id': 413276,'cat_id': 58,'prod_id': 335,'score': 1.0,'pref_prod': 335.0,},{'user_id': 413276,'cat_id': 73,'prod_id': 26,'score': 1.0,'pref_prod': 335.0,},{'user_id': 9280593,'cat_id': 9,'prod_id': 137,'score': 1.0,'pref_prod': 335.0,},{'user_id': 9280593,'cat_id': 58,'prod_id': 1335,'score': 1.0,'pref_prod': 335.0,},{'user_id': 9280593,'cat_id': 74,'prod_id': 160,'score': 1.0,'pref_prod': 335.0,},{'user_id': 4554542,'cat_id': 66,'prod_id': 1612,'score': 0.166667,'pref_prod': 197.0,},{'user_id': 4554542,'cat_id': 66,'prod_id': 1406,'score': 0.166767,'pref_prod': 197.0,},{'user_id': 4554542,'cat_id': 66,'prod_id': 2021,'score': 1.0,'pref_prod': 197.0,},]\n"
     ]
    }
   ],
   "source": [
    "print(\"convert a dataframe  to  a json structure\")\n",
    "data=\"\"\"user_id,cat_id,prod_id,score,pref_prod\n",
    "    29762,9,3115,1.000000,335.0\n",
    "    29762,58,1335,1.000000,335.0\n",
    "    234894,58,1335,1.000000,335.0\n",
    "    413276,43,1388,1.000000,335.0\n",
    "    413276,58,335,1.000000,335.0\n",
    "    413276,73,26,1.000000,335.0\n",
    "    9280593,9,137,1.000000,335.0\n",
    "    9280593,58,1335,1.000000,335.0\n",
    "    9280593,74,160,1.000000,335.0\n",
    "    4554542,66,1612,0.166667,197.0\n",
    "    4554542,66,1406,0.166767,197.0\n",
    "    4554542,66,2021,1.000000,197.0\"\"\"\n",
    "\n",
    "df = pd.read_csv(io.StringIO(data), sep=',')\n",
    "print(df)\n",
    "\n",
    "\n",
    "Record=namedtuple('Generic',['user_id','cat_id','prod_id','score','pref_prod'])\n",
    "\n",
    "def map_to_record(row):\n",
    "    return Record(row.user_id, row.cat_id, row.prod_id,row.score,row.pref_prod)\n",
    "\n",
    "my_list = list(map(map_to_record, df.itertuples()))\n",
    "\n",
    "def named_tuple_to_json(named_tuple):\n",
    "    \"\"\"\n",
    "    convert a named tuple to a json tree structure\n",
    "    \"\"\"\n",
    "    json_string=\"records:[\"\n",
    "    for record in named_tuple:\n",
    "        json_string+=\"{\"\n",
    "        json_string+=\"'user_id': {},'cat_id': {},'prod_id': {},'score': {},'pref_prod': {},\".format(\n",
    "        record.user_id,record.cat_id,record.prod_id,record.score,record.pref_prod)\n",
    "        json_string+=\"},\"\n",
    "    json_string+=\"]\"\n",
    "    return json_string\n",
    "\n",
    "# convert the list of named tuples to a json tree structure\n",
    "json_tree = named_tuple_to_json(my_list)\n",
    "print(json_tree)"
   ]
  },
  {
   "cell_type": "code",
   "execution_count": 222,
   "id": "d7a222bc",
   "metadata": {},
   "outputs": [
    {
     "name": "stdout",
     "output_type": "stream",
     "text": [
      "   Record ID    Record Name        Record Start          Record End  \\\n",
      "0          1    SMITH, JOHN 2020-10-20 08:00:00 2020-10-20 09:30:00   \n",
      "1          2    SMITH, JOHN 2020-10-20 09:20:00 2020-10-20 10:30:00   \n",
      "2          3    SMITH, JOHN 2020-10-20 10:20:00 2020-10-20 11:00:00   \n",
      "3          4  COOPER, ALLEN 2020-10-20 13:00:00 2020-10-20 14:15:00   \n",
      "4          5    PEREZ, HILL 2020-10-20 15:15:00 2020-10-20 16:00:00   \n",
      "5          6    SMITH, JOHN 2021-10-04 08:00:00 2021-10-20 09:30:00   \n",
      "6          7    SMITH, JOHN 2021-10-04 09:20:00 2021-10-20 10:30:00   \n",
      "7          8    SMITH, JOHN 2021-10-04 11:20:00 2021-10-20 12:00:00   \n",
      "8          9   SMITH, JOHN  2021-10-04 13:00:00 2021-10-20 14:15:00   \n",
      "9         10    SMITH, JOHN 2021-10-04 15:15:00 2021-10-20 16:00:00   \n",
      "\n",
      "                                             minutes  Count  \n",
      "0  [2020-10-20 08:00:00, 2020-10-20 08:01:00, 202...    1.0  \n",
      "1  [2020-10-20 09:20:00, 2020-10-20 09:21:00, 202...    2.0  \n",
      "2  [2020-10-20 10:20:00, 2020-10-20 10:21:00, 202...    3.0  \n",
      "3  [2020-10-20 13:00:00, 2020-10-20 13:01:00, 202...    1.0  \n",
      "4  [2020-10-20 15:15:00, 2020-10-20 15:16:00, 202...    1.0  \n",
      "5  [2021-10-04 08:00:00, 2021-10-04 08:01:00, 202...    1.0  \n",
      "6  [2021-10-04 09:20:00, 2021-10-04 09:21:00, 202...    2.0  \n",
      "7  [2021-10-04 11:20:00, 2021-10-04 11:21:00, 202...    3.0  \n",
      "8  [2021-10-04 13:00:00, 2021-10-04 13:01:00, 202...    1.0  \n",
      "9  [2021-10-04 15:15:00, 2021-10-04 15:16:00, 202...    1.0  \n"
     ]
    }
   ],
   "source": [
    "print(\"an count occurrence occurs when the minutes of one day overlay another for a person\")\n",
    "#1;SMITH, JOHN;10/20/20 8:00 AM;10/20/20 9:30 AM\n",
    "#2;SMITH, JOHN;10/20/20 9:20 AM;10/20/20 10:30 AM\n",
    "#3;SMITH, JOHN;10/20/20 10:20 AM;10/20/20 11:00 AM\n",
    "#4;COOPER, ALLEN;10/20/20 1:00 PM;10/20/20 2:15 PM\n",
    "#5;PEREZ, HILL;10/20/20 3:15 PM;10/20/20 4:00 PM\n",
    "#6;SMITH, JOHN;10/4/21 8:00 AM;10/20/21 9:30 AM\n",
    "#7;SMITH, JOHN;10/4/21 9:20 AM;10/20/21 10:30 AM\n",
    "#8;SMITH, JOHN;10/4/21 11:20 AM;10/20/21 12:00 PM\n",
    "#9;SMITH, JOHN ;10/4/21 1:00 PM;10/20/21 2:15 PM\n",
    "#10;SMITH, JOHN;10/4/21 3:15 PM;10/20/21 4:00 PM\n",
    "\n",
    "df = pd.read_csv(io.StringIO(\"\"\"\n",
    "Record ID;Record Name;Record Start;Record End\n",
    "1;SMITH, JOHN;10/20/20 8:00 AM;10/20/20 9:30 AM\n",
    "2;SMITH, JOHN;10/20/20 9:20 AM;10/20/20 10:30 AM\n",
    "3;SMITH, JOHN;10/20/20 10:20 AM;10/20/20 11:00 AM\n",
    "4;COOPER, ALLEN;10/20/20 1:00 PM;10/20/20 2:15 PM\n",
    "5;PEREZ, HILL;10/20/20 3:15 PM;10/20/20 4:00 PM\n",
    "6;SMITH, JOHN;10/4/21 8:00 AM;10/20/21 9:30 AM\n",
    "7;SMITH, JOHN;10/4/21 9:20 AM;10/20/21 10:30 AM\n",
    "8;SMITH, JOHN;10/4/21 11:20 AM;10/20/21 12:00 PM\n",
    "9;SMITH, JOHN ;10/4/21 1:00 PM;10/20/21 2:15 PM\n",
    "10;SMITH, JOHN;10/4/21 3:15 PM;10/20/21 4:00 PM\n",
    "\"\"\"),sep=';')\n",
    "\n",
    "df['Record Start']=pd.to_datetime(df['Record Start'])\n",
    "df['Record End']=pd.to_datetime(df['Record End'])\n",
    "\n",
    "def create_datetime(date,hour,minute,second):\n",
    "    month=date.month\n",
    "    day=date.day\n",
    "    year=date.year\n",
    "    #month = int(txt.split(\"/\")[0])\n",
    "    #day = int(txt.split(\"/\")[1])\n",
    "    #year = int(\"20\"+txt.split(\"/\")[2].split(\" \")[0])\n",
    "    # datetime(year, month, day, hour, minute, second, microsecond)\n",
    "    return datetime(year=year,month=month,day=day,hour=hour,minute=minute,second=second,microsecond=0)\n",
    "\n",
    "def get_minutes(row):\n",
    "    #start = datetime.strptime(row['Record Start'], '%m/%d/%y %H:%M %p')\n",
    "    start=row['Record Start']\n",
    "    start_end_of_day=create_datetime(row['Record Start'],23,59,59)\n",
    "   \n",
    "    #end = datetime.strptime(row['Record End'], '%m/%d/%y %H:%M %p')\n",
    "    end = row['Record End']\n",
    "    end_beginning_of_day=create_datetime(row['Record End'], 0,0,0)\n",
    "    \n",
    "    results=[start + timedelta(minutes=x) for x in range(0, round((end-start).total_seconds()//60)+1)]\n",
    "      \n",
    "    #for item in results:\n",
    "    #    print(item)\n",
    "    #sys.exit()\n",
    "    return results\n",
    "\n",
    "df['minutes'] = df.apply(get_minutes, axis=1)\n",
    "\n",
    "def intersection(lst1, lst2):\n",
    "    return list(set(lst1) & set(lst2))\n",
    "\n",
    "prev_row=None\n",
    "for index,row in df.iterrows():\n",
    "    if index==0:\n",
    "        df.loc[index,'Count']=1\n",
    "    else:\n",
    "        prev_row=df.iloc[index-1]\n",
    "        \n",
    "    if not prev_row is None:\n",
    "        if prev_row['Record Name']==row['Record Name']:\n",
    "            count=prev_row['Count']\n",
    "            lst1=row['minutes']\n",
    "            lst2=prev_row['minutes']\n",
    "            if len(intersection(lst1,lst2))>0:\n",
    "                df.loc[index,'Count']=count+1\n",
    "            else:\n",
    "                df.loc[index,'Count']=1\n",
    "        else:\n",
    "            df.loc[index,'Count']=1\n",
    "        \n",
    "#print(df[df['Count']>=3])   \n",
    "print(df[['Record ID','Record Name', 'Record Start','Record End','minutes','Count']])\n",
    "        \n"
   ]
  },
  {
   "cell_type": "code",
   "execution_count": 15,
   "id": "83de4b83",
   "metadata": {},
   "outputs": [
    {
     "name": "stdout",
     "output_type": "stream",
     "text": [
      "10 4 21\n"
     ]
    }
   ],
   "source": [
    "pattern=r'(\\d{1,2})\\/(\\d{1,2})\\/(\\d{4}).*?'\n",
    "\n",
    "txt=\"10/4/21 8:00 AM\"\n",
    "month = txt.split(\"/\")[0]\n",
    "day = txt.split(\"/\")[1]\n",
    "year = txt.split(\"/\")[2].split(\" \")[0]\n",
    "print(month,day,year)\n"
   ]
  },
  {
   "cell_type": "code",
   "execution_count": 224,
   "id": "6defd2ae",
   "metadata": {},
   "outputs": [
    {
     "name": "stdout",
     "output_type": "stream",
     "text": [
      "create dictionaries from key and value pairs\n",
      "   id                 value\n",
      "0  a1  0:0,1:10,2:0,3:0,4:7\n",
      "1  b4   0:5,1:0,2:0,3:0,4:1\n",
      "2  c5   0:0,1:3,2:2,3:0,4:0\n",
      "3  k2   0:0,1:2,2:0,3:4,4:0\n",
      "[{1, 10}, {4, 7}]\n",
      "[{1, 4}]\n",
      "[{1, 3}, {2}]\n",
      "[{1, 2}, {3, 4}]\n",
      "   id              value\n",
      "0  a1  [{1, 10}, {4, 7}]\n",
      "1  b4           [{1, 4}]\n",
      "2  c5      [{1, 3}, {2}]\n",
      "3  k2   [{1, 2}, {3, 4}]\n"
     ]
    }
   ],
   "source": [
    "print(\"create dictionaries from key and value pairs\")\n",
    "\n",
    "\n",
    "df = pd.DataFrame({\"id\":[\"a1\", \"b4\", \"c5\", \"k2\"], \n",
    "                   \"value\":[\"0:0,1:10,2:0,3:0,4:7\",\"0:5,1:0,2:0,3:0,4:1\",\"0:0,1:3,2:2,3:0,4:0\",\"0:0,1:2,2:0,3:4,4:0\"]})\n",
    "\n",
    "print(df)\n",
    "\n",
    "\n",
    "for key,row in df.iterrows():\n",
    "    results=[]\n",
    "    {results.append({int(k),int(v)}) if int(k)!=0 and int(v)!=0 else None for k,v in (x.split(':') for x in row['value'].split(','))}\n",
    "    print(results)\n",
    "    df.loc[key,'value']=results\n",
    "    \n",
    "print(df)"
   ]
  },
  {
   "cell_type": "code",
   "execution_count": 17,
   "id": "1b43c1ba",
   "metadata": {},
   "outputs": [
    {
     "name": "stdout",
     "output_type": "stream",
     "text": [
      "   VIXCLS  Percent_Change   Cumulative                                 2item\n",
      "0   17.24        0.000000  1000.000000  AxesSubplot(0.125,0.125;0.775x0.755)\n",
      "1   18.19        0.055104  1055.104408  AxesSubplot(0.125,0.125;0.775x0.755)\n",
      "2   19.22        0.056625  1114.849188  AxesSubplot(0.125,0.125;0.775x0.755)\n",
      "3   20.11        0.046306  1166.473318  AxesSubplot(0.125,0.125;0.775x0.755)\n",
      "4   20.26        0.007459  1175.174014  AxesSubplot(0.125,0.125;0.775x0.755)\n",
      "5   22.20        0.095755  1287.703016  AxesSubplot(0.125,0.125;0.775x0.755)\n",
      "6   22.44        0.010811  1301.624130  AxesSubplot(0.125,0.125;0.775x0.755)\n",
      "7   20.05       -0.106506  1162.993039  AxesSubplot(0.125,0.125;0.775x0.755)\n"
     ]
    },
    {
     "data": {
      "image/png": "[encoded data removed]",
      "text/plain": [
       "<Figure size 432x288 with 1 Axes>"
      ]
     },
     "metadata": {
      "needs_background": "light"
     },
     "output_type": "display_data"
    }
   ],
   "source": [
    "print(\"calculate the accumulative change for 1000 dollars\")\n",
    "\n",
    "data=[17.24,18.19,19.22,20.11,20.26,22.2,22.44,20.05]\n",
    "df=pd.DataFrame({'VIXCLS':data})\n",
    "df['Percent_Change']=df['VIXCLS'].pct_change().fillna(0)\n",
    "\n",
    "amount=1000\n",
    "\n",
    "returns_plus_one=df['Percent_Change']+1\n",
    "cumulative_return = returns_plus_one.cumprod()\n",
    "\n",
    "df['Cumulative']=cumulative_return.mul(amount)\n",
    "\n",
    "df['2item']=df['Cumulative'].rolling(window=2).mean().plot()\n",
    "\n",
    "print(df)"
   ]
  },
  {
   "cell_type": "code",
   "execution_count": 18,
   "id": "b02a3b46",
   "metadata": {},
   "outputs": [
    {
     "name": "stdout",
     "output_type": "stream",
     "text": [
      "Index(['1-01', '1-02', '1-03', '1-04', '1-05', '1-06', '1-07', '1-08', '1-09',\n",
      "       '1-10', '1-11', '1-12', '2-01', '2-02', '2-03', '2-04', '2-05', '2-06',\n",
      "       '2-07', '2-08', '2-09', '2-10', '2-11', '2-12', '3-01', '3-02', '3-03',\n",
      "       '3-04', '3-05', '3-06', '3-07', '3-08', '3-09', '3-10', '3-11', '3-12'],\n",
      "      dtype='object', name='Month')\n"
     ]
    },
    {
     "data": {
      "image/png": "[encoded data removed]",
      "text/plain": [
       "<Figure size 432x288 with 1 Axes>"
      ]
     },
     "metadata": {
      "needs_background": "light"
     },
     "output_type": "display_data"
    }
   ],
   "source": [
    "df=pd.read_csv('shampoo.csv',parse_dates=['Month'])\n",
    "#print(df.columns)\n",
    "pivot=df.pivot_table(index=['Month'],values=['Sales'],aggfunc=np.sum)\n",
    "print(pivot.index)\n",
    "plt.plot(pivot.index,pivot.values)\n",
    "plt.xticks(rotation=90)\n",
    "plt.show()"
   ]
  },
  {
   "cell_type": "code",
   "execution_count": 19,
   "id": "7c682ec8",
   "metadata": {},
   "outputs": [
    {
     "name": "stdout",
     "output_type": "stream",
     "text": [
      "   id                time       time_diff\n",
      "0   2 2021-11-20 22:17:46 0 days 00:13:02\n",
      "1   2 2021-11-20 22:19:02 0 days 00:13:02\n",
      "2   2 2021-11-20 22:06:00 0 days 00:13:02\n",
      "3   4 2021-11-20 22:18:06 0 days 00:00:00\n",
      "4   4 2021-11-20 22:18:06 0 days 00:00:00\n"
     ]
    }
   ],
   "source": [
    "data = {'id': [2, 2, 2, 4, 4], 'time': ['22:17:46', '22:19:02', '22:06:00', '22:18:06', '22:18:06']}\n",
    "df=pd.DataFrame.from_dict(data)\n",
    "\n",
    "df['time'] = pd.to_datetime(df['time'])\n",
    "df['time_diff'] = df.groupby('id')['time'].transform(lambda x: x.max() - x.min())\n",
    "\n",
    "#grouped=df.groupby('id')['time'].agg(['min', 'max'])\n",
    "#for item in grouped.items():\n",
    "#    print(item['min'],item['max'])\n",
    "\n",
    "print(df)"
   ]
  },
  {
   "cell_type": "code",
   "execution_count": 20,
   "id": "52680c13",
   "metadata": {},
   "outputs": [
    {
     "name": "stdout",
     "output_type": "stream",
     "text": [
      "include only rows landing on wednesday \n",
      "2020-02-05    1.164147\n",
      "2020-02-12   -0.872873\n",
      "2020-02-19   -0.572917\n",
      "2020-02-26    0.936244\n",
      "2020-03-04    0.890783\n",
      "2020-03-11   -0.911510\n",
      "2020-03-18   -0.519189\n",
      "2020-03-25   -0.392932\n",
      "2020-04-01    1.256400\n",
      "2020-04-08   -0.995776\n",
      "2020-04-15    0.480521\n",
      "2020-04-22    2.532899\n",
      "2020-04-29    0.777943\n",
      "2020-05-06   -0.079824\n",
      "2020-05-13    0.284184\n",
      "2020-05-20    0.684372\n",
      "2020-05-27   -2.227408\n",
      "2020-06-03   -1.175986\n",
      "2020-06-10    0.014088\n",
      "2020-06-17    0.397393\n",
      "2020-06-24   -0.812656\n",
      "2020-07-01   -1.120630\n",
      "2020-07-08    0.098621\n",
      "2020-07-15   -0.824770\n",
      "2020-07-22   -0.638800\n",
      "2020-07-29    0.411657\n",
      "2020-08-05   -0.540858\n",
      "2020-08-12   -0.318984\n",
      "2020-08-19   -0.476933\n",
      "2020-08-26    2.349569\n",
      "2020-09-02    1.358365\n",
      "2020-09-09   -1.291633\n",
      "2020-09-16    1.594093\n",
      "2020-09-23   -0.274841\n",
      "2020-09-30    2.289768\n",
      "2020-10-07    0.529003\n",
      "2020-10-14    0.889906\n",
      "2020-10-21    0.465075\n",
      "2020-10-28   -0.197626\n",
      "2020-11-04    1.404271\n",
      "2020-11-11    1.242519\n",
      "2020-11-18    0.038522\n",
      "2020-11-25    0.182514\n",
      "dtype: float64\n"
     ]
    }
   ],
   "source": [
    "print('include only rows landing on wednesday ')\n",
    "\n",
    "days = ['Monday', 'Tuesday', 'Wednesday', 'Thursday', 'Friday', 'Saturday', 'Sunday']\n",
    "\n",
    "indices = pd.date_range(start='feb 01 2020', end='nov 30 2020', freq='D')\n",
    "sr=pd.Series(index=indices, data=np.random.randn(indices.shape[0]))\n",
    "print(sr[sr.index.dayofweek == 2])"
   ]
  },
  {
   "cell_type": "code",
   "execution_count": 21,
   "id": "6572887f",
   "metadata": {},
   "outputs": [
    {
     "name": "stdout",
     "output_type": "stream",
     "text": [
      "[(Timestamp('2021-11-01 00:00:00'), 0), (Timestamp('2021-11-02 00:00:00'), 0), (Timestamp('2021-11-03 00:00:00'), 0), (Timestamp('2021-11-04 00:00:00'), 0), (Timestamp('2021-11-05 00:00:00'), 0)]\n"
     ]
    }
   ],
   "source": [
    "txt=\"\"\"scanned_date,total       \n",
    "2021-11-01,0\n",
    "2021-11-02,0\n",
    "2021-11-03,0\n",
    "2021-11-04,0\n",
    "2021-11-05,0\n",
    "\"\"\"\n",
    "\n",
    "#https://www.py4u.net/discuss/17020\n",
    "\n",
    "df = pd.read_csv(io.StringIO(txt),sep=',',parse_dates=['scanned_date'])\n",
    "print(list(map(lambda tuple_obj: \n",
    "               (\n",
    "                   pd.to_datetime(tuple_obj[1],'%M/%d/%Y')\n",
    "                  #str(tuple_obj[1].astype(\"datetime64[M]\").astype(int)% 12 + 1)\n",
    "                  # + \"\\\\\" + str(tuple_obj[1].astype(object).day)\n",
    "                  # + \"\\\\\" + str(tuple_obj[1].astype(\"datetime64[Y]\"))\n",
    "                 ,\n",
    "                tuple_obj[2]),\n",
    "               df.to_records())))"
   ]
  },
  {
   "cell_type": "code",
   "execution_count": 22,
   "id": "6d7b680d",
   "metadata": {},
   "outputs": [
    {
     "name": "stdout",
     "output_type": "stream",
     "text": [
      "    ColA       ColB  ColC    ColD  newCol\n",
      "0      B 2021-10-24     2     NaN       0\n",
      "1      B 2021-10-25     4     2.0       0\n",
      "2      B 2021-10-26   500   496.0       0\n",
      "3      B 2021-10-27   100  -400.0       0\n",
      "4      B 2021-10-28    55   -45.0       1\n",
      "5      B 2021-10-29   600   545.0       1\n",
      "6      B 2021-10-30     8  -592.0       0\n",
      "7      B 2021-10-31  4300  4292.0       1\n",
      "8      B 2021-11-01   200 -4100.0       1\n",
      "9      H 2021-10-24   600     NaN       1\n",
      "10     H 2021-10-25     0  9400.0       1\n",
      "11     H 2021-10-26   100 -9900.0       0\n",
      "12     H 2021-10-27   300   200.0       1\n",
      "13     H 2021-10-28     2  -292.0       1\n",
      "14     H 2021-10-29     8     6.0       0\n",
      "15     H 2021-10-30   600   592.0       0\n",
      "16     H 2021-10-31   600     0.0       0\n",
      "17     H 2021-11-01   650    50.0       1\n"
     ]
    }
   ],
   "source": [
    "txt=\"\"\" ColA,ColB,ColC,ColD\n",
    "B,2021-10-24,2,NA\n",
    "B,2021-10-25,4,2\n",
    "B,2021-10-26,500,496\n",
    "B,2021-10-27,100,-400\n",
    "B,2021-10-28,55,-45\n",
    "B,2021-10-29,600,545\n",
    "B,2021-10-30,8,-592 \n",
    "B,2021-10-31,4300,4292 \n",
    "B,2021-11-01,200,-4100\n",
    "H,2021-10-24,600,NA\n",
    "H,2021-10-25,0000,9400 \n",
    "H,2021-10-26,100,-9900 \n",
    "H,2021-10-27,300,200\n",
    "H,2021-10-28,2,-292\n",
    "H,2021-10-29,8,6\n",
    "H,2021-10-30,600,592\n",
    "H,2021-10-31,600,0\n",
    "H,2021-11-01,650,50\"\"\"\n",
    "\n",
    "df = pd.read_csv(io.StringIO(txt),sep=',',parse_dates=['ColB'])\n",
    "df['ColD_2']=df['ColD'].shift(2)\n",
    "df['ColD_3']=df['ColD'].shift(3)\n",
    "df['ColD_2_check']=np.where(df['ColD_2']>200,1,0)\n",
    "df['ColD_3_check']=np.where(df['ColD_3']>200,1,0)\n",
    "df['newCol']=df['ColD_2_check']|df['ColD_3_check']\n",
    "df.drop(['ColD_2','ColD_3','ColD_2_check','ColD_3_check'],inplace=True,axis=1)\n",
    "print(df)"
   ]
  },
  {
   "cell_type": "code",
   "execution_count": 23,
   "id": "4dfca03c",
   "metadata": {},
   "outputs": [
    {
     "name": "stdout",
     "output_type": "stream",
     "text": [
      "annualized return rate\n",
      "1.03\n",
      "1.07\n",
      "1.05\n",
      "1.12\n",
      "1.01\n",
      "0.05533402290765199\n",
      "1.00133335\n",
      "1.00148724\n",
      "0.001410292043902306\n",
      "1.00079676\n",
      "1.0012311\n",
      "0.0010139064424810051\n"
     ]
    }
   ],
   "source": [
    "print(\"annualized return rate\")\n",
    "data=[ 3, 7, 5, 12, 1]\n",
    "\n",
    "def annualize_rate(data):\n",
    "    retVal=0\n",
    "    accum=1\n",
    "    for item in data:\n",
    "        print(1+(item/100))\n",
    "        accum*=1+(item/100)\n",
    "        retVal=pow(accum,1/len(data))-1\n",
    "    return retVal\n",
    "    \n",
    "print(annualize_rate(data))\n",
    "\n",
    "data=[0.133335,0.148724]\n",
    "\n",
    "print(annualize_rate(data))\n",
    "\n",
    "\n",
    "data=[0.079676,0.123110]\n",
    "print(annualize_rate(data))"
   ]
  },
  {
   "cell_type": "code",
   "execution_count": 24,
   "id": "b84a6e78",
   "metadata": {},
   "outputs": [
    {
     "name": "stdout",
     "output_type": "stream",
     "text": [
      "   Annualized  Percent_Change  Cumulative  \\\n",
      "0    0.035719        0.000000    1.000000   \n",
      "1    0.031417       -0.120440    0.879560   \n",
      "2    0.030872       -0.017347    0.864302   \n",
      "3    0.029147       -0.055876    0.816008   \n",
      "\n",
      "                                  2item  \n",
      "0  AxesSubplot(0.125,0.125;0.775x0.755)  \n",
      "1  AxesSubplot(0.125,0.125;0.775x0.755)  \n",
      "2  AxesSubplot(0.125,0.125;0.775x0.755)  \n",
      "3  AxesSubplot(0.125,0.125;0.775x0.755)  \n"
     ]
    },
    {
     "data": {
      "image/png": "[encoded data removed]",
      "text/plain": [
       "<Figure size 432x288 with 1 Axes>"
      ]
     },
     "metadata": {
      "needs_background": "light"
     },
     "output_type": "display_data"
    }
   ],
   "source": [
    "data=[0.035719,0.031417,0.030872,0.029147]\n",
    "df=pd.DataFrame({'Annualized':data})\n",
    "df['Percent_Change']=df['Annualized'].pct_change().fillna(0)\n",
    "\n",
    "amount=1\n",
    "\n",
    "returns_plus_one=df['Percent_Change']+1\n",
    "cumulative_return = returns_plus_one.cumprod()\n",
    "\n",
    "df['Cumulative']=cumulative_return.mul(amount)\n",
    "\n",
    "df['2item']=df['Cumulative'].rolling(window=2).mean().plot()\n",
    "\n",
    "print(df)"
   ]
  },
  {
   "cell_type": "code",
   "execution_count": 25,
   "id": "6b126249",
   "metadata": {},
   "outputs": [
    {
     "data": {
      "text/plain": [
       "0.03178875"
      ]
     },
     "execution_count": 25,
     "metadata": {},
     "output_type": "execute_result"
    }
   ],
   "source": [
    "(0.035719+0.031417+0.030872+0.029147)/4"
   ]
  },
  {
   "cell_type": "code",
   "execution_count": 32,
   "id": "04b80364",
   "metadata": {},
   "outputs": [
    {
     "name": "stdout",
     "output_type": "stream",
     "text": [
      "            Player Position  Score\n",
      "6    Aaron Rodgers       QB  10.48\n",
      "0  Darrel Williams       RB  24.90\n",
      "1      Mark Ingram       RB  18.80\n",
      "5    Davante Adams       WR  11.30\n",
      "8      Corey Davis       WR   8.80\n",
      "9   T.J. Hockenson       TE   0.00\n",
      "7       Tyler Bass        K   9.00\n",
      "4    Buffalo Bills      DEF  12.00\n"
     ]
    }
   ],
   "source": [
    "txt=\"\"\"Player,Position,Score\n",
    "Darrel Williams,RB,24.9\n",
    "Mark Ingram,RB,18.8\n",
    "Michael Carter,RB,16.2\n",
    "Najee Harris,RB,15.3\n",
    "Buffalo Bills,DEF,12\n",
    "Davante Adams,WR,11.3\n",
    "Aaron Rodgers,QB,10.48\n",
    "Tyler Bass,K,9\n",
    "Corey Davis,WR,8.8\n",
    "T.J. Hockenson,TE,0\"\"\"\n",
    "\n",
    "df = pd.read_csv(io.StringIO(txt),sep=',')\n",
    "requirements_dictionary = {'QB': 1, 'RB': 2, 'WR': 2, 'TE': 1, 'K': 1, 'DEF': 1, 'FLEX': 2}\n",
    "#print(df)\n",
    "df_top_rows = pd.DataFrame()\n",
    "for position in requirements_dictionary.keys():\n",
    "    df_top_rows = df_top_rows.append(df[df['Position'] == position].sort_values(by='Score', ascending=False).head(requirements_dictionary[position]))\n",
    "#print(df_top_rows)\n",
    "\n",
    "\n",
    "position='FLEX'\n",
    "df_flex_rows = df_top_rows.append(df[df['Position'].isin(['RB','WR','TE'])].sort_values(by='Score', ascending=False).head(requirements_dictionary[position]))\n",
    "\n",
    "#print(df_flex_rows)\n",
    "df_result=pd.concat([df_top_rows,df_flex_rows],axis=0)\n",
    "df_result.drop_duplicates(inplace=True)\n",
    "print(df_result)"
   ]
  },
  {
   "cell_type": "code",
   "execution_count": 2,
   "id": "c09601c1",
   "metadata": {},
   "outputs": [
    {
     "name": "stdout",
     "output_type": "stream",
     "text": [
      "  column_1 column_2 column_3 column_4\n",
      "0    1,2,3        1        2        3\n",
      "1    2,3,4        2        3        4\n"
     ]
    }
   ],
   "source": [
    "txt=\"\"\"\n",
    "column_1\n",
    "1,2,3\n",
    "2,3,4\n",
    "\"\"\"\n",
    "df=pd.read_csv(io.StringIO(txt),sep='\\n')\n",
    "df[['column_2','column_3','column_4']]=df['column_1'].str.split(',',expand=True)\n",
    "print(df)"
   ]
  },
  {
   "cell_type": "code",
   "execution_count": 302,
   "id": "f39ea75c",
   "metadata": {},
   "outputs": [
    {
     "name": "stderr",
     "output_type": "stream",
     "text": [
      "C:\\Users\\DNISHI~1\\AppData\\Local\\Temp/ipykernel_16728/3809484238.py:40: MatplotlibDeprecationWarning: The 's' parameter of annotate() has been renamed 'text' since Matplotlib 3.3; support for the old name will be dropped two minor releases later.\n",
      "  ax.annotate(xy=[x2,y2],s=value)\n"
     ]
    },
    {
     "data": {
      "image/png": "[encoded data removed]",
      "text/plain": [
       "<Figure size 2000x1200 with 1 Axes>"
      ]
     },
     "metadata": {
      "needs_background": "light"
     },
     "output_type": "display_data"
    }
   ],
   "source": [
    "data=\"\"\"Date,Ta\n",
    "2020-01-01 00:00:00,6.242405\n",
    "2020-01-01 01:00:00,4.923052\n",
    "2020-01-01 02:00:00,5.112286\n",
    "2020-01-01 03:00:00,4.689673\n",
    "2020-01-01 04:00:00,4.493104\n",
    "2020-01-01 05:00:00,3.719512\n",
    "2020-01-01 06:00:00,5.473153\n",
    "2020-01-01 07:00:00,3.442055\n",
    "2020-01-01 08:00:00,4.045178\n",
    "2020-01-01 09:00:00,2.585951\n",
    "2020-01-01 10:00:00,4.028845\n",
    "2020-01-01 11:00:00,5.411510\n",
    "2020-01-01 12:00:00,3.383155\n",
    "2020-01-01 13:00:00,5.997180\n",
    "2020-01-01 14:00:00,6.485442\n",
    "2020-01-01 15:00:00,4.240901\n",
    "2020-01-01 16:00:00,3.637405\n",
    "2020-01-01 17:00:00,2.766216\n",
    "2020-01-01 18:00:00,6.024569\n",
    "2020-01-01 19:00:00,5.503587\n",
    "2020-01-01 20:00:00,5.532941\n",
    "2020-01-01 21:00:00,4.251602\n",
    "2020-01-01 22:00:00,4.444596\n",
    "2020-01-01 23:00:00,2.935362\n",
    "\"\"\"\n",
    "#df['Ta'].plot(figsize=(20,12),legend=True,subplots=True,ylim=(0,12),\n",
    "#              xticks=list(df.index.values),fontsize=10,grid=True,\n",
    "#              rot=0, xlim=(pd.Timestamp('2020-01-01 00:00:00'),pd.Timestamp('2020-01-01 23:00:00')))\n",
    "\n",
    "def plot_df(df, x, y, title=\"\", xlabel='Date', ylabel='Value', dpi=100):\n",
    "    fig,ax=plt.subplots(figsize=(20,12), dpi=dpi)\n",
    "    ax.plot(x, y, color='tab:red')\n",
    "    #plt.xticks(rotation=90)\n",
    "    items=range(0,len(df))\n",
    "    for index in items:\n",
    "        y2=y[index]\n",
    "        x2=x[index]\n",
    "        value=\"{:.2f}\".format(y2)\n",
    "        ax.annotate(xy=[x2,y2],s=value)\n",
    "        #\n",
    "        #if index%2==0:\n",
    "        #    y2=1\n",
    "        #else:\n",
    "        #    y2=2\n",
    "        #ax.annotate(xy=[x2,y2],s=value)\n",
    "        #ax.annotate(xy=[x2,y2],s=str(y2))\n",
    "    plt.xlim([pd.Timestamp('2020-01-01 00:00:00'),pd.Timestamp('2020-01-01 23:00:00')])        \n",
    "    plt.ylim(0,12)\n",
    "    plt.gca().set(title=title, xlabel=xlabel, ylabel=ylabel)\n",
    "    plt.show()\n",
    "\n",
    "df = pd.read_csv(StringIO(data), sep=',', index_col=0,parse_dates=['Date'])\n",
    "plot_df(df, x=df.index, y=df.Ta, title='Temparature')\n",
    "\n"
   ]
  },
  {
   "cell_type": "code",
   "execution_count": 32,
   "id": "c6d698ff",
   "metadata": {},
   "outputs": [
    {
     "name": "stdout",
     "output_type": "stream",
     "text": [
      "        a  b_x  c_x   b_y   c_y\n",
      "0     red    1    1  44.0  55.0\n",
      "1   green    5    7   NaN   NaN\n",
      "2  yellow    6    8   NaN   NaN\n",
      "3    blue    7    9   NaN   NaN\n",
      "44.0\n",
      "x\n",
      "x\n",
      "x\n",
      "        a     b     c\n",
      "0     red  44.0  55.0\n",
      "1   green   5.0   7.0\n",
      "2  yellow   6.0   8.0\n",
      "3    blue   7.0   9.0\n"
     ]
    }
   ],
   "source": [
    "df4 = pd.DataFrame({'a':['red','green','yellow','blue'],'b':[1,5,6,7],'c':[1,7,8,9]})\n",
    "df5 = pd.DataFrame({'a':'red','b':44, 'c':55}, index=[0])\n",
    "\n",
    "df3 = pd.merge(df4, df5, how='left', on='a')\n",
    "print(df3)\n",
    "\n",
    "for key, row in df3.iterrows():\n",
    "    \n",
    "    if pd.isna(row['b_y'])==False:\n",
    "        print(row['b_y'])\n",
    "        df3.loc[key,'b']=row['b_y']\n",
    "        df3.loc[key,'c']=row['c_y']\n",
    "    else:\n",
    "        print('x')\n",
    "        df3.loc[key,'b']=row['b_x']\n",
    "        df3.loc[key,'c']=row['c_x']\n",
    "\n",
    "df3 = df3.drop(['b_x', 'c_x', 'b_y', 'c_y'], axis=1)\n",
    "print(df3)"
   ]
  },
  {
   "cell_type": "code",
   "execution_count": 192,
   "id": "2f9cb10c",
   "metadata": {},
   "outputs": [
    {
     "name": "stdout",
     "output_type": "stream",
     "text": [
      "multiple df1 by df2 for every row of df1\n",
      "         Date  ABC  DEF  XYZ\n",
      "0  2020-01-31  1.5  1.6  0.6\n",
      "1  2020-02-31  0.5  1.2  1.5\n",
      "2  2020-03-31  2.0  0.8  1.8\n",
      "3  2020-04-31  1.0  0.8  2.1\n"
     ]
    }
   ],
   "source": [
    "print(\"multiple df1 by df2 for every row of df1\")\n",
    "\n",
    "df1=\"\"\"\n",
    "Date\tABC\tDEF\tXYZ\n",
    "2020-01-31\t3\t4\t2\n",
    "2020-02-31\t1\t3\t5\n",
    "2020-03-31\t4\t2\t6\n",
    "2020-04-31\t2\t2\t7\n",
    "\"\"\"\n",
    "df2=\"\"\"\n",
    "Year\tABC\tDEF\tXYZ\n",
    "2020\t.5\t.4\t.3\n",
    "\"\"\"\n",
    "\n",
    "def create_df(df):\n",
    "    df=df.strip().split('\\n')\n",
    "    df=list(map(lambda x: x.strip().split('\\t'),df))\n",
    "    df=pd.DataFrame(df[1:],columns=df[0])\n",
    "    return df\n",
    "\n",
    "df1=create_df(df1)\n",
    "df1['ABC']=df1['ABC'].astype(float)\n",
    "df1['DEF']=df1['DEF'].astype(float)\n",
    "df1['XYZ']=df1['XYZ'].astype(float)\n",
    "df2=create_df(df2)\n",
    "df2['ABC']=df2['ABC'].astype(float)\n",
    "df2['DEF']=df2['DEF'].astype(float)\n",
    "df2['XYZ']=df2['XYZ'].astype(float)\n",
    "\n",
    "cols = ['ABC', 'DEF', 'XYZ']\n",
    "df3 = df1.copy()\n",
    "df3[cols]=df1[cols].mul(df2[cols].values)\n",
    "print(df3)"
   ]
  },
  {
   "cell_type": "code",
   "execution_count": 283,
   "id": "6c6be226",
   "metadata": {},
   "outputs": [
    {
     "name": "stdout",
     "output_type": "stream",
     "text": [
      "find all the slot values\n",
      "                         id                        grp            output\n",
      "0  Alpha-old-1_MOD (Slot01)                          -          [Slot01]\n",
      "1       Alpha-old-1_PR GRP1  MOD (Slot07);MOD (Slot08)  [Slot07, Slot08]\n",
      "2        Beta-new-1_PR GRP2  MOD (Slot13);MOD (Slot14)  [Slot13, Slot14]\n",
      "3   Beta-old-1_MOD (Slot03)                          -          [Slot03]\n"
     ]
    }
   ],
   "source": [
    "print(\"find all the slot values\")\n",
    "data=\"\"\"id\\tgrp\n",
    "Alpha-old-1_MOD (Slot01)\\t-\n",
    "Alpha-old-1_PR GRP1\\tMOD (Slot07);MOD (Slot08)\n",
    "Beta-new-1_PR GRP2\\tMOD (Slot13);MOD (Slot14)\n",
    "Beta-old-1_MOD (Slot03)\\t-\n",
    "\"\"\"\n",
    "\n",
    "\n",
    "import re\n",
    "df=pd.read_csv(io.StringIO(data),sep='\\t')\n",
    "\n",
    "columns=df.columns\n",
    "for column in columns:\n",
    "    df[column]=df[column].astype(str)\n",
    "\n",
    "#pattern=r\"[\\s\\w\\(]+(?<=Slot){1}(\\d{2})+[\\s\\w\\)]+\"\n",
    "pattern=r\"[\\s\\w\\(]+(Slot{1}\\d{2})+[\\s\\w\\)]+\"\n",
    "\n",
    "df['output']=''\n",
    "for key,row in df.iterrows():\n",
    "    if re.search(\"PR GRP\",str(row['id'])):\n",
    "        matches=re.findall(pattern,str(row['grp']))\n",
    "    else:\n",
    "        matches=re.findall(pattern,str(row['id']))\n",
    "    if len(matches)>0:\n",
    "        df.loc[key,'output']=matches\n",
    "\n",
    "print(df[['id','grp','output']])"
   ]
  },
  {
   "cell_type": "code",
   "execution_count": 226,
   "id": "fe4826cd",
   "metadata": {},
   "outputs": [
    {
     "data": {
      "text/html": [
       "<div>\n",
       "<style scoped>\n",
       "    .dataframe tbody tr th:only-of-type {\n",
       "        vertical-align: middle;\n",
       "    }\n",
       "\n",
       "    .dataframe tbody tr th {\n",
       "        vertical-align: top;\n",
       "    }\n",
       "\n",
       "    .dataframe thead th {\n",
       "        text-align: right;\n",
       "    }\n",
       "</style>\n",
       "<table border=\"1\" class=\"dataframe\">\n",
       "  <thead>\n",
       "    <tr style=\"text-align: right;\">\n",
       "      <th></th>\n",
       "      <th>0</th>\n",
       "    </tr>\n",
       "  </thead>\n",
       "  <tbody>\n",
       "    <tr>\n",
       "      <th>0</th>\n",
       "      <td>2021-01-01 05:00:00</td>\n",
       "    </tr>\n",
       "    <tr>\n",
       "      <th>1</th>\n",
       "      <td>2021-01-01 06:00:00</td>\n",
       "    </tr>\n",
       "  </tbody>\n",
       "</table>\n",
       "</div>"
      ],
      "text/plain": [
       "                     0\n",
       "0  2021-01-01 05:00:00\n",
       "1  2021-01-01 06:00:00"
      ]
     },
     "execution_count": 226,
     "metadata": {},
     "output_type": "execute_result"
    }
   ],
   "source": [
    "df = pd.DataFrame({\"A\": [\"2021-01-01 05:00:00Acme Industries\",\n",
    "                         \"2021-01-01 06:00:00Acme LLC\"]})\n",
    "\n",
    "df.A.str.extract(\"(\\d{4}-\\d{2}-\\d{2}\\s\\d{2}:\\d{2}:\\d{2})?.*\")"
   ]
  },
  {
   "cell_type": "code",
   "execution_count": 230,
   "id": "d3407c44",
   "metadata": {},
   "outputs": [
    {
     "name": "stdout",
     "output_type": "stream",
     "text": [
      "  col_1    sort\n",
      "0    27  27.000\n",
      "1   >27  27.001\n",
      "2  27.2  27.200\n",
      "3    28  28.000\n"
     ]
    }
   ],
   "source": [
    "col_1=['27','>27','27.2','28']\n",
    "df=pd.DataFrame({'col_1':col_1})\n",
    "\n",
    "df['sort']=df['col_1'].apply(lambda x: float(re.sub('>','',x))+0.001 if '>' in x else float(x))\n",
    "\n",
    "print(df)"
   ]
  },
  {
   "cell_type": "code",
   "execution_count": 281,
   "id": "c937c3f2",
   "metadata": {},
   "outputs": [
    {
     "name": "stdout",
     "output_type": "stream",
     "text": [
      "['714285']\n",
      "['3']\n",
      "0.5\n",
      "[]\n"
     ]
    }
   ],
   "source": [
    "def repeat(result):    \n",
    "    pattern=r\"\\d+\\.\\d+(\\d+)\\1\"\n",
    "    matches=re.findall(pattern,result)\n",
    "    return matches\n",
    "\n",
    "result=str(1/7)\n",
    "print(repeat(result))\n",
    "#(\\b\\d\\b)\\1\n",
    "result=str(1/3)\n",
    "print(repeat(result))\n",
    "result=str(1/2)\n",
    "print(result)\n",
    "print(repeat(result))\n"
   ]
  },
  {
   "cell_type": "code",
   "execution_count": 21,
   "id": "50ba6657",
   "metadata": {},
   "outputs": [
    {
     "name": "stdout",
     "output_type": "stream",
     "text": [
      "[['step1'], ['step1', 'step2'], ['step1', 'step2', 'step3']]\n",
      "['step1']\n",
      "['step1', 'step2']\n",
      "['step1', 'step2', 'step3']\n",
      "['step1']\n",
      "['step1', 'step2']\n",
      "['step1', 'step2', 'step3']\n",
      "  id  sid              steps page_step1 page_step2 page_step3\n",
      "0  A    1              step1      step1       None       None\n",
      "1  A    1        step1-step2      step1      step2       None\n",
      "2  A    1  step1-step2-step3      step1      step2      step3\n"
     ]
    }
   ],
   "source": [
    "txt=\"\"\"id\\tsid\\tsteps\n",
    "A\\t1\\tstep1\n",
    "A\\t1\\tstep1-step2\n",
    "A\\t1\\tstep1-step2-step3\"\"\"\n",
    "\n",
    "df=pd.read_csv(io.StringIO(txt),sep='\\t')\n",
    "#print(df)\n",
    "results=df['steps'].apply(lambda x: x.split('-'))\n",
    "print(results.tolist())\n",
    "\n",
    "def Slice2(x):\n",
    "    print(x)\n",
    "    if len(x)>=2:\n",
    "        return x[1]\n",
    "    return None\n",
    "\n",
    "def Slice3(x):\n",
    "    print(x)\n",
    "    if len(x)>=3:\n",
    "        return x[2]\n",
    "    return None\n",
    "\n",
    "\n",
    "df['page_step1']=results.map(lambda x: x[0])\n",
    "df['page_step2']=results.map(Slice2)\n",
    "df['page_step3']=results.map(Slice3)\n",
    "\n",
    "print(df)\n"
   ]
  },
  {
   "cell_type": "code",
   "execution_count": 56,
   "id": "77029d8a",
   "metadata": {},
   "outputs": [
    {
     "name": "stdout",
     "output_type": "stream",
     "text": [
      "melt moves column data and stacks it vertically\n",
      "   key      a      b          c\n",
      "0    1   True  False  Batchelor\n",
      "1    2   True  False    Masters\n",
      "2    3  False   True  Doctorate\n",
      "   key letter    Boolean\n",
      "0    1      a       True\n",
      "1    2      a       True\n",
      "5    3      b       True\n",
      "6    1      c  Batchelor\n",
      "7    2      c    Masters\n",
      "8    3      c  Doctorate\n"
     ]
    }
   ],
   "source": [
    "print(\"melt moves column data and stacks it vertically\")\n",
    "d = {'key': [1,2,3], 'a': [True,True, False], 'b': [False,False,True],'c':['Batchelor','Masters','Doctorate']}\n",
    "df = pd.DataFrame(d)\n",
    "\n",
    "print(df)\n",
    "\n",
    "df2 = df.melt(id_vars=['key'], var_name = 'letter', value_name = 'Boolean')\n",
    "\n",
    "df2=df2.drop(df2.index[df2['Boolean'] == False])\n",
    "\n",
    "#df2 = df2.query('Bool == True')\n",
    "print(df2)"
   ]
  },
  {
   "cell_type": "code",
   "execution_count": null,
   "id": "7333cf22",
   "metadata": {},
   "outputs": [],
   "source": []
  }
 ],
 "metadata": {
  "kernelspec": {
   "display_name": "Python 3 (ipykernel)",
   "language": "python",
   "name": "python3"
  },
  "language_info": {
   "codemirror_mode": {
    "name": "ipython",
    "version": 3
   },
   "file_extension": ".py",
   "mimetype": "text/x-python",
   "name": "python",
   "nbconvert_exporter": "python",
   "pygments_lexer": "ipython3",
   "version": "3.8.12"
  }
 },
 "nbformat": 4,
 "nbformat_minor": 5
}
