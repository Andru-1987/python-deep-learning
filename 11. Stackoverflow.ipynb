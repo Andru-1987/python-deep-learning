{
 "cells": [
  {
   "cell_type": "code",
   "execution_count": 2,
   "id": "9a76508b",
   "metadata": {},
   "outputs": [],
   "source": [
    "import pandas as pd\n",
    "import matplotlib.pyplot as plt\n",
    "import numpy as np\n",
    "import re\n",
    "from io import StringIO\n",
    "import io\n",
    "from collections import namedtuple\n",
    "from datetime import datetime,timedelta\n",
    "import sys"
   ]
  },
  {
   "cell_type": "code",
   "execution_count": 3,
   "id": "8db06643",
   "metadata": {},
   "outputs": [
    {
     "name": "stdout",
     "output_type": "stream",
     "text": [
      "   weekstart    weekend       Spend     Daily\n",
      "0  01-Jan-18  07-Jan-18  34235.9220  4890.846\n",
      "1  08-Jan-18  14-Jan-18  37359.6048  5337.086\n",
      "2  15-Jan-18  21-Jan-18  38916.1164  5559.445\n",
      "3  22-Jan-18  28-Jan-18  36903.8628  5271.980\n",
      "Empty DataFrame\n",
      "Columns: [Date, Amount]\n",
      "Index: []\n",
      "         Date    Amount\n",
      "1  2018-01-01  4890.846\n",
      "2  2018-01-02  4890.846\n",
      "3  2018-01-03  4890.846\n",
      "4  2018-01-04  4890.846\n",
      "5  2018-01-05  4890.846\n",
      "6  2018-01-06  4890.846\n",
      "7  2018-01-07  4890.846\n",
      "8  2018-01-08  5337.086\n",
      "9  2018-01-09  5337.086\n",
      "10 2018-01-10  5337.086\n",
      "11 2018-01-11  5337.086\n",
      "12 2018-01-12  5337.086\n",
      "13 2018-01-13  5337.086\n",
      "14 2018-01-14  5337.086\n",
      "15 2018-01-15  5559.445\n",
      "16 2018-01-16  5559.445\n",
      "17 2018-01-17  5559.445\n",
      "18 2018-01-18  5559.445\n",
      "19 2018-01-19  5559.445\n",
      "20 2018-01-20  5559.445\n",
      "21 2018-01-21  5559.445\n",
      "22 2018-01-22  5271.980\n",
      "23 2018-01-23  5271.980\n",
      "24 2018-01-24  5271.980\n",
      "25 2018-01-25  5271.980\n",
      "26 2018-01-26  5271.980\n",
      "27 2018-01-27  5271.980\n",
      "28 2018-01-28  5271.980\n"
     ]
    },
    {
     "name": "stderr",
     "output_type": "stream",
     "text": [
      "C:\\Users\\DNISHI~1\\AppData\\Local\\Temp/ipykernel_9772/3259226528.py:23: FutureWarning: In a future version of pandas all arguments of DataFrame.set_index except for the argument 'keys' will be keyword-only\n",
      "  df2.set_index(pd.Index(index),'index',inplace=True)\n"
     ]
    },
    {
     "data": {
      "image/png": "[encoded data removed]",
      "text/plain": [
       "<Figure size 432x288 with 1 Axes>"
      ]
     },
     "metadata": {
      "needs_background": "light"
     },
     "output_type": "display_data"
    }
   ],
   "source": [
    "df = pd.DataFrame({\n",
    "    'weekstart':['01-Jan-18','08-Jan-18','15-Jan-18','22-Jan-18'],\n",
    "    'weekend':['07-Jan-18','14-Jan-18','21-Jan-18','28-Jan-18'],\n",
    "    'Spend':[34235.922,37359.6048,38916.1164,36903.8628],\n",
    "    'Daily':[4890.846,5337.086,5559.445,5271.98],\n",
    "})\n",
    "print(df)\n",
    "\n",
    "df2=pd.DataFrame(columns=['Date','Amount'])\n",
    "df2['Date']=pd.to_datetime(df2['Date'])\n",
    "#df2.reset_index(level=0,inplace=True)\n",
    "print(df2)\n",
    "\n",
    "for key,value in df.iterrows():\n",
    "    #print(key,value)\n",
    "    amount=value['Daily']\n",
    "    for date in pd.date_range(value['weekstart'], value['weekend']):\n",
    "        #print(date)\n",
    "        df2=df2.append({\"Date\":date,\"Amount\":amount},ignore_index=True)\n",
    "\n",
    "index=range(1,len(df2)+1) \n",
    "\n",
    "df2.set_index(pd.Index(index),'index',inplace=True)\n",
    "print(df2)\n",
    "\n",
    "plt.plot(df2['Date'],df2['Amount'])\n",
    "plt.xticks(rotation=90)\n",
    "plt.show()"
   ]
  },
  {
   "cell_type": "code",
   "execution_count": 4,
   "id": "3d6231f4",
   "metadata": {},
   "outputs": [
    {
     "name": "stdout",
     "output_type": "stream",
     "text": [
      "  Category    Name  Year  Vals\n",
      "0      Car   Camry  2007   0.1\n",
      "1      Car   Camry  2007   0.5\n",
      "5    Truck  Tundra  2010   0.4\n"
     ]
    }
   ],
   "source": [
    "category = ['Car','Car','Car','Car','Truck','Truck','Truck']\n",
    "name = ['Camry','Camry','Camry','Camry','Tacoma','Tundra','Tundra']\n",
    "year = ['2007','2007','2008','2009','2010','2010','2011']\n",
    "vals = [0.1,0.5,0.2,0.9,0.8,0.4,0.9]\n",
    "df = pd.DataFrame({'Category': category,\n",
    "                   'Name': name,\n",
    "                   'Year': year,\n",
    "                   'Vals': vals})\n",
    "\n",
    "print(df.query(\"(Category=='Car' and Name=='Camry' and Year=='2007') or (Category=='Truck' and Name=='Tundra' and Year=='2010')\"))"
   ]
  },
  {
   "cell_type": "code",
   "execution_count": 5,
   "id": "faa5666a",
   "metadata": {},
   "outputs": [
    {
     "name": "stdout",
     "output_type": "stream",
     "text": [
      "2015\n"
     ]
    }
   ],
   "source": [
    "txt=\"firstname lastname (1937-2015)\"\n",
    "pattern=r'(\\d{4}\\-\\d{4})+'\n",
    "\n",
    "matches=re.findall(pattern,txt)\n",
    "print(matches[0].split('-')[1])"
   ]
  },
  {
   "cell_type": "code",
   "execution_count": 6,
   "id": "cc2129e1",
   "metadata": {},
   "outputs": [
    {
     "name": "stdout",
     "output_type": "stream",
     "text": [
      "        name abbrevation  value   Category\n",
      "0      FRUIT         FRU    100      FRUIT\n",
      "1    A.GRAPE       A.GRA     50      FRUIT\n",
      "2    A.APPLE       A.APP     50      FRUIT\n",
      "3  VEGETABLE         VEG     75  VEGETABLE\n",
      "4   A.TOMATO       A.TOM     25  VEGETABLE\n",
      "5  A.CABBAGE       A.CAB     25  VEGETABLE\n",
      "6   A.CARROT       A.CAR     25  VEGETABLE\n"
     ]
    }
   ],
   "source": [
    "data = [['FRUIT', 'FRU', 100],['A.GRAPE','A.GRA', 50],['A.APPLE','A.APP', 50],\n",
    "        ['VEGETABLE', 'VEG', 75],['A.TOMATO','A.TOM', 25],['A.CABBAGE','A.CAB', 25],['A.CARROT','A.CAR', 25]]\n",
    "df = pd.DataFrame(data, columns = ['name', 'abbrevation', 'value'])\n",
    "\n",
    "df['Category']=df['name'].apply(lambda x: x if x.isalpha() else None)\n",
    "df.ffill(inplace=True)\n",
    "print(df)"
   ]
  },
  {
   "cell_type": "code",
   "execution_count": 7,
   "id": "f636e48c",
   "metadata": {},
   "outputs": [
    {
     "name": "stdout",
     "output_type": "stream",
     "text": [
      "find the floating point number\n",
      "['200.20356']\n"
     ]
    }
   ],
   "source": [
    "print(\"find the floating point number\")\n",
    "txt=\"200.20356AVAX\"\n",
    "pattern=r\"\\d+\\.*\\d*\"\n",
    "print(re.findall(pattern,txt))"
   ]
  },
  {
   "cell_type": "code",
   "execution_count": 8,
   "id": "04f90f39",
   "metadata": {},
   "outputs": [
    {
     "name": "stdout",
     "output_type": "stream",
     "text": [
      "create a list of words and special characters\n",
      "['var', 'a', '=', '\"', 'hello', '\"', 'world', '(', 'print', '\"', '\"', 'hello', ',', '\"', '\"', 'a', ')']\n"
     ]
    }
   ],
   "source": [
    "print(\"create a list of words and special characters\")\n",
    "\n",
    "txt=\"\"\"var a = \"hello world\" \n",
    "print(\"hello\", \"a\")\"\"\"\n",
    "\n",
    "\n",
    "txt=re.sub('\\n','',txt)        \n",
    "results=[]\n",
    "buffer=[]\n",
    "for char in txt:\n",
    "    if char.isalpha()==False:\n",
    "        if char!=' ':\n",
    "            results.append(char)\n",
    "        if len(buffer)>0:\n",
    "            results.append(\"\".join(buffer))\n",
    "        buffer.clear()\n",
    "    else:\n",
    "        buffer.append(char)\n",
    "        \n",
    "print(results)\n"
   ]
  },
  {
   "cell_type": "code",
   "execution_count": 9,
   "id": "485f4b6f",
   "metadata": {},
   "outputs": [
    {
     "name": "stdout",
     "output_type": "stream",
     "text": [
      "convert to the year and quarter\n",
      "     yrmo DIST_PERIOD\n",
      "0  202101       20211\n",
      "1  202102       20211\n",
      "2  202103       20211\n",
      "3  202104       20212\n",
      "4  202105       20212\n",
      "5  202106       20212\n",
      "6  202109       20213\n",
      "7  202111       20214\n"
     ]
    }
   ],
   "source": [
    "print(\"convert to the year and quarter\")\n",
    "data='''yrmo\n",
    "202101\n",
    "202102\n",
    "202103\n",
    "202104\n",
    "202105\n",
    "202106\n",
    "202109\n",
    "202111'''\n",
    "df = pd.read_csv(io.StringIO(data), sep=' \\s+', engine='python')\n",
    "month_year=pd.to_datetime(df['yrmo'],format=\"%Y%m\")\n",
    "df['DIST_PERIOD'] = month_year.dt.to_period(\"Q\").dt.strftime('%Y%q')\n",
    "print(df)"
   ]
  },
  {
   "cell_type": "code",
   "execution_count": 10,
   "id": "96846d78",
   "metadata": {},
   "outputs": [
    {
     "name": "stdout",
     "output_type": "stream",
     "text": [
      "['apple', 'orange ca', 'pear', 'banana']\n"
     ]
    }
   ],
   "source": [
    "list_of_strings = [\"apple\", \"orange ca\", \"pear  sa\", \"banana    sth\"]\n",
    "\n",
    "my_list=[]\n",
    "def find_phrase(list_of_strings):\n",
    "    for string in list_of_strings:\n",
    "        matches=re.findall(r\"(\\w+)( \\w+)*\", string)\n",
    "        if len(matches)>0:\n",
    "            my_list.append(\"\".join([matches[0][0],matches[0][1]]))\n",
    "    return my_list\n",
    "            \n",
    "print(find_phrase(list_of_strings))"
   ]
  },
  {
   "cell_type": "code",
   "execution_count": 11,
   "id": "44273597",
   "metadata": {},
   "outputs": [
    {
     "name": "stdout",
     "output_type": "stream",
     "text": [
      "('', 'private', '')\n",
      "('', '', 'protected')\n",
      "('public', '', '')\n"
     ]
    }
   ],
   "source": [
    "txt=\"a b c private d e f g protected h i j k public l m n o p\"\n",
    "\n",
    "pattern=r\"(public)|(private)|(protected)\"\n",
    "\n",
    "matches=re.findall(pattern,txt)\n",
    "for match in matches:\n",
    "    print(match)"
   ]
  },
  {
   "cell_type": "code",
   "execution_count": 12,
   "id": "bb4e106d",
   "metadata": {},
   "outputs": [
    {
     "name": "stdout",
     "output_type": "stream",
     "text": [
      "Look behind for the phrase MFG:\n",
      " acme\n",
      " initech\n"
     ]
    }
   ],
   "source": [
    "print(\"Look behind for the phrase MFG:\")\n",
    "txt=\"MFG: acme, something else, MFG: initech\"\n",
    "pattern=r\"(?<=MFG\\:)\\s+\\w+\"\n",
    "matches=re.findall(pattern,txt)\n",
    "for match in matches:\n",
    "    print(match)"
   ]
  },
  {
   "cell_type": "code",
   "execution_count": 13,
   "id": "266dcd4b",
   "metadata": {},
   "outputs": [
    {
     "name": "stdout",
     "output_type": "stream",
     "text": [
      "america <re.Match object; span=(0, 2), match='am'>\n",
      "e None\n",
      "E None\n",
      "world <re.Match object; span=(0, 5), match='world'>\n",
      "hello <re.Match object; span=(0, 1), match='h'>\n",
      "welcome <re.Match object; span=(0, 1), match='w'>\n",
      "board <re.Match object; span=(0, 5), match='board'>\n",
      "know <re.Match object; span=(0, 4), match='know'>\n"
     ]
    }
   ],
   "source": [
    "strs = ['america','e', 'E', 'world','hello','welcome','board','know']\n",
    "pattern=\"(?:(?!e)[a-z])+\"\n",
    "for item in strs:\n",
    "    print(item,re.search(pattern,item))\n"
   ]
  },
  {
   "cell_type": "code",
   "execution_count": 14,
   "id": "534ea855",
   "metadata": {},
   "outputs": [
    {
     "name": "stdout",
     "output_type": "stream",
     "text": [
      "    user_id  cat_id  prod_id     score  pref_prod\n",
      "0     29762       9     3115  1.000000      335.0\n",
      "1     29762      58     1335  1.000000      335.0\n",
      "2    234894      58     1335  1.000000      335.0\n",
      "3    413276      43     1388  1.000000      335.0\n",
      "4    413276      58      335  1.000000      335.0\n",
      "5    413276      73       26  1.000000      335.0\n",
      "6   9280593       9      137  1.000000      335.0\n",
      "7   9280593      58     1335  1.000000      335.0\n",
      "8   9280593      74      160  1.000000      335.0\n",
      "9   4554542      66     1612  0.166667      197.0\n",
      "10  4554542      66     1406  0.166767      197.0\n",
      "11  4554542      66     2021  1.000000      197.0\n",
      "records:[{'user_id': 29762,'cat_id': 9,'prod_id': 3115,'score': 1.0,'pref_prod': 335.0,},{'user_id': 29762,'cat_id': 58,'prod_id': 1335,'score': 1.0,'pref_prod': 335.0,},{'user_id': 234894,'cat_id': 58,'prod_id': 1335,'score': 1.0,'pref_prod': 335.0,},{'user_id': 413276,'cat_id': 43,'prod_id': 1388,'score': 1.0,'pref_prod': 335.0,},{'user_id': 413276,'cat_id': 58,'prod_id': 335,'score': 1.0,'pref_prod': 335.0,},{'user_id': 413276,'cat_id': 73,'prod_id': 26,'score': 1.0,'pref_prod': 335.0,},{'user_id': 9280593,'cat_id': 9,'prod_id': 137,'score': 1.0,'pref_prod': 335.0,},{'user_id': 9280593,'cat_id': 58,'prod_id': 1335,'score': 1.0,'pref_prod': 335.0,},{'user_id': 9280593,'cat_id': 74,'prod_id': 160,'score': 1.0,'pref_prod': 335.0,},{'user_id': 4554542,'cat_id': 66,'prod_id': 1612,'score': 0.166667,'pref_prod': 197.0,},{'user_id': 4554542,'cat_id': 66,'prod_id': 1406,'score': 0.166767,'pref_prod': 197.0,},{'user_id': 4554542,'cat_id': 66,'prod_id': 2021,'score': 1.0,'pref_prod': 197.0,},]\n"
     ]
    }
   ],
   "source": [
    "data=\"\"\"user_id,cat_id,prod_id,score,pref_prod\n",
    "    29762,9,3115,1.000000,335.0\n",
    "    29762,58,1335,1.000000,335.0\n",
    "    234894,58,1335,1.000000,335.0\n",
    "    413276,43,1388,1.000000,335.0\n",
    "    413276,58,335,1.000000,335.0\n",
    "    413276,73,26,1.000000,335.0\n",
    "    9280593,9,137,1.000000,335.0\n",
    "    9280593,58,1335,1.000000,335.0\n",
    "    9280593,74,160,1.000000,335.0\n",
    "    4554542,66,1612,0.166667,197.0\n",
    "    4554542,66,1406,0.166767,197.0\n",
    "    4554542,66,2021,1.000000,197.0\"\"\"\n",
    "\n",
    "df = pd.read_csv(io.StringIO(data), sep=',')\n",
    "print(df)\n",
    "\n",
    "\n",
    "Record=namedtuple('Generic',['user_id','cat_id','prod_id','score','pref_prod'])\n",
    "\n",
    "def map_to_record(row):\n",
    "    return Record(row.user_id, row.cat_id, row.prod_id,row.score,row.pref_prod)\n",
    "\n",
    "my_list = list(map(map_to_record, df.itertuples()))\n",
    "\n",
    "def named_tuple_to_json(named_tuple):\n",
    "    \"\"\"\n",
    "    convert a named tuple to a json tree structure\n",
    "    \"\"\"\n",
    "    json_string=\"records:[\"\n",
    "    for record in named_tuple:\n",
    "        json_string+=\"{\"\n",
    "        json_string+=\"'user_id': {},'cat_id': {},'prod_id': {},'score': {},'pref_prod': {},\".format(\n",
    "        record.user_id,record.cat_id,record.prod_id,record.score,record.pref_prod)\n",
    "        json_string+=\"},\"\n",
    "    json_string+=\"]\"\n",
    "    return json_string\n",
    "\n",
    "# convert the list of named tuples to a json tree structure\n",
    "json_tree = named_tuple_to_json(my_list)\n",
    "print(json_tree)"
   ]
  },
  {
   "cell_type": "code",
   "execution_count": 15,
   "id": "d7a222bc",
   "metadata": {},
   "outputs": [
    {
     "name": "stdout",
     "output_type": "stream",
     "text": [
      "   Record ID    Record Name        Record Start          Record End  Count\n",
      "0          1    SMITH, JOHN 2020-10-20 08:00:00 2020-10-20 09:30:00    1.0\n",
      "1          2    SMITH, JOHN 2020-10-20 09:20:00 2020-10-20 10:30:00    2.0\n",
      "2          3    SMITH, JOHN 2020-10-20 10:20:00 2020-10-20 11:00:00    3.0\n",
      "3          4  COOPER, ALLEN 2020-10-20 13:00:00 2020-10-20 14:15:00    1.0\n",
      "4          5    PEREZ, HILL 2020-10-20 15:15:00 2020-10-20 16:00:00    1.0\n",
      "5          6    SMITH, JOHN 2021-10-04 08:00:00 2021-10-20 09:30:00    1.0\n",
      "6          7    SMITH, JOHN 2021-10-04 09:20:00 2021-10-20 10:30:00    2.0\n",
      "7          8    SMITH, JOHN 2021-10-04 11:20:00 2021-10-20 12:00:00    3.0\n",
      "8          9   SMITH, JOHN  2021-10-04 13:00:00 2021-10-20 14:15:00    1.0\n",
      "9         10    SMITH, JOHN 2021-10-04 15:15:00 2021-10-20 16:00:00    1.0\n"
     ]
    }
   ],
   "source": [
    "#1;SMITH, JOHN;10/20/20 8:00 AM;10/20/20 9:30 AM\n",
    "#2;SMITH, JOHN;10/20/20 9:20 AM;10/20/20 10:30 AM\n",
    "#3;SMITH, JOHN;10/20/20 10:20 AM;10/20/20 11:00 AM\n",
    "#4;COOPER, ALLEN;10/20/20 1:00 PM;10/20/20 2:15 PM\n",
    "#5;PEREZ, HILL;10/20/20 3:15 PM;10/20/20 4:00 PM\n",
    "#6;SMITH, JOHN;10/4/21 8:00 AM;10/20/21 9:30 AM\n",
    "#7;SMITH, JOHN;10/4/21 9:20 AM;10/20/21 10:30 AM\n",
    "#8;SMITH, JOHN;10/4/21 11:20 AM;10/20/21 12:00 PM\n",
    "#9;SMITH, JOHN ;10/4/21 1:00 PM;10/20/21 2:15 PM\n",
    "#10;SMITH, JOHN;10/4/21 3:15 PM;10/20/21 4:00 PM\n",
    "\n",
    "df = pd.read_csv(io.StringIO(\"\"\"\n",
    "Record ID;Record Name;Record Start;Record End\n",
    "1;SMITH, JOHN;10/20/20 8:00 AM;10/20/20 9:30 AM\n",
    "2;SMITH, JOHN;10/20/20 9:20 AM;10/20/20 10:30 AM\n",
    "3;SMITH, JOHN;10/20/20 10:20 AM;10/20/20 11:00 AM\n",
    "4;COOPER, ALLEN;10/20/20 1:00 PM;10/20/20 2:15 PM\n",
    "5;PEREZ, HILL;10/20/20 3:15 PM;10/20/20 4:00 PM\n",
    "6;SMITH, JOHN;10/4/21 8:00 AM;10/20/21 9:30 AM\n",
    "7;SMITH, JOHN;10/4/21 9:20 AM;10/20/21 10:30 AM\n",
    "8;SMITH, JOHN;10/4/21 11:20 AM;10/20/21 12:00 PM\n",
    "9;SMITH, JOHN ;10/4/21 1:00 PM;10/20/21 2:15 PM\n",
    "10;SMITH, JOHN;10/4/21 3:15 PM;10/20/21 4:00 PM\n",
    "\"\"\"),sep=';')\n",
    "\n",
    "df['Record Start']=pd.to_datetime(df['Record Start'])\n",
    "df['Record End']=pd.to_datetime(df['Record End'])\n",
    "\n",
    "def create_datetime(date,hour,minute,second):\n",
    "    month=date.month\n",
    "    day=date.day\n",
    "    year=date.year\n",
    "    #month = int(txt.split(\"/\")[0])\n",
    "    #day = int(txt.split(\"/\")[1])\n",
    "    #year = int(\"20\"+txt.split(\"/\")[2].split(\" \")[0])\n",
    "    # datetime(year, month, day, hour, minute, second, microsecond)\n",
    "    return datetime(year=year,month=month,day=day,hour=hour,minute=minute,second=second,microsecond=0)\n",
    "\n",
    "def get_minutes(row):\n",
    "    #start = datetime.strptime(row['Record Start'], '%m/%d/%y %H:%M %p')\n",
    "    start=row['Record Start']\n",
    "    start_end_of_day=create_datetime(row['Record Start'],23,59,59)\n",
    "   \n",
    "    #end = datetime.strptime(row['Record End'], '%m/%d/%y %H:%M %p')\n",
    "    end = row['Record End']\n",
    "    end_beginning_of_day=create_datetime(row['Record End'], 0,0,0)\n",
    "    \n",
    "    results=[start + timedelta(minutes=x) for x in range(0, round((end-start).total_seconds()//60)+1)]\n",
    "      \n",
    "    #for item in results:\n",
    "    #    print(item)\n",
    "    #sys.exit()\n",
    "    return results\n",
    "\n",
    "df['minutes'] = df.apply(get_minutes, axis=1)\n",
    "\n",
    "def intersection(lst1, lst2):\n",
    "    return list(set(lst1) & set(lst2))\n",
    "\n",
    "prev_row=None\n",
    "for index,row in df.iterrows():\n",
    "    if index==0:\n",
    "        df.loc[index,'Count']=1\n",
    "    else:\n",
    "        prev_row=df.iloc[index-1]\n",
    "        \n",
    "    if not prev_row is None:\n",
    "        if prev_row['Record Name']==row['Record Name']:\n",
    "            count=prev_row['Count']\n",
    "            lst1=row['minutes']\n",
    "            lst2=prev_row['minutes']\n",
    "            if len(intersection(lst1,lst2))>0:\n",
    "                df.loc[index,'Count']=count+1\n",
    "            else:\n",
    "                df.loc[index,'Count']=1\n",
    "        else:\n",
    "            df.loc[index,'Count']=1\n",
    "        \n",
    "#print(df[df['Count']>=3])   \n",
    "print(df[['Record ID','Record Name', 'Record Start','Record End','Count']])\n",
    "        \n"
   ]
  },
  {
   "cell_type": "code",
   "execution_count": 16,
   "id": "83de4b83",
   "metadata": {},
   "outputs": [
    {
     "name": "stdout",
     "output_type": "stream",
     "text": [
      "10 4 21\n"
     ]
    }
   ],
   "source": [
    "pattern=r'(\\d{1,2})\\/(\\d{1,2})\\/(\\d{4}).*?'\n",
    "\n",
    "txt=\"10/4/21 8:00 AM\"\n",
    "month = txt.split(\"/\")[0]\n",
    "day = txt.split(\"/\")[1]\n",
    "year = txt.split(\"/\")[2].split(\" \")[0]\n",
    "print(month,day,year)\n"
   ]
  },
  {
   "cell_type": "code",
   "execution_count": 17,
   "id": "6defd2ae",
   "metadata": {},
   "outputs": [
    {
     "name": "stdout",
     "output_type": "stream",
     "text": [
      "[{1, 10}, {4, 7}]\n",
      "[{1, 4}]\n",
      "[{1, 3}, {2}]\n",
      "[{1, 2}, {3, 4}]\n",
      "   id              value\n",
      "0  a1  [{1, 10}, {4, 7}]\n",
      "1  b4           [{1, 4}]\n",
      "2  c5      [{1, 3}, {2}]\n",
      "3  k2   [{1, 2}, {3, 4}]\n"
     ]
    }
   ],
   "source": [
    "txt=\"\"\"id     value\n",
    "a1     0:0,1:10,2:0,3:0,4:7\n",
    "b4     0:5,1:0,2:0,3:0,4:1\n",
    "c5     0:0,1:3,2:2,3:0,4:0\n",
    "k2     0:0,1:2,2:0,3:4,4:0 \"\"\"\n",
    "\n",
    "df = pd.DataFrame({\"id\":[\"a1\", \"b4\", \"c5\", \"k2\"], \n",
    "                   \"value\":[\"0:0,1:10,2:0,3:0,4:7\",\"0:5,1:0,2:0,3:0,4:1\",\"0:0,1:3,2:2,3:0,4:0\",\"0:0,1:2,2:0,3:4,4:0\"]})\n",
    "\n",
    "#print(df)\n",
    "\n",
    "\n",
    "for key,row in df.iterrows():\n",
    "    results=[]\n",
    "    {results.append({int(k),int(v)}) if int(k)!=0 and int(v)!=0 else None for k,v in (x.split(':') for x in row['value'].split(','))}\n",
    "    print(results)\n",
    "    df.loc[key,'value']=results\n",
    "    \n",
    "print(df)"
   ]
  },
  {
   "cell_type": "code",
   "execution_count": 18,
   "id": "1b43c1ba",
   "metadata": {},
   "outputs": [
    {
     "name": "stdout",
     "output_type": "stream",
     "text": [
      "   VIXCLS  Percent_Change   Cumulative                                 2item\n",
      "0   17.24        0.000000  1000.000000  AxesSubplot(0.125,0.125;0.775x0.755)\n",
      "1   18.19        0.055104  1055.104408  AxesSubplot(0.125,0.125;0.775x0.755)\n",
      "2   19.22        0.056625  1114.849188  AxesSubplot(0.125,0.125;0.775x0.755)\n",
      "3   20.11        0.046306  1166.473318  AxesSubplot(0.125,0.125;0.775x0.755)\n",
      "4   20.26        0.007459  1175.174014  AxesSubplot(0.125,0.125;0.775x0.755)\n",
      "5   22.20        0.095755  1287.703016  AxesSubplot(0.125,0.125;0.775x0.755)\n",
      "6   22.44        0.010811  1301.624130  AxesSubplot(0.125,0.125;0.775x0.755)\n",
      "7   20.05       -0.106506  1162.993039  AxesSubplot(0.125,0.125;0.775x0.755)\n"
     ]
    },
    {
     "data": {
      "image/png": "[encoded data removed]",
      "text/plain": [
       "<Figure size 432x288 with 1 Axes>"
      ]
     },
     "metadata": {
      "needs_background": "light"
     },
     "output_type": "display_data"
    }
   ],
   "source": [
    "data=[17.24,18.19,19.22,20.11,20.26,22.2,22.44,20.05]\n",
    "df=pd.DataFrame({'VIXCLS':data})\n",
    "df['Percent_Change']=df['VIXCLS'].pct_change().fillna(0)\n",
    "\n",
    "amount=1000\n",
    "\n",
    "returns_plus_one=df['Percent_Change']+1\n",
    "cumulative_return = returns_plus_one.cumprod()\n",
    "\n",
    "df['Cumulative']=cumulative_return.mul(amount)\n",
    "\n",
    "df['2item']=df['Cumulative'].rolling(window=2).mean().plot()\n",
    "\n",
    "print(df)"
   ]
  },
  {
   "cell_type": "code",
   "execution_count": 31,
   "id": "b02a3b46",
   "metadata": {},
   "outputs": [
    {
     "name": "stdout",
     "output_type": "stream",
     "text": [
      "Index(['1-01', '1-02', '1-03', '1-04', '1-05', '1-06', '1-07', '1-08', '1-09',\n",
      "       '1-10', '1-11', '1-12', '2-01', '2-02', '2-03', '2-04', '2-05', '2-06',\n",
      "       '2-07', '2-08', '2-09', '2-10', '2-11', '2-12', '3-01', '3-02', '3-03',\n",
      "       '3-04', '3-05', '3-06', '3-07', '3-08', '3-09', '3-10', '3-11', '3-12'],\n",
      "      dtype='object', name='Month')\n"
     ]
    },
    {
     "data": {
      "image/png": "[encoded data removed]",
      "text/plain": [
       "<Figure size 432x288 with 1 Axes>"
      ]
     },
     "metadata": {
      "needs_background": "light"
     },
     "output_type": "display_data"
    }
   ],
   "source": [
    "df=pd.read_csv('shampoo.csv',parse_dates=['Month'])\n",
    "#print(df.columns)\n",
    "pivot=df.pivot_table(index=['Month'],values=['Sales'],aggfunc=np.sum)\n",
    "print(pivot.index)\n",
    "plt.plot(pivot.index,pivot.values)\n",
    "plt.xticks(rotation=90)\n",
    "plt.show()"
   ]
  },
  {
   "cell_type": "code",
   "execution_count": 40,
   "id": "28e17b20",
   "metadata": {},
   "outputs": [
    {
     "name": "stdout",
     "output_type": "stream",
     "text": [
      "   id                time       time_diff\n",
      "0   2 2021-11-16 22:17:46 0 days 00:13:02\n",
      "1   2 2021-11-16 22:19:02 0 days 00:13:02\n",
      "2   2 2021-11-16 22:06:00 0 days 00:13:02\n",
      "3   4 2021-11-16 22:18:06 0 days 00:00:00\n",
      "4   4 2021-11-16 22:18:06 0 days 00:00:00\n"
     ]
    }
   ],
   "source": [
    "data = {'id': [2, 2, 2, 4, 4], 'time': ['22:17:46', '22:19:02', '22:06:00', '22:18:06', '22:18:06']}\n",
    "df=pd.DataFrame.from_dict(data)\n",
    "\n",
    "df['time'] = pd.to_datetime(df['time'])\n",
    "df['time_diff'] = df.groupby('id')['time'].transform(lambda x: x.max() - x.min())\n",
    "\n",
    "#grouped=df.groupby('id')['time'].agg(['min', 'max'])\n",
    "#for item in grouped.items():\n",
    "#    print(item['min'],item['max'])\n",
    "\n",
    "print(df)"
   ]
  },
  {
   "cell_type": "code",
   "execution_count": 70,
   "id": "b1d9895f",
   "metadata": {},
   "outputs": [
    {
     "name": "stdout",
     "output_type": "stream",
     "text": [
      "include only rows landing on wednesday \n",
      "2020-02-05   -0.589629\n",
      "2020-02-12    0.934049\n",
      "2020-02-19   -0.894172\n",
      "2020-02-26    0.555044\n",
      "2020-03-04    0.763415\n",
      "2020-03-11    1.066615\n",
      "2020-03-18   -0.020870\n",
      "2020-03-25   -0.918285\n",
      "2020-04-01    0.360297\n",
      "2020-04-08    1.253456\n",
      "2020-04-15    1.440589\n",
      "2020-04-22   -0.045021\n",
      "2020-04-29   -0.949664\n",
      "2020-05-06    2.286289\n",
      "2020-05-13    0.513542\n",
      "2020-05-20    0.281833\n",
      "2020-05-27   -0.567977\n",
      "2020-06-03    0.539613\n",
      "2020-06-10    1.009267\n",
      "2020-06-17   -0.733058\n",
      "2020-06-24    0.301387\n",
      "2020-07-01   -0.190711\n",
      "2020-07-08    1.067948\n",
      "2020-07-15    1.378977\n",
      "2020-07-22    0.047785\n",
      "2020-07-29    0.413142\n",
      "2020-08-05    0.251642\n",
      "2020-08-12    0.912417\n",
      "2020-08-19    0.246275\n",
      "2020-08-26   -0.972854\n",
      "2020-09-02    1.655900\n",
      "2020-09-09   -0.886035\n",
      "2020-09-16    0.331972\n",
      "2020-09-23    0.887828\n",
      "2020-09-30   -2.133704\n",
      "2020-10-07    1.423253\n",
      "2020-10-14   -0.419888\n",
      "2020-10-21    0.526046\n",
      "2020-10-28   -0.665465\n",
      "2020-11-04   -1.147253\n",
      "2020-11-11    2.288207\n",
      "2020-11-18    0.971791\n",
      "2020-11-25   -2.825367\n",
      "dtype: float64\n"
     ]
    }
   ],
   "source": [
    "print('include only rows landing on wednesday ')\n",
    "\n",
    "days = ['Monday', 'Tuesday', 'Wednesday', 'Thursday', 'Friday', 'Saturday', 'Sunday']\n",
    "\n",
    "indices = pd.date_range(start='feb 01 2020', end='nov 30 2020', freq='D')\n",
    "sr=pd.Series(index=indices, data=np.random.randn(indices.shape[0]))\n",
    "print(sr[sr.index.dayofweek == 2])"
   ]
  },
  {
   "cell_type": "code",
   "execution_count": null,
   "id": "76ac8349",
   "metadata": {},
   "outputs": [],
   "source": []
  }
 ],
 "metadata": {
  "kernelspec": {
   "display_name": "Python 3 (ipykernel)",
   "language": "python",
   "name": "python3"
  },
  "language_info": {
   "codemirror_mode": {
    "name": "ipython",
    "version": 3
   },
   "file_extension": ".py",
   "mimetype": "text/x-python",
   "name": "python",
   "nbconvert_exporter": "python",
   "pygments_lexer": "ipython3",
   "version": "3.8.12"
  }
 },
 "nbformat": 4,
 "nbformat_minor": 5
}
