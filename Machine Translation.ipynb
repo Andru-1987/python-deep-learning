{
 "cells": [
  {
   "cell_type": "code",
   "execution_count": 2,
   "metadata": {},
   "outputs": [
    {
     "name": "stderr",
     "output_type": "stream",
     "text": [
      "C:\\Users\\dnishimoto.BOISE\\AppData\\Local\\Continuum\\anaconda3\\envs\\deeplearning\\lib\\site-packages\\tensorflow\\python\\framework\\dtypes.py:526: FutureWarning: Passing (type, 1) or '1type' as a synonym of type is deprecated; in a future version of numpy, it will be understood as (type, (1,)) / '(1,)type'.\n",
      "  _np_qint8 = np.dtype([(\"qint8\", np.int8, 1)])\n",
      "C:\\Users\\dnishimoto.BOISE\\AppData\\Local\\Continuum\\anaconda3\\envs\\deeplearning\\lib\\site-packages\\tensorflow\\python\\framework\\dtypes.py:527: FutureWarning: Passing (type, 1) or '1type' as a synonym of type is deprecated; in a future version of numpy, it will be understood as (type, (1,)) / '(1,)type'.\n",
      "  _np_quint8 = np.dtype([(\"quint8\", np.uint8, 1)])\n",
      "C:\\Users\\dnishimoto.BOISE\\AppData\\Local\\Continuum\\anaconda3\\envs\\deeplearning\\lib\\site-packages\\tensorflow\\python\\framework\\dtypes.py:528: FutureWarning: Passing (type, 1) or '1type' as a synonym of type is deprecated; in a future version of numpy, it will be understood as (type, (1,)) / '(1,)type'.\n",
      "  _np_qint16 = np.dtype([(\"qint16\", np.int16, 1)])\n",
      "C:\\Users\\dnishimoto.BOISE\\AppData\\Local\\Continuum\\anaconda3\\envs\\deeplearning\\lib\\site-packages\\tensorflow\\python\\framework\\dtypes.py:529: FutureWarning: Passing (type, 1) or '1type' as a synonym of type is deprecated; in a future version of numpy, it will be understood as (type, (1,)) / '(1,)type'.\n",
      "  _np_quint16 = np.dtype([(\"quint16\", np.uint16, 1)])\n",
      "C:\\Users\\dnishimoto.BOISE\\AppData\\Local\\Continuum\\anaconda3\\envs\\deeplearning\\lib\\site-packages\\tensorflow\\python\\framework\\dtypes.py:530: FutureWarning: Passing (type, 1) or '1type' as a synonym of type is deprecated; in a future version of numpy, it will be understood as (type, (1,)) / '(1,)type'.\n",
      "  _np_qint32 = np.dtype([(\"qint32\", np.int32, 1)])\n",
      "C:\\Users\\dnishimoto.BOISE\\AppData\\Local\\Continuum\\anaconda3\\envs\\deeplearning\\lib\\site-packages\\tensorflow\\python\\framework\\dtypes.py:535: FutureWarning: Passing (type, 1) or '1type' as a synonym of type is deprecated; in a future version of numpy, it will be understood as (type, (1,)) / '(1,)type'.\n",
      "  np_resource = np.dtype([(\"resource\", np.ubyte, 1)])\n"
     ]
    }
   ],
   "source": [
    "from tensorflow.python.keras.utils import to_categorical\n",
    "import tensorflow.keras as keras\n",
    "import numpy as np\n",
    "from tensorflow.keras.layers import Input, RepeatVector,Dense\n",
    "from tensorflow.keras.models import Model\n",
    "from tensorflow.keras.initializers import RandomNormal"
   ]
  },
  {
   "cell_type": "code",
   "execution_count": 4,
   "metadata": {},
   "outputs": [
    {
     "name": "stdout",
     "output_type": "stream",
     "text": [
      "reverse the sentence\n",
      "[[1. 0. 0.]\n",
      " [0. 1. 0.]\n",
      " [0. 0. 1.]]\n",
      "[0 1 2]\n",
      "[[0. 0. 1.]\n",
      " [0. 1. 0.]\n",
      " [1. 0. 0.]]\n",
      "['milk', 'drank', 'He']\n"
     ]
    }
   ],
   "source": [
    "print('reverse the sentence')\n",
    "def words2onehot(word_list, word2index):\n",
    "    word_ids=[word2index[w] for w in word_list]\n",
    "    onehot = to_categorical(word_ids,3)\n",
    "    return onehot\n",
    "\n",
    "def encoder(onehot):\n",
    "    word_ids=np.argmax(onehot,axis=1)\n",
    "    return word_ids\n",
    "\n",
    "def decoder(context_vector):\n",
    "    word_ids_rev = context_vector[::-1]\n",
    "    onehot_rev = to_categorical(word_ids_rev,3)\n",
    "    return onehot_rev\n",
    "\n",
    "def onehot2words(onehot,index2word):\n",
    "    ids=np.argmax(onehot,axis=1)\n",
    "    return [index2word[id] for id in ids]\n",
    "\n",
    "word2index = {\"He\":0, \"drank\": 1, \"milk\": 2}\n",
    "index2word={}\n",
    "for k,v in word2index.items():\n",
    "    index2word[v]=k\n",
    "onehot = words2onehot([\"He\",\"drank\",\"milk\"],word2index)\n",
    "print(onehot)\n",
    "context=encoder(onehot)\n",
    "print(context)\n",
    "onehot=decoder(context)\n",
    "print(onehot)\n",
    "output=onehot2words(onehot,index2word)\n",
    "print(output)"
   ]
  },
  {
   "cell_type": "code",
   "execution_count": 42,
   "metadata": {},
   "outputs": [
    {
     "name": "stdout",
     "output_type": "stream",
     "text": [
      "You will then use the model to produce output values for a random input array.\n",
      "batch shape\n",
      "shape (y) = (3, 10) \n",
      "y = \n",
      " [[-0.0468959   0.38583383 -0.08538818 -0.3008589  -0.14826986 -0.38742658\n",
      "  -0.26924223  0.19452485 -0.4177479   0.22105226]\n",
      " [-0.00633644  0.22847392  0.31598562 -0.37652582 -0.2800822  -0.37632835\n",
      "  -0.495751    0.18387166 -0.15359062 -0.09455939]\n",
      " [-0.01560704  0.06019296  0.0133296  -0.03632982 -0.01499172 -0.01217896\n",
      "   0.04217295 -0.03592676 -0.04392115  0.01793264]]\n"
     ]
    }
   ],
   "source": [
    "print(\"You will then use the model to produce output values for a random input array.\")\n",
    "print(\"batch shape\")\n",
    "inp = keras.layers.Input(batch_shape=(3,3,4))\n",
    "gru_out = keras.layers.GRU(10)(inp)\n",
    "# Define a model that outputs the GRU output\n",
    "model = keras.models.Model(inputs=inp, outputs=gru_out)\n",
    "\n",
    "x = np.random.normal(size=(3,3,4))\n",
    "# Get the output of the model and print the result\n",
    "y = model.predict(x)\n",
    "print(\"shape (y) =\", y.shape, \"\\ny = \\n\", y)\n"
   ]
  },
  {
   "cell_type": "code",
   "execution_count": 43,
   "metadata": {},
   "outputs": [
    {
     "name": "stdout",
     "output_type": "stream",
     "text": [
      "using shape allows you to dynamic change the batch size\n",
      "shape (y) = (5, 10) \n",
      "y = \n",
      " [[ 0.28790182 -0.08778092 -0.3947451   0.08208252  0.47034615  0.19104251\n",
      "   0.5588158   0.19082893  0.34927076  0.20443696]\n",
      " [ 0.00722254 -0.00360633  0.21764058  0.20450704 -0.08853464 -0.05885381\n",
      "   0.1363178   0.05405368 -0.18733037  0.06652743]\n",
      " [ 0.15484947  0.02762293 -0.2907805  -0.4547437   0.27811003  0.02760975\n",
      "   0.07876462  0.20634882  0.37222385 -0.07333589]\n",
      " [ 0.00810948  0.01563453 -0.07805486  0.01032428  0.01103292  0.1591216\n",
      "   0.09145151 -0.1654509   0.12341884  0.18157804]\n",
      " [-0.18695843  0.18865353  0.26381043  0.20169011 -0.47334808 -0.03242009\n",
      "  -0.15041012 -0.21761993 -0.27158606  0.00424054]]\n"
     ]
    }
   ],
   "source": [
    "print(\"using shape allows you to dynamic change the batch size\")\n",
    "inp = keras.layers.Input(shape=(3,4))\n",
    "gru_out,gru_state = keras.layers.GRU(10, return_state=True)(inp)\n",
    "# Define a model that outputs the GRU output\n",
    "model = keras.models.Model(inputs=inp, outputs=gru_out)\n",
    "\n",
    "x = np.random.normal(size=(5,3,4))\n",
    "# Get the output of the model and print the result\n",
    "y = model.predict(x)\n",
    "print(\"shape (y) =\", y.shape, \"\\ny = \\n\", y)\n"
   ]
  },
  {
   "cell_type": "code",
   "execution_count": 51,
   "metadata": {},
   "outputs": [
    {
     "name": "stdout",
     "output_type": "stream",
     "text": [
      "[[[0. 1. 2.]\n",
      "  [0. 1. 2.]\n",
      "  [0. 1. 2.]\n",
      "  [0. 1. 2.]\n",
      "  [0. 1. 2.]]\n",
      "\n",
      " [[3. 4. 5.]\n",
      "  [3. 4. 5.]\n",
      "  [3. 4. 5.]\n",
      "  [3. 4. 5.]\n",
      "  [3. 4. 5.]]]\n",
      "x.shape =  (2, 3) \n",
      "y.shape = (2, 5, 3)\n"
     ]
    }
   ],
   "source": [
    "rep=RepeatVector(5)\n",
    "r_inp=Input(shape=(3,))\n",
    "r_out = RepeatVector(5)(r_inp)\n",
    "repeat_model = keras.models.Model(inputs=r_inp, outputs=r_out)\n",
    "x= np.array([[0,1,2],[3,4,5]])\n",
    "y=repeat_model.predict(x)\n",
    "print(y)\n",
    "print('x.shape = ',x.shape, '\\ny.shape =', y.shape)\n"
   ]
  },
  {
   "cell_type": "code",
   "execution_count": 61,
   "metadata": {},
   "outputs": [
    {
     "name": "stdout",
     "output_type": "stream",
     "text": [
      "_________________________________________________________________\n",
      "Layer (type)                 Output Shape              Param #   \n",
      "=================================================================\n",
      "input_21 (InputLayer)        (None, 15, 150)           0         \n",
      "_________________________________________________________________\n",
      "gru_15 (GRU)                 [(None, 48), (None, 48)]  28656     \n",
      "=================================================================\n",
      "Total params: 28,656\n",
      "Trainable params: 28,656\n",
      "Non-trainable params: 0\n",
      "_________________________________________________________________\n",
      "None\n",
      "__________________________________________________________________________________________________\n",
      "Layer (type)                    Output Shape         Param #     Connected to                     \n",
      "==================================================================================================\n",
      "input_21 (InputLayer)           (None, 15, 150)      0                                            \n",
      "__________________________________________________________________________________________________\n",
      "gru_15 (GRU)                    [(None, 48), (None,  28656       input_21[0][0]                   \n",
      "__________________________________________________________________________________________________\n",
      "repeat_vector_15 (RepeatVector) (None, 20, 48)       0           gru_15[0][1]                     \n",
      "__________________________________________________________________________________________________\n",
      "gru_16 (GRU)                    (None, 20, 48)       13968       repeat_vector_15[0][0]           \n",
      "                                                                 gru_15[0][1]                     \n",
      "==================================================================================================\n",
      "Total params: 42,624\n",
      "Trainable params: 42,624\n",
      "Non-trainable params: 0\n",
      "__________________________________________________________________________________________________\n",
      "None\n"
     ]
    }
   ],
   "source": [
    "\n",
    "en_len = 15\n",
    "en_vocab = 150\n",
    "hsize = 48\n",
    "\n",
    "# Define an input layer\n",
    "en_inputs = keras.layers.Input(shape=(en_len,en_vocab))\n",
    "# Define a GRU layer which returns the state\n",
    "en_gru = keras.layers.GRU(hsize, return_state=True)\n",
    "# Get the output and state from the GRU\n",
    "en_out,en_state = en_gru(en_inputs)\n",
    "# Define and print the model summary\n",
    "encoder = keras.models.Model(inputs=en_inputs, outputs=en_state)\n",
    "\n",
    "hsize = 48\n",
    "fr_len = 20\n",
    "# Define a RepeatVector layer\n",
    "de_inputs = RepeatVector(fr_len)(en_state)\n",
    "# Define a GRU model that returns all outputs\n",
    "decoder_gru = keras.layers.GRU(hsize, return_sequences=True)\n",
    "# Get the outputs of the decoder\n",
    "gru_outputs = decoder_gru(de_inputs, initial_state=en_state)\n",
    "# Define a model with the correct inputs and outputs\n",
    "enc_dec = Model(inputs=en_inputs, outputs=gru_outputs)\n",
    "\n",
    "print(encoder.summary())\n",
    "print(enc_dec.summary())"
   ]
  },
  {
   "cell_type": "code",
   "execution_count": 71,
   "metadata": {},
   "outputs": [
    {
     "name": "stdout",
     "output_type": "stream",
     "text": [
      "_________________________________________________________________\n",
      "Layer (type)                 Output Shape              Param #   \n",
      "=================================================================\n",
      "input_25 (InputLayer)        (None, 3)                 0         \n",
      "_________________________________________________________________\n",
      "dense_5 (Dense)              (None, 4)                 16        \n",
      "=================================================================\n",
      "Total params: 16\n",
      "Trainable params: 16\n",
      "Non-trainable params: 0\n",
      "_________________________________________________________________\n",
      "None\n"
     ]
    }
   ],
   "source": [
    "init = RandomNormal(mean=0.0, stddev=0.05, seed=6000)\n",
    "dense = Dense(4, activation='softmax',kernel_initializer=init, bias_initializer=init)\n",
    "inp = Input (shape=(3,))\n",
    "pred=dense(inp)\n",
    "model =Model(inputs=inp, outputs=pred)\n",
    "print(model.summary())"
   ]
  },
  {
   "cell_type": "code",
   "execution_count": null,
   "metadata": {},
   "outputs": [],
   "source": []
  }
 ],
 "metadata": {
  "kernelspec": {
   "display_name": "Python 3",
   "language": "python",
   "name": "python3"
  },
  "language_info": {
   "codemirror_mode": {
    "name": "ipython",
    "version": 3
   },
   "file_extension": ".py",
   "mimetype": "text/x-python",
   "name": "python",
   "nbconvert_exporter": "python",
   "pygments_lexer": "ipython3",
   "version": "3.7.9"
  }
 },
 "nbformat": 4,
 "nbformat_minor": 4
}
