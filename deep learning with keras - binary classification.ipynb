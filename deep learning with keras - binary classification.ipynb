{
 "cells": [
  {
   "cell_type": "code",
   "execution_count": 1,
   "metadata": {},
   "outputs": [
    {
     "name": "stderr",
     "output_type": "stream",
     "text": [
      "Using TensorFlow backend.\n"
     ]
    }
   ],
   "source": [
    "from keras.layers import Input, Dense\n",
    "import matplotlib.image as img\n",
    "from scipy.cluster.vq import kmeans, vq, whiten\n",
    "import seaborn as sns, pandas as pd\n",
    "from matplotlib import pyplot as plt\n",
    "from PIL import Image\n",
    "from keras.models import Sequential\n",
    "import tensorflow as tf\n",
    "from keras.models import Model\n",
    "from keras.utils import plot_model\n",
    "from sklearn.model_selection import train_test_split\n",
    "import numpy as np\n",
    "\n",
    "from numpy import array\n",
    "from sklearn.preprocessing import LabelEncoder\n",
    "from sklearn.preprocessing import OneHotEncoder\n",
    "from keras.layers.embeddings import Embedding\n",
    "from sklearn.preprocessing import StandardScaler\n",
    "from keras.layers import Dense\n",
    "from keras.layers import Flatten\n",
    "\n",
    "from keras.models import Sequential\n",
    "from keras.layers import Dense\n",
    "from sklearn.metrics import classification_report,confusion_matrix\n",
    "from keras.optimizers import Adam\n",
    "from keras.models import Model\n",
    "from scipy.special import expit as sigmoid"
   ]
  },
  {
   "cell_type": "code",
   "execution_count": 2,
   "metadata": {},
   "outputs": [
    {
     "name": "stdout",
     "output_type": "stream",
     "text": [
      "Model: \"sequential_1\"\n",
      "_________________________________________________________________\n",
      "Layer (type)                 Output Shape              Param #   \n",
      "=================================================================\n",
      "dense_1 (Dense)              (None, 4)                 20        \n",
      "_________________________________________________________________\n",
      "dense_2 (Dense)              (None, 1)                 5         \n",
      "=================================================================\n",
      "Total params: 25\n",
      "Trainable params: 25\n",
      "Non-trainable params: 0\n",
      "_________________________________________________________________\n"
     ]
    },
    {
     "data": {
      "image/png": "[encoded data removed]",
      "text/plain": [
       "<Figure size 432x288 with 1 Axes>"
      ]
     },
     "metadata": {
      "needs_background": "light"
     },
     "output_type": "display_data"
    }
   ],
   "source": [
    "model= Sequential()\n",
    "\n",
    "model.add(Dense(4, input_shape=(4,),\n",
    "activation='tanh'\n",
    "))\n",
    "\n",
    "#model.add(Dense(50, activation='relu'))\n",
    "model.add(Dense(1,activation='sigmoid'))\n",
    "\n",
    "model.compile(optimizer='sgd',loss='binary_crossentropy',metrics=['accuracy'])\n",
    "#model.compile(optimizer=Adam(0.01),loss='mae')\n",
    "\n",
    "model.summary()\n",
    "\n",
    "plot_model(model, to_file='model.png')\n",
    "img=plt.imread('model.png')\n",
    "plt.imshow(img)\n",
    "plt.show()"
   ]
  },
  {
   "cell_type": "code",
   "execution_count": 3,
   "metadata": {},
   "outputs": [
    {
     "name": "stdout",
     "output_type": "stream",
     "text": [
      "   variance  skewness  kurtosis  entropy  class\n",
      "0   3.62160    8.6661   -2.8073 -0.44699      0\n",
      "1   4.54590    8.1674   -2.4586 -1.46210      0\n",
      "2   3.86600   -2.6383    1.9242  0.10645      0\n",
      "3   3.45660    9.5228   -4.0112 -3.59440      0\n",
      "4   0.32924   -4.4552    4.5718 -0.98880      0\n"
     ]
    }
   ],
   "source": [
    "banknotes=pd.read_csv('banknote.csv')\n",
    "print(banknotes.head())\n",
    "\n",
    "#sns.pairplot(banknotes, hue='class') \n",
    "#plt.show()"
   ]
  },
  {
   "cell_type": "code",
   "execution_count": 4,
   "metadata": {},
   "outputs": [
    {
     "name": "stdout",
     "output_type": "stream",
     "text": [
      "Dataset stats: \n",
      " <bound method NDFrame.describe of       variance  skewness  kurtosis  entropy  class\n",
      "0      3.62160   8.66610   -2.8073 -0.44699      0\n",
      "1      4.54590   8.16740   -2.4586 -1.46210      0\n",
      "2      3.86600  -2.63830    1.9242  0.10645      0\n",
      "3      3.45660   9.52280   -4.0112 -3.59440      0\n",
      "4      0.32924  -4.45520    4.5718 -0.98880      0\n",
      "...        ...       ...       ...      ...    ...\n",
      "1367   0.40614   1.34920   -1.4501 -0.55949      1\n",
      "1368  -1.38870  -4.87730    6.4774  0.34179      1\n",
      "1369  -3.75030 -13.45860   17.5932 -2.77710      1\n",
      "1370  -3.56370  -8.38270   12.3930 -1.28230      1\n",
      "1371  -2.54190  -0.65804    2.6842  1.19520      1\n",
      "\n",
      "[1372 rows x 5 columns]>\n",
      "Observations per class: \n",
      " <bound method IndexOpsMixin.value_counts of 0       0\n",
      "1       0\n",
      "2       0\n",
      "3       0\n",
      "4       0\n",
      "       ..\n",
      "1367    1\n",
      "1368    1\n",
      "1369    1\n",
      "1370    1\n",
      "1371    1\n",
      "Name: class, Length: 1372, dtype: int64>\n"
     ]
    }
   ],
   "source": [
    "# Describe the data\n",
    "print('Dataset stats: \\n', banknotes.describe)\n",
    "\n",
    "# Count the number of observations of each class\n",
    "print('Observations per class: \\n', banknotes['class'].value_counts)"
   ]
  },
  {
   "cell_type": "code",
   "execution_count": 5,
   "metadata": {},
   "outputs": [
    {
     "name": "stdout",
     "output_type": "stream",
     "text": [
      "Epoch 1/20\n",
      "960/960 [==============================] - 0s 213us/step - loss: 0.7427 - accuracy: 0.5708\n",
      "Epoch 2/20\n",
      "960/960 [==============================] - 0s 34us/step - loss: 0.6771 - accuracy: 0.6552\n",
      "Epoch 3/20\n",
      "960/960 [==============================] - 0s 44us/step - loss: 0.6326 - accuracy: 0.6740\n",
      "Epoch 4/20\n",
      "960/960 [==============================] - 0s 45us/step - loss: 0.5987 - accuracy: 0.6979\n",
      "Epoch 5/20\n",
      "960/960 [==============================] - 0s 34us/step - loss: 0.5681 - accuracy: 0.7208\n",
      "Epoch 6/20\n",
      "960/960 [==============================] - 0s 49us/step - loss: 0.5369 - accuracy: 0.7469\n",
      "Epoch 7/20\n",
      "960/960 [==============================] - 0s 35us/step - loss: 0.5042 - accuracy: 0.7740\n",
      "Epoch 8/20\n",
      "960/960 [==============================] - 0s 47us/step - loss: 0.4717 - accuracy: 0.7979\n",
      "Epoch 9/20\n",
      "960/960 [==============================] - 0s 36us/step - loss: 0.4422 - accuracy: 0.8219\n",
      "Epoch 10/20\n",
      "960/960 [==============================] - 0s 33us/step - loss: 0.4159 - accuracy: 0.8479\n",
      "Epoch 11/20\n",
      "960/960 [==============================] - 0s 31us/step - loss: 0.3921 - accuracy: 0.8635\n",
      "Epoch 12/20\n",
      "960/960 [==============================] - 0s 48us/step - loss: 0.3703 - accuracy: 0.8802\n",
      "Epoch 13/20\n",
      "960/960 [==============================] - 0s 46us/step - loss: 0.3498 - accuracy: 0.8938\n",
      "Epoch 14/20\n",
      "960/960 [==============================] - 0s 44us/step - loss: 0.3298 - accuracy: 0.9083\n",
      "Epoch 15/20\n",
      "960/960 [==============================] - 0s 35us/step - loss: 0.3088 - accuracy: 0.9073\n",
      "Epoch 16/20\n",
      "960/960 [==============================] - 0s 34us/step - loss: 0.2855 - accuracy: 0.9177\n",
      "Epoch 17/20\n",
      "960/960 [==============================] - 0s 36us/step - loss: 0.2633 - accuracy: 0.9344\n",
      "Epoch 18/20\n",
      "960/960 [==============================] - 0s 39us/step - loss: 0.2449 - accuracy: 0.9344\n",
      "Epoch 19/20\n",
      "960/960 [==============================] - 0s 24us/step - loss: 0.2291 - accuracy: 0.9396\n",
      "Epoch 20/20\n",
      "960/960 [==============================] - 0s 37us/step - loss: 0.2154 - accuracy: 0.9479\n",
      "412/412 [==============================] - 0s 51us/step\n",
      "Accuracy: 0.9490291476249695\n"
     ]
    }
   ],
   "source": [
    "X=banknotes[['variance','skewness','kurtosis','entropy']]\n",
    "y=banknotes['class'].values\n",
    "X_train, X_test, y_train, y_test = train_test_split(X, y,test_size=0.3, random_state=42)\n",
    "#print(X_train)\n",
    "#print(y_train)\n",
    "\n",
    "model.fit(X_train,y_train, epochs=20)\n",
    "\n",
    "# Evaluate your model accuracy on the test set\n",
    "accuracy = model.evaluate(X_test, y_test)[1]\n",
    "\n",
    "# Print accuracy\n",
    "print('Accuracy:',accuracy)"
   ]
  },
  {
   "cell_type": "code",
   "execution_count": null,
   "metadata": {},
   "outputs": [],
   "source": []
  }
 ],
 "metadata": {
  "kernelspec": {
   "display_name": "Python 3",
   "language": "python",
   "name": "python3"
  },
  "language_info": {
   "codemirror_mode": {
    "name": "ipython",
    "version": 3
   },
   "file_extension": ".py",
   "mimetype": "text/x-python",
   "name": "python",
   "nbconvert_exporter": "python",
   "pygments_lexer": "ipython3",
   "version": "3.7.7"
  }
 },
 "nbformat": 4,
 "nbformat_minor": 4
}
