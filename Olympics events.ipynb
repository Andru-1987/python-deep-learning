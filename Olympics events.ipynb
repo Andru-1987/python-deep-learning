{
 "cells": [
  {
   "cell_type": "code",
   "execution_count": 16,
   "metadata": {},
   "outputs": [],
   "source": [
    "import pandas as pd\n",
    "import matplotlib.pyplot as plt\n",
    "import seaborn as sns"
   ]
  },
  {
   "cell_type": "code",
   "execution_count": 13,
   "metadata": {},
   "outputs": [
    {
     "name": "stdout",
     "output_type": "stream",
     "text": [
      "Index(['ID', 'Name', 'Gender', 'Age', 'Height', 'Weight', 'Team', 'NOC',\n",
      "       'Games', 'Year', 'Season', 'City', 'Sport', 'Event', 'Medal'],\n",
      "      dtype='object')\n"
     ]
    }
   ],
   "source": [
    "df=pd.read_csv('athlete_events.csv')\n",
    "df=df.rename(columns={'Sex':'Gender'})\n",
    "print(df.columns)\n",
    "\n",
    "df['Gold']=df['Medal'].apply(lambda x: 1 if x=='Gold' else 0)\n",
    "df['Silver']=df['Medal'].apply(lambda x: 1 if x=='Silver' else 0)\n",
    "df['Bronze']=df['Medal'].apply(lambda x: 1 if x=='Bronze' else 0)\n"
   ]
  },
  {
   "cell_type": "code",
   "execution_count": 4,
   "metadata": {},
   "outputs": [
    {
     "name": "stdout",
     "output_type": "stream",
     "text": [
      "['Basketball' 'Judo' 'Football' 'Tug-Of-War' 'Speed Skating'\n",
      " 'Cross Country Skiing' 'Athletics' 'Ice Hockey' 'Swimming' 'Badminton'\n",
      " 'Sailing' 'Biathlon' 'Gymnastics' 'Art Competitions' 'Alpine Skiing'\n",
      " 'Handball' 'Weightlifting' 'Wrestling' 'Luge' 'Water Polo' 'Hockey'\n",
      " 'Rowing' 'Bobsleigh' 'Fencing' 'Equestrianism' 'Shooting' 'Boxing'\n",
      " 'Taekwondo' 'Cycling' 'Diving' 'Canoeing' 'Tennis' 'Modern Pentathlon'\n",
      " 'Figure Skating' 'Golf' 'Softball' 'Archery' 'Volleyball'\n",
      " 'Synchronized Swimming' 'Table Tennis' 'Nordic Combined' 'Baseball'\n",
      " 'Rhythmic Gymnastics' 'Freestyle Skiing' 'Rugby Sevens' 'Trampolining'\n",
      " 'Beach Volleyball' 'Triathlon' 'Ski Jumping' 'Curling' 'Snowboarding'\n",
      " 'Rugby' 'Short Track Speed Skating' 'Skeleton' 'Lacrosse' 'Polo'\n",
      " 'Cricket' 'Racquets' 'Motorboating' 'Military Ski Patrol' 'Croquet'\n",
      " 'Jeu De Paume' 'Roque' 'Alpinism' 'Basque Pelota' 'Aeronautics']\n",
      "[1992 2012 1920 1900 1988 1994 1932 2002 1952 1980 2000 1996 1912 1924\n",
      " 2014 1948 1998 2006 2008 2016 2004 1960 1964 1984 1968 1972 1936 1956\n",
      " 1928 1976 2010 1906 1904 1908 1896]\n"
     ]
    }
   ],
   "source": [
    "print(df['Sport'].unique())\n",
    "print(df['Year'].unique())\n",
    "#buffer=\"\"\n",
    "#for team in df['Team'].unique():\n",
    "#    buffer=buffer + team + \" \"\n",
    "#print(buffer)\n",
    "#print(df['Event'].unique())"
   ]
  },
  {
   "cell_type": "code",
   "execution_count": 5,
   "metadata": {},
   "outputs": [
    {
     "name": "stdout",
     "output_type": "stream",
     "text": [
      "           Name             Totals\n",
      "Medal    Bronze Gold Silver       \n",
      "NOC Year                          \n",
      "KOR 2016    3.0  2.0    0.0    5.0\n",
      "    2008    0.0  4.0    0.0    4.0\n",
      "    2004    2.0  2.0    0.0    4.0\n",
      "    2000    0.0  3.0    1.0    4.0\n",
      "USA 2008    2.0  0.0    1.0    3.0\n",
      "...         ...  ...    ...    ...\n",
      "GER 2000    0.0  0.0    1.0    1.0\n",
      "GBR 2008    1.0  0.0    0.0    1.0\n",
      "GAB 2012    0.0  0.0    1.0    1.0\n",
      "FRA 2016    0.0  0.0    1.0    1.0\n",
      "VIE 2000    0.0  0.0    1.0    1.0\n",
      "\n",
      "[94 rows x 4 columns]\n"
     ]
    }
   ],
   "source": [
    "filter = (df['Sport']=='Taekwondo') & (df['Year'] > 1980)\n",
    "#filter =(df['Sport']=='Boxing') \n",
    "grouped=df[filter].groupby(['Sport','Team','Year'])\n",
    "\n",
    "#print(grouped.head(100))\n",
    "\n",
    "#for group_name,group in grouped:\n",
    "#    print(group_name)\n",
    "#    print(group['Event'].count())\n",
    "    \n",
    "fp=df[filter].pivot_table(index=['NOC','Year'],columns='Medal', values=['Name'],aggfunc='count').fillna(0)    \n",
    "fp['Totals'] = fp.sum(axis='columns')\n",
    "fp = fp.sort_values(by='Totals',ascending=False)\n",
    "print(fp)\n"
   ]
  },
  {
   "cell_type": "code",
   "execution_count": 6,
   "metadata": {},
   "outputs": [
    {
     "data": {
      "image/png": "[encoded data removed]",
      "text/plain": [
       "<Figure size 432x288 with 1 Axes>"
      ]
     },
     "metadata": {
      "needs_background": "light"
     },
     "output_type": "display_data"
    }
   ],
   "source": [
    "USA_medals_per_year = df.loc[df.NOC == 'USA'].groupby('Year')['Medal'].count()\n",
    "\n",
    "plt.title(\"US medal count\")\n",
    "USA_medals_per_year.plot()\n",
    "plt.show()\n"
   ]
  },
  {
   "cell_type": "code",
   "execution_count": 38,
   "metadata": {},
   "outputs": [
    {
     "name": "stdout",
     "output_type": "stream",
     "text": [
      "USA    4243\n",
      "RUS    3303\n",
      "GER    3248\n",
      "CAN    2786\n",
      "CHN    2716\n",
      "ITA    2637\n",
      "FRA    2579\n",
      "JPN    2423\n",
      "AUS    2422\n",
      "GBR    2222\n",
      "UKR    1676\n",
      "KOR    1634\n",
      "ESP    1598\n",
      "BRA    1591\n",
      "POL    1485\n",
      "Name: NOC, dtype: int64\n"
     ]
    }
   ],
   "source": [
    "# Select the 'NOC' column of medals: country_names\n",
    "filter=df['Year']>2000\n",
    "country_names = df[filter]['NOC']\n",
    "# Count the number of medals won by each country: medal_counts\n",
    "medal_counts = country_names.value_counts()\n",
    "\n",
    "# Print top 15 countries ranked by medals\n",
    "print(medal_counts.head(15))"
   ]
  },
  {
   "cell_type": "code",
   "execution_count": 40,
   "metadata": {},
   "outputs": [
    {
     "name": "stdout",
     "output_type": "stream",
     "text": [
      "Gender\n",
      "F    4650\n",
      "M    5484\n",
      "Name: Medal, dtype: int64\n"
     ]
    },
    {
     "data": {
      "image/png": "[encoded data removed]",
      "text/plain": [
       "<Figure size 288x288 with 1 Axes>"
      ]
     },
     "metadata": {},
     "output_type": "display_data"
    }
   ],
   "source": [
    "medals_by_gender=df[filter].groupby('Gender')\n",
    "medals_count_by_gender=medals_by_gender['Medal'].count()\n",
    "print(medals_count_by_gender)\n",
    "\n",
    "medals_count_by_gender.plot.pie(figsize=(4,4))\n",
    "plt.show()"
   ]
  },
  {
   "cell_type": "code",
   "execution_count": 41,
   "metadata": {},
   "outputs": [
    {
     "name": "stdout",
     "output_type": "stream",
     "text": [
      "USA ['Wrestling' 'Figure Skating' 'Cycling' 'Softball' 'Taekwondo' 'Athletics'\n",
      " 'Rowing' 'Synchronized Swimming' 'Swimming' 'Volleyball' 'Football'\n",
      " 'Snowboarding' 'Trampolining' 'Fencing' 'Ski Jumping' 'Boxing'\n",
      " 'Modern Pentathlon' 'Short Track Speed Skating' 'Ice Hockey' 'Water Polo'\n",
      " 'Baseball' 'Basketball' 'Shooting' 'Skeleton' 'Cross Country Skiing'\n",
      " 'Gymnastics' 'Weightlifting' 'Bobsleigh' 'Badminton' 'Freestyle Skiing'\n",
      " 'Biathlon' 'Tennis' 'Rugby Sevens' 'Table Tennis' 'Hockey' 'Curling'\n",
      " 'Sailing' 'Speed Skating' 'Diving' 'Triathlon' 'Luge' 'Equestrianism'\n",
      " 'Beach Volleyball' 'Judo' 'Alpine Skiing' 'Archery' 'Canoeing'\n",
      " 'Nordic Combined' 'Rhythmic Gymnastics' 'Golf']\n",
      "CAN ['Sailing' 'Athletics' 'Diving' 'Swimming' 'Basketball' 'Alpine Skiing'\n",
      " 'Curling' 'Ice Hockey' 'Wrestling' 'Biathlon' 'Luge' 'Skeleton'\n",
      " 'Bobsleigh' 'Rowing' 'Cross Country Skiing' 'Snowboarding'\n",
      " 'Figure Skating' 'Water Polo' 'Speed Skating' 'Baseball' 'Volleyball'\n",
      " 'Beach Volleyball' 'Gymnastics' 'Freestyle Skiing' 'Canoeing' 'Cycling'\n",
      " 'Equestrianism' 'Short Track Speed Skating' 'Ski Jumping' 'Softball'\n",
      " 'Weightlifting' 'Judo' 'Archery' 'Fencing' 'Football' 'Rugby Sevens'\n",
      " 'Badminton' 'Hockey' 'Boxing' 'Taekwondo' 'Tennis'\n",
      " 'Synchronized Swimming' 'Triathlon' 'Trampolining' 'Table Tennis'\n",
      " 'Rhythmic Gymnastics' 'Shooting' 'Golf' 'Modern Pentathlon'\n",
      " 'Nordic Combined']\n",
      "JPN ['Baseball' 'Football' 'Athletics' 'Triathlon' 'Canoeing' 'Water Polo'\n",
      " 'Synchronized Swimming' 'Ice Hockey' 'Shooting' 'Hockey' 'Swimming'\n",
      " 'Judo' 'Figure Skating' 'Weightlifting' 'Fencing' 'Snowboarding'\n",
      " 'Table Tennis' 'Volleyball' 'Cycling' 'Short Track Speed Skating'\n",
      " 'Tennis' 'Beach Volleyball' 'Bobsleigh' 'Cross Country Skiing'\n",
      " 'Speed Skating' 'Sailing' 'Wrestling' 'Biathlon' 'Basketball' 'Softball'\n",
      " 'Badminton' 'Freestyle Skiing' 'Rhythmic Gymnastics' 'Rowing'\n",
      " 'Rugby Sevens' 'Equestrianism' 'Ski Jumping' 'Archery' 'Taekwondo' 'Luge'\n",
      " 'Nordic Combined' 'Curling' 'Alpine Skiing' 'Trampolining' 'Boxing'\n",
      " 'Golf' 'Skeleton' 'Gymnastics' 'Diving' 'Modern Pentathlon']\n",
      "ITA ['Rowing' 'Athletics' 'Football' 'Water Polo' 'Synchronized Swimming'\n",
      " 'Cross Country Skiing' 'Volleyball' 'Badminton' 'Curling'\n",
      " 'Beach Volleyball' 'Judo' 'Speed Skating' 'Ice Hockey' 'Sailing'\n",
      " 'Gymnastics' 'Softball' 'Short Track Speed Skating' 'Equestrianism'\n",
      " 'Swimming' 'Cycling' 'Fencing' 'Figure Skating' 'Alpine Skiing'\n",
      " 'Shooting' 'Basketball' 'Taekwondo' 'Diving' 'Nordic Combined'\n",
      " 'Bobsleigh' 'Canoeing' 'Modern Pentathlon' 'Freestyle Skiing' 'Golf'\n",
      " 'Rhythmic Gymnastics' 'Boxing' 'Baseball' 'Archery' 'Table Tennis'\n",
      " 'Snowboarding' 'Weightlifting' 'Tennis' 'Ski Jumping' 'Biathlon'\n",
      " 'Triathlon' 'Trampolining' 'Wrestling' 'Skeleton' 'Luge']\n",
      "FRA ['Athletics' 'Handball' 'Football' 'Cycling' 'Equestrianism'\n",
      " 'Freestyle Skiing' 'Judo' 'Swimming' 'Rugby Sevens' 'Ice Hockey'\n",
      " 'Gymnastics' 'Wrestling' 'Snowboarding' 'Basketball' 'Alpine Skiing'\n",
      " 'Canoeing' 'Figure Skating' 'Boxing' 'Bobsleigh' 'Rowing' 'Curling'\n",
      " 'Fencing' 'Volleyball' 'Archery' 'Nordic Combined' 'Modern Pentathlon'\n",
      " 'Sailing' 'Diving' 'Synchronized Swimming' 'Cross Country Skiing'\n",
      " 'Taekwondo' 'Biathlon' 'Weightlifting' 'Triathlon' 'Shooting' 'Tennis'\n",
      " 'Water Polo' 'Luge' 'Golf' 'Short Track Speed Skating' 'Speed Skating'\n",
      " 'Beach Volleyball' 'Skeleton' 'Ski Jumping' 'Table Tennis' 'Trampolining'\n",
      " 'Badminton' 'Rhythmic Gymnastics']\n",
      "GER ['Gymnastics' 'Athletics' 'Ice Hockey' 'Nordic Combined' 'Trampolining'\n",
      " 'Diving' 'Rowing' 'Bobsleigh' 'Equestrianism' 'Canoeing' 'Luge'\n",
      " 'Handball' 'Ski Jumping' 'Volleyball' 'Cross Country Skiing' 'Football'\n",
      " 'Speed Skating' 'Biathlon' 'Cycling' 'Hockey' 'Curling' 'Fencing'\n",
      " 'Tennis' 'Table Tennis' 'Judo' 'Shooting' 'Short Track Speed Skating'\n",
      " 'Sailing' 'Snowboarding' 'Triathlon' 'Swimming' 'Figure Skating'\n",
      " 'Rhythmic Gymnastics' 'Alpine Skiing' 'Wrestling' 'Freestyle Skiing'\n",
      " 'Beach Volleyball' 'Boxing' 'Golf' 'Water Polo' 'Modern Pentathlon'\n",
      " 'Basketball' 'Archery' 'Taekwondo' 'Badminton' 'Skeleton' 'Weightlifting']\n",
      "RUS ['Athletics' 'Cycling' 'Boxing' 'Gymnastics' 'Archery' 'Volleyball'\n",
      " 'Speed Skating' 'Bobsleigh' 'Triathlon' 'Basketball' 'Figure Skating'\n",
      " 'Ice Hockey' 'Equestrianism' 'Biathlon' 'Fencing' 'Wrestling'\n",
      " 'Weightlifting' 'Swimming' 'Shooting' 'Skeleton' 'Rhythmic Gymnastics'\n",
      " 'Alpine Skiing' 'Cross Country Skiing' 'Short Track Speed Skating' 'Luge'\n",
      " 'Tennis' 'Handball' 'Canoeing' 'Water Polo' 'Freestyle Skiing' 'Curling'\n",
      " 'Snowboarding' 'Ski Jumping' 'Synchronized Swimming' 'Nordic Combined'\n",
      " 'Beach Volleyball' 'Taekwondo' 'Judo' 'Diving' 'Sailing' 'Rowing'\n",
      " 'Trampolining' 'Table Tennis' 'Modern Pentathlon' 'Badminton' 'Golf']\n",
      "CHN ['Judo' 'Wrestling' 'Swimming' 'Speed Skating' 'Short Track Speed Skating'\n",
      " 'Hockey' 'Curling' 'Triathlon' 'Football' 'Athletics' 'Badminton'\n",
      " 'Fencing' 'Rhythmic Gymnastics' 'Volleyball' 'Basketball' 'Baseball'\n",
      " 'Snowboarding' 'Archery' 'Weightlifting' 'Figure Skating' 'Shooting'\n",
      " 'Diving' 'Modern Pentathlon' 'Synchronized Swimming' 'Canoeing'\n",
      " 'Cross Country Skiing' 'Handball' 'Ice Hockey' 'Sailing' 'Table Tennis'\n",
      " 'Boxing' 'Gymnastics' 'Taekwondo' 'Cycling' 'Rowing' 'Freestyle Skiing'\n",
      " 'Softball' 'Trampolining' 'Alpine Skiing' 'Golf' 'Water Polo' 'Biathlon'\n",
      " 'Equestrianism' 'Tennis' 'Ski Jumping' 'Beach Volleyball']\n"
     ]
    }
   ],
   "source": [
    "grouped=df[filter].groupby('NOC', as_index=False)\n",
    "Nsport=grouped['Sport'].nunique().rename(columns={'Sport':'SportCount'})\n",
    "Nsport=Nsport.set_index('NOC')\n",
    "\n",
    "country_grouped=df[filter].groupby('NOC')\n",
    "Nsport2=country_grouped['Sport'].unique()\n",
    "Nsport3=country_grouped['Gold'].sum()\n",
    "Nsport4=country_grouped['Silver'].sum()\n",
    "Nsport5=country_grouped['Bronze'].sum()\n",
    "\n",
    "#print(Nsport2)\n",
    "\n",
    "\n",
    "df2=pd.concat([Nsport,Nsport2,Nsport3,Nsport4,Nsport5],join='inner',axis=1).reindex(Nsport.index)\n",
    "df2=df2.sort_values(by=[\"SportCount\"],ascending=False)\n",
    "\n",
    "\n",
    "#print(df2.columns)\n",
    "for key,item in df2.head(8).iterrows():\n",
    "    print(key,item['Sport'])\n",
    "\n"
   ]
  },
  {
   "cell_type": "code",
   "execution_count": 37,
   "metadata": {},
   "outputs": [
    {
     "data": {
      "text/plain": [
       "<AxesSubplot:ylabel='NOC'>"
      ]
     },
     "execution_count": 37,
     "metadata": {},
     "output_type": "execute_result"
    },
    {
     "data": {
      "image/png": "[encoded data removed]",
      "text/plain": [
       "<Figure size 864x576 with 4 Axes>"
      ]
     },
     "metadata": {
      "needs_background": "light"
     },
     "output_type": "display_data"
    }
   ],
   "source": [
    "fig,ax =plt.subplots(1,2,figsize=(12,8))    \n",
    "X=df2[['SportCount']].head(8)\n",
    "sns.heatmap(X\n",
    "    ,cmap='Oranges',linecolor='black',linewidths=0, ax=ax[0])    \n",
    "\n",
    "X=df2[['Gold','Silver','Bronze']].head(8)\n",
    "sns.heatmap(X\n",
    "    ,cmap='Blues',linecolor='black',linewidths=0, ax=ax[1])    \n"
   ]
  },
  {
   "cell_type": "code",
   "execution_count": 45,
   "metadata": {},
   "outputs": [
    {
     "name": "stdout",
     "output_type": "stream",
     "text": [
      "                                                   Gold  Silver  Bronze\n",
      "NOC Event                                                              \n",
      "AFG Athletics Men's 100 metres                        0       0       0\n",
      "    Athletics Women's 100 metres                      0       0       0\n",
      "    Boxing Men's Flyweight                            0       0       0\n",
      "    Boxing Men's Welterweight                         0       0       0\n",
      "    Judo Men's Half-Heavyweight                       0       0       0\n",
      "...                                                 ...     ...     ...\n",
      "ZIM Swimming Women's 200 metres Individual Medley     0       1       1\n",
      "    Swimming Women's 400 metres Individual Medley     0       1       0\n",
      "    Tennis Men's Doubles                              0       0       0\n",
      "    Tennis Women's Singles                            0       0       0\n",
      "    Triathlon Men's Olympic Distance                  0       0       0\n",
      "\n",
      "[15637 rows x 3 columns]\n"
     ]
    },
    {
     "name": "stderr",
     "output_type": "stream",
     "text": [
      "C:\\Users\\dnishimoto.BOISE\\AppData\\Local\\Continuum\\anaconda3\\envs\\deeplearning\\lib\\site-packages\\ipykernel_launcher.py:1: FutureWarning: Indexing with multiple keys (implicitly converted to a tuple of keys) will be deprecated, use a list instead.\n",
      "  \"\"\"Entry point for launching an IPython kernel.\n"
     ]
    }
   ],
   "source": [
    "grouped=df[filter].groupby(['NOC','Event'])['Gold','Silver','Bronze'].sum()\n",
    "print(grouped)"
   ]
  },
  {
   "cell_type": "code",
   "execution_count": 73,
   "metadata": {},
   "outputs": [
    {
     "name": "stdout",
     "output_type": "stream",
     "text": [
      "NOC    AFG   AHO   ALB   ALG   AND   ANG   ANT   ANZ    ARG   ARM  ...   VIN  \\\n",
      "Year                                                               ...         \n",
      "1992   NaN   6.0   9.0  44.0  22.0  33.0  18.0   NaN  157.0   NaN  ...   8.0   \n",
      "1988   5.0   7.0   NaN  45.0  13.0  33.0  25.0   NaN  179.0   NaN  ...   6.0   \n",
      "2000   NaN   8.0   5.0  51.0   5.0  30.0   4.0   NaN  165.0  26.0  ...   4.0   \n",
      "1996   2.0   7.0   9.0  47.0   8.0  30.0  19.0   NaN  221.0  38.0  ...  12.0   \n",
      "2016   3.0   NaN   6.0  74.0   4.0  26.0   9.0   NaN  232.0  34.0  ...   4.0   \n",
      "2008   4.0   4.0  12.0  57.0   5.0  33.0   5.0   NaN  145.0  26.0  ...   2.0   \n",
      "2004   5.0   3.0   7.0  71.0   6.0  30.0   5.0   NaN  179.0  19.0  ...   3.0   \n",
      "2012   6.0   NaN  10.0  39.0   6.0  35.0   4.0   NaN  148.0  31.0  ...   3.0   \n",
      "1972   8.0   2.0   5.0   7.0   NaN   NaN   NaN   NaN  129.0   NaN  ...   NaN   \n",
      "1984   NaN  13.0   NaN  33.0   8.0   NaN  27.0   NaN  152.0   NaN  ...   NaN   \n",
      "1976   NaN   4.0   NaN   NaN  14.0   NaN  17.0   NaN  122.0   NaN  ...   NaN   \n",
      "1968   5.0   5.0   NaN   9.0   NaN   NaN   NaN   NaN  144.0   NaN  ...   NaN   \n",
      "1964   8.0   4.0   NaN   7.0   NaN   NaN   NaN   NaN  170.0   NaN  ...   NaN   \n",
      "1952   NaN  11.0   NaN   NaN   NaN   NaN   NaN   NaN  195.0   NaN  ...   NaN   \n",
      "1960  16.0   5.0   NaN   NaN   NaN   NaN   NaN   NaN  130.0   NaN  ...   NaN   \n",
      "1980  11.0   NaN   NaN  63.0  11.0  17.0   NaN   NaN   26.0   NaN  ...   NaN   \n",
      "1948  25.0   NaN   NaN   NaN   NaN   NaN   NaN   NaN  315.0   NaN  ...   NaN   \n",
      "1936  16.0   NaN   NaN   NaN   NaN   NaN   NaN   NaN   68.0   NaN  ...   NaN   \n",
      "1956  12.0   NaN   NaN   NaN   NaN   NaN   NaN   NaN   44.0   NaN  ...   NaN   \n",
      "1924   NaN   NaN   NaN   NaN   NaN   NaN   NaN   NaN  109.0   NaN  ...   NaN   \n",
      "1928   NaN   NaN   NaN   NaN   NaN   NaN   NaN   NaN  108.0   NaN  ...   NaN   \n",
      "2014   NaN   NaN   2.0   NaN  12.0   NaN   NaN   NaN   20.0   6.0  ...   NaN   \n",
      "2010   NaN   NaN   2.0   1.0  20.0   NaN   NaN   NaN   20.0   6.0  ...   NaN   \n",
      "2006   NaN   NaN   3.0   3.0  10.0   NaN   NaN   NaN   17.0   9.0  ...   NaN   \n",
      "1920   NaN   NaN   NaN   NaN   NaN   NaN   NaN   NaN    1.0   NaN  ...   NaN   \n",
      "2002   NaN   NaN   NaN   NaN   5.0   NaN   NaN   NaN   26.0  17.0  ...   NaN   \n",
      "1912   NaN   NaN   NaN   NaN   NaN   NaN   NaN  38.0    NaN   NaN  ...   NaN   \n",
      "1998   NaN   NaN   NaN   NaN   7.0   NaN   NaN   NaN    6.0   7.0  ...   NaN   \n",
      "1932   NaN   NaN   NaN   NaN   NaN   NaN   NaN   NaN   47.0   NaN  ...   NaN   \n",
      "1994   NaN   NaN   NaN   NaN  13.0   NaN   NaN   NaN   20.0   2.0  ...   NaN   \n",
      "1908   NaN   NaN   NaN   NaN   NaN   NaN   NaN  48.0    1.0   NaN  ...   NaN   \n",
      "1900   NaN   NaN   NaN   NaN   NaN   NaN   NaN   NaN    1.0   NaN  ...   NaN   \n",
      "1906   NaN   NaN   NaN   NaN   NaN   NaN   NaN   NaN    NaN   NaN  ...   NaN   \n",
      "1904   NaN   NaN   NaN   NaN   NaN   NaN   NaN   NaN    NaN   NaN  ...   NaN   \n",
      "1896   NaN   NaN   NaN   NaN   NaN   NaN   NaN   NaN    NaN   NaN  ...   NaN   \n",
      "\n",
      "NOC    VNM   WIF  YAR  YEM  YMD    YUG   ZAM   ZIM   Totals  \n",
      "Year                                                         \n",
      "1992   NaN   NaN  NaN  8.0  NaN   60.0  11.0  28.0  16413.0  \n",
      "1988   NaN   NaN  8.0  NaN  5.0  232.0  33.0  47.0  14676.0  \n",
      "2000   NaN   NaN  NaN  2.0  NaN    NaN   8.0  26.0  13821.0  \n",
      "1996   NaN   NaN  NaN  4.0  NaN    NaN   8.0  21.0  13780.0  \n",
      "2016   NaN   NaN  NaN  3.0  NaN    NaN   7.0  31.0  13688.0  \n",
      "2008   NaN   NaN  NaN  8.0  NaN    NaN   8.0  16.0  13602.0  \n",
      "2004   NaN   NaN  NaN  3.0  NaN    NaN   6.0  14.0  13443.0  \n",
      "2012   NaN   NaN  NaN  4.0  NaN    NaN   7.0   9.0  12920.0  \n",
      "1972   2.0   NaN  NaN  NaN  NaN  243.0  12.0   NaN  11959.0  \n",
      "1984   NaN   NaN  3.0  NaN  NaN  269.0  18.0  20.0  11588.0  \n",
      "1976   NaN   NaN  NaN  NaN  NaN  136.0   NaN   NaN  10502.0  \n",
      "1968   9.0   NaN  NaN  NaN  NaN  176.0   7.0   NaN  10479.0  \n",
      "1964  23.0   NaN  NaN  NaN  NaN  177.0  15.0  33.0   9480.0  \n",
      "1952  13.0   NaN  NaN  NaN  NaN  203.0   NaN   NaN   9358.0  \n",
      "1960   5.0  20.0  NaN  NaN  NaN  185.0   NaN  10.0   9235.0  \n",
      "1980   NaN   NaN  NaN  NaN  NaN  207.0  43.0  52.0   8937.0  \n",
      "1948   NaN   NaN  NaN  NaN  NaN  192.0   NaN   NaN   7480.0  \n",
      "1936   NaN   NaN  NaN  NaN  NaN  197.0   NaN   NaN   7401.0  \n",
      "1956  10.0   NaN  NaN  NaN  NaN   73.0   NaN   NaN   6434.0  \n",
      "1924   NaN   NaN  NaN  NaN  NaN  123.0   NaN   NaN   5693.0  \n",
      "1928   NaN   NaN  NaN  NaN  NaN   94.0   NaN   2.0   5574.0  \n",
      "2014   NaN   NaN  NaN  NaN  NaN    NaN   NaN   2.0   4891.0  \n",
      "2010   NaN   NaN  NaN  NaN  NaN    NaN   NaN   NaN   4402.0  \n",
      "2006   NaN   NaN  NaN  NaN  NaN    NaN   NaN   NaN   4382.0  \n",
      "1920   NaN   NaN  NaN  NaN  NaN   15.0   NaN   NaN   4292.0  \n",
      "2002   NaN   NaN  NaN  NaN  NaN    NaN   NaN   NaN   4109.0  \n",
      "1912   NaN   NaN  NaN  NaN  NaN    NaN   NaN   NaN   4040.0  \n",
      "1998   NaN   NaN  NaN  NaN  NaN    NaN   NaN   NaN   3605.0  \n",
      "1932   NaN   NaN  NaN  NaN  NaN    1.0   NaN   NaN   3321.0  \n",
      "1994   NaN   NaN  NaN  NaN  NaN    NaN   NaN   NaN   3160.0  \n",
      "1908   NaN   NaN  NaN  NaN  NaN    NaN   NaN   NaN   3101.0  \n",
      "1900   NaN   NaN  NaN  NaN  NaN    NaN   NaN   NaN   1936.0  \n",
      "1906   NaN   NaN  NaN  NaN  NaN    NaN   NaN   NaN   1733.0  \n",
      "1904   NaN   NaN  NaN  NaN  NaN    NaN   NaN   NaN   1301.0  \n",
      "1896   NaN   NaN  NaN  NaN  NaN    NaN   NaN   NaN    380.0  \n",
      "\n",
      "[35 rows x 231 columns]\n",
      "Totals    35\n",
      "dtype: int64\n"
     ]
    }
   ],
   "source": [
    "# Create the pivot table: medals_won_by_country\n",
    "medals_won_by_country = df.pivot_table(index='Year',columns='NOC',values='Name',aggfunc='count')\n",
    "medals_won_by_country['Totals'] = medals_won_by_country.sum(axis='columns')\n",
    "medals_won_by_country = medals_won_by_country.sort_values(by='Totals',ascending=False)\n",
    "\n",
    "print(medals_won_by_country)\n",
    "#print(medals_won_by_country.idxmax(axis='columns').value_counts())\n",
    "#print(medals_won_by_country.index)\n",
    "# Slice medals_won_by_country: cold_war_usa_urs_medals\n",
    "#twentith_century_medals = medals_won_by_country.loc[2000,: ]\n",
    "\n",
    "#print(twenith_century_medals)\n",
    "#most_medals = twentith_century_medals.idxmax()\n",
    "\n",
    "# Print most_medals.value_counts()\n",
    "#print(most_medals)"
   ]
  },
  {
   "cell_type": "code",
   "execution_count": null,
   "metadata": {},
   "outputs": [],
   "source": []
  }
 ],
 "metadata": {
  "kernelspec": {
   "display_name": "Python 3",
   "language": "python",
   "name": "python3"
  },
  "language_info": {
   "codemirror_mode": {
    "name": "ipython",
    "version": 3
   },
   "file_extension": ".py",
   "mimetype": "text/x-python",
   "name": "python",
   "nbconvert_exporter": "python",
   "pygments_lexer": "ipython3",
   "version": "3.7.9"
  }
 },
 "nbformat": 4,
 "nbformat_minor": 4
}
