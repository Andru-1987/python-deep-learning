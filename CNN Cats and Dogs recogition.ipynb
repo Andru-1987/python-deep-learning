{
 "cells": [
  {
   "cell_type": "code",
   "execution_count": 278,
   "metadata": {},
   "outputs": [],
   "source": [
    "import numpy as np\n",
    "from keras.models import Sequential\n",
    "from keras.utils import plot_model\n",
    "import matplotlib.pyplot as plt\n",
    "from keras.utils.np_utils import to_categorical\n",
    "from keras.callbacks import EarlyStopping\n",
    "from PIL import Image\n",
    "import os\n",
    "from keras.layers import Dense, Conv2D, Flatten,MaxPooling2D,Dropout\n",
    "from keras.layers. normalization import BatchNormalization\n",
    "from keras import optimizers\n",
    "from keras.callbacks import EarlyStopping\n",
    "from keras.preprocessing.image import ImageDataGenerator"
   ]
  },
  {
   "cell_type": "code",
   "execution_count": 279,
   "metadata": {},
   "outputs": [],
   "source": [
    "IMG_SIZE=150\n",
    "\n",
    "def load_data(DIR):\n",
    "    #print(DIR,category)\n",
    "    data = []\n",
    "    for img in os.listdir(DIR):\n",
    "        path = os.path.join(DIR, img)\n",
    "        img2 = Image.open(path)\n",
    "        img2 = img2.resize((IMG_SIZE, IMG_SIZE), Image.ANTIALIAS)\n",
    "        data.append(np.array(img2))\n",
    "                     \n",
    "            \n",
    "    #shuffle(train_data)\n",
    "    return data"
   ]
  },
  {
   "cell_type": "code",
   "execution_count": 281,
   "metadata": {
    "scrolled": true
   },
   "outputs": [],
   "source": [
    "#cat_images=load_data(\"./Cat2\")\n",
    "#dog_images=load_data(\"./Dog2\")\n",
    "\n",
    "#catImages = np.array(cat_images).reshape(len(cat_images), IMG_SIZE, IMG_SIZE, 3)\n",
    "#dogImages = np.array(dog_images).reshape(len(dog_images), IMG_SIZE, IMG_SIZE, 3)\n",
    "#rint(catImages.shape,dogImages.shape)\n",
    "\n"
   ]
  },
  {
   "cell_type": "code",
   "execution_count": 282,
   "metadata": {},
   "outputs": [],
   "source": [
    "#data_images=np.concatenate((cat_images,dog_images),axis=0)\n",
    "#labels=np.concatenate(([0 for i in range(len(cat_images))],[1 for i in range(len(dog_images))]),axis=0)\n"
   ]
  },
  {
   "cell_type": "code",
   "execution_count": 287,
   "metadata": {},
   "outputs": [
    {
     "name": "stdout",
     "output_type": "stream",
     "text": [
      "rotation_range is a value in degrees (0-180), a range within which to randomly rotate pictures\n",
      "\n",
      "width_shift and height_shift are ranges (as a fraction of total width or height) within which to randomly translate pictures vertically or horizontally\n",
      "\n",
      "rescale is a value by which we will multiply the data before any other processing. Our original images \n",
      "\n",
      "consist in RGB coefficients in the 0-255, but such values would be too high for our models to process (given a typical learning rate), so we target values between 0 and 1 instead by scaling with a 1/255. factor.\n",
      "\n",
      "shear_range is for randomly applying shearing transformations\n",
      "\n",
      "zoom_range is for randomly zooming inside pictures\n",
      "\n",
      "horizontal_flip is for randomly flipping half of the images horizontally --relevant when there are no assumptions of horizontal assymetry (e.g. real-world pictures).\n",
      "\n",
      "fill_mode is the strategy used for filling in newly created pixels, which can appear after a rotation or a width/height shift.\n",
      "\n",
      "Found 18766 images belonging to 2 classes.\n",
      "0 (20, 150, 150, 3) (20,)\n"
     ]
    }
   ],
   "source": [
    "train_datagen=ImageDataGenerator(\n",
    "    rescale=1./255,\n",
    "    rotation_range=40,\n",
    "    width_shift_range=0.2,\n",
    "    height_shift_range=0.2,\n",
    "    shear_range=0.2,\n",
    "    zoom_range=0.2,\n",
    "    horizontal_flip=True,\n",
    "    fill_mode='nearest'\n",
    ")\n",
    "\n",
    "print(\"rotation_range is a value in degrees (0-180), a range within which to randomly rotate pictures\\n\")\n",
    "print(\"width_shift and height_shift are ranges (as a fraction of total width or height) within which to randomly translate pictures vertically or horizontally\\n\")\n",
    "print(\"rescale is a value by which we will multiply the data before any other processing. Our original images \\n\")\n",
    "print(\"consist in RGB coefficients in the 0-255, but such values would be too high for our models to process (given a typical learning rate), so we target values between 0 and 1 instead by scaling with a 1/255. factor.\\n\")\n",
    "print(\"shear_range is for randomly applying shearing transformations\\n\")\n",
    "print(\"zoom_range is for randomly zooming inside pictures\\n\")\n",
    "print(\"horizontal_flip is for randomly flipping half of the images horizontally --relevant when there are no assumptions of horizontal assymetry (e.g. real-world pictures).\\n\")\n",
    "print(\"fill_mode is the strategy used for filling in newly created pixels, which can appear after a rotation or a width/height shift.\\n\")\n",
    "\n",
    "train_generator=data_datagen.flow_from_directory(\"./data/train\",target_size=(150,150),batch_size=20,class_mode='binary'\n",
    ")\n",
    "\n",
    "count=0\n",
    "for data_batch, labels_batch in train_generator:\n",
    "    print(count,data_batch.shape,labels_batch.shape)\n",
    "    count+=1\n",
    "    break"
   ]
  },
  {
   "cell_type": "code",
   "execution_count": 288,
   "metadata": {},
   "outputs": [
    {
     "name": "stdout",
     "output_type": "stream",
     "text": [
      "Model: \"sequential_43\"\n",
      "_________________________________________________________________\n",
      "Layer (type)                 Output Shape              Param #   \n",
      "=================================================================\n",
      "conv2d_159 (Conv2D)          (None, 148, 148, 32)      896       \n",
      "_________________________________________________________________\n",
      "max_pooling2d_157 (MaxPoolin (None, 74, 74, 32)        0         \n",
      "_________________________________________________________________\n",
      "conv2d_160 (Conv2D)          (None, 72, 72, 64)        18496     \n",
      "_________________________________________________________________\n",
      "max_pooling2d_158 (MaxPoolin (None, 36, 36, 64)        0         \n",
      "_________________________________________________________________\n",
      "conv2d_161 (Conv2D)          (None, 34, 34, 128)       73856     \n",
      "_________________________________________________________________\n",
      "max_pooling2d_159 (MaxPoolin (None, 17, 17, 128)       0         \n",
      "_________________________________________________________________\n",
      "conv2d_162 (Conv2D)          (None, 15, 15, 128)       147584    \n",
      "_________________________________________________________________\n",
      "max_pooling2d_160 (MaxPoolin (None, 7, 7, 128)         0         \n",
      "_________________________________________________________________\n",
      "flatten_39 (Flatten)         (None, 6272)              0         \n",
      "_________________________________________________________________\n",
      "dropout_25 (Dropout)         (None, 6272)              0         \n",
      "_________________________________________________________________\n",
      "dense_72 (Dense)             (None, 512)               3211776   \n",
      "_________________________________________________________________\n",
      "dense_73 (Dense)             (None, 1)                 513       \n",
      "=================================================================\n",
      "Total params: 3,453,121\n",
      "Trainable params: 3,453,121\n",
      "Non-trainable params: 0\n",
      "_________________________________________________________________\n"
     ]
    }
   ],
   "source": [
    "model=Sequential()\n",
    "\n",
    "model.add(Conv2D(32, (3,3),activation='relu',input_shape=(IMG_SIZE,IMG_SIZE,3)))\n",
    "#model.add(Dropout(0.25))\n",
    "model.add(MaxPooling2D(2))\n",
    "\n",
    "#model.add(BatchNormalization())\n",
    "model.add(Conv2D(64, (3,3), activation=\"relu\"))\n",
    "model.add(MaxPooling2D(2,2))\n",
    "model.add(Conv2D(128, (3,3), activation=\"relu\"))\n",
    "model.add(MaxPooling2D(2,2))\n",
    "model.add(Conv2D(128, (3,3), activation=\"relu\"))\n",
    "model.add(MaxPooling2D(2,2))\n",
    "#model.add(BatchNormalization())\n",
    "model.add(Flatten())\n",
    "model.add(Dropout(0.2))\n",
    "model.add(Dense(512,activation='relu'))\n",
    "model.add(Dense(1, activation='sigmoid'))\n",
    "model.compile(loss='binary_crossentropy', optimizer=optimizers.RMSprop(lr=1e-4), metrics = ['acc'])\n",
    "#model.compile(loss='categorical_crossentropy', optimizer='adam', metrics = ['accuracy'])\n",
    "model.summary()"
   ]
  },
  {
   "cell_type": "code",
   "execution_count": 290,
   "metadata": {},
   "outputs": [
    {
     "name": "stdout",
     "output_type": "stream",
     "text": [
      "Epoch 1/3\n",
      "2000/2000 [==============================] - 2072s 1s/step - loss: 0.5830 - acc: 0.7026\n",
      "Epoch 2/3\n",
      "2000/2000 [==============================] - 1965s 983ms/step - loss: 0.5179 - acc: 0.7482\n",
      "Epoch 3/3\n",
      "2000/2000 [==============================] - 2044s 1s/step - loss: 0.4813 - acc: 0.7734\n"
     ]
    }
   ],
   "source": [
    "early_stopping_monitor = EarlyStopping(monitor='val_loss', patience=3)\n",
    "#history=model.fit(data_images, labels, callbacks=[early_stopping_monitor], validation_split=.2, batch_size = 64, epochs = 5, verbose = 1)\n",
    "history=model.fit_generator(train_generator, callbacks=[early_stopping_monitor], steps_per_epoch=2000, epochs =3, verbose = 1)"
   ]
  },
  {
   "cell_type": "code",
   "execution_count": 291,
   "metadata": {},
   "outputs": [],
   "source": [
    "#loss, acc = model.evaluate(data_images, labels, verbose = 1)\n",
    "#print(acc*100)"
   ]
  },
  {
   "cell_type": "code",
   "execution_count": 292,
   "metadata": {},
   "outputs": [
    {
     "data": {
      "image/png": "[encoded data removed]",
      "text/plain": [
       "<Figure size 432x288 with 1 Axes>"
      ]
     },
     "metadata": {
      "needs_background": "light"
     },
     "output_type": "display_data"
    }
   ],
   "source": [
    "hist_dict=history.history\n",
    "epochs=range(1,len(hist_dict['loss'])+1)\n",
    "#print(hist_dict)\n",
    "plt.plot(epochs,hist_dict['loss'],'b',label='loss',c='red')\n",
    "plt.plot(epochs,hist_dict['acc'],'bo',label='accuracy',c='blue')\n",
    "\n",
    "plt.title('model loss/acc')\n",
    "plt.ylabel('loss')\n",
    "plt.xlabel('epoch')\n",
    "plt.legend(loc='upper left')\n",
    "plt.show()"
   ]
  },
  {
   "cell_type": "code",
   "execution_count": 300,
   "metadata": {},
   "outputs": [
    {
     "name": "stdout",
     "output_type": "stream",
     "text": [
      "Dog [[1.]]\n",
      "Cat [[0.]]\n"
     ]
    }
   ],
   "source": [
    "IMG_SIZE=150\n",
    "path=r\"C:\\Users\\dnishimoto.BOISE\\data\\test\\120.jpg\"\n",
    "img2 = Image.open(path)\n",
    "dog_image=img2.resize((IMG_SIZE, IMG_SIZE), Image.ANTIALIAS)\n",
    "dog_image=np.array(dog_image).reshape(-1, IMG_SIZE, IMG_SIZE, 3)\n",
    "prediction=model.predict(dog_image)\n",
    "print(\"Dog\",prediction)\n",
    "path=r\"C:\\Users\\dnishimoto.BOISE\\data\\test\\test_cat.jpg\"\n",
    "img2 = Image.open(path)\n",
    "cat_image=img2.resize((IMG_SIZE, IMG_SIZE), Image.ANTIALIAS)\n",
    "cat_image=np.array(cat_image).reshape(-1, IMG_SIZE, IMG_SIZE, 3)\n",
    "prediction=model.predict(cat_image)\n",
    "print(\"Cat\",prediction)\n"
   ]
  },
  {
   "cell_type": "code",
   "execution_count": null,
   "metadata": {},
   "outputs": [],
   "source": []
  }
 ],
 "metadata": {
  "kernelspec": {
   "display_name": "Python 3",
   "language": "python",
   "name": "python3"
  },
  "language_info": {
   "codemirror_mode": {
    "name": "ipython",
    "version": 3
   },
   "file_extension": ".py",
   "mimetype": "text/x-python",
   "name": "python",
   "nbconvert_exporter": "python",
   "pygments_lexer": "ipython3",
   "version": "3.7.9"
  }
 },
 "nbformat": 4,
 "nbformat_minor": 4
}
