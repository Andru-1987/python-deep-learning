{
 "cells": [
  {
   "cell_type": "code",
   "execution_count": 9,
   "metadata": {},
   "outputs": [
    {
     "name": "stderr",
     "output_type": "stream",
     "text": [
      "Using TensorFlow backend.\n"
     ]
    }
   ],
   "source": [
    "#https://opendatascience.com/how-the-multinomial-logistic-regression-model-works/\n",
    "import pandas as pd\n",
    "import numpy as np\n",
    "import matplotlib.pyplot as plt\n",
    "from sklearn.linear_model import LogisticRegression\n",
    "from sklearn.model_selection import train_test_split\n",
    "from sklearn.metrics import roc_curve\n",
    "from scipy.optimize import minimize\n",
    "from sklearn.metrics import log_loss\n",
    "from sklearn.preprocessing import MinMaxScaler\n",
    "import seaborn as sns\n",
    "from sklearn.linear_model import Lasso\n",
    "from sklearn.metrics import classification_report\n",
    "from sklearn.metrics import confusion_matrix\n",
    "from sklearn.datasets import load_iris\n",
    "from sklearn.preprocessing import LabelBinarizer\n",
    "from sklearn.metrics import roc_auc_score\n",
    "\n",
    "import keras\n",
    "from keras.utils.np_utils import to_categorical\n",
    "from keras.layers import Dense\n",
    "from keras.models import Sequential\n",
    "from keras.callbacks import EarlyStopping\n",
    "from keras.optimizers import SGD\n"
   ]
  },
  {
   "cell_type": "code",
   "execution_count": 3,
   "metadata": {},
   "outputs": [
    {
     "name": "stdout",
     "output_type": "stream",
     "text": [
      "['setosa' 'versicolor' 'virginica']\n",
      "   sepal length (cm)  sepal width (cm)  petal length (cm)  petal width (cm)  \\\n",
      "0                5.1               3.5                1.4               0.2   \n",
      "1                4.9               3.0                1.4               0.2   \n",
      "2                4.7               3.2                1.3               0.2   \n",
      "3                4.6               3.1                1.5               0.2   \n",
      "4                5.0               3.6                1.4               0.2   \n",
      "\n",
      "  species  \n",
      "0  setosa  \n",
      "1  setosa  \n",
      "2  setosa  \n",
      "3  setosa  \n",
      "4  setosa  \n"
     ]
    },
    {
     "name": "stderr",
     "output_type": "stream",
     "text": [
      "C:\\Users\\dnishimoto.BOISE\\AppData\\Local\\Continuum\\anaconda3\\envs\\deeplearning\\lib\\site-packages\\sklearn\\linear_model\\logistic.py:433: FutureWarning: Default solver will be changed to 'lbfgs' in 0.22. Specify a solver to silence this warning.\n",
      "  FutureWarning)\n",
      "C:\\Users\\dnishimoto.BOISE\\AppData\\Local\\Continuum\\anaconda3\\envs\\deeplearning\\lib\\site-packages\\sklearn\\linear_model\\logistic.py:460: FutureWarning: Default multi_class will be changed to 'auto' in 0.22. Specify the multi_class option to silence this warning.\n",
      "  \"this warning.\", FutureWarning)\n"
     ]
    },
    {
     "data": {
      "image/png": "[encoded data removed]",
      "text/plain": [
       "<Figure size 432x288 with 1 Axes>"
      ]
     },
     "metadata": {
      "needs_background": "light"
     },
     "output_type": "display_data"
    }
   ],
   "source": [
    "iris=load_iris()\n",
    "print(iris.target_names)\n",
    "df=pd.DataFrame(iris.data,columns=iris.feature_names)\n",
    "df['species']=pd.Categorical.from_codes(iris.target,iris.target_names)\n",
    "\n",
    "df = df.dropna()\n",
    "print(df.head())\n",
    "\n",
    "features = df.columns[:4]\n",
    "X=df[features]\n",
    "y=pd.factorize(df['species'])[0]\n",
    "X_train, X_test,y_train,y_test=train_test_split(X,y,test_size=0.2,random_state=42)\n",
    "\n",
    "lr=LogisticRegression(C=100)\n",
    "\n",
    "lr.fit(X_train,y_train)\n",
    "\n",
    "y_pred=lr.predict(X_test)\n",
    "\n",
    "setosa=y_pred[y_pred==2]\n",
    "versicolor=y_pred[y_pred==0] \n",
    "virginica=y_pred[y_pred==1]\n",
    "\n",
    "buffer=pd.Series(y_pred)\n",
    "buffer.value_counts().plot(kind='bar')\n",
    "plt.annotate(str(len(setosa)), xy=(0,len(setosa)))\n",
    "plt.annotate(str(len(versicolor)), xy=(1,len(versicolor)))\n",
    "plt.annotate(str(len(virginica)), xy=(2,len(virginica)))\n",
    "plt.show()\n",
    "\n",
    "\n"
   ]
  },
  {
   "cell_type": "code",
   "execution_count": 4,
   "metadata": {},
   "outputs": [
    {
     "name": "stdout",
     "output_type": "stream",
     "text": [
      "[[10  0  0]\n",
      " [ 0  9  0]\n",
      " [ 0  0 11]]\n"
     ]
    }
   ],
   "source": [
    "confusion_matrix = confusion_matrix(y_test, y_pred)\n",
    "print(confusion_matrix)\n"
   ]
  },
  {
   "cell_type": "code",
   "execution_count": 5,
   "metadata": {},
   "outputs": [
    {
     "data": {
      "text/plain": [
       "Text(0.5, 257.44, 'Predicted label')"
      ]
     },
     "execution_count": 5,
     "metadata": {},
     "output_type": "execute_result"
    },
    {
     "data": {
      "image/png": "[encoded data removed]",
      "text/plain": [
       "<Figure size 432x288 with 2 Axes>"
      ]
     },
     "metadata": {
      "needs_background": "light"
     },
     "output_type": "display_data"
    }
   ],
   "source": [
    "class_names=[1,2,3]\n",
    "fig, ax = plt.subplots()\n",
    "tick_marks = np.arange(len(class_names))\n",
    "plt.xticks(tick_marks, class_names)\n",
    "plt.yticks(tick_marks, class_names)\n",
    "sns.heatmap(pd.DataFrame(confusion_matrix), annot=True, cmap=\"coolwarm\" ,fmt='g')\n",
    "ax.xaxis.set_label_position(\"top\")\n",
    "plt.tight_layout()\n",
    "plt.title('Confusion matrix', y=1.1)\n",
    "plt.ylabel('Actual label')\n",
    "plt.xlabel('Predicted label')"
   ]
  },
  {
   "cell_type": "code",
   "execution_count": 6,
   "metadata": {},
   "outputs": [
    {
     "name": "stdout",
     "output_type": "stream",
     "text": [
      "Accuracy is %s 100.0\n"
     ]
    }
   ],
   "source": [
    "print(\"Accuracy is %s\",lr.score(X_test,y_test)*100)"
   ]
  },
  {
   "cell_type": "code",
   "execution_count": 7,
   "metadata": {},
   "outputs": [
    {
     "name": "stdout",
     "output_type": "stream",
     "text": [
      "Area under curve :  1.0\n"
     ]
    }
   ],
   "source": [
    "def multiclass_roc_auc_score(y_test, y_pred, average=\"macro\"):\n",
    "    lb = LabelBinarizer()\n",
    "    lb.fit(y_test)\n",
    "    y_test = lb.transform(y_test)\n",
    "    y_pred = lb.transform(y_pred)\n",
    "    return roc_auc_score(y_test, y_pred, average=average)\n",
    "\n",
    "auc = multiclass_roc_auc_score(y_test, y_pred, average=\"macro\")\n",
    "print(\"Area under curve : \", auc)"
   ]
  },
  {
   "cell_type": "code",
   "execution_count": 14,
   "metadata": {},
   "outputs": [
    {
     "name": "stdout",
     "output_type": "stream",
     "text": [
      "4\n"
     ]
    },
    {
     "name": "stderr",
     "output_type": "stream",
     "text": [
      "C:\\Users\\dnishimoto.BOISE\\AppData\\Local\\Continuum\\anaconda3\\envs\\deeplearning\\lib\\site-packages\\ipykernel_launcher.py:19: UserWarning: The `nb_epoch` argument in `fit` has been renamed `epochs`.\n"
     ]
    },
    {
     "name": "stdout",
     "output_type": "stream",
     "text": [
      "Epoch 1/100\n",
      "150/150 [==============================] - 0s 791us/step - loss: 1.2329 - accuracy: 0.3267\n",
      "Epoch 2/100\n",
      "150/150 [==============================] - 0s 60us/step - loss: 0.7230 - accuracy: 0.7467\n",
      "Epoch 3/100\n",
      "150/150 [==============================] - 0s 86us/step - loss: 0.7862 - accuracy: 0.6000\n",
      "Epoch 4/100\n",
      "150/150 [==============================] - 0s 80us/step - loss: 0.5922 - accuracy: 0.6800\n",
      "Epoch 5/100\n",
      "150/150 [==============================] - 0s 80us/step - loss: 0.4769 - accuracy: 0.7133\n",
      "Epoch 6/100\n",
      "150/150 [==============================] - 0s 80us/step - loss: 0.5764 - accuracy: 0.6667\n",
      "Epoch 7/100\n",
      "150/150 [==============================] - 0s 67us/step - loss: 0.4096 - accuracy: 0.8200\n",
      "Epoch 8/100\n",
      "150/150 [==============================] - 0s 73us/step - loss: 0.8441 - accuracy: 0.5133\n",
      "Epoch 9/100\n",
      "150/150 [==============================] - 0s 53us/step - loss: 0.3904 - accuracy: 0.8733\n",
      "Epoch 10/100\n",
      "150/150 [==============================] - 0s 53us/step - loss: 0.3417 - accuracy: 0.8600\n",
      "Epoch 11/100\n",
      "150/150 [==============================] - 0s 73us/step - loss: 0.6744 - accuracy: 0.6733\n",
      "Epoch 12/100\n",
      "150/150 [==============================] - 0s 66us/step - loss: 0.4239 - accuracy: 0.7600\n",
      "Epoch 13/100\n",
      "150/150 [==============================] - 0s 60us/step - loss: 0.3052 - accuracy: 0.8667\n",
      "Epoch 14/100\n",
      "150/150 [==============================] - 0s 47us/step - loss: 0.4793 - accuracy: 0.8200\n",
      "Epoch 15/100\n",
      "150/150 [==============================] - 0s 66us/step - loss: 0.3701 - accuracy: 0.8533\n",
      "Epoch 16/100\n",
      "150/150 [==============================] - 0s 66us/step - loss: 0.5143 - accuracy: 0.7667\n",
      "Epoch 17/100\n",
      "150/150 [==============================] - 0s 66us/step - loss: 0.5273 - accuracy: 0.7400\n",
      "Epoch 18/100\n",
      "150/150 [==============================] - 0s 80us/step - loss: 0.3800 - accuracy: 0.8733\n",
      "Epoch 19/100\n",
      "150/150 [==============================] - 0s 53us/step - loss: 0.4350 - accuracy: 0.8200\n",
      "Epoch 20/100\n",
      "150/150 [==============================] - 0s 67us/step - loss: 0.2975 - accuracy: 0.8867\n",
      "Epoch 21/100\n",
      "150/150 [==============================] - 0s 80us/step - loss: 0.4768 - accuracy: 0.7867\n",
      "Epoch 22/100\n",
      "150/150 [==============================] - 0s 80us/step - loss: 0.4146 - accuracy: 0.7667\n",
      "Epoch 23/100\n",
      "150/150 [==============================] - 0s 53us/step - loss: 0.2946 - accuracy: 0.9067\n",
      "Epoch 24/100\n",
      "150/150 [==============================] - 0s 47us/step - loss: 0.4635 - accuracy: 0.7867\n",
      "Epoch 25/100\n",
      "150/150 [==============================] - 0s 60us/step - loss: 0.3477 - accuracy: 0.8800\n",
      "Epoch 26/100\n",
      "150/150 [==============================] - 0s 73us/step - loss: 0.4223 - accuracy: 0.8200\n",
      "Epoch 27/100\n",
      "150/150 [==============================] - 0s 47us/step - loss: 0.4271 - accuracy: 0.8000\n",
      "Epoch 28/100\n",
      "150/150 [==============================] - 0s 66us/step - loss: 0.2242 - accuracy: 0.9600\n",
      "Epoch 29/100\n",
      "150/150 [==============================] - 0s 60us/step - loss: 0.4203 - accuracy: 0.8267\n",
      "Epoch 30/100\n",
      "150/150 [==============================] - 0s 67us/step - loss: 0.4146 - accuracy: 0.8200\n",
      "Epoch 31/100\n",
      "150/150 [==============================] - 0s 53us/step - loss: 0.2171 - accuracy: 0.9600\n",
      "Epoch 32/100\n",
      "150/150 [==============================] - 0s 60us/step - loss: 0.3197 - accuracy: 0.8467\n",
      "Epoch 33/100\n",
      "150/150 [==============================] - 0s 53us/step - loss: 0.2786 - accuracy: 0.8800\n",
      "Epoch 34/100\n",
      "150/150 [==============================] - 0s 60us/step - loss: 0.2112 - accuracy: 0.9000\n",
      "Epoch 35/100\n",
      "150/150 [==============================] - 0s 60us/step - loss: 0.1545 - accuracy: 0.9667\n",
      "Epoch 36/100\n",
      "150/150 [==============================] - 0s 53us/step - loss: 0.5501 - accuracy: 0.8067\n",
      "Epoch 37/100\n",
      "150/150 [==============================] - 0s 53us/step - loss: 0.3922 - accuracy: 0.8333\n",
      "Epoch 38/100\n",
      "150/150 [==============================] - 0s 53us/step - loss: 0.3460 - accuracy: 0.8467\n",
      "Epoch 39/100\n",
      "150/150 [==============================] - 0s 60us/step - loss: 0.2835 - accuracy: 0.9067\n",
      "Epoch 40/100\n",
      "150/150 [==============================] - 0s 67us/step - loss: 0.4057 - accuracy: 0.8667\n",
      "Epoch 41/100\n",
      "150/150 [==============================] - 0s 73us/step - loss: 0.2079 - accuracy: 0.9533\n",
      "Epoch 42/100\n",
      "150/150 [==============================] - 0s 86us/step - loss: 0.4721 - accuracy: 0.8333\n",
      "Epoch 43/100\n",
      "150/150 [==============================] - 0s 67us/step - loss: 0.3355 - accuracy: 0.8333\n",
      "Epoch 44/100\n",
      "150/150 [==============================] - 0s 53us/step - loss: 0.2265 - accuracy: 0.9267\n",
      "Epoch 45/100\n",
      "150/150 [==============================] - 0s 80us/step - loss: 0.2150 - accuracy: 0.8933\n",
      "Epoch 46/100\n",
      "150/150 [==============================] - 0s 53us/step - loss: 0.2963 - accuracy: 0.8800\n",
      "Epoch 47/100\n",
      "150/150 [==============================] - 0s 60us/step - loss: 0.2352 - accuracy: 0.9200\n",
      "Epoch 48/100\n",
      "150/150 [==============================] - 0s 53us/step - loss: 0.4002 - accuracy: 0.8133\n",
      "Epoch 49/100\n",
      "150/150 [==============================] - 0s 80us/step - loss: 0.1998 - accuracy: 0.9467\n",
      "Epoch 50/100\n",
      "150/150 [==============================] - 0s 66us/step - loss: 0.3466 - accuracy: 0.8667\n",
      "Epoch 51/100\n",
      "150/150 [==============================] - 0s 47us/step - loss: 0.1533 - accuracy: 0.9667\n",
      "Epoch 52/100\n",
      "150/150 [==============================] - 0s 53us/step - loss: 0.4874 - accuracy: 0.7933\n",
      "Epoch 53/100\n",
      "150/150 [==============================] - 0s 47us/step - loss: 0.1748 - accuracy: 0.9733\n",
      "Epoch 54/100\n",
      "150/150 [==============================] - 0s 53us/step - loss: 0.5144 - accuracy: 0.7600\n",
      "Epoch 55/100\n",
      "150/150 [==============================] - 0s 66us/step - loss: 0.2760 - accuracy: 0.9533\n",
      "Epoch 56/100\n",
      "150/150 [==============================] - 0s 60us/step - loss: 0.1671 - accuracy: 0.9333\n",
      "Epoch 57/100\n",
      "150/150 [==============================] - 0s 47us/step - loss: 0.3541 - accuracy: 0.8133\n",
      "Epoch 58/100\n",
      "150/150 [==============================] - 0s 53us/step - loss: 0.1793 - accuracy: 0.9267\n",
      "Epoch 59/100\n",
      "150/150 [==============================] - 0s 53us/step - loss: 0.1443 - accuracy: 0.9600\n",
      "Epoch 60/100\n",
      "150/150 [==============================] - 0s 47us/step - loss: 0.2172 - accuracy: 0.9067\n",
      "Epoch 61/100\n",
      "150/150 [==============================] - 0s 60us/step - loss: 0.1648 - accuracy: 0.9133\n",
      "Epoch 62/100\n",
      "150/150 [==============================] - 0s 47us/step - loss: 0.5823 - accuracy: 0.7667\n",
      "Epoch 63/100\n",
      "150/150 [==============================] - 0s 60us/step - loss: 0.1525 - accuracy: 0.9800\n",
      "Epoch 64/100\n",
      "150/150 [==============================] - 0s 53us/step - loss: 0.1965 - accuracy: 0.8933\n",
      "Epoch 65/100\n",
      "150/150 [==============================] - 0s 60us/step - loss: 0.2716 - accuracy: 0.8733\n",
      "Epoch 66/100\n",
      "150/150 [==============================] - 0s 53us/step - loss: 0.0974 - accuracy: 0.9733\n",
      "Epoch 67/100\n",
      "150/150 [==============================] - 0s 73us/step - loss: 0.3355 - accuracy: 0.8533\n",
      "Epoch 68/100\n",
      "150/150 [==============================] - 0s 53us/step - loss: 0.1992 - accuracy: 0.9067\n",
      "Epoch 69/100\n",
      "150/150 [==============================] - 0s 60us/step - loss: 0.1700 - accuracy: 0.9067\n",
      "Epoch 70/100\n",
      "150/150 [==============================] - 0s 60us/step - loss: 0.1049 - accuracy: 0.9467\n",
      "Epoch 71/100\n",
      "150/150 [==============================] - 0s 53us/step - loss: 0.2437 - accuracy: 0.9000\n",
      "Epoch 72/100\n",
      "150/150 [==============================] - 0s 60us/step - loss: 0.2448 - accuracy: 0.8933\n",
      "Epoch 73/100\n",
      "150/150 [==============================] - 0s 66us/step - loss: 0.1462 - accuracy: 0.9533\n",
      "Epoch 74/100\n",
      "150/150 [==============================] - 0s 60us/step - loss: 0.0958 - accuracy: 0.9600\n",
      "Epoch 75/100\n",
      "150/150 [==============================] - 0s 47us/step - loss: 0.1779 - accuracy: 0.9200\n",
      "Epoch 76/100\n",
      "150/150 [==============================] - 0s 53us/step - loss: 0.2531 - accuracy: 0.8933\n",
      "Epoch 77/100\n",
      "150/150 [==============================] - 0s 53us/step - loss: 0.0928 - accuracy: 0.9733\n",
      "Epoch 78/100\n",
      "150/150 [==============================] - 0s 60us/step - loss: 0.2958 - accuracy: 0.8733\n",
      "Epoch 79/100\n",
      "150/150 [==============================] - 0s 60us/step - loss: 0.2313 - accuracy: 0.8867\n",
      "Epoch 80/100\n"
     ]
    },
    {
     "name": "stdout",
     "output_type": "stream",
     "text": [
      "150/150 [==============================] - 0s 47us/step - loss: 0.0971 - accuracy: 0.9867\n",
      "Epoch 81/100\n",
      "150/150 [==============================] - 0s 47us/step - loss: 0.1905 - accuracy: 0.9000\n",
      "Epoch 82/100\n",
      "150/150 [==============================] - 0s 60us/step - loss: 0.1861 - accuracy: 0.9267\n",
      "Epoch 83/100\n",
      "150/150 [==============================] - 0s 47us/step - loss: 0.2135 - accuracy: 0.9133\n",
      "Epoch 84/100\n",
      "150/150 [==============================] - 0s 60us/step - loss: 0.1011 - accuracy: 0.9667\n",
      "Epoch 85/100\n",
      "150/150 [==============================] - 0s 53us/step - loss: 0.0925 - accuracy: 0.9667\n",
      "Epoch 86/100\n",
      "150/150 [==============================] - 0s 53us/step - loss: 0.4073 - accuracy: 0.8533\n",
      "Epoch 87/100\n",
      "150/150 [==============================] - 0s 53us/step - loss: 0.1383 - accuracy: 0.9800\n",
      "Epoch 88/100\n",
      "150/150 [==============================] - 0s 53us/step - loss: 0.0991 - accuracy: 0.9733\n",
      "Epoch 89/100\n",
      "150/150 [==============================] - 0s 66us/step - loss: 0.1673 - accuracy: 0.9333\n",
      "Epoch 90/100\n",
      "150/150 [==============================] - 0s 47us/step - loss: 0.1925 - accuracy: 0.9200\n",
      "Epoch 91/100\n",
      "150/150 [==============================] - 0s 60us/step - loss: 0.1154 - accuracy: 0.9600\n",
      "Epoch 92/100\n",
      "150/150 [==============================] - 0s 66us/step - loss: 0.1679 - accuracy: 0.9200\n",
      "Epoch 93/100\n",
      "150/150 [==============================] - 0s 46us/step - loss: 0.1046 - accuracy: 0.9733\n",
      "Epoch 94/100\n",
      "150/150 [==============================] - 0s 60us/step - loss: 0.0776 - accuracy: 0.9667\n",
      "Epoch 95/100\n",
      "150/150 [==============================] - 0s 53us/step - loss: 0.4383 - accuracy: 0.8333\n",
      "Epoch 96/100\n",
      "150/150 [==============================] - 0s 53us/step - loss: 0.1585 - accuracy: 0.9533\n",
      "Epoch 97/100\n",
      "150/150 [==============================] - 0s 60us/step - loss: 0.1093 - accuracy: 0.9667\n",
      "Epoch 98/100\n",
      "150/150 [==============================] - 0s 46us/step - loss: 0.0835 - accuracy: 0.9733\n",
      "Epoch 99/100\n",
      "150/150 [==============================] - 0s 53us/step - loss: 0.2187 - accuracy: 0.9067\n",
      "Epoch 100/100\n",
      "150/150 [==============================] - 0s 73us/step - loss: 0.1537 - accuracy: 0.9133\n"
     ]
    },
    {
     "data": {
      "text/plain": [
       "<keras.callbacks.callbacks.History at 0x1ee32cbfa88>"
      ]
     },
     "execution_count": 14,
     "metadata": {},
     "output_type": "execute_result"
    }
   ],
   "source": [
    "predictors=iris.data\n",
    "#print(type(iris.data))\n",
    "target=to_categorical(iris.target)\n",
    "\n",
    "n_cols=predictors.shape[1]\n",
    "print(n_cols)\n",
    "\n",
    "early_stopping_monitor=EarlyStopping(patience=3)\n",
    "\n",
    "model=Sequential()\n",
    "model.add(Dense(100, activation='relu', input_shape=(n_cols,)))\n",
    "model.add(Dense(100, activation='relu'))\n",
    "model.add(Dense(100, activation='relu'))\n",
    "model.add(Dense(3, activation='softmax'))\n",
    "\n",
    "myOptimizer=SGD(0.1)\n",
    "#model.compile(optimizer='adam', loss='categorical_crossentropy', metrics=['accuracy'])\n",
    "model.compile(optimizer=myOptimizer, loss='categorical_crossentropy', metrics=['accuracy'])\n",
    "model.fit(predictors, target,callbacks=[early_stopping_monitor],  nb_epoch=100)"
   ]
  },
  {
   "cell_type": "code",
   "execution_count": 66,
   "metadata": {},
   "outputs": [
    {
     "data": {
      "image/png": "[encoded data removed]",
      "text/plain": [
       "<Figure size 432x288 with 1 Axes>"
      ]
     },
     "metadata": {
      "needs_background": "light"
     },
     "output_type": "display_data"
    }
   ],
   "source": [
    "y_pred=model.predict(X_test)\n",
    "\n",
    "#print(y_pred)\n",
    "setosa=np.array([y_pred[i][0] for i in range(len(y_pred))])\n",
    "versicolor=np.array([y_pred[i][1] for i in range(len(y_pred))])\n",
    "virginica=np.array([y_pred[i][2] for i in range(len(y_pred))])\n",
    "\n",
    "#print(setosa)\n",
    "\n",
    "#buffer=pd.Series(y_pred)\n",
    "df2=pd.DataFrame({'setosa': [len(setosa[setosa>.95])],'versicolor': [len(versicolor[versicolor>.95])], 'virginica': [len(virginica[virginica>.95])] })\n",
    "df2['id']=np.arange(0,1)\n",
    "df2=df2.set_index('id')\n",
    "df2.plot.bar()\n",
    "plt.show()"
   ]
  },
  {
   "cell_type": "code",
   "execution_count": null,
   "metadata": {},
   "outputs": [],
   "source": []
  }
 ],
 "metadata": {
  "kernelspec": {
   "display_name": "Python 3",
   "language": "python",
   "name": "python3"
  },
  "language_info": {
   "codemirror_mode": {
    "name": "ipython",
    "version": 3
   },
   "file_extension": ".py",
   "mimetype": "text/x-python",
   "name": "python",
   "nbconvert_exporter": "python",
   "pygments_lexer": "ipython3",
   "version": "3.7.7"
  }
 },
 "nbformat": 4,
 "nbformat_minor": 4
}
