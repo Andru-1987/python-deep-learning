{
 "cells": [
  {
   "cell_type": "code",
   "execution_count": 255,
   "metadata": {},
   "outputs": [
    {
     "name": "stdout",
     "output_type": "stream",
     "text": [
      "deaths by county                            cases deaths\n",
      "                             max    max\n",
      "state    county date                   \n",
      "Colorado Adams  2020-04-01   214      6\n",
      "                2020-04-02   260      7\n",
      "                2020-04-03   294      9\n",
      "                2020-04-04   320      9\n",
      "                2020-04-05   354     10\n",
      "...                          ...    ...\n",
      "Utah     Weber  2020-04-18   105      1\n",
      "                2020-04-19   110      1\n",
      "                2020-04-20   119      1\n",
      "                2020-04-21   119      1\n",
      "                2020-04-22   125      1\n",
      "\n",
      "[2433 rows x 2 columns]\n"
     ]
    },
    {
     "name": "stderr",
     "output_type": "stream",
     "text": [
      "C:\\Users\\dnishimoto.BOISE\\AppData\\Local\\Continuum\\anaconda3\\envs\\deeplearning\\lib\\site-packages\\ipykernel_launcher.py:37: FutureWarning: Indexing with multiple keys (implicitly converted to a tuple of keys) will be deprecated, use a list instead.\n"
     ]
    }
   ],
   "source": [
    "import numpy as np\n",
    "import seaborn as sns\n",
    "import pandas as pd\n",
    "import matplotlib.pyplot as plt\n",
    "from scipy import stats\n",
    "from sklearn.model_selection import train_test_split\n",
    "from sys import exit\n",
    "from sklearn.preprocessing import StandardScaler\n",
    "from sklearn.neural_network import MLPClassifier\n",
    "from sklearn.metrics import classification_report,confusion_matrix\n",
    "from sklearn.linear_model import ElasticNet\n",
    "from sklearn.preprocessing import StandardScaler\n",
    "from sklearn.impute import SimpleImputer  \n",
    "from sklearn.pipeline import Pipeline\n",
    "from sklearn.metrics import accuracy_score\n",
    "from sklearn.model_selection import GridSearchCV\n",
    "from sklearn import decomposition\n",
    "\n",
    "from sklearn.linear_model import LinearRegression, BayesianRidge\n",
    "from sklearn.model_selection import RandomizedSearchCV, train_test_split\n",
    "from sklearn.preprocessing import PolynomialFeatures\n",
    "from sklearn.tree import DecisionTreeRegressor\n",
    "from sklearn.svm import SVR\n",
    "from sklearn.metrics import mean_squared_error, mean_absolute_error\n",
    "from sklearn import linear_model\n",
    "import statsmodels.regression.linear_model as sm\n",
    "from sklearn.ensemble import GradientBoostingRegressor\n",
    "\n",
    "    \n",
    "df = pd.read_csv(\"https://raw.githubusercontent.com/nytimes/covid-19-data/master/us-counties.csv\",encoding = \"ISO-8859-1\")\n",
    "\n",
    "filter=df[\"state\"].isin(['Colorado','Idaho','Utah'])\n",
    "#filter=df[\"state\"].isin(['Utah'])\n",
    "df=df[filter]\n",
    "filter=df[\"date\"]>='2020-04-01'\n",
    "df=df[filter]\n",
    "df=df.sort_values(['county'],ascending=True)\n",
    "print(\"deaths by county \" +str(df.groupby([\"state\",\"county\",'date'])[\"cases\",\"deaths\"].agg([max])))\n",
    "\n"
   ]
  },
  {
   "cell_type": "code",
   "execution_count": 256,
   "metadata": {},
   "outputs": [
    {
     "name": "stdout",
     "output_type": "stream",
     "text": [
      "Ada\n",
      "Adams\n",
      "Arapahoe\n",
      "Boulder\n",
      "Denver\n",
      "Douglas\n",
      "El Paso\n",
      "Jefferson\n",
      "Larimer\n",
      "Nez Perce\n",
      "Salt Lake\n",
      "Twin Falls\n"
     ]
    },
    {
     "name": "stderr",
     "output_type": "stream",
     "text": [
      "No handles with labels found to put in legend.\n"
     ]
    },
    {
     "name": "stdout",
     "output_type": "stream",
     "text": [
      "Weld\n"
     ]
    },
    {
     "data": {
      "image/png": "[encoded data removed]",
      "text/plain": [
       "<Figure size 432x288 with 13 Axes>"
      ]
     },
     "metadata": {
      "needs_background": "light"
     },
     "output_type": "display_data"
    },
    {
     "data": {
      "image/png": "[encoded data removed]",
      "text/plain": [
       "<Figure size 432x288 with 1 Axes>"
      ]
     },
     "metadata": {
      "needs_background": "light"
     },
     "output_type": "display_data"
    },
    {
     "name": "stderr",
     "output_type": "stream",
     "text": [
      "C:\\Users\\dnishimoto.BOISE\\AppData\\Local\\Continuum\\anaconda3\\envs\\deeplearning\\lib\\site-packages\\sklearn\\ensemble\\_gb.py:1454: DataConversionWarning: A column-vector y was passed when a 1d array was expected. Please change the shape of y to (n_samples, ), for example using ravel().\n",
      "  y = column_or_1d(y, warn=True)\n"
     ]
    },
    {
     "data": {
      "image/png": "[encoded data removed]",
      "text/plain": [
       "<Figure size 432x288 with 1 Axes>"
      ]
     },
     "metadata": {
      "needs_background": "light"
     },
     "output_type": "display_data"
    }
   ],
   "source": [
    "#results=df.pivot_table(index=[\"state\",\"county\"],columns='date', values=['deaths','cases'],fill_value=0)\n",
    "#df_results=pd.DataFrame(results.to_records())\n",
    "#plt.clf()\n",
    "#results.plot(kind=\"scatter\", \n",
    "#             x=\"cases\",\n",
    "#             y=\"deaths\",\n",
    "#             title=\"cases by deaths\",rot=45)\n",
    "#plt.xticks(rotation=45, ha='right')\n",
    "#plt.show()\n",
    "\n",
    "\n",
    "deaths=df['deaths'].tolist()\n",
    "cases=df['cases'].tolist()\n",
    "counties=df['county'].tolist()\n",
    "counties_filter=df.groupby(['state','county'])['deaths'].max()>10\n",
    "counties_filter=counties_filter.loc[counties_filter.values==True]\n",
    "counties=pd.merge(df,counties_filter,how='inner',on=['state','county'])\n",
    "counties_df=counties[counties['deaths_y']==True]\n",
    "counties_unique=counties_df['county'].unique()\n",
    "\n",
    "#grouped = counties_df.groupby('date')\n",
    "#Figure out number of rows needed for 2 column grid plot\n",
    "#Also accounts for odd number of plots\n",
    "#nrows = int(math.ceil(len(grouped)/2.))\n",
    "\n",
    "#Setup Subplots\n",
    "#fig, axs = plt.subplots(nrows,2)\n",
    "#for ax in axs.flatten():\n",
    "#    for i,j in grouped:\n",
    "#        j.plot(x='deaths_x',y='cases', ax=ax)\n",
    "#plt.show()\n",
    "\n",
    "rows=len(counties_unique)\n",
    "\n",
    "fig,ax = plt.subplots(rows,1,sharex=True)\n",
    "index=0\n",
    "\n",
    "deaths=[]\n",
    "cases=[]\n",
    "index_date=[]\n",
    "\n",
    "for item in counties_unique:\n",
    "    print(item)\n",
    "    subset_df=df[df['county']==item]\n",
    "    dates=pd.to_datetime(subset_df['date']).dt.date\n",
    "    dates=dates.unique()\n",
    "    \n",
    "    index=0\n",
    "    for date in dates:\n",
    "        subset_df=df[(df['county']==item) & (df['date']==str(date)) ]\n",
    "        #print(subset_df.head(5))\n",
    "        #deaths.append(subset_df.groupby('date')['deaths'].sum())\n",
    "        result=subset_df.groupby('date')['deaths'].sum()\n",
    "        deaths.append(result[0])\n",
    "        index_date.append(date)\n",
    "        subset_df=df[(df['county']==item)  & (df['date']==str(date))]\n",
    "        result=subset_df.groupby('date')['cases'].sum()\n",
    "        cases.append(result[0])\n",
    "        \n",
    "    \n",
    "    #print(cases)\n",
    "\n",
    "    dict={\n",
    "        'deaths':deaths,\n",
    "        'cases':cases,\n",
    "        'date':index_date\n",
    "    }\n",
    "    #df_summary=pd.DataFrame(dict)\n",
    "    #print(df_summary)\n",
    "    #ax[index].bar(results['deaths'],results['cases'])\n",
    "    #ax[index].set_title(item)\n",
    "    deaths.clear()\n",
    "    cases.clear()\n",
    "    index+=1\n",
    "    \n",
    "plt.legend()  \n",
    "plt.show()\n",
    "\n",
    "deaths_unique=counties_df.groupby(['county','date'])['deaths_x'].max()\n",
    "cases_unique =counties_df.groupby(['county','date'])['cases'].max()\n",
    "counties_unique=counties_df['county'].unique()\n",
    "\n",
    "\n",
    "plt.hist(deaths_unique,bins=5)\n",
    "plt.title('Deaths histogram')\n",
    "plt.xlabel='occurrences'\n",
    "plt.ylabel='deaths'\n",
    "\n",
    "plt.show()\n",
    "\n",
    "X_cases=np.array(cases_unique).reshape(-1,1)\n",
    "y_deaths=np.array(deaths_unique).reshape(-1,1)\n",
    "prediction_space=np.linspace(min(X_cases),max(X_cases)).reshape(-1,1)\n",
    "\n",
    "model = linear_model.LinearRegression()\n",
    "model.fit(X_cases, y_deaths)\n",
    "\n",
    "SEED=1\n",
    "gbt=GradientBoostingRegressor(n_estimators=300, max_depth=1, random_state=SEED)\n",
    "gbt.fit(X_cases, y_deaths)  \n",
    "\n",
    "prediction_space=np.linspace(min(X_cases),max(X_cases)).reshape(-1,1)\n",
    "\n",
    "plt.clf()\n",
    "plt.scatter(cases_unique,deaths_unique)\n",
    "plt.plot(prediction_space,model.predict(prediction_space),c=\"green\")\n",
    "\n",
    "plt.plot(prediction_space,gbt.predict(prediction_space),c=\"red\")\n",
    "plt.xlabel='deaths'\n",
    "plt.ylabel='cases'\n",
    "plt.show()\n",
    "\n",
    "\n",
    "\n",
    "\n",
    "#rows=len(counties_unique)\n",
    "#fig,ax = plt.subplots(rows,1)\n",
    "#index=0\n",
    "\n",
    "#index=0\n",
    "#for item in counties_unique:\n",
    "#        #print(item)\n",
    "#        subset_df=counties_df[counties_df['county']==item]\n",
    "#        #print(subset_df.head(5))\n",
    "#        deaths=subset_df.groupby(['county'])['deaths_x'].max()\n",
    "#        #print(deaths)\n",
    "#        cases=subset_df.groupby(['county'])['cases'].max()\n",
    "#        #print('deaths='+str(deaths)+':cases='+str(cases))\n",
    "#        ax[index].bar(deaths,cases)\n",
    "#        ax[index].set_title=str(item)\n",
    "#        index+=1\n",
    "#plt.xlabel('deaths')\n",
    "#plt.ylabel('cases')"
   ]
  },
  {
   "cell_type": "code",
   "execution_count": null,
   "metadata": {},
   "outputs": [],
   "source": []
  },
  {
   "cell_type": "code",
   "execution_count": null,
   "metadata": {},
   "outputs": [],
   "source": []
  }
 ],
 "metadata": {
  "kernelspec": {
   "display_name": "Python 3",
   "language": "python",
   "name": "python3"
  },
  "language_info": {
   "codemirror_mode": {
    "name": "ipython",
    "version": 3
   },
   "file_extension": ".py",
   "mimetype": "text/x-python",
   "name": "python",
   "nbconvert_exporter": "python",
   "pygments_lexer": "ipython3",
   "version": "3.7.7"
  }
 },
 "nbformat": 4,
 "nbformat_minor": 4
}
