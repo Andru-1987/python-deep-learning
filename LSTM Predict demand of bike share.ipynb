{
 "cells": [
  {
   "cell_type": "code",
   "execution_count": 89,
   "metadata": {},
   "outputs": [],
   "source": [
    "import pandas as pd\n",
    "\n",
    "from keras.models import Sequential\n",
    "from keras.layers import LSTM, Dense,Dropout, Bidirectional\n",
    "import numpy as np\n",
    "import pandas as pd\n",
    "import seaborn as sns\n",
    "import matplotlib.pyplot as plt\n",
    "import numpy as np\n",
    "from keras.utils import plot_model\n",
    "from sklearn.model_selection import train_test_split\n",
    "from sklearn.preprocessing import MinMaxScaler\n",
    "from sklearn.preprocessing import RobustScaler\n",
    "from keras.layers.merge import Concatenate\n",
    "import matplotlib.gridspec as gridspec\n",
    "\n",
    "import datetime\n",
    "from datetime import date\n",
    "from pandas_datareader import data as pdr"
   ]
  },
  {
   "cell_type": "code",
   "execution_count": null,
   "metadata": {},
   "outputs": [],
   "source": [
    "#https://towardsdatascience.com/demand-prediction-with-lstms-using-tensorflow-2-and-keras-in-python-1d1076fc89a0"
   ]
  },
  {
   "cell_type": "code",
   "execution_count": 65,
   "metadata": {},
   "outputs": [
    {
     "name": "stdout",
     "output_type": "stream",
     "text": [
      "                      cnt   t1   t2    hum  wind_speed  weather_code  \\\n",
      "timestamp                                                              \n",
      "2015-01-04 00:00:00   182  3.0  2.0   93.0         6.0           3.0   \n",
      "2015-01-04 01:00:00   138  3.0  2.5   93.0         5.0           1.0   \n",
      "2015-01-04 02:00:00   134  2.5  2.5   96.5         0.0           1.0   \n",
      "2015-01-04 03:00:00    72  2.0  2.0  100.0         0.0           1.0   \n",
      "2015-01-04 04:00:00    47  2.0  0.0   93.0         6.5           1.0   \n",
      "...                   ...  ...  ...    ...         ...           ...   \n",
      "2017-01-03 19:00:00  1042  5.0  1.0   81.0        19.0           3.0   \n",
      "2017-01-03 20:00:00   541  5.0  1.0   81.0        21.0           4.0   \n",
      "2017-01-03 21:00:00   337  5.5  1.5   78.5        24.0           4.0   \n",
      "2017-01-03 22:00:00   224  5.5  1.5   76.0        23.0           4.0   \n",
      "2017-01-03 23:00:00   139  5.0  1.0   76.0        22.0           2.0   \n",
      "\n",
      "                     is_holiday  is_weekend  season  hour  day_of_month  \\\n",
      "timestamp                                                                 \n",
      "2015-01-04 00:00:00         0.0         1.0     3.0     0             4   \n",
      "2015-01-04 01:00:00         0.0         1.0     3.0     1             4   \n",
      "2015-01-04 02:00:00         0.0         1.0     3.0     2             4   \n",
      "2015-01-04 03:00:00         0.0         1.0     3.0     3             4   \n",
      "2015-01-04 04:00:00         0.0         1.0     3.0     4             4   \n",
      "...                         ...         ...     ...   ...           ...   \n",
      "2017-01-03 19:00:00         0.0         0.0     3.0    19             3   \n",
      "2017-01-03 20:00:00         0.0         0.0     3.0    20             3   \n",
      "2017-01-03 21:00:00         0.0         0.0     3.0    21             3   \n",
      "2017-01-03 22:00:00         0.0         0.0     3.0    22             3   \n",
      "2017-01-03 23:00:00         0.0         0.0     3.0    23             3   \n",
      "\n",
      "                     day_of_week  month  \n",
      "timestamp                                \n",
      "2015-01-04 00:00:00            6      1  \n",
      "2015-01-04 01:00:00            6      1  \n",
      "2015-01-04 02:00:00            6      1  \n",
      "2015-01-04 03:00:00            6      1  \n",
      "2015-01-04 04:00:00            6      1  \n",
      "...                          ...    ...  \n",
      "2017-01-03 19:00:00            1      1  \n",
      "2017-01-03 20:00:00            1      1  \n",
      "2017-01-03 21:00:00            1      1  \n",
      "2017-01-03 22:00:00            1      1  \n",
      "2017-01-03 23:00:00            1      1  \n",
      "\n",
      "[17414 rows x 13 columns]\n"
     ]
    }
   ],
   "source": [
    "df=pd.read_csv('london_merged.csv', parse_dates=['timestamp'], index_col=\"timestamp\")\n",
    "df['hour'] = df.index.hour\n",
    "df['day_of_month'] = df.index.day\n",
    "df['day_of_week'] = df.index.dayofweek\n",
    "df['month'] = df.index.month\n",
    "print(df)"
   ]
  },
  {
   "cell_type": "code",
   "execution_count": 175,
   "metadata": {},
   "outputs": [
    {
     "data": {
      "image/png": "[encoded data removed]",
      "text/plain": [
       "<Figure size 432x288 with 1 Axes>"
      ]
     },
     "metadata": {
      "needs_background": "light"
     },
     "output_type": "display_data"
    }
   ],
   "source": [
    "plt.clf()\n",
    "\n",
    "grouped.plot()\n",
    "plt.xticks(rotation=90)\n",
    "plt.show(\"bike share detail trend\")\n",
    "plt.show()"
   ]
  },
  {
   "cell_type": "code",
   "execution_count": 13,
   "metadata": {},
   "outputs": [
    {
     "name": "stdout",
     "output_type": "stream",
     "text": [
      "Our goal is to predict the number of future bike shares given the historical data of London bike shares.\n"
     ]
    }
   ],
   "source": [
    "print(\"Our goal is to predict the number of future bike shares given the historical data of London bike shares.\")"
   ]
  },
  {
   "cell_type": "code",
   "execution_count": 99,
   "metadata": {},
   "outputs": [],
   "source": [
    "def create_dataset(dataset, look_back=3):\n",
    "    dataX, dataY = [], []\n",
    "    for i in range(len(dataset)-look_back-1):\n",
    "        a = dataset[i:(i+look_back)]\n",
    "        dataX.append(a)\n",
    "        dataY.append(dataset[i + look_back])\n",
    "    return np.array(dataX), np.array(dataY)\n",
    "\n",
    "def create_dataset2(X, y, time_steps=1):\n",
    "    Xs, ys = [], []\n",
    "    for i in range(len(X) - time_steps):\n",
    "        v = X.iloc[i:(i + time_steps)].values\n",
    "        Xs.append(v)\n",
    "        ys.append(y.iloc[i + time_steps])\n",
    "    return np.array(Xs), np.array(ys)"
   ]
  },
  {
   "cell_type": "code",
   "execution_count": 178,
   "metadata": {},
   "outputs": [],
   "source": [
    "#COLUMNS=['cnt']\n",
    "#dataset=df[COLUMNS]\n",
    "#dataset=np.array(dataset).reshape(-1,1)\n",
    "#scaler = MinMaxScaler(feature_range=(0, 1))\n",
    "#dataset = scaler.fit_transform(np.array(dataset).reshape(-1,1))\n",
    "#train_size = int(len(dataset) * 0.70)\n",
    "#test_size = len(dataset) - train_size\n",
    "#train, test = dataset[0:train_size], dataset[train_size:len(dataset)]\n",
    "#print(len(train), len(test))\n",
    "\n",
    "look_back=10\n",
    "trainX=[]\n",
    "testX=[]\n",
    "y_train=[]"
   ]
  },
  {
   "cell_type": "code",
   "execution_count": 177,
   "metadata": {},
   "outputs": [
    {
     "name": "stderr",
     "output_type": "stream",
     "text": [
      "C:\\Users\\dnishimoto.BOISE\\AppData\\Roaming\\Python\\Python37\\site-packages\\pandas\\core\\indexing.py:1736: SettingWithCopyWarning: \n",
      "A value is trying to be set on a copy of a slice from a DataFrame.\n",
      "Try using .loc[row_indexer,col_indexer] = value instead\n",
      "\n",
      "See the caveats in the documentation: https://pandas.pydata.org/pandas-docs/stable/user_guide/indexing.html#returning-a-view-versus-a-copy\n",
      "  isetter(loc, value[:, i].tolist())\n",
      "C:\\Users\\dnishimoto.BOISE\\AppData\\Roaming\\Python\\Python37\\site-packages\\pandas\\core\\indexing.py:1736: SettingWithCopyWarning: \n",
      "A value is trying to be set on a copy of a slice from a DataFrame.\n",
      "Try using .loc[row_indexer,col_indexer] = value instead\n",
      "\n",
      "See the caveats in the documentation: https://pandas.pydata.org/pandas-docs/stable/user_guide/indexing.html#returning-a-view-versus-a-copy\n",
      "  isetter(loc, value[:, i].tolist())\n"
     ]
    }
   ],
   "source": [
    "train_size = int(len(df) * 0.70)\n",
    "test_size = len(df) - train_size\n",
    "train, test = df[0:train_size], df[train_size:len(df)]\n",
    "f_columns = ['t1', 't2', 'hum', 'wind_speed']\n",
    "f_transformer = RobustScaler()\n",
    "f_transformer = f_transformer.fit(train[f_columns].to_numpy())\n",
    "train.loc[:, f_columns] = f_transformer.transform(\n",
    "  train[f_columns].to_numpy()\n",
    ")\n",
    "\n",
    "test.loc[:, f_columns] = f_transformer.transform(\n",
    "  test[f_columns].to_numpy()\n",
    ")"
   ]
  },
  {
   "cell_type": "code",
   "execution_count": 179,
   "metadata": {},
   "outputs": [
    {
     "name": "stderr",
     "output_type": "stream",
     "text": [
      "C:\\Users\\dnishimoto.BOISE\\AppData\\Local\\Continuum\\anaconda3\\envs\\deeplearning\\lib\\site-packages\\ipykernel_launcher.py:3: SettingWithCopyWarning: \n",
      "A value is trying to be set on a copy of a slice from a DataFrame.\n",
      "Try using .loc[row_indexer,col_indexer] = value instead\n",
      "\n",
      "See the caveats in the documentation: https://pandas.pydata.org/pandas-docs/stable/user_guide/indexing.html#returning-a-view-versus-a-copy\n",
      "  This is separate from the ipykernel package so we can avoid doing imports until\n",
      "C:\\Users\\dnishimoto.BOISE\\AppData\\Local\\Continuum\\anaconda3\\envs\\deeplearning\\lib\\site-packages\\ipykernel_launcher.py:4: SettingWithCopyWarning: \n",
      "A value is trying to be set on a copy of a slice from a DataFrame.\n",
      "Try using .loc[row_indexer,col_indexer] = value instead\n",
      "\n",
      "See the caveats in the documentation: https://pandas.pydata.org/pandas-docs/stable/user_guide/indexing.html#returning-a-view-versus-a-copy\n",
      "  after removing the cwd from sys.path.\n"
     ]
    }
   ],
   "source": [
    "cnt_transformer = RobustScaler()\n",
    "cnt_transformer = cnt_transformer.fit(train[['cnt']])\n",
    "train['cnt'] = cnt_transformer.transform(train[['cnt']])\n",
    "test['cnt'] = cnt_transformer.transform(test[['cnt']])"
   ]
  },
  {
   "cell_type": "code",
   "execution_count": 180,
   "metadata": {},
   "outputs": [],
   "source": [
    "#trainX, y_train = create_dataset(train, look_back)\n",
    "#testX, y_test = create_dataset(test, look_back)\n",
    "#X_train = np.reshape(trainX, (trainX.shape[0], 1, trainX.shape[1]))\n",
    "#X_test = np.reshape(testX, (testX.shape[0], 1, testX.shape[1]))\n",
    "\n",
    "X_train, y_train = create_dataset2(train, train.cnt, look_back)\n",
    "X_test, y_test = create_dataset2(test, test.cnt, look_back)\n",
    "\n"
   ]
  },
  {
   "cell_type": "code",
   "execution_count": 181,
   "metadata": {},
   "outputs": [
    {
     "name": "stdout",
     "output_type": "stream",
     "text": [
      "(12179, 10, 13) (12179,)\n"
     ]
    }
   ],
   "source": [
    "print(X_train.shape, y_train.shape)"
   ]
  },
  {
   "cell_type": "code",
   "execution_count": 148,
   "metadata": {},
   "outputs": [
    {
     "data": {
      "image/png": "[encoded data removed]",
      "text/plain": [
       "<Figure size 432x288 with 1 Axes>"
      ]
     },
     "metadata": {
      "needs_background": "light"
     },
     "output_type": "display_data"
    }
   ],
   "source": [
    "n_future = 1\n",
    "#features=2\n",
    "timeSteps=10\n",
    "\n",
    "model = Sequential()\n",
    "\n",
    "#model.add(Bidirectional(LSTM(units=50, return_sequences=True, \n",
    "#                             input_shape=(X_train.shape[1], 1))))\n",
    "\n",
    "model.add(Bidirectional(LSTM(units=128,return_sequences=True,input_shape=(X_train.shape[1], X_train.shape[2]))))\n",
    "\n",
    "\n",
    "model.add(LSTM(units= 128, return_sequences=True))\n",
    "model.add(Dropout(0.2))\n",
    "model.add(LSTM(units= 128))\n",
    "model.add(Dropout(0.2))\n",
    "model.add(Dense(units = n_future))\n",
    "\n",
    "model.compile(optimizer=\"adam\", loss=\"mean_squared_error\", metrics=[\"acc\"])\n",
    "\n",
    "\n",
    "\n",
    "plot_model(model, to_file='model.png')\n",
    "img=plt.imread('model.png')\n",
    "plt.imshow(img)\n",
    "plt.show()"
   ]
  },
  {
   "cell_type": "code",
   "execution_count": 149,
   "metadata": {},
   "outputs": [
    {
     "name": "stdout",
     "output_type": "stream",
     "text": [
      "Train on 9394 samples, validate on 1044 samples\n",
      "Epoch 1/10\n",
      "9394/9394 [==============================] - 18s 2ms/step - loss: 0.3675 - acc: 0.0000e+00 - val_loss: 0.2929 - val_acc: 0.0000e+00\n",
      "Epoch 2/10\n",
      "9394/9394 [==============================] - 14s 2ms/step - loss: 0.1944 - acc: 0.0000e+00 - val_loss: 0.2193 - val_acc: 0.0000e+00\n",
      "Epoch 3/10\n",
      "9394/9394 [==============================] - 20s 2ms/step - loss: 0.1212 - acc: 0.0000e+00 - val_loss: 0.0722 - val_acc: 0.0000e+00\n",
      "Epoch 4/10\n",
      "9394/9394 [==============================] - 15s 2ms/step - loss: 0.0777 - acc: 0.0000e+00 - val_loss: 0.0689 - val_acc: 0.0000e+00\n",
      "Epoch 5/10\n",
      "9394/9394 [==============================] - 19s 2ms/step - loss: 0.0617 - acc: 0.0000e+00 - val_loss: 0.0445 - val_acc: 0.0000e+00\n",
      "Epoch 6/10\n",
      "9394/9394 [==============================] - 19s 2ms/step - loss: 0.0538 - acc: 0.0000e+00 - val_loss: 0.0463 - val_acc: 0.0000e+00\n",
      "Epoch 7/10\n",
      "9394/9394 [==============================] - 20s 2ms/step - loss: 0.0438 - acc: 0.0000e+00 - val_loss: 0.0420 - val_acc: 0.0000e+00\n",
      "Epoch 8/10\n",
      "9394/9394 [==============================] - 18s 2ms/step - loss: 0.0392 - acc: 0.0000e+00 - val_loss: 0.0416 - val_acc: 0.0000e+00\n",
      "Epoch 9/10\n",
      "9394/9394 [==============================] - 19s 2ms/step - loss: 0.0385 - acc: 0.0000e+00 - val_loss: 0.0339 - val_acc: 0.0000e+00\n",
      "Epoch 10/10\n",
      "9394/9394 [==============================] - 19s 2ms/step - loss: 0.0335 - acc: 0.0000e+00 - val_loss: 0.0257 - val_acc: 0.0000e+00 0.0225 - acc: - ETA: 9s - loss: 0.0223 - acc: 0.0 - ETA: 9s - loss: 0.0226 - - ETA: 8s - loss: 0.0304 - acc: 0.0000e+0 - ETA: 8s - loss: 0.0305 -  - ETA: 7s - loss: 0.0331 - acc: 0.0000e+ -  - ETA: 2s - loss: 0.0351 - a - ETA: 1s - loss: 0. - ETA: 0s - loss: 0.0338 - acc: 0.0000\n"
     ]
    }
   ],
   "source": [
    "history=model.fit(X_train, y_train,epochs=10,batch_size=32,\n",
    "    validation_split=0.1,\n",
    "    shuffle=False  )"
   ]
  },
  {
   "cell_type": "code",
   "execution_count": 155,
   "metadata": {},
   "outputs": [
    {
     "data": {
      "image/png": "[encoded data removed]",
      "text/plain": [
       "<Figure size 432x288 with 1 Axes>"
      ]
     },
     "metadata": {
      "needs_background": "light"
     },
     "output_type": "display_data"
    }
   ],
   "source": [
    "# summarize history for loss\n",
    "plt.plot(history.history['loss'])\n",
    "plt.plot(history.history['val_loss'])\n",
    "plt.title('model loss')\n",
    "plt.ylabel('loss')\n",
    "plt.xlabel('epoch')\n",
    "plt.legend(['train', 'test'], loc='upper left')\n",
    "plt.show()"
   ]
  },
  {
   "cell_type": "code",
   "execution_count": 156,
   "metadata": {},
   "outputs": [
    {
     "data": {
      "image/png": "[encoded data removed]",
      "text/plain": [
       "<Figure size 432x288 with 1 Axes>"
      ]
     },
     "metadata": {
      "needs_background": "light"
     },
     "output_type": "display_data"
    }
   ],
   "source": [
    "#print(X_test)\n",
    "prediction = model.predict(X_test)\n",
    "\n",
    "# shift train predictions for plotting\n",
    "trainPredictPlot = np.empty_like(dataset)\n",
    "trainPredictPlot[:, :] = np.nan\n",
    "trainPredictPlot[look_back:len(prediction)+look_back, :] = prediction\n",
    "# shift test predictions for plotting\n",
    "#plt.plot(scaler.inverse_transform(dataset))\n",
    "plt.plot(trainPredictPlot, color='red')\n",
    "plt.title(\"Predicted \")\n",
    "#plt.plot(testPredictPlot)\n",
    "#plt.legend(['Actual','Train','Test'])\n",
    "plt.show()"
   ]
  },
  {
   "cell_type": "code",
   "execution_count": 162,
   "metadata": {},
   "outputs": [
    {
     "name": "stdout",
     "output_type": "stream",
     "text": [
      "[-0.37709285 -0.48363775 -0.54680365 ... -0.34512938 -0.43112633\n",
      " -0.49581431]\n"
     ]
    },
    {
     "data": {
      "text/plain": [
       "[<matplotlib.lines.Line2D at 0x1b6a666f108>]"
      ]
     },
     "execution_count": 162,
     "metadata": {},
     "output_type": "execute_result"
    },
    {
     "data": {
      "image/png": "[encoded data removed]",
      "text/plain": [
       "<Figure size 432x288 with 1 Axes>"
      ]
     },
     "metadata": {
      "needs_background": "light"
     },
     "output_type": "display_data"
    }
   ],
   "source": [
    "print(y_test)\n",
    "#plt.plot(X_test.reshape(-1,1))\n",
    "#plt.title('Actual test dataset')\n",
    "#plt.show()\n",
    "plt.plot(y_test)\n",
    "plt.title('Actual test dataset')\n",
    "plt.show()"
   ]
  },
  {
   "cell_type": "code",
   "execution_count": null,
   "metadata": {},
   "outputs": [],
   "source": []
  }
 ],
 "metadata": {
  "kernelspec": {
   "display_name": "Python 3",
   "language": "python",
   "name": "python3"
  },
  "language_info": {
   "codemirror_mode": {
    "name": "ipython",
    "version": 3
   },
   "file_extension": ".py",
   "mimetype": "text/x-python",
   "name": "python",
   "nbconvert_exporter": "python",
   "pygments_lexer": "ipython3",
   "version": "3.7.9"
  }
 },
 "nbformat": 4,
 "nbformat_minor": 4
}
