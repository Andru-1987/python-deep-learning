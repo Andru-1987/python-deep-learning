{
 "cells": [
  {
   "cell_type": "code",
   "execution_count": 54,
   "metadata": {},
   "outputs": [],
   "source": [
    "import pandas as pd\n",
    "from sklearn.linear_model import LogisticRegression\n",
    "from sklearn.metrics import roc_curve\n",
    "from sklearn.model_selection import train_test_split\n",
    "import numpy as np\n",
    "from sklearn.metrics import roc_curve\n",
    "from sklearn.metrics import roc_auc_score\n",
    "import matplotlib.pyplot as plt"
   ]
  },
  {
   "cell_type": "code",
   "execution_count": 29,
   "metadata": {},
   "outputs": [
    {
     "name": "stdout",
     "output_type": "stream",
     "text": [
      "Index(['customerID', 'gender', 'SeniorCitizen', 'Partner', 'Dependents',\n",
      "       'tenure', 'PhoneService', 'MultipleLines', 'InternetService',\n",
      "       'OnlineSecurity', 'OnlineBackup', 'DeviceProtection', 'TechSupport',\n",
      "       'StreamingTV', 'StreamingMovies', 'Contract', 'PaperlessBilling',\n",
      "       'PaymentMethod', 'MonthlyCharges', 'TotalCharges', 'Churn'],\n",
      "      dtype='object')\n"
     ]
    }
   ],
   "source": [
    "df=pd.read_csv('https://raw.githubusercontent.com/dnishimoto/python-deep-learning/master/telco_customer_churn.csv')\n",
    "print(df.columns)\n",
    "#print(df.head())\n"
   ]
  },
  {
   "cell_type": "code",
   "execution_count": 44,
   "metadata": {},
   "outputs": [],
   "source": [
    "df.drop(['customerID'],axis=1)\n",
    "\n",
    "df['MonthlyCharges']=pd.to_numeric(df['MonthlyCharges'],errors='coerce')\n",
    "df['TotalCharges']=pd.to_numeric(df['TotalCharges'],errors='coerce')\n",
    "\n",
    "ini_array=df['TotalCharges'].values\n",
    "\n",
    "#print(ini_array)\n",
    "#insert an average for the missing total charges\n",
    "res = np.where(np.isnan(ini_array), np.ma.array(ini_array, \n",
    "               mask = np.isnan(ini_array)).mean(axis = 0), ini_array)  \n",
    "\n",
    "df['TotalCharges']=res\n",
    "\n",
    "df['Churn']=df['Churn'].astype('category').cat.codes\n",
    "df['gender']=df['gender'].astype('category').cat.codes\n",
    "df['OnlineSecurity']=df['OnlineSecurity'].astype('category').cat.codes\n",
    "df['Partner']=df['Partner'].astype('category').cat.codes\n",
    "df['Dependents']=df['Dependents'].astype('category').cat.codes\n",
    "df['PhoneService']=df['PhoneService'].astype('category').cat.codes\n",
    "df['MultipleLines']=df['MultipleLines'].astype('category').cat.codes\n",
    "df['InternetService']=df['InternetService'].astype('category').cat.codes\n",
    "\n",
    "df['OnlineSecurity']=df['OnlineSecurity'].astype('category').cat.codes\n",
    "df['OnlineBackup']=df['OnlineBackup'].astype('category').cat.codes\n",
    "df['DeviceProtection']=df['DeviceProtection'].astype('category').cat.codes\n",
    "df['TechSupport']=df['TechSupport'].astype('category').cat.codes\n",
    "\n",
    "df['StreamingTV']=df['StreamingTV'].astype('category').cat.codes\n",
    "df['StreamingMovies']=df['StreamingMovies'].astype('category').cat.codes\n",
    "df['Contract']=df['Contract'].astype('category').cat.codes\n",
    "df['PaperlessBilling']=df['PaperlessBilling'].astype('category').cat.codes\n",
    "df['PaymentMethod']=df['PaymentMethod'].astype('category').cat.codes\n"
   ]
  },
  {
   "cell_type": "code",
   "execution_count": 60,
   "metadata": {},
   "outputs": [],
   "source": [
    "def auc(variables, target, basetable):\n",
    "    X = basetable[variables]\n",
    "    y= basetable[target]\n",
    "\n",
    "    logreg=LogisticRegression(max_iter=2000)\n",
    "    logreg.fit(X,y.values.ravel())\n",
    "    predictions=logreg.predict_proba(X)[:,1]\n",
    "    auc=roc_auc_score(y, predictions)\n",
    "    return auc\n",
    "\n",
    "def next_best(current_variables, candidate_variables, target, basetable):\n",
    "    best_auc=-1\n",
    "    best_variable=None\n",
    "    for v in candidate_variables:\n",
    "        auc_v= auc(current_variables+[v],target, basetable)\n",
    "        if auc_v >= best_auc:\n",
    "            best_auc=auc_v\n",
    "            best_variable=v\n",
    "    return (best_variable,best_auc)"
   ]
  },
  {
   "cell_type": "code",
   "execution_count": 62,
   "metadata": {},
   "outputs": [
    {
     "name": "stdout",
     "output_type": "stream",
     "text": [
      "['tenure', 'MonthlyCharges', 'Contract', 'OnlineSecurity', 'PhoneService', 'TechSupport', 'TotalCharges', 'PaperlessBilling', 'OnlineBackup', 'SeniorCitizen', 'DeviceProtection', 'Dependents', 'PaymentMethod', 'InternetService', 'MultipleLines', 'gender', 'Partner', 'StreamingMovies', 'StreamingTV']\n"
     ]
    },
    {
     "data": {
      "image/png": "[encoded data removed]",
      "text/plain": [
       "<Figure size 432x288 with 1 Axes>"
      ]
     },
     "metadata": {
      "needs_background": "light"
     },
     "output_type": "display_data"
    }
   ],
   "source": [
    "candidate_variables=['gender', 'SeniorCitizen', 'Partner', 'Dependents',\n",
    "       'tenure', 'PhoneService', 'MultipleLines', 'InternetService',\n",
    "       'OnlineSecurity', 'OnlineBackup', 'DeviceProtection', 'TechSupport',\n",
    "       'StreamingTV', 'StreamingMovies', 'Contract', 'PaperlessBilling',\n",
    "       'PaymentMethod', 'MonthlyCharges', 'TotalCharges']\n",
    "current_variables=[]\n",
    "auc_scores=[]\n",
    "target=['Churn']\n",
    "max_number_variables=len(candidate_variables)\n",
    "\n",
    "number_iterations=min(max_number_variables, len(candidate_variables))\n",
    "\n",
    "for i in range(0,number_iterations):\n",
    "    next_variable,auc_variable= next_best(current_variables, candidate_variables, target, df)\n",
    "    current_variables=current_variables+[next_variable]\n",
    "    auc_scores=auc_scores+[auc_variable]\n",
    "    candidate_variables.remove(next_variable)\n",
    "\n",
    "print(current_variables)\n",
    "x=np.array(range(0,len(auc_scores)))\n",
    "y = np.array(auc_scores)\n",
    "plt.xticks(x, current_variables, rotation = 90)\n",
    "plt.plot(x,y)\n",
    "plt.show()\n"
   ]
  },
  {
   "cell_type": "code",
   "execution_count": null,
   "metadata": {},
   "outputs": [],
   "source": []
  }
 ],
 "metadata": {
  "kernelspec": {
   "display_name": "Python 3",
   "language": "python",
   "name": "python3"
  },
  "language_info": {
   "codemirror_mode": {
    "name": "ipython",
    "version": 3
   },
   "file_extension": ".py",
   "mimetype": "text/x-python",
   "name": "python",
   "nbconvert_exporter": "python",
   "pygments_lexer": "ipython3",
   "version": "3.7.7"
  }
 },
 "nbformat": 4,
 "nbformat_minor": 4
}
