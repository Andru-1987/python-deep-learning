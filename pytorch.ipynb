{
 "cells": [
  {
   "cell_type": "code",
   "execution_count": 5,
   "metadata": {},
   "outputs": [],
   "source": [
    "import tensorflow as tf\n",
    "tf.enable_eager_execution()\n",
    "import torch\n",
    "import torch.nn as nn\n",
    "import torchvision\n",
    "import torch.utils.data\n",
    "import torchvision.transforms as transforms\n",
    "import pandas as pd\n",
    "import numpy as np\n",
    "from tensorflow.keras.datasets import mnist,cifar10"
   ]
  },
  {
   "cell_type": "code",
   "execution_count": 34,
   "metadata": {},
   "outputs": [
    {
     "name": "stdout",
     "output_type": "stream",
     "text": [
      "tensor([0.9696, 0.7527])\n"
     ]
    }
   ],
   "source": [
    "\n",
    "input_layer=torch.tensor([2.,1.])\n",
    "weight_1 = torch.tensor([[0.45,0.32],\n",
    "[-0.12,0.29]])\n",
    "hidden_layer=torch.matmul(input_layer, weight_1)\n",
    "\n",
    "weight_2 = torch.tensor([[0.48,-0.12],\n",
    "[0.64,0.91]])\n",
    "\n",
    "output_layer=torch.matmul(hidden_layer, weight_2)\n",
    "\n",
    "print(output_layer)\n"
   ]
  },
  {
   "cell_type": "code",
   "execution_count": 3,
   "metadata": {},
   "outputs": [
    {
     "name": "stdout",
     "output_type": "stream",
     "text": [
      "tensor([[0.4208, 0.2372],\n",
      "        [0.1280, 0.2783]])\n",
      "tensor([0.9696, 0.7527])\n",
      "you can use a single layer network with weights and get the same results\n"
     ]
    }
   ],
   "source": [
    "weight=torch.matmul(weight_1,weight_2)\n",
    "print(weight)\n",
    "output_layer=torch.matmul(input_layer,weight)\n",
    "print(output_layer)\n",
    "\n",
    "print('you can use a single layer network with weights and get the same results')"
   ]
  },
  {
   "cell_type": "code",
   "execution_count": 4,
   "metadata": {},
   "outputs": [
    {
     "name": "stdout",
     "output_type": "stream",
     "text": [
      "tensor([2., 4.])\n",
      "tensor([[2.0000, 4.0000],\n",
      "        [1.2000, 0.0000]])\n"
     ]
    }
   ],
   "source": [
    "relu=nn.ReLU()\n",
    "tensor_1=torch.tensor([2.,4.])\n",
    "print(relu(tensor_1))\n",
    "tensor_2=torch.tensor([[2.,4.],[1.2,0]])\n",
    "print(relu(tensor_2))"
   ]
  },
  {
   "cell_type": "code",
   "execution_count": 5,
   "metadata": {
    "scrolled": true
   },
   "outputs": [
    {
     "name": "stdout",
     "output_type": "stream",
     "text": [
      "tensor([[0.2653, 0.1311, 3.8219, 3.0032]])\n",
      "tensor([[0.2653, 0.1311, 3.8219, 3.0032]])\n"
     ]
    }
   ],
   "source": [
    "input_layer=torch.tensor([[ 0.0401, -0.9005,  0.0397, -0.0876]])\n",
    "\n",
    "weight_1=torch.tensor([[-0.1094, -0.8285,  0.0416, -1.1222],\n",
    "        [ 0.3327, -0.0461,  1.4473, -0.8070],\n",
    "        [ 0.0681, -0.7058, -1.8017,  0.5857],\n",
    "        [ 0.8764,  0.9618, -0.4505,  0.2888]])\n",
    "\n",
    "\n",
    "weight_2=torch.tensor([[ 0.6856, -1.7650,  1.6375, -1.5759],\n",
    "        [-0.1092, -0.1620,  0.1951, -0.1169],\n",
    "        [-0.5120,  1.1997,  0.8483, -0.2476],\n",
    "        [-0.3369,  0.5617, -0.6658,  0.2221]])\n",
    "\n",
    "\n",
    "weight_3=torch.tensor([[ 0.8824,  0.1268,  1.1951,  1.3061],\n",
    "        [-0.8753, -0.3277, -0.1454, -0.0167],\n",
    "        [ 0.3582,  0.3254, -1.8509, -1.4205],\n",
    "        [ 0.3786,  0.5999, -0.5665, -0.3975]])\n",
    "\n",
    "# Calculate the first and second hidden layer\n",
    "hidden_1 = torch.matmul(input_layer, weight_1)\n",
    "hidden_2 = torch.matmul(hidden_1, weight_2)\n",
    "\n",
    "# Calculate the output\n",
    "print(torch.matmul(hidden_2, weight_3))\n",
    "\n",
    "# Calculate weight_composed_1 and weight\n",
    "weight_composed_1 = torch.matmul(weight_1, weight_2)\n",
    "weight = torch.matmul(weight_composed_1, weight_3)\n",
    "\n",
    "# Multiply input_layer with weight\n",
    "print(torch.matmul(input_layer, weight))"
   ]
  },
  {
   "cell_type": "code",
   "execution_count": 6,
   "metadata": {},
   "outputs": [
    {
     "name": "stdout",
     "output_type": "stream",
     "text": [
      "tensor([[-0.2770, -0.0345, -0.1410, -0.0664]])\n",
      "tensor([[-0.2117, -0.4782,  4.0438,  3.0417]])\n",
      "Results are different\n"
     ]
    }
   ],
   "source": [
    "# Apply non-linearity on hidden_1 and hidden_2\n",
    "hidden_1_activated = relu(torch.matmul(input_layer, weight_1))\n",
    "hidden_2_activated = relu(torch.matmul(hidden_1_activated, weight_2))\n",
    "print(torch.matmul(hidden_2_activated, weight_3))\n",
    "\n",
    "# Apply non-linearity in the product of first two weights. \n",
    "weight_composed_1_activated = relu(torch.matmul(weight_1, weight_2))\n",
    "\n",
    "# Multiply `weight_composed_1_activated` with `weight_3\n",
    "weight = torch.matmul(weight_composed_1_activated, weight_3)\n",
    "\n",
    "# Multiply input_layer with weight\n",
    "print(torch.matmul(input_layer, weight))\n",
    "\n",
    "print(\"Results are different\")"
   ]
  },
  {
   "cell_type": "code",
   "execution_count": 18,
   "metadata": {},
   "outputs": [
    {
     "name": "stdout",
     "output_type": "stream",
     "text": [
      "1.5686159179138452\n"
     ]
    },
    {
     "name": "stderr",
     "output_type": "stream",
     "text": [
      "C:\\Users\\dnishimoto.BOISE\\AppData\\Local\\Continuum\\anaconda3\\envs\\deeplearning\\lib\\site-packages\\ipykernel_launcher.py:1: RuntimeWarning: invalid value encountered in log\n",
      "  \"\"\"Entry point for launching an IPython kernel.\n"
     ]
    }
   ],
   "source": [
    "val=np.log(-1.2)*-1+np.log(.12)+np.log(4.8)\n",
    "print(np.log(4.8))\n"
   ]
  },
  {
   "cell_type": "code",
   "execution_count": 23,
   "metadata": {},
   "outputs": [
    {
     "name": "stdout",
     "output_type": "stream",
     "text": [
      "tensor(0.0117)\n"
     ]
    }
   ],
   "source": [
    "logits = torch.tensor([[-1.2, 0.12, 4.8]])\n",
    "ground_truth = torch.tensor([2])\n",
    "\n",
    "# Instantiate cross entropy loss\n",
    "criterion = nn.CrossEntropyLoss()\n",
    "\n",
    "# Compute and print the loss\n",
    "loss = criterion(logits,ground_truth)\n",
    "print(loss)\n",
    "\n",
    "\n",
    "\n"
   ]
  },
  {
   "cell_type": "code",
   "execution_count": 6,
   "metadata": {},
   "outputs": [],
   "source": [
    "(X_train, Y_train), (X_test, Y_test) = mnist.load_data()\n",
    "\n"
   ]
  },
  {
   "cell_type": "code",
   "execution_count": 9,
   "metadata": {},
   "outputs": [
    {
     "name": "stdout",
     "output_type": "stream",
     "text": [
      "Files already downloaded and verified\n",
      "Files already downloaded and verified\n"
     ]
    }
   ],
   "source": [
    "#(X_train, Y_train), (X_test, Y_test) = cifar10.load_data()\n",
    "transform=transforms.Compose(\n",
    "    [transforms.ToTensor(),\n",
    "        transforms.Normalize(\n",
    "                    (0.4914,0.48216,0.44653),\n",
    "                    (0.24703,0.24349,0.26159)\n",
    "                            )])\n",
    "\n",
    "trainset=torchvision.datasets.CIFAR10(root='./data',train=True, download=True, transform=transform)\n",
    "testset=torchvision.datasets.CIFAR10(root='./data',train=False, download=True, transform=transform)\n"
   ]
  },
  {
   "cell_type": "code",
   "execution_count": 20,
   "metadata": {},
   "outputs": [
    {
     "name": "stdout",
     "output_type": "stream",
     "text": [
      "32\n"
     ]
    }
   ],
   "source": [
    "testloader=torch.utils.data.DataLoader(testset, batch_size=32, shuffle=False, num_workers=2)\n",
    "\n",
    "#print(testloader.dataset.test_data.shape, trainload.dataset.train_data.shape)\n",
    "print(testloader.batch_size)"
   ]
  },
  {
   "cell_type": "code",
   "execution_count": null,
   "metadata": {},
   "outputs": [],
   "source": []
  }
 ],
 "metadata": {
  "kernelspec": {
   "display_name": "Python 3",
   "language": "python",
   "name": "python3"
  },
  "language_info": {
   "codemirror_mode": {
    "name": "ipython",
    "version": 3
   },
   "file_extension": ".py",
   "mimetype": "text/x-python",
   "name": "python",
   "nbconvert_exporter": "python",
   "pygments_lexer": "ipython3",
   "version": "3.7.9"
  }
 },
 "nbformat": 4,
 "nbformat_minor": 4
}
