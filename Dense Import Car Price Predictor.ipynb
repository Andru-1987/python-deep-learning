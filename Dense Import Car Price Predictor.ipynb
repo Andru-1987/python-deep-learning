{
 "cells": [
  {
   "cell_type": "code",
   "execution_count": 211,
   "id": "093a5881",
   "metadata": {},
   "outputs": [],
   "source": [
    "import pandas as pd\n",
    "from sklearn.preprocessing import OneHotEncoder\n",
    "from sklearn.preprocessing import LabelEncoder\n",
    "from numpy import asarray\n",
    "from sklearn.model_selection import train_test_split\n",
    "from keras.models import Sequential\n",
    "from tensorflow.keras import layers\n",
    "from tensorflow.keras import optimizers\n",
    "from tensorflow.keras.layers import Dropout\n",
    "from tensorflow.keras.layers import Dense,Flatten\n",
    "import numpy as np\n",
    "import matplotlib.pyplot as plt\n",
    "from os.path import exists"
   ]
  },
  {
   "cell_type": "code",
   "execution_count": 184,
   "id": "7069a94a",
   "metadata": {},
   "outputs": [],
   "source": [
    "columns=[\"symboling\", \"normalized-losses\",\"make\",\"fuel-type\",\n",
    "         \"aspiration\",\"num-of-doors\",\"body-style\",\n",
    "         \"drive-wheels\",\"engine-location\",\"wheel-base\",\n",
    "         \"length\", \"width\",\"height\",\"curb-weight\",\n",
    "         \"engine-type\",\"num-of-cylinder\",\n",
    "         \"engine-size\",\"fuel-system\",\"bore\",\"stroke\",\n",
    "         \"compression-ratio\",\"horsepower\",\"peak-rpm\",\"city-mpg\",\n",
    "         \"highway-mpg\", \"price\"\n",
    "]"
   ]
  },
  {
   "cell_type": "code",
   "execution_count": 185,
   "id": "01991bd4",
   "metadata": {},
   "outputs": [
    {
     "data": {
      "text/plain": [
       "26"
      ]
     },
     "execution_count": 185,
     "metadata": {},
     "output_type": "execute_result"
    }
   ],
   "source": [
    "len(columns)"
   ]
  },
  {
   "cell_type": "code",
   "execution_count": 186,
   "id": "b6e9e13a",
   "metadata": {},
   "outputs": [
    {
     "name": "stdout",
     "output_type": "stream",
     "text": [
      "   symboling normalized-losses         make fuel-type aspiration num-of-doors  \\\n",
      "0          3                 ?  alfa-romero       gas        std          two   \n",
      "1          3                 ?  alfa-romero       gas        std          two   \n",
      "\n",
      "    body-style drive-wheels engine-location  wheel-base  ...  engine-size  \\\n",
      "0  convertible          rwd           front        88.6  ...        130.0   \n",
      "1  convertible          rwd           front        88.6  ...        130.0   \n",
      "\n",
      "   fuel-system  bore  stroke compression-ratio horsepower  peak-rpm city-mpg  \\\n",
      "0         mpfi  3.47    2.68               9.0      111.0    5000.0     21.0   \n",
      "1         mpfi  3.47    2.68               9.0      111.0    5000.0     21.0   \n",
      "\n",
      "   highway-mpg    price  \n",
      "0         27.0  13495.0  \n",
      "1         27.0  16500.0  \n",
      "\n",
      "[2 rows x 26 columns]\n",
      "[13495. 16500. 16500. 13950. 17450. 15250. 17710. 18920. 23875. 16430.\n",
      " 16925. 20970. 21105. 24565. 30760. 41315. 36880.  5151.  6295.  6575.\n",
      "  5572.  6377.  7957.  6229.  6692.  7609.  8558.  8921. 12964.  6479.\n",
      "  6855.  5399.  6529.  7129.  7295.  7295.  7895.  9095.  8845. 10295.\n",
      " 12945. 10345.  6785. 11048. 32250. 35550. 36000.  5195.  6095.  6795.\n",
      "  6695.  7395.  8845.  8495. 10595. 10245. 10795. 11245. 18280. 18344.\n",
      " 25552. 28248. 28176. 31600. 34184. 35056. 40960. 45400. 16503.  5389.\n",
      "  6189.  6669.  7689.  9959.  8499. 12629. 14869. 14489.  6989.  8189.\n",
      "  9279.  9279.  5499.  7099.  6649.  6849.  7349.  7299.  7799.  7499.\n",
      "  7999.  8249.  8949.  9549. 13499. 14399. 13499. 17199. 19699. 18399.\n",
      " 11900. 13200. 12440. 13860. 15580. 16900. 16695. 17075. 16630. 17950.\n",
      " 18150.  5572.  7957.  6229.  6692.  7609.  8921. 12764. 22018. 32528.\n",
      " 34028. 37028. 11850. 12170. 15040. 15510. 18150. 18620.  5118.  7053.\n",
      "  7603.  7126.  7775.  9960.  9233. 11259.  7463. 10198.  8013. 11694.\n",
      "  5348.  6338.  6488.  6918.  7898.  8778.  6938.  7198.  7898.  7788.\n",
      "  7738.  8358.  9258.  8058.  8238.  9298.  9538.  8449.  9639.  9989.\n",
      " 11199. 11549. 17669.  8948. 10698.  9988. 10898. 11248. 16558. 15998.\n",
      " 15690. 15750.  7775.  7975.  7995.  8195.  8495.  9495.  9995. 11595.\n",
      "  9980. 13295. 13845. 12290. 12940. 13415. 15985. 16515. 18420. 18950.\n",
      " 16845. 19045. 21485. 22470. 22625.]\n"
     ]
    }
   ],
   "source": [
    "df=pd.read_csv(\"car_prices.csv\" ,names=columns)\n",
    "df=df.dropna(subset=[\"price\"])\n",
    "#df=df[df[\"price\"] != '?']\n",
    "#df['price']=df['price'].astype(float)\n",
    "for column in ['price','wheel-base', 'length', 'width', 'height', 'curb-weight', 'engine-size', 'bore', 'stroke', 'compression-ratio', 'horsepower', 'peak-rpm', 'city-mpg', 'highway-mpg']:\n",
    "    df=df[df[column] != '?']\n",
    "    df[column]=df[column].astype(float)\n",
    "print(df.head(2))\n",
    "print(np.array(df['price']))"
   ]
  },
  {
   "cell_type": "code",
   "execution_count": 187,
   "id": "492926bd",
   "metadata": {},
   "outputs": [
    {
     "name": "stdout",
     "output_type": "stream",
     "text": [
      "     symboling normalized-losses  wheel-base  length  width  height  \\\n",
      "0            3                 ?        88.6   168.8   64.1    48.8   \n",
      "1            3                 ?        88.6   168.8   64.1    48.8   \n",
      "2            1                 ?        94.5   171.2   65.5    52.4   \n",
      "3            2               164        99.8   176.6   66.2    54.3   \n",
      "4            2               164        99.4   176.6   66.4    54.3   \n",
      "..         ...               ...         ...     ...    ...     ...   \n",
      "200         -1                95       109.1   188.8   68.9    55.5   \n",
      "201         -1                95       109.1   188.8   68.8    55.5   \n",
      "202         -1                95       109.1   188.8   68.9    55.5   \n",
      "203         -1                95       109.1   188.8   68.9    55.5   \n",
      "204         -1                95       109.1   188.8   68.9    55.5   \n",
      "\n",
      "     curb-weight  engine-size  bore  stroke  ...  fuel-system_spdi  \\\n",
      "0         2548.0        130.0  3.47    2.68  ...                 0   \n",
      "1         2548.0        130.0  3.47    2.68  ...                 0   \n",
      "2         2823.0        152.0  2.68    3.47  ...                 0   \n",
      "3         2337.0        109.0  3.19    3.40  ...                 0   \n",
      "4         2824.0        136.0  3.19    3.40  ...                 0   \n",
      "..           ...          ...   ...     ...  ...               ...   \n",
      "200       2952.0        141.0  3.78    3.15  ...                 0   \n",
      "201       3049.0        141.0  3.78    3.15  ...                 0   \n",
      "202       3012.0        173.0  3.58    2.87  ...                 0   \n",
      "203       3217.0        145.0  3.01    3.40  ...                 0   \n",
      "204       3062.0        141.0  3.78    3.15  ...                 0   \n",
      "\n",
      "     fuel-system_spfi  body-style_hardtop  body-style_hatchback  \\\n",
      "0                   0                   0                     0   \n",
      "1                   0                   0                     0   \n",
      "2                   0                   0                     1   \n",
      "3                   0                   0                     0   \n",
      "4                   0                   0                     0   \n",
      "..                ...                 ...                   ...   \n",
      "200                 0                   0                     0   \n",
      "201                 0                   0                     0   \n",
      "202                 0                   0                     0   \n",
      "203                 0                   0                     0   \n",
      "204                 0                   0                     0   \n",
      "\n",
      "     body-style_sedan  body-style_wagon  engine-type_l  engine-type_ohc  \\\n",
      "0                   0                 0              0                0   \n",
      "1                   0                 0              0                0   \n",
      "2                   0                 0              0                0   \n",
      "3                   1                 0              0                1   \n",
      "4                   1                 0              0                1   \n",
      "..                ...               ...            ...              ...   \n",
      "200                 1                 0              0                1   \n",
      "201                 1                 0              0                1   \n",
      "202                 1                 0              0                0   \n",
      "203                 1                 0              0                1   \n",
      "204                 1                 0              0                1   \n",
      "\n",
      "     engine-type_ohcf  engine-type_ohcv  \n",
      "0                   0                 0  \n",
      "1                   0                 0  \n",
      "2                   0                 1  \n",
      "3                   0                 0  \n",
      "4                   0                 0  \n",
      "..                ...               ...  \n",
      "200                 0                 0  \n",
      "201                 0                 0  \n",
      "202                 0                 1  \n",
      "203                 0                 0  \n",
      "204                 0                 0  \n",
      "\n",
      "[195 rows x 63 columns]\n",
      "0      13495.0\n",
      "1      16500.0\n",
      "2      16500.0\n",
      "3      13950.0\n",
      "4      17450.0\n",
      "        ...   \n",
      "200    16845.0\n",
      "201    19045.0\n",
      "202    21485.0\n",
      "203    22470.0\n",
      "204    22625.0\n",
      "Name: price, Length: 195, dtype: float64\n"
     ]
    }
   ],
   "source": [
    "encoder=LabelEncoder()\n",
    "\n",
    "df[\"make_enc\"]=encoder.fit_transform(df[\"make\"])\n",
    "\n",
    "#print(asarray(df[\"make\"][0:200]))\n",
    "\n",
    "def one_hot_encode(df, cols):\n",
    "    for col in cols:\n",
    "        dummies = pd.get_dummies(df[col], prefix=col, drop_first=True)\n",
    "        df = pd.concat([df, dummies], axis=1)\n",
    "        df.drop(col, axis=1, inplace=True)\n",
    "    return df\n",
    "\n",
    "df_final=one_hot_encode(df,[\"make\",\"fuel-type\",\"drive-wheels\",\"engine-location\",\n",
    "                            \"aspiration\",\"num-of-cylinder\",\"num-of-doors\",\"fuel-system\",\n",
    "                            \"body-style\",\"engine-type\"])\n",
    "print(df_final)\n",
    "\n",
    "def convert_to_numeric(df, column_list):\n",
    "    for col in column_list:\n",
    "        df[col] = pd.to_numeric(df[col], errors='coerce')\n",
    "    return df\n",
    "\n",
    "df_numeric=convert_to_numeric(df_final,df_final.columns)\n",
    "\n",
    "df_numeric.describe()\n",
    "\n",
    "print(df_numeric['price'])"
   ]
  },
  {
   "cell_type": "code",
   "execution_count": 188,
   "id": "29ba3406",
   "metadata": {
    "scrolled": true
   },
   "outputs": [
    {
     "name": "stdout",
     "output_type": "stream",
     "text": [
      "['wheel-base', 'length', 'width', 'height', 'curb-weight', 'engine-size', 'bore', 'stroke', 'compression-ratio', 'horsepower', 'peak-rpm', 'city-mpg', 'highway-mpg', 'make_enc', 'make_audi', 'make_bmw', 'make_chevrolet', 'make_dodge', 'make_honda', 'make_isuzu', 'make_jaguar', 'make_mazda', 'make_mercedes-benz', 'make_mercury', 'make_mitsubishi', 'make_nissan', 'make_peugot', 'make_plymouth', 'make_porsche', 'make_saab', 'make_subaru', 'make_toyota', 'make_volkswagen', 'make_volvo', 'fuel-type_gas', 'drive-wheels_fwd', 'drive-wheels_rwd', 'engine-location_rear', 'aspiration_turbo', 'num-of-cylinder_five', 'num-of-cylinder_four', 'num-of-cylinder_six', 'num-of-cylinder_three', 'num-of-cylinder_twelve', 'num-of-doors_four', 'num-of-doors_two', 'fuel-system_2bbl', 'fuel-system_idi', 'fuel-system_mfi', 'fuel-system_mpfi', 'fuel-system_spdi', 'fuel-system_spfi', 'body-style_hardtop', 'body-style_hatchback', 'body-style_sedan', 'body-style_wagon', 'engine-type_l', 'engine-type_ohc', 'engine-type_ohcf', 'engine-type_ohcv']\n",
      "[13495. 16500. 16500. 13950. 17450. 15250. 17710. 18920. 23875. 16430.\n",
      " 16925. 20970. 21105. 24565. 30760. 41315. 36880.  5151.  6295.  6575.\n",
      "  5572.  6377.  7957.  6229.  6692.  7609.  8558.  8921. 12964.  6479.\n",
      "  6855.  5399.  6529.  7129.  7295.  7295.  7895.  9095.  8845. 10295.\n",
      " 12945. 10345.  6785. 11048. 32250. 35550. 36000.  5195.  6095.  6795.\n",
      "  6695.  7395.  8845.  8495. 10595. 10245. 10795. 11245. 18280. 18344.\n",
      " 25552. 28248. 28176. 31600. 34184. 35056. 40960. 45400. 16503.  5389.\n",
      "  6189.  6669.  7689.  9959.  8499. 12629. 14869. 14489.  6989.  8189.\n",
      "  9279.  9279.  5499.  7099.  6649.  6849.  7349.  7299.  7799.  7499.\n",
      "  7999.  8249.  8949.  9549. 13499. 14399. 13499. 17199. 19699. 18399.\n",
      " 11900. 13200. 12440. 13860. 15580. 16900. 16695. 17075. 16630. 17950.\n",
      " 18150.  5572.  7957.  6229.  6692.  7609.  8921. 12764. 22018. 32528.\n",
      " 34028. 37028. 11850. 12170. 15040. 15510. 18150. 18620.  5118.  7053.\n",
      "  7603.  7126.  7775.  9960.  9233. 11259.  7463. 10198.  8013. 11694.\n",
      "  5348.  6338.  6488.  6918.  7898.  8778.  6938.  7198.  7898.  7788.\n",
      "  7738.  8358.  9258.  8058.  8238.  9298.  9538.  8449.  9639.  9989.\n",
      " 11199. 11549. 17669.  8948. 10698.  9988. 10898. 11248. 16558. 15998.\n",
      " 15690. 15750.  7775.  7975.  7995.  8195.  8495.  9495.  9995. 11595.\n",
      "  9980. 13295. 13845. 12290. 12940. 13415. 15985. 16515. 18420. 18950.\n",
      " 16845. 19045. 21485. 22470. 22625.]\n"
     ]
    }
   ],
   "source": [
    "x_columns=[column for column in df_numeric.columns if column not in['price','symboling', 'normalized-losses']]\n",
    "#x_columns=['wheel-base', 'length', 'width', 'height', 'curb-weight', 'engine-size', 'bore', 'stroke', 'compression-ratio', 'horsepower', 'peak-rpm', 'city-mpg', 'highway-mpg']\n",
    "print(x_columns)\n",
    "\n",
    "X=df_numeric[x_columns]\n",
    "y=np.array(df_numeric[\"price\"])\n",
    "print(y)"
   ]
  },
  {
   "cell_type": "code",
   "execution_count": 189,
   "id": "53a9139d",
   "metadata": {},
   "outputs": [],
   "source": [
    "X_train, X_test, y_train, y_test = train_test_split( X, y, test_size=0.33, random_state=42)"
   ]
  },
  {
   "cell_type": "code",
   "execution_count": 219,
   "id": "077b14fb",
   "metadata": {},
   "outputs": [
    {
     "name": "stdout",
     "output_type": "stream",
     "text": [
      "columns 60\n"
     ]
    }
   ],
   "source": [
    "print(\"columns\",X_train.shape[1])\n",
    "activation2=\"tanh\"\n",
    "model = Sequential()\n",
    "model.add(Dense(units=512, activation='relu', input_dim=(X_train.shape[1]),dtype=\"float32\"))\n",
    "model.add(Dropout(0.02))\n",
    "model.add(Dense(units=256, activation=activation2))\n",
    "model.add(Dropout(0.02))\n",
    "model.add(Dense(units=256, activation=activation2))\n",
    "model.add(Dropout(0.02))\n",
    "model.add(Dense(units=128, activation=activation2))\n",
    "model.add(Dense(units=1,activation='linear'))\n",
    "\n",
    "optimizer = optimizers.Adam()\n",
    "model.compile(optimizer=optimizer, loss='mean_absolute_error',metrics=['accuracy'])"
   ]
  },
  {
   "cell_type": "code",
   "execution_count": 220,
   "id": "495bd5e2",
   "metadata": {},
   "outputs": [
    {
     "name": "stdout",
     "output_type": "stream",
     "text": [
      "Model: \"sequential_23\"\n",
      "_________________________________________________________________\n",
      " Layer (type)                Output Shape              Param #   \n",
      "=================================================================\n",
      " dense_119 (Dense)           (None, 512)               31232     \n",
      "                                                                 \n",
      " dropout_4 (Dropout)         (None, 512)               0         \n",
      "                                                                 \n",
      " dense_120 (Dense)           (None, 256)               131328    \n",
      "                                                                 \n",
      " dropout_5 (Dropout)         (None, 256)               0         \n",
      "                                                                 \n",
      " dense_121 (Dense)           (None, 256)               65792     \n",
      "                                                                 \n",
      " dropout_6 (Dropout)         (None, 256)               0         \n",
      "                                                                 \n",
      " dense_122 (Dense)           (None, 128)               32896     \n",
      "                                                                 \n",
      " dense_123 (Dense)           (None, 1)                 129       \n",
      "                                                                 \n",
      "=================================================================\n",
      "Total params: 261,377\n",
      "Trainable params: 261,377\n",
      "Non-trainable params: 0\n",
      "_________________________________________________________________\n"
     ]
    }
   ],
   "source": [
    "model.summary()"
   ]
  },
  {
   "cell_type": "code",
   "execution_count": null,
   "id": "46a3afee",
   "metadata": {},
   "outputs": [],
   "source": [
    "def plotHistory(history):\n",
    "        plt.plot(history.history['loss'])\n",
    "        plt.title('lossy')\n",
    "        plt.ylabel('loss')\n",
    "        plt.xlabel('epoch')\n",
    "        plt.legend(['train', 'test'], loc='upper left')\n",
    "        plt.show()\n",
    " \n",
    "path_to_file=\"C:\\\\Users\\\\dnishimoto\\\\python_files\\\\python-deep-learning-master\\\\dense_car_price_model.h5\"\n",
    "\n",
    "\n",
    "file_exists = exists(path_to_file)\n",
    "if(file_exists):\n",
    "    model.load_weights(path_to_file)\n",
    "    \n",
    "history = model.fit(X_train, y_train,\n",
    "                    epochs=2000, batch_size=1024,\n",
    "                    validation_data=(X_test, y_test), \n",
    "                    verbose=0)\n",
    "model.save_weights(path_to_file)\n",
    "        \n",
    "plotHistory(history)"
   ]
  },
  {
   "cell_type": "code",
   "execution_count": null,
   "id": "3b97686b",
   "metadata": {},
   "outputs": [],
   "source": [
    "y_pred=model.predict(X_test)\n",
    "\n",
    "plt.plot(y_pred)"
   ]
  },
  {
   "cell_type": "code",
   "execution_count": null,
   "id": "ab1aafea",
   "metadata": {},
   "outputs": [],
   "source": [
    "print(\"done\")"
   ]
  },
  {
   "cell_type": "code",
   "execution_count": null,
   "id": "756b5c1f",
   "metadata": {},
   "outputs": [],
   "source": []
  }
 ],
 "metadata": {
  "kernelspec": {
   "display_name": "Python 3 (ipykernel)",
   "language": "python",
   "name": "python3"
  },
  "language_info": {
   "codemirror_mode": {
    "name": "ipython",
    "version": 3
   },
   "file_extension": ".py",
   "mimetype": "text/x-python",
   "name": "python",
   "nbconvert_exporter": "python",
   "pygments_lexer": "ipython3",
   "version": "3.8.13"
  }
 },
 "nbformat": 4,
 "nbformat_minor": 5
}
