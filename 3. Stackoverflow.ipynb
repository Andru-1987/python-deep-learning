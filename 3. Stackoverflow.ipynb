{
 "cells": [
  {
   "cell_type": "code",
   "execution_count": 1,
   "metadata": {},
   "outputs": [],
   "source": [
    "import pandas as pd\n",
    "import numpy as np\n",
    "from scipy.stats import zscore\n",
    "from datetime import datetime"
   ]
  },
  {
   "cell_type": "code",
   "execution_count": 467,
   "metadata": {},
   "outputs": [
    {
     "name": "stdout",
     "output_type": "stream",
     "text": [
      "   index  a   b    c   d\n",
      "0      0  1  36    2   7\n",
      "1      1  0   2    8   8\n",
      "2      2  8   0  100   9\n",
      "3      3  5   6    0  50\n",
      "    index header  score\n",
      "4       0      b     36\n",
      "12      0      d      7\n",
      "8       0      c      2\n",
      "0       0      a      1\n",
      "9       1      c      8\n",
      "13      1      d      8\n",
      "5       1      b      2\n",
      "10      2      c    100\n",
      "14      2      d      9\n",
      "2       2      a      8\n",
      "15      3      d     50\n",
      "7       3      b      6\n",
      "3       3      a      5\n"
     ]
    }
   ],
   "source": [
    "test_data={'a':[1,0,8,5],\n",
    "          'b':[36,2,0,6],\n",
    "          'c':[2,8,100,0],\n",
    "          'd':[7,8,9,50]}\n",
    "df=pd.DataFrame(test_data,columns=['a','b','c','d'])\n",
    "df=df.reset_index()\n",
    "print(df)\n",
    "results=pd.melt(df,id_vars='index',var_name='header',value_name='score')\n",
    "filter=results['score']!=0\n",
    "print(results[filter].sort_values(by=['index','score'],ascending=[True,False]))"
   ]
  },
  {
   "cell_type": "code",
   "execution_count": 67,
   "metadata": {},
   "outputs": [
    {
     "name": "stdout",
     "output_type": "stream",
     "text": [
      "   Gene  Cluster Cell Lines  Z-Score\n",
      "0   419        0       Myob    0.261\n",
      "4   419        0   Myob_Ind    0.901\n",
      "3  1629        0       Myob    1.412\n",
      "7  1629        0   Myob_Ind    1.825\n",
      "2  1167        0       Myob   -0.534\n",
      "6  1167        0   Myob_Ind    2.588\n",
      "1  1036        0       Myob    1.010\n",
      "5  1036        0   Myob_Ind    0.525\n"
     ]
    }
   ],
   "source": [
    "df = pd.DataFrame({'Gene': ['419', '1036', '1167', '1629'],\n",
    "              'Myob': [0.261, 1.010, -0.534, 1.412],\n",
    "              'Myob_Ind': [0.901, 0.525, 2.588, 1.825],\n",
    "              'Cluster': [0, 0, 0, 0]})\n",
    "\n",
    "results=pd.melt(df,id_vars=['Gene','Cluster'],var_name='Cell Lines',value_name='Z-Score')\n",
    "print(results.sort_values(by='Gene',ascending=[False]))\n"
   ]
  },
  {
   "cell_type": "code",
   "execution_count": 103,
   "metadata": {},
   "outputs": [
    {
     "name": "stdout",
     "output_type": "stream",
     "text": [
      "   user  package\n",
      "0     1        1\n",
      "1     1        1\n",
      "2     1        2\n",
      "3     1        1\n",
      "4     1        2\n",
      "5     1        3\n",
      "6     2        3\n",
      "user  package\n",
      "1     1          3\n",
      "      2          2\n",
      "2     3          1\n",
      "1     3          1\n",
      "dtype: int64\n",
      "package  First  Second  Third\n",
      "user                         \n",
      "1          3.0     2.0    1.0\n",
      "2          0.0     0.0    1.0\n"
     ]
    }
   ],
   "source": [
    "USER =[1,1,1,1,1,1,2]\n",
    "PACKAGE=[1,1,2,1,2,3,3]\n",
    "df=pd.DataFrame({'user':USER,'package':PACKAGE})\n",
    "print(df)\n",
    "results=df.groupby(['user','package']).size()\n",
    "results=results.sort_values(ascending=False)\n",
    "#results=pd.melt(results,id_vars=['user','package'])\n",
    "print(results)\n",
    "results=results.unstack(level='package').fillna(0)\n",
    "results=results.rename(columns={1:'First',2:'Second',3:'Third'})\n",
    "print(results)"
   ]
  },
  {
   "cell_type": "code",
   "execution_count": 217,
   "metadata": {},
   "outputs": [
    {
     "name": "stdout",
     "output_type": "stream",
     "text": [
      "title    name \n",
      "Coach    Bob       4\n",
      "         tina     10\n",
      "driver   frank     2\n",
      "         mark      8\n",
      "teacher  kate      3\n",
      "         sam       5\n",
      "Name: count, dtype: int64\n",
      "Coach Bob 4\n",
      "Coach tina 10\n",
      "driver frank 2\n",
      "driver mark 8\n",
      "teacher kate 3\n",
      "teacher sam 5\n",
      "      type     name\n",
      "0    Coach    Bob 4\n",
      "1    Coach  tina 10\n",
      "2   driver  frank 2\n",
      "3   driver   mark 8\n",
      "4  teacher   kate 3\n",
      "5  teacher    sam 5\n"
     ]
    }
   ],
   "source": [
    "Title =['Coach','teacher','driver','Coach','teacher','driver'] \n",
    "Name=['Bob','sam','mark','tina','kate','frank']\n",
    "Count=[4,5,8,10,3,2]\n",
    "df=pd.DataFrame({'title':Title,'name':Name,'count':Count})\n",
    "df=df.set_index(['title','name'])\n",
    "grouped=df.groupby(['title','name'])['count'].sum()\n",
    "print(grouped)\n",
    "#grouped=grouped.T\n",
    "#grouped=grouped.unstack(level=0)\n",
    "#print(grouped.index,grouped.values)\n",
    "index=0\n",
    "type_list=[]\n",
    "name_list=[]\n",
    "for item in grouped.index:\n",
    "    print(item[0],str(item[1])+ ' ' +str(grouped.values[index]))\n",
    "    type_list.append(item[0])\n",
    "    name_list.append(str(item[1])+ ' ' +str(grouped.values[index]))\n",
    "    index+=1\n",
    "\n",
    "df=pd.DataFrame({'type':type_list,'name':name_list})\n",
    "print(df)\n",
    "#df=df.set_index('type')\n",
    "#print(pd.pivot_table(df,index='name',columns='type',values='value'))\n",
    "\n",
    "#print(fp)\n",
    "#print(df.unstack(level='title'))"
   ]
  },
  {
   "cell_type": "code",
   "execution_count": 256,
   "metadata": {},
   "outputs": [
    {
     "name": "stdout",
     "output_type": "stream",
     "text": [
      "Index(['A', 'B'], dtype='object')\n",
      "A  a    3\n",
      "B  a    1\n",
      "Name: 2016-11-22, dtype: int32\n"
     ]
    }
   ],
   "source": [
    "df = pd.DataFrame(index=['2016-11-21', '2016-11-22', '2016-11-23', '2016-11-24', '2016-11-25'],\n",
    "                  columns=pd.MultiIndex.from_product([list('AB'), list('ab')]),\n",
    "                  data=np.array([[2,3,5,6,6], [1,4,2,3,3], [3,1,1,1,0], [0,0,6,5,2]]).T)\n",
    "\n",
    "columns=df.columns.levels[0]\n",
    "print(columns)\n",
    "\n",
    "print(df.loc['2016-11-22',(columns,'a')])"
   ]
  },
  {
   "cell_type": "code",
   "execution_count": 280,
   "metadata": {},
   "outputs": [
    {
     "name": "stdout",
     "output_type": "stream",
     "text": [
      "  weekday    city  bread  butter\n",
      "0     Sun  Austin    139      20\n",
      "1     Sun  Dallas    237      45\n",
      "2     Mon  Austin    326      70\n",
      "3     Mon  Dallas    456      98\n",
      "         city  bread  butter\n",
      "weekday                     \n",
      "Mon         2      2       2\n",
      "Sun         2      2       2\n",
      "weekday\n",
      "Mon    782\n",
      "Sun    376\n",
      "Name: bread, dtype: int64\n",
      "         bread  butter\n",
      "weekday               \n",
      "Mon        782     168\n",
      "Sun        376      65\n",
      "                bread  butter\n",
      "city   weekday               \n",
      "Austin Mon        326      70\n",
      "       Sun        139      20\n",
      "Dallas Mon        456      98\n",
      "       Sun        237      45\n",
      "['Sun' 'Mon']\n",
      "        bread  butter\n",
      "city                 \n",
      "Austin    326      70\n",
      "Dallas    456      98\n",
      "Data Range              bread     butter\n",
      "        data_range data_range\n",
      "weekday                      \n",
      "Mon            130         28\n",
      "Sun             98         25\n",
      "\n",
      "\n",
      "aggregate by column           bread  butter\n",
      "weekday               \n",
      "Mon        782      28\n",
      "Sun        376      25\n"
     ]
    },
    {
     "name": "stderr",
     "output_type": "stream",
     "text": [
      "C:\\Users\\dnishimoto.BOISE\\AppData\\Local\\Continuum\\anaconda3\\envs\\deeplearning\\lib\\site-packages\\ipykernel_launcher.py:12: FutureWarning: Indexing with multiple keys (implicitly converted to a tuple of keys) will be deprecated, use a list instead.\n",
      "  if sys.path[0] == '':\n"
     ]
    },
    {
     "data": {
      "image/png": "[encoded data removed]",
      "text/plain": [
       "<Figure size 432x288 with 1 Axes>"
      ]
     },
     "metadata": {},
     "output_type": "display_data"
    }
   ],
   "source": [
    "sales=pd.DataFrame({\n",
    "    'weekday':['Sun','Sun','Mon','Mon'],\n",
    "    'city':['Austin','Dallas','Austin','Dallas'],\n",
    "    'bread':[139,237,326,456],\n",
    "    'butter':[20,45,70,98]\n",
    "    \n",
    "})\n",
    "print(sales)\n",
    "print(sales.groupby('weekday').count())\n",
    "print(sales.groupby('weekday')['bread'].sum())\n",
    "sales.groupby('weekday')['bread'].sum().plot.pie()\n",
    "print(sales.groupby('weekday')['bread','butter'].sum())\n",
    "\n",
    "print(sales.groupby(['city','weekday']).mean())\n",
    "\n",
    "print(sales['weekday'].unique())\n",
    "\n",
    "sales['weekday']=sales['weekday'].astype('category')\n",
    "\n",
    "print(sales.groupby('city')[['bread','butter']].max())\n",
    "\n",
    "\n",
    "\n",
    "def data_range(series):\n",
    "    return series.max() - series.min()\n",
    "\n",
    "\n",
    "print(\"Data Range\", sales.groupby('weekday')[['bread','butter']].agg([data_range]))\n",
    "\n",
    "\n",
    "print(\"\\n\\naggregate by column \", sales.groupby('weekday')[['bread','butter']].agg({'bread':'sum','butter':data_range}))\n"
   ]
  },
  {
   "cell_type": "code",
   "execution_count": 269,
   "metadata": {},
   "outputs": [
    {
     "name": "stdout",
     "output_type": "stream",
     "text": [
      "0     Dave\n",
      "1    Alice\n",
      "2      Bob\n",
      "3    Alice\n",
      "dtype: object\n"
     ]
    }
   ],
   "source": [
    "customers=pd.Series(['Dave','Alice','Bob','Alice'])\n",
    "print(customers)"
   ]
  },
  {
   "cell_type": "code",
   "execution_count": 303,
   "metadata": {},
   "outputs": [
    {
     "name": "stdout",
     "output_type": "stream",
     "text": [
      "   index    price  count\n",
      "0     45  3909.00      8\n",
      "1     46  3908.75      8\n",
      "2     47  3908.50      8\n",
      "3     51  3907.75      8\n",
      "4     52  3907.50      8\n",
      "   index    price  count  diff\n",
      "0     45  3909.00      8   0.0\n",
      "1     46  3908.75      8   1.0\n",
      "2     47  3908.50      8   1.0\n",
      "3     51  3907.75      8   4.0\n",
      "4     52  3907.50      8   1.0\n",
      "[[45, 46, 47], [51, 52]]\n"
     ]
    }
   ],
   "source": [
    "index=[45,46,47,51,52]\n",
    "price=[3909.0,3908.75,3908.50,3907.75,3907.5]\n",
    "count=[8,8,8,8,8]\n",
    "\n",
    "df=pd.DataFrame({'index':index,'price':price,'count':count})\n",
    "print(df)\n",
    "df['diff']=df['index'].diff().fillna(0)\n",
    "\n",
    "print(df)\n",
    "result_list=[[]]\n",
    "\n",
    "seq=0\n",
    "for row in df.itertuples():\n",
    "    index=row[1]\n",
    "    diff=row[4]\n",
    "    if diff<=1:\n",
    "        result_list[seq].append(index)\n",
    "    else:\n",
    "        seq+=1\n",
    "        result_list.insert(1,[index])\n",
    "\n",
    "print(result_list)    \n"
   ]
  },
  {
   "cell_type": "code",
   "execution_count": 398,
   "metadata": {},
   "outputs": [
    {
     "name": "stdout",
     "output_type": "stream",
     "text": [
      "DataFrame\n",
      "      A      B         C         D\n",
      "0  foo    one  0.162003  0.087469\n",
      "1  bar    one -1.156319 -1.526272\n",
      "2  foo    two  0.833892 -1.666304\n",
      "3  bar  three -2.026673 -0.322057\n",
      "4  foo    two  0.411452 -0.954371\n",
      "5  bar    two  0.765878 -0.095968\n",
      "6  foo    one -0.654890  0.678091\n",
      "7  foo  three -1.789842 -1.130922\n",
      "\n",
      "C + D Zscore\n",
      "           C         D\n",
      "0  0.398046  0.801292\n",
      "1 -0.300518 -1.398845\n",
      "2  1.121882 -1.251188\n",
      "3 -1.046514  0.519353\n",
      "4  0.666781 -0.417997\n",
      "5  1.347032  0.879491\n",
      "6 -0.482004  1.492511\n",
      "7 -1.704704 -0.624618\n",
      "\n",
      "C + D filtered Zscore\n",
      "      A      B         C         D\n",
      "1  bar    one -1.156319 -1.526272\n",
      "2  foo    two  0.833892 -1.666304\n",
      "5  bar    two  0.765878 -0.095968\n",
      "6  foo    one -0.654890  0.678091\n",
      "7  foo  three -1.789842 -1.130922\n",
      "A     \n",
      "bar  1    0.369953\n",
      "     3   -1.704616\n",
      "     5    0.861846\n",
      "foo  0    0.074534\n",
      "     2    2.500196\n",
      "     4    1.365823\n",
      "     6   -1.332981\n",
      "     7   -0.658920\n",
      "dtype: float64\n"
     ]
    },
    {
     "name": "stderr",
     "output_type": "stream",
     "text": [
      "C:\\Users\\dnishimoto.BOISE\\AppData\\Local\\Continuum\\anaconda3\\envs\\deeplearning\\lib\\site-packages\\ipykernel_launcher.py:15: FutureWarning: Indexing with multiple keys (implicitly converted to a tuple of keys) will be deprecated, use a list instead.\n",
      "  from ipykernel import kernelapp as app\n"
     ]
    }
   ],
   "source": [
    "columns = ['A', 'B', 'C', 'D']\n",
    "records = [\n",
    "    ['foo', 'one', 0.162003, 0.087469],\n",
    "    ['bar', 'one', -1.156319, -1.5262719999999999],\n",
    "    ['foo', 'two', 0.833892, -1.666304],     \n",
    "    ['bar', 'three', -2.026673, -0.32205700000000004],\n",
    "    ['foo', 'two', 0.41145200000000004, -0.9543709999999999],\n",
    "    ['bar', 'two', 0.765878, -0.095968],\n",
    "    ['foo', 'one', -0.65489, 0.678091],\n",
    "    ['foo', 'three', -1.789842, -1.130922]\n",
    "]\n",
    "df = pd.DataFrame.from_records(records, columns=columns)\n",
    "print(\"DataFrame\\n\",df)\n",
    "\n",
    "standardize=df.groupby('A')['C','D'].transform(zscore)\n",
    "print(\"\\nC + D Zscore\\n\",standardize)\n",
    "outliersC= (standardize['C'] <-1.1) | (standardize['C']>1.1)\n",
    "outliersD= (standardize['D'] <-1.1) | (standardize['D']>1.1)\n",
    "\n",
    "results=df[outliersC | outliersD]\n",
    "print(\"\\nC + D filtered Zscore\\n\",results)\n",
    "\n",
    "splitting = df.groupby('A')\n",
    "\n",
    "#for group_name, group in splitting:\n",
    "#    group['Diff']=group['C']-group['D']\n",
    "#    print(group_name,group['Diff'])\n",
    "\n",
    "    \n",
    "#splitting['Diff']=\n",
    "#splitting.apply(lambda series: [print(x[2]-x[3]) for x in series.values])    \n",
    "def column_difference(gr):\n",
    "    return gr['C']-gr['D']\n",
    "\n",
    "grouped=splitting.apply(column_difference)\n",
    "print(grouped)\n",
    "    \n"
   ]
  },
  {
   "cell_type": "code",
   "execution_count": 493,
   "metadata": {},
   "outputs": [
    {
     "name": "stdout",
     "output_type": "stream",
     "text": [
      "         f1        f2        f3       date  name  year\n",
      "0  0.032111  0.063330  0.027733 2014-08-31   XYZ  2014\n",
      "1  0.068824  0.158614  0.032489 2014-09-30   XYZ  2014\n",
      "2  0.076838  0.034735  0.020062 2014-10-31   XYZ  2014\n",
      "3  0.020903  0.154653  0.056860 2014-11-30   XYZ  2014\n",
      "4  0.032807  1.099790  0.233216 2014-08-31  Acme  2014\n",
      "5 -0.014995  0.814866  0.498432 2014-09-30  Acme  2014\n",
      "6 -0.002233  1.954578  0.727823 2014-10-31  Acme  2014\n",
      "\n",
      " zscores for f1,f2,f3\n",
      "          f1        f2        f3\n",
      "0 -0.741823 -0.721383 -0.476007\n",
      "1  0.809296  1.018644 -0.130533\n",
      "2  1.147886 -1.243571 -1.033224\n",
      "3 -1.215359  0.946310  1.639764\n",
      "4  1.366408 -0.392237 -1.253219\n",
      "5 -0.998952 -0.980577  0.059088\n",
      "6 -0.367457  1.372814  1.194131\n",
      "\n",
      " outliers \n",
      "          f1        f2        f3       date  name  year\n",
      "2  0.076838  0.034735  0.020062 2014-10-31   XYZ  2014\n",
      "4  0.032807  1.099790  0.233216 2014-08-31  Acme  2014\n"
     ]
    },
    {
     "name": "stderr",
     "output_type": "stream",
     "text": [
      "C:\\Users\\dnishimoto.BOISE\\AppData\\Local\\Continuum\\anaconda3\\envs\\deeplearning\\lib\\site-packages\\ipykernel_launcher.py:20: FutureWarning: Indexing with multiple keys (implicitly converted to a tuple of keys) will be deprecated, use a list instead.\n"
     ]
    }
   ],
   "source": [
    "#def zscore(series):\n",
    "#    #print(series[['f1','f2','f3']])\n",
    "#    return (series - series.mean())/series.std()\n",
    "\n",
    "F1=[0.032111,0.068824,0.076838,0.020903, 0.032807, -0.014995, -0.002233]\n",
    "F2=[0.063330,0.158614,0.034735,0.154653,1.099790,0.814866,1.954578]\n",
    "F3=[0.027733,0.032489,0.020062,0.056860,0.233216,0.498432,0.727823]\n",
    "Date=['8/31/2014','9/30/2014','10/31/2014','11/30/2014','8/31/2014','9/30/2014','10/31/2014']\n",
    "Name=['XYZ','XYZ','XYZ','XYZ','Acme','Acme','Acme']\n",
    "\n",
    "df=pd.DataFrame({'f1':F1,'f2':F2,'f3':F3,'date':Date,'name':Name})\n",
    "df['date']=pd.to_datetime(df['date'],errors='coerce')\n",
    "df['year']=df['date'].dt.strftime('%Y')\n",
    "df['f1']=df['f1'].astype(np.float)\n",
    "df['f2']=df['f2'].astype(np.float)\n",
    "df['f3']=df['f3'].astype(np.float)\n",
    "print(df)\n",
    "splitting=df.groupby(['year','name'])\n",
    "\n",
    "standardized=splitting['f1','f2','f3'].transform(zscore)\n",
    "print(\"\\n zscores for f1,f2,f3\\n\", standardized)\n",
    "\n",
    "outliers=(standardized['f1']>1)\n",
    "print(\"\\n outliers \\n\", df.loc[outliers])\n",
    "\n",
    "#for group_name, group in splitting:\n",
    "#    print(group_name,group[['f1','f2','f3']])\n"
   ]
  },
  {
   "cell_type": "code",
   "execution_count": 491,
   "metadata": {},
   "outputs": [
    {
     "name": "stdout",
     "output_type": "stream",
     "text": [
      "    C\n",
      "0 NaN\n",
      "1 NaN\n",
      "2 NaN\n",
      "3 NaN\n",
      "4 NaN\n",
      "5 NaN\n",
      "6 NaN\n",
      "7 NaN\n"
     ]
    }
   ],
   "source": [
    "df=pd.DataFrame([[1, 10, 14], [1, 12, 14], [1, 20, 12], [1, 25, 12], [2, 18, 12], [2, 30, 14], [2, 4, 12], [2, 10, 14]], columns = ['A', 'B', 'C'])\n",
    "print(df.groupby(['A','B']).transform(zscore))"
   ]
  },
  {
   "cell_type": "code",
   "execution_count": 4,
   "metadata": {},
   "outputs": [
    {
     "name": "stdout",
     "output_type": "stream",
     "text": [
      "    calltype  district  gender       complaint  age  area  severity\n",
      "0          0         0       1      Chest Pain   28     0         3\n",
      "1          0         1       1   Heart Problem   50     0         2\n",
      "2          0         2       1  Cardiac Arrest   76     0         1\n",
      "3          1         3       1   Heart Problem   45     1         2\n",
      "4          0         4       0  Cardiac Arrest   52     1         1\n",
      "5          0         0       1      Chest Pain   34     1         3\n",
      "6          0         1       1  Cardiac Arrest   44     1         1\n",
      "7          0         2       0   Heart Problem   55     0         2\n",
      "8          1         3       0   Heart Problem   86     0         2\n",
      "9          1         4       1   Heart Problem   65     0         2\n",
      "10         0         0       1   Heart Problem   60     1         2\n",
      "11         1         1       1      Chest Pain   36     1         3\n",
      "12         0         2       1   Heart Problem   45     1         2\n",
      "13         0         3       1      Chest Pain   65     0         3\n",
      "14         0         4       1   Heart Problem   60     0         2\n",
      "15         0         0       0   Heart Problem   35     1         2\n",
      "16         0         1       1   Heart Problem   80     0         2\n",
      "17         0         2       1      Chest Pain   46     1         3\n",
      "18         0         3       0   Heart Problem   70     1         2\n"
     ]
    },
    {
     "data": {
      "image/png": "[encoded data removed]",
      "text/plain": [
       "<Figure size 432x288 with 1 Axes>"
      ]
     },
     "metadata": {
      "needs_background": "light"
     },
     "output_type": "display_data"
    },
    {
     "name": "stdout",
     "output_type": "stream",
     "text": [
      "Gender 0=Female 1=Male\n",
      "           age           \n",
      "gender       0          1\n",
      "severity                 \n",
      "1         52.0  60.000000\n",
      "2         61.5  57.857143\n",
      "3          NaN  41.800000\n",
      "\n",
      " More males had severe heart problems\n"
     ]
    },
    {
     "data": {
      "image/png": "[encoded data removed]",
      "text/plain": [
       "<Figure size 720x576 with 2 Axes>"
      ]
     },
     "metadata": {
      "needs_background": "light"
     },
     "output_type": "display_data"
    },
    {
     "name": "stdout",
     "output_type": "stream",
     "text": [
      "\n",
      "Ages 30-40 had high frequencies of cardiac arrest\n",
      "\n",
      "K-Means Clustering\n",
      "\n",
      "674.3571428571429\n",
      "[0 1 2 1 2 2 2 1 0 1 0 0 2 0 0 0 0 2 2]\n"
     ]
    },
    {
     "data": {
      "image/png": "[encoded data removed]",
      "text/plain": [
       "<Figure size 432x288 with 1 Axes>"
      ]
     },
     "metadata": {
      "needs_background": "light"
     },
     "output_type": "display_data"
    },
    {
     "name": "stdout",
     "output_type": "stream",
     "text": [
      "\n",
      "TSNE\n",
      "\n",
      "\n",
      "PCA\n",
      "\n",
      "(19, 3)\n"
     ]
    },
    {
     "data": {
      "image/png": "[encoded data removed]",
      "text/plain": [
       "<Figure size 432x288 with 1 Axes>"
      ]
     },
     "metadata": {
      "needs_background": "light"
     },
     "output_type": "display_data"
    }
   ],
   "source": [
    "from sklearn.decomposition import PCA\n",
    "from scipy.cluster.vq import vq, whiten\n",
    "from scipy.cluster.hierarchy import linkage, fcluster,dendrogram\n",
    "from sklearn.preprocessing import LabelEncoder\n",
    "import matplotlib.pyplot as plt\n",
    "import seaborn as sns\n",
    "import numpy as np\n",
    "from sklearn.cluster import KMeans\n",
    "from sklearn.manifold import TSNE\n",
    "\n",
    "calltype=['Emergency','Emergency','Emergency','Hosp to Hosp','Emergency','Emergency','Emergency','Emergency','Hosp to Hosp','Hosp to Hosp','Emergency','Hosp to Hosp','Emergency','Emergency','Emergency','Emergency','Emergency','Emergency','Emergency']\n",
    "district=['District 1','District 2','District 3', 'District 4','District 5','District 1','District 2','District 3','District 4','District 5','District 1','District 2','District 3','District 4','District 5', 'District 1','District 2','District 3','District 4']\n",
    "gender=['Male','Male','Male','Male','Female','Male','Male','Female','Female','Male','Male','Male','Male','Male','Male','Female','Male','Male','Female']\n",
    "complaint=['Chest Pain','Heart Problem','Cardiac Arrest','Heart Problem','Cardiac Arrest','Chest Pain','Cardiac Arrest','Heart Problem','Heart Problem','Heart Problem','Heart Problem','Chest Pain','Heart Problem','Chest Pain','Heart Problem','Heart Problem','Heart Problem','Chest Pain','Heart Problem']\n",
    "age=[28,50,76,45,52,34,44,55,86,65,60,36,45,65,60,35,80,46,70]\n",
    "area=['Rural','Rural','Rural','Urban','Urban','Urban','Urban','Rural','Rural','Rural','Urban','Urban','Urban','Rural','Rural','Urban','Rural','Urban','Urban']\n",
    "df=pd.DataFrame({'calltype':calltype,'district':district,'gender':gender,'complaint':complaint,'age':age,'area':area})\n",
    "df['severity']=df['complaint'].apply(lambda row: 3 if row=='Chest Pain' else 2 if row=='Heart Problem' else 1 if row=='Cardiac Arrest' else 0)\n",
    "\n",
    "encoder=LabelEncoder()\n",
    "df['district']=encoder.fit(df['district']).transform(df['district'])\n",
    "df['gender']=encoder.fit(df['gender']).transform(df['gender'])\n",
    "df['area']=encoder.fit(df['area']).transform(df['area'])\n",
    "df['calltype']=encoder.fit(df['calltype']).transform(df['calltype'])\n",
    "print(df)\n",
    "\n",
    "#plt.plot(data=df,x='calltype',y='severity',c='gender')\n",
    "\n",
    "sns.countplot(x='gender',hue='severity',data=df)\n",
    "plt.legend(['Cardiac Arrest','Heart Problem','Chest Pain'])\n",
    "plt.show()\n",
    "\n",
    "print('Gender 0=Female 1=Male')\n",
    "fp=df.pivot_table(index=['severity'],columns=['gender'],values=['age'],aggfunc='mean')\n",
    "print(fp)\n",
    "\n",
    "print(\"\\n More males had severe heart problems\")\n",
    "\n",
    "#print(df.groupby(['gender','severity'])['age'].size())\n",
    "fig,ax=plt.subplots(figsize=(10,8))\n",
    "x=np.linspace(0,len(df),len(df))\n",
    "ax.bar(x,df['severity'],alpha=0.3,color='green')\n",
    "twin_ax=ax.twinx()\n",
    "df[['age']].plot(ax=twin_ax, c='red')\n",
    "plt.show()\n",
    "\n",
    "print('\\nAges 30-40 had high frequencies of cardiac arrest')\n",
    "\n",
    "print(\"\\nK-Means Clustering\\n\")\n",
    "labels=df['gender']\n",
    "xs=df['age']\n",
    "ys=df['severity']\n",
    "points=np.column_stack((xs,ys))\n",
    "model = KMeans(n_clusters=3)\n",
    "model.fit(points)\n",
    "print(model.inertia_)\n",
    "new_points=np.random.permutation(points)\n",
    "new_labels = model.predict(new_points)\n",
    "print(new_labels)\n",
    "xs = new_points[:,0]\n",
    "ys = new_points[:,1]\n",
    "plt.clf()\n",
    "# Make a scatter plot of xs and ys, using labels to define the colors\n",
    "#_=plt.scatter(xs,ys,c=labels, alpha=0.5)\n",
    "_=plt.scatter(xs,ys,c=labels, alpha=0.5)\n",
    "# Assign the cluster centers: centroids\n",
    "centroids = model.cluster_centers_\n",
    "# Assign the columns of centroids: centroids_x, centroids_y\n",
    "centroids_x = centroids[:,0]\n",
    "centroids_y = centroids[:,1]\n",
    "# Make a scatter plot of centroids_x and centroids_y\n",
    "_=plt.scatter(centroids_x,centroids_y, marker='D',s=50)\n",
    "plt.show()\n",
    "\n",
    "print(\"\\nTSNE\\n\")\n",
    "model=TSNE(learning_rate=100)\n",
    "X=df[['calltype','district','gender','age','area','severity']]\n",
    "transformed=model.fit_transform(X)\n",
    "\n",
    "xs=transformed[:,0]\n",
    "ys=transformed[:,1]\n",
    "\n",
    "plt.scatter(xs,ys,c=labels)\n",
    "plt.show\n",
    "\n",
    "print(\"\\nPCA\\n\")\n",
    "pca=PCA(n_components=3)\n",
    "pca.fit(X)\n",
    "\n",
    "transformed=pca.transform(X)\n",
    "print(transformed.shape)\n",
    "\n",
    "xs=transformed[:,0]\n",
    "ys=transformed[:,1]\n",
    "plt.scatter(xs,ys,c=labels)\n",
    "plt.show()\n"
   ]
  },
  {
   "cell_type": "code",
   "execution_count": 6,
   "metadata": {},
   "outputs": [
    {
     "name": "stdout",
     "output_type": "stream",
     "text": [
      "2017-10-01 15:23:25.500000\n",
      "2018\n",
      "<class 'pandas._libs.tslibs.timestamps.Timestamp'>\n"
     ]
    }
   ],
   "source": [
    "dt=datetime(year=2017,\n",
    "    month=10,\n",
    "    day=1,\n",
    "    hour=15,\n",
    "    minute=23,\n",
    "    second=25,\n",
    "    microsecond=500000)\n",
    "print(dt)\n",
    "dt=dt.replace(year=2018)\n",
    "print(dt.year)\n",
    "\n",
    "dt=pd.to_datetime(\"2021-02-19\")\n",
    "print(type(dt))"
   ]
  },
  {
   "cell_type": "code",
   "execution_count": 14,
   "metadata": {},
   "outputs": [
    {
     "name": "stdout",
     "output_type": "stream",
     "text": [
      "    id  report  daysleft\n",
      "0  171      11         5\n",
      "1  171      12         9\n",
      "2  182      13         1\n",
      "3  182      14         2\n",
      "    id  report  daysleft  order\n",
      "2  182      13         1      0\n",
      "0  171      11         5      0\n",
      "3  182      14         2      1\n",
      "1  171      12         9      1\n"
     ]
    }
   ],
   "source": [
    "ID=[171,171,182,182]\n",
    "Report=[11,12,13,14]\n",
    "DaysLeft=[5,9,1,2]\n",
    "\n",
    "df=pd.DataFrame({'id':ID,'report':Report,'daysleft':DaysLeft})\n",
    "print(df)\n",
    "df=df.sort_values(by=\"daysleft\",ascending=True)\\\n",
    "    .assign(order=lambda x: x.groupby(\"id\").cumcount())\\\n",
    "    .sort_values(by=['order','daysleft'])\n",
    "\n",
    "print(df)"
   ]
  },
  {
   "cell_type": "code",
   "execution_count": null,
   "metadata": {},
   "outputs": [],
   "source": []
  }
 ],
 "metadata": {
  "kernelspec": {
   "display_name": "Python 3",
   "language": "python",
   "name": "python3"
  },
  "language_info": {
   "codemirror_mode": {
    "name": "ipython",
    "version": 3
   },
   "file_extension": ".py",
   "mimetype": "text/x-python",
   "name": "python",
   "nbconvert_exporter": "python",
   "pygments_lexer": "ipython3",
   "version": "3.7.9"
  }
 },
 "nbformat": 4,
 "nbformat_minor": 4
}
