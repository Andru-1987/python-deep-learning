{
 "cells": [
  {
   "cell_type": "code",
   "execution_count": 1,
   "metadata": {},
   "outputs": [],
   "source": [
    "import pandas as pd\n",
    "import numpy as np\n",
    "from scipy.stats import zscore\n",
    "from datetime import datetime\n",
    "import matplotlib.pyplot as plt"
   ]
  },
  {
   "cell_type": "code",
   "execution_count": 467,
   "metadata": {},
   "outputs": [
    {
     "name": "stdout",
     "output_type": "stream",
     "text": [
      "   index  a   b    c   d\n",
      "0      0  1  36    2   7\n",
      "1      1  0   2    8   8\n",
      "2      2  8   0  100   9\n",
      "3      3  5   6    0  50\n",
      "    index header  score\n",
      "4       0      b     36\n",
      "12      0      d      7\n",
      "8       0      c      2\n",
      "0       0      a      1\n",
      "9       1      c      8\n",
      "13      1      d      8\n",
      "5       1      b      2\n",
      "10      2      c    100\n",
      "14      2      d      9\n",
      "2       2      a      8\n",
      "15      3      d     50\n",
      "7       3      b      6\n",
      "3       3      a      5\n"
     ]
    }
   ],
   "source": [
    "test_data={'a':[1,0,8,5],\n",
    "          'b':[36,2,0,6],\n",
    "          'c':[2,8,100,0],\n",
    "          'd':[7,8,9,50]}\n",
    "df=pd.DataFrame(test_data,columns=['a','b','c','d'])\n",
    "df=df.reset_index()\n",
    "print(df)\n",
    "results=pd.melt(df,id_vars='index',var_name='header',value_name='score')\n",
    "filter=results['score']!=0\n",
    "print(results[filter].sort_values(by=['index','score'],ascending=[True,False]))"
   ]
  },
  {
   "cell_type": "code",
   "execution_count": 67,
   "metadata": {},
   "outputs": [
    {
     "name": "stdout",
     "output_type": "stream",
     "text": [
      "   Gene  Cluster Cell Lines  Z-Score\n",
      "0   419        0       Myob    0.261\n",
      "4   419        0   Myob_Ind    0.901\n",
      "3  1629        0       Myob    1.412\n",
      "7  1629        0   Myob_Ind    1.825\n",
      "2  1167        0       Myob   -0.534\n",
      "6  1167        0   Myob_Ind    2.588\n",
      "1  1036        0       Myob    1.010\n",
      "5  1036        0   Myob_Ind    0.525\n"
     ]
    }
   ],
   "source": [
    "df = pd.DataFrame({'Gene': ['419', '1036', '1167', '1629'],\n",
    "              'Myob': [0.261, 1.010, -0.534, 1.412],\n",
    "              'Myob_Ind': [0.901, 0.525, 2.588, 1.825],\n",
    "              'Cluster': [0, 0, 0, 0]})\n",
    "\n",
    "results=pd.melt(df,id_vars=['Gene','Cluster'],var_name='Cell Lines',value_name='Z-Score')\n",
    "print(results.sort_values(by='Gene',ascending=[False]))\n"
   ]
  },
  {
   "cell_type": "code",
   "execution_count": 103,
   "metadata": {},
   "outputs": [
    {
     "name": "stdout",
     "output_type": "stream",
     "text": [
      "   user  package\n",
      "0     1        1\n",
      "1     1        1\n",
      "2     1        2\n",
      "3     1        1\n",
      "4     1        2\n",
      "5     1        3\n",
      "6     2        3\n",
      "user  package\n",
      "1     1          3\n",
      "      2          2\n",
      "2     3          1\n",
      "1     3          1\n",
      "dtype: int64\n",
      "package  First  Second  Third\n",
      "user                         \n",
      "1          3.0     2.0    1.0\n",
      "2          0.0     0.0    1.0\n"
     ]
    }
   ],
   "source": [
    "USER =[1,1,1,1,1,1,2]\n",
    "PACKAGE=[1,1,2,1,2,3,3]\n",
    "df=pd.DataFrame({'user':USER,'package':PACKAGE})\n",
    "print(df)\n",
    "results=df.groupby(['user','package']).size()\n",
    "results=results.sort_values(ascending=False)\n",
    "#results=pd.melt(results,id_vars=['user','package'])\n",
    "print(results)\n",
    "results=results.unstack(level='package').fillna(0)\n",
    "results=results.rename(columns={1:'First',2:'Second',3:'Third'})\n",
    "print(results)"
   ]
  },
  {
   "cell_type": "code",
   "execution_count": 217,
   "metadata": {},
   "outputs": [
    {
     "name": "stdout",
     "output_type": "stream",
     "text": [
      "title    name \n",
      "Coach    Bob       4\n",
      "         tina     10\n",
      "driver   frank     2\n",
      "         mark      8\n",
      "teacher  kate      3\n",
      "         sam       5\n",
      "Name: count, dtype: int64\n",
      "Coach Bob 4\n",
      "Coach tina 10\n",
      "driver frank 2\n",
      "driver mark 8\n",
      "teacher kate 3\n",
      "teacher sam 5\n",
      "      type     name\n",
      "0    Coach    Bob 4\n",
      "1    Coach  tina 10\n",
      "2   driver  frank 2\n",
      "3   driver   mark 8\n",
      "4  teacher   kate 3\n",
      "5  teacher    sam 5\n"
     ]
    }
   ],
   "source": [
    "Title =['Coach','teacher','driver','Coach','teacher','driver'] \n",
    "Name=['Bob','sam','mark','tina','kate','frank']\n",
    "Count=[4,5,8,10,3,2]\n",
    "df=pd.DataFrame({'title':Title,'name':Name,'count':Count})\n",
    "df=df.set_index(['title','name'])\n",
    "grouped=df.groupby(['title','name'])['count'].sum()\n",
    "print(grouped)\n",
    "#grouped=grouped.T\n",
    "#grouped=grouped.unstack(level=0)\n",
    "#print(grouped.index,grouped.values)\n",
    "index=0\n",
    "type_list=[]\n",
    "name_list=[]\n",
    "for item in grouped.index:\n",
    "    print(item[0],str(item[1])+ ' ' +str(grouped.values[index]))\n",
    "    type_list.append(item[0])\n",
    "    name_list.append(str(item[1])+ ' ' +str(grouped.values[index]))\n",
    "    index+=1\n",
    "\n",
    "df=pd.DataFrame({'type':type_list,'name':name_list})\n",
    "print(df)\n",
    "#df=df.set_index('type')\n",
    "#print(pd.pivot_table(df,index='name',columns='type',values='value'))\n",
    "\n",
    "#print(fp)\n",
    "#print(df.unstack(level='title'))"
   ]
  },
  {
   "cell_type": "code",
   "execution_count": 256,
   "metadata": {},
   "outputs": [
    {
     "name": "stdout",
     "output_type": "stream",
     "text": [
      "Index(['A', 'B'], dtype='object')\n",
      "A  a    3\n",
      "B  a    1\n",
      "Name: 2016-11-22, dtype: int32\n"
     ]
    }
   ],
   "source": [
    "df = pd.DataFrame(index=['2016-11-21', '2016-11-22', '2016-11-23', '2016-11-24', '2016-11-25'],\n",
    "                  columns=pd.MultiIndex.from_product([list('AB'), list('ab')]),\n",
    "                  data=np.array([[2,3,5,6,6], [1,4,2,3,3], [3,1,1,1,0], [0,0,6,5,2]]).T)\n",
    "\n",
    "columns=df.columns.levels[0]\n",
    "print(columns)\n",
    "\n",
    "print(df.loc['2016-11-22',(columns,'a')])"
   ]
  },
  {
   "cell_type": "code",
   "execution_count": 280,
   "metadata": {},
   "outputs": [
    {
     "name": "stdout",
     "output_type": "stream",
     "text": [
      "  weekday    city  bread  butter\n",
      "0     Sun  Austin    139      20\n",
      "1     Sun  Dallas    237      45\n",
      "2     Mon  Austin    326      70\n",
      "3     Mon  Dallas    456      98\n",
      "         city  bread  butter\n",
      "weekday                     \n",
      "Mon         2      2       2\n",
      "Sun         2      2       2\n",
      "weekday\n",
      "Mon    782\n",
      "Sun    376\n",
      "Name: bread, dtype: int64\n",
      "         bread  butter\n",
      "weekday               \n",
      "Mon        782     168\n",
      "Sun        376      65\n",
      "                bread  butter\n",
      "city   weekday               \n",
      "Austin Mon        326      70\n",
      "       Sun        139      20\n",
      "Dallas Mon        456      98\n",
      "       Sun        237      45\n",
      "['Sun' 'Mon']\n",
      "        bread  butter\n",
      "city                 \n",
      "Austin    326      70\n",
      "Dallas    456      98\n",
      "Data Range              bread     butter\n",
      "        data_range data_range\n",
      "weekday                      \n",
      "Mon            130         28\n",
      "Sun             98         25\n",
      "\n",
      "\n",
      "aggregate by column           bread  butter\n",
      "weekday               \n",
      "Mon        782      28\n",
      "Sun        376      25\n"
     ]
    },
    {
     "name": "stderr",
     "output_type": "stream",
     "text": [
      "C:\\Users\\dnishimoto.BOISE\\AppData\\Local\\Continuum\\anaconda3\\envs\\deeplearning\\lib\\site-packages\\ipykernel_launcher.py:12: FutureWarning: Indexing with multiple keys (implicitly converted to a tuple of keys) will be deprecated, use a list instead.\n",
      "  if sys.path[0] == '':\n"
     ]
    },
    {
     "data": {
      "image/png": "[encoded data removed]",
      "text/plain": [
       "<Figure size 432x288 with 1 Axes>"
      ]
     },
     "metadata": {},
     "output_type": "display_data"
    }
   ],
   "source": [
    "sales=pd.DataFrame({\n",
    "    'weekday':['Sun','Sun','Mon','Mon'],\n",
    "    'city':['Austin','Dallas','Austin','Dallas'],\n",
    "    'bread':[139,237,326,456],\n",
    "    'butter':[20,45,70,98]\n",
    "    \n",
    "})\n",
    "print(sales)\n",
    "print(sales.groupby('weekday').count())\n",
    "print(sales.groupby('weekday')['bread'].sum())\n",
    "sales.groupby('weekday')['bread'].sum().plot.pie()\n",
    "print(sales.groupby('weekday')['bread','butter'].sum())\n",
    "\n",
    "print(sales.groupby(['city','weekday']).mean())\n",
    "\n",
    "print(sales['weekday'].unique())\n",
    "\n",
    "sales['weekday']=sales['weekday'].astype('category')\n",
    "\n",
    "print(sales.groupby('city')[['bread','butter']].max())\n",
    "\n",
    "\n",
    "\n",
    "def data_range(series):\n",
    "    return series.max() - series.min()\n",
    "\n",
    "\n",
    "print(\"Data Range\", sales.groupby('weekday')[['bread','butter']].agg([data_range]))\n",
    "\n",
    "\n",
    "print(\"\\n\\naggregate by column \", sales.groupby('weekday')[['bread','butter']].agg({'bread':'sum','butter':data_range}))\n"
   ]
  },
  {
   "cell_type": "code",
   "execution_count": 269,
   "metadata": {},
   "outputs": [
    {
     "name": "stdout",
     "output_type": "stream",
     "text": [
      "0     Dave\n",
      "1    Alice\n",
      "2      Bob\n",
      "3    Alice\n",
      "dtype: object\n"
     ]
    }
   ],
   "source": [
    "customers=pd.Series(['Dave','Alice','Bob','Alice'])\n",
    "print(customers)"
   ]
  },
  {
   "cell_type": "code",
   "execution_count": 303,
   "metadata": {},
   "outputs": [
    {
     "name": "stdout",
     "output_type": "stream",
     "text": [
      "   index    price  count\n",
      "0     45  3909.00      8\n",
      "1     46  3908.75      8\n",
      "2     47  3908.50      8\n",
      "3     51  3907.75      8\n",
      "4     52  3907.50      8\n",
      "   index    price  count  diff\n",
      "0     45  3909.00      8   0.0\n",
      "1     46  3908.75      8   1.0\n",
      "2     47  3908.50      8   1.0\n",
      "3     51  3907.75      8   4.0\n",
      "4     52  3907.50      8   1.0\n",
      "[[45, 46, 47], [51, 52]]\n"
     ]
    }
   ],
   "source": [
    "index=[45,46,47,51,52]\n",
    "price=[3909.0,3908.75,3908.50,3907.75,3907.5]\n",
    "count=[8,8,8,8,8]\n",
    "\n",
    "df=pd.DataFrame({'index':index,'price':price,'count':count})\n",
    "print(df)\n",
    "df['diff']=df['index'].diff().fillna(0)\n",
    "\n",
    "print(df)\n",
    "result_list=[[]]\n",
    "\n",
    "seq=0\n",
    "for row in df.itertuples():\n",
    "    index=row[1]\n",
    "    diff=row[4]\n",
    "    if diff<=1:\n",
    "        result_list[seq].append(index)\n",
    "    else:\n",
    "        seq+=1\n",
    "        result_list.insert(1,[index])\n",
    "\n",
    "print(result_list)    \n"
   ]
  },
  {
   "cell_type": "code",
   "execution_count": 398,
   "metadata": {},
   "outputs": [
    {
     "name": "stdout",
     "output_type": "stream",
     "text": [
      "DataFrame\n",
      "      A      B         C         D\n",
      "0  foo    one  0.162003  0.087469\n",
      "1  bar    one -1.156319 -1.526272\n",
      "2  foo    two  0.833892 -1.666304\n",
      "3  bar  three -2.026673 -0.322057\n",
      "4  foo    two  0.411452 -0.954371\n",
      "5  bar    two  0.765878 -0.095968\n",
      "6  foo    one -0.654890  0.678091\n",
      "7  foo  three -1.789842 -1.130922\n",
      "\n",
      "C + D Zscore\n",
      "           C         D\n",
      "0  0.398046  0.801292\n",
      "1 -0.300518 -1.398845\n",
      "2  1.121882 -1.251188\n",
      "3 -1.046514  0.519353\n",
      "4  0.666781 -0.417997\n",
      "5  1.347032  0.879491\n",
      "6 -0.482004  1.492511\n",
      "7 -1.704704 -0.624618\n",
      "\n",
      "C + D filtered Zscore\n",
      "      A      B         C         D\n",
      "1  bar    one -1.156319 -1.526272\n",
      "2  foo    two  0.833892 -1.666304\n",
      "5  bar    two  0.765878 -0.095968\n",
      "6  foo    one -0.654890  0.678091\n",
      "7  foo  three -1.789842 -1.130922\n",
      "A     \n",
      "bar  1    0.369953\n",
      "     3   -1.704616\n",
      "     5    0.861846\n",
      "foo  0    0.074534\n",
      "     2    2.500196\n",
      "     4    1.365823\n",
      "     6   -1.332981\n",
      "     7   -0.658920\n",
      "dtype: float64\n"
     ]
    },
    {
     "name": "stderr",
     "output_type": "stream",
     "text": [
      "C:\\Users\\dnishimoto.BOISE\\AppData\\Local\\Continuum\\anaconda3\\envs\\deeplearning\\lib\\site-packages\\ipykernel_launcher.py:15: FutureWarning: Indexing with multiple keys (implicitly converted to a tuple of keys) will be deprecated, use a list instead.\n",
      "  from ipykernel import kernelapp as app\n"
     ]
    }
   ],
   "source": [
    "columns = ['A', 'B', 'C', 'D']\n",
    "records = [\n",
    "    ['foo', 'one', 0.162003, 0.087469],\n",
    "    ['bar', 'one', -1.156319, -1.5262719999999999],\n",
    "    ['foo', 'two', 0.833892, -1.666304],     \n",
    "    ['bar', 'three', -2.026673, -0.32205700000000004],\n",
    "    ['foo', 'two', 0.41145200000000004, -0.9543709999999999],\n",
    "    ['bar', 'two', 0.765878, -0.095968],\n",
    "    ['foo', 'one', -0.65489, 0.678091],\n",
    "    ['foo', 'three', -1.789842, -1.130922]\n",
    "]\n",
    "df = pd.DataFrame.from_records(records, columns=columns)\n",
    "print(\"DataFrame\\n\",df)\n",
    "\n",
    "standardize=df.groupby('A')['C','D'].transform(zscore)\n",
    "print(\"\\nC + D Zscore\\n\",standardize)\n",
    "outliersC= (standardize['C'] <-1.1) | (standardize['C']>1.1)\n",
    "outliersD= (standardize['D'] <-1.1) | (standardize['D']>1.1)\n",
    "\n",
    "results=df[outliersC | outliersD]\n",
    "print(\"\\nC + D filtered Zscore\\n\",results)\n",
    "\n",
    "splitting = df.groupby('A')\n",
    "\n",
    "#for group_name, group in splitting:\n",
    "#    group['Diff']=group['C']-group['D']\n",
    "#    print(group_name,group['Diff'])\n",
    "\n",
    "    \n",
    "#splitting['Diff']=\n",
    "#splitting.apply(lambda series: [print(x[2]-x[3]) for x in series.values])    \n",
    "def column_difference(gr):\n",
    "    return gr['C']-gr['D']\n",
    "\n",
    "grouped=splitting.apply(column_difference)\n",
    "print(grouped)\n",
    "    \n"
   ]
  },
  {
   "cell_type": "code",
   "execution_count": 493,
   "metadata": {},
   "outputs": [
    {
     "name": "stdout",
     "output_type": "stream",
     "text": [
      "         f1        f2        f3       date  name  year\n",
      "0  0.032111  0.063330  0.027733 2014-08-31   XYZ  2014\n",
      "1  0.068824  0.158614  0.032489 2014-09-30   XYZ  2014\n",
      "2  0.076838  0.034735  0.020062 2014-10-31   XYZ  2014\n",
      "3  0.020903  0.154653  0.056860 2014-11-30   XYZ  2014\n",
      "4  0.032807  1.099790  0.233216 2014-08-31  Acme  2014\n",
      "5 -0.014995  0.814866  0.498432 2014-09-30  Acme  2014\n",
      "6 -0.002233  1.954578  0.727823 2014-10-31  Acme  2014\n",
      "\n",
      " zscores for f1,f2,f3\n",
      "          f1        f2        f3\n",
      "0 -0.741823 -0.721383 -0.476007\n",
      "1  0.809296  1.018644 -0.130533\n",
      "2  1.147886 -1.243571 -1.033224\n",
      "3 -1.215359  0.946310  1.639764\n",
      "4  1.366408 -0.392237 -1.253219\n",
      "5 -0.998952 -0.980577  0.059088\n",
      "6 -0.367457  1.372814  1.194131\n",
      "\n",
      " outliers \n",
      "          f1        f2        f3       date  name  year\n",
      "2  0.076838  0.034735  0.020062 2014-10-31   XYZ  2014\n",
      "4  0.032807  1.099790  0.233216 2014-08-31  Acme  2014\n"
     ]
    },
    {
     "name": "stderr",
     "output_type": "stream",
     "text": [
      "C:\\Users\\dnishimoto.BOISE\\AppData\\Local\\Continuum\\anaconda3\\envs\\deeplearning\\lib\\site-packages\\ipykernel_launcher.py:20: FutureWarning: Indexing with multiple keys (implicitly converted to a tuple of keys) will be deprecated, use a list instead.\n"
     ]
    }
   ],
   "source": [
    "#def zscore(series):\n",
    "#    #print(series[['f1','f2','f3']])\n",
    "#    return (series - series.mean())/series.std()\n",
    "\n",
    "F1=[0.032111,0.068824,0.076838,0.020903, 0.032807, -0.014995, -0.002233]\n",
    "F2=[0.063330,0.158614,0.034735,0.154653,1.099790,0.814866,1.954578]\n",
    "F3=[0.027733,0.032489,0.020062,0.056860,0.233216,0.498432,0.727823]\n",
    "Date=['8/31/2014','9/30/2014','10/31/2014','11/30/2014','8/31/2014','9/30/2014','10/31/2014']\n",
    "Name=['XYZ','XYZ','XYZ','XYZ','Acme','Acme','Acme']\n",
    "\n",
    "df=pd.DataFrame({'f1':F1,'f2':F2,'f3':F3,'date':Date,'name':Name})\n",
    "df['date']=pd.to_datetime(df['date'],errors='coerce')\n",
    "df['year']=df['date'].dt.strftime('%Y')\n",
    "df['f1']=df['f1'].astype(np.float)\n",
    "df['f2']=df['f2'].astype(np.float)\n",
    "df['f3']=df['f3'].astype(np.float)\n",
    "print(df)\n",
    "splitting=df.groupby(['year','name'])\n",
    "\n",
    "standardized=splitting['f1','f2','f3'].transform(zscore)\n",
    "print(\"\\n zscores for f1,f2,f3\\n\", standardized)\n",
    "\n",
    "outliers=(standardized['f1']>1)\n",
    "print(\"\\n outliers \\n\", df.loc[outliers])\n",
    "\n",
    "#for group_name, group in splitting:\n",
    "#    print(group_name,group[['f1','f2','f3']])\n"
   ]
  },
  {
   "cell_type": "code",
   "execution_count": 491,
   "metadata": {},
   "outputs": [
    {
     "name": "stdout",
     "output_type": "stream",
     "text": [
      "    C\n",
      "0 NaN\n",
      "1 NaN\n",
      "2 NaN\n",
      "3 NaN\n",
      "4 NaN\n",
      "5 NaN\n",
      "6 NaN\n",
      "7 NaN\n"
     ]
    }
   ],
   "source": [
    "df=pd.DataFrame([[1, 10, 14], [1, 12, 14], [1, 20, 12], [1, 25, 12], [2, 18, 12], [2, 30, 14], [2, 4, 12], [2, 10, 14]], columns = ['A', 'B', 'C'])\n",
    "print(df.groupby(['A','B']).transform(zscore))"
   ]
  },
  {
   "cell_type": "code",
   "execution_count": 4,
   "metadata": {},
   "outputs": [
    {
     "name": "stdout",
     "output_type": "stream",
     "text": [
      "    calltype  district  gender       complaint  age  area  severity\n",
      "0          0         0       1      Chest Pain   28     0         3\n",
      "1          0         1       1   Heart Problem   50     0         2\n",
      "2          0         2       1  Cardiac Arrest   76     0         1\n",
      "3          1         3       1   Heart Problem   45     1         2\n",
      "4          0         4       0  Cardiac Arrest   52     1         1\n",
      "5          0         0       1      Chest Pain   34     1         3\n",
      "6          0         1       1  Cardiac Arrest   44     1         1\n",
      "7          0         2       0   Heart Problem   55     0         2\n",
      "8          1         3       0   Heart Problem   86     0         2\n",
      "9          1         4       1   Heart Problem   65     0         2\n",
      "10         0         0       1   Heart Problem   60     1         2\n",
      "11         1         1       1      Chest Pain   36     1         3\n",
      "12         0         2       1   Heart Problem   45     1         2\n",
      "13         0         3       1      Chest Pain   65     0         3\n",
      "14         0         4       1   Heart Problem   60     0         2\n",
      "15         0         0       0   Heart Problem   35     1         2\n",
      "16         0         1       1   Heart Problem   80     0         2\n",
      "17         0         2       1      Chest Pain   46     1         3\n",
      "18         0         3       0   Heart Problem   70     1         2\n"
     ]
    },
    {
     "data": {
      "image/png": "[encoded data removed]",
      "text/plain": [
       "<Figure size 432x288 with 1 Axes>"
      ]
     },
     "metadata": {
      "needs_background": "light"
     },
     "output_type": "display_data"
    },
    {
     "name": "stdout",
     "output_type": "stream",
     "text": [
      "Gender 0=Female 1=Male\n",
      "           age           \n",
      "gender       0          1\n",
      "severity                 \n",
      "1         52.0  60.000000\n",
      "2         61.5  57.857143\n",
      "3          NaN  41.800000\n",
      "\n",
      " More males had severe heart problems\n"
     ]
    },
    {
     "data": {
      "image/png": "[encoded data removed]",
      "text/plain": [
       "<Figure size 720x576 with 2 Axes>"
      ]
     },
     "metadata": {
      "needs_background": "light"
     },
     "output_type": "display_data"
    },
    {
     "name": "stdout",
     "output_type": "stream",
     "text": [
      "\n",
      "Ages 30-40 had high frequencies of cardiac arrest\n",
      "\n",
      "K-Means Clustering\n",
      "\n",
      "674.3571428571429\n",
      "[0 1 2 1 2 2 2 1 0 1 0 0 2 0 0 0 0 2 2]\n"
     ]
    },
    {
     "data": {
      "image/png": "[encoded data removed]",
      "text/plain": [
       "<Figure size 432x288 with 1 Axes>"
      ]
     },
     "metadata": {
      "needs_background": "light"
     },
     "output_type": "display_data"
    },
    {
     "name": "stdout",
     "output_type": "stream",
     "text": [
      "\n",
      "TSNE\n",
      "\n",
      "\n",
      "PCA\n",
      "\n",
      "(19, 3)\n"
     ]
    },
    {
     "data": {
      "image/png": "[encoded data removed]",
      "text/plain": [
       "<Figure size 432x288 with 1 Axes>"
      ]
     },
     "metadata": {
      "needs_background": "light"
     },
     "output_type": "display_data"
    }
   ],
   "source": [
    "from sklearn.decomposition import PCA\n",
    "from scipy.cluster.vq import vq, whiten\n",
    "from scipy.cluster.hierarchy import linkage, fcluster,dendrogram\n",
    "from sklearn.preprocessing import LabelEncoder\n",
    "import matplotlib.pyplot as plt\n",
    "import seaborn as sns\n",
    "import numpy as np\n",
    "from sklearn.cluster import KMeans\n",
    "from sklearn.manifold import TSNE\n",
    "\n",
    "calltype=['Emergency','Emergency','Emergency','Hosp to Hosp','Emergency','Emergency','Emergency','Emergency','Hosp to Hosp','Hosp to Hosp','Emergency','Hosp to Hosp','Emergency','Emergency','Emergency','Emergency','Emergency','Emergency','Emergency']\n",
    "district=['District 1','District 2','District 3', 'District 4','District 5','District 1','District 2','District 3','District 4','District 5','District 1','District 2','District 3','District 4','District 5', 'District 1','District 2','District 3','District 4']\n",
    "gender=['Male','Male','Male','Male','Female','Male','Male','Female','Female','Male','Male','Male','Male','Male','Male','Female','Male','Male','Female']\n",
    "complaint=['Chest Pain','Heart Problem','Cardiac Arrest','Heart Problem','Cardiac Arrest','Chest Pain','Cardiac Arrest','Heart Problem','Heart Problem','Heart Problem','Heart Problem','Chest Pain','Heart Problem','Chest Pain','Heart Problem','Heart Problem','Heart Problem','Chest Pain','Heart Problem']\n",
    "age=[28,50,76,45,52,34,44,55,86,65,60,36,45,65,60,35,80,46,70]\n",
    "area=['Rural','Rural','Rural','Urban','Urban','Urban','Urban','Rural','Rural','Rural','Urban','Urban','Urban','Rural','Rural','Urban','Rural','Urban','Urban']\n",
    "df=pd.DataFrame({'calltype':calltype,'district':district,'gender':gender,'complaint':complaint,'age':age,'area':area})\n",
    "df['severity']=df['complaint'].apply(lambda row: 3 if row=='Chest Pain' else 2 if row=='Heart Problem' else 1 if row=='Cardiac Arrest' else 0)\n",
    "\n",
    "encoder=LabelEncoder()\n",
    "df['district']=encoder.fit(df['district']).transform(df['district'])\n",
    "df['gender']=encoder.fit(df['gender']).transform(df['gender'])\n",
    "df['area']=encoder.fit(df['area']).transform(df['area'])\n",
    "df['calltype']=encoder.fit(df['calltype']).transform(df['calltype'])\n",
    "print(df)\n",
    "\n",
    "#plt.plot(data=df,x='calltype',y='severity',c='gender')\n",
    "\n",
    "sns.countplot(x='gender',hue='severity',data=df)\n",
    "plt.legend(['Cardiac Arrest','Heart Problem','Chest Pain'])\n",
    "plt.show()\n",
    "\n",
    "print('Gender 0=Female 1=Male')\n",
    "fp=df.pivot_table(index=['severity'],columns=['gender'],values=['age'],aggfunc='mean')\n",
    "print(fp)\n",
    "\n",
    "print(\"\\n More males had severe heart problems\")\n",
    "\n",
    "#print(df.groupby(['gender','severity'])['age'].size())\n",
    "fig,ax=plt.subplots(figsize=(10,8))\n",
    "x=np.linspace(0,len(df),len(df))\n",
    "ax.bar(x,df['severity'],alpha=0.3,color='green')\n",
    "twin_ax=ax.twinx()\n",
    "df[['age']].plot(ax=twin_ax, c='red')\n",
    "plt.show()\n",
    "\n",
    "print('\\nAges 30-40 had high frequencies of cardiac arrest')\n",
    "\n",
    "print(\"\\nK-Means Clustering\\n\")\n",
    "labels=df['gender']\n",
    "xs=df['age']\n",
    "ys=df['severity']\n",
    "points=np.column_stack((xs,ys))\n",
    "model = KMeans(n_clusters=3)\n",
    "model.fit(points)\n",
    "print(model.inertia_)\n",
    "new_points=np.random.permutation(points)\n",
    "new_labels = model.predict(new_points)\n",
    "print(new_labels)\n",
    "xs = new_points[:,0]\n",
    "ys = new_points[:,1]\n",
    "plt.clf()\n",
    "# Make a scatter plot of xs and ys, using labels to define the colors\n",
    "#_=plt.scatter(xs,ys,c=labels, alpha=0.5)\n",
    "_=plt.scatter(xs,ys,c=labels, alpha=0.5)\n",
    "# Assign the cluster centers: centroids\n",
    "centroids = model.cluster_centers_\n",
    "# Assign the columns of centroids: centroids_x, centroids_y\n",
    "centroids_x = centroids[:,0]\n",
    "centroids_y = centroids[:,1]\n",
    "# Make a scatter plot of centroids_x and centroids_y\n",
    "_=plt.scatter(centroids_x,centroids_y, marker='D',s=50)\n",
    "plt.show()\n",
    "\n",
    "print(\"\\nTSNE\\n\")\n",
    "model=TSNE(learning_rate=100)\n",
    "X=df[['calltype','district','gender','age','area','severity']]\n",
    "transformed=model.fit_transform(X)\n",
    "\n",
    "xs=transformed[:,0]\n",
    "ys=transformed[:,1]\n",
    "\n",
    "plt.scatter(xs,ys,c=labels)\n",
    "plt.show\n",
    "\n",
    "print(\"\\nPCA\\n\")\n",
    "pca=PCA(n_components=3)\n",
    "pca.fit(X)\n",
    "\n",
    "transformed=pca.transform(X)\n",
    "print(transformed.shape)\n",
    "\n",
    "xs=transformed[:,0]\n",
    "ys=transformed[:,1]\n",
    "plt.scatter(xs,ys,c=labels)\n",
    "plt.show()\n"
   ]
  },
  {
   "cell_type": "code",
   "execution_count": 6,
   "metadata": {},
   "outputs": [
    {
     "name": "stdout",
     "output_type": "stream",
     "text": [
      "2017-10-01 15:23:25.500000\n",
      "2018\n",
      "<class 'pandas._libs.tslibs.timestamps.Timestamp'>\n"
     ]
    }
   ],
   "source": [
    "dt=datetime(year=2017,\n",
    "    month=10,\n",
    "    day=1,\n",
    "    hour=15,\n",
    "    minute=23,\n",
    "    second=25,\n",
    "    microsecond=500000)\n",
    "print(dt)\n",
    "dt=dt.replace(year=2018)\n",
    "print(dt.year)\n",
    "\n",
    "dt=pd.to_datetime(\"2021-02-19\")\n",
    "print(type(dt))"
   ]
  },
  {
   "cell_type": "code",
   "execution_count": 14,
   "metadata": {},
   "outputs": [
    {
     "name": "stdout",
     "output_type": "stream",
     "text": [
      "    id  report  daysleft\n",
      "0  171      11         5\n",
      "1  171      12         9\n",
      "2  182      13         1\n",
      "3  182      14         2\n",
      "    id  report  daysleft  order\n",
      "2  182      13         1      0\n",
      "0  171      11         5      0\n",
      "3  182      14         2      1\n",
      "1  171      12         9      1\n"
     ]
    }
   ],
   "source": [
    "ID=[171,171,182,182]\n",
    "Report=[11,12,13,14]\n",
    "DaysLeft=[5,9,1,2]\n",
    "\n",
    "df=pd.DataFrame({'id':ID,'report':Report,'daysleft':DaysLeft})\n",
    "print(df)\n",
    "df=df.sort_values(by=\"daysleft\",ascending=True)\\\n",
    "    .assign(order=lambda x: x.groupby(\"id\").cumcount())\\\n",
    "    .sort_values(by=['order','daysleft'])\n",
    "\n",
    "print(df)"
   ]
  },
  {
   "cell_type": "code",
   "execution_count": 40,
   "metadata": {},
   "outputs": [
    {
     "name": "stdout",
     "output_type": "stream",
     "text": [
      "6.0\n",
      "Segments  6.0\n",
      "05 0 2 1\n",
      "61 2 4 1\n",
      "35 4 6 1\n",
      "61 6 8 2\n",
      "38 8 10 1\n",
      "70 10 12 1\n",
      "56 1 3 1\n",
      "13 3 5 1\n",
      "56 5 7 2\n",
      "13 7 9 2\n",
      "87 9 11 1\n",
      "61 2 4 1\n",
      "35 4 6 1\n",
      "61 6 8 2\n",
      "38 8 10 1\n",
      "70 10 12 1\n",
      "13 3 5 1\n",
      "56 5 7 1\n",
      "13 7 9 2\n",
      "87 9 11 1\n",
      "35 4 6 1\n",
      "61 6 8 1\n",
      "38 8 10 1\n",
      "70 10 12 1\n",
      "56 5 7 1\n",
      "13 7 9 1\n",
      "87 9 11 1\n",
      "61 6 8 1\n",
      "38 8 10 1\n",
      "70 10 12 1\n",
      "13 7 9 1\n",
      "87 9 11 1\n",
      "38 8 10 1\n",
      "70 10 12 1\n",
      "87 9 11 1\n",
      "70 10 12 1\n",
      "Segments  4.0\n",
      "056 0 3 1\n",
      "135 3 6 1\n",
      "613 6 9 1\n",
      "870 9 12 1\n",
      "561 1 4 1\n",
      "356 4 7 1\n",
      "138 7 10 1\n",
      "613 2 5 1\n",
      "561 5 8 1\n",
      "387 8 11 1\n",
      "135 3 6 1\n",
      "613 6 9 1\n",
      "870 9 12 1\n",
      "356 4 7 1\n",
      "138 7 10 1\n",
      "561 5 8 1\n",
      "387 8 11 1\n",
      "613 6 9 1\n",
      "870 9 12 1\n",
      "138 7 10 1\n",
      "387 8 11 1\n",
      "870 9 12 1\n",
      "Segments  3.0\n",
      "0561 0 4 1\n",
      "3561 4 8 1\n",
      "3870 8 12 1\n",
      "5613 1 5 1\n",
      "5613 5 9 2\n",
      "6135 2 6 1\n",
      "6138 6 10 1\n",
      "1356 3 7 1\n",
      "1387 7 11 1\n",
      "3561 4 8 1\n",
      "3870 8 12 1\n",
      "5613 5 9 1\n",
      "6138 6 10 1\n",
      "1387 7 11 1\n",
      "3870 8 12 1\n",
      "056135613870\n",
      "['61', '56', '13', '61', '13', '5613']\n"
     ]
    }
   ],
   "source": [
    "mylist=[0,5,6,1,3,5,6,1,3,8,7,0]\n",
    "s=\"\"\n",
    "s=s.join([str(x) for x in mylist])\n",
    "string_length=len(s)\n",
    "sequence_length=len(mylist)/2\n",
    "print(sequence_length)\n",
    "\n",
    "dups=[]\n",
    "for i in range(2,int(sequence_length)-1):\n",
    "    old_offset=0\n",
    "    segments=string_length/i\n",
    "    print(\"Segments \",segments)\n",
    "    for k in range(0,string_length-1):\n",
    "        old_offset=k\n",
    "        myDct={}\n",
    "        for j in range(1,int(segments)+1):\n",
    "            offset=k+j*i\n",
    "            if offset<=string_length:\n",
    "                key=s[old_offset:offset]\n",
    "                if key in myDct.keys():\n",
    "                    myDct[key]+=1\n",
    "                    print(key,old_offset,offset,myDct[key])\n",
    "                    dups.append(key)\n",
    "                else:\n",
    "                    myDct[key]=1\n",
    "                    print(key,old_offset,offset,myDct[key])\n",
    "                old_offset=offset\n",
    "print(s)\n",
    "print(dups)\n",
    "#{print(k,v) for (k,v) in myDct.items() if v>1}\n"
   ]
  },
  {
   "cell_type": "code",
   "execution_count": 26,
   "metadata": {},
   "outputs": [
    {
     "name": "stdout",
     "output_type": "stream",
     "text": [
      "[[ 0  1  2  3  4]\n",
      " [ 5  6  7  8  9]\n",
      " [10 11 12 13 14]\n",
      " [15 16 17 18 19]\n",
      " [20 21 22 23 24]]\n",
      "[0 1 2 3 4]\n",
      "[5 6 7 8 9]\n",
      "[10 11 12 13 14]\n",
      "[15 16 17 18 19]\n",
      "[20 21 22 23 24]\n",
      "[[2, 3], [4, 1], [1, 0], [2, 2]]\n",
      "2 3 13\n",
      "4 1 21\n",
      "1 0 5\n",
      "2 2 12\n"
     ]
    }
   ],
   "source": [
    "a=np.arange(25).reshape(5,5)\n",
    "print(a)\n",
    "for item in a:\n",
    "    print(item)\n",
    "search=[[2,3], [4,1], [1,0], [2,2]]\n",
    "print(search)\n",
    "for row,col in search:\n",
    "    print(row,col, a[row][col])"
   ]
  },
  {
   "cell_type": "code",
   "execution_count": 27,
   "metadata": {},
   "outputs": [
    {
     "name": "stdout",
     "output_type": "stream",
     "text": [
      "[13 21  5  2]\n"
     ]
    }
   ],
   "source": [
    "# defining the function\n",
    "def get_value(matrix, row_list, col_list):\n",
    "    for i, j in zip(row_list, col_list):\n",
    "        return matrix[row_list, col_list]\n",
    "\n",
    "# initializing the array\n",
    "a = np.arange(0, 25, 1).reshape(5, 5)\n",
    "\n",
    "# getting the required values and printing\n",
    "b = get_value(a, [2,4,1,0], [3,1,0,2])\n",
    "\n",
    "# output\n",
    "print(b)"
   ]
  },
  {
   "cell_type": "code",
   "execution_count": 40,
   "metadata": {},
   "outputs": [
    {
     "name": "stdout",
     "output_type": "stream",
     "text": [
      "    id  flag  gender\n",
      "0  001     1    Male\n",
      "1  002     2  Female\n",
      "2  003     3    Male\n",
      "3  004     4  Female\n"
     ]
    }
   ],
   "source": [
    "Id =['001','002','003','004']\n",
    "Flag=[1,2,3,4]  \n",
    "df=pd.DataFrame({'id':Id,'flag':Flag})\n",
    "\n",
    "df['gender']=df['flag'].apply(lambda x: 'Male' if x%2 else 'Female')\n",
    "\n",
    "print(df)"
   ]
  },
  {
   "cell_type": "code",
   "execution_count": 11,
   "metadata": {},
   "outputs": [
    {
     "name": "stdout",
     "output_type": "stream",
     "text": [
      "           log_time            query       cate_feat_0 num_feat_0\n",
      "session_id                                                       \n",
      "1            [4, 6]     [hi, pandas]    [apple, apple]     [1, 3]\n",
      "2            [1, 5]  [groupby, dude]  [banana, banana]     [4, 2]\n",
      "3            [2, 3]      [sort, agg]   [apple, banana]     [5, 6]\n"
     ]
    },
    {
     "name": "stderr",
     "output_type": "stream",
     "text": [
      "C:\\Users\\dnishimoto.BOISE\\AppData\\Local\\Continuum\\anaconda3\\envs\\deeplearning\\lib\\site-packages\\ipykernel_launcher.py:8: FutureWarning: Indexing with multiple keys (implicitly converted to a tuple of keys) will be deprecated, use a list instead.\n",
      "  \n"
     ]
    }
   ],
   "source": [
    "df = pd.DataFrame({'session_id':[1,2,1,2,3,3,],\n",
    "             'log_time':[4,5,6,1,2,3],\n",
    "             'query':['hi','dude','pandas','groupby','sort','agg'],\n",
    "             'cate_feat_0':['apple','banana']*3,\n",
    "             'num_feat_0':[1,2,3,4,5,6]})\n",
    "df=df.sort_values(by=['session_id','log_time'])\n",
    "\n",
    "grouped=df.groupby('session_id')['log_time','query','cate_feat_0','num_feat_0'].agg(list)\n",
    "print(grouped)"
   ]
  },
  {
   "cell_type": "code",
   "execution_count": 33,
   "metadata": {
    "scrolled": true
   },
   "outputs": [
    {
     "name": "stdout",
     "output_type": "stream",
     "text": [
      "Year                    2019   2020                               2019 Totals  \\\n",
      "Month                 201902 202001 202003 202007 202005 202012 201904          \n",
      "Name  City   Stage                                                              \n",
      "Peter London Masters     0.0    0.0    0.0    0.0    0.0    0.0   66.0   66.0   \n",
      "      HK     Graduate    0.0    0.0    0.0    0.0    0.0   65.0    0.0   65.0   \n",
      "             Masters    22.0    0.0    0.0    0.0    0.0    0.0    0.0   22.0   \n",
      "Nicky NY     Graduate    0.0    0.0    0.0    0.0   24.0    0.0    0.0   24.0   \n",
      "Mina  NY     Graduate    0.0    0.0    0.0   34.0    0.0    0.0    0.0   34.0   \n",
      "      LA     Graduate    0.0    0.0   21.0    0.0    0.0    0.0    0.0   21.0   \n",
      "John  London Masters     0.0   27.0    0.0    0.0    0.0    0.0    0.0   27.0   \n",
      "Boby  NY     Graduate   23.0    0.0    0.0    0.0    0.0    0.0    0.0   23.0   \n",
      "\n",
      "Year                   Rank  \n",
      "Month                        \n",
      "Name  City   Stage           \n",
      "Peter London Masters   66.0  \n",
      "      HK     Graduate  65.0  \n",
      "             Masters   65.0  \n",
      "Nicky NY     Graduate  24.0  \n",
      "Mina  NY     Graduate  34.0  \n",
      "      LA     Graduate  21.0  \n",
      "John  London Masters   27.0  \n",
      "Boby  NY     Graduate  23.0  \n"
     ]
    }
   ],
   "source": [
    "df = pd.DataFrame({'Name': ['John', 'Boby', 'Mina', 'Peter', \n",
    "'Nicky','Peter','Mina','Peter'],\n",
    "               'City': ['London','NY','LA','London','NY','HK','NY','HK'],\n",
    "\n",
    "  'Stage': ['Masters', 'Graduate', 'Graduate', 'Masters', \n",
    "  'Graduate','Masters','Graduate','Graduate'],\n",
    "  'Year':[2020,2019,2020,2019,2020,2019,2020,2020],\n",
    "  'Month':[202001,201902,202003,201904,202005,201902,202007,202012],\n",
    "  'Earnings': [27, 23, 21, 66, 24,22,34,65]})\n",
    "\n",
    "grouped=df.groupby(['Name','City','Stage','Year','Month'])['Earnings'].sum()\n",
    "#print(grouped)\n",
    "grouped=grouped.reset_index(name='Sum')\n",
    "fp=grouped.pivot(index=['Name','City','Stage'],columns=['Year','Month'],values='Sum').fillna(0)\n",
    "fp['Totals'] = fp.sum(axis='columns')\n",
    "\n",
    "fp[\"Rank\"] = fp.groupby(['Name','City'])['Totals'].max()\n",
    "\n",
    "#tmp=fp.groupby(['Name','City'])['Totals'].sum()\n",
    "#rank=tmp.map(range)\n",
    "#rank=[item for sublist in rank for item in sublist]\n",
    "#.rank(\"dense\", ascending=True))\n",
    "\n",
    "fp = fp.sort_values(by=['Name','Rank','City','Totals'],ascending=[False,False,False,False])\n",
    "\n",
    "print(fp)    "
   ]
  },
  {
   "cell_type": "code",
   "execution_count": 3,
   "metadata": {},
   "outputs": [
    {
     "name": "stdout",
     "output_type": "stream",
     "text": [
      "   id   start_dt     end_dt\n",
      "0   1 2021-01-01 2021-01-14\n",
      "1   1 2021-01-01 2021-01-15\n",
      "2   1 2021-01-13 2021-01-16\n",
      "3   2 2021-02-01 2021-01-04\n",
      "4   2 2021-02-01 2021-01-07\n",
      "     start_dt     end_dt  diff\n",
      "id                            \n",
      "1  2021-01-01 2021-01-16   -15\n",
      "2  2021-02-01 2021-01-07    25\n"
     ]
    }
   ],
   "source": [
    "id=[1,1,1,2,2]\n",
    "start_dt =['2021-01-01','2021-01-01','2021-01-13','2021-02-01','2021-02-01']  \n",
    "end_dt=['2021-01-14','2021-01-15','2021-01-16','2021-01-04','2021-01-07']\n",
    "\n",
    "\n",
    "df=pd.DataFrame({'id':id,'start_dt':start_dt,'end_dt':end_dt})\n",
    "df['start_dt']=df['start_dt'].astype(np.datetime64)\n",
    "df['end_dt']=df['end_dt'].astype(np.datetime64)\n",
    "print(df)\n",
    "grouped=df.groupby('id').agg({'start_dt':'min','end_dt':'max'}).assign(diff=lambda row: (row['start_dt']-row['end_dt']).dt.days)\n",
    "print(grouped)"
   ]
  },
  {
   "cell_type": "code",
   "execution_count": 72,
   "metadata": {},
   "outputs": [
    {
     "name": "stdout",
     "output_type": "stream",
     "text": [
      "    id        date name  score  3d_rolling_avg  shift  prev_score_lessthan_100\n",
      "0    0  2021-01-02    A    100             NaN    NaN                    False\n",
      "1    1  2021-01-03    A    120             NaN  100.0                     True\n",
      "2    2  2021-01-04    A    130      116.666667  120.0                    False\n",
      "3    3  2021-01-05    A    115      121.666667  130.0                    False\n",
      "4    4  2021-01-06    A    120      121.666667  115.0                    False\n",
      "5    5  2021-01-07    A     70      101.666667  120.0                    False\n",
      "6    6  2021-01-08    A     60       83.333333   70.0                     True\n",
      "7    7  2021-01-09    A     30       53.333333   60.0                     True\n",
      "8    8  2021-01-10    A     10       33.333333   30.0                     True\n",
      "9    9  2021-01-11    A    100       46.666667   10.0                     True\n",
      "10  10  2021-01-02    B     50       53.333333  100.0                     True\n",
      "11  11  2021-01-03    B     40       63.333333   50.0                     True\n",
      "12  12  2021-01-04    B     80       56.666667   40.0                     True\n",
      "13  13  2021-01-05    B    115       78.333333   80.0                     True\n",
      "14  14  2021-01-06    B    100       98.333333  115.0                    False\n",
      "15  15  2021-01-07    B     50       88.333333  100.0                     True\n",
      "16  16  2021-01-08    B     20       56.666667   50.0                     True\n",
      "17  17  2021-01-09    B     40       36.666667   20.0                     True\n",
      "18  18  2021-01-10    B    120       60.000000   40.0                     True\n",
      "19  19  2021-01-11    B     20       60.000000  120.0                    False\n",
      "20  20  2021-01-02    C     80       73.333333   20.0                     True\n",
      "21  21  2021-01-03    C    100       66.666667   80.0                     True\n",
      "22  22  2021-01-04    C    120      100.000000  100.0                     True\n",
      "23  23  2021-01-05    C    115      111.666667  120.0                    False\n",
      "24  24  2021-01-06    C     90      108.333333  115.0                    False\n",
      "25  25  2021-01-07    C     80       95.000000   90.0                     True\n",
      "26  26  2021-01-08    C    150      106.666667   80.0                     True\n",
      "27  27  2021-01-09    C    200      143.333333  150.0                    False\n",
      "28  28  2021-01-10    C     30      126.666667  200.0                    False\n",
      "29  29  2021-01-11    C     40       90.000000   30.0                     True\n"
     ]
    }
   ],
   "source": [
    "data=[(0   ,'2021-01-02','A',100),\n",
    "(1   ,'2021-01-03','A',120),\n",
    "(2   ,'2021-01-04','A',130),\n",
    "(3   ,'2021-01-05','A',115),\n",
    "(4   ,'2021-01-06','A',120),\n",
    "(5   ,'2021-01-07','A', 70),\n",
    "(6   ,'2021-01-08','A', 60),\n",
    "(7   ,'2021-01-09','A', 30),\n",
    "(8   ,'2021-01-10','A', 10),\n",
    "(9   ,'2021-01-11','A',100),\n",
    "(10  ,'2021-01-02','B', 50),\n",
    "(11  ,'2021-01-03','B', 40),\n",
    "(12  ,'2021-01-04','B', 80),\n",
    "(13  ,'2021-01-05','B',115),\n",
    "(14  ,'2021-01-06','B',100),\n",
    "(15  ,'2021-01-07','B', 50),\n",
    "(16  ,'2021-01-08','B', 20),\n",
    "(17  ,'2021-01-09','B', 40),\n",
    "(18  ,'2021-01-10','B',120),\n",
    "(19  ,'2021-01-11','B', 20),\n",
    "(20  ,'2021-01-02','C', 80),\n",
    "(21  ,'2021-01-03','C',100),\n",
    "(22  ,'2021-01-04','C',120),\n",
    "(23  ,'2021-01-05','C',115),\n",
    "(24  ,'2021-01-06','C', 90),\n",
    "(25  ,'2021-01-07','C', 80),\n",
    "(26  ,'2021-01-08','C',150),\n",
    "(27  ,'2021-01-09','C',200),\n",
    "(28  ,'2021-01-10','C', 30),\n",
    "(29  ,'2021-01-11','C', 40)]\n",
    "header=['id','date','name','score']\n",
    "df=pd.DataFrame(data,columns=header)\n",
    "#print(df)\n",
    "\n",
    "\n",
    "#rolling_3day_avg = df['date'].rolling(\n",
    "#    window=3,\n",
    "#    center=False\n",
    "#)\n",
    "\n",
    "\n",
    "#for items in rolling_3day_avg:\n",
    "#    print(*items.index)\n",
    "#    for date in items:\n",
    "#        print (date)\n",
    "        \n",
    "        \n",
    "df['3d_rolling_avg'] = df.iloc[:,3].rolling(\n",
    "    window=3,\n",
    "    center=False\n",
    ").mean()\n",
    "\n",
    "\n",
    "df['shift']=df.apply(lambda x: x.shift(1))['score']\n",
    "df['prev_score_lessthan_100']=df['shift'].apply(lambda x: True if (x <=100) & (x != None) else False)\n",
    "print(df)\n"
   ]
  },
  {
   "cell_type": "code",
   "execution_count": 52,
   "metadata": {},
   "outputs": [
    {
     "name": "stdout",
     "output_type": "stream",
     "text": [
      "   x  y  a\n",
      "0  1  3  0\n",
      "1  1  1  0\n",
      "2  1  2  0\n",
      "3  3  6  0\n",
      "4  5  3  1\n",
      "5  1  5  0\n",
      "6  1  7  0\n",
      "7  1  6  0\n",
      "8  1  4  0\n",
      "tensor([[0., 0., 0., 0., 0., 0., 0., 0., 0., 0., 0., 0.],\n",
      "        [0., 0., 0., 0., 0., 0., 0., 0., 0., 0., 0., 0.],\n",
      "        [0., 0., 0., 0., 0., 0., 0., 0., 0., 0., 0., 0.],\n",
      "        [0., 0., 0., 0., 0., 0., 0., 0., 0., 0., 0., 0.],\n",
      "        [0., 0., 1., 0., 0., 0., 0., 0., 0., 0., 0., 0.],\n",
      "        [0., 0., 0., 0., 0., 0., 0., 0., 0., 0., 0., 0.],\n",
      "        [0., 0., 0., 0., 0., 0., 0., 0., 0., 0., 0., 0.],\n",
      "        [0., 0., 0., 0., 0., 0., 0., 0., 0., 0., 0., 0.]])\n",
      "     1    2    3    4    5    6    7    8    9   10   11   12\n",
      "1  0.0  0.0  0.0  0.0  0.0  0.0  0.0  0.0  0.0  0.0  0.0  0.0\n",
      "2  0.0  0.0  0.0  0.0  0.0  0.0  0.0  0.0  0.0  0.0  0.0  0.0\n",
      "3  0.0  0.0  0.0  0.0  0.0  0.0  0.0  0.0  0.0  0.0  0.0  0.0\n",
      "4  0.0  0.0  0.0  0.0  0.0  0.0  0.0  0.0  0.0  0.0  0.0  0.0\n",
      "5  0.0  0.0  1.0  0.0  0.0  0.0  0.0  0.0  0.0  0.0  0.0  0.0\n",
      "6  0.0  0.0  0.0  0.0  0.0  0.0  0.0  0.0  0.0  0.0  0.0  0.0\n",
      "7  0.0  0.0  0.0  0.0  0.0  0.0  0.0  0.0  0.0  0.0  0.0  0.0\n",
      "8  0.0  0.0  0.0  0.0  0.0  0.0  0.0  0.0  0.0  0.0  0.0  0.0\n"
     ]
    }
   ],
   "source": [
    "import torch\n",
    "tensor_matrix = torch.zeros(8, 12)\n",
    "tensor_matrix=tensor_matrix.reshape(8,12)\n",
    "\n",
    "data=[(1,   3,   0),\n",
    "(1,   1,   0),\n",
    "(1,   2,   0),\n",
    "(3,   6,   0),\n",
    "(5,   3,   1),\n",
    "(1,   5,   0),\n",
    "(1,   7,   0),\n",
    "(1,   6,   0),\n",
    "(1,   4,   0)]\n",
    "df=pd.DataFrame(data,columns=['x','y','a'])\n",
    "print(df)\n",
    "for key,row in df.iterrows():\n",
    "    tensor_matrix[row.x-1,row.y-1]=row.a\n",
    "print(tensor_matrix)\n",
    "df=pd.DataFrame(np.array(tensor_matrix),columns=[str(i) for i in range(1,13)])\n",
    "df.reset_index()\n",
    "df.index = df.index + 1\n",
    "print (df)"
   ]
  },
  {
   "cell_type": "code",
   "execution_count": 4,
   "metadata": {},
   "outputs": [],
   "source": [
    "time_stamp=pd.Timestamp(datetime(2017,1,1))"
   ]
  },
  {
   "cell_type": "code",
   "execution_count": 15,
   "metadata": {},
   "outputs": [
    {
     "name": "stdout",
     "output_type": "stream",
     "text": [
      "           Data2      Data3     \n",
      "Sym         aapl aaww  aapl aaww\n",
      "Date                            \n",
      "2015-05-05    15   40     1  120\n",
      "2015-05-06    10  100     6   60\n",
      "2015-05-07     8   60     8  100\n",
      "2015-05-08    11  110     5   50\n"
     ]
    }
   ],
   "source": [
    "df = pd.DataFrame({\n",
    "    'Date' : ['2015-05-08', '2015-05-07', '2015-05-06', '2015-05-05', '2015-05-08', '2015-05-07', '2015-05-06', '2015-05-05'], \n",
    "    'Sym'  : ['aapl', 'aapl', 'aapl', 'aapl', 'aaww', 'aaww', 'aaww', 'aaww'], \n",
    "    'Data2': [11, 8, 10, 15, 110, 60, 100, 40],\n",
    "    'Data3': [5, 8, 6, 1, 50, 100, 60, 120]\n",
    "})\n",
    "print(pd.pivot_table(data=df,index='Date',columns='Sym', aggfunc={'Data2':'sum','Data3':'sum'}))"
   ]
  },
  {
   "cell_type": "code",
   "execution_count": 160,
   "metadata": {},
   "outputs": [
    {
     "name": "stdout",
     "output_type": "stream",
     "text": [
      "Index(['Report_Time', 'Subsystem', 'A', 'B', 'Type', 'Meter_Value'], dtype='object')\n",
      "(Timestamp('2021-02-04 11:03:34'), 'Subsystem', [0, 0, 0, 0])\n",
      "(Timestamp('2021-02-04 11:03:35'), 'Subsystem', [0, 0, 0, 0])\n",
      "(Timestamp('2021-02-04 11:03:34'), 'A', [21, 6, 18, 21])\n",
      "(Timestamp('2021-02-04 11:03:35'), 'A', [6, 19, 21, 18])\n",
      "(Timestamp('2021-02-04 11:03:34'), 'B', [0, 6, 1, 0])\n",
      "(Timestamp('2021-02-04 11:03:35'), 'B', [6, 2, 0, 1])\n",
      "(Timestamp('2021-02-04 11:03:34'), 'Type', [0, 0, 0, 0])\n",
      "(Timestamp('2021-02-04 11:03:35'), 'Type', [0, 0, 0, 0])\n",
      "(Timestamp('2021-02-04 11:03:34'), 'Meter_Value', ['5236', '58', '1770', '5237'])\n",
      "(Timestamp('2021-02-04 11:03:35'), 'Meter_Value', ['57', '1732', '5238', '1769'])\n"
     ]
    }
   ],
   "source": [
    "from collections import defaultdict\n",
    "\n",
    "dct = {'Report_Time': {5813: pd.Timestamp('2021-02-04 11:03:34'), 5823: \n",
    "                       pd.Timestamp('2021-02-04 11:03:34'), 5824: \n",
    "                       pd.Timestamp('2021-02-04 11:03:34'), 5825: \n",
    "                       pd.Timestamp('2021-02-04 11:03:34'), 5829: \n",
    "                       pd.Timestamp('2021-02-04 11:03:35'), 5830: \n",
    "                       pd.Timestamp('2021-02-04 11:03:35'), 5831: \n",
    "                       pd.Timestamp('2021-02-04 11:03:35'), 5839: \n",
    "                       pd.Timestamp('2021-02-04 11:03:35')}, \n",
    "       'Subsystem': {5813: 0, 5823: 0, 5824: 0, 5825: 0, 5829: 0, 5830: 0, 5831: 0, 5839: 0}, 'A': {5813: 21, 5823: 6, 5824: 18, 5825: 21, 5829: 6, 5830: 19, 5831: 21, 5839: 18}, 'B': {5813: 0, 5823: 6, 5824: 1, 5825: 0, 5829: 6, 5830: 2, 5831: 0, 5839: 1}, 'Type': {5813: 0, 5823: 0, 5824: 0, 5825: 0, 5829: 0, 5830: 0, 5831: 0, 5839: 0}, 'Meter_Value': {5813: '5236', 5823: '58', 5824: '1770', 5825: '5237', 5829: '57', 5830: '1732', 5831: '5238', 5839: '1769'}}\n",
    "\n",
    "df = pd.DataFrame(dct)\n",
    "#df=df.set_index('Report_Time')\n",
    "print(df.columns)\n",
    "\n",
    "\n",
    "grouped=df.groupby('Report_Time').agg(lambda x: x.tolist())\n",
    "#print(grouped)\n",
    "\n",
    "\n",
    "results=[ (x.index,key, list(x))  for key,x in grouped.iteritems()]\n",
    "#print(results)\n",
    "\n",
    "\n",
    "tuples=[]\n",
    "for my_tuples in results:\n",
    "    (dates,key,data)=my_tuples\n",
    "    for i in range(len(dates)):\n",
    "        #print(dates[i],key,data[i])\n",
    "        tuples.append((dates[i],key,data[i]))\n",
    "\n",
    "for a_tuple in tuples:\n",
    "    print(a_tuple)"
   ]
  },
  {
   "cell_type": "code",
   "execution_count": 26,
   "metadata": {},
   "outputs": [
    {
     "data": {
      "image/png": "[encoded data removed]",
      "text/plain": [
       "<Figure size 432x288 with 1 Axes>"
      ]
     },
     "metadata": {
      "needs_background": "light"
     },
     "output_type": "display_data"
    },
    {
     "name": "stdout",
     "output_type": "stream",
     "text": [
      "            ACWX_avg   AGG_avg   IWP_avg   IWS_avg\n",
      "Date                                              \n",
      "2010-01-01  0.000000  0.000000  0.000000  0.000000\n",
      "2010-01-04  0.014758  0.000611  0.007410  0.008383\n",
      "2010-01-05  0.010649  0.002057  0.005887  0.008337\n",
      "2010-01-06  0.008600  0.001296  0.005251  0.006998\n",
      "2010-01-07  0.004807  0.000703  0.004504  0.007025\n",
      "2010-01-08  0.005398  0.000677  0.004190  0.006535\n",
      "2010-01-11  0.006028  0.000403  0.003479  0.005447\n",
      "2010-01-12  0.003045  0.001435  0.000799  0.002169\n",
      "2010-01-13  0.003543  0.000527  0.002344  0.003977\n",
      "2010-01-14  0.003435  0.000840  0.002088  0.003926\n",
      "2010-01-15  0.000937  0.000994  0.000164  0.001111\n",
      "2010-01-18  0.000809  0.000859  0.000142  0.000960\n",
      "2010-01-19  0.002353  0.000533  0.001347  0.003039\n",
      "2010-01-20 -0.001268  0.000793  0.000006  0.001379\n",
      "2010-01-21 -0.003980  0.000731 -0.001647 -0.000713\n",
      "2010-01-22 -0.006068  0.000713 -0.003844 -0.003227\n",
      "2010-01-25 -0.003774  0.000618 -0.003134 -0.002345\n",
      "2010-01-26 -0.004366  0.000690 -0.002930 -0.002756\n",
      "2010-01-27 -0.004327  0.000527 -0.002275 -0.002264\n",
      "2010-01-28 -0.005656  0.000374 -0.003530 -0.003391\n"
     ]
    },
    {
     "data": {
      "image/png": "[encoded data removed]",
      "text/plain": [
       "<Figure size 432x288 with 1 Axes>"
      ]
     },
     "metadata": {
      "needs_background": "light"
     },
     "output_type": "display_data"
    },
    {
     "name": "stdout",
     "output_type": "stream",
     "text": [
      "            ACWX2_avg  AGG2_avg  IWP2_avg  IWS2_avg\n",
      "Date                                               \n",
      "2010-01-11   0.006355  0.000541  0.003810  0.005788\n",
      "2010-01-12   0.004751  0.001451  0.002092  0.003857\n",
      "2010-01-13   0.001614  0.000682  0.001566  0.003496\n",
      "2010-01-14   0.001508  0.000403  0.001192  0.002836\n",
      "2010-01-15  -0.001010  0.000760 -0.000962  0.000050\n",
      "2010-01-18   0.000002  0.000926 -0.001271 -0.000965\n",
      "2010-01-19   0.000716  0.000610 -0.000366  0.000769\n",
      "2010-01-20  -0.004289  0.001091 -0.001751 -0.000784\n",
      "2010-01-21  -0.006027  0.000222 -0.001959 -0.001095\n",
      "2010-01-22  -0.009976  0.000907 -0.006315 -0.006127\n",
      "2010-01-25  -0.008432  0.000522 -0.006086 -0.006026\n",
      "2010-01-26  -0.007703  0.000425 -0.004651 -0.004618\n",
      "2010-01-27  -0.008277  0.000316 -0.004233 -0.004385\n",
      "2010-01-28  -0.012420  0.000425 -0.007522 -0.008576\n"
     ]
    },
    {
     "data": {
      "image/png": "[encoded data removed]",
      "text/plain": [
       "<Figure size 432x288 with 1 Axes>"
      ]
     },
     "metadata": {
      "needs_background": "light"
     },
     "output_type": "display_data"
    }
   ],
   "source": [
    "header=['Date','ACWX','AGG','IWP','IWS']\n",
    "\n",
    "data=[('2010-01-01',  0.000000  ,  0.000000  ,  0.000000  ,  0.000000),\n",
    "('2010-01-04',  0.028111  ,  0.001163  ,  0.014115  ,  0.015968),\n",
    "('2010-01-05',  0.003566  ,  0.004550  ,  0.003262  ,  0.008258),\n",
    "('2010-01-06',  0.003554  ,  -0.000578 ,  0.003685  ,  0.003699),\n",
    "('2010-01-07',  -0.007082 ,  -0.001156 ,  0.002160  ,  0.007107),\n",
    "('2010-01-08',  0.007608  ,  0.000578  ,  0.003017  ,  0.004705),\n",
    "('2010-01-11',  0.008730  ,  -0.000772 ,  0.000430  ,  0.000780),\n",
    "('2010-01-12',  -0.011228 ,  0.006372  ,  -0.012028 ,  -0.013517),\n",
    "('2010-01-13',  0.006151  ,  -0.004221 ,  0.010435  ,  0.013439\t),\n",
    "('2010-01-14',  0.002821  ,  0.002601  ,  0.000645  ,  0.003640\t),\n",
    "('2010-01-15',  -0.014068 ,  0.001921  ,  -0.011395 ,  -0.015803),\n",
    "('2010-01-18',  0.000000  ,  0.000000  ,  0.000000  ,  0.000000\t),\n",
    "('2010-01-19',  0.012604  ,  -0.001630 ,  0.009352  ,  0.016846\t),\n",
    "('2010-01-20',  -0.026303 ,  0.002593  ,  -0.009265 ,  -0.010095),\n",
    "('2010-01-21',  -0.023397 ,  0.000288  ,  -0.013484 ,  -0.015691),\n",
    "('2010-01-22',  -0.021487 ,  0.000575  ,  -0.020061 ,  -0.021785),\n",
    "('2010-01-25',  0.013629  ,  -0.000096 ,  0.002250  ,  0.004346\t),\n",
    "('2010-01-26',  -0.008964 ,  0.001244  ,  -0.001347 ,  -0.005949),\n",
    "('2010-01-27',  -0.004020 ,  -0.000765 ,  0.002922  ,  0.001632),\n",
    "('2010-01-28',  -0.016397 ,  -0.000861 ,  -0.013671 ,  -0.012493)]\n",
    "\n",
    "\n",
    "df=pd.DataFrame(data=data, columns=header)\n",
    "df.plot()\n",
    "plt.show()\n",
    "\n",
    "df['ACWX_avg'] = df.iloc[:,1].ewm(span=20).mean()\n",
    "df['AGG_avg'] = df.iloc[:,2].ewm(span=20).mean()\n",
    "df['IWP_avg'] = df.iloc[:,3].ewm(span=20).mean()\n",
    "df['IWS_avg'] = df.iloc[:,4].ewm(span=20).mean()\n",
    "\n",
    "fp=pd.pivot_table(data=df,index='Date',values=['ACWX_avg','AGG_avg','IWP_avg','IWS_avg'])\n",
    "print(fp)\n",
    "fp.plot()\n",
    "plt.xticks(rotation=90)\n",
    "plt.show()\n",
    "\n",
    "\n",
    "df['ACWX2_avg'] = df.iloc[:,1].rolling(\n",
    "    window=7,\n",
    "    center=False\n",
    ").mean()\n",
    "\n",
    "df['AGG2_avg'] = df.iloc[:,2].rolling(\n",
    "    window=7,\n",
    "    center=False\n",
    ").mean()\n",
    "\n",
    "df['IWP2_avg'] = df.iloc[:,3].rolling(\n",
    "    window=7,\n",
    "    center=False\n",
    ").mean()\n",
    "df['IWS2_avg'] = df.iloc[:,4].rolling(\n",
    "   window=7,\n",
    "    center=False\n",
    ").mean()\n",
    "fp=pd.pivot_table(data=df,index='Date',values=['ACWX2_avg','AGG2_avg','IWP2_avg','IWS2_avg'])\n",
    "print(fp)\n",
    "fp.plot()\n",
    "plt.xticks(rotation=90)\n",
    "plt.show()\n",
    "\n"
   ]
  },
  {
   "cell_type": "code",
   "execution_count": 35,
   "metadata": {},
   "outputs": [
    {
     "name": "stdout",
     "output_type": "stream",
     "text": [
      "DatetimeIndex(['2017-01-31', '2017-02-28', '2017-03-31', '2017-04-30',\n",
      "               '2017-05-31', '2017-06-30', '2017-07-31', '2017-08-31',\n",
      "               '2017-09-30', '2017-10-31', '2017-11-30', '2017-12-31'],\n",
      "              dtype='datetime64[ns]', freq='M')\n",
      "<bound method DataFrame.info of                    0         1\n",
      "2017-01-31  0.118710  0.482676\n",
      "2017-02-28  0.307159  0.017013\n",
      "2017-03-31  0.856539  0.803026\n",
      "2017-04-30  0.062894  0.735530\n",
      "2017-05-31  0.051041  0.529307\n",
      "2017-06-30  0.662757  0.881447\n",
      "2017-07-31  0.710762  0.472122\n",
      "2017-08-31  0.751816  0.925514\n",
      "2017-09-30  0.828281  0.133522\n",
      "2017-10-31  0.138732  0.469533\n",
      "2017-11-30  0.093823  0.073245\n",
      "2017-12-31  0.992935  0.135234>\n"
     ]
    }
   ],
   "source": [
    "\n",
    "index= pd.date_range(start='2017-1-1',periods=12,freq='M')\n",
    "\n",
    "print(index)\n",
    "\n",
    "data=np.random.random(size=(12,2))\n",
    "df=pd.DataFrame(data=data,index=index).info\n",
    "print(df)"
   ]
  },
  {
   "cell_type": "code",
   "execution_count": 32,
   "metadata": {},
   "outputs": [
    {
     "name": "stdout",
     "output_type": "stream",
     "text": [
      "<class 'pandas.core.indexes.datetimes.DatetimeIndex'>\n",
      "Activity\n",
      "Breakfast          211\n",
      "Dinner             368\n",
      "Grooming           301\n",
      "Grooming             4\n",
      "Leaving             19\n",
      "Lunch              481\n",
      "Showering          223\n",
      "Sleeping         14340\n",
      "Snack               41\n",
      "Spare_Time/TV    13825\n",
      "Toileting          495\n",
      "Name: Duration (Minutes), dtype: int64\n"
     ]
    }
   ],
   "source": []
  },
  {
   "cell_type": "code",
   "execution_count": null,
   "metadata": {},
   "outputs": [],
   "source": []
  }
 ],
 "metadata": {
  "kernelspec": {
   "display_name": "Python 3",
   "language": "python",
   "name": "python3"
  },
  "language_info": {
   "codemirror_mode": {
    "name": "ipython",
    "version": 3
   },
   "file_extension": ".py",
   "mimetype": "text/x-python",
   "name": "python",
   "nbconvert_exporter": "python",
   "pygments_lexer": "ipython3",
   "version": "3.7.9"
  }
 },
 "nbformat": 4,
 "nbformat_minor": 4
}
