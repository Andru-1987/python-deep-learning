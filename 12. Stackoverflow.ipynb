{
 "cells": [
  {
   "cell_type": "code",
   "execution_count": 56,
   "id": "42d7ebe0",
   "metadata": {},
   "outputs": [],
   "source": [
    "import pandas as pd\n",
    "import matplotlib.pyplot as plt\n",
    "import numpy as np\n",
    "import re\n",
    "from io import StringIO\n",
    "import io\n",
    "from collections import namedtuple\n",
    "from datetime import datetime,timedelta\n",
    "import sys\n",
    "import json\n",
    "import ast\n",
    "from sklearn.decomposition import PCA\n",
    "from sklearn.preprocessing import StandardScaler\n",
    "from sklearn.pipeline import Pipeline\n",
    "from sklearn.model_selection import train_test_split\n",
    "from sklearn.impute import SimpleImputer\n",
    "from sklearn.linear_model import LinearRegression\n",
    "from scipy.stats import pearsonr\n",
    "import seaborn as sns\n",
    "import numpy as np\n",
    "from scipy import interpolate\n",
    "from scipy.interpolate import interp1d\n",
    "from scipy.interpolate import interpolate"
   ]
  },
  {
   "cell_type": "code",
   "execution_count": 62,
   "id": "a8e6debf",
   "metadata": {},
   "outputs": [
    {
     "name": "stdout",
     "output_type": "stream",
     "text": [
      "5 5\n"
     ]
    },
    {
     "data": {
      "image/png": "[encoded data removed]",
      "text/plain": [
       "<Figure size 432x288 with 1 Axes>"
      ]
     },
     "metadata": {
      "needs_background": "light"
     },
     "output_type": "display_data"
    }
   ],
   "source": [
    "#,  (-2.5, -4), (0, -1), (2.5, -4), (3, -1),\n",
    "plist = [(3 , 1), (2.5, 4), (0, 1), (-2.5, 4),(-3, 0)]\n",
    "\n",
    "mylist=iter(plist)\n",
    "\n",
    "list_x=[]\n",
    "list_y=[]\n",
    "first_time=True\n",
    "while True:\n",
    "    try:\n",
    "        \n",
    "        if first_time:\n",
    "            x1,y1=next(mylist)\n",
    "            x2,y2=next(mylist)\n",
    "            plt.scatter([x1,x2],[y1,y2])\n",
    "            x=np.linspace(x1, x2, num=11, endpoint=True)\n",
    "            y=np.linspace(y1, y2, num=11, endpoint=True)\n",
    "            first_time=False\n",
    "            prev_x=x2\n",
    "            prev_y=y2\n",
    "            list_x.append(x)\n",
    "            list_y.append(y)\n",
    "        else:\n",
    "            x1,y1=next(mylist)\n",
    "            x=np.linspace(prev_x,x1, num=11, endpoint=True)\n",
    "            y=np.linspace(prev_y, y1, num=11, endpoint=True)\n",
    "            prev_x=x1\n",
    "            prev_y=y1\n",
    "            plt.scatter([prev_x,x1],[prev_y,y1])\n",
    "            list_x.append(x)\n",
    "            list_y.append(y)\n",
    "\n",
    "        plt.plot(x, y)\n",
    "        \n",
    "    except StopIteration:\n",
    "        break\n",
    "        \n",
    "list_x=[]\n",
    "list_y=[]\n",
    "for x,y in plist:\n",
    "    list_x.append(x)\n",
    "    list_y.append(y)\n",
    "    \n",
    "\n",
    "x=np.array(list_x)\n",
    "y=np.array(list_y)\n",
    "print(len(x),len(y))\n",
    "f = interp1d(x,y)\n",
    "f2 = interp1d(x, y, kind='cubic')\n",
    "\n",
    "xnew = np.linspace(min(x), max(x), num=len(x), endpoint=True)\n",
    "plt.plot(x, y, 'o', xnew, f2(xnew), '--')\n",
    "\n",
    "plt.show()"
   ]
  },
  {
   "cell_type": "code",
   "execution_count": 66,
   "id": "a7d4be82",
   "metadata": {},
   "outputs": [
    {
     "name": "stdout",
     "output_type": "stream",
     "text": [
      "[['18', '30'], ['24', '50'], ['33', '21'], ['28', '39'], ['27', '30']]\n",
      "1594.0\n"
     ]
    }
   ],
   "source": [
    "txt=\"\"\"18:30\n",
    "24:50\n",
    "33:21\n",
    "28:39\n",
    "27:30\"\"\"\n",
    "\n",
    "txt=txt.split(\"\\n\")\n",
    "txt=[i.split(\":\") for i in txt]\n",
    "print(txt)\n",
    "txt=[int(i[0])*60+int(i[1]) for i in txt]\n",
    "print(sum(txt)/len(txt))\n"
   ]
  },
  {
   "cell_type": "code",
   "execution_count": null,
   "id": "8b3c9d6a",
   "metadata": {},
   "outputs": [],
   "source": []
  }
 ],
 "metadata": {
  "kernelspec": {
   "display_name": "Python 3 (ipykernel)",
   "language": "python",
   "name": "python3"
  },
  "language_info": {
   "codemirror_mode": {
    "name": "ipython",
    "version": 3
   },
   "file_extension": ".py",
   "mimetype": "text/x-python",
   "name": "python",
   "nbconvert_exporter": "python",
   "pygments_lexer": "ipython3",
   "version": "3.8.12"
  }
 },
 "nbformat": 4,
 "nbformat_minor": 5
}
