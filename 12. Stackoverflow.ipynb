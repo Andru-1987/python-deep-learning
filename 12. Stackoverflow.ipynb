{
 "cells": [
  {
   "cell_type": "code",
   "execution_count": 1,
   "id": "42d7ebe0",
   "metadata": {},
   "outputs": [],
   "source": [
    "import pandas as pd\n",
    "import matplotlib.pyplot as plt\n",
    "import numpy as np\n",
    "import re\n",
    "from io import StringIO\n",
    "import io\n",
    "from collections import namedtuple\n",
    "from datetime import datetime,timedelta\n",
    "import sys\n",
    "import json\n",
    "import ast\n",
    "from sklearn.decomposition import PCA\n",
    "from sklearn.preprocessing import StandardScaler\n",
    "from sklearn.pipeline import Pipeline\n",
    "from sklearn.model_selection import train_test_split\n",
    "from sklearn.impute import SimpleImputer\n",
    "from sklearn.linear_model import LinearRegression\n",
    "from scipy.stats import pearsonr\n",
    "import seaborn as sns\n",
    "import numpy as np\n",
    "from scipy import interpolate\n",
    "from scipy.interpolate import interp1d\n",
    "from scipy.interpolate import interpolate\n",
    "import functools"
   ]
  },
  {
   "cell_type": "code",
   "execution_count": 2,
   "id": "a8e6debf",
   "metadata": {},
   "outputs": [
    {
     "name": "stdout",
     "output_type": "stream",
     "text": [
      "6 6\n"
     ]
    },
    {
     "data": {
      "image/png": "[encoded data removed]",
      "text/plain": [
       "<Figure size 432x288 with 1 Axes>"
      ]
     },
     "metadata": {
      "needs_background": "light"
     },
     "output_type": "display_data"
    }
   ],
   "source": [
    "#,  (-2.5, -4), (0, -1), (2.5, -4), (3, -1),\n",
    "plist = [(3 , 1),\n",
    "         (2.7,3),\n",
    "         (2, 4), \n",
    "         (0, 1),\n",
    "         (-2.5, 4),\n",
    "         (-3, 0)]\n",
    "\n",
    "mylist=iter(plist)\n",
    "\n",
    "list_x=[]\n",
    "list_y=[]\n",
    "first_time=True\n",
    "while True:\n",
    "    try:\n",
    "        \n",
    "        if first_time:\n",
    "            x1,y1=next(mylist)\n",
    "            x2,y2=next(mylist)\n",
    "            plt.scatter([x1,x2],[y1,y2])\n",
    "            x=np.linspace(x1, x2, num=11, endpoint=True)\n",
    "            y=np.linspace(y1, y2, num=11, endpoint=True)\n",
    "            first_time=False\n",
    "            prev_x=x2\n",
    "            prev_y=y2\n",
    "            list_x.append(x)\n",
    "            list_y.append(y)\n",
    "        else:\n",
    "            x1,y1=next(mylist)\n",
    "            x=np.linspace(prev_x,x1, num=11, endpoint=True)\n",
    "            y=np.linspace(prev_y, y1, num=11, endpoint=True)\n",
    "            prev_x=x1\n",
    "            prev_y=y1\n",
    "            plt.scatter([prev_x,x1],[prev_y,y1])\n",
    "            list_x.append(x)\n",
    "            list_y.append(y)\n",
    "\n",
    "        plt.plot(x, y)\n",
    "        \n",
    "    except StopIteration:\n",
    "        break\n",
    "        \n",
    "list_x=[]\n",
    "list_y=[]\n",
    "for x,y in plist:\n",
    "    list_x.append(x)\n",
    "    list_y.append(y)\n",
    "    \n",
    "\n",
    "x=np.array(list_x)\n",
    "y=np.array(list_y)\n",
    "print(len(x),len(y))\n",
    "f = interp1d(x,y)\n",
    "f2 = interp1d(x, y, kind='cubic')\n",
    "\n",
    "xnew = np.linspace(min(x), max(x), num=len(x), endpoint=True)\n",
    "plt.plot(x, y, 'o',xnew, f(xnew), xnew, f2(xnew), '--')\n",
    "\n",
    "plt.show()"
   ]
  },
  {
   "cell_type": "code",
   "execution_count": 3,
   "id": "3b86f03d",
   "metadata": {},
   "outputs": [
    {
     "name": "stdout",
     "output_type": "stream",
     "text": [
      "['05-05-2015', -40]\n",
      "['05-05-2015', 30]\n",
      "['07-05-2015', -75]\n",
      "['05-05-2015', -40]\n",
      "['05-05-2015', 120]\n",
      "['07-05-2015', -150]\n",
      "[['05-05-2015', 70], ['07-05-2015', -225]]\n"
     ]
    }
   ],
   "source": [
    "lst = [['05-05-2015', -40], ['05-05-2015', 30], ['07-05-2015', -75], ['05-05-2015', -40], ['05-05-2015', 120], ['07-05-2015', -150]]\n",
    "\n",
    "df=pd.DataFrame(columns=['Date','Amount'])\n",
    "for item in lst:\n",
    "    print(item)\n",
    "    df=df.append({'Date':item[0],'Amount':item[1]},ignore_index=True)\n",
    "    \n",
    "df.set_index('Date',inplace=True)\n",
    "grouped=df.groupby(df.index)['Amount'].sum()\n",
    "\n",
    "res=[[item[0],item[1]] for item in grouped.items()]\n",
    "\n",
    "print(res)    "
   ]
  },
  {
   "cell_type": "code",
   "execution_count": 29,
   "id": "020fdd7c",
   "metadata": {},
   "outputs": [
    {
     "name": "stdout",
     "output_type": "stream",
     "text": [
      "          value\n",
      "0  [raj, kumar]\n",
      "1  [kill, bill]\n",
      "       value\n",
      "0  raj kumar\n",
      "1  kill bill\n"
     ]
    }
   ],
   "source": [
    "data=[{'value': ['raj', 'kumar']},\n",
    "{'value':  ['kill', 'bill']}]\n",
    "df=pd.DataFrame(data)\n",
    "print(df)\n",
    "def concatWords(lst):\n",
    "    return functools.reduce(lambda x,y: x+\" \"+y,lst)\n",
    "df[\"value\"]=df[\"value\"].apply(concatWords)\n",
    "print(df)"
   ]
  },
  {
   "cell_type": "code",
   "execution_count": 38,
   "id": "b8108766",
   "metadata": {},
   "outputs": [
    {
     "name": "stdout",
     "output_type": "stream",
     "text": [
      "[(27, 10), (27, 30), (30, 23.4), (30, 28.6), (43, 10), (43, 15), (50, 20), (62, 25), (62, 50)]\n",
      "{43: 5, 50: 20, 30: 5.200000000000003, 27: 20, 62: 25}\n"
     ]
    }
   ],
   "source": [
    "data = {'Name': [27, 27, 30, 30, 43, 43, 50, 62, 62],\n",
    "        'Time': [10, 30, 23.4, 28.6, 10, 15, 20, 25, 50]}\n",
    "\n",
    "keys=set(data['Name'])\n",
    "lst=list(zip(data['Name'],data['Time']))\n",
    "print(lst)\n",
    "\n",
    "results={}\n",
    "for key in keys:\n",
    "    value=functools.reduce(lambda x,y: y-x ,[x[1] for x in lst if x[0]==key])\n",
    "    results[key]=value\n",
    "    \n",
    "print(results)"
   ]
  },
  {
   "cell_type": "code",
   "execution_count": null,
   "id": "eac3e78b",
   "metadata": {},
   "outputs": [
    {
     "name": "stderr",
     "output_type": "stream",
     "text": [
      "C:\\Users\\dnishimoto\\Anaconda3\\envs\\deeplearning\\lib\\site-packages\\keras\\optimizer_v2\\adam.py:105: UserWarning: The `lr` argument is deprecated, use `learning_rate` instead.\n",
      "  super(Adam, self).__init__(name, **kwargs)\n"
     ]
    },
    {
     "name": "stdout",
     "output_type": "stream",
     "text": [
      "Model: \"sequential_31\"\n",
      "_________________________________________________________________\n",
      " Layer (type)                Output Shape              Param #   \n",
      "=================================================================\n",
      " dense_149 (Dense)           (None, 25)                650       \n",
      "                                                                 \n",
      " dense_150 (Dense)           (None, 128)               3328      \n",
      "                                                                 \n",
      " dense_151 (Dense)           (None, 128)               16512     \n",
      "                                                                 \n",
      " dense_152 (Dense)           (None, 128)               16512     \n",
      "                                                                 \n",
      " dense_153 (Dense)           (None, 1)                 129       \n",
      "                                                                 \n",
      "=================================================================\n",
      "Total params: 37,131\n",
      "Trainable params: 37,131\n",
      "Non-trainable params: 0\n",
      "_________________________________________________________________\n"
     ]
    }
   ],
   "source": [
    "from tensorflow.keras.models import Sequential\n",
    "from tensorflow.keras.layers import Dense\n",
    "from sklearn.metrics import classification_report,confusion_matrix\n",
    "from tensorflow.keras.optimizers import Adam\n",
    "from tensorflow.keras.models import Model\n",
    "from sklearn.preprocessing import StandardScaler\n",
    "from sklearn.model_selection import train_test_split\n",
    "\n",
    "batch_size=67300\n",
    "data = np.random.rand(batch_size, 25)\n",
    "#for item in data:\n",
    "#    print(item)\n",
    "label = np.random.randint(0,2,(batch_size,1))\n",
    "#print(data)\n",
    "df=pd.DataFrame(data)\n",
    "df2=pd.DataFrame(label,columns=[\"Target\"])\n",
    "df=pd.concat([df,df2],axis=1)\n",
    "#print(df)\n",
    "\n",
    "columns=[x for x in df.columns if x!=\"Target\"]\n",
    "X=df[columns]\n",
    "y=df[\"Target\"]\n",
    "\n",
    "\n",
    "X_train, X_test, y_train, y_test = train_test_split(X, y,test_size=0.3, random_state=42)\n",
    "scaler = StandardScaler()\n",
    "scaler.fit(X_train)\n",
    "X_train=scaler.transform(X_train)\n",
    "X_test=scaler.transform(X_test)\n",
    "\n",
    "model= Sequential()\n",
    "\n",
    "model.add(Dense(25, input_shape=(len(columns),),activation='relu'))\n",
    "model.add(Dense(128, activation='relu'))\n",
    "model.add(Dense(128, activation='relu'))\n",
    "model.add(Dense(128, activation='relu'))\n",
    "model.add(Dense(1, activation='sigmoid'))\n",
    "\n",
    "#model.compile(optimizer=Adam(0.01),loss='binary_crossentropy')\n",
    "model.compile(loss='binary_crossentropy', optimizer=Adam(lr=0.001), metrics=['accuracy'])\n",
    "\n",
    "model.summary()\n",
    "\n",
    "history=model.fit(X_train, y_train,epochs = 100,verbose=0)\n",
    "\n",
    "model.evaluate(X_test, y_test)\n",
    "\n",
    "plt.plot(history.history['loss'])\n",
    "plt.title('loss accuracy')\n",
    "plt.ylabel('accuracy')\n",
    "plt.xlabel('epoch')\n",
    "plt.legend(['train', 'test'], loc='upper left')\n",
    "plt.show()\n",
    "\n"
   ]
  },
  {
   "cell_type": "code",
   "execution_count": 101,
   "id": "ae5402b4",
   "metadata": {},
   "outputs": [
    {
     "name": "stdout",
     "output_type": "stream",
     "text": [
      "['loss', 'accuracy']\n"
     ]
    }
   ],
   "source": [
    "print(model.metrics_names)\n",
    "\n"
   ]
  },
  {
   "cell_type": "code",
   "execution_count": null,
   "id": "414fd63f",
   "metadata": {},
   "outputs": [],
   "source": []
  }
 ],
 "metadata": {
  "kernelspec": {
   "display_name": "Python 3 (ipykernel)",
   "language": "python",
   "name": "python3"
  },
  "language_info": {
   "codemirror_mode": {
    "name": "ipython",
    "version": 3
   },
   "file_extension": ".py",
   "mimetype": "text/x-python",
   "name": "python",
   "nbconvert_exporter": "python",
   "pygments_lexer": "ipython3",
   "version": "3.8.12"
  }
 },
 "nbformat": 4,
 "nbformat_minor": 5
}
